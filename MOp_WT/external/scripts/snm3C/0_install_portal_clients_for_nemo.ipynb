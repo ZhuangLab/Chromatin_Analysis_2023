{
 "cells": [
  {
   "cell_type": "markdown",
   "id": "6f170799",
   "metadata": {},
   "source": [
    "## Installation"
   ]
  },
  {
   "cell_type": "code",
   "execution_count": null,
   "id": "fc526b85",
   "metadata": {},
   "outputs": [],
   "source": [
    "## https://github.com/IGS/portal_client/blob/master/INSTALL.md"
   ]
  },
  {
   "cell_type": "raw",
   "id": "a24d781a",
   "metadata": {},
   "source": [
    "# Do these in a WSL so portal_client can be directly invoked in terminal after installation\n",
    "\n",
    "# clone or download the code package to Documents\n",
    "https://github.com/IGS/portal_client\n",
    "\n",
    "# create an env for using the package\n",
    "conda create -n nemo_client python=3.6\n",
    "\n",
    "# activate the env\n",
    "conda activate nemo_client \n",
    "\n",
    "\n",
    "# change directory to portal_client\n",
    "cd portal_client\n",
    "\n",
    "# install by pip\n",
    "pip install .\n",
    "\n",
    "\n"
   ]
  },
  {
   "cell_type": "markdown",
   "id": "574a6ac2",
   "metadata": {},
   "source": [
    "## Test and download"
   ]
  },
  {
   "cell_type": "code",
   "execution_count": null,
   "id": "0dbca8d5",
   "metadata": {},
   "outputs": [],
   "source": [
    "## https://github.com/IGS/portal_client/blob/master/README.md"
   ]
  },
  {
   "cell_type": "code",
   "execution_count": 10,
   "id": "d97cc159",
   "metadata": {},
   "outputs": [],
   "source": [
    "# after installed through WSL, use WSL to invoke as noted in the link above "
   ]
  },
  {
   "cell_type": "raw",
   "id": "1c8ea6bb",
   "metadata": {},
   "source": [
    "# test\n",
    "portal_client --manifest /home/shiwei/documents/resources/mouse_brain_m3C/NeMO_manifest_5a50b63d_test.tsv \\\n",
    "  --destination /mnt/d/mouse_brain_3mC/test\n",
    "\n",
    "\n",
    "# download\n",
    "portal_client --disable-validation --manifest /home/shiwei/documents/resources/mouse_brain_m3C/NeMO_manifest_contactOnly_Isocortex.tsv \\\n",
    "  --destination /mnt/d/mouse_brain_3mC/downloads"
   ]
  }
 ],
 "metadata": {
  "kernelspec": {
   "display_name": "Python 3 (ipykernel)",
   "language": "python",
   "name": "python3"
  },
  "language_info": {
   "codemirror_mode": {
    "name": "ipython",
    "version": 3
   },
   "file_extension": ".py",
   "mimetype": "text/x-python",
   "name": "python",
   "nbconvert_exporter": "python",
   "pygments_lexer": "ipython3",
   "version": "3.10.8"
  },
  "toc": {
   "base_numbering": 1,
   "nav_menu": {},
   "number_sections": false,
   "sideBar": true,
   "skip_h1_title": false,
   "title_cell": "Table of Contents",
   "title_sidebar": "Contents",
   "toc_cell": false,
   "toc_position": {},
   "toc_section_display": true,
   "toc_window_display": true
  }
 },
 "nbformat": 4,
 "nbformat_minor": 5
}
