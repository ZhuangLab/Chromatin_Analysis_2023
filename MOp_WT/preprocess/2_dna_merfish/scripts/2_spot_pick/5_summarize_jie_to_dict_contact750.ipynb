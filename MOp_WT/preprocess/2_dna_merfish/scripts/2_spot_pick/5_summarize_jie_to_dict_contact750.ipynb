{
 "cells": [
  {
   "cell_type": "markdown",
   "metadata": {},
   "source": [
    "\n",
    "\n",
    "# 0. Import Packages\n",
    "\n",
    "The link to get [ImageAnalysis3](https://github.com/zhengpuas47/ImageAnalysis3) \n",
    "\n",
    "or the Zhuang lab archived [source_tools](https://github.com/ZhuangLab/Chromatin_Analysis_2020_cell/tree/master/sequential_tracing/source)"
   ]
  },
  {
   "cell_type": "code",
   "execution_count": 1,
   "id": "f58611f3",
   "metadata": {},
   "outputs": [
    {
     "name": "stdout",
     "output_type": "stream",
     "text": [
      "6756\n"
     ]
    }
   ],
   "source": [
    "import os\n",
    "import numpy as np\n",
    "import pandas as pd\n",
    "import matplotlib.pyplot as plt\n",
    "import pickle\n",
    "from tqdm import tqdm\n",
    "\n",
    "from scipy.spatial.distance import pdist, squareform\n",
    "\n",
    "import sys\n",
    "sys.path.append(r'C:\\Users\\cosmosyw\\Documents\\Softwares')\n",
    "import DNA_analysis\n",
    "from DNA_analysis.postanalysis import AB_calling\n",
    "import ImageAnalysis3 as ia\n",
    "\n",
    "print(os.getpid())"
   ]
  },
  {
   "cell_type": "markdown",
   "id": "29babdf7",
   "metadata": {},
   "source": [
    "# Generate contact dictionary"
   ]
  },
  {
   "cell_type": "markdown",
   "metadata": {},
   "source": [
    "## 0.1. Folders\n",
    "\n",
    "The sorted spots are generated from the jupyter notebook here:\n",
    "\n",
    " [4_summarize_jie_to_dict](4_summarize_jie_to_dict.ipynb)."
   ]
  },
  {
   "cell_type": "code",
   "execution_count": 2,
   "id": "fb020655",
   "metadata": {},
   "outputs": [],
   "source": [
    "postanalysis_folder = r'\\\\KOLMOGOROV\\Chromatin_NAS_8\\Analyzed_data\\MouseBrain_PostAnalysis_0312'\n",
    "class_2_zxysDict = np.load(os.path.join(postanalysis_folder, 'class_2_chr2Zxys.pkl'), allow_pickle=True)"
   ]
  },
  {
   "cell_type": "markdown",
   "metadata": {},
   "source": [
    "Get an example of below [codebook](../../resources/merged_codebook_w_celltype_w_rank.csv)"
   ]
  },
  {
   "cell_type": "code",
   "execution_count": 3,
   "id": "843527c8",
   "metadata": {},
   "outputs": [],
   "source": [
    "codebook = pd.read_csv(os.path.join(postanalysis_folder, 'merged_codebook_w_celltype_w_rank.csv'))"
   ]
  },
  {
   "cell_type": "code",
   "execution_count": 4,
   "id": "22a0611a",
   "metadata": {},
   "outputs": [
    {
     "name": "stdout",
     "output_type": "stream",
     "text": [
      "-- preparing chr_2_zxys from 22173 cells in 6.425s.\n",
      "-- summarize 231 inter-chr distances with 20 threads in 209.195s.\n",
      "-- preparing chr_2_zxys from 3483 cells in 1.019s.\n",
      "-- summarize 231 inter-chr distances with 20 threads in 34.829s.\n",
      "-- preparing chr_2_zxys from 4970 cells in 1.110s.\n",
      "-- summarize 231 inter-chr distances with 20 threads in 32.539s.\n",
      "-- preparing chr_2_zxys from 3738 cells in 0.662s.\n",
      "-- summarize 231 inter-chr distances with 20 threads in 27.395s.\n",
      "-- preparing chr_2_zxys from 1836 cells in 0.497s.\n",
      "-- summarize 231 inter-chr distances with 20 threads in 21.613s.\n",
      "-- preparing chr_2_zxys from 8057 cells in 2.721s.\n",
      "-- summarize 231 inter-chr distances with 20 threads in 88.324s.\n",
      "Saving to: \\\\KOLMOGOROV\\Chromatin_NAS_8\\Analyzed_data\\MouseBrain_PostAnalysis_0312\\class_2_contactDict_750.pkl\n"
     ]
    },
    {
     "ename": "FileNotFoundError",
     "evalue": "[Errno 2] No such file or directory: '\\\\\\\\KOLMOGOROV\\\\Chromatin_NAS_8\\\\Analyzed_data\\\\MouseBrain_PostAnalysis_0312\\\\class_2_contactDict_750.pkl'",
     "output_type": "error",
     "traceback": [
      "\u001b[1;31m---------------------------------------------------------------------------\u001b[0m",
      "\u001b[1;31mFileNotFoundError\u001b[0m                         Traceback (most recent call last)",
      "Input \u001b[1;32mIn [4]\u001b[0m, in \u001b[0;36m<cell line: 7>\u001b[1;34m()\u001b[0m\n\u001b[0;32m     14\u001b[0m     class_2_contactDict[_class] \u001b[38;5;241m=\u001b[39m Chr2ZxysList_2_summaryDict(\n\u001b[0;32m     15\u001b[0m         class_2_zxysDict[_class], \n\u001b[0;32m     16\u001b[0m         total_codebook\u001b[38;5;241m=\u001b[39mcodebook, \n\u001b[0;32m     17\u001b[0m         function\u001b[38;5;241m=\u001b[39mia\u001b[38;5;241m.\u001b[39mstructure_tools\u001b[38;5;241m.\u001b[39mdistance\u001b[38;5;241m.\u001b[39mcontact_prob,\n\u001b[0;32m     18\u001b[0m         num_threads\u001b[38;5;241m=\u001b[39m\u001b[38;5;241m20\u001b[39m, verbose\u001b[38;5;241m=\u001b[39m\u001b[38;5;28;01mTrue\u001b[39;00m)\n\u001b[0;32m     19\u001b[0m \u001b[38;5;28mprint\u001b[39m(\u001b[38;5;124mf\u001b[39m\u001b[38;5;124m\"\u001b[39m\u001b[38;5;124mSaving to: \u001b[39m\u001b[38;5;132;01m{\u001b[39;00mclass_2_contact_filename\u001b[38;5;132;01m}\u001b[39;00m\u001b[38;5;124m\"\u001b[39m)\n\u001b[1;32m---> 20\u001b[0m pickle\u001b[38;5;241m.\u001b[39mdump(class_2_contactDict, \u001b[38;5;28;43mopen\u001b[39;49m\u001b[43m(\u001b[49m\u001b[43mclass_2_contact_filename\u001b[49m\u001b[43m,\u001b[49m\u001b[43m \u001b[49m\u001b[38;5;124;43m'\u001b[39;49m\u001b[38;5;124;43mwb\u001b[39;49m\u001b[38;5;124;43m'\u001b[39;49m\u001b[43m)\u001b[49m)\n",
      "\u001b[1;31mFileNotFoundError\u001b[0m: [Errno 2] No such file or directory: '\\\\\\\\KOLMOGOROV\\\\Chromatin_NAS_8\\\\Analyzed_data\\\\MouseBrain_PostAnalysis_0312\\\\class_2_contactDict_750.pkl'"
     ]
    }
   ],
   "source": [
    "from ImageAnalysis3.structure_tools.distance import Chr2ZxysList_2_summaryDist_by_key,Chr2ZxysList_2_summaryDict\n",
    "\n",
    "contact_th = 750\n",
    "class_2_contact_filename = os.path.join(postanalysis_folder, \n",
    "                                           f'class_2_contactDict_{contact_th}.pkl')\n",
    "\n",
    "if os.path.exists(class_2_contact_filename):\n",
    "    print(\"Loading\")\n",
    "    class_2_contactDict = np.load(class_2_contact_filename, allow_pickle=True)\n",
    "else:\n",
    "    # calculate prob\n",
    "    class_2_contactDict = {}\n",
    "    for _class in class_2_zxysDict:\n",
    "        class_2_contactDict[_class] = Chr2ZxysList_2_summaryDict(\n",
    "            class_2_zxysDict[_class], \n",
    "            total_codebook=codebook, \n",
    "            function=ia.structure_tools.distance.contact_prob,\n",
    "            num_threads=20, verbose=True)\n",
    "    print(f\"Saving to: {class_2_contact_filename}\")\n",
    "    pickle.dump(class_2_contactDict, open(class_2_contact_filename, 'wb'))"
   ]
  }
 ],
 "metadata": {
  "kernelspec": {
   "display_name": "merlin_postanalysis",
   "language": "python",
   "name": "merlin_postanalysis"
  },
  "language_info": {
   "codemirror_mode": {
    "name": "ipython",
    "version": 3
   },
   "file_extension": ".py",
   "mimetype": "text/x-python",
   "name": "python",
   "nbconvert_exporter": "python",
   "pygments_lexer": "ipython3",
   "version": "3.9.12"
  }
 },
 "nbformat": 4,
 "nbformat_minor": 5
}
