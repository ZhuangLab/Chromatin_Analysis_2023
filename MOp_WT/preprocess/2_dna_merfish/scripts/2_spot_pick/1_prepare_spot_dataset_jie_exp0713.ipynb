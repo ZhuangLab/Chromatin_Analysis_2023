{
 "cells": [
  {
   "cell_type": "markdown",
   "metadata": {},
   "source": [
    "# 1. Import packages\n",
    "\n",
    "The link to get [ImageAnalysis3](https://github.com/zhengpuas47/ImageAnalysis3) \n",
    "\n",
    "or the Zhuang lab archived [source_tools](https://github.com/ZhuangLab/Chromatin_Analysis_2020_cell/tree/master/sequential_tracing/source)"
   ]
  },
  {
   "cell_type": "code",
   "execution_count": 1,
   "metadata": {},
   "outputs": [],
   "source": [
    "import os"
   ]
  },
  {
   "cell_type": "code",
   "execution_count": 2,
   "metadata": {},
   "outputs": [
    {
     "name": "stdout",
     "output_type": "stream",
     "text": [
      "4760\n"
     ]
    }
   ],
   "source": [
    "%run \"C:\\Users\\shiwei\\Documents\\ImageAnalysis3\\required_files\\Startup_py3.py\"\n",
    "sys.path.append(r\"C:\\Users\\shiwei\\Documents\")\n",
    "\n",
    "import ImageAnalysis3 as ia\n",
    "%matplotlib notebook\n",
    "\n",
    "from ImageAnalysis3 import *\n",
    "print(os.getpid())\n",
    "\n",
    "import h5py\n",
    "from ImageAnalysis3.classes import _allowed_kwds\n",
    "import ast\n",
    "\n",
    "import pandas as pd"
   ]
  },
  {
   "cell_type": "markdown",
   "metadata": {},
   "source": [
    "# 2. Load refgen df"
   ]
  },
  {
   "cell_type": "code",
   "execution_count": 3,
   "metadata": {},
   "outputs": [],
   "source": [
    "codebook_folder = r'\\\\10.245.74.158\\Chromatin_NAS_8\\Analyzed_data\\MouseBrain_PostAnalysis'\n",
    "df_refgen_savename = os.path.join(codebook_folder,'refgen_df_for_jie.csv')"
   ]
  },
  {
   "cell_type": "code",
   "execution_count": 4,
   "metadata": {},
   "outputs": [
    {
     "data": {
      "text/html": [
       "<div>\n",
       "<style scoped>\n",
       "    .dataframe tbody tr th:only-of-type {\n",
       "        vertical-align: middle;\n",
       "    }\n",
       "\n",
       "    .dataframe tbody tr th {\n",
       "        vertical-align: top;\n",
       "    }\n",
       "\n",
       "    .dataframe thead th {\n",
       "        text-align: right;\n",
       "    }\n",
       "</style>\n",
       "<table border=\"1\" class=\"dataframe\">\n",
       "  <thead>\n",
       "    <tr style=\"text-align: right;\">\n",
       "      <th></th>\n",
       "      <th>name</th>\n",
       "      <th>id</th>\n",
       "      <th>chr</th>\n",
       "      <th>chr_order</th>\n",
       "      <th>library</th>\n",
       "      <th>dtype</th>\n",
       "      <th>loci_name</th>\n",
       "      <th>start</th>\n",
       "      <th>end</th>\n",
       "      <th>hyb</th>\n",
       "      <th>delta</th>\n",
       "      <th>region_id</th>\n",
       "    </tr>\n",
       "  </thead>\n",
       "  <tbody>\n",
       "    <tr>\n",
       "      <th>0</th>\n",
       "      <td>1:3742742-3759944</td>\n",
       "      <td>1</td>\n",
       "      <td>chr1</td>\n",
       "      <td>0</td>\n",
       "      <td>CTP11</td>\n",
       "      <td>combo</td>\n",
       "      <td>chr1_3742742_3759944</td>\n",
       "      <td>3742742</td>\n",
       "      <td>3759944</td>\n",
       "      <td>0</td>\n",
       "      <td>0</td>\n",
       "      <td>1</td>\n",
       "    </tr>\n",
       "    <tr>\n",
       "      <th>1</th>\n",
       "      <td>1:6245958-6258969</td>\n",
       "      <td>2</td>\n",
       "      <td>chr1</td>\n",
       "      <td>1</td>\n",
       "      <td>CTP11</td>\n",
       "      <td>combo</td>\n",
       "      <td>chr1_6245958_6258969</td>\n",
       "      <td>6245958</td>\n",
       "      <td>6258969</td>\n",
       "      <td>1</td>\n",
       "      <td>2503216</td>\n",
       "      <td>2</td>\n",
       "    </tr>\n",
       "    <tr>\n",
       "      <th>2</th>\n",
       "      <td>1:8740008-8759916</td>\n",
       "      <td>3</td>\n",
       "      <td>chr1</td>\n",
       "      <td>2</td>\n",
       "      <td>CTP11</td>\n",
       "      <td>combo</td>\n",
       "      <td>chr1_8740008_8759916</td>\n",
       "      <td>8740008</td>\n",
       "      <td>8759916</td>\n",
       "      <td>2</td>\n",
       "      <td>4997266</td>\n",
       "      <td>3</td>\n",
       "    </tr>\n",
       "    <tr>\n",
       "      <th>3</th>\n",
       "      <td>1:9627926-9637875</td>\n",
       "      <td>1</td>\n",
       "      <td>chr1</td>\n",
       "      <td>3</td>\n",
       "      <td>CTP13</td>\n",
       "      <td>combo</td>\n",
       "      <td>chr1_9627926_9637875</td>\n",
       "      <td>9627926</td>\n",
       "      <td>9637875</td>\n",
       "      <td>3</td>\n",
       "      <td>5885184</td>\n",
       "      <td>4</td>\n",
       "    </tr>\n",
       "    <tr>\n",
       "      <th>4</th>\n",
       "      <td>1:9799472-9811359</td>\n",
       "      <td>2</td>\n",
       "      <td>chr1</td>\n",
       "      <td>4</td>\n",
       "      <td>CTP13</td>\n",
       "      <td>combo</td>\n",
       "      <td>chr1_9799472_9811359</td>\n",
       "      <td>9799472</td>\n",
       "      <td>9811359</td>\n",
       "      <td>4</td>\n",
       "      <td>6056730</td>\n",
       "      <td>5</td>\n",
       "    </tr>\n",
       "    <tr>\n",
       "      <th>...</th>\n",
       "      <td>...</td>\n",
       "      <td>...</td>\n",
       "      <td>...</td>\n",
       "      <td>...</td>\n",
       "      <td>...</td>\n",
       "      <td>...</td>\n",
       "      <td>...</td>\n",
       "      <td>...</td>\n",
       "      <td>...</td>\n",
       "      <td>...</td>\n",
       "      <td>...</td>\n",
       "      <td>...</td>\n",
       "    </tr>\n",
       "    <tr>\n",
       "      <th>1977</th>\n",
       "      <td>X:166247682-166259932</td>\n",
       "      <td>1059</td>\n",
       "      <td>chrX</td>\n",
       "      <td>60</td>\n",
       "      <td>CTP11</td>\n",
       "      <td>combo</td>\n",
       "      <td>chrX_166247682_166259932</td>\n",
       "      <td>166247682</td>\n",
       "      <td>166259932</td>\n",
       "      <td>60</td>\n",
       "      <td>159996393</td>\n",
       "      <td>1978</td>\n",
       "    </tr>\n",
       "    <tr>\n",
       "      <th>1978</th>\n",
       "      <td>X:167157164-167167452</td>\n",
       "      <td>990</td>\n",
       "      <td>chrX</td>\n",
       "      <td>61</td>\n",
       "      <td>CTP13</td>\n",
       "      <td>combo</td>\n",
       "      <td>chrX_167157164_167167452</td>\n",
       "      <td>167157164</td>\n",
       "      <td>167167452</td>\n",
       "      <td>61</td>\n",
       "      <td>160905875</td>\n",
       "      <td>1979</td>\n",
       "    </tr>\n",
       "    <tr>\n",
       "      <th>1979</th>\n",
       "      <td>X:168746045-168757590</td>\n",
       "      <td>1060</td>\n",
       "      <td>chrX</td>\n",
       "      <td>62</td>\n",
       "      <td>CTP11</td>\n",
       "      <td>combo</td>\n",
       "      <td>chrX_168746045_168757590</td>\n",
       "      <td>168746045</td>\n",
       "      <td>168757590</td>\n",
       "      <td>62</td>\n",
       "      <td>162494756</td>\n",
       "      <td>1980</td>\n",
       "    </tr>\n",
       "    <tr>\n",
       "      <th>1980</th>\n",
       "      <td>X:169963295-170005197</td>\n",
       "      <td>991</td>\n",
       "      <td>chrX</td>\n",
       "      <td>63</td>\n",
       "      <td>CTP13</td>\n",
       "      <td>combo</td>\n",
       "      <td>chrX_169963295_170005197</td>\n",
       "      <td>169963295</td>\n",
       "      <td>170005197</td>\n",
       "      <td>63</td>\n",
       "      <td>163712006</td>\n",
       "      <td>1981</td>\n",
       "    </tr>\n",
       "    <tr>\n",
       "      <th>1981</th>\n",
       "      <td>Y:1245775-1259992</td>\n",
       "      <td>1062</td>\n",
       "      <td>chrY</td>\n",
       "      <td>0</td>\n",
       "      <td>CTP11</td>\n",
       "      <td>combo</td>\n",
       "      <td>chrY_1245775_1259992</td>\n",
       "      <td>1245775</td>\n",
       "      <td>1259992</td>\n",
       "      <td>0</td>\n",
       "      <td>0</td>\n",
       "      <td>1982</td>\n",
       "    </tr>\n",
       "  </tbody>\n",
       "</table>\n",
       "<p>1982 rows × 12 columns</p>\n",
       "</div>"
      ],
      "text/plain": [
       "                       name    id   chr  chr_order library  dtype  \\\n",
       "0         1:3742742-3759944     1  chr1          0   CTP11  combo   \n",
       "1         1:6245958-6258969     2  chr1          1   CTP11  combo   \n",
       "2         1:8740008-8759916     3  chr1          2   CTP11  combo   \n",
       "3         1:9627926-9637875     1  chr1          3   CTP13  combo   \n",
       "4         1:9799472-9811359     2  chr1          4   CTP13  combo   \n",
       "...                     ...   ...   ...        ...     ...    ...   \n",
       "1977  X:166247682-166259932  1059  chrX         60   CTP11  combo   \n",
       "1978  X:167157164-167167452   990  chrX         61   CTP13  combo   \n",
       "1979  X:168746045-168757590  1060  chrX         62   CTP11  combo   \n",
       "1980  X:169963295-170005197   991  chrX         63   CTP13  combo   \n",
       "1981      Y:1245775-1259992  1062  chrY          0   CTP11  combo   \n",
       "\n",
       "                     loci_name      start        end  hyb      delta  \\\n",
       "0         chr1_3742742_3759944    3742742    3759944    0          0   \n",
       "1         chr1_6245958_6258969    6245958    6258969    1    2503216   \n",
       "2         chr1_8740008_8759916    8740008    8759916    2    4997266   \n",
       "3         chr1_9627926_9637875    9627926    9637875    3    5885184   \n",
       "4         chr1_9799472_9811359    9799472    9811359    4    6056730   \n",
       "...                        ...        ...        ...  ...        ...   \n",
       "1977  chrX_166247682_166259932  166247682  166259932   60  159996393   \n",
       "1978  chrX_167157164_167167452  167157164  167167452   61  160905875   \n",
       "1979  chrX_168746045_168757590  168746045  168757590   62  162494756   \n",
       "1980  chrX_169963295_170005197  169963295  170005197   63  163712006   \n",
       "1981      chrY_1245775_1259992    1245775    1259992    0          0   \n",
       "\n",
       "      region_id  \n",
       "0             1  \n",
       "1             2  \n",
       "2             3  \n",
       "3             4  \n",
       "4             5  \n",
       "...         ...  \n",
       "1977       1978  \n",
       "1978       1979  \n",
       "1979       1980  \n",
       "1980       1981  \n",
       "1981       1982  \n",
       "\n",
       "[1982 rows x 12 columns]"
      ]
     },
     "execution_count": 4,
     "metadata": {},
     "output_type": "execute_result"
    }
   ],
   "source": [
    "df_refgen=pd.read_csv(df_refgen_savename,index_col=0)\n",
    "df_refgen['chr'] = df_refgen['chr'].apply(lambda x: 'chr'+x)\n",
    "df_refgen"
   ]
  },
  {
   "cell_type": "code",
   "execution_count": null,
   "metadata": {},
   "outputs": [],
   "source": []
  },
  {
   "cell_type": "markdown",
   "metadata": {},
   "source": [
    "# 3. Prepare candidate spots"
   ]
  },
  {
   "cell_type": "code",
   "execution_count": 13,
   "metadata": {},
   "outputs": [],
   "source": [
    "replicate_exp = '20220713'"
   ]
  },
  {
   "cell_type": "code",
   "execution_count": 14,
   "metadata": {},
   "outputs": [],
   "source": [
    "decode_main_folder = r'\\\\10.245.74.158\\Chromatin_NAS_8\\Exported_data'\n",
    "decode_exp_folder = os.path.join(decode_main_folder,f'{replicate_exp}-Export')"
   ]
  },
  {
   "cell_type": "raw",
   "metadata": {},
   "source": [
    "## Inspect one fov"
   ]
  },
  {
   "cell_type": "raw",
   "metadata": {},
   "source": [
    "fov_id = 0\n",
    "#cell_id = 0\n",
    "file_name_format = 'Decoded_Fov-' + str(fov_id) + '.hdf5'\n",
    "file_name = os.path.join(decode_exp_folder, file_name_format)\n",
    "print(file_name)\n",
    "os.path.exists(file_name)"
   ]
  },
  {
   "cell_type": "raw",
   "metadata": {},
   "source": [
    "import h5py\n",
    "with h5py.File(file_name, \"r\") as f:\n",
    "    # Print all root level object names (aka keys) \n",
    "    # these can be group or dataset names \n",
    "    print(\"Keys: %s\" % f.keys())\n",
    "    cell_key_list = list(f.keys())"
   ]
  },
  {
   "cell_type": "raw",
   "metadata": {},
   "source": [
    "coords_df = pd.read_hdf(file_name, 'Cell-108')\n",
    "coords_df"
   ]
  },
  {
   "cell_type": "raw",
   "metadata": {},
   "source": [
    "coords_df[coords_df['codebook_name']=='CTP12tss'].head()"
   ]
  },
  {
   "cell_type": "markdown",
   "metadata": {},
   "source": [
    "## Process all fov"
   ]
  },
  {
   "cell_type": "markdown",
   "metadata": {},
   "source": [
    "### shared params"
   ]
  },
  {
   "cell_type": "code",
   "execution_count": 6,
   "metadata": {},
   "outputs": [],
   "source": [
    "pixel_z, pixel_x, pixel_y = 250, 108, 108"
   ]
  },
  {
   "cell_type": "code",
   "execution_count": 7,
   "metadata": {},
   "outputs": [],
   "source": [
    "from tqdm import tqdm"
   ]
  },
  {
   "cell_type": "code",
   "execution_count": 8,
   "metadata": {},
   "outputs": [],
   "source": [
    "# map info from df_ref_gen to coords; hyb should be the same as chromosome order\n",
    "geneID_to_hyb = {name:hyb for name, hyb in zip(df_refgen['name'], df_refgen['hyb'])}    \n",
    "\n",
    "def map_to_hyb(gene_name):\n",
    "    return geneID_to_hyb[gene_name]"
   ]
  },
  {
   "cell_type": "code",
   "execution_count": 9,
   "metadata": {},
   "outputs": [
    {
     "data": {
      "text/plain": [
       "11.328784332"
      ]
     },
     "execution_count": 9,
     "metadata": {},
     "output_type": "execute_result"
    }
   ],
   "source": [
    "4240.806192/pixel_x\n",
    "123492.8160/pixel_y\n",
    "5762.010083/pixel_z\n",
    "2832.196083/pixel_z"
   ]
  },
  {
   "cell_type": "code",
   "execution_count": 10,
   "metadata": {},
   "outputs": [
    {
     "data": {
      "text/plain": [
       "['\\\\\\\\10.245.74.158\\\\Chromatin_NAS_8\\\\Exported_data\\\\20220713-Export\\\\Decoded_Fov-0.hdf5',\n",
       " '\\\\\\\\10.245.74.158\\\\Chromatin_NAS_8\\\\Exported_data\\\\20220713-Export\\\\Decoded_Fov-1.hdf5',\n",
       " '\\\\\\\\10.245.74.158\\\\Chromatin_NAS_8\\\\Exported_data\\\\20220713-Export\\\\Decoded_Fov-10.hdf5']"
      ]
     },
     "execution_count": 10,
     "metadata": {},
     "output_type": "execute_result"
    }
   ],
   "source": [
    "decoded_file_list = [os.path.join(decode_exp_folder, _fl) for _fl in os.listdir(decode_exp_folder) if '.hdf5' in _fl]\n",
    "decoded_file_list[:3]"
   ]
  },
  {
   "cell_type": "markdown",
   "metadata": {},
   "source": [
    "### start process"
   ]
  },
  {
   "cell_type": "code",
   "execution_count": 11,
   "metadata": {},
   "outputs": [],
   "source": [
    "df_list = []\n",
    "# ini file counter\n",
    "file_counts = np.full((len(decoded_file_list),), False)\n",
    "original_length_list = []\n",
    "final_length_list = []\n",
    "cell_ids_list = []"
   ]
  },
  {
   "cell_type": "code",
   "execution_count": 15,
   "metadata": {},
   "outputs": [
    {
     "name": "stderr",
     "output_type": "stream",
     "text": [
      "4it [00:03,  1.16it/s]"
     ]
    },
    {
     "name": "stdout",
     "output_type": "stream",
     "text": [
      "finishing processing \\\\10.245.74.158\\Chromatin_NAS_8\\Exported_data\\20220713-Export\\Decoded_Fov-100.hdf5\n",
      "326737 is kept out of 326737\n"
     ]
    },
    {
     "name": "stderr",
     "output_type": "stream",
     "text": [
      "\r\n",
      "5it [00:06,  1.57s/it]"
     ]
    },
    {
     "name": "stdout",
     "output_type": "stream",
     "text": [
      "finishing processing \\\\10.245.74.158\\Chromatin_NAS_8\\Exported_data\\20220713-Export\\Decoded_Fov-101.hdf5\n",
      "343934 is kept out of 343934\n"
     ]
    },
    {
     "name": "stderr",
     "output_type": "stream",
     "text": [
      "\r\n",
      "6it [00:10,  2.15s/it]"
     ]
    },
    {
     "name": "stdout",
     "output_type": "stream",
     "text": [
      "finishing processing \\\\10.245.74.158\\Chromatin_NAS_8\\Exported_data\\20220713-Export\\Decoded_Fov-102.hdf5\n",
      "412050 is kept out of 412050\n"
     ]
    },
    {
     "name": "stderr",
     "output_type": "stream",
     "text": [
      "\r\n",
      "7it [00:12,  2.13s/it]"
     ]
    },
    {
     "name": "stdout",
     "output_type": "stream",
     "text": [
      "finishing processing \\\\10.245.74.158\\Chromatin_NAS_8\\Exported_data\\20220713-Export\\Decoded_Fov-103.hdf5\n",
      "262992 is kept out of 262992\n"
     ]
    },
    {
     "name": "stderr",
     "output_type": "stream",
     "text": [
      "\r\n",
      "8it [00:16,  2.52s/it]"
     ]
    },
    {
     "name": "stdout",
     "output_type": "stream",
     "text": [
      "finishing processing \\\\10.245.74.158\\Chromatin_NAS_8\\Exported_data\\20220713-Export\\Decoded_Fov-104.hdf5\n",
      "410295 is kept out of 410295\n"
     ]
    },
    {
     "name": "stderr",
     "output_type": "stream",
     "text": [
      "\r\n",
      "9it [00:19,  2.80s/it]"
     ]
    },
    {
     "name": "stdout",
     "output_type": "stream",
     "text": [
      "finishing processing \\\\10.245.74.158\\Chromatin_NAS_8\\Exported_data\\20220713-Export\\Decoded_Fov-105.hdf5\n",
      "372639 is kept out of 372639\n"
     ]
    },
    {
     "name": "stderr",
     "output_type": "stream",
     "text": [
      "\r\n",
      "10it [00:22,  2.85s/it]"
     ]
    },
    {
     "name": "stdout",
     "output_type": "stream",
     "text": [
      "finishing processing \\\\10.245.74.158\\Chromatin_NAS_8\\Exported_data\\20220713-Export\\Decoded_Fov-107.hdf5\n",
      "318571 is kept out of 318571\n"
     ]
    },
    {
     "name": "stderr",
     "output_type": "stream",
     "text": [
      "\r\n",
      "11it [00:26,  3.01s/it]"
     ]
    },
    {
     "name": "stdout",
     "output_type": "stream",
     "text": [
      "finishing processing \\\\10.245.74.158\\Chromatin_NAS_8\\Exported_data\\20220713-Export\\Decoded_Fov-108.hdf5\n",
      "395265 is kept out of 395265\n"
     ]
    },
    {
     "name": "stderr",
     "output_type": "stream",
     "text": [
      "\r\n",
      "12it [00:30,  3.35s/it]"
     ]
    },
    {
     "name": "stdout",
     "output_type": "stream",
     "text": [
      "finishing processing \\\\10.245.74.158\\Chromatin_NAS_8\\Exported_data\\20220713-Export\\Decoded_Fov-109.hdf5\n",
      "395217 is kept out of 395217\n"
     ]
    },
    {
     "name": "stderr",
     "output_type": "stream",
     "text": [
      "\r\n",
      "13it [00:32,  2.99s/it]"
     ]
    },
    {
     "name": "stdout",
     "output_type": "stream",
     "text": [
      "finishing processing \\\\10.245.74.158\\Chromatin_NAS_8\\Exported_data\\20220713-Export\\Decoded_Fov-11.hdf5\n",
      "243267 is kept out of 243267\n"
     ]
    },
    {
     "name": "stderr",
     "output_type": "stream",
     "text": [
      "\r\n",
      "14it [00:36,  3.18s/it]"
     ]
    },
    {
     "name": "stdout",
     "output_type": "stream",
     "text": [
      "finishing processing \\\\10.245.74.158\\Chromatin_NAS_8\\Exported_data\\20220713-Export\\Decoded_Fov-110.hdf5\n",
      "411602 is kept out of 411602\n"
     ]
    },
    {
     "name": "stderr",
     "output_type": "stream",
     "text": [
      "\r\n",
      "15it [00:38,  3.09s/it]"
     ]
    },
    {
     "name": "stdout",
     "output_type": "stream",
     "text": [
      "finishing processing \\\\10.245.74.158\\Chromatin_NAS_8\\Exported_data\\20220713-Export\\Decoded_Fov-111.hdf5\n",
      "336197 is kept out of 336197\n"
     ]
    },
    {
     "name": "stderr",
     "output_type": "stream",
     "text": [
      "\r\n",
      "16it [00:43,  3.45s/it]"
     ]
    },
    {
     "name": "stdout",
     "output_type": "stream",
     "text": [
      "finishing processing \\\\10.245.74.158\\Chromatin_NAS_8\\Exported_data\\20220713-Export\\Decoded_Fov-112.hdf5\n",
      "407327 is kept out of 407327\n"
     ]
    },
    {
     "name": "stderr",
     "output_type": "stream",
     "text": [
      "\r\n",
      "17it [00:45,  3.20s/it]"
     ]
    },
    {
     "name": "stdout",
     "output_type": "stream",
     "text": [
      "finishing processing \\\\10.245.74.158\\Chromatin_NAS_8\\Exported_data\\20220713-Export\\Decoded_Fov-113.hdf5\n",
      "293891 is kept out of 293891\n"
     ]
    },
    {
     "name": "stderr",
     "output_type": "stream",
     "text": [
      "\r\n",
      "18it [00:48,  2.98s/it]"
     ]
    },
    {
     "name": "stdout",
     "output_type": "stream",
     "text": [
      "finishing processing \\\\10.245.74.158\\Chromatin_NAS_8\\Exported_data\\20220713-Export\\Decoded_Fov-114.hdf5\n",
      "271374 is kept out of 271374\n"
     ]
    },
    {
     "name": "stderr",
     "output_type": "stream",
     "text": [
      "\r\n",
      "19it [00:52,  3.22s/it]"
     ]
    },
    {
     "name": "stdout",
     "output_type": "stream",
     "text": [
      "finishing processing \\\\10.245.74.158\\Chromatin_NAS_8\\Exported_data\\20220713-Export\\Decoded_Fov-116.hdf5\n",
      "401978 is kept out of 401978\n"
     ]
    },
    {
     "name": "stderr",
     "output_type": "stream",
     "text": [
      "\r\n",
      "20it [00:55,  3.23s/it]"
     ]
    },
    {
     "name": "stdout",
     "output_type": "stream",
     "text": [
      "finishing processing \\\\10.245.74.158\\Chromatin_NAS_8\\Exported_data\\20220713-Export\\Decoded_Fov-117.hdf5\n",
      "340185 is kept out of 340185\n"
     ]
    },
    {
     "name": "stderr",
     "output_type": "stream",
     "text": [
      "\r\n",
      "21it [00:58,  3.13s/it]"
     ]
    },
    {
     "name": "stdout",
     "output_type": "stream",
     "text": [
      "finishing processing \\\\10.245.74.158\\Chromatin_NAS_8\\Exported_data\\20220713-Export\\Decoded_Fov-118.hdf5\n",
      "308223 is kept out of 308223\n"
     ]
    },
    {
     "name": "stderr",
     "output_type": "stream",
     "text": [
      "\r\n",
      "22it [01:01,  3.21s/it]"
     ]
    },
    {
     "name": "stdout",
     "output_type": "stream",
     "text": [
      "finishing processing \\\\10.245.74.158\\Chromatin_NAS_8\\Exported_data\\20220713-Export\\Decoded_Fov-119.hdf5\n",
      "306791 is kept out of 306791\n"
     ]
    },
    {
     "name": "stderr",
     "output_type": "stream",
     "text": [
      "\r\n",
      "23it [01:05,  3.36s/it]"
     ]
    },
    {
     "name": "stdout",
     "output_type": "stream",
     "text": [
      "finishing processing \\\\10.245.74.158\\Chromatin_NAS_8\\Exported_data\\20220713-Export\\Decoded_Fov-12.hdf5\n",
      "328879 is kept out of 328879\n"
     ]
    },
    {
     "name": "stderr",
     "output_type": "stream",
     "text": [
      "\r\n",
      "24it [01:08,  3.25s/it]"
     ]
    },
    {
     "name": "stdout",
     "output_type": "stream",
     "text": [
      "finishing processing \\\\10.245.74.158\\Chromatin_NAS_8\\Exported_data\\20220713-Export\\Decoded_Fov-120.hdf5\n",
      "339382 is kept out of 339382\n"
     ]
    },
    {
     "name": "stderr",
     "output_type": "stream",
     "text": [
      "\r\n",
      "25it [01:11,  3.33s/it]"
     ]
    },
    {
     "name": "stdout",
     "output_type": "stream",
     "text": [
      "finishing processing \\\\10.245.74.158\\Chromatin_NAS_8\\Exported_data\\20220713-Export\\Decoded_Fov-122.hdf5\n",
      "405073 is kept out of 405073\n"
     ]
    },
    {
     "name": "stderr",
     "output_type": "stream",
     "text": [
      "\r\n",
      "26it [01:15,  3.56s/it]"
     ]
    },
    {
     "name": "stdout",
     "output_type": "stream",
     "text": [
      "finishing processing \\\\10.245.74.158\\Chromatin_NAS_8\\Exported_data\\20220713-Export\\Decoded_Fov-123.hdf5\n",
      "445929 is kept out of 445929\n"
     ]
    },
    {
     "name": "stderr",
     "output_type": "stream",
     "text": [
      "\r\n",
      "27it [01:20,  3.88s/it]"
     ]
    },
    {
     "name": "stdout",
     "output_type": "stream",
     "text": [
      "finishing processing \\\\10.245.74.158\\Chromatin_NAS_8\\Exported_data\\20220713-Export\\Decoded_Fov-125.hdf5\n",
      "419891 is kept out of 419891\n"
     ]
    },
    {
     "name": "stderr",
     "output_type": "stream",
     "text": [
      "\r\n",
      "28it [01:23,  3.68s/it]"
     ]
    },
    {
     "name": "stdout",
     "output_type": "stream",
     "text": [
      "finishing processing \\\\10.245.74.158\\Chromatin_NAS_8\\Exported_data\\20220713-Export\\Decoded_Fov-126.hdf5\n",
      "426467 is kept out of 426467\n"
     ]
    },
    {
     "name": "stderr",
     "output_type": "stream",
     "text": [
      "\r\n",
      "29it [01:27,  3.57s/it]"
     ]
    },
    {
     "name": "stdout",
     "output_type": "stream",
     "text": [
      "finishing processing \\\\10.245.74.158\\Chromatin_NAS_8\\Exported_data\\20220713-Export\\Decoded_Fov-127.hdf5\n",
      "359883 is kept out of 359883\n"
     ]
    },
    {
     "name": "stderr",
     "output_type": "stream",
     "text": [
      "\r\n",
      "30it [01:30,  3.64s/it]"
     ]
    },
    {
     "name": "stdout",
     "output_type": "stream",
     "text": [
      "finishing processing \\\\10.245.74.158\\Chromatin_NAS_8\\Exported_data\\20220713-Export\\Decoded_Fov-128.hdf5\n",
      "417118 is kept out of 417118\n"
     ]
    },
    {
     "name": "stderr",
     "output_type": "stream",
     "text": [
      "\r\n",
      "31it [01:34,  3.76s/it]"
     ]
    },
    {
     "name": "stdout",
     "output_type": "stream",
     "text": [
      "finishing processing \\\\10.245.74.158\\Chromatin_NAS_8\\Exported_data\\20220713-Export\\Decoded_Fov-129.hdf5\n",
      "491586 is kept out of 491586\n"
     ]
    },
    {
     "name": "stderr",
     "output_type": "stream",
     "text": [
      "\r\n",
      "32it [01:37,  3.44s/it]"
     ]
    },
    {
     "name": "stdout",
     "output_type": "stream",
     "text": [
      "finishing processing \\\\10.245.74.158\\Chromatin_NAS_8\\Exported_data\\20220713-Export\\Decoded_Fov-13.hdf5\n",
      "282607 is kept out of 282607\n"
     ]
    },
    {
     "name": "stderr",
     "output_type": "stream",
     "text": [
      "\r\n",
      "33it [01:41,  3.44s/it]"
     ]
    },
    {
     "name": "stdout",
     "output_type": "stream",
     "text": [
      "finishing processing \\\\10.245.74.158\\Chromatin_NAS_8\\Exported_data\\20220713-Export\\Decoded_Fov-130.hdf5\n",
      "405490 is kept out of 405490\n"
     ]
    },
    {
     "name": "stderr",
     "output_type": "stream",
     "text": [
      "\r\n",
      "34it [01:44,  3.56s/it]"
     ]
    },
    {
     "name": "stdout",
     "output_type": "stream",
     "text": [
      "finishing processing \\\\10.245.74.158\\Chromatin_NAS_8\\Exported_data\\20220713-Export\\Decoded_Fov-131.hdf5\n",
      "471441 is kept out of 471441\n"
     ]
    },
    {
     "name": "stderr",
     "output_type": "stream",
     "text": [
      "\r\n",
      "35it [01:48,  3.61s/it]"
     ]
    },
    {
     "name": "stdout",
     "output_type": "stream",
     "text": [
      "finishing processing \\\\10.245.74.158\\Chromatin_NAS_8\\Exported_data\\20220713-Export\\Decoded_Fov-132.hdf5\n",
      "453973 is kept out of 453973\n"
     ]
    },
    {
     "name": "stderr",
     "output_type": "stream",
     "text": [
      "\r\n",
      "36it [01:52,  3.79s/it]"
     ]
    },
    {
     "name": "stdout",
     "output_type": "stream",
     "text": [
      "finishing processing \\\\10.245.74.158\\Chromatin_NAS_8\\Exported_data\\20220713-Export\\Decoded_Fov-133.hdf5\n",
      "489348 is kept out of 489348\n"
     ]
    },
    {
     "name": "stderr",
     "output_type": "stream",
     "text": [
      "\r\n",
      "37it [01:55,  3.57s/it]"
     ]
    },
    {
     "name": "stdout",
     "output_type": "stream",
     "text": [
      "finishing processing \\\\10.245.74.158\\Chromatin_NAS_8\\Exported_data\\20220713-Export\\Decoded_Fov-134.hdf5\n",
      "370350 is kept out of 370350\n"
     ]
    },
    {
     "name": "stderr",
     "output_type": "stream",
     "text": [
      "\r\n",
      "38it [01:58,  3.42s/it]"
     ]
    },
    {
     "name": "stdout",
     "output_type": "stream",
     "text": [
      "finishing processing \\\\10.245.74.158\\Chromatin_NAS_8\\Exported_data\\20220713-Export\\Decoded_Fov-135.hdf5\n",
      "412925 is kept out of 412925\n"
     ]
    },
    {
     "name": "stderr",
     "output_type": "stream",
     "text": [
      "\r\n",
      "39it [02:01,  3.17s/it]"
     ]
    },
    {
     "name": "stdout",
     "output_type": "stream",
     "text": [
      "finishing processing \\\\10.245.74.158\\Chromatin_NAS_8\\Exported_data\\20220713-Export\\Decoded_Fov-136.hdf5\n",
      "369338 is kept out of 369338\n"
     ]
    },
    {
     "name": "stderr",
     "output_type": "stream",
     "text": [
      "\r\n",
      "40it [02:05,  3.44s/it]"
     ]
    },
    {
     "name": "stdout",
     "output_type": "stream",
     "text": [
      "finishing processing \\\\10.245.74.158\\Chromatin_NAS_8\\Exported_data\\20220713-Export\\Decoded_Fov-137.hdf5\n",
      "499897 is kept out of 499897\n"
     ]
    },
    {
     "name": "stderr",
     "output_type": "stream",
     "text": [
      "\r\n",
      "41it [02:08,  3.38s/it]"
     ]
    },
    {
     "name": "stdout",
     "output_type": "stream",
     "text": [
      "finishing processing \\\\10.245.74.158\\Chromatin_NAS_8\\Exported_data\\20220713-Export\\Decoded_Fov-138.hdf5\n",
      "424267 is kept out of 424267\n"
     ]
    },
    {
     "name": "stderr",
     "output_type": "stream",
     "text": [
      "\r\n",
      "42it [02:13,  3.64s/it]"
     ]
    },
    {
     "name": "stdout",
     "output_type": "stream",
     "text": [
      "finishing processing \\\\10.245.74.158\\Chromatin_NAS_8\\Exported_data\\20220713-Export\\Decoded_Fov-139.hdf5\n",
      "579790 is kept out of 579790\n"
     ]
    },
    {
     "name": "stderr",
     "output_type": "stream",
     "text": [
      "\r\n",
      "43it [02:16,  3.54s/it]"
     ]
    },
    {
     "name": "stdout",
     "output_type": "stream",
     "text": [
      "finishing processing \\\\10.245.74.158\\Chromatin_NAS_8\\Exported_data\\20220713-Export\\Decoded_Fov-14.hdf5\n",
      "298319 is kept out of 298319\n"
     ]
    },
    {
     "name": "stderr",
     "output_type": "stream",
     "text": [
      "\r\n",
      "44it [02:16,  2.54s/it]"
     ]
    },
    {
     "name": "stdout",
     "output_type": "stream",
     "text": [
      "finishing processing \\\\10.245.74.158\\Chromatin_NAS_8\\Exported_data\\20220713-Export\\Decoded_Fov-140.hdf5\n",
      "15403 is kept out of 15403\n"
     ]
    },
    {
     "name": "stderr",
     "output_type": "stream",
     "text": [
      "\r\n",
      "45it [02:17,  1.98s/it]"
     ]
    },
    {
     "name": "stdout",
     "output_type": "stream",
     "text": [
      "finishing processing \\\\10.245.74.158\\Chromatin_NAS_8\\Exported_data\\20220713-Export\\Decoded_Fov-141.hdf5\n",
      "68734 is kept out of 68734\n"
     ]
    },
    {
     "name": "stderr",
     "output_type": "stream",
     "text": [
      "\r\n",
      "46it [02:18,  1.70s/it]"
     ]
    },
    {
     "name": "stdout",
     "output_type": "stream",
     "text": [
      "finishing processing \\\\10.245.74.158\\Chromatin_NAS_8\\Exported_data\\20220713-Export\\Decoded_Fov-142.hdf5\n",
      "117226 is kept out of 117226\n"
     ]
    },
    {
     "name": "stderr",
     "output_type": "stream",
     "text": [
      "\r\n",
      "47it [02:19,  1.68s/it]"
     ]
    },
    {
     "name": "stdout",
     "output_type": "stream",
     "text": [
      "finishing processing \\\\10.245.74.158\\Chromatin_NAS_8\\Exported_data\\20220713-Export\\Decoded_Fov-143.hdf5\n",
      "167819 is kept out of 167819\n"
     ]
    },
    {
     "name": "stderr",
     "output_type": "stream",
     "text": [
      "\r\n",
      "48it [02:22,  2.07s/it]"
     ]
    },
    {
     "name": "stdout",
     "output_type": "stream",
     "text": [
      "finishing processing \\\\10.245.74.158\\Chromatin_NAS_8\\Exported_data\\20220713-Export\\Decoded_Fov-144.hdf5\n",
      "225391 is kept out of 225391\n"
     ]
    },
    {
     "name": "stderr",
     "output_type": "stream",
     "text": [
      "\r\n",
      "49it [02:26,  2.37s/it]"
     ]
    },
    {
     "name": "stdout",
     "output_type": "stream",
     "text": [
      "finishing processing \\\\10.245.74.158\\Chromatin_NAS_8\\Exported_data\\20220713-Export\\Decoded_Fov-145.hdf5\n",
      "321393 is kept out of 321393\n"
     ]
    },
    {
     "name": "stderr",
     "output_type": "stream",
     "text": [
      "\r\n",
      "50it [02:29,  2.66s/it]"
     ]
    },
    {
     "name": "stdout",
     "output_type": "stream",
     "text": [
      "finishing processing \\\\10.245.74.158\\Chromatin_NAS_8\\Exported_data\\20220713-Export\\Decoded_Fov-146.hdf5\n",
      "339329 is kept out of 339329\n"
     ]
    },
    {
     "name": "stderr",
     "output_type": "stream",
     "text": [
      "\r\n",
      "51it [02:32,  2.73s/it]"
     ]
    },
    {
     "name": "stdout",
     "output_type": "stream",
     "text": [
      "finishing processing \\\\10.245.74.158\\Chromatin_NAS_8\\Exported_data\\20220713-Export\\Decoded_Fov-147.hdf5\n",
      "239951 is kept out of 239951\n"
     ]
    },
    {
     "name": "stderr",
     "output_type": "stream",
     "text": [
      "\r\n",
      "52it [02:33,  2.25s/it]"
     ]
    },
    {
     "name": "stdout",
     "output_type": "stream",
     "text": [
      "finishing processing \\\\10.245.74.158\\Chromatin_NAS_8\\Exported_data\\20220713-Export\\Decoded_Fov-149.hdf5\n",
      "119785 is kept out of 119785\n"
     ]
    },
    {
     "name": "stderr",
     "output_type": "stream",
     "text": [
      "\r\n",
      "53it [02:38,  3.16s/it]"
     ]
    },
    {
     "name": "stdout",
     "output_type": "stream",
     "text": [
      "finishing processing \\\\10.245.74.158\\Chromatin_NAS_8\\Exported_data\\20220713-Export\\Decoded_Fov-15.hdf5\n",
      "469945 is kept out of 469945\n"
     ]
    },
    {
     "name": "stderr",
     "output_type": "stream",
     "text": [
      "\r\n",
      "54it [02:39,  2.44s/it]"
     ]
    },
    {
     "name": "stdout",
     "output_type": "stream",
     "text": [
      "finishing processing \\\\10.245.74.158\\Chromatin_NAS_8\\Exported_data\\20220713-Export\\Decoded_Fov-150.hdf5\n",
      "72935 is kept out of 72935\n"
     ]
    },
    {
     "name": "stderr",
     "output_type": "stream",
     "text": [
      "\r\n",
      "55it [02:40,  2.05s/it]"
     ]
    },
    {
     "name": "stdout",
     "output_type": "stream",
     "text": [
      "finishing processing \\\\10.245.74.158\\Chromatin_NAS_8\\Exported_data\\20220713-Export\\Decoded_Fov-151.hdf5\n",
      "120421 is kept out of 120421\n"
     ]
    },
    {
     "name": "stderr",
     "output_type": "stream",
     "text": [
      "\r\n",
      "56it [02:43,  2.36s/it]"
     ]
    },
    {
     "name": "stdout",
     "output_type": "stream",
     "text": [
      "finishing processing \\\\10.245.74.158\\Chromatin_NAS_8\\Exported_data\\20220713-Export\\Decoded_Fov-153.hdf5\n",
      "287101 is kept out of 287101\n"
     ]
    },
    {
     "name": "stderr",
     "output_type": "stream",
     "text": [
      "\r\n",
      "57it [02:46,  2.62s/it]"
     ]
    },
    {
     "name": "stdout",
     "output_type": "stream",
     "text": [
      "finishing processing \\\\10.245.74.158\\Chromatin_NAS_8\\Exported_data\\20220713-Export\\Decoded_Fov-154.hdf5\n",
      "269408 is kept out of 269408\n"
     ]
    },
    {
     "name": "stderr",
     "output_type": "stream",
     "text": [
      "\r\n",
      "58it [02:49,  2.76s/it]"
     ]
    },
    {
     "name": "stdout",
     "output_type": "stream",
     "text": [
      "finishing processing \\\\10.245.74.158\\Chromatin_NAS_8\\Exported_data\\20220713-Export\\Decoded_Fov-155.hdf5\n",
      "361044 is kept out of 361044\n"
     ]
    },
    {
     "name": "stderr",
     "output_type": "stream",
     "text": [
      "\r\n",
      "59it [02:52,  2.83s/it]"
     ]
    },
    {
     "name": "stdout",
     "output_type": "stream",
     "text": [
      "finishing processing \\\\10.245.74.158\\Chromatin_NAS_8\\Exported_data\\20220713-Export\\Decoded_Fov-156.hdf5\n",
      "273807 is kept out of 273807\n"
     ]
    },
    {
     "name": "stderr",
     "output_type": "stream",
     "text": [
      "\r\n",
      "60it [02:56,  2.90s/it]"
     ]
    },
    {
     "name": "stdout",
     "output_type": "stream",
     "text": [
      "finishing processing \\\\10.245.74.158\\Chromatin_NAS_8\\Exported_data\\20220713-Export\\Decoded_Fov-157.hdf5\n",
      "270234 is kept out of 270234\n"
     ]
    },
    {
     "name": "stderr",
     "output_type": "stream",
     "text": [
      "\r\n",
      "61it [02:57,  2.49s/it]"
     ]
    },
    {
     "name": "stdout",
     "output_type": "stream",
     "text": [
      "finishing processing \\\\10.245.74.158\\Chromatin_NAS_8\\Exported_data\\20220713-Export\\Decoded_Fov-158.hdf5\n",
      "163036 is kept out of 163036\n"
     ]
    },
    {
     "name": "stderr",
     "output_type": "stream",
     "text": [
      "\r\n",
      "62it [03:02,  3.21s/it]"
     ]
    },
    {
     "name": "stdout",
     "output_type": "stream",
     "text": [
      "finishing processing \\\\10.245.74.158\\Chromatin_NAS_8\\Exported_data\\20220713-Export\\Decoded_Fov-16.hdf5\n",
      "420739 is kept out of 420739\n"
     ]
    },
    {
     "name": "stderr",
     "output_type": "stream",
     "text": [
      "\r\n",
      "63it [03:05,  3.07s/it]"
     ]
    },
    {
     "name": "stdout",
     "output_type": "stream",
     "text": [
      "finishing processing \\\\10.245.74.158\\Chromatin_NAS_8\\Exported_data\\20220713-Export\\Decoded_Fov-160.hdf5\n",
      "233330 is kept out of 233330\n"
     ]
    },
    {
     "name": "stderr",
     "output_type": "stream",
     "text": [
      "\r\n",
      "64it [03:08,  3.14s/it]"
     ]
    },
    {
     "name": "stdout",
     "output_type": "stream",
     "text": [
      "finishing processing \\\\10.245.74.158\\Chromatin_NAS_8\\Exported_data\\20220713-Export\\Decoded_Fov-161.hdf5\n",
      "348485 is kept out of 348485\n"
     ]
    },
    {
     "name": "stderr",
     "output_type": "stream",
     "text": [
      "\r\n",
      "65it [03:11,  2.98s/it]"
     ]
    },
    {
     "name": "stdout",
     "output_type": "stream",
     "text": [
      "finishing processing \\\\10.245.74.158\\Chromatin_NAS_8\\Exported_data\\20220713-Export\\Decoded_Fov-162.hdf5\n",
      "264267 is kept out of 264267\n"
     ]
    },
    {
     "name": "stderr",
     "output_type": "stream",
     "text": [
      "\r\n",
      "66it [03:12,  2.61s/it]"
     ]
    },
    {
     "name": "stdout",
     "output_type": "stream",
     "text": [
      "finishing processing \\\\10.245.74.158\\Chromatin_NAS_8\\Exported_data\\20220713-Export\\Decoded_Fov-163.hdf5\n",
      "209782 is kept out of 209782\n"
     ]
    },
    {
     "name": "stderr",
     "output_type": "stream",
     "text": [
      "\r\n",
      "67it [03:16,  2.80s/it]"
     ]
    },
    {
     "name": "stdout",
     "output_type": "stream",
     "text": [
      "finishing processing \\\\10.245.74.158\\Chromatin_NAS_8\\Exported_data\\20220713-Export\\Decoded_Fov-164.hdf5\n",
      "293135 is kept out of 293135\n"
     ]
    },
    {
     "name": "stderr",
     "output_type": "stream",
     "text": [
      "\r\n",
      "68it [03:19,  3.01s/it]"
     ]
    },
    {
     "name": "stdout",
     "output_type": "stream",
     "text": [
      "finishing processing \\\\10.245.74.158\\Chromatin_NAS_8\\Exported_data\\20220713-Export\\Decoded_Fov-165.hdf5\n",
      "372568 is kept out of 372568\n"
     ]
    },
    {
     "name": "stderr",
     "output_type": "stream",
     "text": [
      "\r\n",
      "69it [03:22,  2.85s/it]"
     ]
    },
    {
     "name": "stdout",
     "output_type": "stream",
     "text": [
      "finishing processing \\\\10.245.74.158\\Chromatin_NAS_8\\Exported_data\\20220713-Export\\Decoded_Fov-166.hdf5\n",
      "248504 is kept out of 248504\n"
     ]
    },
    {
     "name": "stderr",
     "output_type": "stream",
     "text": [
      "\r\n",
      "70it [03:24,  2.68s/it]"
     ]
    },
    {
     "name": "stdout",
     "output_type": "stream",
     "text": [
      "finishing processing \\\\10.245.74.158\\Chromatin_NAS_8\\Exported_data\\20220713-Export\\Decoded_Fov-167.hdf5\n",
      "244079 is kept out of 244079\n"
     ]
    },
    {
     "name": "stderr",
     "output_type": "stream",
     "text": [
      "\r\n",
      "71it [03:27,  2.68s/it]"
     ]
    },
    {
     "name": "stdout",
     "output_type": "stream",
     "text": [
      "finishing processing \\\\10.245.74.158\\Chromatin_NAS_8\\Exported_data\\20220713-Export\\Decoded_Fov-168.hdf5\n",
      "225815 is kept out of 225815\n"
     ]
    },
    {
     "name": "stderr",
     "output_type": "stream",
     "text": [
      "\r\n",
      "72it [03:29,  2.56s/it]"
     ]
    },
    {
     "name": "stdout",
     "output_type": "stream",
     "text": [
      "finishing processing \\\\10.245.74.158\\Chromatin_NAS_8\\Exported_data\\20220713-Export\\Decoded_Fov-169.hdf5\n",
      "241880 is kept out of 241880\n"
     ]
    },
    {
     "name": "stderr",
     "output_type": "stream",
     "text": [
      "\r\n",
      "73it [03:32,  2.70s/it]"
     ]
    },
    {
     "name": "stdout",
     "output_type": "stream",
     "text": [
      "finishing processing \\\\10.245.74.158\\Chromatin_NAS_8\\Exported_data\\20220713-Export\\Decoded_Fov-171.hdf5\n",
      "340186 is kept out of 340186\n"
     ]
    },
    {
     "name": "stderr",
     "output_type": "stream",
     "text": [
      "\r\n",
      "74it [03:36,  3.11s/it]"
     ]
    },
    {
     "name": "stdout",
     "output_type": "stream",
     "text": [
      "finishing processing \\\\10.245.74.158\\Chromatin_NAS_8\\Exported_data\\20220713-Export\\Decoded_Fov-172.hdf5\n",
      "447956 is kept out of 447956\n"
     ]
    },
    {
     "name": "stderr",
     "output_type": "stream",
     "text": [
      "\r\n",
      "75it [03:39,  3.17s/it]"
     ]
    },
    {
     "name": "stdout",
     "output_type": "stream",
     "text": [
      "finishing processing \\\\10.245.74.158\\Chromatin_NAS_8\\Exported_data\\20220713-Export\\Decoded_Fov-173.hdf5\n",
      "353954 is kept out of 353954\n"
     ]
    },
    {
     "name": "stderr",
     "output_type": "stream",
     "text": [
      "\r\n",
      "76it [03:42,  3.01s/it]"
     ]
    },
    {
     "name": "stdout",
     "output_type": "stream",
     "text": [
      "finishing processing \\\\10.245.74.158\\Chromatin_NAS_8\\Exported_data\\20220713-Export\\Decoded_Fov-174.hdf5\n",
      "274691 is kept out of 274691\n"
     ]
    },
    {
     "name": "stderr",
     "output_type": "stream",
     "text": [
      "\r\n",
      "77it [03:44,  2.64s/it]"
     ]
    },
    {
     "name": "stdout",
     "output_type": "stream",
     "text": [
      "finishing processing \\\\10.245.74.158\\Chromatin_NAS_8\\Exported_data\\20220713-Export\\Decoded_Fov-175.hdf5\n",
      "233683 is kept out of 233683\n"
     ]
    },
    {
     "name": "stderr",
     "output_type": "stream",
     "text": [
      "\r\n",
      "78it [03:46,  2.47s/it]"
     ]
    },
    {
     "name": "stdout",
     "output_type": "stream",
     "text": [
      "finishing processing \\\\10.245.74.158\\Chromatin_NAS_8\\Exported_data\\20220713-Export\\Decoded_Fov-176.hdf5\n",
      "265315 is kept out of 265315\n"
     ]
    },
    {
     "name": "stderr",
     "output_type": "stream",
     "text": [
      "\r\n",
      "79it [03:48,  2.53s/it]"
     ]
    },
    {
     "name": "stdout",
     "output_type": "stream",
     "text": [
      "finishing processing \\\\10.245.74.158\\Chromatin_NAS_8\\Exported_data\\20220713-Export\\Decoded_Fov-177.hdf5\n",
      "261412 is kept out of 261412\n"
     ]
    },
    {
     "name": "stderr",
     "output_type": "stream",
     "text": [
      "\r\n",
      "80it [03:52,  2.89s/it]"
     ]
    },
    {
     "name": "stdout",
     "output_type": "stream",
     "text": [
      "finishing processing \\\\10.245.74.158\\Chromatin_NAS_8\\Exported_data\\20220713-Export\\Decoded_Fov-178.hdf5\n",
      "336408 is kept out of 336408\n"
     ]
    },
    {
     "name": "stderr",
     "output_type": "stream",
     "text": [
      "\r\n",
      "81it [03:55,  2.91s/it]"
     ]
    },
    {
     "name": "stdout",
     "output_type": "stream",
     "text": [
      "finishing processing \\\\10.245.74.158\\Chromatin_NAS_8\\Exported_data\\20220713-Export\\Decoded_Fov-18.hdf5\n",
      "286724 is kept out of 286724\n"
     ]
    },
    {
     "name": "stderr",
     "output_type": "stream",
     "text": [
      "\r\n",
      "82it [03:58,  3.01s/it]"
     ]
    },
    {
     "name": "stdout",
     "output_type": "stream",
     "text": [
      "finishing processing \\\\10.245.74.158\\Chromatin_NAS_8\\Exported_data\\20220713-Export\\Decoded_Fov-180.hdf5\n",
      "330625 is kept out of 330625\n"
     ]
    },
    {
     "name": "stderr",
     "output_type": "stream",
     "text": [
      "\r\n",
      "83it [04:01,  2.88s/it]"
     ]
    },
    {
     "name": "stdout",
     "output_type": "stream",
     "text": [
      "finishing processing \\\\10.245.74.158\\Chromatin_NAS_8\\Exported_data\\20220713-Export\\Decoded_Fov-181.hdf5\n",
      "265271 is kept out of 265271\n"
     ]
    },
    {
     "name": "stderr",
     "output_type": "stream",
     "text": [
      "\r\n",
      "84it [04:04,  2.93s/it]"
     ]
    },
    {
     "name": "stdout",
     "output_type": "stream",
     "text": [
      "finishing processing \\\\10.245.74.158\\Chromatin_NAS_8\\Exported_data\\20220713-Export\\Decoded_Fov-182.hdf5\n",
      "333548 is kept out of 333548\n"
     ]
    },
    {
     "name": "stderr",
     "output_type": "stream",
     "text": [
      "\r\n",
      "85it [04:08,  3.31s/it]"
     ]
    },
    {
     "name": "stdout",
     "output_type": "stream",
     "text": [
      "finishing processing \\\\10.245.74.158\\Chromatin_NAS_8\\Exported_data\\20220713-Export\\Decoded_Fov-183.hdf5\n",
      "399117 is kept out of 399117\n"
     ]
    },
    {
     "name": "stderr",
     "output_type": "stream",
     "text": [
      "\r\n",
      "86it [04:12,  3.35s/it]"
     ]
    },
    {
     "name": "stdout",
     "output_type": "stream",
     "text": [
      "finishing processing \\\\10.245.74.158\\Chromatin_NAS_8\\Exported_data\\20220713-Export\\Decoded_Fov-184.hdf5\n",
      "410010 is kept out of 410010\n"
     ]
    },
    {
     "name": "stderr",
     "output_type": "stream",
     "text": [
      "\r\n",
      "87it [04:16,  3.64s/it]"
     ]
    },
    {
     "name": "stdout",
     "output_type": "stream",
     "text": [
      "finishing processing \\\\10.245.74.158\\Chromatin_NAS_8\\Exported_data\\20220713-Export\\Decoded_Fov-185.hdf5\n",
      "496221 is kept out of 496221\n"
     ]
    },
    {
     "name": "stderr",
     "output_type": "stream",
     "text": [
      "\r\n",
      "88it [04:19,  3.52s/it]"
     ]
    },
    {
     "name": "stdout",
     "output_type": "stream",
     "text": [
      "finishing processing \\\\10.245.74.158\\Chromatin_NAS_8\\Exported_data\\20220713-Export\\Decoded_Fov-186.hdf5\n",
      "387550 is kept out of 387550\n"
     ]
    },
    {
     "name": "stderr",
     "output_type": "stream",
     "text": [
      "\r\n",
      "89it [04:22,  3.40s/it]"
     ]
    },
    {
     "name": "stdout",
     "output_type": "stream",
     "text": [
      "finishing processing \\\\10.245.74.158\\Chromatin_NAS_8\\Exported_data\\20220713-Export\\Decoded_Fov-187.hdf5\n",
      "377328 is kept out of 377328\n"
     ]
    },
    {
     "name": "stderr",
     "output_type": "stream",
     "text": [
      "\r\n",
      "90it [04:26,  3.43s/it]"
     ]
    },
    {
     "name": "stdout",
     "output_type": "stream",
     "text": [
      "finishing processing \\\\10.245.74.158\\Chromatin_NAS_8\\Exported_data\\20220713-Export\\Decoded_Fov-188.hdf5\n",
      "369129 is kept out of 369129\n"
     ]
    },
    {
     "name": "stderr",
     "output_type": "stream",
     "text": [
      "\r\n",
      "91it [04:29,  3.32s/it]"
     ]
    },
    {
     "name": "stdout",
     "output_type": "stream",
     "text": [
      "finishing processing \\\\10.245.74.158\\Chromatin_NAS_8\\Exported_data\\20220713-Export\\Decoded_Fov-189.hdf5\n",
      "377646 is kept out of 377646\n"
     ]
    },
    {
     "name": "stderr",
     "output_type": "stream",
     "text": [
      "\r\n",
      "92it [04:32,  3.31s/it]"
     ]
    },
    {
     "name": "stdout",
     "output_type": "stream",
     "text": [
      "finishing processing \\\\10.245.74.158\\Chromatin_NAS_8\\Exported_data\\20220713-Export\\Decoded_Fov-19.hdf5\n",
      "312737 is kept out of 312737\n"
     ]
    },
    {
     "name": "stderr",
     "output_type": "stream",
     "text": [
      "\r\n",
      "93it [04:35,  3.14s/it]"
     ]
    },
    {
     "name": "stdout",
     "output_type": "stream",
     "text": [
      "finishing processing \\\\10.245.74.158\\Chromatin_NAS_8\\Exported_data\\20220713-Export\\Decoded_Fov-190.hdf5\n",
      "287128 is kept out of 287128\n"
     ]
    },
    {
     "name": "stderr",
     "output_type": "stream",
     "text": [
      "\r\n",
      "94it [04:38,  3.22s/it]"
     ]
    },
    {
     "name": "stdout",
     "output_type": "stream",
     "text": [
      "finishing processing \\\\10.245.74.158\\Chromatin_NAS_8\\Exported_data\\20220713-Export\\Decoded_Fov-191.hdf5\n",
      "389608 is kept out of 389608\n"
     ]
    },
    {
     "name": "stderr",
     "output_type": "stream",
     "text": [
      "\r\n",
      "95it [04:42,  3.31s/it]"
     ]
    },
    {
     "name": "stdout",
     "output_type": "stream",
     "text": [
      "finishing processing \\\\10.245.74.158\\Chromatin_NAS_8\\Exported_data\\20220713-Export\\Decoded_Fov-192.hdf5\n",
      "371109 is kept out of 371109\n"
     ]
    },
    {
     "name": "stderr",
     "output_type": "stream",
     "text": [
      "\r\n",
      "96it [04:45,  3.33s/it]"
     ]
    },
    {
     "name": "stdout",
     "output_type": "stream",
     "text": [
      "finishing processing \\\\10.245.74.158\\Chromatin_NAS_8\\Exported_data\\20220713-Export\\Decoded_Fov-193.hdf5\n",
      "358403 is kept out of 358403\n"
     ]
    },
    {
     "name": "stderr",
     "output_type": "stream",
     "text": [
      "\r\n",
      "97it [04:48,  3.33s/it]"
     ]
    },
    {
     "name": "stdout",
     "output_type": "stream",
     "text": [
      "finishing processing \\\\10.245.74.158\\Chromatin_NAS_8\\Exported_data\\20220713-Export\\Decoded_Fov-194.hdf5\n",
      "374186 is kept out of 374186\n"
     ]
    },
    {
     "name": "stderr",
     "output_type": "stream",
     "text": [
      "\r\n",
      "98it [04:54,  4.01s/it]"
     ]
    },
    {
     "name": "stdout",
     "output_type": "stream",
     "text": [
      "finishing processing \\\\10.245.74.158\\Chromatin_NAS_8\\Exported_data\\20220713-Export\\Decoded_Fov-195.hdf5\n",
      "631758 is kept out of 631758\n"
     ]
    },
    {
     "name": "stderr",
     "output_type": "stream",
     "text": [
      "\r\n",
      "99it [04:59,  4.28s/it]"
     ]
    },
    {
     "name": "stdout",
     "output_type": "stream",
     "text": [
      "finishing processing \\\\10.245.74.158\\Chromatin_NAS_8\\Exported_data\\20220713-Export\\Decoded_Fov-196.hdf5\n",
      "682291 is kept out of 682291\n"
     ]
    },
    {
     "name": "stderr",
     "output_type": "stream",
     "text": [
      "\r\n",
      "100it [05:02,  3.87s/it]"
     ]
    },
    {
     "name": "stdout",
     "output_type": "stream",
     "text": [
      "finishing processing \\\\10.245.74.158\\Chromatin_NAS_8\\Exported_data\\20220713-Export\\Decoded_Fov-198.hdf5\n",
      "344663 is kept out of 344663\n"
     ]
    },
    {
     "name": "stderr",
     "output_type": "stream",
     "text": [
      "\r\n",
      "101it [05:05,  3.78s/it]"
     ]
    },
    {
     "name": "stdout",
     "output_type": "stream",
     "text": [
      "finishing processing \\\\10.245.74.158\\Chromatin_NAS_8\\Exported_data\\20220713-Export\\Decoded_Fov-2.hdf5\n",
      "336541 is kept out of 336541\n"
     ]
    },
    {
     "name": "stderr",
     "output_type": "stream",
     "text": [
      "\r\n",
      "102it [05:08,  3.55s/it]"
     ]
    },
    {
     "name": "stdout",
     "output_type": "stream",
     "text": [
      "finishing processing \\\\10.245.74.158\\Chromatin_NAS_8\\Exported_data\\20220713-Export\\Decoded_Fov-20.hdf5\n",
      "273656 is kept out of 273656\n"
     ]
    },
    {
     "name": "stderr",
     "output_type": "stream",
     "text": [
      "104it [05:10,  2.15s/it]"
     ]
    },
    {
     "name": "stdout",
     "output_type": "stream",
     "text": [
      "finishing processing \\\\10.245.74.158\\Chromatin_NAS_8\\Exported_data\\20220713-Export\\Decoded_Fov-21.hdf5\n",
      "208456 is kept out of 208456\n",
      "finishing processing \\\\10.245.74.158\\Chromatin_NAS_8\\Exported_data\\20220713-Export\\Decoded_Fov-22.hdf5\n",
      "11058 is kept out of 11058\n"
     ]
    },
    {
     "name": "stderr",
     "output_type": "stream",
     "text": [
      "\r\n",
      "105it [05:12,  1.88s/it]"
     ]
    },
    {
     "name": "stdout",
     "output_type": "stream",
     "text": [
      "finishing processing \\\\10.245.74.158\\Chromatin_NAS_8\\Exported_data\\20220713-Export\\Decoded_Fov-23.hdf5\n",
      "138265 is kept out of 138265\n"
     ]
    },
    {
     "name": "stderr",
     "output_type": "stream",
     "text": [
      "\r\n",
      "106it [05:12,  1.50s/it]"
     ]
    },
    {
     "name": "stdout",
     "output_type": "stream",
     "text": [
      "finishing processing \\\\10.245.74.158\\Chromatin_NAS_8\\Exported_data\\20220713-Export\\Decoded_Fov-24.hdf5\n",
      "22343 is kept out of 22343\n"
     ]
    },
    {
     "name": "stderr",
     "output_type": "stream",
     "text": [
      "\r\n",
      "107it [05:13,  1.21s/it]"
     ]
    },
    {
     "name": "stdout",
     "output_type": "stream",
     "text": [
      "finishing processing \\\\10.245.74.158\\Chromatin_NAS_8\\Exported_data\\20220713-Export\\Decoded_Fov-26.hdf5\n",
      "76952 is kept out of 76952\n"
     ]
    },
    {
     "name": "stderr",
     "output_type": "stream",
     "text": [
      "\r\n",
      "108it [05:16,  1.78s/it]"
     ]
    },
    {
     "name": "stdout",
     "output_type": "stream",
     "text": [
      "finishing processing \\\\10.245.74.158\\Chromatin_NAS_8\\Exported_data\\20220713-Export\\Decoded_Fov-28.hdf5\n",
      "422917 is kept out of 422917\n"
     ]
    },
    {
     "name": "stderr",
     "output_type": "stream",
     "text": [
      "\r\n",
      "109it [05:19,  2.25s/it]"
     ]
    },
    {
     "name": "stdout",
     "output_type": "stream",
     "text": [
      "finishing processing \\\\10.245.74.158\\Chromatin_NAS_8\\Exported_data\\20220713-Export\\Decoded_Fov-29.hdf5\n",
      "328664 is kept out of 328664\n"
     ]
    },
    {
     "name": "stderr",
     "output_type": "stream",
     "text": [
      "\r\n",
      "110it [05:23,  2.69s/it]"
     ]
    },
    {
     "name": "stdout",
     "output_type": "stream",
     "text": [
      "finishing processing \\\\10.245.74.158\\Chromatin_NAS_8\\Exported_data\\20220713-Export\\Decoded_Fov-3.hdf5\n",
      "379041 is kept out of 379041\n"
     ]
    },
    {
     "name": "stderr",
     "output_type": "stream",
     "text": [
      "\r\n",
      "111it [05:26,  2.83s/it]"
     ]
    },
    {
     "name": "stdout",
     "output_type": "stream",
     "text": [
      "finishing processing \\\\10.245.74.158\\Chromatin_NAS_8\\Exported_data\\20220713-Export\\Decoded_Fov-30.hdf5\n",
      "367816 is kept out of 367816\n"
     ]
    },
    {
     "name": "stderr",
     "output_type": "stream",
     "text": [
      "\r\n",
      "112it [05:29,  2.82s/it]"
     ]
    },
    {
     "name": "stdout",
     "output_type": "stream",
     "text": [
      "finishing processing \\\\10.245.74.158\\Chromatin_NAS_8\\Exported_data\\20220713-Export\\Decoded_Fov-31.hdf5\n",
      "301586 is kept out of 301586\n"
     ]
    },
    {
     "name": "stderr",
     "output_type": "stream",
     "text": [
      "\r\n",
      "113it [05:31,  2.66s/it]"
     ]
    },
    {
     "name": "stdout",
     "output_type": "stream",
     "text": [
      "finishing processing \\\\10.245.74.158\\Chromatin_NAS_8\\Exported_data\\20220713-Export\\Decoded_Fov-32.hdf5\n",
      "309819 is kept out of 309819\n"
     ]
    },
    {
     "name": "stderr",
     "output_type": "stream",
     "text": [
      "\r\n",
      "114it [05:33,  2.55s/it]"
     ]
    },
    {
     "name": "stdout",
     "output_type": "stream",
     "text": [
      "finishing processing \\\\10.245.74.158\\Chromatin_NAS_8\\Exported_data\\20220713-Export\\Decoded_Fov-33.hdf5\n",
      "292822 is kept out of 292822\n"
     ]
    },
    {
     "name": "stderr",
     "output_type": "stream",
     "text": [
      "\r\n",
      "115it [05:38,  3.07s/it]"
     ]
    },
    {
     "name": "stdout",
     "output_type": "stream",
     "text": [
      "finishing processing \\\\10.245.74.158\\Chromatin_NAS_8\\Exported_data\\20220713-Export\\Decoded_Fov-34.hdf5\n",
      "529352 is kept out of 529352\n"
     ]
    },
    {
     "name": "stderr",
     "output_type": "stream",
     "text": [
      "\r\n",
      "116it [05:42,  3.27s/it]"
     ]
    },
    {
     "name": "stdout",
     "output_type": "stream",
     "text": [
      "finishing processing \\\\10.245.74.158\\Chromatin_NAS_8\\Exported_data\\20220713-Export\\Decoded_Fov-35.hdf5\n",
      "467833 is kept out of 467833\n"
     ]
    },
    {
     "name": "stderr",
     "output_type": "stream",
     "text": [
      "\r\n",
      "117it [05:44,  3.08s/it]"
     ]
    },
    {
     "name": "stdout",
     "output_type": "stream",
     "text": [
      "finishing processing \\\\10.245.74.158\\Chromatin_NAS_8\\Exported_data\\20220713-Export\\Decoded_Fov-36.hdf5\n",
      "319708 is kept out of 319708\n"
     ]
    },
    {
     "name": "stderr",
     "output_type": "stream",
     "text": [
      "\r\n",
      "118it [05:46,  2.85s/it]"
     ]
    },
    {
     "name": "stdout",
     "output_type": "stream",
     "text": [
      "finishing processing \\\\10.245.74.158\\Chromatin_NAS_8\\Exported_data\\20220713-Export\\Decoded_Fov-37.hdf5\n",
      "266104 is kept out of 266104\n"
     ]
    },
    {
     "name": "stderr",
     "output_type": "stream",
     "text": [
      "\r\n",
      "119it [05:50,  3.06s/it]"
     ]
    },
    {
     "name": "stdout",
     "output_type": "stream",
     "text": [
      "finishing processing \\\\10.245.74.158\\Chromatin_NAS_8\\Exported_data\\20220713-Export\\Decoded_Fov-38.hdf5\n",
      "389936 is kept out of 389936\n"
     ]
    },
    {
     "name": "stderr",
     "output_type": "stream",
     "text": [
      "\r\n",
      "120it [05:53,  3.12s/it]"
     ]
    },
    {
     "name": "stdout",
     "output_type": "stream",
     "text": [
      "finishing processing \\\\10.245.74.158\\Chromatin_NAS_8\\Exported_data\\20220713-Export\\Decoded_Fov-39.hdf5\n",
      "340407 is kept out of 340407\n"
     ]
    },
    {
     "name": "stderr",
     "output_type": "stream",
     "text": [
      "\r\n",
      "121it [05:57,  3.33s/it]"
     ]
    },
    {
     "name": "stdout",
     "output_type": "stream",
     "text": [
      "finishing processing \\\\10.245.74.158\\Chromatin_NAS_8\\Exported_data\\20220713-Export\\Decoded_Fov-4.hdf5\n",
      "327362 is kept out of 327362\n"
     ]
    },
    {
     "name": "stderr",
     "output_type": "stream",
     "text": [
      "\r\n",
      "122it [06:00,  3.13s/it]"
     ]
    },
    {
     "name": "stdout",
     "output_type": "stream",
     "text": [
      "finishing processing \\\\10.245.74.158\\Chromatin_NAS_8\\Exported_data\\20220713-Export\\Decoded_Fov-40.hdf5\n",
      "252498 is kept out of 252498\n"
     ]
    },
    {
     "name": "stderr",
     "output_type": "stream",
     "text": [
      "\r\n",
      "123it [06:02,  2.93s/it]"
     ]
    },
    {
     "name": "stdout",
     "output_type": "stream",
     "text": [
      "finishing processing \\\\10.245.74.158\\Chromatin_NAS_8\\Exported_data\\20220713-Export\\Decoded_Fov-41.hdf5\n",
      "249727 is kept out of 249727\n"
     ]
    },
    {
     "name": "stderr",
     "output_type": "stream",
     "text": [
      "\r\n",
      "124it [06:06,  3.11s/it]"
     ]
    },
    {
     "name": "stdout",
     "output_type": "stream",
     "text": [
      "finishing processing \\\\10.245.74.158\\Chromatin_NAS_8\\Exported_data\\20220713-Export\\Decoded_Fov-42.hdf5\n",
      "308227 is kept out of 308227\n"
     ]
    },
    {
     "name": "stderr",
     "output_type": "stream",
     "text": [
      "\r\n",
      "125it [06:08,  2.87s/it]"
     ]
    },
    {
     "name": "stdout",
     "output_type": "stream",
     "text": [
      "finishing processing \\\\10.245.74.158\\Chromatin_NAS_8\\Exported_data\\20220713-Export\\Decoded_Fov-43.hdf5\n",
      "223199 is kept out of 223199\n"
     ]
    },
    {
     "name": "stderr",
     "output_type": "stream",
     "text": [
      "\r\n",
      "126it [06:12,  3.12s/it]"
     ]
    },
    {
     "name": "stdout",
     "output_type": "stream",
     "text": [
      "finishing processing \\\\10.245.74.158\\Chromatin_NAS_8\\Exported_data\\20220713-Export\\Decoded_Fov-44.hdf5\n",
      "340915 is kept out of 340915\n"
     ]
    },
    {
     "name": "stderr",
     "output_type": "stream",
     "text": [
      "\r\n",
      "127it [06:15,  3.21s/it]"
     ]
    },
    {
     "name": "stdout",
     "output_type": "stream",
     "text": [
      "finishing processing \\\\10.245.74.158\\Chromatin_NAS_8\\Exported_data\\20220713-Export\\Decoded_Fov-45.hdf5\n",
      "372536 is kept out of 372536\n"
     ]
    },
    {
     "name": "stderr",
     "output_type": "stream",
     "text": [
      "\r\n",
      "128it [06:18,  3.24s/it]"
     ]
    },
    {
     "name": "stdout",
     "output_type": "stream",
     "text": [
      "finishing processing \\\\10.245.74.158\\Chromatin_NAS_8\\Exported_data\\20220713-Export\\Decoded_Fov-46.hdf5\n",
      "343708 is kept out of 343708\n"
     ]
    },
    {
     "name": "stderr",
     "output_type": "stream",
     "text": [
      "\r\n",
      "129it [06:22,  3.42s/it]"
     ]
    },
    {
     "name": "stdout",
     "output_type": "stream",
     "text": [
      "finishing processing \\\\10.245.74.158\\Chromatin_NAS_8\\Exported_data\\20220713-Export\\Decoded_Fov-47.hdf5\n",
      "343858 is kept out of 343858\n"
     ]
    },
    {
     "name": "stderr",
     "output_type": "stream",
     "text": [
      "\r\n",
      "130it [06:25,  3.11s/it]"
     ]
    },
    {
     "name": "stdout",
     "output_type": "stream",
     "text": [
      "finishing processing \\\\10.245.74.158\\Chromatin_NAS_8\\Exported_data\\20220713-Export\\Decoded_Fov-48.hdf5\n",
      "219910 is kept out of 219910\n"
     ]
    },
    {
     "name": "stderr",
     "output_type": "stream",
     "text": [
      "\r\n",
      "131it [06:27,  2.92s/it]"
     ]
    },
    {
     "name": "stdout",
     "output_type": "stream",
     "text": [
      "finishing processing \\\\10.245.74.158\\Chromatin_NAS_8\\Exported_data\\20220713-Export\\Decoded_Fov-49.hdf5\n",
      "260721 is kept out of 260721\n"
     ]
    },
    {
     "name": "stderr",
     "output_type": "stream",
     "text": [
      "\r\n",
      "132it [06:31,  3.20s/it]"
     ]
    },
    {
     "name": "stdout",
     "output_type": "stream",
     "text": [
      "finishing processing \\\\10.245.74.158\\Chromatin_NAS_8\\Exported_data\\20220713-Export\\Decoded_Fov-5.hdf5\n",
      "362629 is kept out of 362629\n"
     ]
    },
    {
     "name": "stderr",
     "output_type": "stream",
     "text": [
      "\r\n",
      "133it [06:34,  3.12s/it]"
     ]
    },
    {
     "name": "stdout",
     "output_type": "stream",
     "text": [
      "finishing processing \\\\10.245.74.158\\Chromatin_NAS_8\\Exported_data\\20220713-Export\\Decoded_Fov-50.hdf5\n",
      "301488 is kept out of 301488\n"
     ]
    },
    {
     "name": "stderr",
     "output_type": "stream",
     "text": [
      "\r\n",
      "134it [06:36,  2.94s/it]"
     ]
    },
    {
     "name": "stdout",
     "output_type": "stream",
     "text": [
      "finishing processing \\\\10.245.74.158\\Chromatin_NAS_8\\Exported_data\\20220713-Export\\Decoded_Fov-51.hdf5\n",
      "303883 is kept out of 303883\n"
     ]
    },
    {
     "name": "stderr",
     "output_type": "stream",
     "text": [
      "\r\n",
      "135it [06:40,  3.16s/it]"
     ]
    },
    {
     "name": "stdout",
     "output_type": "stream",
     "text": [
      "finishing processing \\\\10.245.74.158\\Chromatin_NAS_8\\Exported_data\\20220713-Export\\Decoded_Fov-52.hdf5\n",
      "342042 is kept out of 342042\n"
     ]
    },
    {
     "name": "stderr",
     "output_type": "stream",
     "text": [
      "\r\n",
      "136it [06:44,  3.31s/it]"
     ]
    },
    {
     "name": "stdout",
     "output_type": "stream",
     "text": [
      "finishing processing \\\\10.245.74.158\\Chromatin_NAS_8\\Exported_data\\20220713-Export\\Decoded_Fov-53.hdf5\n",
      "336401 is kept out of 336401\n"
     ]
    },
    {
     "name": "stderr",
     "output_type": "stream",
     "text": [
      "\r\n",
      "137it [06:48,  3.56s/it]"
     ]
    },
    {
     "name": "stdout",
     "output_type": "stream",
     "text": [
      "finishing processing \\\\10.245.74.158\\Chromatin_NAS_8\\Exported_data\\20220713-Export\\Decoded_Fov-54.hdf5\n",
      "262453 is kept out of 262453\n"
     ]
    },
    {
     "name": "stderr",
     "output_type": "stream",
     "text": [
      "\r\n",
      "138it [06:51,  3.52s/it]"
     ]
    },
    {
     "name": "stdout",
     "output_type": "stream",
     "text": [
      "finishing processing \\\\10.245.74.158\\Chromatin_NAS_8\\Exported_data\\20220713-Export\\Decoded_Fov-55.hdf5\n",
      "228967 is kept out of 228967\n"
     ]
    },
    {
     "name": "stderr",
     "output_type": "stream",
     "text": [
      "\r\n",
      "139it [06:52,  2.64s/it]"
     ]
    },
    {
     "name": "stdout",
     "output_type": "stream",
     "text": [
      "finishing processing \\\\10.245.74.158\\Chromatin_NAS_8\\Exported_data\\20220713-Export\\Decoded_Fov-56.hdf5\n",
      "43672 is kept out of 43672\n"
     ]
    },
    {
     "name": "stderr",
     "output_type": "stream",
     "text": [
      "\r\n",
      "140it [06:56,  3.19s/it]"
     ]
    },
    {
     "name": "stdout",
     "output_type": "stream",
     "text": [
      "finishing processing \\\\10.245.74.158\\Chromatin_NAS_8\\Exported_data\\20220713-Export\\Decoded_Fov-57.hdf5\n",
      "314314 is kept out of 314314\n"
     ]
    },
    {
     "name": "stderr",
     "output_type": "stream",
     "text": [
      "\r\n",
      "141it [07:03,  4.19s/it]"
     ]
    },
    {
     "name": "stdout",
     "output_type": "stream",
     "text": [
      "finishing processing \\\\10.245.74.158\\Chromatin_NAS_8\\Exported_data\\20220713-Export\\Decoded_Fov-58.hdf5\n",
      "430134 is kept out of 430134\n"
     ]
    },
    {
     "name": "stderr",
     "output_type": "stream",
     "text": [
      "\r\n",
      "142it [07:06,  3.85s/it]"
     ]
    },
    {
     "name": "stdout",
     "output_type": "stream",
     "text": [
      "finishing processing \\\\10.245.74.158\\Chromatin_NAS_8\\Exported_data\\20220713-Export\\Decoded_Fov-59.hdf5\n",
      "203741 is kept out of 203741\n"
     ]
    },
    {
     "name": "stderr",
     "output_type": "stream",
     "text": [
      "\r\n",
      "143it [07:12,  4.36s/it]"
     ]
    },
    {
     "name": "stdout",
     "output_type": "stream",
     "text": [
      "finishing processing \\\\10.245.74.158\\Chromatin_NAS_8\\Exported_data\\20220713-Export\\Decoded_Fov-6.hdf5\n",
      "320931 is kept out of 320931\n"
     ]
    },
    {
     "name": "stderr",
     "output_type": "stream",
     "text": [
      "\r\n",
      "144it [07:14,  3.68s/it]"
     ]
    },
    {
     "name": "stdout",
     "output_type": "stream",
     "text": [
      "finishing processing \\\\10.245.74.158\\Chromatin_NAS_8\\Exported_data\\20220713-Export\\Decoded_Fov-60.hdf5\n",
      "156600 is kept out of 156600\n"
     ]
    },
    {
     "name": "stderr",
     "output_type": "stream",
     "text": [
      "\r\n",
      "145it [07:16,  3.37s/it]"
     ]
    },
    {
     "name": "stdout",
     "output_type": "stream",
     "text": [
      "finishing processing \\\\10.245.74.158\\Chromatin_NAS_8\\Exported_data\\20220713-Export\\Decoded_Fov-61.hdf5\n",
      "188897 is kept out of 188897\n"
     ]
    },
    {
     "name": "stderr",
     "output_type": "stream",
     "text": [
      "\r\n",
      "146it [07:21,  3.72s/it]"
     ]
    },
    {
     "name": "stdout",
     "output_type": "stream",
     "text": [
      "finishing processing \\\\10.245.74.158\\Chromatin_NAS_8\\Exported_data\\20220713-Export\\Decoded_Fov-62.hdf5\n",
      "288198 is kept out of 288198\n"
     ]
    },
    {
     "name": "stderr",
     "output_type": "stream",
     "text": [
      "\r\n",
      "147it [07:25,  3.91s/it]"
     ]
    },
    {
     "name": "stdout",
     "output_type": "stream",
     "text": [
      "finishing processing \\\\10.245.74.158\\Chromatin_NAS_8\\Exported_data\\20220713-Export\\Decoded_Fov-63.hdf5\n",
      "282212 is kept out of 282212\n"
     ]
    },
    {
     "name": "stderr",
     "output_type": "stream",
     "text": [
      "\r\n",
      "148it [07:31,  4.55s/it]"
     ]
    },
    {
     "name": "stdout",
     "output_type": "stream",
     "text": [
      "finishing processing \\\\10.245.74.158\\Chromatin_NAS_8\\Exported_data\\20220713-Export\\Decoded_Fov-64.hdf5\n",
      "376080 is kept out of 376080\n"
     ]
    },
    {
     "name": "stderr",
     "output_type": "stream",
     "text": [
      "\r\n",
      "149it [07:35,  4.41s/it]"
     ]
    },
    {
     "name": "stdout",
     "output_type": "stream",
     "text": [
      "finishing processing \\\\10.245.74.158\\Chromatin_NAS_8\\Exported_data\\20220713-Export\\Decoded_Fov-65.hdf5\n",
      "253641 is kept out of 253641\n"
     ]
    },
    {
     "name": "stderr",
     "output_type": "stream",
     "text": [
      "\r\n",
      "150it [07:37,  3.58s/it]"
     ]
    },
    {
     "name": "stdout",
     "output_type": "stream",
     "text": [
      "finishing processing \\\\10.245.74.158\\Chromatin_NAS_8\\Exported_data\\20220713-Export\\Decoded_Fov-66.hdf5\n",
      "95306 is kept out of 95306\n"
     ]
    },
    {
     "name": "stderr",
     "output_type": "stream",
     "text": [
      "\r\n",
      "151it [07:40,  3.29s/it]"
     ]
    },
    {
     "name": "stdout",
     "output_type": "stream",
     "text": [
      "finishing processing \\\\10.245.74.158\\Chromatin_NAS_8\\Exported_data\\20220713-Export\\Decoded_Fov-67.hdf5\n",
      "160880 is kept out of 160880\n"
     ]
    },
    {
     "name": "stderr",
     "output_type": "stream",
     "text": [
      "\r\n",
      "152it [07:44,  3.67s/it]"
     ]
    },
    {
     "name": "stdout",
     "output_type": "stream",
     "text": [
      "finishing processing \\\\10.245.74.158\\Chromatin_NAS_8\\Exported_data\\20220713-Export\\Decoded_Fov-68.hdf5\n",
      "274366 is kept out of 274366\n"
     ]
    },
    {
     "name": "stderr",
     "output_type": "stream",
     "text": [
      "\r\n",
      "153it [07:48,  3.76s/it]"
     ]
    },
    {
     "name": "stdout",
     "output_type": "stream",
     "text": [
      "finishing processing \\\\10.245.74.158\\Chromatin_NAS_8\\Exported_data\\20220713-Export\\Decoded_Fov-7.hdf5\n",
      "281266 is kept out of 281266\n"
     ]
    },
    {
     "name": "stderr",
     "output_type": "stream",
     "text": [
      "\r\n",
      "154it [07:51,  3.65s/it]"
     ]
    },
    {
     "name": "stdout",
     "output_type": "stream",
     "text": [
      "finishing processing \\\\10.245.74.158\\Chromatin_NAS_8\\Exported_data\\20220713-Export\\Decoded_Fov-70.hdf5\n",
      "328712 is kept out of 328712\n"
     ]
    },
    {
     "name": "stderr",
     "output_type": "stream",
     "text": [
      "\r\n",
      "155it [07:55,  3.47s/it]"
     ]
    },
    {
     "name": "stdout",
     "output_type": "stream",
     "text": [
      "finishing processing \\\\10.245.74.158\\Chromatin_NAS_8\\Exported_data\\20220713-Export\\Decoded_Fov-71.hdf5\n",
      "268691 is kept out of 268691\n"
     ]
    },
    {
     "name": "stderr",
     "output_type": "stream",
     "text": [
      "\r\n",
      "156it [07:57,  3.14s/it]"
     ]
    },
    {
     "name": "stdout",
     "output_type": "stream",
     "text": [
      "finishing processing \\\\10.245.74.158\\Chromatin_NAS_8\\Exported_data\\20220713-Export\\Decoded_Fov-72.hdf5\n",
      "209380 is kept out of 209380\n"
     ]
    },
    {
     "name": "stderr",
     "output_type": "stream",
     "text": [
      "\r\n",
      "157it [08:00,  3.16s/it]"
     ]
    },
    {
     "name": "stdout",
     "output_type": "stream",
     "text": [
      "finishing processing \\\\10.245.74.158\\Chromatin_NAS_8\\Exported_data\\20220713-Export\\Decoded_Fov-73.hdf5\n",
      "246770 is kept out of 246770\n"
     ]
    },
    {
     "name": "stderr",
     "output_type": "stream",
     "text": [
      "\r\n",
      "158it [08:03,  2.95s/it]"
     ]
    },
    {
     "name": "stdout",
     "output_type": "stream",
     "text": [
      "finishing processing \\\\10.245.74.158\\Chromatin_NAS_8\\Exported_data\\20220713-Export\\Decoded_Fov-74.hdf5\n",
      "183706 is kept out of 183706\n"
     ]
    },
    {
     "name": "stderr",
     "output_type": "stream",
     "text": [
      "\r\n",
      "159it [08:04,  2.42s/it]"
     ]
    },
    {
     "name": "stdout",
     "output_type": "stream",
     "text": [
      "finishing processing \\\\10.245.74.158\\Chromatin_NAS_8\\Exported_data\\20220713-Export\\Decoded_Fov-75.hdf5\n",
      "106866 is kept out of 106866\n"
     ]
    },
    {
     "name": "stderr",
     "output_type": "stream",
     "text": [
      "\r\n",
      "160it [08:04,  1.84s/it]"
     ]
    },
    {
     "name": "stdout",
     "output_type": "stream",
     "text": [
      "finishing processing \\\\10.245.74.158\\Chromatin_NAS_8\\Exported_data\\20220713-Export\\Decoded_Fov-76.hdf5\n",
      "27628 is kept out of 27628\n"
     ]
    },
    {
     "name": "stderr",
     "output_type": "stream",
     "text": [
      "\r\n",
      "161it [08:07,  1.98s/it]"
     ]
    },
    {
     "name": "stdout",
     "output_type": "stream",
     "text": [
      "finishing processing \\\\10.245.74.158\\Chromatin_NAS_8\\Exported_data\\20220713-Export\\Decoded_Fov-78.hdf5\n",
      "149387 is kept out of 149387\n"
     ]
    },
    {
     "name": "stderr",
     "output_type": "stream",
     "text": [
      "\r\n",
      "162it [08:10,  2.57s/it]"
     ]
    },
    {
     "name": "stdout",
     "output_type": "stream",
     "text": [
      "finishing processing \\\\10.245.74.158\\Chromatin_NAS_8\\Exported_data\\20220713-Export\\Decoded_Fov-79.hdf5\n",
      "304027 is kept out of 304027\n"
     ]
    },
    {
     "name": "stderr",
     "output_type": "stream",
     "text": [
      "\r\n",
      "163it [08:14,  2.73s/it]"
     ]
    },
    {
     "name": "stdout",
     "output_type": "stream",
     "text": [
      "finishing processing \\\\10.245.74.158\\Chromatin_NAS_8\\Exported_data\\20220713-Export\\Decoded_Fov-8.hdf5\n",
      "295274 is kept out of 295274\n"
     ]
    },
    {
     "name": "stderr",
     "output_type": "stream",
     "text": [
      "\r\n",
      "164it [08:15,  2.29s/it]"
     ]
    },
    {
     "name": "stdout",
     "output_type": "stream",
     "text": [
      "finishing processing \\\\10.245.74.158\\Chromatin_NAS_8\\Exported_data\\20220713-Export\\Decoded_Fov-80.hdf5\n",
      "126254 is kept out of 126254\n"
     ]
    },
    {
     "name": "stderr",
     "output_type": "stream",
     "text": [
      "166it [08:15,  1.24s/it]"
     ]
    },
    {
     "name": "stdout",
     "output_type": "stream",
     "text": [
      "finishing processing \\\\10.245.74.158\\Chromatin_NAS_8\\Exported_data\\20220713-Export\\Decoded_Fov-81.hdf5\n",
      "47890 is kept out of 47890\n",
      "finishing processing \\\\10.245.74.158\\Chromatin_NAS_8\\Exported_data\\20220713-Export\\Decoded_Fov-84.hdf5\n",
      "6199 is kept out of 6199\n"
     ]
    },
    {
     "name": "stderr",
     "output_type": "stream",
     "text": [
      "\r\n",
      "167it [08:19,  1.90s/it]"
     ]
    },
    {
     "name": "stdout",
     "output_type": "stream",
     "text": [
      "finishing processing \\\\10.245.74.158\\Chromatin_NAS_8\\Exported_data\\20220713-Export\\Decoded_Fov-9.hdf5\n",
      "289810 is kept out of 289810\n"
     ]
    },
    {
     "name": "stderr",
     "output_type": "stream",
     "text": [
      "\r\n",
      "168it [08:20,  1.74s/it]"
     ]
    },
    {
     "name": "stdout",
     "output_type": "stream",
     "text": [
      "finishing processing \\\\10.245.74.158\\Chromatin_NAS_8\\Exported_data\\20220713-Export\\Decoded_Fov-91.hdf5\n",
      "162891 is kept out of 162891\n",
      "finishing processing \\\\10.245.74.158\\Chromatin_NAS_8\\Exported_data\\20220713-Export\\Decoded_Fov-92.hdf5\n",
      "1234 is kept out of 1234\n"
     ]
    },
    {
     "name": "stderr",
     "output_type": "stream",
     "text": [
      "\r\n",
      "170it [08:22,  1.25s/it]"
     ]
    },
    {
     "name": "stdout",
     "output_type": "stream",
     "text": [
      "finishing processing \\\\10.245.74.158\\Chromatin_NAS_8\\Exported_data\\20220713-Export\\Decoded_Fov-94.hdf5\n",
      "119149 is kept out of 119149\n"
     ]
    },
    {
     "name": "stderr",
     "output_type": "stream",
     "text": [
      "\r\n",
      "171it [08:24,  1.47s/it]"
     ]
    },
    {
     "name": "stdout",
     "output_type": "stream",
     "text": [
      "finishing processing \\\\10.245.74.158\\Chromatin_NAS_8\\Exported_data\\20220713-Export\\Decoded_Fov-95.hdf5\n",
      "222098 is kept out of 222098\n"
     ]
    },
    {
     "name": "stderr",
     "output_type": "stream",
     "text": [
      "\r\n",
      "172it [08:26,  1.63s/it]"
     ]
    },
    {
     "name": "stdout",
     "output_type": "stream",
     "text": [
      "finishing processing \\\\10.245.74.158\\Chromatin_NAS_8\\Exported_data\\20220713-Export\\Decoded_Fov-96.hdf5\n",
      "231168 is kept out of 231168\n"
     ]
    },
    {
     "name": "stderr",
     "output_type": "stream",
     "text": [
      "\r\n",
      "173it [08:29,  2.15s/it]"
     ]
    },
    {
     "name": "stdout",
     "output_type": "stream",
     "text": [
      "finishing processing \\\\10.245.74.158\\Chromatin_NAS_8\\Exported_data\\20220713-Export\\Decoded_Fov-97.hdf5\n",
      "378305 is kept out of 378305\n"
     ]
    },
    {
     "name": "stderr",
     "output_type": "stream",
     "text": [
      "\r\n",
      "174it [08:34,  2.90s/it]"
     ]
    },
    {
     "name": "stdout",
     "output_type": "stream",
     "text": [
      "finishing processing \\\\10.245.74.158\\Chromatin_NAS_8\\Exported_data\\20220713-Export\\Decoded_Fov-98.hdf5\n",
      "482794 is kept out of 482794\n"
     ]
    },
    {
     "name": "stderr",
     "output_type": "stream",
     "text": [
      "175it [08:38,  2.96s/it]"
     ]
    },
    {
     "name": "stdout",
     "output_type": "stream",
     "text": [
      "finishing processing \\\\10.245.74.158\\Chromatin_NAS_8\\Exported_data\\20220713-Export\\Decoded_Fov-99.hdf5\n",
      "398196 is kept out of 398196\n"
     ]
    },
    {
     "name": "stderr",
     "output_type": "stream",
     "text": [
      "\n"
     ]
    }
   ],
   "source": [
    "#replicate_exp = '20220419'\n",
    "for i, _file in tqdm(enumerate(decoded_file_list[:])):\n",
    "    #check whether the file has been analyzed\n",
    "    if file_counts[i]:\n",
    "        continue\n",
    "    file_counts[i] = True\n",
    "    \n",
    "    with h5py.File(_file, \"r\") as f:\n",
    "        #print(\"Keys: %s\" % f.keys())\n",
    "        # get all cell keys to access the h5df\n",
    "        cell_key_list = list(f.keys())\n",
    "    \n",
    "    # append coords of each cell from the same decoded fov\n",
    "    _coords_df_fov_list=[]\n",
    "    for _cell_key in cell_key_list:\n",
    "        _coords_df = pd.read_hdf(_file, _cell_key)                   \n",
    "        if not _coords_df.empty:\n",
    "            _coords_df['orig_cellID']=_cell_key\n",
    "            _coords_df['FOV']=_file.split('Fov-')[-1].split('.hdf5')[0]\n",
    "            _coords_df['replicate']=replicate_exp\n",
    "            _coords_df['chr'] = _coords_df['chr'].apply(lambda x: 'chr'+x)\n",
    "            _coords_df_fov_list.append(_coords_df)\n",
    "    \n",
    "    _coords_df_fov = pd.concat(_coords_df_fov_list)\n",
    "\n",
    "    _coords_df_fov.reset_index(inplace=True)\n",
    "    _coords_df_fov.rename(columns={'center_z':'z_hat', 'center_y':'y_hat', 'center_x':'x_hat', \n",
    "                                    }, inplace = True)\n",
    "    \n",
    "    # spot num each fov\n",
    "    original_length = len(_coords_df_fov)\n",
    "    original_length_list.append(original_length)\n",
    "        \n",
    "    # convert physical locations to pixle...\n",
    "    # since 1 z pixel is not equvilant to 1 x/y pixel, convert z pixel to pseudo pixel\n",
    "    #_coords_df_fov.loc[:,'z_hat'] = (np.array(_coords_df_fov.loc[:,'z_hat'].values)/pixel_z)\n",
    "    _coords_df_fov.loc[:,'z_hat'] = (np.array(_coords_df_fov.loc[:,'z_hat'].values)/pixel_z)*pixel_z/pixel_x\n",
    "    _coords_df_fov.loc[:,'y_hat'] = np.array(_coords_df_fov.loc[:,'y_hat'].values)/pixel_y\n",
    "    _coords_df_fov.loc[:,'x_hat'] = np.array(_coords_df_fov.loc[:,'x_hat'].values)/pixel_x\n",
    "\n",
    "    #sigma = np.full((len(_coords_df_fov,),), 1)\n",
    "    sigma = 1\n",
    "    _coords_df_fov['sig_x'] = sigma\n",
    "    _coords_df_fov['sig_y'] = sigma\n",
    "    _coords_df_fov['sig_z'] = sigma\n",
    "\n",
    "    # append info below if necessary (some are redundant..)\n",
    "    # record hyb\n",
    "    _coords_df_fov['hyb'] = _coords_df_fov['region_name'].apply(lambda x: map_to_hyb(x))\n",
    "    # get other attributes for the dataframe\n",
    "    _coords_df_fov['celltype'] = _coords_df_fov['subclass']\n",
    "    # drop redundant info\n",
    "    _coords_df_fov.drop(columns=['level_0','subclass'],inplace=True)\n",
    "\n",
    "    \n",
    "    # append each fov\n",
    "    df_list.append(_coords_df_fov)\n",
    "    final_length = len(_coords_df_fov)\n",
    "    final_length_list.append(final_length)\n",
    "\n",
    "    print(f'finishing processing {_file}')\n",
    "    print(f'{final_length} is kept out of {original_length}')"
   ]
  },
  {
   "cell_type": "code",
   "execution_count": 16,
   "metadata": {},
   "outputs": [
    {
     "name": "stdout",
     "output_type": "stream",
     "text": [
      "174\n",
      "174\n"
     ]
    }
   ],
   "source": [
    "# concat all decoded spots\n",
    "#coord_df_exp = pd.concat(df_list)\n",
    "#print(len(coord_df_exp))\n",
    "print(len(final_length_list))\n",
    "print(len(original_length_list))"
   ]
  },
  {
   "cell_type": "code",
   "execution_count": null,
   "metadata": {},
   "outputs": [],
   "source": []
  },
  {
   "cell_type": "markdown",
   "metadata": {},
   "source": [
    "### save df into subset chunks"
   ]
  },
  {
   "cell_type": "code",
   "execution_count": 274,
   "metadata": {},
   "outputs": [],
   "source": [
    "# slow part; only save these when testing the script; would be more practical to process each fov hdf5-generated df direcly"
   ]
  },
  {
   "cell_type": "code",
   "execution_count": 17,
   "metadata": {},
   "outputs": [
    {
     "data": {
      "text/plain": [
       "174"
      ]
     },
     "execution_count": 17,
     "metadata": {},
     "output_type": "execute_result"
    }
   ],
   "source": [
    "len(df_list)"
   ]
  },
  {
   "cell_type": "code",
   "execution_count": 18,
   "metadata": {},
   "outputs": [
    {
     "data": {
      "text/plain": [
       "[range(0, 12),\n",
       " range(12, 24),\n",
       " range(24, 36),\n",
       " range(36, 48),\n",
       " range(48, 60),\n",
       " range(60, 72),\n",
       " range(72, 84),\n",
       " range(84, 96),\n",
       " range(96, 108),\n",
       " range(108, 120),\n",
       " range(120, 132),\n",
       " range(132, 144),\n",
       " range(144, 156),\n",
       " range(156, 168),\n",
       " range(168, 174)]"
      ]
     },
     "execution_count": 18,
     "metadata": {},
     "output_type": "execute_result"
    }
   ],
   "source": [
    "def chunks(lst, n):\n",
    "    \"\"\"Yield successive n-sized chunks from lst.\"\"\"\n",
    "    for i in range(0, len(lst), n):\n",
    "        yield lst[i:i + n]\n",
    "        \n",
    "chunk_ids_list = list(chunks(range(len(df_list)), 12))\n",
    "chunk_ids_list"
   ]
  },
  {
   "cell_type": "code",
   "execution_count": 19,
   "metadata": {},
   "outputs": [
    {
     "name": "stderr",
     "output_type": "stream",
     "text": [
      "15it [15:20, 61.39s/it]\n"
     ]
    }
   ],
   "source": [
    "#replicate_exp='20220402'\n",
    "merged_spot_folder=os.path.join(r'\\\\10.245.74.158\\Chromatin_NAS_8\\Exported_data\\jie_CW_decode', f'{replicate_exp}exp')\n",
    "\n",
    "for _ct, _ids in tqdm(enumerate(chunk_ids_list)):\n",
    "    coord_df_exp_subfname = os.path.join(merged_spot_folder, f'{replicate_exp}exp_cand_spots_part{_ct}.csv')\n",
    "    sub_df_list = df_list[_ids[0]:_ids[-1]]\n",
    "    #print(_ids)\n",
    "    sub_dfs = pd.concat(sub_df_list)\n",
    "    sub_dfs.to_csv(coord_df_exp_subfname, index=False)\n"
   ]
  },
  {
   "cell_type": "code",
   "execution_count": 20,
   "metadata": {},
   "outputs": [],
   "source": [
    "del df_list"
   ]
  }
 ],
 "metadata": {
  "kernelspec": {
   "display_name": "Python 3 (ipykernel)",
   "language": "python",
   "name": "python3"
  },
  "language_info": {
   "codemirror_mode": {
    "name": "ipython",
    "version": 3
   },
   "file_extension": ".py",
   "mimetype": "text/x-python",
   "name": "python",
   "nbconvert_exporter": "python",
   "pygments_lexer": "ipython3",
   "version": "3.10.8"
  },
  "toc": {
   "base_numbering": 1,
   "nav_menu": {},
   "number_sections": false,
   "sideBar": true,
   "skip_h1_title": false,
   "title_cell": "Table of Contents",
   "title_sidebar": "Contents",
   "toc_cell": false,
   "toc_position": {
    "height": "calc(100% - 180px)",
    "left": "10px",
    "top": "150px",
    "width": "203px"
   },
   "toc_section_display": true,
   "toc_window_display": true
  }
 },
 "nbformat": 4,
 "nbformat_minor": 4
}
