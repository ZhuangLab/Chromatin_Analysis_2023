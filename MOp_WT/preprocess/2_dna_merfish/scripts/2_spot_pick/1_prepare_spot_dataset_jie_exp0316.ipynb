{
 "cells": [
  {
   "cell_type": "markdown",
   "metadata": {},
   "source": [
    "# 1. Import packages\n",
    "\n",
    "The link to get [ImageAnalysis3](https://github.com/zhengpuas47/ImageAnalysis3) \n",
    "\n",
    "or the Zhuang lab archived [source_tools](https://github.com/ZhuangLab/Chromatin_Analysis_2020_cell/tree/master/sequential_tracing/source)"
   ]
  },
  {
   "cell_type": "code",
   "execution_count": 1,
   "metadata": {},
   "outputs": [],
   "source": [
    "import os"
   ]
  },
  {
   "cell_type": "code",
   "execution_count": 2,
   "metadata": {},
   "outputs": [
    {
     "name": "stdout",
     "output_type": "stream",
     "text": [
      "15888\n"
     ]
    }
   ],
   "source": [
    "%run \"C:\\Users\\shiwei\\Documents\\ImageAnalysis3\\required_files\\Startup_py3.py\"\n",
    "sys.path.append(r\"C:\\Users\\shiwei\\Documents\")\n",
    "\n",
    "import ImageAnalysis3 as ia\n",
    "%matplotlib notebook\n",
    "\n",
    "from ImageAnalysis3 import *\n",
    "print(os.getpid())\n",
    "\n",
    "import h5py\n",
    "from ImageAnalysis3.classes import _allowed_kwds\n",
    "import ast\n",
    "\n",
    "import pandas as pd"
   ]
  },
  {
   "cell_type": "markdown",
   "metadata": {},
   "source": [
    "# 2. Load refgen df"
   ]
  },
  {
   "cell_type": "code",
   "execution_count": 17,
   "metadata": {},
   "outputs": [],
   "source": [
    "codebook_folder = r'\\\\10.245.74.158\\Chromatin_NAS_8\\Analyzed_data\\MouseBrain_PostAnalysis'\n",
    "df_refgen_savename = os.path.join(codebook_folder,'refgen_df_for_jie.csv')"
   ]
  },
  {
   "cell_type": "code",
   "execution_count": 143,
   "metadata": {},
   "outputs": [
    {
     "data": {
      "text/html": [
       "<div>\n",
       "<style scoped>\n",
       "    .dataframe tbody tr th:only-of-type {\n",
       "        vertical-align: middle;\n",
       "    }\n",
       "\n",
       "    .dataframe tbody tr th {\n",
       "        vertical-align: top;\n",
       "    }\n",
       "\n",
       "    .dataframe thead th {\n",
       "        text-align: right;\n",
       "    }\n",
       "</style>\n",
       "<table border=\"1\" class=\"dataframe\">\n",
       "  <thead>\n",
       "    <tr style=\"text-align: right;\">\n",
       "      <th></th>\n",
       "      <th>name</th>\n",
       "      <th>id</th>\n",
       "      <th>chr</th>\n",
       "      <th>chr_order</th>\n",
       "      <th>library</th>\n",
       "      <th>dtype</th>\n",
       "      <th>loci_name</th>\n",
       "      <th>start</th>\n",
       "      <th>end</th>\n",
       "      <th>hyb</th>\n",
       "      <th>delta</th>\n",
       "      <th>region_id</th>\n",
       "    </tr>\n",
       "  </thead>\n",
       "  <tbody>\n",
       "    <tr>\n",
       "      <th>0</th>\n",
       "      <td>1:3742742-3759944</td>\n",
       "      <td>1</td>\n",
       "      <td>chr1</td>\n",
       "      <td>0</td>\n",
       "      <td>CTP11</td>\n",
       "      <td>combo</td>\n",
       "      <td>chr1_3742742_3759944</td>\n",
       "      <td>3742742</td>\n",
       "      <td>3759944</td>\n",
       "      <td>0</td>\n",
       "      <td>0</td>\n",
       "      <td>1</td>\n",
       "    </tr>\n",
       "    <tr>\n",
       "      <th>1</th>\n",
       "      <td>1:6245958-6258969</td>\n",
       "      <td>2</td>\n",
       "      <td>chr1</td>\n",
       "      <td>1</td>\n",
       "      <td>CTP11</td>\n",
       "      <td>combo</td>\n",
       "      <td>chr1_6245958_6258969</td>\n",
       "      <td>6245958</td>\n",
       "      <td>6258969</td>\n",
       "      <td>1</td>\n",
       "      <td>2503216</td>\n",
       "      <td>2</td>\n",
       "    </tr>\n",
       "    <tr>\n",
       "      <th>2</th>\n",
       "      <td>1:8740008-8759916</td>\n",
       "      <td>3</td>\n",
       "      <td>chr1</td>\n",
       "      <td>2</td>\n",
       "      <td>CTP11</td>\n",
       "      <td>combo</td>\n",
       "      <td>chr1_8740008_8759916</td>\n",
       "      <td>8740008</td>\n",
       "      <td>8759916</td>\n",
       "      <td>2</td>\n",
       "      <td>4997266</td>\n",
       "      <td>3</td>\n",
       "    </tr>\n",
       "    <tr>\n",
       "      <th>3</th>\n",
       "      <td>1:9627926-9637875</td>\n",
       "      <td>1</td>\n",
       "      <td>chr1</td>\n",
       "      <td>3</td>\n",
       "      <td>CTP13</td>\n",
       "      <td>combo</td>\n",
       "      <td>chr1_9627926_9637875</td>\n",
       "      <td>9627926</td>\n",
       "      <td>9637875</td>\n",
       "      <td>3</td>\n",
       "      <td>5885184</td>\n",
       "      <td>4</td>\n",
       "    </tr>\n",
       "    <tr>\n",
       "      <th>4</th>\n",
       "      <td>1:9799472-9811359</td>\n",
       "      <td>2</td>\n",
       "      <td>chr1</td>\n",
       "      <td>4</td>\n",
       "      <td>CTP13</td>\n",
       "      <td>combo</td>\n",
       "      <td>chr1_9799472_9811359</td>\n",
       "      <td>9799472</td>\n",
       "      <td>9811359</td>\n",
       "      <td>4</td>\n",
       "      <td>6056730</td>\n",
       "      <td>5</td>\n",
       "    </tr>\n",
       "    <tr>\n",
       "      <th>...</th>\n",
       "      <td>...</td>\n",
       "      <td>...</td>\n",
       "      <td>...</td>\n",
       "      <td>...</td>\n",
       "      <td>...</td>\n",
       "      <td>...</td>\n",
       "      <td>...</td>\n",
       "      <td>...</td>\n",
       "      <td>...</td>\n",
       "      <td>...</td>\n",
       "      <td>...</td>\n",
       "      <td>...</td>\n",
       "    </tr>\n",
       "    <tr>\n",
       "      <th>1977</th>\n",
       "      <td>X:166247682-166259932</td>\n",
       "      <td>1059</td>\n",
       "      <td>chrX</td>\n",
       "      <td>60</td>\n",
       "      <td>CTP11</td>\n",
       "      <td>combo</td>\n",
       "      <td>chrX_166247682_166259932</td>\n",
       "      <td>166247682</td>\n",
       "      <td>166259932</td>\n",
       "      <td>60</td>\n",
       "      <td>159996393</td>\n",
       "      <td>1978</td>\n",
       "    </tr>\n",
       "    <tr>\n",
       "      <th>1978</th>\n",
       "      <td>X:167157164-167167452</td>\n",
       "      <td>990</td>\n",
       "      <td>chrX</td>\n",
       "      <td>61</td>\n",
       "      <td>CTP13</td>\n",
       "      <td>combo</td>\n",
       "      <td>chrX_167157164_167167452</td>\n",
       "      <td>167157164</td>\n",
       "      <td>167167452</td>\n",
       "      <td>61</td>\n",
       "      <td>160905875</td>\n",
       "      <td>1979</td>\n",
       "    </tr>\n",
       "    <tr>\n",
       "      <th>1979</th>\n",
       "      <td>X:168746045-168757590</td>\n",
       "      <td>1060</td>\n",
       "      <td>chrX</td>\n",
       "      <td>62</td>\n",
       "      <td>CTP11</td>\n",
       "      <td>combo</td>\n",
       "      <td>chrX_168746045_168757590</td>\n",
       "      <td>168746045</td>\n",
       "      <td>168757590</td>\n",
       "      <td>62</td>\n",
       "      <td>162494756</td>\n",
       "      <td>1980</td>\n",
       "    </tr>\n",
       "    <tr>\n",
       "      <th>1980</th>\n",
       "      <td>X:169963295-170005197</td>\n",
       "      <td>991</td>\n",
       "      <td>chrX</td>\n",
       "      <td>63</td>\n",
       "      <td>CTP13</td>\n",
       "      <td>combo</td>\n",
       "      <td>chrX_169963295_170005197</td>\n",
       "      <td>169963295</td>\n",
       "      <td>170005197</td>\n",
       "      <td>63</td>\n",
       "      <td>163712006</td>\n",
       "      <td>1981</td>\n",
       "    </tr>\n",
       "    <tr>\n",
       "      <th>1981</th>\n",
       "      <td>Y:1245775-1259992</td>\n",
       "      <td>1062</td>\n",
       "      <td>chrY</td>\n",
       "      <td>0</td>\n",
       "      <td>CTP11</td>\n",
       "      <td>combo</td>\n",
       "      <td>chrY_1245775_1259992</td>\n",
       "      <td>1245775</td>\n",
       "      <td>1259992</td>\n",
       "      <td>0</td>\n",
       "      <td>0</td>\n",
       "      <td>1982</td>\n",
       "    </tr>\n",
       "  </tbody>\n",
       "</table>\n",
       "<p>1982 rows × 12 columns</p>\n",
       "</div>"
      ],
      "text/plain": [
       "                       name    id   chr  chr_order library  dtype  \\\n",
       "0         1:3742742-3759944     1  chr1          0   CTP11  combo   \n",
       "1         1:6245958-6258969     2  chr1          1   CTP11  combo   \n",
       "2         1:8740008-8759916     3  chr1          2   CTP11  combo   \n",
       "3         1:9627926-9637875     1  chr1          3   CTP13  combo   \n",
       "4         1:9799472-9811359     2  chr1          4   CTP13  combo   \n",
       "...                     ...   ...   ...        ...     ...    ...   \n",
       "1977  X:166247682-166259932  1059  chrX         60   CTP11  combo   \n",
       "1978  X:167157164-167167452   990  chrX         61   CTP13  combo   \n",
       "1979  X:168746045-168757590  1060  chrX         62   CTP11  combo   \n",
       "1980  X:169963295-170005197   991  chrX         63   CTP13  combo   \n",
       "1981      Y:1245775-1259992  1062  chrY          0   CTP11  combo   \n",
       "\n",
       "                     loci_name      start        end  hyb      delta  \\\n",
       "0         chr1_3742742_3759944    3742742    3759944    0          0   \n",
       "1         chr1_6245958_6258969    6245958    6258969    1    2503216   \n",
       "2         chr1_8740008_8759916    8740008    8759916    2    4997266   \n",
       "3         chr1_9627926_9637875    9627926    9637875    3    5885184   \n",
       "4         chr1_9799472_9811359    9799472    9811359    4    6056730   \n",
       "...                        ...        ...        ...  ...        ...   \n",
       "1977  chrX_166247682_166259932  166247682  166259932   60  159996393   \n",
       "1978  chrX_167157164_167167452  167157164  167167452   61  160905875   \n",
       "1979  chrX_168746045_168757590  168746045  168757590   62  162494756   \n",
       "1980  chrX_169963295_170005197  169963295  170005197   63  163712006   \n",
       "1981      chrY_1245775_1259992    1245775    1259992    0          0   \n",
       "\n",
       "      region_id  \n",
       "0             1  \n",
       "1             2  \n",
       "2             3  \n",
       "3             4  \n",
       "4             5  \n",
       "...         ...  \n",
       "1977       1978  \n",
       "1978       1979  \n",
       "1979       1980  \n",
       "1980       1981  \n",
       "1981       1982  \n",
       "\n",
       "[1982 rows x 12 columns]"
      ]
     },
     "execution_count": 143,
     "metadata": {},
     "output_type": "execute_result"
    }
   ],
   "source": [
    "df_refgen=pd.read_csv(df_refgen_savename,index_col=0)\n",
    "df_refgen['chr'] = df_refgen['chr'].apply(lambda x: 'chr'+x)\n",
    "df_refgen"
   ]
  },
  {
   "cell_type": "code",
   "execution_count": null,
   "metadata": {},
   "outputs": [],
   "source": []
  },
  {
   "cell_type": "markdown",
   "metadata": {},
   "source": [
    "# 3. Prepare candidate spots"
   ]
  },
  {
   "cell_type": "code",
   "execution_count": 3,
   "metadata": {},
   "outputs": [],
   "source": [
    "decode_main_folder = r'\\\\10.245.74.158\\Chromatin_NAS_8\\Exported_data'\n",
    "decode_exp_folder = os.path.join(decode_main_folder,'20220316-Export_new_v2')"
   ]
  },
  {
   "cell_type": "markdown",
   "metadata": {},
   "source": [
    "## Inspect one fov"
   ]
  },
  {
   "cell_type": "code",
   "execution_count": 10,
   "metadata": {},
   "outputs": [
    {
     "name": "stdout",
     "output_type": "stream",
     "text": [
      "\\\\10.245.74.158\\Chromatin_NAS_8\\Exported_data\\20220316-Export_new_v2\\Decoded_Fov-0.hdf5\n"
     ]
    },
    {
     "data": {
      "text/plain": [
       "True"
      ]
     },
     "execution_count": 10,
     "metadata": {},
     "output_type": "execute_result"
    }
   ],
   "source": [
    "fov_id = 0\n",
    "#cell_id = 0\n",
    "file_name_format = 'Decoded_Fov-' + str(fov_id) + '.hdf5'\n",
    "file_name = os.path.join(decode_exp_folder, file_name_format)\n",
    "print(file_name)\n",
    "os.path.exists(file_name)"
   ]
  },
  {
   "cell_type": "code",
   "execution_count": 22,
   "metadata": {},
   "outputs": [
    {
     "name": "stdout",
     "output_type": "stream",
     "text": [
      "Keys: <KeysViewHDF5 ['Cell-12', 'Cell-21', 'Cell-26', 'Cell-27', 'Cell-29', 'Cell-32', 'Cell-35', 'Cell-36', 'Cell-37', 'Cell-39', 'Cell-44', 'Cell-5', 'Cell-51', 'Cell-55', 'Cell-6', 'Cell-69', 'Cell-7', 'Cell-74', 'Cell-86', 'Cell-87', 'Cell-90']>\n"
     ]
    }
   ],
   "source": [
    "import h5py\n",
    "with h5py.File(file_name, \"r\") as f:\n",
    "    # Print all root level object names (aka keys) \n",
    "    # these can be group or dataset names \n",
    "    print(\"Keys: %s\" % f.keys())\n",
    "    cell_key_list = list(f.keys())"
   ]
  },
  {
   "cell_type": "code",
   "execution_count": 5,
   "metadata": {},
   "outputs": [
    {
     "data": {
      "text/html": [
       "<div>\n",
       "<style scoped>\n",
       "    .dataframe tbody tr th:only-of-type {\n",
       "        vertical-align: middle;\n",
       "    }\n",
       "\n",
       "    .dataframe tbody tr th {\n",
       "        vertical-align: top;\n",
       "    }\n",
       "\n",
       "    .dataframe thead th {\n",
       "        text-align: right;\n",
       "    }\n",
       "</style>\n",
       "<table border=\"1\" class=\"dataframe\">\n",
       "  <thead>\n",
       "    <tr style=\"text-align: right;\">\n",
       "      <th></th>\n",
       "      <th>region_name</th>\n",
       "      <th>chr</th>\n",
       "      <th>start</th>\n",
       "      <th>end</th>\n",
       "      <th>center_z</th>\n",
       "      <th>center_x</th>\n",
       "      <th>center_y</th>\n",
       "      <th>center_intensity</th>\n",
       "      <th>center_internal_dist</th>\n",
       "      <th>codebook_name</th>\n",
       "      <th>data_type</th>\n",
       "      <th>num_spots</th>\n",
       "      <th>index</th>\n",
       "      <th>chr_order</th>\n",
       "      <th>subclass</th>\n",
       "    </tr>\n",
       "  </thead>\n",
       "  <tbody>\n",
       "    <tr>\n",
       "      <th>0</th>\n",
       "      <td>6:28752590-28759974</td>\n",
       "      <td>6</td>\n",
       "      <td>28752590</td>\n",
       "      <td>28759974</td>\n",
       "      <td>2081.328667</td>\n",
       "      <td>34116.85620</td>\n",
       "      <td>42847.10208</td>\n",
       "      <td>8355.274133</td>\n",
       "      <td>99.318532</td>\n",
       "      <td>CTP11</td>\n",
       "      <td>combo</td>\n",
       "      <td>3</td>\n",
       "      <td>335</td>\n",
       "      <td>19</td>\n",
       "      <td>L4/5 IT</td>\n",
       "    </tr>\n",
       "    <tr>\n",
       "      <th>1</th>\n",
       "      <td>8:8751397-8760001</td>\n",
       "      <td>8</td>\n",
       "      <td>8751397</td>\n",
       "      <td>8760001</td>\n",
       "      <td>1986.240192</td>\n",
       "      <td>32615.17848</td>\n",
       "      <td>45521.82072</td>\n",
       "      <td>9084.395867</td>\n",
       "      <td>51.782433</td>\n",
       "      <td>CTP11</td>\n",
       "      <td>combo</td>\n",
       "      <td>3</td>\n",
       "      <td>434</td>\n",
       "      <td>3</td>\n",
       "      <td>L4/5 IT</td>\n",
       "    </tr>\n",
       "    <tr>\n",
       "      <th>2</th>\n",
       "      <td>1:83750651-83759990</td>\n",
       "      <td>1</td>\n",
       "      <td>83750651</td>\n",
       "      <td>83759990</td>\n",
       "      <td>2488.296083</td>\n",
       "      <td>38862.71640</td>\n",
       "      <td>45667.17144</td>\n",
       "      <td>10986.378333</td>\n",
       "      <td>114.876765</td>\n",
       "      <td>CTP11</td>\n",
       "      <td>combo</td>\n",
       "      <td>3</td>\n",
       "      <td>32</td>\n",
       "      <td>71</td>\n",
       "      <td>L4/5 IT</td>\n",
       "    </tr>\n",
       "    <tr>\n",
       "      <th>3</th>\n",
       "      <td>7:6245207-6259885</td>\n",
       "      <td>7</td>\n",
       "      <td>6245207</td>\n",
       "      <td>6259885</td>\n",
       "      <td>2900.132667</td>\n",
       "      <td>32926.95720</td>\n",
       "      <td>47545.48548</td>\n",
       "      <td>7849.650667</td>\n",
       "      <td>44.859157</td>\n",
       "      <td>CTP11</td>\n",
       "      <td>combo</td>\n",
       "      <td>3</td>\n",
       "      <td>383</td>\n",
       "      <td>1</td>\n",
       "      <td>L4/5 IT</td>\n",
       "    </tr>\n",
       "    <tr>\n",
       "      <th>4</th>\n",
       "      <td>9:103751784-103759999</td>\n",
       "      <td>9</td>\n",
       "      <td>103751784</td>\n",
       "      <td>103759999</td>\n",
       "      <td>2702.115000</td>\n",
       "      <td>30843.61524</td>\n",
       "      <td>47272.30740</td>\n",
       "      <td>7981.088000</td>\n",
       "      <td>117.048521</td>\n",
       "      <td>CTP11</td>\n",
       "      <td>combo</td>\n",
       "      <td>3</td>\n",
       "      <td>521</td>\n",
       "      <td>81</td>\n",
       "      <td>L4/5 IT</td>\n",
       "    </tr>\n",
       "    <tr>\n",
       "      <th>...</th>\n",
       "      <td>...</td>\n",
       "      <td>...</td>\n",
       "      <td>...</td>\n",
       "      <td>...</td>\n",
       "      <td>...</td>\n",
       "      <td>...</td>\n",
       "      <td>...</td>\n",
       "      <td>...</td>\n",
       "      <td>...</td>\n",
       "      <td>...</td>\n",
       "      <td>...</td>\n",
       "      <td>...</td>\n",
       "      <td>...</td>\n",
       "      <td>...</td>\n",
       "      <td>...</td>\n",
       "    </tr>\n",
       "    <tr>\n",
       "      <th>2170</th>\n",
       "      <td>12:49390472-49400609</td>\n",
       "      <td>12</td>\n",
       "      <td>49390472</td>\n",
       "      <td>49400609</td>\n",
       "      <td>6356.214625</td>\n",
       "      <td>33752.35332</td>\n",
       "      <td>46437.01056</td>\n",
       "      <td>525.943585</td>\n",
       "      <td>250.926387</td>\n",
       "      <td>CTP13</td>\n",
       "      <td>combo</td>\n",
       "      <td>2</td>\n",
       "      <td>1681</td>\n",
       "      <td>29</td>\n",
       "      <td>L4/5 IT</td>\n",
       "    </tr>\n",
       "    <tr>\n",
       "      <th>2171</th>\n",
       "      <td>11:115403529-115412048</td>\n",
       "      <td>11</td>\n",
       "      <td>115403529</td>\n",
       "      <td>115412048</td>\n",
       "      <td>2194.897375</td>\n",
       "      <td>31526.56728</td>\n",
       "      <td>42528.68172</td>\n",
       "      <td>543.116650</td>\n",
       "      <td>278.097124</td>\n",
       "      <td>CTP13</td>\n",
       "      <td>combo</td>\n",
       "      <td>2</td>\n",
       "      <td>1666</td>\n",
       "      <td>100</td>\n",
       "      <td>L4/5 IT</td>\n",
       "    </tr>\n",
       "    <tr>\n",
       "      <th>2172</th>\n",
       "      <td>6:128405655-128428900</td>\n",
       "      <td>6</td>\n",
       "      <td>128405655</td>\n",
       "      <td>128428900</td>\n",
       "      <td>4846.436500</td>\n",
       "      <td>33453.37638</td>\n",
       "      <td>44626.37868</td>\n",
       "      <td>498.508605</td>\n",
       "      <td>212.489788</td>\n",
       "      <td>CTP13</td>\n",
       "      <td>combo</td>\n",
       "      <td>2</td>\n",
       "      <td>1387</td>\n",
       "      <td>96</td>\n",
       "      <td>L4/5 IT</td>\n",
       "    </tr>\n",
       "    <tr>\n",
       "      <th>2173</th>\n",
       "      <td>3:87301814-87320325</td>\n",
       "      <td>3</td>\n",
       "      <td>87301814</td>\n",
       "      <td>87320325</td>\n",
       "      <td>2067.096375</td>\n",
       "      <td>27769.61880</td>\n",
       "      <td>42261.65982</td>\n",
       "      <td>634.601560</td>\n",
       "      <td>288.701858</td>\n",
       "      <td>CTP13</td>\n",
       "      <td>combo</td>\n",
       "      <td>2</td>\n",
       "      <td>1193</td>\n",
       "      <td>63</td>\n",
       "      <td>L4/5 IT</td>\n",
       "    </tr>\n",
       "    <tr>\n",
       "      <th>2174</th>\n",
       "      <td>5:91595626-91603911</td>\n",
       "      <td>5</td>\n",
       "      <td>91595626</td>\n",
       "      <td>91603911</td>\n",
       "      <td>1937.520913</td>\n",
       "      <td>35225.75250</td>\n",
       "      <td>42369.43842</td>\n",
       "      <td>638.992185</td>\n",
       "      <td>293.083935</td>\n",
       "      <td>CTP13</td>\n",
       "      <td>combo</td>\n",
       "      <td>2</td>\n",
       "      <td>1318</td>\n",
       "      <td>71</td>\n",
       "      <td>L4/5 IT</td>\n",
       "    </tr>\n",
       "  </tbody>\n",
       "</table>\n",
       "<p>2175 rows × 15 columns</p>\n",
       "</div>"
      ],
      "text/plain": [
       "                 region_name chr      start        end     center_z  \\\n",
       "0        6:28752590-28759974   6   28752590   28759974  2081.328667   \n",
       "1          8:8751397-8760001   8    8751397    8760001  1986.240192   \n",
       "2        1:83750651-83759990   1   83750651   83759990  2488.296083   \n",
       "3          7:6245207-6259885   7    6245207    6259885  2900.132667   \n",
       "4      9:103751784-103759999   9  103751784  103759999  2702.115000   \n",
       "...                      ...  ..        ...        ...          ...   \n",
       "2170    12:49390472-49400609  12   49390472   49400609  6356.214625   \n",
       "2171  11:115403529-115412048  11  115403529  115412048  2194.897375   \n",
       "2172   6:128405655-128428900   6  128405655  128428900  4846.436500   \n",
       "2173     3:87301814-87320325   3   87301814   87320325  2067.096375   \n",
       "2174     5:91595626-91603911   5   91595626   91603911  1937.520913   \n",
       "\n",
       "         center_x     center_y  center_intensity  center_internal_dist  \\\n",
       "0     34116.85620  42847.10208       8355.274133             99.318532   \n",
       "1     32615.17848  45521.82072       9084.395867             51.782433   \n",
       "2     38862.71640  45667.17144      10986.378333            114.876765   \n",
       "3     32926.95720  47545.48548       7849.650667             44.859157   \n",
       "4     30843.61524  47272.30740       7981.088000            117.048521   \n",
       "...           ...          ...               ...                   ...   \n",
       "2170  33752.35332  46437.01056        525.943585            250.926387   \n",
       "2171  31526.56728  42528.68172        543.116650            278.097124   \n",
       "2172  33453.37638  44626.37868        498.508605            212.489788   \n",
       "2173  27769.61880  42261.65982        634.601560            288.701858   \n",
       "2174  35225.75250  42369.43842        638.992185            293.083935   \n",
       "\n",
       "     codebook_name data_type  num_spots  index  chr_order subclass  \n",
       "0            CTP11     combo          3    335         19  L4/5 IT  \n",
       "1            CTP11     combo          3    434          3  L4/5 IT  \n",
       "2            CTP11     combo          3     32         71  L4/5 IT  \n",
       "3            CTP11     combo          3    383          1  L4/5 IT  \n",
       "4            CTP11     combo          3    521         81  L4/5 IT  \n",
       "...            ...       ...        ...    ...        ...      ...  \n",
       "2170         CTP13     combo          2   1681         29  L4/5 IT  \n",
       "2171         CTP13     combo          2   1666        100  L4/5 IT  \n",
       "2172         CTP13     combo          2   1387         96  L4/5 IT  \n",
       "2173         CTP13     combo          2   1193         63  L4/5 IT  \n",
       "2174         CTP13     combo          2   1318         71  L4/5 IT  \n",
       "\n",
       "[2175 rows x 15 columns]"
      ]
     },
     "execution_count": 5,
     "metadata": {},
     "output_type": "execute_result"
    }
   ],
   "source": [
    "coords_df = pd.read_hdf(file_name, 'Cell-108')\n",
    "coords_df"
   ]
  },
  {
   "cell_type": "code",
   "execution_count": 25,
   "metadata": {},
   "outputs": [
    {
     "data": {
      "text/html": [
       "<div>\n",
       "<style scoped>\n",
       "    .dataframe tbody tr th:only-of-type {\n",
       "        vertical-align: middle;\n",
       "    }\n",
       "\n",
       "    .dataframe tbody tr th {\n",
       "        vertical-align: top;\n",
       "    }\n",
       "\n",
       "    .dataframe thead th {\n",
       "        text-align: right;\n",
       "    }\n",
       "</style>\n",
       "<table border=\"1\" class=\"dataframe\">\n",
       "  <thead>\n",
       "    <tr style=\"text-align: right;\">\n",
       "      <th></th>\n",
       "      <th>region_name</th>\n",
       "      <th>chr</th>\n",
       "      <th>start</th>\n",
       "      <th>end</th>\n",
       "      <th>center_z</th>\n",
       "      <th>center_x</th>\n",
       "      <th>center_y</th>\n",
       "      <th>center_intensity</th>\n",
       "      <th>center_internal_dist</th>\n",
       "      <th>codebook_name</th>\n",
       "      <th>data_type</th>\n",
       "      <th>num_spots</th>\n",
       "      <th>index</th>\n",
       "      <th>chr_order</th>\n",
       "      <th>subclass</th>\n",
       "    </tr>\n",
       "  </thead>\n",
       "  <tbody>\n",
       "    <tr>\n",
       "      <th>935</th>\n",
       "      <td>5:31098237-31118237</td>\n",
       "      <td>5</td>\n",
       "      <td>31098237</td>\n",
       "      <td>31118237</td>\n",
       "      <td>3765.82375</td>\n",
       "      <td>36526.2534</td>\n",
       "      <td>45388.2204</td>\n",
       "      <td>1622.5819</td>\n",
       "      <td>NaN</td>\n",
       "      <td>CTP12tss</td>\n",
       "      <td>unique</td>\n",
       "      <td>1</td>\n",
       "      <td>988</td>\n",
       "      <td>21</td>\n",
       "      <td>L4/5 IT</td>\n",
       "    </tr>\n",
       "    <tr>\n",
       "      <th>936</th>\n",
       "      <td>7:45153949-45173949</td>\n",
       "      <td>7</td>\n",
       "      <td>45153949</td>\n",
       "      <td>45173949</td>\n",
       "      <td>3250.00000</td>\n",
       "      <td>28296.0000</td>\n",
       "      <td>48168.0000</td>\n",
       "      <td>64910.8800</td>\n",
       "      <td>NaN</td>\n",
       "      <td>CTP12tss</td>\n",
       "      <td>unique</td>\n",
       "      <td>1</td>\n",
       "      <td>989</td>\n",
       "      <td>19</td>\n",
       "      <td>L4/5 IT</td>\n",
       "    </tr>\n",
       "    <tr>\n",
       "      <th>937</th>\n",
       "      <td>7:45153949-45173949</td>\n",
       "      <td>7</td>\n",
       "      <td>45153949</td>\n",
       "      <td>45173949</td>\n",
       "      <td>4000.00000</td>\n",
       "      <td>28404.0000</td>\n",
       "      <td>48168.0000</td>\n",
       "      <td>64142.4700</td>\n",
       "      <td>NaN</td>\n",
       "      <td>CTP12tss</td>\n",
       "      <td>unique</td>\n",
       "      <td>1</td>\n",
       "      <td>989</td>\n",
       "      <td>19</td>\n",
       "      <td>L4/5 IT</td>\n",
       "    </tr>\n",
       "    <tr>\n",
       "      <th>938</th>\n",
       "      <td>7:45153949-45173949</td>\n",
       "      <td>7</td>\n",
       "      <td>45153949</td>\n",
       "      <td>45173949</td>\n",
       "      <td>2000.00000</td>\n",
       "      <td>28836.0000</td>\n",
       "      <td>48060.0000</td>\n",
       "      <td>64622.4300</td>\n",
       "      <td>NaN</td>\n",
       "      <td>CTP12tss</td>\n",
       "      <td>unique</td>\n",
       "      <td>1</td>\n",
       "      <td>989</td>\n",
       "      <td>19</td>\n",
       "      <td>L4/5 IT</td>\n",
       "    </tr>\n",
       "    <tr>\n",
       "      <th>939</th>\n",
       "      <td>7:45153949-45173949</td>\n",
       "      <td>7</td>\n",
       "      <td>45153949</td>\n",
       "      <td>45173949</td>\n",
       "      <td>1750.00000</td>\n",
       "      <td>28404.0000</td>\n",
       "      <td>46656.0000</td>\n",
       "      <td>64790.2770</td>\n",
       "      <td>NaN</td>\n",
       "      <td>CTP12tss</td>\n",
       "      <td>unique</td>\n",
       "      <td>1</td>\n",
       "      <td>989</td>\n",
       "      <td>19</td>\n",
       "      <td>L4/5 IT</td>\n",
       "    </tr>\n",
       "  </tbody>\n",
       "</table>\n",
       "</div>"
      ],
      "text/plain": [
       "             region_name chr     start       end    center_z    center_x  \\\n",
       "935  5:31098237-31118237   5  31098237  31118237  3765.82375  36526.2534   \n",
       "936  7:45153949-45173949   7  45153949  45173949  3250.00000  28296.0000   \n",
       "937  7:45153949-45173949   7  45153949  45173949  4000.00000  28404.0000   \n",
       "938  7:45153949-45173949   7  45153949  45173949  2000.00000  28836.0000   \n",
       "939  7:45153949-45173949   7  45153949  45173949  1750.00000  28404.0000   \n",
       "\n",
       "       center_y  center_intensity  center_internal_dist codebook_name  \\\n",
       "935  45388.2204         1622.5819                   NaN      CTP12tss   \n",
       "936  48168.0000        64910.8800                   NaN      CTP12tss   \n",
       "937  48168.0000        64142.4700                   NaN      CTP12tss   \n",
       "938  48060.0000        64622.4300                   NaN      CTP12tss   \n",
       "939  46656.0000        64790.2770                   NaN      CTP12tss   \n",
       "\n",
       "    data_type  num_spots  index  chr_order subclass  \n",
       "935    unique          1    988         21  L4/5 IT  \n",
       "936    unique          1    989         19  L4/5 IT  \n",
       "937    unique          1    989         19  L4/5 IT  \n",
       "938    unique          1    989         19  L4/5 IT  \n",
       "939    unique          1    989         19  L4/5 IT  "
      ]
     },
     "execution_count": 25,
     "metadata": {},
     "output_type": "execute_result"
    }
   ],
   "source": [
    "coords_df[coords_df['codebook_name']=='CTP12tss'].head()"
   ]
  },
  {
   "cell_type": "markdown",
   "metadata": {},
   "source": [
    "## Process all fov"
   ]
  },
  {
   "cell_type": "markdown",
   "metadata": {},
   "source": [
    "### shared params"
   ]
  },
  {
   "cell_type": "code",
   "execution_count": 11,
   "metadata": {},
   "outputs": [],
   "source": [
    "pixel_z, pixel_x, pixel_y = 250, 108, 108"
   ]
  },
  {
   "cell_type": "code",
   "execution_count": 45,
   "metadata": {},
   "outputs": [],
   "source": [
    "from tqdm import tqdm"
   ]
  },
  {
   "cell_type": "code",
   "execution_count": 44,
   "metadata": {},
   "outputs": [],
   "source": [
    "# map info from df_ref_gen to coords; hyb should be the same as chromosome order\n",
    "geneID_to_hyb = {name:hyb for name, hyb in zip(df_refgen['name'], df_refgen['hyb'])}    \n",
    "\n",
    "def map_to_hyb(gene_name):\n",
    "    return geneID_to_hyb[gene_name]"
   ]
  },
  {
   "cell_type": "code",
   "execution_count": 57,
   "metadata": {},
   "outputs": [
    {
     "data": {
      "text/plain": [
       "11.328784332"
      ]
     },
     "execution_count": 57,
     "metadata": {},
     "output_type": "execute_result"
    }
   ],
   "source": [
    "4240.806192/pixel_x\n",
    "123492.8160/pixel_y\n",
    "5762.010083/pixel_z\n",
    "2832.196083/pixel_z"
   ]
  },
  {
   "cell_type": "code",
   "execution_count": 15,
   "metadata": {},
   "outputs": [
    {
     "data": {
      "text/plain": [
       "['\\\\\\\\10.245.74.158\\\\Chromatin_NAS_8\\\\Exported_data\\\\20220316-Export_new_v2\\\\Decoded_Fov-0.hdf5',\n",
       " '\\\\\\\\10.245.74.158\\\\Chromatin_NAS_8\\\\Exported_data\\\\20220316-Export_new_v2\\\\Decoded_Fov-1.hdf5',\n",
       " '\\\\\\\\10.245.74.158\\\\Chromatin_NAS_8\\\\Exported_data\\\\20220316-Export_new_v2\\\\Decoded_Fov-10.hdf5']"
      ]
     },
     "execution_count": 15,
     "metadata": {},
     "output_type": "execute_result"
    }
   ],
   "source": [
    "decoded_file_list = [os.path.join(decode_exp_folder, _fl) for _fl in os.listdir(decode_exp_folder) if '.hdf5' in _fl]\n",
    "decoded_file_list[:3]"
   ]
  },
  {
   "cell_type": "markdown",
   "metadata": {},
   "source": [
    "### start process"
   ]
  },
  {
   "cell_type": "code",
   "execution_count": 270,
   "metadata": {},
   "outputs": [],
   "source": [
    "df_list = []\n",
    "# ini file counter\n",
    "file_counts = np.full((len(decoded_file_list),), False)\n",
    "original_length_list = []\n",
    "final_length_list = []\n",
    "cell_ids_list = []"
   ]
  },
  {
   "cell_type": "code",
   "execution_count": 271,
   "metadata": {},
   "outputs": [
    {
     "name": "stderr",
     "output_type": "stream",
     "text": [
      "1it [00:01,  1.02s/it]"
     ]
    },
    {
     "name": "stdout",
     "output_type": "stream",
     "text": [
      "finishing processing \\\\10.245.74.158\\Chromatin_NAS_8\\Exported_data\\20220316-Export_new_v2\\Decoded_Fov-0.hdf5\n",
      "112400 is kept out of 112400\n"
     ]
    },
    {
     "name": "stderr",
     "output_type": "stream",
     "text": [
      "\r\n",
      "2it [00:05,  3.13s/it]"
     ]
    },
    {
     "name": "stdout",
     "output_type": "stream",
     "text": [
      "finishing processing \\\\10.245.74.158\\Chromatin_NAS_8\\Exported_data\\20220316-Export_new_v2\\Decoded_Fov-1.hdf5\n",
      "372245 is kept out of 372245\n"
     ]
    },
    {
     "name": "stderr",
     "output_type": "stream",
     "text": [
      "\r\n",
      "3it [00:07,  2.62s/it]"
     ]
    },
    {
     "name": "stdout",
     "output_type": "stream",
     "text": [
      "finishing processing \\\\10.245.74.158\\Chromatin_NAS_8\\Exported_data\\20220316-Export_new_v2\\Decoded_Fov-10.hdf5\n",
      "345355 is kept out of 345355\n"
     ]
    },
    {
     "name": "stderr",
     "output_type": "stream",
     "text": [
      "\r\n",
      "4it [00:11,  2.99s/it]"
     ]
    },
    {
     "name": "stdout",
     "output_type": "stream",
     "text": [
      "finishing processing \\\\10.245.74.158\\Chromatin_NAS_8\\Exported_data\\20220316-Export_new_v2\\Decoded_Fov-100.hdf5\n",
      "292473 is kept out of 292473\n"
     ]
    },
    {
     "name": "stderr",
     "output_type": "stream",
     "text": [
      "\r\n",
      "5it [00:15,  3.47s/it]"
     ]
    },
    {
     "name": "stdout",
     "output_type": "stream",
     "text": [
      "finishing processing \\\\10.245.74.158\\Chromatin_NAS_8\\Exported_data\\20220316-Export_new_v2\\Decoded_Fov-101.hdf5\n",
      "344696 is kept out of 344696\n"
     ]
    },
    {
     "name": "stderr",
     "output_type": "stream",
     "text": [
      "\r\n",
      "6it [00:20,  4.12s/it]"
     ]
    },
    {
     "name": "stdout",
     "output_type": "stream",
     "text": [
      "finishing processing \\\\10.245.74.158\\Chromatin_NAS_8\\Exported_data\\20220316-Export_new_v2\\Decoded_Fov-102.hdf5\n",
      "402428 is kept out of 402428\n"
     ]
    },
    {
     "name": "stderr",
     "output_type": "stream",
     "text": [
      "\r\n",
      "7it [00:24,  4.09s/it]"
     ]
    },
    {
     "name": "stdout",
     "output_type": "stream",
     "text": [
      "finishing processing \\\\10.245.74.158\\Chromatin_NAS_8\\Exported_data\\20220316-Export_new_v2\\Decoded_Fov-103.hdf5\n",
      "360425 is kept out of 360425\n"
     ]
    },
    {
     "name": "stderr",
     "output_type": "stream",
     "text": [
      "\r\n",
      "8it [00:29,  4.26s/it]"
     ]
    },
    {
     "name": "stdout",
     "output_type": "stream",
     "text": [
      "finishing processing \\\\10.245.74.158\\Chromatin_NAS_8\\Exported_data\\20220316-Export_new_v2\\Decoded_Fov-104.hdf5\n",
      "462397 is kept out of 462397\n"
     ]
    },
    {
     "name": "stderr",
     "output_type": "stream",
     "text": [
      "\r\n",
      "9it [00:33,  4.07s/it]"
     ]
    },
    {
     "name": "stdout",
     "output_type": "stream",
     "text": [
      "finishing processing \\\\10.245.74.158\\Chromatin_NAS_8\\Exported_data\\20220316-Export_new_v2\\Decoded_Fov-105.hdf5\n",
      "363461 is kept out of 363461\n"
     ]
    },
    {
     "name": "stderr",
     "output_type": "stream",
     "text": [
      "\r\n",
      "10it [00:38,  4.42s/it]"
     ]
    },
    {
     "name": "stdout",
     "output_type": "stream",
     "text": [
      "finishing processing \\\\10.245.74.158\\Chromatin_NAS_8\\Exported_data\\20220316-Export_new_v2\\Decoded_Fov-106.hdf5\n",
      "474807 is kept out of 474807\n"
     ]
    },
    {
     "name": "stderr",
     "output_type": "stream",
     "text": [
      "\r\n",
      "11it [00:40,  3.78s/it]"
     ]
    },
    {
     "name": "stdout",
     "output_type": "stream",
     "text": [
      "finishing processing \\\\10.245.74.158\\Chromatin_NAS_8\\Exported_data\\20220316-Export_new_v2\\Decoded_Fov-107.hdf5\n",
      "395198 is kept out of 395198\n"
     ]
    },
    {
     "name": "stderr",
     "output_type": "stream",
     "text": [
      "\r\n",
      "12it [00:44,  3.79s/it]"
     ]
    },
    {
     "name": "stdout",
     "output_type": "stream",
     "text": [
      "finishing processing \\\\10.245.74.158\\Chromatin_NAS_8\\Exported_data\\20220316-Export_new_v2\\Decoded_Fov-108.hdf5\n",
      "390253 is kept out of 390253\n"
     ]
    },
    {
     "name": "stderr",
     "output_type": "stream",
     "text": [
      "\r\n",
      "13it [00:49,  4.14s/it]"
     ]
    },
    {
     "name": "stdout",
     "output_type": "stream",
     "text": [
      "finishing processing \\\\10.245.74.158\\Chromatin_NAS_8\\Exported_data\\20220316-Export_new_v2\\Decoded_Fov-109.hdf5\n",
      "522885 is kept out of 522885\n"
     ]
    },
    {
     "name": "stderr",
     "output_type": "stream",
     "text": [
      "\r\n",
      "14it [00:54,  4.36s/it]"
     ]
    },
    {
     "name": "stdout",
     "output_type": "stream",
     "text": [
      "finishing processing \\\\10.245.74.158\\Chromatin_NAS_8\\Exported_data\\20220316-Export_new_v2\\Decoded_Fov-11.hdf5\n",
      "421091 is kept out of 421091\n"
     ]
    },
    {
     "name": "stderr",
     "output_type": "stream",
     "text": [
      "\r\n",
      "15it [00:58,  4.29s/it]"
     ]
    },
    {
     "name": "stdout",
     "output_type": "stream",
     "text": [
      "finishing processing \\\\10.245.74.158\\Chromatin_NAS_8\\Exported_data\\20220316-Export_new_v2\\Decoded_Fov-110.hdf5\n",
      "448218 is kept out of 448218\n"
     ]
    },
    {
     "name": "stderr",
     "output_type": "stream",
     "text": [
      "\r\n",
      "16it [01:03,  4.42s/it]"
     ]
    },
    {
     "name": "stdout",
     "output_type": "stream",
     "text": [
      "finishing processing \\\\10.245.74.158\\Chromatin_NAS_8\\Exported_data\\20220316-Export_new_v2\\Decoded_Fov-111.hdf5\n",
      "519795 is kept out of 519795\n"
     ]
    },
    {
     "name": "stderr",
     "output_type": "stream",
     "text": [
      "\r\n",
      "17it [01:09,  4.94s/it]"
     ]
    },
    {
     "name": "stdout",
     "output_type": "stream",
     "text": [
      "finishing processing \\\\10.245.74.158\\Chromatin_NAS_8\\Exported_data\\20220316-Export_new_v2\\Decoded_Fov-112.hdf5\n",
      "557585 is kept out of 557585\n"
     ]
    },
    {
     "name": "stderr",
     "output_type": "stream",
     "text": [
      "\r\n",
      "18it [01:12,  4.32s/it]"
     ]
    },
    {
     "name": "stdout",
     "output_type": "stream",
     "text": [
      "finishing processing \\\\10.245.74.158\\Chromatin_NAS_8\\Exported_data\\20220316-Export_new_v2\\Decoded_Fov-113.hdf5\n",
      "336447 is kept out of 336447\n"
     ]
    },
    {
     "name": "stderr",
     "output_type": "stream",
     "text": [
      "\r\n",
      "19it [01:16,  4.19s/it]"
     ]
    },
    {
     "name": "stdout",
     "output_type": "stream",
     "text": [
      "finishing processing \\\\10.245.74.158\\Chromatin_NAS_8\\Exported_data\\20220316-Export_new_v2\\Decoded_Fov-114.hdf5\n",
      "478073 is kept out of 478073\n"
     ]
    },
    {
     "name": "stderr",
     "output_type": "stream",
     "text": [
      "\r\n",
      "20it [01:20,  4.33s/it]"
     ]
    },
    {
     "name": "stdout",
     "output_type": "stream",
     "text": [
      "finishing processing \\\\10.245.74.158\\Chromatin_NAS_8\\Exported_data\\20220316-Export_new_v2\\Decoded_Fov-115.hdf5\n",
      "526543 is kept out of 526543\n"
     ]
    },
    {
     "name": "stderr",
     "output_type": "stream",
     "text": [
      "\r\n",
      "21it [01:25,  4.49s/it]"
     ]
    },
    {
     "name": "stdout",
     "output_type": "stream",
     "text": [
      "finishing processing \\\\10.245.74.158\\Chromatin_NAS_8\\Exported_data\\20220316-Export_new_v2\\Decoded_Fov-116.hdf5\n",
      "437408 is kept out of 437408\n"
     ]
    },
    {
     "name": "stderr",
     "output_type": "stream",
     "text": [
      "\r\n",
      "22it [01:30,  4.48s/it]"
     ]
    },
    {
     "name": "stdout",
     "output_type": "stream",
     "text": [
      "finishing processing \\\\10.245.74.158\\Chromatin_NAS_8\\Exported_data\\20220316-Export_new_v2\\Decoded_Fov-117.hdf5\n",
      "422581 is kept out of 422581\n"
     ]
    },
    {
     "name": "stderr",
     "output_type": "stream",
     "text": [
      "\r\n",
      "23it [01:34,  4.56s/it]"
     ]
    },
    {
     "name": "stdout",
     "output_type": "stream",
     "text": [
      "finishing processing \\\\10.245.74.158\\Chromatin_NAS_8\\Exported_data\\20220316-Export_new_v2\\Decoded_Fov-118.hdf5\n",
      "353839 is kept out of 353839\n"
     ]
    },
    {
     "name": "stderr",
     "output_type": "stream",
     "text": [
      "\r\n",
      "24it [01:37,  4.10s/it]"
     ]
    },
    {
     "name": "stdout",
     "output_type": "stream",
     "text": [
      "finishing processing \\\\10.245.74.158\\Chromatin_NAS_8\\Exported_data\\20220316-Export_new_v2\\Decoded_Fov-119.hdf5\n",
      "259418 is kept out of 259418\n"
     ]
    },
    {
     "name": "stderr",
     "output_type": "stream",
     "text": [
      "\r\n",
      "25it [01:42,  4.34s/it]"
     ]
    },
    {
     "name": "stdout",
     "output_type": "stream",
     "text": [
      "finishing processing \\\\10.245.74.158\\Chromatin_NAS_8\\Exported_data\\20220316-Export_new_v2\\Decoded_Fov-12.hdf5\n",
      "354899 is kept out of 354899\n"
     ]
    },
    {
     "name": "stderr",
     "output_type": "stream",
     "text": [
      "\r\n",
      "26it [01:46,  4.28s/it]"
     ]
    },
    {
     "name": "stdout",
     "output_type": "stream",
     "text": [
      "finishing processing \\\\10.245.74.158\\Chromatin_NAS_8\\Exported_data\\20220316-Export_new_v2\\Decoded_Fov-120.hdf5\n",
      "314335 is kept out of 314335\n"
     ]
    },
    {
     "name": "stderr",
     "output_type": "stream",
     "text": [
      "\r\n",
      "27it [01:50,  4.03s/it]"
     ]
    },
    {
     "name": "stdout",
     "output_type": "stream",
     "text": [
      "finishing processing \\\\10.245.74.158\\Chromatin_NAS_8\\Exported_data\\20220316-Export_new_v2\\Decoded_Fov-121.hdf5\n",
      "277826 is kept out of 277826\n"
     ]
    },
    {
     "name": "stderr",
     "output_type": "stream",
     "text": [
      "\r\n",
      "28it [01:51,  3.02s/it]"
     ]
    },
    {
     "name": "stdout",
     "output_type": "stream",
     "text": [
      "finishing processing \\\\10.245.74.158\\Chromatin_NAS_8\\Exported_data\\20220316-Export_new_v2\\Decoded_Fov-122.hdf5\n",
      "87152 is kept out of 87152\n"
     ]
    },
    {
     "name": "stderr",
     "output_type": "stream",
     "text": [
      "\r\n",
      "29it [01:52,  2.47s/it]"
     ]
    },
    {
     "name": "stdout",
     "output_type": "stream",
     "text": [
      "finishing processing \\\\10.245.74.158\\Chromatin_NAS_8\\Exported_data\\20220316-Export_new_v2\\Decoded_Fov-123.hdf5\n",
      "183301 is kept out of 183301\n"
     ]
    },
    {
     "name": "stderr",
     "output_type": "stream",
     "text": [
      "\r\n",
      "30it [01:53,  2.16s/it]"
     ]
    },
    {
     "name": "stdout",
     "output_type": "stream",
     "text": [
      "finishing processing \\\\10.245.74.158\\Chromatin_NAS_8\\Exported_data\\20220316-Export_new_v2\\Decoded_Fov-124.hdf5\n",
      "125551 is kept out of 125551\n"
     ]
    },
    {
     "name": "stderr",
     "output_type": "stream",
     "text": [
      "\r\n",
      "31it [01:56,  2.24s/it]"
     ]
    },
    {
     "name": "stdout",
     "output_type": "stream",
     "text": [
      "finishing processing \\\\10.245.74.158\\Chromatin_NAS_8\\Exported_data\\20220316-Export_new_v2\\Decoded_Fov-125.hdf5\n",
      "318868 is kept out of 318868\n"
     ]
    },
    {
     "name": "stderr",
     "output_type": "stream",
     "text": [
      "\r\n",
      "32it [02:00,  2.85s/it]"
     ]
    },
    {
     "name": "stdout",
     "output_type": "stream",
     "text": [
      "finishing processing \\\\10.245.74.158\\Chromatin_NAS_8\\Exported_data\\20220316-Export_new_v2\\Decoded_Fov-126.hdf5\n",
      "468770 is kept out of 468770\n"
     ]
    },
    {
     "name": "stderr",
     "output_type": "stream",
     "text": [
      "\r\n",
      "33it [02:04,  3.36s/it]"
     ]
    },
    {
     "name": "stdout",
     "output_type": "stream",
     "text": [
      "finishing processing \\\\10.245.74.158\\Chromatin_NAS_8\\Exported_data\\20220316-Export_new_v2\\Decoded_Fov-127.hdf5\n",
      "404772 is kept out of 404772\n"
     ]
    },
    {
     "name": "stderr",
     "output_type": "stream",
     "text": [
      "\r\n",
      "34it [02:09,  3.89s/it]"
     ]
    },
    {
     "name": "stdout",
     "output_type": "stream",
     "text": [
      "finishing processing \\\\10.245.74.158\\Chromatin_NAS_8\\Exported_data\\20220316-Export_new_v2\\Decoded_Fov-128.hdf5\n",
      "485971 is kept out of 485971\n"
     ]
    },
    {
     "name": "stderr",
     "output_type": "stream",
     "text": [
      "\r\n",
      "35it [02:15,  4.50s/it]"
     ]
    },
    {
     "name": "stdout",
     "output_type": "stream",
     "text": [
      "finishing processing \\\\10.245.74.158\\Chromatin_NAS_8\\Exported_data\\20220316-Export_new_v2\\Decoded_Fov-129.hdf5\n",
      "419612 is kept out of 419612\n"
     ]
    },
    {
     "name": "stderr",
     "output_type": "stream",
     "text": [
      "\r\n",
      "36it [02:21,  4.81s/it]"
     ]
    },
    {
     "name": "stdout",
     "output_type": "stream",
     "text": [
      "finishing processing \\\\10.245.74.158\\Chromatin_NAS_8\\Exported_data\\20220316-Export_new_v2\\Decoded_Fov-13.hdf5\n",
      "344279 is kept out of 344279\n"
     ]
    },
    {
     "name": "stderr",
     "output_type": "stream",
     "text": [
      "\r\n",
      "37it [02:26,  4.92s/it]"
     ]
    },
    {
     "name": "stdout",
     "output_type": "stream",
     "text": [
      "finishing processing \\\\10.245.74.158\\Chromatin_NAS_8\\Exported_data\\20220316-Export_new_v2\\Decoded_Fov-130.hdf5\n",
      "385516 is kept out of 385516\n"
     ]
    },
    {
     "name": "stderr",
     "output_type": "stream",
     "text": [
      "\r\n",
      "38it [02:27,  3.81s/it]"
     ]
    },
    {
     "name": "stdout",
     "output_type": "stream",
     "text": [
      "finishing processing \\\\10.245.74.158\\Chromatin_NAS_8\\Exported_data\\20220316-Export_new_v2\\Decoded_Fov-131.hdf5\n",
      "150300 is kept out of 150300\n"
     ]
    },
    {
     "name": "stderr",
     "output_type": "stream",
     "text": [
      "\r\n",
      "39it [02:31,  3.72s/it]"
     ]
    },
    {
     "name": "stdout",
     "output_type": "stream",
     "text": [
      "finishing processing \\\\10.245.74.158\\Chromatin_NAS_8\\Exported_data\\20220316-Export_new_v2\\Decoded_Fov-132.hdf5\n",
      "334296 is kept out of 334296\n"
     ]
    },
    {
     "name": "stderr",
     "output_type": "stream",
     "text": [
      "\r\n",
      "40it [02:32,  2.99s/it]"
     ]
    },
    {
     "name": "stdout",
     "output_type": "stream",
     "text": [
      "finishing processing \\\\10.245.74.158\\Chromatin_NAS_8\\Exported_data\\20220316-Export_new_v2\\Decoded_Fov-133.hdf5\n",
      "164775 is kept out of 164775\n"
     ]
    },
    {
     "name": "stderr",
     "output_type": "stream",
     "text": [
      "\r\n",
      "41it [02:38,  3.79s/it]"
     ]
    },
    {
     "name": "stdout",
     "output_type": "stream",
     "text": [
      "finishing processing \\\\10.245.74.158\\Chromatin_NAS_8\\Exported_data\\20220316-Export_new_v2\\Decoded_Fov-134.hdf5\n",
      "462756 is kept out of 462756\n"
     ]
    },
    {
     "name": "stderr",
     "output_type": "stream",
     "text": [
      "\r\n",
      "42it [02:43,  4.28s/it]"
     ]
    },
    {
     "name": "stdout",
     "output_type": "stream",
     "text": [
      "finishing processing \\\\10.245.74.158\\Chromatin_NAS_8\\Exported_data\\20220316-Export_new_v2\\Decoded_Fov-135.hdf5\n",
      "545116 is kept out of 545116\n"
     ]
    },
    {
     "name": "stderr",
     "output_type": "stream",
     "text": [
      "\r\n",
      "43it [02:49,  4.58s/it]"
     ]
    },
    {
     "name": "stdout",
     "output_type": "stream",
     "text": [
      "finishing processing \\\\10.245.74.158\\Chromatin_NAS_8\\Exported_data\\20220316-Export_new_v2\\Decoded_Fov-136.hdf5\n",
      "453039 is kept out of 453039\n"
     ]
    },
    {
     "name": "stderr",
     "output_type": "stream",
     "text": [
      "\r\n",
      "44it [02:53,  4.66s/it]"
     ]
    },
    {
     "name": "stdout",
     "output_type": "stream",
     "text": [
      "finishing processing \\\\10.245.74.158\\Chromatin_NAS_8\\Exported_data\\20220316-Export_new_v2\\Decoded_Fov-137.hdf5\n",
      "486367 is kept out of 486367\n"
     ]
    },
    {
     "name": "stderr",
     "output_type": "stream",
     "text": [
      "\r\n",
      "45it [02:57,  4.45s/it]"
     ]
    },
    {
     "name": "stdout",
     "output_type": "stream",
     "text": [
      "finishing processing \\\\10.245.74.158\\Chromatin_NAS_8\\Exported_data\\20220316-Export_new_v2\\Decoded_Fov-138.hdf5\n",
      "370685 is kept out of 370685\n"
     ]
    },
    {
     "name": "stderr",
     "output_type": "stream",
     "text": [
      "\r\n",
      "46it [03:02,  4.63s/it]"
     ]
    },
    {
     "name": "stdout",
     "output_type": "stream",
     "text": [
      "finishing processing \\\\10.245.74.158\\Chromatin_NAS_8\\Exported_data\\20220316-Export_new_v2\\Decoded_Fov-139.hdf5\n",
      "545206 is kept out of 545206\n"
     ]
    },
    {
     "name": "stderr",
     "output_type": "stream",
     "text": [
      "\r\n",
      "47it [03:07,  4.69s/it]"
     ]
    },
    {
     "name": "stdout",
     "output_type": "stream",
     "text": [
      "finishing processing \\\\10.245.74.158\\Chromatin_NAS_8\\Exported_data\\20220316-Export_new_v2\\Decoded_Fov-14.hdf5\n",
      "293287 is kept out of 293287\n"
     ]
    },
    {
     "name": "stderr",
     "output_type": "stream",
     "text": [
      "\r\n",
      "48it [03:11,  4.38s/it]"
     ]
    },
    {
     "name": "stdout",
     "output_type": "stream",
     "text": [
      "finishing processing \\\\10.245.74.158\\Chromatin_NAS_8\\Exported_data\\20220316-Export_new_v2\\Decoded_Fov-140.hdf5\n",
      "343355 is kept out of 343355\n"
     ]
    },
    {
     "name": "stderr",
     "output_type": "stream",
     "text": [
      "\r\n",
      "49it [03:14,  4.15s/it]"
     ]
    },
    {
     "name": "stdout",
     "output_type": "stream",
     "text": [
      "finishing processing \\\\10.245.74.158\\Chromatin_NAS_8\\Exported_data\\20220316-Export_new_v2\\Decoded_Fov-141.hdf5\n",
      "339885 is kept out of 339885\n"
     ]
    },
    {
     "name": "stderr",
     "output_type": "stream",
     "text": [
      "\r\n",
      "50it [03:20,  4.46s/it]"
     ]
    },
    {
     "name": "stdout",
     "output_type": "stream",
     "text": [
      "finishing processing \\\\10.245.74.158\\Chromatin_NAS_8\\Exported_data\\20220316-Export_new_v2\\Decoded_Fov-142.hdf5\n",
      "406828 is kept out of 406828\n"
     ]
    },
    {
     "name": "stderr",
     "output_type": "stream",
     "text": [
      "\r\n",
      "51it [03:24,  4.42s/it]"
     ]
    },
    {
     "name": "stdout",
     "output_type": "stream",
     "text": [
      "finishing processing \\\\10.245.74.158\\Chromatin_NAS_8\\Exported_data\\20220316-Export_new_v2\\Decoded_Fov-143.hdf5\n",
      "422214 is kept out of 422214\n"
     ]
    },
    {
     "name": "stderr",
     "output_type": "stream",
     "text": [
      "\r\n",
      "52it [03:28,  4.29s/it]"
     ]
    },
    {
     "name": "stdout",
     "output_type": "stream",
     "text": [
      "finishing processing \\\\10.245.74.158\\Chromatin_NAS_8\\Exported_data\\20220316-Export_new_v2\\Decoded_Fov-144.hdf5\n",
      "330928 is kept out of 330928\n"
     ]
    },
    {
     "name": "stderr",
     "output_type": "stream",
     "text": [
      "\r\n",
      "53it [03:32,  4.22s/it]"
     ]
    },
    {
     "name": "stdout",
     "output_type": "stream",
     "text": [
      "finishing processing \\\\10.245.74.158\\Chromatin_NAS_8\\Exported_data\\20220316-Export_new_v2\\Decoded_Fov-145.hdf5\n",
      "396030 is kept out of 396030\n"
     ]
    },
    {
     "name": "stderr",
     "output_type": "stream",
     "text": [
      "\r\n",
      "54it [03:36,  4.07s/it]"
     ]
    },
    {
     "name": "stdout",
     "output_type": "stream",
     "text": [
      "finishing processing \\\\10.245.74.158\\Chromatin_NAS_8\\Exported_data\\20220316-Export_new_v2\\Decoded_Fov-146.hdf5\n",
      "333597 is kept out of 333597\n"
     ]
    },
    {
     "name": "stderr",
     "output_type": "stream",
     "text": [
      "\r\n",
      "55it [03:39,  3.94s/it]"
     ]
    },
    {
     "name": "stdout",
     "output_type": "stream",
     "text": [
      "finishing processing \\\\10.245.74.158\\Chromatin_NAS_8\\Exported_data\\20220316-Export_new_v2\\Decoded_Fov-147.hdf5\n",
      "324721 is kept out of 324721\n"
     ]
    },
    {
     "name": "stderr",
     "output_type": "stream",
     "text": [
      "\r\n",
      "56it [03:43,  3.99s/it]"
     ]
    },
    {
     "name": "stdout",
     "output_type": "stream",
     "text": [
      "finishing processing \\\\10.245.74.158\\Chromatin_NAS_8\\Exported_data\\20220316-Export_new_v2\\Decoded_Fov-148.hdf5\n",
      "418399 is kept out of 418399\n"
     ]
    },
    {
     "name": "stderr",
     "output_type": "stream",
     "text": [
      "\r\n",
      "57it [03:48,  4.17s/it]"
     ]
    },
    {
     "name": "stdout",
     "output_type": "stream",
     "text": [
      "finishing processing \\\\10.245.74.158\\Chromatin_NAS_8\\Exported_data\\20220316-Export_new_v2\\Decoded_Fov-149.hdf5\n",
      "426424 is kept out of 426424\n"
     ]
    },
    {
     "name": "stderr",
     "output_type": "stream",
     "text": [
      "\r\n",
      "58it [03:52,  3.96s/it]"
     ]
    },
    {
     "name": "stdout",
     "output_type": "stream",
     "text": [
      "finishing processing \\\\10.245.74.158\\Chromatin_NAS_8\\Exported_data\\20220316-Export_new_v2\\Decoded_Fov-15.hdf5\n",
      "254316 is kept out of 254316\n"
     ]
    },
    {
     "name": "stderr",
     "output_type": "stream",
     "text": [
      "\r\n",
      "59it [03:55,  3.93s/it]"
     ]
    },
    {
     "name": "stdout",
     "output_type": "stream",
     "text": [
      "finishing processing \\\\10.245.74.158\\Chromatin_NAS_8\\Exported_data\\20220316-Export_new_v2\\Decoded_Fov-150.hdf5\n",
      "404752 is kept out of 404752\n"
     ]
    },
    {
     "name": "stderr",
     "output_type": "stream",
     "text": [
      "\r\n",
      "60it [04:01,  4.40s/it]"
     ]
    },
    {
     "name": "stdout",
     "output_type": "stream",
     "text": [
      "finishing processing \\\\10.245.74.158\\Chromatin_NAS_8\\Exported_data\\20220316-Export_new_v2\\Decoded_Fov-151.hdf5\n",
      "598769 is kept out of 598769\n"
     ]
    },
    {
     "name": "stderr",
     "output_type": "stream",
     "text": [
      "\r\n",
      "61it [04:07,  4.87s/it]"
     ]
    },
    {
     "name": "stdout",
     "output_type": "stream",
     "text": [
      "finishing processing \\\\10.245.74.158\\Chromatin_NAS_8\\Exported_data\\20220316-Export_new_v2\\Decoded_Fov-152.hdf5\n",
      "585368 is kept out of 585368\n"
     ]
    },
    {
     "name": "stderr",
     "output_type": "stream",
     "text": [
      "\r\n",
      "62it [04:11,  4.66s/it]"
     ]
    },
    {
     "name": "stdout",
     "output_type": "stream",
     "text": [
      "finishing processing \\\\10.245.74.158\\Chromatin_NAS_8\\Exported_data\\20220316-Export_new_v2\\Decoded_Fov-153.hdf5\n",
      "464612 is kept out of 464612\n"
     ]
    },
    {
     "name": "stderr",
     "output_type": "stream",
     "text": [
      "\r\n",
      "63it [04:16,  4.83s/it]"
     ]
    },
    {
     "name": "stdout",
     "output_type": "stream",
     "text": [
      "finishing processing \\\\10.245.74.158\\Chromatin_NAS_8\\Exported_data\\20220316-Export_new_v2\\Decoded_Fov-154.hdf5\n",
      "631493 is kept out of 631493\n"
     ]
    },
    {
     "name": "stderr",
     "output_type": "stream",
     "text": [
      "\r\n",
      "64it [04:22,  5.02s/it]"
     ]
    },
    {
     "name": "stdout",
     "output_type": "stream",
     "text": [
      "finishing processing \\\\10.245.74.158\\Chromatin_NAS_8\\Exported_data\\20220316-Export_new_v2\\Decoded_Fov-155.hdf5\n",
      "504090 is kept out of 504090\n"
     ]
    },
    {
     "name": "stderr",
     "output_type": "stream",
     "text": [
      "\r\n",
      "65it [04:26,  4.93s/it]"
     ]
    },
    {
     "name": "stdout",
     "output_type": "stream",
     "text": [
      "finishing processing \\\\10.245.74.158\\Chromatin_NAS_8\\Exported_data\\20220316-Export_new_v2\\Decoded_Fov-156.hdf5\n",
      "526784 is kept out of 526784\n"
     ]
    },
    {
     "name": "stderr",
     "output_type": "stream",
     "text": [
      "\r\n",
      "66it [04:32,  5.14s/it]"
     ]
    },
    {
     "name": "stdout",
     "output_type": "stream",
     "text": [
      "finishing processing \\\\10.245.74.158\\Chromatin_NAS_8\\Exported_data\\20220316-Export_new_v2\\Decoded_Fov-157.hdf5\n",
      "618009 is kept out of 618009\n"
     ]
    },
    {
     "name": "stderr",
     "output_type": "stream",
     "text": [
      "\r\n",
      "67it [04:38,  5.27s/it]"
     ]
    },
    {
     "name": "stdout",
     "output_type": "stream",
     "text": [
      "finishing processing \\\\10.245.74.158\\Chromatin_NAS_8\\Exported_data\\20220316-Export_new_v2\\Decoded_Fov-158.hdf5\n",
      "544196 is kept out of 544196\n"
     ]
    },
    {
     "name": "stderr",
     "output_type": "stream",
     "text": [
      "\r\n",
      "68it [04:42,  4.98s/it]"
     ]
    },
    {
     "name": "stdout",
     "output_type": "stream",
     "text": [
      "finishing processing \\\\10.245.74.158\\Chromatin_NAS_8\\Exported_data\\20220316-Export_new_v2\\Decoded_Fov-159.hdf5\n",
      "452634 is kept out of 452634\n"
     ]
    },
    {
     "name": "stderr",
     "output_type": "stream",
     "text": [
      "\r\n",
      "69it [04:47,  5.12s/it]"
     ]
    },
    {
     "name": "stdout",
     "output_type": "stream",
     "text": [
      "finishing processing \\\\10.245.74.158\\Chromatin_NAS_8\\Exported_data\\20220316-Export_new_v2\\Decoded_Fov-16.hdf5\n",
      "345926 is kept out of 345926\n"
     ]
    },
    {
     "name": "stderr",
     "output_type": "stream",
     "text": [
      "\r\n",
      "70it [04:52,  5.03s/it]"
     ]
    },
    {
     "name": "stdout",
     "output_type": "stream",
     "text": [
      "finishing processing \\\\10.245.74.158\\Chromatin_NAS_8\\Exported_data\\20220316-Export_new_v2\\Decoded_Fov-160.hdf5\n",
      "446611 is kept out of 446611\n"
     ]
    },
    {
     "name": "stderr",
     "output_type": "stream",
     "text": [
      "\r\n",
      "71it [04:56,  4.62s/it]"
     ]
    },
    {
     "name": "stdout",
     "output_type": "stream",
     "text": [
      "finishing processing \\\\10.245.74.158\\Chromatin_NAS_8\\Exported_data\\20220316-Export_new_v2\\Decoded_Fov-161.hdf5\n",
      "447230 is kept out of 447230\n"
     ]
    },
    {
     "name": "stderr",
     "output_type": "stream",
     "text": [
      "\r\n",
      "72it [05:01,  4.72s/it]"
     ]
    },
    {
     "name": "stdout",
     "output_type": "stream",
     "text": [
      "finishing processing \\\\10.245.74.158\\Chromatin_NAS_8\\Exported_data\\20220316-Export_new_v2\\Decoded_Fov-162.hdf5\n",
      "558769 is kept out of 558769\n"
     ]
    },
    {
     "name": "stderr",
     "output_type": "stream",
     "text": [
      "\r\n",
      "73it [05:06,  4.87s/it]"
     ]
    },
    {
     "name": "stdout",
     "output_type": "stream",
     "text": [
      "finishing processing \\\\10.245.74.158\\Chromatin_NAS_8\\Exported_data\\20220316-Export_new_v2\\Decoded_Fov-163.hdf5\n",
      "599609 is kept out of 599609\n"
     ]
    },
    {
     "name": "stderr",
     "output_type": "stream",
     "text": [
      "\r\n",
      "74it [05:08,  3.93s/it]"
     ]
    },
    {
     "name": "stdout",
     "output_type": "stream",
     "text": [
      "finishing processing \\\\10.245.74.158\\Chromatin_NAS_8\\Exported_data\\20220316-Export_new_v2\\Decoded_Fov-164.hdf5\n",
      "165847 is kept out of 165847\n"
     ]
    },
    {
     "name": "stderr",
     "output_type": "stream",
     "text": [
      "\r\n",
      "75it [05:11,  3.81s/it]"
     ]
    },
    {
     "name": "stdout",
     "output_type": "stream",
     "text": [
      "finishing processing \\\\10.245.74.158\\Chromatin_NAS_8\\Exported_data\\20220316-Export_new_v2\\Decoded_Fov-165.hdf5\n",
      "435525 is kept out of 435525\n"
     ]
    },
    {
     "name": "stderr",
     "output_type": "stream",
     "text": [
      "\r\n",
      "76it [05:15,  3.71s/it]"
     ]
    },
    {
     "name": "stdout",
     "output_type": "stream",
     "text": [
      "finishing processing \\\\10.245.74.158\\Chromatin_NAS_8\\Exported_data\\20220316-Export_new_v2\\Decoded_Fov-166.hdf5\n",
      "424079 is kept out of 424079\n"
     ]
    },
    {
     "name": "stderr",
     "output_type": "stream",
     "text": [
      "\r\n",
      "77it [05:20,  4.07s/it]"
     ]
    },
    {
     "name": "stdout",
     "output_type": "stream",
     "text": [
      "finishing processing \\\\10.245.74.158\\Chromatin_NAS_8\\Exported_data\\20220316-Export_new_v2\\Decoded_Fov-167.hdf5\n",
      "534234 is kept out of 534234\n"
     ]
    },
    {
     "name": "stderr",
     "output_type": "stream",
     "text": [
      "\r\n",
      "78it [05:25,  4.52s/it]"
     ]
    },
    {
     "name": "stdout",
     "output_type": "stream",
     "text": [
      "finishing processing \\\\10.245.74.158\\Chromatin_NAS_8\\Exported_data\\20220316-Export_new_v2\\Decoded_Fov-17.hdf5\n",
      "315907 is kept out of 315907\n"
     ]
    },
    {
     "name": "stderr",
     "output_type": "stream",
     "text": [
      "\r\n",
      "79it [05:26,  3.52s/it]"
     ]
    },
    {
     "name": "stdout",
     "output_type": "stream",
     "text": [
      "finishing processing \\\\10.245.74.158\\Chromatin_NAS_8\\Exported_data\\20220316-Export_new_v2\\Decoded_Fov-18.hdf5\n",
      "112264 is kept out of 112264\n"
     ]
    },
    {
     "name": "stderr",
     "output_type": "stream",
     "text": [
      "\r\n",
      "80it [05:28,  2.87s/it]"
     ]
    },
    {
     "name": "stdout",
     "output_type": "stream",
     "text": [
      "finishing processing \\\\10.245.74.158\\Chromatin_NAS_8\\Exported_data\\20220316-Export_new_v2\\Decoded_Fov-19.hdf5\n",
      "147259 is kept out of 147259\n",
      "finishing processing \\\\10.245.74.158\\Chromatin_NAS_8\\Exported_data\\20220316-Export_new_v2\\Decoded_Fov-2.hdf5\n",
      "1027 is kept out of 1027\n"
     ]
    },
    {
     "name": "stderr",
     "output_type": "stream",
     "text": [
      "\r\n",
      "82it [05:35,  3.16s/it]"
     ]
    },
    {
     "name": "stdout",
     "output_type": "stream",
     "text": [
      "finishing processing \\\\10.245.74.158\\Chromatin_NAS_8\\Exported_data\\20220316-Export_new_v2\\Decoded_Fov-20.hdf5\n",
      "360231 is kept out of 360231\n"
     ]
    },
    {
     "name": "stderr",
     "output_type": "stream",
     "text": [
      "\r\n",
      "83it [05:40,  3.67s/it]"
     ]
    },
    {
     "name": "stdout",
     "output_type": "stream",
     "text": [
      "finishing processing \\\\10.245.74.158\\Chromatin_NAS_8\\Exported_data\\20220316-Export_new_v2\\Decoded_Fov-21.hdf5\n",
      "359940 is kept out of 359940\n"
     ]
    },
    {
     "name": "stderr",
     "output_type": "stream",
     "text": [
      "\r\n",
      "84it [05:45,  3.91s/it]"
     ]
    },
    {
     "name": "stdout",
     "output_type": "stream",
     "text": [
      "finishing processing \\\\10.245.74.158\\Chromatin_NAS_8\\Exported_data\\20220316-Export_new_v2\\Decoded_Fov-22.hdf5\n",
      "292264 is kept out of 292264\n"
     ]
    },
    {
     "name": "stderr",
     "output_type": "stream",
     "text": [
      "\r\n",
      "85it [05:51,  4.68s/it]"
     ]
    },
    {
     "name": "stdout",
     "output_type": "stream",
     "text": [
      "finishing processing \\\\10.245.74.158\\Chromatin_NAS_8\\Exported_data\\20220316-Export_new_v2\\Decoded_Fov-23.hdf5\n",
      "355675 is kept out of 355675\n"
     ]
    },
    {
     "name": "stderr",
     "output_type": "stream",
     "text": [
      "\r\n",
      "86it [05:57,  4.98s/it]"
     ]
    },
    {
     "name": "stdout",
     "output_type": "stream",
     "text": [
      "finishing processing \\\\10.245.74.158\\Chromatin_NAS_8\\Exported_data\\20220316-Export_new_v2\\Decoded_Fov-24.hdf5\n",
      "388983 is kept out of 388983\n"
     ]
    },
    {
     "name": "stderr",
     "output_type": "stream",
     "text": [
      "\r\n",
      "87it [06:01,  4.78s/it]"
     ]
    },
    {
     "name": "stdout",
     "output_type": "stream",
     "text": [
      "finishing processing \\\\10.245.74.158\\Chromatin_NAS_8\\Exported_data\\20220316-Export_new_v2\\Decoded_Fov-25.hdf5\n",
      "357201 is kept out of 357201\n"
     ]
    },
    {
     "name": "stderr",
     "output_type": "stream",
     "text": [
      "\r\n",
      "88it [06:06,  4.82s/it]"
     ]
    },
    {
     "name": "stdout",
     "output_type": "stream",
     "text": [
      "finishing processing \\\\10.245.74.158\\Chromatin_NAS_8\\Exported_data\\20220316-Export_new_v2\\Decoded_Fov-26.hdf5\n",
      "316757 is kept out of 316757\n"
     ]
    },
    {
     "name": "stderr",
     "output_type": "stream",
     "text": [
      "\r\n",
      "89it [06:11,  4.83s/it]"
     ]
    },
    {
     "name": "stdout",
     "output_type": "stream",
     "text": [
      "finishing processing \\\\10.245.74.158\\Chromatin_NAS_8\\Exported_data\\20220316-Export_new_v2\\Decoded_Fov-27.hdf5\n",
      "399928 is kept out of 399928\n"
     ]
    },
    {
     "name": "stderr",
     "output_type": "stream",
     "text": [
      "\r\n",
      "90it [06:17,  5.02s/it]"
     ]
    },
    {
     "name": "stdout",
     "output_type": "stream",
     "text": [
      "finishing processing \\\\10.245.74.158\\Chromatin_NAS_8\\Exported_data\\20220316-Export_new_v2\\Decoded_Fov-28.hdf5\n",
      "416220 is kept out of 416220\n"
     ]
    },
    {
     "name": "stderr",
     "output_type": "stream",
     "text": [
      "\r\n",
      "91it [06:22,  5.09s/it]"
     ]
    },
    {
     "name": "stdout",
     "output_type": "stream",
     "text": [
      "finishing processing \\\\10.245.74.158\\Chromatin_NAS_8\\Exported_data\\20220316-Export_new_v2\\Decoded_Fov-29.hdf5\n",
      "351323 is kept out of 351323\n"
     ]
    },
    {
     "name": "stderr",
     "output_type": "stream",
     "text": [
      "\r\n",
      "92it [06:28,  5.35s/it]"
     ]
    },
    {
     "name": "stdout",
     "output_type": "stream",
     "text": [
      "finishing processing \\\\10.245.74.158\\Chromatin_NAS_8\\Exported_data\\20220316-Export_new_v2\\Decoded_Fov-3.hdf5\n",
      "362408 is kept out of 362408\n"
     ]
    },
    {
     "name": "stderr",
     "output_type": "stream",
     "text": [
      "\r\n",
      "93it [06:32,  4.99s/it]"
     ]
    },
    {
     "name": "stdout",
     "output_type": "stream",
     "text": [
      "finishing processing \\\\10.245.74.158\\Chromatin_NAS_8\\Exported_data\\20220316-Export_new_v2\\Decoded_Fov-30.hdf5\n",
      "280236 is kept out of 280236\n"
     ]
    },
    {
     "name": "stderr",
     "output_type": "stream",
     "text": [
      "\r\n",
      "94it [06:37,  5.05s/it]"
     ]
    },
    {
     "name": "stdout",
     "output_type": "stream",
     "text": [
      "finishing processing \\\\10.245.74.158\\Chromatin_NAS_8\\Exported_data\\20220316-Export_new_v2\\Decoded_Fov-31.hdf5\n",
      "259466 is kept out of 259466\n"
     ]
    },
    {
     "name": "stderr",
     "output_type": "stream",
     "text": [
      "\r\n",
      "95it [06:44,  5.54s/it]"
     ]
    },
    {
     "name": "stdout",
     "output_type": "stream",
     "text": [
      "finishing processing \\\\10.245.74.158\\Chromatin_NAS_8\\Exported_data\\20220316-Export_new_v2\\Decoded_Fov-32.hdf5\n",
      "361671 is kept out of 361671\n"
     ]
    },
    {
     "name": "stderr",
     "output_type": "stream",
     "text": [
      "\r\n",
      "96it [06:48,  5.18s/it]"
     ]
    },
    {
     "name": "stdout",
     "output_type": "stream",
     "text": [
      "finishing processing \\\\10.245.74.158\\Chromatin_NAS_8\\Exported_data\\20220316-Export_new_v2\\Decoded_Fov-33.hdf5\n",
      "158870 is kept out of 158870\n"
     ]
    },
    {
     "name": "stderr",
     "output_type": "stream",
     "text": [
      "\r\n",
      "97it [06:49,  3.76s/it]"
     ]
    },
    {
     "name": "stdout",
     "output_type": "stream",
     "text": [
      "finishing processing \\\\10.245.74.158\\Chromatin_NAS_8\\Exported_data\\20220316-Export_new_v2\\Decoded_Fov-34.hdf5\n",
      "32403 is kept out of 32403\n"
     ]
    },
    {
     "name": "stderr",
     "output_type": "stream",
     "text": [
      "\r\n",
      "98it [06:49,  2.77s/it]"
     ]
    },
    {
     "name": "stdout",
     "output_type": "stream",
     "text": [
      "finishing processing \\\\10.245.74.158\\Chromatin_NAS_8\\Exported_data\\20220316-Export_new_v2\\Decoded_Fov-36.hdf5\n",
      "42121 is kept out of 42121\n"
     ]
    },
    {
     "name": "stderr",
     "output_type": "stream",
     "text": [
      "\r\n",
      "99it [06:50,  2.15s/it]"
     ]
    },
    {
     "name": "stdout",
     "output_type": "stream",
     "text": [
      "finishing processing \\\\10.245.74.158\\Chromatin_NAS_8\\Exported_data\\20220316-Export_new_v2\\Decoded_Fov-37.hdf5\n",
      "36061 is kept out of 36061\n"
     ]
    },
    {
     "name": "stderr",
     "output_type": "stream",
     "text": [
      "\r\n",
      "100it [06:51,  1.83s/it]"
     ]
    },
    {
     "name": "stdout",
     "output_type": "stream",
     "text": [
      "finishing processing \\\\10.245.74.158\\Chromatin_NAS_8\\Exported_data\\20220316-Export_new_v2\\Decoded_Fov-38.hdf5\n",
      "70674 is kept out of 70674\n"
     ]
    },
    {
     "name": "stderr",
     "output_type": "stream",
     "text": [
      "\r\n",
      "101it [06:52,  1.58s/it]"
     ]
    },
    {
     "name": "stdout",
     "output_type": "stream",
     "text": [
      "finishing processing \\\\10.245.74.158\\Chromatin_NAS_8\\Exported_data\\20220316-Export_new_v2\\Decoded_Fov-39.hdf5\n",
      "42976 is kept out of 42976\n"
     ]
    },
    {
     "name": "stderr",
     "output_type": "stream",
     "text": [
      "\r\n",
      "102it [06:58,  3.06s/it]"
     ]
    },
    {
     "name": "stdout",
     "output_type": "stream",
     "text": [
      "finishing processing \\\\10.245.74.158\\Chromatin_NAS_8\\Exported_data\\20220316-Export_new_v2\\Decoded_Fov-4.hdf5\n",
      "345441 is kept out of 345441\n"
     ]
    },
    {
     "name": "stderr",
     "output_type": "stream",
     "text": [
      "\r\n",
      "103it [07:04,  3.79s/it]"
     ]
    },
    {
     "name": "stdout",
     "output_type": "stream",
     "text": [
      "finishing processing \\\\10.245.74.158\\Chromatin_NAS_8\\Exported_data\\20220316-Export_new_v2\\Decoded_Fov-40.hdf5\n",
      "395925 is kept out of 395925\n"
     ]
    },
    {
     "name": "stderr",
     "output_type": "stream",
     "text": [
      "\r\n",
      "104it [07:10,  4.51s/it]"
     ]
    },
    {
     "name": "stdout",
     "output_type": "stream",
     "text": [
      "finishing processing \\\\10.245.74.158\\Chromatin_NAS_8\\Exported_data\\20220316-Export_new_v2\\Decoded_Fov-41.hdf5\n",
      "398666 is kept out of 398666\n"
     ]
    },
    {
     "name": "stderr",
     "output_type": "stream",
     "text": [
      "\r\n",
      "105it [07:18,  5.69s/it]"
     ]
    },
    {
     "name": "stdout",
     "output_type": "stream",
     "text": [
      "finishing processing \\\\10.245.74.158\\Chromatin_NAS_8\\Exported_data\\20220316-Export_new_v2\\Decoded_Fov-42.hdf5\n",
      "461056 is kept out of 461056\n"
     ]
    },
    {
     "name": "stderr",
     "output_type": "stream",
     "text": [
      "\r\n",
      "106it [07:26,  6.35s/it]"
     ]
    },
    {
     "name": "stdout",
     "output_type": "stream",
     "text": [
      "finishing processing \\\\10.245.74.158\\Chromatin_NAS_8\\Exported_data\\20220316-Export_new_v2\\Decoded_Fov-43.hdf5\n",
      "333876 is kept out of 333876\n"
     ]
    },
    {
     "name": "stderr",
     "output_type": "stream",
     "text": [
      "\r\n",
      "107it [07:27,  4.76s/it]"
     ]
    },
    {
     "name": "stdout",
     "output_type": "stream",
     "text": [
      "finishing processing \\\\10.245.74.158\\Chromatin_NAS_8\\Exported_data\\20220316-Export_new_v2\\Decoded_Fov-44.hdf5\n",
      "53396 is kept out of 53396\n"
     ]
    },
    {
     "name": "stderr",
     "output_type": "stream",
     "text": [
      "\r\n",
      "108it [07:33,  5.07s/it]"
     ]
    },
    {
     "name": "stdout",
     "output_type": "stream",
     "text": [
      "finishing processing \\\\10.245.74.158\\Chromatin_NAS_8\\Exported_data\\20220316-Export_new_v2\\Decoded_Fov-45.hdf5\n",
      "349793 is kept out of 349793\n"
     ]
    },
    {
     "name": "stderr",
     "output_type": "stream",
     "text": [
      "\r\n",
      "109it [07:40,  5.53s/it]"
     ]
    },
    {
     "name": "stdout",
     "output_type": "stream",
     "text": [
      "finishing processing \\\\10.245.74.158\\Chromatin_NAS_8\\Exported_data\\20220316-Export_new_v2\\Decoded_Fov-46.hdf5\n",
      "362640 is kept out of 362640\n"
     ]
    },
    {
     "name": "stderr",
     "output_type": "stream",
     "text": [
      "\r\n",
      "110it [07:45,  5.39s/it]"
     ]
    },
    {
     "name": "stdout",
     "output_type": "stream",
     "text": [
      "finishing processing \\\\10.245.74.158\\Chromatin_NAS_8\\Exported_data\\20220316-Export_new_v2\\Decoded_Fov-47.hdf5\n",
      "359218 is kept out of 359218\n"
     ]
    },
    {
     "name": "stderr",
     "output_type": "stream",
     "text": [
      "\r\n",
      "111it [07:50,  5.33s/it]"
     ]
    },
    {
     "name": "stdout",
     "output_type": "stream",
     "text": [
      "finishing processing \\\\10.245.74.158\\Chromatin_NAS_8\\Exported_data\\20220316-Export_new_v2\\Decoded_Fov-48.hdf5\n",
      "383320 is kept out of 383320\n"
     ]
    },
    {
     "name": "stderr",
     "output_type": "stream",
     "text": [
      "\r\n",
      "112it [07:55,  5.07s/it]"
     ]
    },
    {
     "name": "stdout",
     "output_type": "stream",
     "text": [
      "finishing processing \\\\10.245.74.158\\Chromatin_NAS_8\\Exported_data\\20220316-Export_new_v2\\Decoded_Fov-49.hdf5\n",
      "308805 is kept out of 308805\n"
     ]
    },
    {
     "name": "stderr",
     "output_type": "stream",
     "text": [
      "\r\n",
      "113it [07:59,  4.78s/it]"
     ]
    },
    {
     "name": "stdout",
     "output_type": "stream",
     "text": [
      "finishing processing \\\\10.245.74.158\\Chromatin_NAS_8\\Exported_data\\20220316-Export_new_v2\\Decoded_Fov-5.hdf5\n",
      "282266 is kept out of 282266\n"
     ]
    },
    {
     "name": "stderr",
     "output_type": "stream",
     "text": [
      "\r\n",
      "114it [08:03,  4.79s/it]"
     ]
    },
    {
     "name": "stdout",
     "output_type": "stream",
     "text": [
      "finishing processing \\\\10.245.74.158\\Chromatin_NAS_8\\Exported_data\\20220316-Export_new_v2\\Decoded_Fov-50.hdf5\n",
      "234740 is kept out of 234740\n"
     ]
    },
    {
     "name": "stderr",
     "output_type": "stream",
     "text": [
      "\r\n",
      "115it [08:09,  5.05s/it]"
     ]
    },
    {
     "name": "stdout",
     "output_type": "stream",
     "text": [
      "finishing processing \\\\10.245.74.158\\Chromatin_NAS_8\\Exported_data\\20220316-Export_new_v2\\Decoded_Fov-51.hdf5\n",
      "322784 is kept out of 322784\n"
     ]
    },
    {
     "name": "stderr",
     "output_type": "stream",
     "text": [
      "\r\n",
      "116it [08:14,  4.94s/it]"
     ]
    },
    {
     "name": "stdout",
     "output_type": "stream",
     "text": [
      "finishing processing \\\\10.245.74.158\\Chromatin_NAS_8\\Exported_data\\20220316-Export_new_v2\\Decoded_Fov-52.hdf5\n",
      "284903 is kept out of 284903\n"
     ]
    },
    {
     "name": "stderr",
     "output_type": "stream",
     "text": [
      "\r\n",
      "117it [08:14,  3.66s/it]"
     ]
    },
    {
     "name": "stdout",
     "output_type": "stream",
     "text": [
      "finishing processing \\\\10.245.74.158\\Chromatin_NAS_8\\Exported_data\\20220316-Export_new_v2\\Decoded_Fov-53.hdf5\n",
      "81657 is kept out of 81657\n"
     ]
    },
    {
     "name": "stderr",
     "output_type": "stream",
     "text": [
      "\r\n",
      "118it [08:16,  2.99s/it]"
     ]
    },
    {
     "name": "stdout",
     "output_type": "stream",
     "text": [
      "finishing processing \\\\10.245.74.158\\Chromatin_NAS_8\\Exported_data\\20220316-Export_new_v2\\Decoded_Fov-55.hdf5\n",
      "81620 is kept out of 81620\n"
     ]
    },
    {
     "name": "stderr",
     "output_type": "stream",
     "text": [
      "\r\n",
      "119it [08:17,  2.38s/it]"
     ]
    },
    {
     "name": "stdout",
     "output_type": "stream",
     "text": [
      "finishing processing \\\\10.245.74.158\\Chromatin_NAS_8\\Exported_data\\20220316-Export_new_v2\\Decoded_Fov-56.hdf5\n",
      "43755 is kept out of 43755\n"
     ]
    },
    {
     "name": "stderr",
     "output_type": "stream",
     "text": [
      "\r\n",
      "120it [08:17,  1.82s/it]"
     ]
    },
    {
     "name": "stdout",
     "output_type": "stream",
     "text": [
      "finishing processing \\\\10.245.74.158\\Chromatin_NAS_8\\Exported_data\\20220316-Export_new_v2\\Decoded_Fov-57.hdf5\n",
      "39701 is kept out of 39701\n"
     ]
    },
    {
     "name": "stderr",
     "output_type": "stream",
     "text": [
      "\r\n",
      "121it [08:21,  2.38s/it]"
     ]
    },
    {
     "name": "stdout",
     "output_type": "stream",
     "text": [
      "finishing processing \\\\10.245.74.158\\Chromatin_NAS_8\\Exported_data\\20220316-Export_new_v2\\Decoded_Fov-58.hdf5\n",
      "277053 is kept out of 277053\n"
     ]
    },
    {
     "name": "stderr",
     "output_type": "stream",
     "text": [
      "\r\n",
      "122it [08:24,  2.66s/it]"
     ]
    },
    {
     "name": "stdout",
     "output_type": "stream",
     "text": [
      "finishing processing \\\\10.245.74.158\\Chromatin_NAS_8\\Exported_data\\20220316-Export_new_v2\\Decoded_Fov-59.hdf5\n",
      "254724 is kept out of 254724\n"
     ]
    },
    {
     "name": "stderr",
     "output_type": "stream",
     "text": [
      "\r\n",
      "123it [08:28,  3.00s/it]"
     ]
    },
    {
     "name": "stdout",
     "output_type": "stream",
     "text": [
      "finishing processing \\\\10.245.74.158\\Chromatin_NAS_8\\Exported_data\\20220316-Export_new_v2\\Decoded_Fov-6.hdf5\n",
      "264721 is kept out of 264721\n"
     ]
    },
    {
     "name": "stderr",
     "output_type": "stream",
     "text": [
      "\r\n",
      "124it [08:32,  3.36s/it]"
     ]
    },
    {
     "name": "stdout",
     "output_type": "stream",
     "text": [
      "finishing processing \\\\10.245.74.158\\Chromatin_NAS_8\\Exported_data\\20220316-Export_new_v2\\Decoded_Fov-60.hdf5\n",
      "229785 is kept out of 229785\n"
     ]
    },
    {
     "name": "stderr",
     "output_type": "stream",
     "text": [
      "\r\n",
      "125it [08:36,  3.48s/it]"
     ]
    },
    {
     "name": "stdout",
     "output_type": "stream",
     "text": [
      "finishing processing \\\\10.245.74.158\\Chromatin_NAS_8\\Exported_data\\20220316-Export_new_v2\\Decoded_Fov-61.hdf5\n",
      "260642 is kept out of 260642\n"
     ]
    },
    {
     "name": "stderr",
     "output_type": "stream",
     "text": [
      "\r\n",
      "126it [08:40,  3.64s/it]"
     ]
    },
    {
     "name": "stdout",
     "output_type": "stream",
     "text": [
      "finishing processing \\\\10.245.74.158\\Chromatin_NAS_8\\Exported_data\\20220316-Export_new_v2\\Decoded_Fov-62.hdf5\n",
      "285584 is kept out of 285584\n"
     ]
    },
    {
     "name": "stderr",
     "output_type": "stream",
     "text": [
      "\r\n",
      "127it [08:46,  4.34s/it]"
     ]
    },
    {
     "name": "stdout",
     "output_type": "stream",
     "text": [
      "finishing processing \\\\10.245.74.158\\Chromatin_NAS_8\\Exported_data\\20220316-Export_new_v2\\Decoded_Fov-63.hdf5\n",
      "355380 is kept out of 355380\n"
     ]
    },
    {
     "name": "stderr",
     "output_type": "stream",
     "text": [
      "\r\n",
      "128it [08:49,  3.97s/it]"
     ]
    },
    {
     "name": "stdout",
     "output_type": "stream",
     "text": [
      "finishing processing \\\\10.245.74.158\\Chromatin_NAS_8\\Exported_data\\20220316-Export_new_v2\\Decoded_Fov-64.hdf5\n",
      "200296 is kept out of 200296\n"
     ]
    },
    {
     "name": "stderr",
     "output_type": "stream",
     "text": [
      "\r\n",
      "129it [08:54,  4.30s/it]"
     ]
    },
    {
     "name": "stdout",
     "output_type": "stream",
     "text": [
      "finishing processing \\\\10.245.74.158\\Chromatin_NAS_8\\Exported_data\\20220316-Export_new_v2\\Decoded_Fov-65.hdf5\n",
      "260382 is kept out of 260382\n"
     ]
    },
    {
     "name": "stderr",
     "output_type": "stream",
     "text": [
      "\r\n",
      "130it [09:01,  4.99s/it]"
     ]
    },
    {
     "name": "stdout",
     "output_type": "stream",
     "text": [
      "finishing processing \\\\10.245.74.158\\Chromatin_NAS_8\\Exported_data\\20220316-Export_new_v2\\Decoded_Fov-66.hdf5\n",
      "305040 is kept out of 305040\n"
     ]
    },
    {
     "name": "stderr",
     "output_type": "stream",
     "text": [
      "\r\n",
      "131it [09:09,  5.94s/it]"
     ]
    },
    {
     "name": "stdout",
     "output_type": "stream",
     "text": [
      "finishing processing \\\\10.245.74.158\\Chromatin_NAS_8\\Exported_data\\20220316-Export_new_v2\\Decoded_Fov-67.hdf5\n",
      "325169 is kept out of 325169\n"
     ]
    },
    {
     "name": "stderr",
     "output_type": "stream",
     "text": [
      "\r\n",
      "132it [09:11,  4.80s/it]"
     ]
    },
    {
     "name": "stdout",
     "output_type": "stream",
     "text": [
      "finishing processing \\\\10.245.74.158\\Chromatin_NAS_8\\Exported_data\\20220316-Export_new_v2\\Decoded_Fov-68.hdf5\n",
      "120276 is kept out of 120276\n"
     ]
    },
    {
     "name": "stderr",
     "output_type": "stream",
     "text": [
      "\r\n",
      "133it [09:16,  4.92s/it]"
     ]
    },
    {
     "name": "stdout",
     "output_type": "stream",
     "text": [
      "finishing processing \\\\10.245.74.158\\Chromatin_NAS_8\\Exported_data\\20220316-Export_new_v2\\Decoded_Fov-7.hdf5\n",
      "342031 is kept out of 342031\n"
     ]
    },
    {
     "name": "stderr",
     "output_type": "stream",
     "text": [
      "\r\n",
      "134it [09:17,  3.54s/it]"
     ]
    },
    {
     "name": "stdout",
     "output_type": "stream",
     "text": [
      "finishing processing \\\\10.245.74.158\\Chromatin_NAS_8\\Exported_data\\20220316-Export_new_v2\\Decoded_Fov-70.hdf5\n",
      "23405 is kept out of 23405\n"
     ]
    },
    {
     "name": "stderr",
     "output_type": "stream",
     "text": [
      "\r\n",
      "135it [09:17,  2.66s/it]"
     ]
    },
    {
     "name": "stdout",
     "output_type": "stream",
     "text": [
      "finishing processing \\\\10.245.74.158\\Chromatin_NAS_8\\Exported_data\\20220316-Export_new_v2\\Decoded_Fov-71.hdf5\n",
      "20477 is kept out of 20477\n"
     ]
    },
    {
     "name": "stderr",
     "output_type": "stream",
     "text": [
      "\r\n",
      "136it [09:18,  2.08s/it]"
     ]
    },
    {
     "name": "stdout",
     "output_type": "stream",
     "text": [
      "finishing processing \\\\10.245.74.158\\Chromatin_NAS_8\\Exported_data\\20220316-Export_new_v2\\Decoded_Fov-72.hdf5\n",
      "69495 is kept out of 69495\n"
     ]
    },
    {
     "name": "stderr",
     "output_type": "stream",
     "text": [
      "\r\n",
      "137it [09:24,  3.24s/it]"
     ]
    },
    {
     "name": "stdout",
     "output_type": "stream",
     "text": [
      "finishing processing \\\\10.245.74.158\\Chromatin_NAS_8\\Exported_data\\20220316-Export_new_v2\\Decoded_Fov-73.hdf5\n",
      "365647 is kept out of 365647\n"
     ]
    },
    {
     "name": "stderr",
     "output_type": "stream",
     "text": [
      "\r\n",
      "138it [09:30,  4.07s/it]"
     ]
    },
    {
     "name": "stdout",
     "output_type": "stream",
     "text": [
      "finishing processing \\\\10.245.74.158\\Chromatin_NAS_8\\Exported_data\\20220316-Export_new_v2\\Decoded_Fov-74.hdf5\n",
      "316584 is kept out of 316584\n"
     ]
    },
    {
     "name": "stderr",
     "output_type": "stream",
     "text": [
      "\r\n",
      "139it [09:33,  3.76s/it]"
     ]
    },
    {
     "name": "stdout",
     "output_type": "stream",
     "text": [
      "finishing processing \\\\10.245.74.158\\Chromatin_NAS_8\\Exported_data\\20220316-Export_new_v2\\Decoded_Fov-75.hdf5\n",
      "159874 is kept out of 159874\n"
     ]
    },
    {
     "name": "stderr",
     "output_type": "stream",
     "text": [
      "\r\n",
      "140it [09:34,  2.99s/it]"
     ]
    },
    {
     "name": "stdout",
     "output_type": "stream",
     "text": [
      "finishing processing \\\\10.245.74.158\\Chromatin_NAS_8\\Exported_data\\20220316-Export_new_v2\\Decoded_Fov-76.hdf5\n",
      "74520 is kept out of 74520\n"
     ]
    },
    {
     "name": "stderr",
     "output_type": "stream",
     "text": [
      "\r\n",
      "141it [09:35,  2.23s/it]"
     ]
    },
    {
     "name": "stdout",
     "output_type": "stream",
     "text": [
      "finishing processing \\\\10.245.74.158\\Chromatin_NAS_8\\Exported_data\\20220316-Export_new_v2\\Decoded_Fov-77.hdf5\n",
      "20025 is kept out of 20025\n"
     ]
    },
    {
     "name": "stderr",
     "output_type": "stream",
     "text": [
      "\r\n",
      "142it [09:36,  1.86s/it]"
     ]
    },
    {
     "name": "stdout",
     "output_type": "stream",
     "text": [
      "finishing processing \\\\10.245.74.158\\Chromatin_NAS_8\\Exported_data\\20220316-Export_new_v2\\Decoded_Fov-79.hdf5\n",
      "54351 is kept out of 54351\n"
     ]
    },
    {
     "name": "stderr",
     "output_type": "stream",
     "text": [
      "\r\n",
      "143it [09:41,  2.99s/it]"
     ]
    },
    {
     "name": "stdout",
     "output_type": "stream",
     "text": [
      "finishing processing \\\\10.245.74.158\\Chromatin_NAS_8\\Exported_data\\20220316-Export_new_v2\\Decoded_Fov-8.hdf5\n",
      "393626 is kept out of 393626\n"
     ]
    },
    {
     "name": "stderr",
     "output_type": "stream",
     "text": [
      "\r\n",
      "144it [09:44,  2.77s/it]"
     ]
    },
    {
     "name": "stdout",
     "output_type": "stream",
     "text": [
      "finishing processing \\\\10.245.74.158\\Chromatin_NAS_8\\Exported_data\\20220316-Export_new_v2\\Decoded_Fov-80.hdf5\n",
      "143235 is kept out of 143235\n"
     ]
    },
    {
     "name": "stderr",
     "output_type": "stream",
     "text": [
      "\r\n",
      "145it [09:46,  2.81s/it]"
     ]
    },
    {
     "name": "stdout",
     "output_type": "stream",
     "text": [
      "finishing processing \\\\10.245.74.158\\Chromatin_NAS_8\\Exported_data\\20220316-Export_new_v2\\Decoded_Fov-81.hdf5\n",
      "270713 is kept out of 270713\n"
     ]
    },
    {
     "name": "stderr",
     "output_type": "stream",
     "text": [
      "\r\n",
      "146it [09:51,  3.38s/it]"
     ]
    },
    {
     "name": "stdout",
     "output_type": "stream",
     "text": [
      "finishing processing \\\\10.245.74.158\\Chromatin_NAS_8\\Exported_data\\20220316-Export_new_v2\\Decoded_Fov-82.hdf5\n",
      "453869 is kept out of 453869\n"
     ]
    },
    {
     "name": "stderr",
     "output_type": "stream",
     "text": [
      "\r\n",
      "147it [09:57,  3.97s/it]"
     ]
    },
    {
     "name": "stdout",
     "output_type": "stream",
     "text": [
      "finishing processing \\\\10.245.74.158\\Chromatin_NAS_8\\Exported_data\\20220316-Export_new_v2\\Decoded_Fov-83.hdf5\n",
      "359910 is kept out of 359910\n"
     ]
    },
    {
     "name": "stderr",
     "output_type": "stream",
     "text": [
      "\r\n",
      "148it [10:03,  4.64s/it]"
     ]
    },
    {
     "name": "stdout",
     "output_type": "stream",
     "text": [
      "finishing processing \\\\10.245.74.158\\Chromatin_NAS_8\\Exported_data\\20220316-Export_new_v2\\Decoded_Fov-84.hdf5\n",
      "403848 is kept out of 403848\n"
     ]
    },
    {
     "name": "stderr",
     "output_type": "stream",
     "text": [
      "\r\n",
      "149it [10:09,  5.08s/it]"
     ]
    },
    {
     "name": "stdout",
     "output_type": "stream",
     "text": [
      "finishing processing \\\\10.245.74.158\\Chromatin_NAS_8\\Exported_data\\20220316-Export_new_v2\\Decoded_Fov-85.hdf5\n",
      "364507 is kept out of 364507\n"
     ]
    },
    {
     "name": "stderr",
     "output_type": "stream",
     "text": [
      "\r\n",
      "150it [10:15,  5.32s/it]"
     ]
    },
    {
     "name": "stdout",
     "output_type": "stream",
     "text": [
      "finishing processing \\\\10.245.74.158\\Chromatin_NAS_8\\Exported_data\\20220316-Export_new_v2\\Decoded_Fov-86.hdf5\n",
      "400280 is kept out of 400280\n"
     ]
    },
    {
     "name": "stderr",
     "output_type": "stream",
     "text": [
      "\r\n",
      "151it [10:22,  6.03s/it]"
     ]
    },
    {
     "name": "stdout",
     "output_type": "stream",
     "text": [
      "finishing processing \\\\10.245.74.158\\Chromatin_NAS_8\\Exported_data\\20220316-Export_new_v2\\Decoded_Fov-87.hdf5\n",
      "462772 is kept out of 462772\n"
     ]
    },
    {
     "name": "stderr",
     "output_type": "stream",
     "text": [
      "\r\n",
      "152it [10:31,  6.77s/it]"
     ]
    },
    {
     "name": "stdout",
     "output_type": "stream",
     "text": [
      "finishing processing \\\\10.245.74.158\\Chromatin_NAS_8\\Exported_data\\20220316-Export_new_v2\\Decoded_Fov-88.hdf5\n",
      "495037 is kept out of 495037\n"
     ]
    },
    {
     "name": "stderr",
     "output_type": "stream",
     "text": [
      "\r\n",
      "153it [10:35,  6.10s/it]"
     ]
    },
    {
     "name": "stdout",
     "output_type": "stream",
     "text": [
      "finishing processing \\\\10.245.74.158\\Chromatin_NAS_8\\Exported_data\\20220316-Export_new_v2\\Decoded_Fov-89.hdf5\n",
      "312945 is kept out of 312945\n"
     ]
    },
    {
     "name": "stderr",
     "output_type": "stream",
     "text": [
      "\r\n",
      "154it [10:40,  5.66s/it]"
     ]
    },
    {
     "name": "stdout",
     "output_type": "stream",
     "text": [
      "finishing processing \\\\10.245.74.158\\Chromatin_NAS_8\\Exported_data\\20220316-Export_new_v2\\Decoded_Fov-9.hdf5\n",
      "446754 is kept out of 446754\n"
     ]
    },
    {
     "name": "stderr",
     "output_type": "stream",
     "text": [
      "\r\n",
      "155it [10:42,  4.54s/it]"
     ]
    },
    {
     "name": "stdout",
     "output_type": "stream",
     "text": [
      "finishing processing \\\\10.245.74.158\\Chromatin_NAS_8\\Exported_data\\20220316-Export_new_v2\\Decoded_Fov-90.hdf5\n",
      "204712 is kept out of 204712\n"
     ]
    },
    {
     "name": "stderr",
     "output_type": "stream",
     "text": [
      "\r\n",
      "156it [10:48,  4.97s/it]"
     ]
    },
    {
     "name": "stdout",
     "output_type": "stream",
     "text": [
      "finishing processing \\\\10.245.74.158\\Chromatin_NAS_8\\Exported_data\\20220316-Export_new_v2\\Decoded_Fov-91.hdf5\n",
      "459743 is kept out of 459743\n"
     ]
    },
    {
     "name": "stderr",
     "output_type": "stream",
     "text": [
      "\r\n",
      "157it [10:54,  5.26s/it]"
     ]
    },
    {
     "name": "stdout",
     "output_type": "stream",
     "text": [
      "finishing processing \\\\10.245.74.158\\Chromatin_NAS_8\\Exported_data\\20220316-Export_new_v2\\Decoded_Fov-92.hdf5\n",
      "430065 is kept out of 430065\n"
     ]
    },
    {
     "name": "stderr",
     "output_type": "stream",
     "text": [
      "\r\n",
      "158it [11:00,  5.38s/it]"
     ]
    },
    {
     "name": "stdout",
     "output_type": "stream",
     "text": [
      "finishing processing \\\\10.245.74.158\\Chromatin_NAS_8\\Exported_data\\20220316-Export_new_v2\\Decoded_Fov-93.hdf5\n",
      "419951 is kept out of 419951\n"
     ]
    },
    {
     "name": "stderr",
     "output_type": "stream",
     "text": [
      "\r\n",
      "159it [11:03,  4.72s/it]"
     ]
    },
    {
     "name": "stdout",
     "output_type": "stream",
     "text": [
      "finishing processing \\\\10.245.74.158\\Chromatin_NAS_8\\Exported_data\\20220316-Export_new_v2\\Decoded_Fov-94.hdf5\n",
      "295019 is kept out of 295019\n"
     ]
    },
    {
     "name": "stderr",
     "output_type": "stream",
     "text": [
      "\r\n",
      "160it [11:06,  4.39s/it]"
     ]
    },
    {
     "name": "stdout",
     "output_type": "stream",
     "text": [
      "finishing processing \\\\10.245.74.158\\Chromatin_NAS_8\\Exported_data\\20220316-Export_new_v2\\Decoded_Fov-95.hdf5\n",
      "245895 is kept out of 245895\n"
     ]
    },
    {
     "name": "stderr",
     "output_type": "stream",
     "text": [
      "\r\n",
      "161it [11:09,  4.00s/it]"
     ]
    },
    {
     "name": "stdout",
     "output_type": "stream",
     "text": [
      "finishing processing \\\\10.245.74.158\\Chromatin_NAS_8\\Exported_data\\20220316-Export_new_v2\\Decoded_Fov-96.hdf5\n",
      "311720 is kept out of 311720\n"
     ]
    },
    {
     "name": "stderr",
     "output_type": "stream",
     "text": [
      "\r\n",
      "162it [11:13,  3.99s/it]"
     ]
    },
    {
     "name": "stdout",
     "output_type": "stream",
     "text": [
      "finishing processing \\\\10.245.74.158\\Chromatin_NAS_8\\Exported_data\\20220316-Export_new_v2\\Decoded_Fov-97.hdf5\n",
      "320033 is kept out of 320033\n"
     ]
    },
    {
     "name": "stderr",
     "output_type": "stream",
     "text": [
      "\r\n",
      "163it [11:17,  4.00s/it]"
     ]
    },
    {
     "name": "stdout",
     "output_type": "stream",
     "text": [
      "finishing processing \\\\10.245.74.158\\Chromatin_NAS_8\\Exported_data\\20220316-Export_new_v2\\Decoded_Fov-98.hdf5\n",
      "377857 is kept out of 377857\n"
     ]
    },
    {
     "name": "stderr",
     "output_type": "stream",
     "text": [
      "164it [11:22,  4.16s/it]"
     ]
    },
    {
     "name": "stdout",
     "output_type": "stream",
     "text": [
      "finishing processing \\\\10.245.74.158\\Chromatin_NAS_8\\Exported_data\\20220316-Export_new_v2\\Decoded_Fov-99.hdf5\n",
      "342133 is kept out of 342133\n"
     ]
    },
    {
     "name": "stderr",
     "output_type": "stream",
     "text": [
      "\n"
     ]
    }
   ],
   "source": [
    "replicate_exp = '20220316'\n",
    "for i, _file in tqdm(enumerate(decoded_file_list[:])):\n",
    "    #check whether the file has been analyzed\n",
    "    if file_counts[i]:\n",
    "        continue\n",
    "    file_counts[i] = True\n",
    "    \n",
    "    with h5py.File(_file, \"r\") as f:\n",
    "        #print(\"Keys: %s\" % f.keys())\n",
    "        # get all cell keys to access the h5df\n",
    "        cell_key_list = list(f.keys())\n",
    "    \n",
    "    # append coords of each cell from the same decoded fov\n",
    "    _coords_df_fov_list=[]\n",
    "    for _cell_key in cell_key_list:\n",
    "        _coords_df = pd.read_hdf(_file, _cell_key)                   \n",
    "        if not _coords_df.empty:\n",
    "            _coords_df['orig_cellID']=_cell_key\n",
    "            _coords_df['FOV']=_file.split('Fov-')[-1].split('.hdf5')[0]\n",
    "            _coords_df['replicate']=replicate_exp\n",
    "            _coords_df['chr'] = _coords_df['chr'].apply(lambda x: 'chr'+x)\n",
    "            _coords_df_fov_list.append(_coords_df)\n",
    "    \n",
    "    _coords_df_fov = pd.concat(_coords_df_fov_list)\n",
    "\n",
    "    _coords_df_fov.reset_index(inplace=True)\n",
    "    _coords_df_fov.rename(columns={'center_z':'z_hat', 'center_y':'y_hat', 'center_x':'x_hat', \n",
    "                                    }, inplace = True)\n",
    "    \n",
    "    # spot num each fov\n",
    "    original_length = len(_coords_df_fov)\n",
    "    original_length_list.append(original_length)\n",
    "        \n",
    "    # convert physical locations to pixle...\n",
    "    # since 1 z pixel is not equvilant to 1 x/y pixel, convert z pixel to pseudo pixel\n",
    "    #_coords_df_fov.loc[:,'z_hat'] = (np.array(_coords_df_fov.loc[:,'z_hat'].values)/pixel_z)\n",
    "    _coords_df_fov.loc[:,'z_hat'] = (np.array(_coords_df_fov.loc[:,'z_hat'].values)/pixel_z)*pixel_z/pixel_x\n",
    "    _coords_df_fov.loc[:,'y_hat'] = np.array(_coords_df_fov.loc[:,'y_hat'].values)/pixel_y\n",
    "    _coords_df_fov.loc[:,'x_hat'] = np.array(_coords_df_fov.loc[:,'x_hat'].values)/pixel_x\n",
    "\n",
    "    #sigma = np.full((len(_coords_df_fov,),), 1)\n",
    "    sigma = 1\n",
    "    _coords_df_fov['sig_x'] = sigma\n",
    "    _coords_df_fov['sig_y'] = sigma\n",
    "    _coords_df_fov['sig_z'] = sigma\n",
    "\n",
    "    # append info below if necessary (some are redundant..)\n",
    "    # record hyb\n",
    "    _coords_df_fov['hyb'] = _coords_df_fov['region_name'].apply(lambda x: map_to_hyb(x))\n",
    "    # get other attributes for the dataframe\n",
    "    _coords_df_fov['celltype'] = _coords_df_fov['subclass']\n",
    "    # drop redundant info\n",
    "    _coords_df_fov.drop(columns=['level_0','subclass'],inplace=True)\n",
    "\n",
    "    \n",
    "    # append each fov\n",
    "    df_list.append(_coords_df_fov)\n",
    "    final_length = len(_coords_df_fov)\n",
    "    final_length_list.append(final_length)\n",
    "\n",
    "    print(f'finishing processing {_file}')\n",
    "    print(f'{final_length} is kept out of {original_length}')"
   ]
  },
  {
   "cell_type": "code",
   "execution_count": 281,
   "metadata": {},
   "outputs": [
    {
     "name": "stdout",
     "output_type": "stream",
     "text": [
      "164\n",
      "164\n"
     ]
    }
   ],
   "source": [
    "# concat all decoded spots\n",
    "#coord_df_exp = pd.concat(df_list)\n",
    "#print(len(coord_df_exp))\n",
    "print(len(final_length_list))\n",
    "print(len(original_length_list))"
   ]
  },
  {
   "cell_type": "code",
   "execution_count": null,
   "metadata": {},
   "outputs": [],
   "source": []
  },
  {
   "cell_type": "markdown",
   "metadata": {},
   "source": [
    "### save df into subset chunks"
   ]
  },
  {
   "cell_type": "code",
   "execution_count": 274,
   "metadata": {},
   "outputs": [],
   "source": [
    "# slow part; only save these when testing the script; would be more practical to process each fov hdf5-generated df direcly"
   ]
  },
  {
   "cell_type": "code",
   "execution_count": 275,
   "metadata": {},
   "outputs": [
    {
     "data": {
      "text/plain": [
       "164"
      ]
     },
     "execution_count": 275,
     "metadata": {},
     "output_type": "execute_result"
    }
   ],
   "source": [
    "len(df_list)"
   ]
  },
  {
   "cell_type": "code",
   "execution_count": 276,
   "metadata": {},
   "outputs": [
    {
     "data": {
      "text/plain": [
       "[range(0, 12),\n",
       " range(12, 24),\n",
       " range(24, 36),\n",
       " range(36, 48),\n",
       " range(48, 60),\n",
       " range(60, 72),\n",
       " range(72, 84),\n",
       " range(84, 96),\n",
       " range(96, 108),\n",
       " range(108, 120),\n",
       " range(120, 132),\n",
       " range(132, 144),\n",
       " range(144, 156),\n",
       " range(156, 164)]"
      ]
     },
     "execution_count": 276,
     "metadata": {},
     "output_type": "execute_result"
    }
   ],
   "source": [
    "def chunks(lst, n):\n",
    "    \"\"\"Yield successive n-sized chunks from lst.\"\"\"\n",
    "    for i in range(0, len(lst), n):\n",
    "        yield lst[i:i + n]\n",
    "        \n",
    "chunk_ids_list = list(chunks(range(len(df_list)), 12))\n",
    "chunk_ids_list"
   ]
  },
  {
   "cell_type": "code",
   "execution_count": 277,
   "metadata": {},
   "outputs": [
    {
     "name": "stderr",
     "output_type": "stream",
     "text": [
      "14it [15:31, 66.51s/it]\n"
     ]
    }
   ],
   "source": [
    "\n",
    "merged_spot_folder=r'\\\\10.245.74.158\\Chromatin_NAS_8\\Exported_data\\jie_CW_decode\\20220316exp'\n",
    "\n",
    "for _ct, _ids in tqdm(enumerate(chunk_ids_list)):\n",
    "    coord_df_exp_subfname = os.path.join(merged_spot_folder, f'20220316exp_cand_spots_part{_ct}.csv')\n",
    "    sub_df_list = df_list[_ids[0]:_ids[-1]]\n",
    "    #print(_ids)\n",
    "    sub_dfs = pd.concat(sub_df_list)\n",
    "    sub_dfs.to_csv(coord_df_exp_subfname, index=False)\n"
   ]
  },
  {
   "cell_type": "code",
   "execution_count": 280,
   "metadata": {},
   "outputs": [],
   "source": [
    "del df_list"
   ]
  }
 ],
 "metadata": {
  "kernelspec": {
   "display_name": "Python 3 (ipykernel)",
   "language": "python",
   "name": "python3"
  },
  "language_info": {
   "codemirror_mode": {
    "name": "ipython",
    "version": 3
   },
   "file_extension": ".py",
   "mimetype": "text/x-python",
   "name": "python",
   "nbconvert_exporter": "python",
   "pygments_lexer": "ipython3",
   "version": "3.10.8"
  },
  "toc": {
   "base_numbering": 1,
   "nav_menu": {},
   "number_sections": false,
   "sideBar": true,
   "skip_h1_title": false,
   "title_cell": "Table of Contents",
   "title_sidebar": "Contents",
   "toc_cell": false,
   "toc_position": {
    "height": "calc(100% - 180px)",
    "left": "10px",
    "top": "150px",
    "width": "203px"
   },
   "toc_section_display": true,
   "toc_window_display": true
  }
 },
 "nbformat": 4,
 "nbformat_minor": 4
}
