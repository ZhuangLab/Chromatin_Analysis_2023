{
 "cells": [
  {
   "cell_type": "markdown",
   "metadata": {},
   "source": [
    "# 1. Import packages\n",
    "\n",
    "The link to get [ImageAnalysis3](https://github.com/zhengpuas47/ImageAnalysis3) \n",
    "\n",
    "or the Zhuang lab archived [source_tools](https://github.com/ZhuangLab/Chromatin_Analysis_2020_cell/tree/master/sequential_tracing/source)"
   ]
  },
  {
   "cell_type": "code",
   "execution_count": 1,
   "metadata": {},
   "outputs": [],
   "source": [
    "import os"
   ]
  },
  {
   "cell_type": "code",
   "execution_count": 2,
   "metadata": {},
   "outputs": [
    {
     "name": "stdout",
     "output_type": "stream",
     "text": [
      "15540\n"
     ]
    }
   ],
   "source": [
    "%run \"C:\\Users\\shiwei\\Documents\\ImageAnalysis3\\required_files\\Startup_py3.py\"\n",
    "sys.path.append(r\"C:\\Users\\shiwei\\Documents\")\n",
    "\n",
    "import ImageAnalysis3 as ia\n",
    "%matplotlib notebook\n",
    "\n",
    "from ImageAnalysis3 import *\n",
    "print(os.getpid())\n",
    "\n",
    "import h5py\n",
    "from ImageAnalysis3.classes import _allowed_kwds\n",
    "import ast\n",
    "\n",
    "import pandas as pd"
   ]
  },
  {
   "cell_type": "markdown",
   "metadata": {},
   "source": [
    "# 2. Load refgen df"
   ]
  },
  {
   "cell_type": "code",
   "execution_count": 3,
   "metadata": {},
   "outputs": [],
   "source": [
    "codebook_folder = r'\\\\10.245.74.158\\Chromatin_NAS_8\\Analyzed_data\\MouseBrain_PostAnalysis'\n",
    "df_refgen_savename = os.path.join(codebook_folder,'refgen_df_for_jie.csv')"
   ]
  },
  {
   "cell_type": "code",
   "execution_count": 4,
   "metadata": {},
   "outputs": [
    {
     "data": {
      "text/html": [
       "<div>\n",
       "<style scoped>\n",
       "    .dataframe tbody tr th:only-of-type {\n",
       "        vertical-align: middle;\n",
       "    }\n",
       "\n",
       "    .dataframe tbody tr th {\n",
       "        vertical-align: top;\n",
       "    }\n",
       "\n",
       "    .dataframe thead th {\n",
       "        text-align: right;\n",
       "    }\n",
       "</style>\n",
       "<table border=\"1\" class=\"dataframe\">\n",
       "  <thead>\n",
       "    <tr style=\"text-align: right;\">\n",
       "      <th></th>\n",
       "      <th>name</th>\n",
       "      <th>id</th>\n",
       "      <th>chr</th>\n",
       "      <th>chr_order</th>\n",
       "      <th>library</th>\n",
       "      <th>dtype</th>\n",
       "      <th>loci_name</th>\n",
       "      <th>start</th>\n",
       "      <th>end</th>\n",
       "      <th>hyb</th>\n",
       "      <th>delta</th>\n",
       "      <th>region_id</th>\n",
       "    </tr>\n",
       "  </thead>\n",
       "  <tbody>\n",
       "    <tr>\n",
       "      <th>0</th>\n",
       "      <td>1:3742742-3759944</td>\n",
       "      <td>1</td>\n",
       "      <td>chr1</td>\n",
       "      <td>0</td>\n",
       "      <td>CTP11</td>\n",
       "      <td>combo</td>\n",
       "      <td>chr1_3742742_3759944</td>\n",
       "      <td>3742742</td>\n",
       "      <td>3759944</td>\n",
       "      <td>0</td>\n",
       "      <td>0</td>\n",
       "      <td>1</td>\n",
       "    </tr>\n",
       "    <tr>\n",
       "      <th>1</th>\n",
       "      <td>1:6245958-6258969</td>\n",
       "      <td>2</td>\n",
       "      <td>chr1</td>\n",
       "      <td>1</td>\n",
       "      <td>CTP11</td>\n",
       "      <td>combo</td>\n",
       "      <td>chr1_6245958_6258969</td>\n",
       "      <td>6245958</td>\n",
       "      <td>6258969</td>\n",
       "      <td>1</td>\n",
       "      <td>2503216</td>\n",
       "      <td>2</td>\n",
       "    </tr>\n",
       "    <tr>\n",
       "      <th>2</th>\n",
       "      <td>1:8740008-8759916</td>\n",
       "      <td>3</td>\n",
       "      <td>chr1</td>\n",
       "      <td>2</td>\n",
       "      <td>CTP11</td>\n",
       "      <td>combo</td>\n",
       "      <td>chr1_8740008_8759916</td>\n",
       "      <td>8740008</td>\n",
       "      <td>8759916</td>\n",
       "      <td>2</td>\n",
       "      <td>4997266</td>\n",
       "      <td>3</td>\n",
       "    </tr>\n",
       "    <tr>\n",
       "      <th>3</th>\n",
       "      <td>1:9627926-9637875</td>\n",
       "      <td>1</td>\n",
       "      <td>chr1</td>\n",
       "      <td>3</td>\n",
       "      <td>CTP13</td>\n",
       "      <td>combo</td>\n",
       "      <td>chr1_9627926_9637875</td>\n",
       "      <td>9627926</td>\n",
       "      <td>9637875</td>\n",
       "      <td>3</td>\n",
       "      <td>5885184</td>\n",
       "      <td>4</td>\n",
       "    </tr>\n",
       "    <tr>\n",
       "      <th>4</th>\n",
       "      <td>1:9799472-9811359</td>\n",
       "      <td>2</td>\n",
       "      <td>chr1</td>\n",
       "      <td>4</td>\n",
       "      <td>CTP13</td>\n",
       "      <td>combo</td>\n",
       "      <td>chr1_9799472_9811359</td>\n",
       "      <td>9799472</td>\n",
       "      <td>9811359</td>\n",
       "      <td>4</td>\n",
       "      <td>6056730</td>\n",
       "      <td>5</td>\n",
       "    </tr>\n",
       "    <tr>\n",
       "      <th>...</th>\n",
       "      <td>...</td>\n",
       "      <td>...</td>\n",
       "      <td>...</td>\n",
       "      <td>...</td>\n",
       "      <td>...</td>\n",
       "      <td>...</td>\n",
       "      <td>...</td>\n",
       "      <td>...</td>\n",
       "      <td>...</td>\n",
       "      <td>...</td>\n",
       "      <td>...</td>\n",
       "      <td>...</td>\n",
       "    </tr>\n",
       "    <tr>\n",
       "      <th>1977</th>\n",
       "      <td>X:166247682-166259932</td>\n",
       "      <td>1059</td>\n",
       "      <td>chrX</td>\n",
       "      <td>60</td>\n",
       "      <td>CTP11</td>\n",
       "      <td>combo</td>\n",
       "      <td>chrX_166247682_166259932</td>\n",
       "      <td>166247682</td>\n",
       "      <td>166259932</td>\n",
       "      <td>60</td>\n",
       "      <td>159996393</td>\n",
       "      <td>1978</td>\n",
       "    </tr>\n",
       "    <tr>\n",
       "      <th>1978</th>\n",
       "      <td>X:167157164-167167452</td>\n",
       "      <td>990</td>\n",
       "      <td>chrX</td>\n",
       "      <td>61</td>\n",
       "      <td>CTP13</td>\n",
       "      <td>combo</td>\n",
       "      <td>chrX_167157164_167167452</td>\n",
       "      <td>167157164</td>\n",
       "      <td>167167452</td>\n",
       "      <td>61</td>\n",
       "      <td>160905875</td>\n",
       "      <td>1979</td>\n",
       "    </tr>\n",
       "    <tr>\n",
       "      <th>1979</th>\n",
       "      <td>X:168746045-168757590</td>\n",
       "      <td>1060</td>\n",
       "      <td>chrX</td>\n",
       "      <td>62</td>\n",
       "      <td>CTP11</td>\n",
       "      <td>combo</td>\n",
       "      <td>chrX_168746045_168757590</td>\n",
       "      <td>168746045</td>\n",
       "      <td>168757590</td>\n",
       "      <td>62</td>\n",
       "      <td>162494756</td>\n",
       "      <td>1980</td>\n",
       "    </tr>\n",
       "    <tr>\n",
       "      <th>1980</th>\n",
       "      <td>X:169963295-170005197</td>\n",
       "      <td>991</td>\n",
       "      <td>chrX</td>\n",
       "      <td>63</td>\n",
       "      <td>CTP13</td>\n",
       "      <td>combo</td>\n",
       "      <td>chrX_169963295_170005197</td>\n",
       "      <td>169963295</td>\n",
       "      <td>170005197</td>\n",
       "      <td>63</td>\n",
       "      <td>163712006</td>\n",
       "      <td>1981</td>\n",
       "    </tr>\n",
       "    <tr>\n",
       "      <th>1981</th>\n",
       "      <td>Y:1245775-1259992</td>\n",
       "      <td>1062</td>\n",
       "      <td>chrY</td>\n",
       "      <td>0</td>\n",
       "      <td>CTP11</td>\n",
       "      <td>combo</td>\n",
       "      <td>chrY_1245775_1259992</td>\n",
       "      <td>1245775</td>\n",
       "      <td>1259992</td>\n",
       "      <td>0</td>\n",
       "      <td>0</td>\n",
       "      <td>1982</td>\n",
       "    </tr>\n",
       "  </tbody>\n",
       "</table>\n",
       "<p>1982 rows × 12 columns</p>\n",
       "</div>"
      ],
      "text/plain": [
       "                       name    id   chr  chr_order library  dtype  \\\n",
       "0         1:3742742-3759944     1  chr1          0   CTP11  combo   \n",
       "1         1:6245958-6258969     2  chr1          1   CTP11  combo   \n",
       "2         1:8740008-8759916     3  chr1          2   CTP11  combo   \n",
       "3         1:9627926-9637875     1  chr1          3   CTP13  combo   \n",
       "4         1:9799472-9811359     2  chr1          4   CTP13  combo   \n",
       "...                     ...   ...   ...        ...     ...    ...   \n",
       "1977  X:166247682-166259932  1059  chrX         60   CTP11  combo   \n",
       "1978  X:167157164-167167452   990  chrX         61   CTP13  combo   \n",
       "1979  X:168746045-168757590  1060  chrX         62   CTP11  combo   \n",
       "1980  X:169963295-170005197   991  chrX         63   CTP13  combo   \n",
       "1981      Y:1245775-1259992  1062  chrY          0   CTP11  combo   \n",
       "\n",
       "                     loci_name      start        end  hyb      delta  \\\n",
       "0         chr1_3742742_3759944    3742742    3759944    0          0   \n",
       "1         chr1_6245958_6258969    6245958    6258969    1    2503216   \n",
       "2         chr1_8740008_8759916    8740008    8759916    2    4997266   \n",
       "3         chr1_9627926_9637875    9627926    9637875    3    5885184   \n",
       "4         chr1_9799472_9811359    9799472    9811359    4    6056730   \n",
       "...                        ...        ...        ...  ...        ...   \n",
       "1977  chrX_166247682_166259932  166247682  166259932   60  159996393   \n",
       "1978  chrX_167157164_167167452  167157164  167167452   61  160905875   \n",
       "1979  chrX_168746045_168757590  168746045  168757590   62  162494756   \n",
       "1980  chrX_169963295_170005197  169963295  170005197   63  163712006   \n",
       "1981      chrY_1245775_1259992    1245775    1259992    0          0   \n",
       "\n",
       "      region_id  \n",
       "0             1  \n",
       "1             2  \n",
       "2             3  \n",
       "3             4  \n",
       "4             5  \n",
       "...         ...  \n",
       "1977       1978  \n",
       "1978       1979  \n",
       "1979       1980  \n",
       "1980       1981  \n",
       "1981       1982  \n",
       "\n",
       "[1982 rows x 12 columns]"
      ]
     },
     "execution_count": 4,
     "metadata": {},
     "output_type": "execute_result"
    }
   ],
   "source": [
    "df_refgen=pd.read_csv(df_refgen_savename,index_col=0)\n",
    "df_refgen['chr'] = df_refgen['chr'].apply(lambda x: 'chr'+x)\n",
    "df_refgen"
   ]
  },
  {
   "cell_type": "code",
   "execution_count": null,
   "metadata": {},
   "outputs": [],
   "source": []
  },
  {
   "cell_type": "markdown",
   "metadata": {},
   "source": [
    "# 3. Prepare candidate spots"
   ]
  },
  {
   "cell_type": "code",
   "execution_count": 5,
   "metadata": {},
   "outputs": [],
   "source": [
    "decode_main_folder = r'\\\\10.245.74.158\\Chromatin_NAS_8\\Exported_data'\n",
    "decode_exp_folder = os.path.join(decode_main_folder,'20220419-Export')"
   ]
  },
  {
   "cell_type": "raw",
   "metadata": {},
   "source": [
    "## Inspect one fov"
   ]
  },
  {
   "cell_type": "raw",
   "metadata": {},
   "source": [
    "fov_id = 0\n",
    "#cell_id = 0\n",
    "file_name_format = 'Decoded_Fov-' + str(fov_id) + '.hdf5'\n",
    "file_name = os.path.join(decode_exp_folder, file_name_format)\n",
    "print(file_name)\n",
    "os.path.exists(file_name)"
   ]
  },
  {
   "cell_type": "raw",
   "metadata": {},
   "source": [
    "import h5py\n",
    "with h5py.File(file_name, \"r\") as f:\n",
    "    # Print all root level object names (aka keys) \n",
    "    # these can be group or dataset names \n",
    "    print(\"Keys: %s\" % f.keys())\n",
    "    cell_key_list = list(f.keys())"
   ]
  },
  {
   "cell_type": "raw",
   "metadata": {},
   "source": [
    "coords_df = pd.read_hdf(file_name, 'Cell-108')\n",
    "coords_df"
   ]
  },
  {
   "cell_type": "raw",
   "metadata": {},
   "source": [
    "coords_df[coords_df['codebook_name']=='CTP12tss'].head()"
   ]
  },
  {
   "cell_type": "markdown",
   "metadata": {},
   "source": [
    "## Process all fov"
   ]
  },
  {
   "cell_type": "markdown",
   "metadata": {},
   "source": [
    "### shared params"
   ]
  },
  {
   "cell_type": "code",
   "execution_count": 6,
   "metadata": {},
   "outputs": [],
   "source": [
    "pixel_z, pixel_x, pixel_y = 250, 108, 108"
   ]
  },
  {
   "cell_type": "code",
   "execution_count": 7,
   "metadata": {},
   "outputs": [],
   "source": [
    "from tqdm import tqdm"
   ]
  },
  {
   "cell_type": "code",
   "execution_count": 8,
   "metadata": {},
   "outputs": [],
   "source": [
    "# map info from df_ref_gen to coords; hyb should be the same as chromosome order\n",
    "geneID_to_hyb = {name:hyb for name, hyb in zip(df_refgen['name'], df_refgen['hyb'])}    \n",
    "\n",
    "def map_to_hyb(gene_name):\n",
    "    return geneID_to_hyb[gene_name]"
   ]
  },
  {
   "cell_type": "code",
   "execution_count": 9,
   "metadata": {},
   "outputs": [
    {
     "data": {
      "text/plain": [
       "11.328784332"
      ]
     },
     "execution_count": 9,
     "metadata": {},
     "output_type": "execute_result"
    }
   ],
   "source": [
    "4240.806192/pixel_x\n",
    "123492.8160/pixel_y\n",
    "5762.010083/pixel_z\n",
    "2832.196083/pixel_z"
   ]
  },
  {
   "cell_type": "code",
   "execution_count": 10,
   "metadata": {},
   "outputs": [
    {
     "data": {
      "text/plain": [
       "['\\\\\\\\10.245.74.158\\\\Chromatin_NAS_8\\\\Exported_data\\\\20220419-Export\\\\Decoded_Fov-0.hdf5',\n",
       " '\\\\\\\\10.245.74.158\\\\Chromatin_NAS_8\\\\Exported_data\\\\20220419-Export\\\\Decoded_Fov-1.hdf5',\n",
       " '\\\\\\\\10.245.74.158\\\\Chromatin_NAS_8\\\\Exported_data\\\\20220419-Export\\\\Decoded_Fov-10.hdf5']"
      ]
     },
     "execution_count": 10,
     "metadata": {},
     "output_type": "execute_result"
    }
   ],
   "source": [
    "decoded_file_list = [os.path.join(decode_exp_folder, _fl) for _fl in os.listdir(decode_exp_folder) if '.hdf5' in _fl]\n",
    "decoded_file_list[:3]"
   ]
  },
  {
   "cell_type": "markdown",
   "metadata": {},
   "source": [
    "### start process"
   ]
  },
  {
   "cell_type": "code",
   "execution_count": 11,
   "metadata": {},
   "outputs": [],
   "source": [
    "df_list = []\n",
    "# ini file counter\n",
    "file_counts = np.full((len(decoded_file_list),), False)\n",
    "original_length_list = []\n",
    "final_length_list = []\n",
    "cell_ids_list = []"
   ]
  },
  {
   "cell_type": "code",
   "execution_count": 12,
   "metadata": {},
   "outputs": [
    {
     "name": "stderr",
     "output_type": "stream",
     "text": [
      "1it [00:02,  2.86s/it]"
     ]
    },
    {
     "name": "stdout",
     "output_type": "stream",
     "text": [
      "finishing processing \\\\10.245.74.158\\Chromatin_NAS_8\\Exported_data\\20220419-Export\\Decoded_Fov-0.hdf5\n",
      "292702 is kept out of 292702\n"
     ]
    },
    {
     "name": "stderr",
     "output_type": "stream",
     "text": [
      "\r\n",
      "2it [00:07,  3.63s/it]"
     ]
    },
    {
     "name": "stdout",
     "output_type": "stream",
     "text": [
      "finishing processing \\\\10.245.74.158\\Chromatin_NAS_8\\Exported_data\\20220419-Export\\Decoded_Fov-1.hdf5\n",
      "498508 is kept out of 498508\n"
     ]
    },
    {
     "name": "stderr",
     "output_type": "stream",
     "text": [
      "\r\n",
      "3it [00:11,  4.17s/it]"
     ]
    },
    {
     "name": "stdout",
     "output_type": "stream",
     "text": [
      "finishing processing \\\\10.245.74.158\\Chromatin_NAS_8\\Exported_data\\20220419-Export\\Decoded_Fov-10.hdf5\n",
      "333062 is kept out of 333062\n"
     ]
    },
    {
     "name": "stderr",
     "output_type": "stream",
     "text": [
      "\r\n",
      "4it [00:14,  3.44s/it]"
     ]
    },
    {
     "name": "stdout",
     "output_type": "stream",
     "text": [
      "finishing processing \\\\10.245.74.158\\Chromatin_NAS_8\\Exported_data\\20220419-Export\\Decoded_Fov-100.hdf5\n",
      "142238 is kept out of 142238\n"
     ]
    },
    {
     "name": "stderr",
     "output_type": "stream",
     "text": [
      "\r\n",
      "5it [00:15,  2.58s/it]"
     ]
    },
    {
     "name": "stdout",
     "output_type": "stream",
     "text": [
      "finishing processing \\\\10.245.74.158\\Chromatin_NAS_8\\Exported_data\\20220419-Export\\Decoded_Fov-101.hdf5\n",
      "99489 is kept out of 99489\n"
     ]
    },
    {
     "name": "stderr",
     "output_type": "stream",
     "text": [
      "\r\n",
      "6it [00:15,  1.87s/it]"
     ]
    },
    {
     "name": "stdout",
     "output_type": "stream",
     "text": [
      "finishing processing \\\\10.245.74.158\\Chromatin_NAS_8\\Exported_data\\20220419-Export\\Decoded_Fov-102.hdf5\n",
      "56744 is kept out of 56744\n"
     ]
    },
    {
     "name": "stderr",
     "output_type": "stream",
     "text": [
      "\r\n",
      "7it [00:17,  1.76s/it]"
     ]
    },
    {
     "name": "stdout",
     "output_type": "stream",
     "text": [
      "finishing processing \\\\10.245.74.158\\Chromatin_NAS_8\\Exported_data\\20220419-Export\\Decoded_Fov-103.hdf5\n",
      "135063 is kept out of 135063\n"
     ]
    },
    {
     "name": "stderr",
     "output_type": "stream",
     "text": [
      "\r\n",
      "8it [00:19,  2.03s/it]"
     ]
    },
    {
     "name": "stdout",
     "output_type": "stream",
     "text": [
      "finishing processing \\\\10.245.74.158\\Chromatin_NAS_8\\Exported_data\\20220419-Export\\Decoded_Fov-104.hdf5\n",
      "277773 is kept out of 277773\n"
     ]
    },
    {
     "name": "stderr",
     "output_type": "stream",
     "text": [
      "\r\n",
      "9it [00:23,  2.48s/it]"
     ]
    },
    {
     "name": "stdout",
     "output_type": "stream",
     "text": [
      "finishing processing \\\\10.245.74.158\\Chromatin_NAS_8\\Exported_data\\20220419-Export\\Decoded_Fov-105.hdf5\n",
      "282768 is kept out of 282768\n"
     ]
    },
    {
     "name": "stderr",
     "output_type": "stream",
     "text": [
      "\r\n",
      "10it [00:25,  2.46s/it]"
     ]
    },
    {
     "name": "stdout",
     "output_type": "stream",
     "text": [
      "finishing processing \\\\10.245.74.158\\Chromatin_NAS_8\\Exported_data\\20220419-Export\\Decoded_Fov-106.hdf5\n",
      "147762 is kept out of 147762\n"
     ]
    },
    {
     "name": "stderr",
     "output_type": "stream",
     "text": [
      "\r\n",
      "11it [00:26,  1.85s/it]"
     ]
    },
    {
     "name": "stdout",
     "output_type": "stream",
     "text": [
      "finishing processing \\\\10.245.74.158\\Chromatin_NAS_8\\Exported_data\\20220419-Export\\Decoded_Fov-107.hdf5\n",
      "43865 is kept out of 43865\n"
     ]
    },
    {
     "name": "stderr",
     "output_type": "stream",
     "text": [
      "\r\n",
      "12it [00:27,  1.76s/it]"
     ]
    },
    {
     "name": "stdout",
     "output_type": "stream",
     "text": [
      "finishing processing \\\\10.245.74.158\\Chromatin_NAS_8\\Exported_data\\20220419-Export\\Decoded_Fov-108.hdf5\n",
      "139470 is kept out of 139470\n"
     ]
    },
    {
     "name": "stderr",
     "output_type": "stream",
     "text": [
      "\r\n",
      "13it [00:29,  1.72s/it]"
     ]
    },
    {
     "name": "stdout",
     "output_type": "stream",
     "text": [
      "finishing processing \\\\10.245.74.158\\Chromatin_NAS_8\\Exported_data\\20220419-Export\\Decoded_Fov-109.hdf5\n",
      "129666 is kept out of 129666\n"
     ]
    },
    {
     "name": "stderr",
     "output_type": "stream",
     "text": [
      "\r\n",
      "14it [00:33,  2.35s/it]"
     ]
    },
    {
     "name": "stdout",
     "output_type": "stream",
     "text": [
      "finishing processing \\\\10.245.74.158\\Chromatin_NAS_8\\Exported_data\\20220419-Export\\Decoded_Fov-11.hdf5\n",
      "334410 is kept out of 334410\n"
     ]
    },
    {
     "name": "stderr",
     "output_type": "stream",
     "text": [
      "\r\n",
      "15it [00:34,  2.02s/it]"
     ]
    },
    {
     "name": "stdout",
     "output_type": "stream",
     "text": [
      "finishing processing \\\\10.245.74.158\\Chromatin_NAS_8\\Exported_data\\20220419-Export\\Decoded_Fov-110.hdf5\n",
      "104428 is kept out of 104428\n"
     ]
    },
    {
     "name": "stderr",
     "output_type": "stream",
     "text": [
      "17it [00:35,  1.33s/it]"
     ]
    },
    {
     "name": "stdout",
     "output_type": "stream",
     "text": [
      "finishing processing \\\\10.245.74.158\\Chromatin_NAS_8\\Exported_data\\20220419-Export\\Decoded_Fov-111.hdf5\n",
      "93215 is kept out of 93215\n",
      "finishing processing \\\\10.245.74.158\\Chromatin_NAS_8\\Exported_data\\20220419-Export\\Decoded_Fov-112.hdf5\n",
      "11262 is kept out of 11262\n"
     ]
    },
    {
     "name": "stderr",
     "output_type": "stream",
     "text": [
      "\r\n",
      "18it [00:37,  1.41s/it]"
     ]
    },
    {
     "name": "stdout",
     "output_type": "stream",
     "text": [
      "finishing processing \\\\10.245.74.158\\Chromatin_NAS_8\\Exported_data\\20220419-Export\\Decoded_Fov-113.hdf5\n",
      "120798 is kept out of 120798\n"
     ]
    },
    {
     "name": "stderr",
     "output_type": "stream",
     "text": [
      "\r\n",
      "19it [00:38,  1.41s/it]"
     ]
    },
    {
     "name": "stdout",
     "output_type": "stream",
     "text": [
      "finishing processing \\\\10.245.74.158\\Chromatin_NAS_8\\Exported_data\\20220419-Export\\Decoded_Fov-114.hdf5\n",
      "163030 is kept out of 163030\n"
     ]
    },
    {
     "name": "stderr",
     "output_type": "stream",
     "text": [
      "\r\n",
      "20it [00:40,  1.55s/it]"
     ]
    },
    {
     "name": "stdout",
     "output_type": "stream",
     "text": [
      "finishing processing \\\\10.245.74.158\\Chromatin_NAS_8\\Exported_data\\20220419-Export\\Decoded_Fov-115.hdf5\n",
      "199100 is kept out of 199100\n"
     ]
    },
    {
     "name": "stderr",
     "output_type": "stream",
     "text": [
      "\r\n",
      "21it [00:43,  1.89s/it]"
     ]
    },
    {
     "name": "stdout",
     "output_type": "stream",
     "text": [
      "finishing processing \\\\10.245.74.158\\Chromatin_NAS_8\\Exported_data\\20220419-Export\\Decoded_Fov-116.hdf5\n",
      "244819 is kept out of 244819\n"
     ]
    },
    {
     "name": "stderr",
     "output_type": "stream",
     "text": [
      "\r\n",
      "22it [00:46,  2.29s/it]"
     ]
    },
    {
     "name": "stdout",
     "output_type": "stream",
     "text": [
      "finishing processing \\\\10.245.74.158\\Chromatin_NAS_8\\Exported_data\\20220419-Export\\Decoded_Fov-117.hdf5\n",
      "307928 is kept out of 307928\n"
     ]
    },
    {
     "name": "stderr",
     "output_type": "stream",
     "text": [
      "\r\n",
      "23it [00:49,  2.40s/it]"
     ]
    },
    {
     "name": "stdout",
     "output_type": "stream",
     "text": [
      "finishing processing \\\\10.245.74.158\\Chromatin_NAS_8\\Exported_data\\20220419-Export\\Decoded_Fov-118.hdf5\n",
      "241729 is kept out of 241729\n"
     ]
    },
    {
     "name": "stderr",
     "output_type": "stream",
     "text": [
      "\r\n",
      "24it [00:53,  2.85s/it]"
     ]
    },
    {
     "name": "stdout",
     "output_type": "stream",
     "text": [
      "finishing processing \\\\10.245.74.158\\Chromatin_NAS_8\\Exported_data\\20220419-Export\\Decoded_Fov-119.hdf5\n",
      "342507 is kept out of 342507\n"
     ]
    },
    {
     "name": "stderr",
     "output_type": "stream",
     "text": [
      "\r\n",
      "25it [00:56,  3.05s/it]"
     ]
    },
    {
     "name": "stdout",
     "output_type": "stream",
     "text": [
      "finishing processing \\\\10.245.74.158\\Chromatin_NAS_8\\Exported_data\\20220419-Export\\Decoded_Fov-12.hdf5\n",
      "309260 is kept out of 309260\n"
     ]
    },
    {
     "name": "stderr",
     "output_type": "stream",
     "text": [
      "\r\n",
      "26it [01:03,  4.11s/it]"
     ]
    },
    {
     "name": "stdout",
     "output_type": "stream",
     "text": [
      "finishing processing \\\\10.245.74.158\\Chromatin_NAS_8\\Exported_data\\20220419-Export\\Decoded_Fov-120.hdf5\n",
      "482074 is kept out of 482074\n"
     ]
    },
    {
     "name": "stderr",
     "output_type": "stream",
     "text": [
      "\r\n",
      "27it [01:07,  4.17s/it]"
     ]
    },
    {
     "name": "stdout",
     "output_type": "stream",
     "text": [
      "finishing processing \\\\10.245.74.158\\Chromatin_NAS_8\\Exported_data\\20220419-Export\\Decoded_Fov-121.hdf5\n",
      "347040 is kept out of 347040\n"
     ]
    },
    {
     "name": "stderr",
     "output_type": "stream",
     "text": [
      "\r\n",
      "28it [01:09,  3.33s/it]"
     ]
    },
    {
     "name": "stdout",
     "output_type": "stream",
     "text": [
      "finishing processing \\\\10.245.74.158\\Chromatin_NAS_8\\Exported_data\\20220419-Export\\Decoded_Fov-122.hdf5\n",
      "40828 is kept out of 40828\n"
     ]
    },
    {
     "name": "stderr",
     "output_type": "stream",
     "text": [
      "\r\n",
      "29it [01:12,  3.21s/it]"
     ]
    },
    {
     "name": "stdout",
     "output_type": "stream",
     "text": [
      "finishing processing \\\\10.245.74.158\\Chromatin_NAS_8\\Exported_data\\20220419-Export\\Decoded_Fov-123.hdf5\n",
      "304591 is kept out of 304591\n"
     ]
    },
    {
     "name": "stderr",
     "output_type": "stream",
     "text": [
      "\r\n",
      "30it [01:14,  3.00s/it]"
     ]
    },
    {
     "name": "stdout",
     "output_type": "stream",
     "text": [
      "finishing processing \\\\10.245.74.158\\Chromatin_NAS_8\\Exported_data\\20220419-Export\\Decoded_Fov-124.hdf5\n",
      "241791 is kept out of 241791\n"
     ]
    },
    {
     "name": "stderr",
     "output_type": "stream",
     "text": [
      "\r\n",
      "31it [01:18,  3.16s/it]"
     ]
    },
    {
     "name": "stdout",
     "output_type": "stream",
     "text": [
      "finishing processing \\\\10.245.74.158\\Chromatin_NAS_8\\Exported_data\\20220419-Export\\Decoded_Fov-125.hdf5\n",
      "253802 is kept out of 253802\n"
     ]
    },
    {
     "name": "stderr",
     "output_type": "stream",
     "text": [
      "\r\n",
      "32it [01:23,  3.77s/it]"
     ]
    },
    {
     "name": "stdout",
     "output_type": "stream",
     "text": [
      "finishing processing \\\\10.245.74.158\\Chromatin_NAS_8\\Exported_data\\20220419-Export\\Decoded_Fov-126.hdf5\n",
      "357505 is kept out of 357505\n"
     ]
    },
    {
     "name": "stderr",
     "output_type": "stream",
     "text": [
      "\r\n",
      "33it [01:26,  3.58s/it]"
     ]
    },
    {
     "name": "stdout",
     "output_type": "stream",
     "text": [
      "finishing processing \\\\10.245.74.158\\Chromatin_NAS_8\\Exported_data\\20220419-Export\\Decoded_Fov-127.hdf5\n",
      "299353 is kept out of 299353\n"
     ]
    },
    {
     "name": "stderr",
     "output_type": "stream",
     "text": [
      "\r\n",
      "34it [01:30,  3.66s/it]"
     ]
    },
    {
     "name": "stdout",
     "output_type": "stream",
     "text": [
      "finishing processing \\\\10.245.74.158\\Chromatin_NAS_8\\Exported_data\\20220419-Export\\Decoded_Fov-128.hdf5\n",
      "332996 is kept out of 332996\n"
     ]
    },
    {
     "name": "stderr",
     "output_type": "stream",
     "text": [
      "\r\n",
      "35it [01:34,  3.87s/it]"
     ]
    },
    {
     "name": "stdout",
     "output_type": "stream",
     "text": [
      "finishing processing \\\\10.245.74.158\\Chromatin_NAS_8\\Exported_data\\20220419-Export\\Decoded_Fov-129.hdf5\n",
      "384055 is kept out of 384055\n"
     ]
    },
    {
     "name": "stderr",
     "output_type": "stream",
     "text": [
      "\r\n",
      "36it [01:38,  3.87s/it]"
     ]
    },
    {
     "name": "stdout",
     "output_type": "stream",
     "text": [
      "finishing processing \\\\10.245.74.158\\Chromatin_NAS_8\\Exported_data\\20220419-Export\\Decoded_Fov-13.hdf5\n",
      "343083 is kept out of 343083\n"
     ]
    },
    {
     "name": "stderr",
     "output_type": "stream",
     "text": [
      "\r\n",
      "37it [01:41,  3.76s/it]"
     ]
    },
    {
     "name": "stdout",
     "output_type": "stream",
     "text": [
      "finishing processing \\\\10.245.74.158\\Chromatin_NAS_8\\Exported_data\\20220419-Export\\Decoded_Fov-130.hdf5\n",
      "306944 is kept out of 306944\n"
     ]
    },
    {
     "name": "stderr",
     "output_type": "stream",
     "text": [
      "\r\n",
      "38it [01:45,  3.70s/it]"
     ]
    },
    {
     "name": "stdout",
     "output_type": "stream",
     "text": [
      "finishing processing \\\\10.245.74.158\\Chromatin_NAS_8\\Exported_data\\20220419-Export\\Decoded_Fov-131.hdf5\n",
      "368223 is kept out of 368223\n"
     ]
    },
    {
     "name": "stderr",
     "output_type": "stream",
     "text": [
      "\r\n",
      "39it [01:49,  3.78s/it]"
     ]
    },
    {
     "name": "stdout",
     "output_type": "stream",
     "text": [
      "finishing processing \\\\10.245.74.158\\Chromatin_NAS_8\\Exported_data\\20220419-Export\\Decoded_Fov-132.hdf5\n",
      "314518 is kept out of 314518\n"
     ]
    },
    {
     "name": "stderr",
     "output_type": "stream",
     "text": [
      "\r\n",
      "40it [01:52,  3.46s/it]"
     ]
    },
    {
     "name": "stdout",
     "output_type": "stream",
     "text": [
      "finishing processing \\\\10.245.74.158\\Chromatin_NAS_8\\Exported_data\\20220419-Export\\Decoded_Fov-133.hdf5\n",
      "260165 is kept out of 260165\n"
     ]
    },
    {
     "name": "stderr",
     "output_type": "stream",
     "text": [
      "\r\n",
      "41it [01:54,  3.19s/it]"
     ]
    },
    {
     "name": "stdout",
     "output_type": "stream",
     "text": [
      "finishing processing \\\\10.245.74.158\\Chromatin_NAS_8\\Exported_data\\20220419-Export\\Decoded_Fov-134.hdf5\n",
      "207089 is kept out of 207089\n"
     ]
    },
    {
     "name": "stderr",
     "output_type": "stream",
     "text": [
      "\r\n",
      "42it [01:57,  3.02s/it]"
     ]
    },
    {
     "name": "stdout",
     "output_type": "stream",
     "text": [
      "finishing processing \\\\10.245.74.158\\Chromatin_NAS_8\\Exported_data\\20220419-Export\\Decoded_Fov-135.hdf5\n",
      "249480 is kept out of 249480\n"
     ]
    },
    {
     "name": "stderr",
     "output_type": "stream",
     "text": [
      "\r\n",
      "43it [02:00,  3.12s/it]"
     ]
    },
    {
     "name": "stdout",
     "output_type": "stream",
     "text": [
      "finishing processing \\\\10.245.74.158\\Chromatin_NAS_8\\Exported_data\\20220419-Export\\Decoded_Fov-136.hdf5\n",
      "236961 is kept out of 236961\n"
     ]
    },
    {
     "name": "stderr",
     "output_type": "stream",
     "text": [
      "\r\n",
      "44it [02:03,  2.96s/it]"
     ]
    },
    {
     "name": "stdout",
     "output_type": "stream",
     "text": [
      "finishing processing \\\\10.245.74.158\\Chromatin_NAS_8\\Exported_data\\20220419-Export\\Decoded_Fov-137.hdf5\n",
      "242852 is kept out of 242852\n"
     ]
    },
    {
     "name": "stderr",
     "output_type": "stream",
     "text": [
      "\r\n",
      "45it [02:06,  2.96s/it]"
     ]
    },
    {
     "name": "stdout",
     "output_type": "stream",
     "text": [
      "finishing processing \\\\10.245.74.158\\Chromatin_NAS_8\\Exported_data\\20220419-Export\\Decoded_Fov-138.hdf5\n",
      "274807 is kept out of 274807\n"
     ]
    },
    {
     "name": "stderr",
     "output_type": "stream",
     "text": [
      "\r\n",
      "46it [02:09,  2.90s/it]"
     ]
    },
    {
     "name": "stdout",
     "output_type": "stream",
     "text": [
      "finishing processing \\\\10.245.74.158\\Chromatin_NAS_8\\Exported_data\\20220419-Export\\Decoded_Fov-139.hdf5\n",
      "235513 is kept out of 235513\n"
     ]
    },
    {
     "name": "stderr",
     "output_type": "stream",
     "text": [
      "\r\n",
      "47it [02:12,  3.03s/it]"
     ]
    },
    {
     "name": "stdout",
     "output_type": "stream",
     "text": [
      "finishing processing \\\\10.245.74.158\\Chromatin_NAS_8\\Exported_data\\20220419-Export\\Decoded_Fov-14.hdf5\n",
      "277360 is kept out of 277360\n"
     ]
    },
    {
     "name": "stderr",
     "output_type": "stream",
     "text": [
      "\r\n",
      "48it [02:15,  3.02s/it]"
     ]
    },
    {
     "name": "stdout",
     "output_type": "stream",
     "text": [
      "finishing processing \\\\10.245.74.158\\Chromatin_NAS_8\\Exported_data\\20220419-Export\\Decoded_Fov-140.hdf5\n",
      "238808 is kept out of 238808\n"
     ]
    },
    {
     "name": "stderr",
     "output_type": "stream",
     "text": [
      "\r\n",
      "49it [02:17,  2.86s/it]"
     ]
    },
    {
     "name": "stdout",
     "output_type": "stream",
     "text": [
      "finishing processing \\\\10.245.74.158\\Chromatin_NAS_8\\Exported_data\\20220419-Export\\Decoded_Fov-141.hdf5\n",
      "249530 is kept out of 249530\n"
     ]
    },
    {
     "name": "stderr",
     "output_type": "stream",
     "text": [
      "\r\n",
      "50it [02:20,  2.91s/it]"
     ]
    },
    {
     "name": "stdout",
     "output_type": "stream",
     "text": [
      "finishing processing \\\\10.245.74.158\\Chromatin_NAS_8\\Exported_data\\20220419-Export\\Decoded_Fov-142.hdf5\n",
      "330518 is kept out of 330518\n"
     ]
    },
    {
     "name": "stderr",
     "output_type": "stream",
     "text": [
      "\r\n",
      "51it [02:24,  3.05s/it]"
     ]
    },
    {
     "name": "stdout",
     "output_type": "stream",
     "text": [
      "finishing processing \\\\10.245.74.158\\Chromatin_NAS_8\\Exported_data\\20220419-Export\\Decoded_Fov-143.hdf5\n",
      "292957 is kept out of 292957\n"
     ]
    },
    {
     "name": "stderr",
     "output_type": "stream",
     "text": [
      "\r\n",
      "52it [02:28,  3.34s/it]"
     ]
    },
    {
     "name": "stdout",
     "output_type": "stream",
     "text": [
      "finishing processing \\\\10.245.74.158\\Chromatin_NAS_8\\Exported_data\\20220419-Export\\Decoded_Fov-144.hdf5\n",
      "401683 is kept out of 401683\n"
     ]
    },
    {
     "name": "stderr",
     "output_type": "stream",
     "text": [
      "\r\n",
      "53it [02:32,  3.69s/it]"
     ]
    },
    {
     "name": "stdout",
     "output_type": "stream",
     "text": [
      "finishing processing \\\\10.245.74.158\\Chromatin_NAS_8\\Exported_data\\20220419-Export\\Decoded_Fov-145.hdf5\n",
      "386460 is kept out of 386460\n"
     ]
    },
    {
     "name": "stderr",
     "output_type": "stream",
     "text": [
      "\r\n",
      "54it [02:35,  3.46s/it]"
     ]
    },
    {
     "name": "stdout",
     "output_type": "stream",
     "text": [
      "finishing processing \\\\10.245.74.158\\Chromatin_NAS_8\\Exported_data\\20220419-Export\\Decoded_Fov-146.hdf5\n",
      "292146 is kept out of 292146\n"
     ]
    },
    {
     "name": "stderr",
     "output_type": "stream",
     "text": [
      "\r\n",
      "55it [02:38,  3.40s/it]"
     ]
    },
    {
     "name": "stdout",
     "output_type": "stream",
     "text": [
      "finishing processing \\\\10.245.74.158\\Chromatin_NAS_8\\Exported_data\\20220419-Export\\Decoded_Fov-147.hdf5\n",
      "325143 is kept out of 325143\n"
     ]
    },
    {
     "name": "stderr",
     "output_type": "stream",
     "text": [
      "\r\n",
      "56it [02:42,  3.34s/it]"
     ]
    },
    {
     "name": "stdout",
     "output_type": "stream",
     "text": [
      "finishing processing \\\\10.245.74.158\\Chromatin_NAS_8\\Exported_data\\20220419-Export\\Decoded_Fov-148.hdf5\n",
      "265301 is kept out of 265301\n"
     ]
    },
    {
     "name": "stderr",
     "output_type": "stream",
     "text": [
      "\r\n",
      "57it [02:44,  3.11s/it]"
     ]
    },
    {
     "name": "stdout",
     "output_type": "stream",
     "text": [
      "finishing processing \\\\10.245.74.158\\Chromatin_NAS_8\\Exported_data\\20220419-Export\\Decoded_Fov-149.hdf5\n",
      "259215 is kept out of 259215\n"
     ]
    },
    {
     "name": "stderr",
     "output_type": "stream",
     "text": [
      "\r\n",
      "58it [02:48,  3.34s/it]"
     ]
    },
    {
     "name": "stdout",
     "output_type": "stream",
     "text": [
      "finishing processing \\\\10.245.74.158\\Chromatin_NAS_8\\Exported_data\\20220419-Export\\Decoded_Fov-15.hdf5\n",
      "279464 is kept out of 279464\n"
     ]
    },
    {
     "name": "stderr",
     "output_type": "stream",
     "text": [
      "\r\n",
      "59it [02:52,  3.47s/it]"
     ]
    },
    {
     "name": "stdout",
     "output_type": "stream",
     "text": [
      "finishing processing \\\\10.245.74.158\\Chromatin_NAS_8\\Exported_data\\20220419-Export\\Decoded_Fov-150.hdf5\n",
      "343714 is kept out of 343714\n"
     ]
    },
    {
     "name": "stderr",
     "output_type": "stream",
     "text": [
      "\r\n",
      "60it [02:56,  3.52s/it]"
     ]
    },
    {
     "name": "stdout",
     "output_type": "stream",
     "text": [
      "finishing processing \\\\10.245.74.158\\Chromatin_NAS_8\\Exported_data\\20220419-Export\\Decoded_Fov-151.hdf5\n",
      "348692 is kept out of 348692\n"
     ]
    },
    {
     "name": "stderr",
     "output_type": "stream",
     "text": [
      "\r\n",
      "61it [03:00,  3.90s/it]"
     ]
    },
    {
     "name": "stdout",
     "output_type": "stream",
     "text": [
      "finishing processing \\\\10.245.74.158\\Chromatin_NAS_8\\Exported_data\\20220419-Export\\Decoded_Fov-152.hdf5\n",
      "340177 is kept out of 340177\n"
     ]
    },
    {
     "name": "stderr",
     "output_type": "stream",
     "text": [
      "\r\n",
      "62it [03:03,  3.62s/it]"
     ]
    },
    {
     "name": "stdout",
     "output_type": "stream",
     "text": [
      "finishing processing \\\\10.245.74.158\\Chromatin_NAS_8\\Exported_data\\20220419-Export\\Decoded_Fov-153.hdf5\n",
      "269060 is kept out of 269060\n"
     ]
    },
    {
     "name": "stderr",
     "output_type": "stream",
     "text": [
      "\r\n",
      "63it [03:08,  3.85s/it]"
     ]
    },
    {
     "name": "stdout",
     "output_type": "stream",
     "text": [
      "finishing processing \\\\10.245.74.158\\Chromatin_NAS_8\\Exported_data\\20220419-Export\\Decoded_Fov-154.hdf5\n",
      "381970 is kept out of 381970\n"
     ]
    },
    {
     "name": "stderr",
     "output_type": "stream",
     "text": [
      "\r\n",
      "64it [03:10,  3.52s/it]"
     ]
    },
    {
     "name": "stdout",
     "output_type": "stream",
     "text": [
      "finishing processing \\\\10.245.74.158\\Chromatin_NAS_8\\Exported_data\\20220419-Export\\Decoded_Fov-155.hdf5\n",
      "253597 is kept out of 253597\n"
     ]
    },
    {
     "name": "stderr",
     "output_type": "stream",
     "text": [
      "\r\n",
      "65it [03:14,  3.42s/it]"
     ]
    },
    {
     "name": "stdout",
     "output_type": "stream",
     "text": [
      "finishing processing \\\\10.245.74.158\\Chromatin_NAS_8\\Exported_data\\20220419-Export\\Decoded_Fov-156.hdf5\n",
      "307051 is kept out of 307051\n"
     ]
    },
    {
     "name": "stderr",
     "output_type": "stream",
     "text": [
      "\r\n",
      "66it [03:16,  3.04s/it]"
     ]
    },
    {
     "name": "stdout",
     "output_type": "stream",
     "text": [
      "finishing processing \\\\10.245.74.158\\Chromatin_NAS_8\\Exported_data\\20220419-Export\\Decoded_Fov-157.hdf5\n",
      "236331 is kept out of 236331\n"
     ]
    },
    {
     "name": "stderr",
     "output_type": "stream",
     "text": [
      "\r\n",
      "67it [03:22,  3.87s/it]"
     ]
    },
    {
     "name": "stdout",
     "output_type": "stream",
     "text": [
      "finishing processing \\\\10.245.74.158\\Chromatin_NAS_8\\Exported_data\\20220419-Export\\Decoded_Fov-158.hdf5\n",
      "562981 is kept out of 562981\n"
     ]
    },
    {
     "name": "stderr",
     "output_type": "stream",
     "text": [
      "\r\n",
      "68it [03:25,  3.76s/it]"
     ]
    },
    {
     "name": "stdout",
     "output_type": "stream",
     "text": [
      "finishing processing \\\\10.245.74.158\\Chromatin_NAS_8\\Exported_data\\20220419-Export\\Decoded_Fov-159.hdf5\n",
      "400369 is kept out of 400369\n"
     ]
    },
    {
     "name": "stderr",
     "output_type": "stream",
     "text": [
      "\r\n",
      "69it [03:28,  3.59s/it]"
     ]
    },
    {
     "name": "stdout",
     "output_type": "stream",
     "text": [
      "finishing processing \\\\10.245.74.158\\Chromatin_NAS_8\\Exported_data\\20220419-Export\\Decoded_Fov-16.hdf5\n",
      "310381 is kept out of 310381\n"
     ]
    },
    {
     "name": "stderr",
     "output_type": "stream",
     "text": [
      "\r\n",
      "70it [03:32,  3.63s/it]"
     ]
    },
    {
     "name": "stdout",
     "output_type": "stream",
     "text": [
      "finishing processing \\\\10.245.74.158\\Chromatin_NAS_8\\Exported_data\\20220419-Export\\Decoded_Fov-160.hdf5\n",
      "342347 is kept out of 342347\n"
     ]
    },
    {
     "name": "stderr",
     "output_type": "stream",
     "text": [
      "\r\n",
      "71it [03:35,  3.56s/it]"
     ]
    },
    {
     "name": "stdout",
     "output_type": "stream",
     "text": [
      "finishing processing \\\\10.245.74.158\\Chromatin_NAS_8\\Exported_data\\20220419-Export\\Decoded_Fov-161.hdf5\n",
      "382357 is kept out of 382357\n"
     ]
    },
    {
     "name": "stderr",
     "output_type": "stream",
     "text": [
      "\r\n",
      "72it [03:40,  3.90s/it]"
     ]
    },
    {
     "name": "stdout",
     "output_type": "stream",
     "text": [
      "finishing processing \\\\10.245.74.158\\Chromatin_NAS_8\\Exported_data\\20220419-Export\\Decoded_Fov-162.hdf5\n",
      "449302 is kept out of 449302\n"
     ]
    },
    {
     "name": "stderr",
     "output_type": "stream",
     "text": [
      "74it [03:41,  2.16s/it]"
     ]
    },
    {
     "name": "stdout",
     "output_type": "stream",
     "text": [
      "finishing processing \\\\10.245.74.158\\Chromatin_NAS_8\\Exported_data\\20220419-Export\\Decoded_Fov-163.hdf5\n",
      "91972 is kept out of 91972\n",
      "finishing processing \\\\10.245.74.158\\Chromatin_NAS_8\\Exported_data\\20220419-Export\\Decoded_Fov-165.hdf5\n",
      "12745 is kept out of 12745\n"
     ]
    },
    {
     "name": "stderr",
     "output_type": "stream",
     "text": [
      "\r\n",
      "75it [03:43,  2.11s/it]"
     ]
    },
    {
     "name": "stdout",
     "output_type": "stream",
     "text": [
      "finishing processing \\\\10.245.74.158\\Chromatin_NAS_8\\Exported_data\\20220419-Export\\Decoded_Fov-166.hdf5\n",
      "150953 is kept out of 150953\n"
     ]
    },
    {
     "name": "stderr",
     "output_type": "stream",
     "text": [
      "\r\n",
      "76it [03:46,  2.30s/it]"
     ]
    },
    {
     "name": "stdout",
     "output_type": "stream",
     "text": [
      "finishing processing \\\\10.245.74.158\\Chromatin_NAS_8\\Exported_data\\20220419-Export\\Decoded_Fov-167.hdf5\n",
      "262421 is kept out of 262421\n"
     ]
    },
    {
     "name": "stderr",
     "output_type": "stream",
     "text": [
      "\r\n",
      "77it [03:49,  2.62s/it]"
     ]
    },
    {
     "name": "stdout",
     "output_type": "stream",
     "text": [
      "finishing processing \\\\10.245.74.158\\Chromatin_NAS_8\\Exported_data\\20220419-Export\\Decoded_Fov-168.hdf5\n",
      "323161 is kept out of 323161\n"
     ]
    },
    {
     "name": "stderr",
     "output_type": "stream",
     "text": [
      "\r\n",
      "78it [03:54,  3.32s/it]"
     ]
    },
    {
     "name": "stdout",
     "output_type": "stream",
     "text": [
      "finishing processing \\\\10.245.74.158\\Chromatin_NAS_8\\Exported_data\\20220419-Export\\Decoded_Fov-169.hdf5\n",
      "329411 is kept out of 329411\n"
     ]
    },
    {
     "name": "stderr",
     "output_type": "stream",
     "text": [
      "\r\n",
      "79it [03:59,  3.62s/it]"
     ]
    },
    {
     "name": "stdout",
     "output_type": "stream",
     "text": [
      "finishing processing \\\\10.245.74.158\\Chromatin_NAS_8\\Exported_data\\20220419-Export\\Decoded_Fov-17.hdf5\n",
      "312052 is kept out of 312052\n"
     ]
    },
    {
     "name": "stderr",
     "output_type": "stream",
     "text": [
      "\r\n",
      "80it [04:02,  3.54s/it]"
     ]
    },
    {
     "name": "stdout",
     "output_type": "stream",
     "text": [
      "finishing processing \\\\10.245.74.158\\Chromatin_NAS_8\\Exported_data\\20220419-Export\\Decoded_Fov-170.hdf5\n",
      "320178 is kept out of 320178\n"
     ]
    },
    {
     "name": "stderr",
     "output_type": "stream",
     "text": [
      "\r\n",
      "81it [04:04,  3.21s/it]"
     ]
    },
    {
     "name": "stdout",
     "output_type": "stream",
     "text": [
      "finishing processing \\\\10.245.74.158\\Chromatin_NAS_8\\Exported_data\\20220419-Export\\Decoded_Fov-171.hdf5\n",
      "238456 is kept out of 238456\n"
     ]
    },
    {
     "name": "stderr",
     "output_type": "stream",
     "text": [
      "\r\n",
      "82it [04:06,  2.86s/it]"
     ]
    },
    {
     "name": "stdout",
     "output_type": "stream",
     "text": [
      "finishing processing \\\\10.245.74.158\\Chromatin_NAS_8\\Exported_data\\20220419-Export\\Decoded_Fov-172.hdf5\n",
      "193566 is kept out of 193566\n"
     ]
    },
    {
     "name": "stderr",
     "output_type": "stream",
     "text": [
      "\r\n",
      "83it [04:07,  2.12s/it]"
     ]
    },
    {
     "name": "stdout",
     "output_type": "stream",
     "text": [
      "finishing processing \\\\10.245.74.158\\Chromatin_NAS_8\\Exported_data\\20220419-Export\\Decoded_Fov-173.hdf5\n",
      "40457 is kept out of 40457\n"
     ]
    },
    {
     "name": "stderr",
     "output_type": "stream",
     "text": [
      "\r\n",
      "84it [04:09,  2.02s/it]"
     ]
    },
    {
     "name": "stdout",
     "output_type": "stream",
     "text": [
      "finishing processing \\\\10.245.74.158\\Chromatin_NAS_8\\Exported_data\\20220419-Export\\Decoded_Fov-174.hdf5\n",
      "177762 is kept out of 177762\n"
     ]
    },
    {
     "name": "stderr",
     "output_type": "stream",
     "text": [
      "\r\n",
      "85it [04:11,  2.00s/it]"
     ]
    },
    {
     "name": "stdout",
     "output_type": "stream",
     "text": [
      "finishing processing \\\\10.245.74.158\\Chromatin_NAS_8\\Exported_data\\20220419-Export\\Decoded_Fov-175.hdf5\n",
      "204854 is kept out of 204854\n"
     ]
    },
    {
     "name": "stderr",
     "output_type": "stream",
     "text": [
      "\r\n",
      "86it [04:13,  2.13s/it]"
     ]
    },
    {
     "name": "stdout",
     "output_type": "stream",
     "text": [
      "finishing processing \\\\10.245.74.158\\Chromatin_NAS_8\\Exported_data\\20220419-Export\\Decoded_Fov-176.hdf5\n",
      "237552 is kept out of 237552\n"
     ]
    },
    {
     "name": "stderr",
     "output_type": "stream",
     "text": [
      "\r\n",
      "87it [04:16,  2.35s/it]"
     ]
    },
    {
     "name": "stdout",
     "output_type": "stream",
     "text": [
      "finishing processing \\\\10.245.74.158\\Chromatin_NAS_8\\Exported_data\\20220419-Export\\Decoded_Fov-177.hdf5\n",
      "270168 is kept out of 270168\n"
     ]
    },
    {
     "name": "stderr",
     "output_type": "stream",
     "text": [
      "\r\n",
      "88it [04:19,  2.64s/it]"
     ]
    },
    {
     "name": "stdout",
     "output_type": "stream",
     "text": [
      "finishing processing \\\\10.245.74.158\\Chromatin_NAS_8\\Exported_data\\20220419-Export\\Decoded_Fov-178.hdf5\n",
      "291619 is kept out of 291619\n"
     ]
    },
    {
     "name": "stderr",
     "output_type": "stream",
     "text": [
      "\r\n",
      "89it [04:23,  3.09s/it]"
     ]
    },
    {
     "name": "stdout",
     "output_type": "stream",
     "text": [
      "finishing processing \\\\10.245.74.158\\Chromatin_NAS_8\\Exported_data\\20220419-Export\\Decoded_Fov-179.hdf5\n",
      "322870 is kept out of 322870\n"
     ]
    },
    {
     "name": "stderr",
     "output_type": "stream",
     "text": [
      "\r\n",
      "90it [04:26,  2.85s/it]"
     ]
    },
    {
     "name": "stdout",
     "output_type": "stream",
     "text": [
      "finishing processing \\\\10.245.74.158\\Chromatin_NAS_8\\Exported_data\\20220419-Export\\Decoded_Fov-18.hdf5\n",
      "203286 is kept out of 203286\n"
     ]
    },
    {
     "name": "stderr",
     "output_type": "stream",
     "text": [
      "\r\n",
      "91it [04:29,  3.01s/it]"
     ]
    },
    {
     "name": "stdout",
     "output_type": "stream",
     "text": [
      "finishing processing \\\\10.245.74.158\\Chromatin_NAS_8\\Exported_data\\20220419-Export\\Decoded_Fov-180.hdf5\n",
      "256931 is kept out of 256931\n"
     ]
    },
    {
     "name": "stderr",
     "output_type": "stream",
     "text": [
      "\r\n",
      "92it [04:32,  2.90s/it]"
     ]
    },
    {
     "name": "stdout",
     "output_type": "stream",
     "text": [
      "finishing processing \\\\10.245.74.158\\Chromatin_NAS_8\\Exported_data\\20220419-Export\\Decoded_Fov-181.hdf5\n",
      "250419 is kept out of 250419\n"
     ]
    },
    {
     "name": "stderr",
     "output_type": "stream",
     "text": [
      "\r\n",
      "93it [04:35,  2.97s/it]"
     ]
    },
    {
     "name": "stdout",
     "output_type": "stream",
     "text": [
      "finishing processing \\\\10.245.74.158\\Chromatin_NAS_8\\Exported_data\\20220419-Export\\Decoded_Fov-182.hdf5\n",
      "276182 is kept out of 276182\n"
     ]
    },
    {
     "name": "stderr",
     "output_type": "stream",
     "text": [
      "\r\n",
      "94it [04:39,  3.28s/it]"
     ]
    },
    {
     "name": "stdout",
     "output_type": "stream",
     "text": [
      "finishing processing \\\\10.245.74.158\\Chromatin_NAS_8\\Exported_data\\20220419-Export\\Decoded_Fov-183.hdf5\n",
      "351952 is kept out of 351952\n"
     ]
    },
    {
     "name": "stderr",
     "output_type": "stream",
     "text": [
      "\r\n",
      "95it [04:42,  3.39s/it]"
     ]
    },
    {
     "name": "stdout",
     "output_type": "stream",
     "text": [
      "finishing processing \\\\10.245.74.158\\Chromatin_NAS_8\\Exported_data\\20220419-Export\\Decoded_Fov-184.hdf5\n",
      "263676 is kept out of 263676\n"
     ]
    },
    {
     "name": "stderr",
     "output_type": "stream",
     "text": [
      "\r\n",
      "96it [04:46,  3.34s/it]"
     ]
    },
    {
     "name": "stdout",
     "output_type": "stream",
     "text": [
      "finishing processing \\\\10.245.74.158\\Chromatin_NAS_8\\Exported_data\\20220419-Export\\Decoded_Fov-185.hdf5\n",
      "273655 is kept out of 273655\n"
     ]
    },
    {
     "name": "stderr",
     "output_type": "stream",
     "text": [
      "\r\n",
      "97it [04:49,  3.46s/it]"
     ]
    },
    {
     "name": "stdout",
     "output_type": "stream",
     "text": [
      "finishing processing \\\\10.245.74.158\\Chromatin_NAS_8\\Exported_data\\20220419-Export\\Decoded_Fov-186.hdf5\n",
      "316051 is kept out of 316051\n"
     ]
    },
    {
     "name": "stderr",
     "output_type": "stream",
     "text": [
      "\r\n",
      "98it [04:54,  3.68s/it]"
     ]
    },
    {
     "name": "stdout",
     "output_type": "stream",
     "text": [
      "finishing processing \\\\10.245.74.158\\Chromatin_NAS_8\\Exported_data\\20220419-Export\\Decoded_Fov-187.hdf5\n",
      "366513 is kept out of 366513\n"
     ]
    },
    {
     "name": "stderr",
     "output_type": "stream",
     "text": [
      "\r\n",
      "99it [04:57,  3.56s/it]"
     ]
    },
    {
     "name": "stdout",
     "output_type": "stream",
     "text": [
      "finishing processing \\\\10.245.74.158\\Chromatin_NAS_8\\Exported_data\\20220419-Export\\Decoded_Fov-188.hdf5\n",
      "241903 is kept out of 241903\n"
     ]
    },
    {
     "name": "stderr",
     "output_type": "stream",
     "text": [
      "\r\n",
      "100it [04:59,  3.20s/it]"
     ]
    },
    {
     "name": "stdout",
     "output_type": "stream",
     "text": [
      "finishing processing \\\\10.245.74.158\\Chromatin_NAS_8\\Exported_data\\20220419-Export\\Decoded_Fov-189.hdf5\n",
      "238243 is kept out of 238243\n"
     ]
    },
    {
     "name": "stderr",
     "output_type": "stream",
     "text": [
      "\r\n",
      "101it [05:02,  3.22s/it]"
     ]
    },
    {
     "name": "stdout",
     "output_type": "stream",
     "text": [
      "finishing processing \\\\10.245.74.158\\Chromatin_NAS_8\\Exported_data\\20220419-Export\\Decoded_Fov-19.hdf5\n",
      "291221 is kept out of 291221\n"
     ]
    },
    {
     "name": "stderr",
     "output_type": "stream",
     "text": [
      "\r\n",
      "102it [05:06,  3.22s/it]"
     ]
    },
    {
     "name": "stdout",
     "output_type": "stream",
     "text": [
      "finishing processing \\\\10.245.74.158\\Chromatin_NAS_8\\Exported_data\\20220419-Export\\Decoded_Fov-190.hdf5\n",
      "267950 is kept out of 267950\n"
     ]
    },
    {
     "name": "stderr",
     "output_type": "stream",
     "text": [
      "\r\n",
      "103it [05:08,  3.07s/it]"
     ]
    },
    {
     "name": "stdout",
     "output_type": "stream",
     "text": [
      "finishing processing \\\\10.245.74.158\\Chromatin_NAS_8\\Exported_data\\20220419-Export\\Decoded_Fov-191.hdf5\n",
      "270128 is kept out of 270128\n"
     ]
    },
    {
     "name": "stderr",
     "output_type": "stream",
     "text": [
      "\r\n",
      "104it [05:12,  3.34s/it]"
     ]
    },
    {
     "name": "stdout",
     "output_type": "stream",
     "text": [
      "finishing processing \\\\10.245.74.158\\Chromatin_NAS_8\\Exported_data\\20220419-Export\\Decoded_Fov-192.hdf5\n",
      "341264 is kept out of 341264\n"
     ]
    },
    {
     "name": "stderr",
     "output_type": "stream",
     "text": [
      "\r\n",
      "105it [05:17,  3.58s/it]"
     ]
    },
    {
     "name": "stdout",
     "output_type": "stream",
     "text": [
      "finishing processing \\\\10.245.74.158\\Chromatin_NAS_8\\Exported_data\\20220419-Export\\Decoded_Fov-193.hdf5\n",
      "351346 is kept out of 351346\n"
     ]
    },
    {
     "name": "stderr",
     "output_type": "stream",
     "text": [
      "\r\n",
      "106it [05:20,  3.54s/it]"
     ]
    },
    {
     "name": "stdout",
     "output_type": "stream",
     "text": [
      "finishing processing \\\\10.245.74.158\\Chromatin_NAS_8\\Exported_data\\20220419-Export\\Decoded_Fov-194.hdf5\n",
      "294017 is kept out of 294017\n"
     ]
    },
    {
     "name": "stderr",
     "output_type": "stream",
     "text": [
      "\r\n",
      "107it [05:22,  3.11s/it]"
     ]
    },
    {
     "name": "stdout",
     "output_type": "stream",
     "text": [
      "finishing processing \\\\10.245.74.158\\Chromatin_NAS_8\\Exported_data\\20220419-Export\\Decoded_Fov-195.hdf5\n",
      "234623 is kept out of 234623\n"
     ]
    },
    {
     "name": "stderr",
     "output_type": "stream",
     "text": [
      "\r\n",
      "108it [05:24,  2.87s/it]"
     ]
    },
    {
     "name": "stdout",
     "output_type": "stream",
     "text": [
      "finishing processing \\\\10.245.74.158\\Chromatin_NAS_8\\Exported_data\\20220419-Export\\Decoded_Fov-196.hdf5\n",
      "191494 is kept out of 191494\n"
     ]
    },
    {
     "name": "stderr",
     "output_type": "stream",
     "text": [
      "\r\n",
      "109it [05:28,  2.96s/it]"
     ]
    },
    {
     "name": "stdout",
     "output_type": "stream",
     "text": [
      "finishing processing \\\\10.245.74.158\\Chromatin_NAS_8\\Exported_data\\20220419-Export\\Decoded_Fov-197.hdf5\n",
      "292763 is kept out of 292763\n"
     ]
    },
    {
     "name": "stderr",
     "output_type": "stream",
     "text": [
      "\r\n",
      "110it [05:30,  2.90s/it]"
     ]
    },
    {
     "name": "stdout",
     "output_type": "stream",
     "text": [
      "finishing processing \\\\10.245.74.158\\Chromatin_NAS_8\\Exported_data\\20220419-Export\\Decoded_Fov-198.hdf5\n",
      "278486 is kept out of 278486\n"
     ]
    },
    {
     "name": "stderr",
     "output_type": "stream",
     "text": [
      "\r\n",
      "111it [05:32,  2.64s/it]"
     ]
    },
    {
     "name": "stdout",
     "output_type": "stream",
     "text": [
      "finishing processing \\\\10.245.74.158\\Chromatin_NAS_8\\Exported_data\\20220419-Export\\Decoded_Fov-199.hdf5\n",
      "189877 is kept out of 189877\n"
     ]
    },
    {
     "name": "stderr",
     "output_type": "stream",
     "text": [
      "\r\n",
      "112it [05:36,  3.09s/it]"
     ]
    },
    {
     "name": "stdout",
     "output_type": "stream",
     "text": [
      "finishing processing \\\\10.245.74.158\\Chromatin_NAS_8\\Exported_data\\20220419-Export\\Decoded_Fov-2.hdf5\n",
      "431576 is kept out of 431576\n"
     ]
    },
    {
     "name": "stderr",
     "output_type": "stream",
     "text": [
      "\r\n",
      "113it [05:40,  3.23s/it]"
     ]
    },
    {
     "name": "stdout",
     "output_type": "stream",
     "text": [
      "finishing processing \\\\10.245.74.158\\Chromatin_NAS_8\\Exported_data\\20220419-Export\\Decoded_Fov-20.hdf5\n",
      "265529 is kept out of 265529\n"
     ]
    },
    {
     "name": "stderr",
     "output_type": "stream",
     "text": [
      "\r\n",
      "114it [05:44,  3.34s/it]"
     ]
    },
    {
     "name": "stdout",
     "output_type": "stream",
     "text": [
      "finishing processing \\\\10.245.74.158\\Chromatin_NAS_8\\Exported_data\\20220419-Export\\Decoded_Fov-200.hdf5\n",
      "294347 is kept out of 294347\n"
     ]
    },
    {
     "name": "stderr",
     "output_type": "stream",
     "text": [
      "\r\n",
      "115it [05:48,  3.72s/it]"
     ]
    },
    {
     "name": "stdout",
     "output_type": "stream",
     "text": [
      "finishing processing \\\\10.245.74.158\\Chromatin_NAS_8\\Exported_data\\20220419-Export\\Decoded_Fov-201.hdf5\n",
      "325547 is kept out of 325547\n"
     ]
    },
    {
     "name": "stderr",
     "output_type": "stream",
     "text": [
      "\r\n",
      "116it [05:51,  3.48s/it]"
     ]
    },
    {
     "name": "stdout",
     "output_type": "stream",
     "text": [
      "finishing processing \\\\10.245.74.158\\Chromatin_NAS_8\\Exported_data\\20220419-Export\\Decoded_Fov-202.hdf5\n",
      "279391 is kept out of 279391\n"
     ]
    },
    {
     "name": "stderr",
     "output_type": "stream",
     "text": [
      "\r\n",
      "117it [05:56,  3.81s/it]"
     ]
    },
    {
     "name": "stdout",
     "output_type": "stream",
     "text": [
      "finishing processing \\\\10.245.74.158\\Chromatin_NAS_8\\Exported_data\\20220419-Export\\Decoded_Fov-203.hdf5\n",
      "358403 is kept out of 358403\n"
     ]
    },
    {
     "name": "stderr",
     "output_type": "stream",
     "text": [
      "\r\n",
      "118it [06:00,  3.98s/it]"
     ]
    },
    {
     "name": "stdout",
     "output_type": "stream",
     "text": [
      "finishing processing \\\\10.245.74.158\\Chromatin_NAS_8\\Exported_data\\20220419-Export\\Decoded_Fov-204.hdf5\n",
      "381813 is kept out of 381813\n"
     ]
    },
    {
     "name": "stderr",
     "output_type": "stream",
     "text": [
      "\r\n",
      "119it [06:04,  3.92s/it]"
     ]
    },
    {
     "name": "stdout",
     "output_type": "stream",
     "text": [
      "finishing processing \\\\10.245.74.158\\Chromatin_NAS_8\\Exported_data\\20220419-Export\\Decoded_Fov-205.hdf5\n",
      "434576 is kept out of 434576\n"
     ]
    },
    {
     "name": "stderr",
     "output_type": "stream",
     "text": [
      "\r\n",
      "120it [06:07,  3.82s/it]"
     ]
    },
    {
     "name": "stdout",
     "output_type": "stream",
     "text": [
      "finishing processing \\\\10.245.74.158\\Chromatin_NAS_8\\Exported_data\\20220419-Export\\Decoded_Fov-206.hdf5\n",
      "377390 is kept out of 377390\n"
     ]
    },
    {
     "name": "stderr",
     "output_type": "stream",
     "text": [
      "\r\n",
      "121it [06:11,  3.79s/it]"
     ]
    },
    {
     "name": "stdout",
     "output_type": "stream",
     "text": [
      "finishing processing \\\\10.245.74.158\\Chromatin_NAS_8\\Exported_data\\20220419-Export\\Decoded_Fov-207.hdf5\n",
      "304297 is kept out of 304297\n"
     ]
    },
    {
     "name": "stderr",
     "output_type": "stream",
     "text": [
      "\r\n",
      "122it [06:15,  3.65s/it]"
     ]
    },
    {
     "name": "stdout",
     "output_type": "stream",
     "text": [
      "finishing processing \\\\10.245.74.158\\Chromatin_NAS_8\\Exported_data\\20220419-Export\\Decoded_Fov-208.hdf5\n",
      "307052 is kept out of 307052\n"
     ]
    },
    {
     "name": "stderr",
     "output_type": "stream",
     "text": [
      "\r\n",
      "123it [06:18,  3.61s/it]"
     ]
    },
    {
     "name": "stdout",
     "output_type": "stream",
     "text": [
      "finishing processing \\\\10.245.74.158\\Chromatin_NAS_8\\Exported_data\\20220419-Export\\Decoded_Fov-209.hdf5\n",
      "316662 is kept out of 316662\n"
     ]
    },
    {
     "name": "stderr",
     "output_type": "stream",
     "text": [
      "\r\n",
      "124it [06:22,  3.60s/it]"
     ]
    },
    {
     "name": "stdout",
     "output_type": "stream",
     "text": [
      "finishing processing \\\\10.245.74.158\\Chromatin_NAS_8\\Exported_data\\20220419-Export\\Decoded_Fov-21.hdf5\n",
      "283254 is kept out of 283254\n"
     ]
    },
    {
     "name": "stderr",
     "output_type": "stream",
     "text": [
      "\r\n",
      "125it [06:25,  3.67s/it]"
     ]
    },
    {
     "name": "stdout",
     "output_type": "stream",
     "text": [
      "finishing processing \\\\10.245.74.158\\Chromatin_NAS_8\\Exported_data\\20220419-Export\\Decoded_Fov-210.hdf5\n",
      "311254 is kept out of 311254\n"
     ]
    },
    {
     "name": "stderr",
     "output_type": "stream",
     "text": [
      "\r\n",
      "126it [06:29,  3.76s/it]"
     ]
    },
    {
     "name": "stdout",
     "output_type": "stream",
     "text": [
      "finishing processing \\\\10.245.74.158\\Chromatin_NAS_8\\Exported_data\\20220419-Export\\Decoded_Fov-211.hdf5\n",
      "368639 is kept out of 368639\n"
     ]
    },
    {
     "name": "stderr",
     "output_type": "stream",
     "text": [
      "\r\n",
      "127it [06:33,  3.57s/it]"
     ]
    },
    {
     "name": "stdout",
     "output_type": "stream",
     "text": [
      "finishing processing \\\\10.245.74.158\\Chromatin_NAS_8\\Exported_data\\20220419-Export\\Decoded_Fov-212.hdf5\n",
      "325649 is kept out of 325649\n"
     ]
    },
    {
     "name": "stderr",
     "output_type": "stream",
     "text": [
      "\r\n",
      "128it [06:37,  3.73s/it]"
     ]
    },
    {
     "name": "stdout",
     "output_type": "stream",
     "text": [
      "finishing processing \\\\10.245.74.158\\Chromatin_NAS_8\\Exported_data\\20220419-Export\\Decoded_Fov-213.hdf5\n",
      "389440 is kept out of 389440\n"
     ]
    },
    {
     "name": "stderr",
     "output_type": "stream",
     "text": [
      "\r\n",
      "129it [06:40,  3.62s/it]"
     ]
    },
    {
     "name": "stdout",
     "output_type": "stream",
     "text": [
      "finishing processing \\\\10.245.74.158\\Chromatin_NAS_8\\Exported_data\\20220419-Export\\Decoded_Fov-214.hdf5\n",
      "348342 is kept out of 348342\n"
     ]
    },
    {
     "name": "stderr",
     "output_type": "stream",
     "text": [
      "\r\n",
      "130it [06:44,  3.66s/it]"
     ]
    },
    {
     "name": "stdout",
     "output_type": "stream",
     "text": [
      "finishing processing \\\\10.245.74.158\\Chromatin_NAS_8\\Exported_data\\20220419-Export\\Decoded_Fov-215.hdf5\n",
      "354616 is kept out of 354616\n"
     ]
    },
    {
     "name": "stderr",
     "output_type": "stream",
     "text": [
      "\r\n",
      "131it [06:45,  2.81s/it]"
     ]
    },
    {
     "name": "stdout",
     "output_type": "stream",
     "text": [
      "finishing processing \\\\10.245.74.158\\Chromatin_NAS_8\\Exported_data\\20220419-Export\\Decoded_Fov-216.hdf5\n",
      "53976 is kept out of 53976\n"
     ]
    },
    {
     "name": "stderr",
     "output_type": "stream",
     "text": [
      "\r\n",
      "132it [06:47,  2.77s/it]"
     ]
    },
    {
     "name": "stdout",
     "output_type": "stream",
     "text": [
      "finishing processing \\\\10.245.74.158\\Chromatin_NAS_8\\Exported_data\\20220419-Export\\Decoded_Fov-22.hdf5\n",
      "246498 is kept out of 246498\n"
     ]
    },
    {
     "name": "stderr",
     "output_type": "stream",
     "text": [
      "\r\n",
      "133it [06:51,  3.17s/it]"
     ]
    },
    {
     "name": "stdout",
     "output_type": "stream",
     "text": [
      "finishing processing \\\\10.245.74.158\\Chromatin_NAS_8\\Exported_data\\20220419-Export\\Decoded_Fov-23.hdf5\n",
      "380713 is kept out of 380713\n"
     ]
    },
    {
     "name": "stderr",
     "output_type": "stream",
     "text": [
      "\r\n",
      "134it [06:54,  3.11s/it]"
     ]
    },
    {
     "name": "stdout",
     "output_type": "stream",
     "text": [
      "finishing processing \\\\10.245.74.158\\Chromatin_NAS_8\\Exported_data\\20220419-Export\\Decoded_Fov-24.hdf5\n",
      "237833 is kept out of 237833\n"
     ]
    },
    {
     "name": "stderr",
     "output_type": "stream",
     "text": [
      "\r\n",
      "135it [06:57,  2.98s/it]"
     ]
    },
    {
     "name": "stdout",
     "output_type": "stream",
     "text": [
      "finishing processing \\\\10.245.74.158\\Chromatin_NAS_8\\Exported_data\\20220419-Export\\Decoded_Fov-25.hdf5\n",
      "213355 is kept out of 213355\n"
     ]
    },
    {
     "name": "stderr",
     "output_type": "stream",
     "text": [
      "\r\n",
      "136it [07:00,  3.05s/it]"
     ]
    },
    {
     "name": "stdout",
     "output_type": "stream",
     "text": [
      "finishing processing \\\\10.245.74.158\\Chromatin_NAS_8\\Exported_data\\20220419-Export\\Decoded_Fov-26.hdf5\n",
      "257259 is kept out of 257259\n"
     ]
    },
    {
     "name": "stderr",
     "output_type": "stream",
     "text": [
      "\r\n",
      "137it [07:03,  3.00s/it]"
     ]
    },
    {
     "name": "stdout",
     "output_type": "stream",
     "text": [
      "finishing processing \\\\10.245.74.158\\Chromatin_NAS_8\\Exported_data\\20220419-Export\\Decoded_Fov-27.hdf5\n",
      "250644 is kept out of 250644\n"
     ]
    },
    {
     "name": "stderr",
     "output_type": "stream",
     "text": [
      "\r\n",
      "138it [07:06,  2.85s/it]"
     ]
    },
    {
     "name": "stdout",
     "output_type": "stream",
     "text": [
      "finishing processing \\\\10.245.74.158\\Chromatin_NAS_8\\Exported_data\\20220419-Export\\Decoded_Fov-28.hdf5\n",
      "204179 is kept out of 204179\n"
     ]
    },
    {
     "name": "stderr",
     "output_type": "stream",
     "text": [
      "\r\n",
      "139it [07:09,  2.99s/it]"
     ]
    },
    {
     "name": "stdout",
     "output_type": "stream",
     "text": [
      "finishing processing \\\\10.245.74.158\\Chromatin_NAS_8\\Exported_data\\20220419-Export\\Decoded_Fov-29.hdf5\n",
      "233715 is kept out of 233715\n"
     ]
    },
    {
     "name": "stderr",
     "output_type": "stream",
     "text": [
      "\r\n",
      "140it [07:13,  3.20s/it]"
     ]
    },
    {
     "name": "stdout",
     "output_type": "stream",
     "text": [
      "finishing processing \\\\10.245.74.158\\Chromatin_NAS_8\\Exported_data\\20220419-Export\\Decoded_Fov-3.hdf5\n",
      "426204 is kept out of 426204\n"
     ]
    },
    {
     "name": "stderr",
     "output_type": "stream",
     "text": [
      "\r\n",
      "141it [07:16,  3.19s/it]"
     ]
    },
    {
     "name": "stdout",
     "output_type": "stream",
     "text": [
      "finishing processing \\\\10.245.74.158\\Chromatin_NAS_8\\Exported_data\\20220419-Export\\Decoded_Fov-30.hdf5\n",
      "261423 is kept out of 261423\n"
     ]
    },
    {
     "name": "stderr",
     "output_type": "stream",
     "text": [
      "\r\n",
      "142it [07:18,  3.03s/it]"
     ]
    },
    {
     "name": "stdout",
     "output_type": "stream",
     "text": [
      "finishing processing \\\\10.245.74.158\\Chromatin_NAS_8\\Exported_data\\20220419-Export\\Decoded_Fov-31.hdf5\n",
      "244973 is kept out of 244973\n"
     ]
    },
    {
     "name": "stderr",
     "output_type": "stream",
     "text": [
      "\r\n",
      "143it [07:21,  3.04s/it]"
     ]
    },
    {
     "name": "stdout",
     "output_type": "stream",
     "text": [
      "finishing processing \\\\10.245.74.158\\Chromatin_NAS_8\\Exported_data\\20220419-Export\\Decoded_Fov-32.hdf5\n",
      "229699 is kept out of 229699\n"
     ]
    },
    {
     "name": "stderr",
     "output_type": "stream",
     "text": [
      "\r\n",
      "144it [07:25,  3.15s/it]"
     ]
    },
    {
     "name": "stdout",
     "output_type": "stream",
     "text": [
      "finishing processing \\\\10.245.74.158\\Chromatin_NAS_8\\Exported_data\\20220419-Export\\Decoded_Fov-33.hdf5\n",
      "271439 is kept out of 271439\n"
     ]
    },
    {
     "name": "stderr",
     "output_type": "stream",
     "text": [
      "\r\n",
      "145it [07:28,  3.08s/it]"
     ]
    },
    {
     "name": "stdout",
     "output_type": "stream",
     "text": [
      "finishing processing \\\\10.245.74.158\\Chromatin_NAS_8\\Exported_data\\20220419-Export\\Decoded_Fov-34.hdf5\n",
      "227787 is kept out of 227787\n"
     ]
    },
    {
     "name": "stderr",
     "output_type": "stream",
     "text": [
      "\r\n",
      "146it [07:31,  3.04s/it]"
     ]
    },
    {
     "name": "stdout",
     "output_type": "stream",
     "text": [
      "finishing processing \\\\10.245.74.158\\Chromatin_NAS_8\\Exported_data\\20220419-Export\\Decoded_Fov-35.hdf5\n",
      "282082 is kept out of 282082\n"
     ]
    },
    {
     "name": "stderr",
     "output_type": "stream",
     "text": [
      "\r\n",
      "147it [07:35,  3.28s/it]"
     ]
    },
    {
     "name": "stdout",
     "output_type": "stream",
     "text": [
      "finishing processing \\\\10.245.74.158\\Chromatin_NAS_8\\Exported_data\\20220419-Export\\Decoded_Fov-36.hdf5\n",
      "374809 is kept out of 374809\n"
     ]
    },
    {
     "name": "stderr",
     "output_type": "stream",
     "text": [
      "\r\n",
      "148it [07:39,  3.54s/it]"
     ]
    },
    {
     "name": "stdout",
     "output_type": "stream",
     "text": [
      "finishing processing \\\\10.245.74.158\\Chromatin_NAS_8\\Exported_data\\20220419-Export\\Decoded_Fov-37.hdf5\n",
      "381668 is kept out of 381668\n"
     ]
    },
    {
     "name": "stderr",
     "output_type": "stream",
     "text": [
      "\r\n",
      "149it [07:42,  3.52s/it]"
     ]
    },
    {
     "name": "stdout",
     "output_type": "stream",
     "text": [
      "finishing processing \\\\10.245.74.158\\Chromatin_NAS_8\\Exported_data\\20220419-Export\\Decoded_Fov-38.hdf5\n",
      "276746 is kept out of 276746\n"
     ]
    },
    {
     "name": "stderr",
     "output_type": "stream",
     "text": [
      "\r\n",
      "150it [07:45,  3.38s/it]"
     ]
    },
    {
     "name": "stdout",
     "output_type": "stream",
     "text": [
      "finishing processing \\\\10.245.74.158\\Chromatin_NAS_8\\Exported_data\\20220419-Export\\Decoded_Fov-39.hdf5\n",
      "327944 is kept out of 327944\n"
     ]
    },
    {
     "name": "stderr",
     "output_type": "stream",
     "text": [
      "\r\n",
      "151it [07:49,  3.51s/it]"
     ]
    },
    {
     "name": "stdout",
     "output_type": "stream",
     "text": [
      "finishing processing \\\\10.245.74.158\\Chromatin_NAS_8\\Exported_data\\20220419-Export\\Decoded_Fov-4.hdf5\n",
      "392341 is kept out of 392341\n"
     ]
    },
    {
     "name": "stderr",
     "output_type": "stream",
     "text": [
      "\r\n",
      "152it [07:52,  3.27s/it]"
     ]
    },
    {
     "name": "stdout",
     "output_type": "stream",
     "text": [
      "finishing processing \\\\10.245.74.158\\Chromatin_NAS_8\\Exported_data\\20220419-Export\\Decoded_Fov-40.hdf5\n",
      "252871 is kept out of 252871\n"
     ]
    },
    {
     "name": "stderr",
     "output_type": "stream",
     "text": [
      "\r\n",
      "153it [07:55,  3.28s/it]"
     ]
    },
    {
     "name": "stdout",
     "output_type": "stream",
     "text": [
      "finishing processing \\\\10.245.74.158\\Chromatin_NAS_8\\Exported_data\\20220419-Export\\Decoded_Fov-41.hdf5\n",
      "253489 is kept out of 253489\n"
     ]
    },
    {
     "name": "stderr",
     "output_type": "stream",
     "text": [
      "\r\n",
      "154it [07:58,  3.20s/it]"
     ]
    },
    {
     "name": "stdout",
     "output_type": "stream",
     "text": [
      "finishing processing \\\\10.245.74.158\\Chromatin_NAS_8\\Exported_data\\20220419-Export\\Decoded_Fov-42.hdf5\n",
      "262340 is kept out of 262340\n"
     ]
    },
    {
     "name": "stderr",
     "output_type": "stream",
     "text": [
      "\r\n",
      "155it [08:00,  2.75s/it]"
     ]
    },
    {
     "name": "stdout",
     "output_type": "stream",
     "text": [
      "finishing processing \\\\10.245.74.158\\Chromatin_NAS_8\\Exported_data\\20220419-Export\\Decoded_Fov-43.hdf5\n",
      "109538 is kept out of 109538\n"
     ]
    },
    {
     "name": "stderr",
     "output_type": "stream",
     "text": [
      "\r\n",
      "156it [08:02,  2.71s/it]"
     ]
    },
    {
     "name": "stdout",
     "output_type": "stream",
     "text": [
      "finishing processing \\\\10.245.74.158\\Chromatin_NAS_8\\Exported_data\\20220419-Export\\Decoded_Fov-44.hdf5\n",
      "199958 is kept out of 199958\n"
     ]
    },
    {
     "name": "stderr",
     "output_type": "stream",
     "text": [
      "\r\n",
      "157it [08:05,  2.56s/it]"
     ]
    },
    {
     "name": "stdout",
     "output_type": "stream",
     "text": [
      "finishing processing \\\\10.245.74.158\\Chromatin_NAS_8\\Exported_data\\20220419-Export\\Decoded_Fov-45.hdf5\n",
      "245934 is kept out of 245934\n"
     ]
    },
    {
     "name": "stderr",
     "output_type": "stream",
     "text": [
      "\r\n",
      "158it [08:07,  2.64s/it]"
     ]
    },
    {
     "name": "stdout",
     "output_type": "stream",
     "text": [
      "finishing processing \\\\10.245.74.158\\Chromatin_NAS_8\\Exported_data\\20220419-Export\\Decoded_Fov-46.hdf5\n",
      "270235 is kept out of 270235\n"
     ]
    },
    {
     "name": "stderr",
     "output_type": "stream",
     "text": [
      "\r\n",
      "159it [08:10,  2.64s/it]"
     ]
    },
    {
     "name": "stdout",
     "output_type": "stream",
     "text": [
      "finishing processing \\\\10.245.74.158\\Chromatin_NAS_8\\Exported_data\\20220419-Export\\Decoded_Fov-47.hdf5\n",
      "197538 is kept out of 197538\n"
     ]
    },
    {
     "name": "stderr",
     "output_type": "stream",
     "text": [
      "\r\n",
      "160it [08:13,  2.68s/it]"
     ]
    },
    {
     "name": "stdout",
     "output_type": "stream",
     "text": [
      "finishing processing \\\\10.245.74.158\\Chromatin_NAS_8\\Exported_data\\20220419-Export\\Decoded_Fov-48.hdf5\n",
      "274538 is kept out of 274538\n"
     ]
    },
    {
     "name": "stderr",
     "output_type": "stream",
     "text": [
      "\r\n",
      "161it [08:15,  2.50s/it]"
     ]
    },
    {
     "name": "stdout",
     "output_type": "stream",
     "text": [
      "finishing processing \\\\10.245.74.158\\Chromatin_NAS_8\\Exported_data\\20220419-Export\\Decoded_Fov-49.hdf5\n",
      "244033 is kept out of 244033\n"
     ]
    },
    {
     "name": "stderr",
     "output_type": "stream",
     "text": [
      "\r\n",
      "162it [08:18,  2.59s/it]"
     ]
    },
    {
     "name": "stdout",
     "output_type": "stream",
     "text": [
      "finishing processing \\\\10.245.74.158\\Chromatin_NAS_8\\Exported_data\\20220419-Export\\Decoded_Fov-5.hdf5\n",
      "264268 is kept out of 264268\n"
     ]
    },
    {
     "name": "stderr",
     "output_type": "stream",
     "text": [
      "\r\n",
      "163it [08:20,  2.34s/it]"
     ]
    },
    {
     "name": "stdout",
     "output_type": "stream",
     "text": [
      "finishing processing \\\\10.245.74.158\\Chromatin_NAS_8\\Exported_data\\20220419-Export\\Decoded_Fov-50.hdf5\n",
      "163931 is kept out of 163931\n"
     ]
    },
    {
     "name": "stderr",
     "output_type": "stream",
     "text": [
      "\r\n",
      "164it [08:21,  1.96s/it]"
     ]
    },
    {
     "name": "stdout",
     "output_type": "stream",
     "text": [
      "finishing processing \\\\10.245.74.158\\Chromatin_NAS_8\\Exported_data\\20220419-Export\\Decoded_Fov-51.hdf5\n",
      "110283 is kept out of 110283\n"
     ]
    },
    {
     "name": "stderr",
     "output_type": "stream",
     "text": [
      "\r\n",
      "165it [08:22,  1.70s/it]"
     ]
    },
    {
     "name": "stdout",
     "output_type": "stream",
     "text": [
      "finishing processing \\\\10.245.74.158\\Chromatin_NAS_8\\Exported_data\\20220419-Export\\Decoded_Fov-52.hdf5\n",
      "113722 is kept out of 113722\n"
     ]
    },
    {
     "name": "stderr",
     "output_type": "stream",
     "text": [
      "\r\n",
      "166it [08:22,  1.30s/it]"
     ]
    },
    {
     "name": "stdout",
     "output_type": "stream",
     "text": [
      "finishing processing \\\\10.245.74.158\\Chromatin_NAS_8\\Exported_data\\20220419-Export\\Decoded_Fov-53.hdf5\n",
      "30666 is kept out of 30666\n"
     ]
    },
    {
     "name": "stderr",
     "output_type": "stream",
     "text": [
      "\r\n",
      "167it [08:26,  2.03s/it]"
     ]
    },
    {
     "name": "stdout",
     "output_type": "stream",
     "text": [
      "finishing processing \\\\10.245.74.158\\Chromatin_NAS_8\\Exported_data\\20220419-Export\\Decoded_Fov-54.hdf5\n",
      "307419 is kept out of 307419\n"
     ]
    },
    {
     "name": "stderr",
     "output_type": "stream",
     "text": [
      "\r\n",
      "168it [08:30,  2.57s/it]"
     ]
    },
    {
     "name": "stdout",
     "output_type": "stream",
     "text": [
      "finishing processing \\\\10.245.74.158\\Chromatin_NAS_8\\Exported_data\\20220419-Export\\Decoded_Fov-55.hdf5\n",
      "342495 is kept out of 342495\n"
     ]
    },
    {
     "name": "stderr",
     "output_type": "stream",
     "text": [
      "\r\n",
      "169it [08:33,  2.67s/it]"
     ]
    },
    {
     "name": "stdout",
     "output_type": "stream",
     "text": [
      "finishing processing \\\\10.245.74.158\\Chromatin_NAS_8\\Exported_data\\20220419-Export\\Decoded_Fov-56.hdf5\n",
      "263978 is kept out of 263978\n"
     ]
    },
    {
     "name": "stderr",
     "output_type": "stream",
     "text": [
      "\r\n",
      "170it [08:35,  2.74s/it]"
     ]
    },
    {
     "name": "stdout",
     "output_type": "stream",
     "text": [
      "finishing processing \\\\10.245.74.158\\Chromatin_NAS_8\\Exported_data\\20220419-Export\\Decoded_Fov-57.hdf5\n",
      "318542 is kept out of 318542\n"
     ]
    },
    {
     "name": "stderr",
     "output_type": "stream",
     "text": [
      "\r\n",
      "171it [08:40,  3.23s/it]"
     ]
    },
    {
     "name": "stdout",
     "output_type": "stream",
     "text": [
      "finishing processing \\\\10.245.74.158\\Chromatin_NAS_8\\Exported_data\\20220419-Export\\Decoded_Fov-58.hdf5\n",
      "383411 is kept out of 383411\n"
     ]
    },
    {
     "name": "stderr",
     "output_type": "stream",
     "text": [
      "\r\n",
      "172it [08:43,  3.24s/it]"
     ]
    },
    {
     "name": "stdout",
     "output_type": "stream",
     "text": [
      "finishing processing \\\\10.245.74.158\\Chromatin_NAS_8\\Exported_data\\20220419-Export\\Decoded_Fov-59.hdf5\n",
      "346667 is kept out of 346667\n"
     ]
    },
    {
     "name": "stderr",
     "output_type": "stream",
     "text": [
      "\r\n",
      "173it [08:48,  3.68s/it]"
     ]
    },
    {
     "name": "stdout",
     "output_type": "stream",
     "text": [
      "finishing processing \\\\10.245.74.158\\Chromatin_NAS_8\\Exported_data\\20220419-Export\\Decoded_Fov-6.hdf5\n",
      "362397 is kept out of 362397\n"
     ]
    },
    {
     "name": "stderr",
     "output_type": "stream",
     "text": [
      "\r\n",
      "174it [08:52,  3.75s/it]"
     ]
    },
    {
     "name": "stdout",
     "output_type": "stream",
     "text": [
      "finishing processing \\\\10.245.74.158\\Chromatin_NAS_8\\Exported_data\\20220419-Export\\Decoded_Fov-60.hdf5\n",
      "373039 is kept out of 373039\n"
     ]
    },
    {
     "name": "stderr",
     "output_type": "stream",
     "text": [
      "\r\n",
      "175it [08:55,  3.59s/it]"
     ]
    },
    {
     "name": "stdout",
     "output_type": "stream",
     "text": [
      "finishing processing \\\\10.245.74.158\\Chromatin_NAS_8\\Exported_data\\20220419-Export\\Decoded_Fov-61.hdf5\n",
      "354348 is kept out of 354348\n"
     ]
    },
    {
     "name": "stderr",
     "output_type": "stream",
     "text": [
      "\r\n",
      "176it [09:00,  3.92s/it]"
     ]
    },
    {
     "name": "stdout",
     "output_type": "stream",
     "text": [
      "finishing processing \\\\10.245.74.158\\Chromatin_NAS_8\\Exported_data\\20220419-Export\\Decoded_Fov-62.hdf5\n",
      "397056 is kept out of 397056\n"
     ]
    },
    {
     "name": "stderr",
     "output_type": "stream",
     "text": [
      "\r\n",
      "177it [09:03,  3.64s/it]"
     ]
    },
    {
     "name": "stdout",
     "output_type": "stream",
     "text": [
      "finishing processing \\\\10.245.74.158\\Chromatin_NAS_8\\Exported_data\\20220419-Export\\Decoded_Fov-63.hdf5\n",
      "281030 is kept out of 281030\n"
     ]
    },
    {
     "name": "stderr",
     "output_type": "stream",
     "text": [
      "\r\n",
      "178it [09:06,  3.69s/it]"
     ]
    },
    {
     "name": "stdout",
     "output_type": "stream",
     "text": [
      "finishing processing \\\\10.245.74.158\\Chromatin_NAS_8\\Exported_data\\20220419-Export\\Decoded_Fov-64.hdf5\n",
      "287484 is kept out of 287484\n"
     ]
    },
    {
     "name": "stderr",
     "output_type": "stream",
     "text": [
      "\r\n",
      "179it [09:09,  3.38s/it]"
     ]
    },
    {
     "name": "stdout",
     "output_type": "stream",
     "text": [
      "finishing processing \\\\10.245.74.158\\Chromatin_NAS_8\\Exported_data\\20220419-Export\\Decoded_Fov-65.hdf5\n",
      "250715 is kept out of 250715\n"
     ]
    },
    {
     "name": "stderr",
     "output_type": "stream",
     "text": [
      "\r\n",
      "180it [09:12,  3.24s/it]"
     ]
    },
    {
     "name": "stdout",
     "output_type": "stream",
     "text": [
      "finishing processing \\\\10.245.74.158\\Chromatin_NAS_8\\Exported_data\\20220419-Export\\Decoded_Fov-66.hdf5\n",
      "245828 is kept out of 245828\n"
     ]
    },
    {
     "name": "stderr",
     "output_type": "stream",
     "text": [
      "\r\n",
      "181it [09:14,  2.94s/it]"
     ]
    },
    {
     "name": "stdout",
     "output_type": "stream",
     "text": [
      "finishing processing \\\\10.245.74.158\\Chromatin_NAS_8\\Exported_data\\20220419-Export\\Decoded_Fov-67.hdf5\n",
      "236321 is kept out of 236321\n"
     ]
    },
    {
     "name": "stderr",
     "output_type": "stream",
     "text": [
      "\r\n",
      "182it [09:17,  2.94s/it]"
     ]
    },
    {
     "name": "stdout",
     "output_type": "stream",
     "text": [
      "finishing processing \\\\10.245.74.158\\Chromatin_NAS_8\\Exported_data\\20220419-Export\\Decoded_Fov-68.hdf5\n",
      "251176 is kept out of 251176\n"
     ]
    },
    {
     "name": "stderr",
     "output_type": "stream",
     "text": [
      "\r\n",
      "183it [09:21,  3.32s/it]"
     ]
    },
    {
     "name": "stdout",
     "output_type": "stream",
     "text": [
      "finishing processing \\\\10.245.74.158\\Chromatin_NAS_8\\Exported_data\\20220419-Export\\Decoded_Fov-69.hdf5\n",
      "331288 is kept out of 331288\n"
     ]
    },
    {
     "name": "stderr",
     "output_type": "stream",
     "text": [
      "\r\n",
      "184it [09:25,  3.40s/it]"
     ]
    },
    {
     "name": "stdout",
     "output_type": "stream",
     "text": [
      "finishing processing \\\\10.245.74.158\\Chromatin_NAS_8\\Exported_data\\20220419-Export\\Decoded_Fov-7.hdf5\n",
      "299156 is kept out of 299156\n"
     ]
    },
    {
     "name": "stderr",
     "output_type": "stream",
     "text": [
      "\r\n",
      "185it [09:30,  3.80s/it]"
     ]
    },
    {
     "name": "stdout",
     "output_type": "stream",
     "text": [
      "finishing processing \\\\10.245.74.158\\Chromatin_NAS_8\\Exported_data\\20220419-Export\\Decoded_Fov-70.hdf5\n",
      "336614 is kept out of 336614\n"
     ]
    },
    {
     "name": "stderr",
     "output_type": "stream",
     "text": [
      "\r\n",
      "186it [09:34,  3.88s/it]"
     ]
    },
    {
     "name": "stdout",
     "output_type": "stream",
     "text": [
      "finishing processing \\\\10.245.74.158\\Chromatin_NAS_8\\Exported_data\\20220419-Export\\Decoded_Fov-71.hdf5\n",
      "301218 is kept out of 301218\n"
     ]
    },
    {
     "name": "stderr",
     "output_type": "stream",
     "text": [
      "\r\n",
      "187it [09:39,  4.18s/it]"
     ]
    },
    {
     "name": "stdout",
     "output_type": "stream",
     "text": [
      "finishing processing \\\\10.245.74.158\\Chromatin_NAS_8\\Exported_data\\20220419-Export\\Decoded_Fov-72.hdf5\n",
      "392902 is kept out of 392902\n"
     ]
    },
    {
     "name": "stderr",
     "output_type": "stream",
     "text": [
      "\r\n",
      "188it [09:42,  3.91s/it]"
     ]
    },
    {
     "name": "stdout",
     "output_type": "stream",
     "text": [
      "finishing processing \\\\10.245.74.158\\Chromatin_NAS_8\\Exported_data\\20220419-Export\\Decoded_Fov-73.hdf5\n",
      "303152 is kept out of 303152\n"
     ]
    },
    {
     "name": "stderr",
     "output_type": "stream",
     "text": [
      "\r\n",
      "189it [09:46,  4.06s/it]"
     ]
    },
    {
     "name": "stdout",
     "output_type": "stream",
     "text": [
      "finishing processing \\\\10.245.74.158\\Chromatin_NAS_8\\Exported_data\\20220419-Export\\Decoded_Fov-74.hdf5\n",
      "282261 is kept out of 282261\n"
     ]
    },
    {
     "name": "stderr",
     "output_type": "stream",
     "text": [
      "\r\n",
      "190it [09:49,  3.52s/it]"
     ]
    },
    {
     "name": "stdout",
     "output_type": "stream",
     "text": [
      "finishing processing \\\\10.245.74.158\\Chromatin_NAS_8\\Exported_data\\20220419-Export\\Decoded_Fov-75.hdf5\n",
      "210437 is kept out of 210437\n"
     ]
    },
    {
     "name": "stderr",
     "output_type": "stream",
     "text": [
      "\r\n",
      "191it [09:51,  3.08s/it]"
     ]
    },
    {
     "name": "stdout",
     "output_type": "stream",
     "text": [
      "finishing processing \\\\10.245.74.158\\Chromatin_NAS_8\\Exported_data\\20220419-Export\\Decoded_Fov-76.hdf5\n",
      "193578 is kept out of 193578\n"
     ]
    },
    {
     "name": "stderr",
     "output_type": "stream",
     "text": [
      "\r\n",
      "192it [09:53,  3.02s/it]"
     ]
    },
    {
     "name": "stdout",
     "output_type": "stream",
     "text": [
      "finishing processing \\\\10.245.74.158\\Chromatin_NAS_8\\Exported_data\\20220419-Export\\Decoded_Fov-77.hdf5\n",
      "228201 is kept out of 228201\n"
     ]
    },
    {
     "name": "stderr",
     "output_type": "stream",
     "text": [
      "\r\n",
      "193it [09:56,  2.84s/it]"
     ]
    },
    {
     "name": "stdout",
     "output_type": "stream",
     "text": [
      "finishing processing \\\\10.245.74.158\\Chromatin_NAS_8\\Exported_data\\20220419-Export\\Decoded_Fov-78.hdf5\n",
      "236898 is kept out of 236898\n"
     ]
    },
    {
     "name": "stderr",
     "output_type": "stream",
     "text": [
      "\r\n",
      "194it [09:59,  2.86s/it]"
     ]
    },
    {
     "name": "stdout",
     "output_type": "stream",
     "text": [
      "finishing processing \\\\10.245.74.158\\Chromatin_NAS_8\\Exported_data\\20220419-Export\\Decoded_Fov-79.hdf5\n",
      "312864 is kept out of 312864\n"
     ]
    },
    {
     "name": "stderr",
     "output_type": "stream",
     "text": [
      "\r\n",
      "195it [10:02,  3.11s/it]"
     ]
    },
    {
     "name": "stdout",
     "output_type": "stream",
     "text": [
      "finishing processing \\\\10.245.74.158\\Chromatin_NAS_8\\Exported_data\\20220419-Export\\Decoded_Fov-8.hdf5\n",
      "361040 is kept out of 361040\n"
     ]
    },
    {
     "name": "stderr",
     "output_type": "stream",
     "text": [
      "\r\n",
      "196it [10:05,  3.07s/it]"
     ]
    },
    {
     "name": "stdout",
     "output_type": "stream",
     "text": [
      "finishing processing \\\\10.245.74.158\\Chromatin_NAS_8\\Exported_data\\20220419-Export\\Decoded_Fov-80.hdf5\n",
      "273427 is kept out of 273427\n"
     ]
    },
    {
     "name": "stderr",
     "output_type": "stream",
     "text": [
      "\r\n",
      "197it [10:08,  2.91s/it]"
     ]
    },
    {
     "name": "stdout",
     "output_type": "stream",
     "text": [
      "finishing processing \\\\10.245.74.158\\Chromatin_NAS_8\\Exported_data\\20220419-Export\\Decoded_Fov-81.hdf5\n",
      "215110 is kept out of 215110\n"
     ]
    },
    {
     "name": "stderr",
     "output_type": "stream",
     "text": [
      "\r\n",
      "198it [10:10,  2.64s/it]"
     ]
    },
    {
     "name": "stdout",
     "output_type": "stream",
     "text": [
      "finishing processing \\\\10.245.74.158\\Chromatin_NAS_8\\Exported_data\\20220419-Export\\Decoded_Fov-82.hdf5\n",
      "196428 is kept out of 196428\n"
     ]
    },
    {
     "name": "stderr",
     "output_type": "stream",
     "text": [
      "\r\n",
      "199it [10:13,  2.89s/it]"
     ]
    },
    {
     "name": "stdout",
     "output_type": "stream",
     "text": [
      "finishing processing \\\\10.245.74.158\\Chromatin_NAS_8\\Exported_data\\20220419-Export\\Decoded_Fov-83.hdf5\n",
      "325955 is kept out of 325955\n"
     ]
    },
    {
     "name": "stderr",
     "output_type": "stream",
     "text": [
      "\r\n",
      "200it [10:17,  3.07s/it]"
     ]
    },
    {
     "name": "stdout",
     "output_type": "stream",
     "text": [
      "finishing processing \\\\10.245.74.158\\Chromatin_NAS_8\\Exported_data\\20220419-Export\\Decoded_Fov-84.hdf5\n",
      "264947 is kept out of 264947\n"
     ]
    },
    {
     "name": "stderr",
     "output_type": "stream",
     "text": [
      "\r\n",
      "201it [10:20,  3.00s/it]"
     ]
    },
    {
     "name": "stdout",
     "output_type": "stream",
     "text": [
      "finishing processing \\\\10.245.74.158\\Chromatin_NAS_8\\Exported_data\\20220419-Export\\Decoded_Fov-85.hdf5\n",
      "232545 is kept out of 232545\n"
     ]
    },
    {
     "name": "stderr",
     "output_type": "stream",
     "text": [
      "\r\n",
      "202it [10:23,  3.11s/it]"
     ]
    },
    {
     "name": "stdout",
     "output_type": "stream",
     "text": [
      "finishing processing \\\\10.245.74.158\\Chromatin_NAS_8\\Exported_data\\20220419-Export\\Decoded_Fov-86.hdf5\n",
      "264871 is kept out of 264871\n"
     ]
    },
    {
     "name": "stderr",
     "output_type": "stream",
     "text": [
      "\r\n",
      "203it [10:26,  3.05s/it]"
     ]
    },
    {
     "name": "stdout",
     "output_type": "stream",
     "text": [
      "finishing processing \\\\10.245.74.158\\Chromatin_NAS_8\\Exported_data\\20220419-Export\\Decoded_Fov-87.hdf5\n",
      "269611 is kept out of 269611\n"
     ]
    },
    {
     "name": "stderr",
     "output_type": "stream",
     "text": [
      "\r\n",
      "204it [10:29,  2.95s/it]"
     ]
    },
    {
     "name": "stdout",
     "output_type": "stream",
     "text": [
      "finishing processing \\\\10.245.74.158\\Chromatin_NAS_8\\Exported_data\\20220419-Export\\Decoded_Fov-88.hdf5\n",
      "278663 is kept out of 278663\n"
     ]
    },
    {
     "name": "stderr",
     "output_type": "stream",
     "text": [
      "\r\n",
      "205it [10:32,  3.16s/it]"
     ]
    },
    {
     "name": "stdout",
     "output_type": "stream",
     "text": [
      "finishing processing \\\\10.245.74.158\\Chromatin_NAS_8\\Exported_data\\20220419-Export\\Decoded_Fov-89.hdf5\n",
      "281701 is kept out of 281701\n"
     ]
    },
    {
     "name": "stderr",
     "output_type": "stream",
     "text": [
      "\r\n",
      "206it [10:36,  3.25s/it]"
     ]
    },
    {
     "name": "stdout",
     "output_type": "stream",
     "text": [
      "finishing processing \\\\10.245.74.158\\Chromatin_NAS_8\\Exported_data\\20220419-Export\\Decoded_Fov-9.hdf5\n",
      "234450 is kept out of 234450\n"
     ]
    },
    {
     "name": "stderr",
     "output_type": "stream",
     "text": [
      "\r\n",
      "207it [10:37,  2.49s/it]"
     ]
    },
    {
     "name": "stdout",
     "output_type": "stream",
     "text": [
      "finishing processing \\\\10.245.74.158\\Chromatin_NAS_8\\Exported_data\\20220419-Export\\Decoded_Fov-90.hdf5\n",
      "61295 is kept out of 61295\n"
     ]
    },
    {
     "name": "stderr",
     "output_type": "stream",
     "text": [
      "\r\n",
      "208it [10:38,  2.29s/it]"
     ]
    },
    {
     "name": "stdout",
     "output_type": "stream",
     "text": [
      "finishing processing \\\\10.245.74.158\\Chromatin_NAS_8\\Exported_data\\20220419-Export\\Decoded_Fov-91.hdf5\n",
      "175015 is kept out of 175015\n"
     ]
    },
    {
     "name": "stderr",
     "output_type": "stream",
     "text": [
      "\r\n",
      "209it [10:42,  2.57s/it]"
     ]
    },
    {
     "name": "stdout",
     "output_type": "stream",
     "text": [
      "finishing processing \\\\10.245.74.158\\Chromatin_NAS_8\\Exported_data\\20220419-Export\\Decoded_Fov-92.hdf5\n",
      "262151 is kept out of 262151\n"
     ]
    },
    {
     "name": "stderr",
     "output_type": "stream",
     "text": [
      "\r\n",
      "210it [10:44,  2.60s/it]"
     ]
    },
    {
     "name": "stdout",
     "output_type": "stream",
     "text": [
      "finishing processing \\\\10.245.74.158\\Chromatin_NAS_8\\Exported_data\\20220419-Export\\Decoded_Fov-93.hdf5\n",
      "258405 is kept out of 258405\n"
     ]
    },
    {
     "name": "stderr",
     "output_type": "stream",
     "text": [
      "\r\n",
      "211it [10:48,  2.80s/it]"
     ]
    },
    {
     "name": "stdout",
     "output_type": "stream",
     "text": [
      "finishing processing \\\\10.245.74.158\\Chromatin_NAS_8\\Exported_data\\20220419-Export\\Decoded_Fov-94.hdf5\n",
      "303821 is kept out of 303821\n"
     ]
    },
    {
     "name": "stderr",
     "output_type": "stream",
     "text": [
      "\r\n",
      "212it [10:51,  3.06s/it]"
     ]
    },
    {
     "name": "stdout",
     "output_type": "stream",
     "text": [
      "finishing processing \\\\10.245.74.158\\Chromatin_NAS_8\\Exported_data\\20220419-Export\\Decoded_Fov-95.hdf5\n",
      "214589 is kept out of 214589\n"
     ]
    },
    {
     "name": "stderr",
     "output_type": "stream",
     "text": [
      "\r\n",
      "213it [10:55,  3.20s/it]"
     ]
    },
    {
     "name": "stdout",
     "output_type": "stream",
     "text": [
      "finishing processing \\\\10.245.74.158\\Chromatin_NAS_8\\Exported_data\\20220419-Export\\Decoded_Fov-96.hdf5\n",
      "305825 is kept out of 305825\n"
     ]
    },
    {
     "name": "stderr",
     "output_type": "stream",
     "text": [
      "\r\n",
      "214it [10:58,  3.34s/it]"
     ]
    },
    {
     "name": "stdout",
     "output_type": "stream",
     "text": [
      "finishing processing \\\\10.245.74.158\\Chromatin_NAS_8\\Exported_data\\20220419-Export\\Decoded_Fov-97.hdf5\n",
      "266307 is kept out of 266307\n"
     ]
    },
    {
     "name": "stderr",
     "output_type": "stream",
     "text": [
      "\r\n",
      "215it [11:01,  3.24s/it]"
     ]
    },
    {
     "name": "stdout",
     "output_type": "stream",
     "text": [
      "finishing processing \\\\10.245.74.158\\Chromatin_NAS_8\\Exported_data\\20220419-Export\\Decoded_Fov-98.hdf5\n",
      "215562 is kept out of 215562\n"
     ]
    },
    {
     "name": "stderr",
     "output_type": "stream",
     "text": [
      "216it [11:05,  3.08s/it]"
     ]
    },
    {
     "name": "stdout",
     "output_type": "stream",
     "text": [
      "finishing processing \\\\10.245.74.158\\Chromatin_NAS_8\\Exported_data\\20220419-Export\\Decoded_Fov-99.hdf5\n",
      "226822 is kept out of 226822\n"
     ]
    },
    {
     "name": "stderr",
     "output_type": "stream",
     "text": [
      "\n"
     ]
    }
   ],
   "source": [
    "replicate_exp = '20220419'\n",
    "for i, _file in tqdm(enumerate(decoded_file_list[:])):\n",
    "    #check whether the file has been analyzed\n",
    "    if file_counts[i]:\n",
    "        continue\n",
    "    file_counts[i] = True\n",
    "    \n",
    "    with h5py.File(_file, \"r\") as f:\n",
    "        #print(\"Keys: %s\" % f.keys())\n",
    "        # get all cell keys to access the h5df\n",
    "        cell_key_list = list(f.keys())\n",
    "    \n",
    "    # append coords of each cell from the same decoded fov\n",
    "    _coords_df_fov_list=[]\n",
    "    for _cell_key in cell_key_list:\n",
    "        _coords_df = pd.read_hdf(_file, _cell_key)                   \n",
    "        if not _coords_df.empty:\n",
    "            _coords_df['orig_cellID']=_cell_key\n",
    "            _coords_df['FOV']=_file.split('Fov-')[-1].split('.hdf5')[0]\n",
    "            _coords_df['replicate']=replicate_exp\n",
    "            _coords_df['chr'] = _coords_df['chr'].apply(lambda x: 'chr'+x)\n",
    "            _coords_df_fov_list.append(_coords_df)\n",
    "    \n",
    "    _coords_df_fov = pd.concat(_coords_df_fov_list)\n",
    "\n",
    "    _coords_df_fov.reset_index(inplace=True)\n",
    "    _coords_df_fov.rename(columns={'center_z':'z_hat', 'center_y':'y_hat', 'center_x':'x_hat', \n",
    "                                    }, inplace = True)\n",
    "    \n",
    "    # spot num each fov\n",
    "    original_length = len(_coords_df_fov)\n",
    "    original_length_list.append(original_length)\n",
    "        \n",
    "    # convert physical locations to pixle...\n",
    "    # since 1 z pixel is not equvilant to 1 x/y pixel, convert z pixel to pseudo pixel\n",
    "    #_coords_df_fov.loc[:,'z_hat'] = (np.array(_coords_df_fov.loc[:,'z_hat'].values)/pixel_z)\n",
    "    _coords_df_fov.loc[:,'z_hat'] = (np.array(_coords_df_fov.loc[:,'z_hat'].values)/pixel_z)*pixel_z/pixel_x\n",
    "    _coords_df_fov.loc[:,'y_hat'] = np.array(_coords_df_fov.loc[:,'y_hat'].values)/pixel_y\n",
    "    _coords_df_fov.loc[:,'x_hat'] = np.array(_coords_df_fov.loc[:,'x_hat'].values)/pixel_x\n",
    "\n",
    "    #sigma = np.full((len(_coords_df_fov,),), 1)\n",
    "    sigma = 1\n",
    "    _coords_df_fov['sig_x'] = sigma\n",
    "    _coords_df_fov['sig_y'] = sigma\n",
    "    _coords_df_fov['sig_z'] = sigma\n",
    "\n",
    "    # append info below if necessary (some are redundant..)\n",
    "    # record hyb\n",
    "    _coords_df_fov['hyb'] = _coords_df_fov['region_name'].apply(lambda x: map_to_hyb(x))\n",
    "    # get other attributes for the dataframe\n",
    "    _coords_df_fov['celltype'] = _coords_df_fov['subclass']\n",
    "    # drop redundant info\n",
    "    _coords_df_fov.drop(columns=['level_0','subclass'],inplace=True)\n",
    "\n",
    "    \n",
    "    # append each fov\n",
    "    df_list.append(_coords_df_fov)\n",
    "    final_length = len(_coords_df_fov)\n",
    "    final_length_list.append(final_length)\n",
    "\n",
    "    print(f'finishing processing {_file}')\n",
    "    print(f'{final_length} is kept out of {original_length}')"
   ]
  },
  {
   "cell_type": "code",
   "execution_count": 13,
   "metadata": {},
   "outputs": [
    {
     "name": "stdout",
     "output_type": "stream",
     "text": [
      "216\n",
      "216\n"
     ]
    }
   ],
   "source": [
    "# concat all decoded spots\n",
    "#coord_df_exp = pd.concat(df_list)\n",
    "#print(len(coord_df_exp))\n",
    "print(len(final_length_list))\n",
    "print(len(original_length_list))"
   ]
  },
  {
   "cell_type": "code",
   "execution_count": null,
   "metadata": {},
   "outputs": [],
   "source": []
  },
  {
   "cell_type": "markdown",
   "metadata": {},
   "source": [
    "### save df into subset chunks"
   ]
  },
  {
   "cell_type": "code",
   "execution_count": 274,
   "metadata": {},
   "outputs": [],
   "source": [
    "# slow part; only save these when testing the script; would be more practical to process each fov hdf5-generated df direcly"
   ]
  },
  {
   "cell_type": "code",
   "execution_count": 14,
   "metadata": {},
   "outputs": [
    {
     "data": {
      "text/plain": [
       "216"
      ]
     },
     "execution_count": 14,
     "metadata": {},
     "output_type": "execute_result"
    }
   ],
   "source": [
    "len(df_list)"
   ]
  },
  {
   "cell_type": "code",
   "execution_count": 15,
   "metadata": {},
   "outputs": [
    {
     "data": {
      "text/plain": [
       "[range(0, 12),\n",
       " range(12, 24),\n",
       " range(24, 36),\n",
       " range(36, 48),\n",
       " range(48, 60),\n",
       " range(60, 72),\n",
       " range(72, 84),\n",
       " range(84, 96),\n",
       " range(96, 108),\n",
       " range(108, 120),\n",
       " range(120, 132),\n",
       " range(132, 144),\n",
       " range(144, 156),\n",
       " range(156, 168),\n",
       " range(168, 180),\n",
       " range(180, 192),\n",
       " range(192, 204),\n",
       " range(204, 216)]"
      ]
     },
     "execution_count": 15,
     "metadata": {},
     "output_type": "execute_result"
    }
   ],
   "source": [
    "def chunks(lst, n):\n",
    "    \"\"\"Yield successive n-sized chunks from lst.\"\"\"\n",
    "    for i in range(0, len(lst), n):\n",
    "        yield lst[i:i + n]\n",
    "        \n",
    "chunk_ids_list = list(chunks(range(len(df_list)), 12))\n",
    "chunk_ids_list"
   ]
  },
  {
   "cell_type": "code",
   "execution_count": 16,
   "metadata": {},
   "outputs": [
    {
     "name": "stderr",
     "output_type": "stream",
     "text": [
      "18it [19:32, 65.14s/it]\n"
     ]
    }
   ],
   "source": [
    "#replicate_exp='20220402'\n",
    "merged_spot_folder=os.path.join(r'\\\\10.245.74.158\\Chromatin_NAS_8\\Exported_data\\jie_CW_decode', f'{replicate_exp}exp')\n",
    "\n",
    "for _ct, _ids in tqdm(enumerate(chunk_ids_list)):\n",
    "    coord_df_exp_subfname = os.path.join(merged_spot_folder, f'{replicate_exp}exp_cand_spots_part{_ct}.csv')\n",
    "    sub_df_list = df_list[_ids[0]:_ids[-1]]\n",
    "    #print(_ids)\n",
    "    sub_dfs = pd.concat(sub_df_list)\n",
    "    sub_dfs.to_csv(coord_df_exp_subfname, index=False)\n"
   ]
  },
  {
   "cell_type": "code",
   "execution_count": 17,
   "metadata": {},
   "outputs": [],
   "source": [
    "del df_list"
   ]
  }
 ],
 "metadata": {
  "kernelspec": {
   "display_name": "Python 3 (ipykernel)",
   "language": "python",
   "name": "python3"
  },
  "language_info": {
   "codemirror_mode": {
    "name": "ipython",
    "version": 3
   },
   "file_extension": ".py",
   "mimetype": "text/x-python",
   "name": "python",
   "nbconvert_exporter": "python",
   "pygments_lexer": "ipython3",
   "version": "3.10.8"
  },
  "toc": {
   "base_numbering": 1,
   "nav_menu": {},
   "number_sections": false,
   "sideBar": true,
   "skip_h1_title": false,
   "title_cell": "Table of Contents",
   "title_sidebar": "Contents",
   "toc_cell": false,
   "toc_position": {
    "height": "calc(100% - 180px)",
    "left": "10px",
    "top": "150px",
    "width": "203px"
   },
   "toc_section_display": true,
   "toc_window_display": true
  }
 },
 "nbformat": 4,
 "nbformat_minor": 4
}
