{
 "cells": [
  {
   "cell_type": "markdown",
   "metadata": {},
   "source": [
    "# 0. Import Packages\n",
    "\n",
    "The link to get [ImageAnalysis3](https://github.com/zhengpuas47/ImageAnalysis3) \n",
    "\n",
    "or the Zhuang lab archived [source_tools](https://github.com/ZhuangLab/Chromatin_Analysis_2020_cell/tree/master/sequential_tracing/source)"
   ]
  },
  {
   "cell_type": "code",
   "execution_count": 1,
   "id": "6170f755",
   "metadata": {},
   "outputs": [
    {
     "name": "stdout",
     "output_type": "stream",
     "text": [
      "29596\n"
     ]
    }
   ],
   "source": [
    "%run \"C:\\Users\\shiwei\\Documents\\ImageAnalysis3\\required_files\\Startup_py3.py\"\n",
    "sys.path.append(r\"C:\\Users\\shiwei\\Documents\")\n",
    "\n",
    "import ImageAnalysis3 as ia\n",
    "%matplotlib notebook\n",
    "\n",
    "from ImageAnalysis3 import *\n",
    "print(os.getpid())\n",
    "\n",
    "import h5py\n",
    "from ImageAnalysis3.classes import _allowed_kwds\n",
    "import ast\n",
    "\n",
    "import pandas as pd"
   ]
  },
  {
   "cell_type": "markdown",
   "id": "04c78145",
   "metadata": {},
   "source": [
    "# 1. Load Data"
   ]
  },
  {
   "cell_type": "markdown",
   "id": "3460fadb",
   "metadata": {},
   "source": [
    "## Load the spot df folder\n",
    "The initially picked spots are generated from the notebook: [2_jie_pick_spot](2_jie_pick_spot.ipynb)\n",
    "\n"
   ]
  },
  {
   "cell_type": "code",
   "execution_count": 2,
   "id": "880d6e31",
   "metadata": {},
   "outputs": [
    {
     "data": {
      "text/plain": [
       "['\\\\\\\\10.245.74.158\\\\Chromatin_NAS_8\\\\Exported_data\\\\jie_CW_decode\\\\20220316exp\\\\CW_v2',\n",
       " '\\\\\\\\10.245.74.158\\\\Chromatin_NAS_8\\\\Exported_data\\\\jie_CW_decode\\\\20220402exp\\\\CW_v2',\n",
       " '\\\\\\\\10.245.74.158\\\\Chromatin_NAS_8\\\\Exported_data\\\\jie_CW_decode\\\\20220419exp\\\\CW_v2',\n",
       " '\\\\\\\\10.245.74.158\\\\Chromatin_NAS_8\\\\Exported_data\\\\jie_CW_decode\\\\20220713exp\\\\CW_v2']"
      ]
     },
     "execution_count": 2,
     "metadata": {},
     "output_type": "execute_result"
    }
   ],
   "source": [
    "para_subfolder =r'CW_v2'\n",
    "\n",
    "main_folder =r'\\\\10.245.74.158\\Chromatin_NAS_8\\Exported_data\\jie_CW_decode'\n",
    "picked_spot_folders = [os.path.join(main_folder, _fl) for _fl in os.listdir(main_folder) if 'exp' in _fl and '_clean' not in _fl]\n",
    "picked_spot_folders = [os.path.join(_fl,para_subfolder) for _fl in picked_spot_folders]\n",
    "picked_spot_folders"
   ]
  },
  {
   "cell_type": "markdown",
   "id": "383812cf",
   "metadata": {},
   "source": [
    "# 2. Import functions\n",
    "\n",
    "The modified jie is the same version as described below except that the packages are named differently from the ones in the repository:\n",
    "\n",
    "The link to get [jie_CW](https://github.com/cosmosyw/jie/tree/0f797efcc52c1e9822a3cd03d8980cba9315b468) \n",
    "\n",
    "The link to get [jie_CW.aligner_SL](https://github.com/cosmosyw/jie/blob/0f797efcc52c1e9822a3cd03d8980cba9315b468/jie/aligner.py)"
   ]
  },
  {
   "cell_type": "code",
   "execution_count": 3,
   "id": "af389ab4",
   "metadata": {},
   "outputs": [],
   "source": [
    "import jie_CW\n",
    "from jie_CW.jie import aligner_SL\n",
    "from jie_CW.jie import plot"
   ]
  },
  {
   "cell_type": "markdown",
   "metadata": {},
   "source": [
    "Add function **sort_spots_by_fiber_density** below if it is not in the [jie_CW.aligner_SL](https://github.com/cosmosyw/jie/blob/0f797efcc52c1e9822a3cd03d8980cba9315b468/jie/aligner.py)"
   ]
  },
  {
   "cell_type": "code",
   "execution_count": null,
   "metadata": {},
   "outputs": [],
   "source": [
    "# Function to sort picked spots based on (local) fiber density, this would help resolve less probable trans-homolog transversing (like \"fiber swapping during tracing\")\n",
    "def sort_spots_by_fiber_density (picked_chr_pts_cell, _iter_num_th = 30, _local_reg_num = 30):\n",
    "    #import scipy\n",
    "    from scipy.spatial.distance import cdist\n",
    "    from itertools import permutations\n",
    "\n",
    "    picked_chr_pts_cell_new =  picked_chr_pts_cell.copy(deep=True)\n",
    "    chosen_chrom = picked_chr_pts_cell_new['chr'].values[0]\n",
    "    cell_id = picked_chr_pts_cell_new['orig_cellID'].values[0]\n",
    "\n",
    "    if 'fiberidx_jie' not in picked_chr_pts_cell_new.columns:\n",
    "        picked_chr_pts_cell_new['fiberidx_jie']=picked_chr_pts_cell_new['fiberidx']\n",
    "\n",
    "    # process if more than one fiber exists for a cell\n",
    "    if len(np.unique(picked_chr_pts_cell_new['fiberidx'])) >1:\n",
    "        sel_pts_zxyhfa = picked_chr_pts_cell[['z_hat','x_hat','y_hat','hyb','fiberidx']].copy(deep=True)\n",
    "        _iter = 0\n",
    "        while _iter <_iter_num_th:\n",
    "            _iter +=1\n",
    "            curr_fiberidx = sel_pts_zxyhfa['fiberidx'] # flag the current fiberidx\n",
    "            picked_hyb_list = sorted(np.unique(sel_pts_zxyhfa['hyb']))\n",
    "            # 10% of the longest picked fiber as local ref \n",
    "            _neighbor_len = round(np.max(picked_hyb_list)/5)\n",
    "            for _hyb in picked_hyb_list:\n",
    "                # sel_pts_zxyhfa below will be updated after processing each hyb\n",
    "                _cand_spots = sel_pts_zxyhfa[sel_pts_zxyhfa['hyb']==_hyb]\n",
    "                # local neighboring region\n",
    "                _start, _end = max(_hyb - _neighbor_len, np.min(picked_hyb_list)), min(_hyb + _neighbor_len, np.max(picked_hyb_list)) \n",
    "                ref_ct_list = []\n",
    "                # assign spots to closest fiber\n",
    "                for _fiber_id in np.unique(sel_pts_zxyhfa['fiberidx']): # order of fibers to use\n",
    "                    sel_pts_cluster = sel_pts_zxyhfa[sel_pts_zxyhfa['fiberidx']==_fiber_id]\n",
    "                    _local_hyb_list = np.intersect1d(np.arange(_start, _end+1), np.unique(sel_pts_cluster['hyb']))\n",
    "                    # use local center if there are enough nearby spots\n",
    "                    if len(_local_hyb_list) >= _local_reg_num:\n",
    "                        ref_spots = sel_pts_cluster[sel_pts_cluster['hyb'].isin(_local_hyb_list)]\n",
    "                    # use all the decoded chr fiber center\n",
    "                    else:\n",
    "                        ref_spots = sel_pts_cluster.copy(deep=True)\n",
    "                    ref_ct = np.nanmean(ref_spots[['z_hat','x_hat','y_hat']],axis=0) # local center coords\n",
    "                    ref_ct_list.append(ref_ct)\n",
    "                # dist matrix for cand_spots and ref_centers\n",
    "                ref_cts = np.array(ref_ct_list)\n",
    "                _dist_mtx =  cdist(_cand_spots[['z_hat','x_hat','y_hat']],ref_cts)\n",
    "                # re-assign for fibers based on the min summed distance\n",
    "                _cand_spots_new = _cand_spots.copy(deep=True)\n",
    "                _l = list(permutations(range(0, len(ref_cts)),len(_dist_mtx)))\n",
    "                _sum_dist_list = []\n",
    "                for _i in _l:\n",
    "                    # distance sum for this permutation\n",
    "                    _dist_sum = 0\n",
    "                    for _spot_index in range(len(_dist_mtx)):\n",
    "                        _dist_sum += _dist_mtx [_spot_index,_i[_spot_index]] \n",
    "                    _sum_dist_list.append(_dist_sum)\n",
    "                ########################################## \n",
    "                # pick the permutation with lowest summed distance\n",
    "                _exchanged_index = _l[np.argmin(_sum_dist_list)]\n",
    "                _cand_spots_new['fiberidx']= np.unique(sel_pts_zxyhfa['fiberidx'])[list(_exchanged_index)]\n",
    "                # assign back to the sel_pts_zxyhfa for the next hyb\n",
    "                sel_pts_zxyhfa_new = sel_pts_zxyhfa.copy(deep=True)\n",
    "                sel_pts_zxyhfa_new[sel_pts_zxyhfa_new['hyb']==_hyb] = _cand_spots_new\n",
    "                sel_pts_zxyhfa = sel_pts_zxyhfa_new.copy(deep=True)\n",
    "\n",
    "            # check reshuffling rate\n",
    "            num_change = np.sum(sel_pts_zxyhfa['fiberidx']!=curr_fiberidx)\n",
    "            rate_change = num_change/len(sel_pts_zxyhfa)\n",
    "            if rate_change<=0.001:\n",
    "                break\n",
    "                \n",
    "        print(f'Complete sorting for {chosen_chrom} in {cell_id} within {_iter} iteration(s).')\n",
    "        picked_chr_pts_cell_new[['z_hat','x_hat','y_hat','hyb','fiberidx']]=sel_pts_zxyhfa[['z_hat','x_hat','y_hat','hyb','fiberidx']]\n",
    "        \n",
    "    # skip if only one fiber\n",
    "    else:\n",
    "        print(f'Skip sorting for {chosen_chrom} in {cell_id} because there is only one fiber.')\n",
    "        \n",
    "    return picked_chr_pts_cell_new\n",
    "            "
   ]
  },
  {
   "cell_type": "code",
   "execution_count": 4,
   "id": "a2b3fcd2",
   "metadata": {},
   "outputs": [
    {
     "name": "stdout",
     "output_type": "stream",
     "text": [
      "Help on function sort_spots_by_fiber_density in module jie_CW.jie.aligner_SL:\n",
      "\n",
      "sort_spots_by_fiber_density(picked_chr_pts_cell, _iter_num_th=30, _local_reg_num=30)\n",
      "    # Function to sort picked spots based on (local) fiber density, this would help resolve less probable trans-homolog transversing (like \"fiber swapping during tracing\")\n",
      "\n"
     ]
    }
   ],
   "source": [
    "import importlib\n",
    "importlib.reload(aligner_SL)\n",
    "help(aligner_SL.sort_spots_by_fiber_density)"
   ]
  },
  {
   "cell_type": "code",
   "execution_count": 5,
   "id": "9f862468",
   "metadata": {},
   "outputs": [],
   "source": [
    "import multiprocessing as mp\n",
    "import tqdm\n",
    "\n",
    "num_threads =20"
   ]
  },
  {
   "cell_type": "markdown",
   "id": "25fe8eac",
   "metadata": {},
   "source": [
    "# 3. Sort the picked spots for each exp replicate"
   ]
  },
  {
   "cell_type": "markdown",
   "id": "b0b2679c",
   "metadata": {},
   "source": [
    "## Exp 0713"
   ]
  },
  {
   "cell_type": "markdown",
   "id": "59befc35",
   "metadata": {},
   "source": [
    "### load data"
   ]
  },
  {
   "cell_type": "code",
   "execution_count": 6,
   "id": "ea04fee3",
   "metadata": {},
   "outputs": [
    {
     "data": {
      "text/plain": [
       "'\\\\\\\\10.245.74.158\\\\Chromatin_NAS_8\\\\Exported_data\\\\jie_CW_decode\\\\20220713exp\\\\CW_v2'"
      ]
     },
     "execution_count": 6,
     "metadata": {},
     "output_type": "execute_result"
    }
   ],
   "source": [
    "dna_exp_key= '20220713'\n",
    "\n",
    "# output dict for filename, file\n",
    "output_df_dict = {}\n",
    "\n",
    "exp_picked_spot_folder = [_f for _f in picked_spot_folders if dna_exp_key in _f][0]\n",
    "\n",
    "if os.path.exists(exp_picked_spot_folder):\n",
    "    file_list = [os.path.join(exp_picked_spot_folder, _fl) for _fl in os.listdir(exp_picked_spot_folder) if '.h5' in _fl]\n",
    "    for file in file_list:\n",
    "        output_df_dict[os.path.basename(file)]=pd.read_hdf(file)\n",
    "        \n",
    "exp_picked_spot_folder"
   ]
  },
  {
   "cell_type": "code",
   "execution_count": 7,
   "id": "4665fb2d",
   "metadata": {},
   "outputs": [
    {
     "data": {
      "text/plain": [
       "dict_keys(['20220713exp_pick_chr1.h5', '20220713exp_pick_chr10.h5', '20220713exp_pick_chr11.h5', '20220713exp_pick_chr12.h5', '20220713exp_pick_chr13.h5', '20220713exp_pick_chr14.h5', '20220713exp_pick_chr15.h5', '20220713exp_pick_chr16.h5', '20220713exp_pick_chr17.h5', '20220713exp_pick_chr18.h5', '20220713exp_pick_chr19.h5', '20220713exp_pick_chr2.h5', '20220713exp_pick_chr3.h5', '20220713exp_pick_chr4.h5', '20220713exp_pick_chr5.h5', '20220713exp_pick_chr6.h5', '20220713exp_pick_chr7.h5', '20220713exp_pick_chr8.h5', '20220713exp_pick_chr9.h5', '20220713exp_pick_chrX.h5'])"
      ]
     },
     "execution_count": 7,
     "metadata": {},
     "output_type": "execute_result"
    }
   ],
   "source": [
    "output_df_dict.keys()"
   ]
  },
  {
   "cell_type": "code",
   "execution_count": 8,
   "id": "d2dd9484",
   "metadata": {},
   "outputs": [
    {
     "data": {
      "text/html": [
       "<div>\n",
       "<style scoped>\n",
       "    .dataframe tbody tr th:only-of-type {\n",
       "        vertical-align: middle;\n",
       "    }\n",
       "\n",
       "    .dataframe tbody tr th {\n",
       "        vertical-align: top;\n",
       "    }\n",
       "\n",
       "    .dataframe thead th {\n",
       "        text-align: right;\n",
       "    }\n",
       "</style>\n",
       "<table border=\"1\" class=\"dataframe\">\n",
       "  <thead>\n",
       "    <tr style=\"text-align: right;\">\n",
       "      <th></th>\n",
       "      <th>replicate</th>\n",
       "      <th>FOV</th>\n",
       "      <th>orig_cellID</th>\n",
       "      <th>finalcellID</th>\n",
       "      <th>celltype</th>\n",
       "      <th>chr</th>\n",
       "      <th>hyb</th>\n",
       "      <th>region_name</th>\n",
       "      <th>x_hat</th>\n",
       "      <th>y_hat</th>\n",
       "      <th>z_hat</th>\n",
       "      <th>sig_x</th>\n",
       "      <th>sig_y</th>\n",
       "      <th>sig_z</th>\n",
       "      <th>rowID</th>\n",
       "      <th>fiberidx</th>\n",
       "    </tr>\n",
       "  </thead>\n",
       "  <tbody>\n",
       "    <tr>\n",
       "      <th>23</th>\n",
       "      <td>20220713</td>\n",
       "      <td>18</td>\n",
       "      <td>Cell-10</td>\n",
       "      <td>100502394973884731031710640222794322905</td>\n",
       "      <td>Astro</td>\n",
       "      <td>chr1</td>\n",
       "      <td>12</td>\n",
       "      <td>1:21732182-21745770</td>\n",
       "      <td>259.372640</td>\n",
       "      <td>620.405783</td>\n",
       "      <td>39.411673</td>\n",
       "      <td>1</td>\n",
       "      <td>1</td>\n",
       "      <td>1</td>\n",
       "      <td>23521942</td>\n",
       "      <td>1</td>\n",
       "    </tr>\n",
       "    <tr>\n",
       "      <th>27</th>\n",
       "      <td>20220713</td>\n",
       "      <td>18</td>\n",
       "      <td>Cell-10</td>\n",
       "      <td>100502394973884731031710640222794322905</td>\n",
       "      <td>Astro</td>\n",
       "      <td>chr1</td>\n",
       "      <td>14</td>\n",
       "      <td>1:23749258-23759965</td>\n",
       "      <td>262.756717</td>\n",
       "      <td>623.565353</td>\n",
       "      <td>44.769108</td>\n",
       "      <td>1</td>\n",
       "      <td>1</td>\n",
       "      <td>1</td>\n",
       "      <td>23520207</td>\n",
       "      <td>1</td>\n",
       "    </tr>\n",
       "    <tr>\n",
       "      <th>34</th>\n",
       "      <td>20220713</td>\n",
       "      <td>18</td>\n",
       "      <td>Cell-10</td>\n",
       "      <td>100502394973884731031710640222794322905</td>\n",
       "      <td>Astro</td>\n",
       "      <td>chr1</td>\n",
       "      <td>16</td>\n",
       "      <td>1:24241577-24251162</td>\n",
       "      <td>261.750523</td>\n",
       "      <td>626.064167</td>\n",
       "      <td>42.448645</td>\n",
       "      <td>1</td>\n",
       "      <td>1</td>\n",
       "      <td>1</td>\n",
       "      <td>23522032</td>\n",
       "      <td>1</td>\n",
       "    </tr>\n",
       "    <tr>\n",
       "      <th>44</th>\n",
       "      <td>20220713</td>\n",
       "      <td>18</td>\n",
       "      <td>Cell-10</td>\n",
       "      <td>100502394973884731031710640222794322905</td>\n",
       "      <td>Astro</td>\n",
       "      <td>chr1</td>\n",
       "      <td>21</td>\n",
       "      <td>1:35544821-35559274</td>\n",
       "      <td>257.991170</td>\n",
       "      <td>622.192240</td>\n",
       "      <td>45.894748</td>\n",
       "      <td>1</td>\n",
       "      <td>1</td>\n",
       "      <td>1</td>\n",
       "      <td>23522005</td>\n",
       "      <td>1</td>\n",
       "    </tr>\n",
       "    <tr>\n",
       "      <th>51</th>\n",
       "      <td>20220713</td>\n",
       "      <td>18</td>\n",
       "      <td>Cell-10</td>\n",
       "      <td>100502394973884731031710640222794322905</td>\n",
       "      <td>Astro</td>\n",
       "      <td>chr1</td>\n",
       "      <td>25</td>\n",
       "      <td>1:38751230-38759983</td>\n",
       "      <td>254.111773</td>\n",
       "      <td>627.143457</td>\n",
       "      <td>41.999315</td>\n",
       "      <td>1</td>\n",
       "      <td>1</td>\n",
       "      <td>1</td>\n",
       "      <td>23518889</td>\n",
       "      <td>1</td>\n",
       "    </tr>\n",
       "    <tr>\n",
       "      <th>...</th>\n",
       "      <td>...</td>\n",
       "      <td>...</td>\n",
       "      <td>...</td>\n",
       "      <td>...</td>\n",
       "      <td>...</td>\n",
       "      <td>...</td>\n",
       "      <td>...</td>\n",
       "      <td>...</td>\n",
       "      <td>...</td>\n",
       "      <td>...</td>\n",
       "      <td>...</td>\n",
       "      <td>...</td>\n",
       "      <td>...</td>\n",
       "      <td>...</td>\n",
       "      <td>...</td>\n",
       "      <td>...</td>\n",
       "    </tr>\n",
       "    <tr>\n",
       "      <th>467</th>\n",
       "      <td>20220713</td>\n",
       "      <td>39</td>\n",
       "      <td>Cell-17</td>\n",
       "      <td>9522942335541362634092199696394126659</td>\n",
       "      <td>Vip</td>\n",
       "      <td>chr1</td>\n",
       "      <td>145</td>\n",
       "      <td>1:188751447-188759965</td>\n",
       "      <td>582.260823</td>\n",
       "      <td>101.583803</td>\n",
       "      <td>66.213708</td>\n",
       "      <td>1</td>\n",
       "      <td>1</td>\n",
       "      <td>1</td>\n",
       "      <td>35691805</td>\n",
       "      <td>1</td>\n",
       "    </tr>\n",
       "    <tr>\n",
       "      <th>470</th>\n",
       "      <td>20220713</td>\n",
       "      <td>39</td>\n",
       "      <td>Cell-17</td>\n",
       "      <td>9522942335541362634092199696394126659</td>\n",
       "      <td>Vip</td>\n",
       "      <td>chr1</td>\n",
       "      <td>148</td>\n",
       "      <td>1:189510684-189521211</td>\n",
       "      <td>573.796500</td>\n",
       "      <td>101.345085</td>\n",
       "      <td>59.822325</td>\n",
       "      <td>1</td>\n",
       "      <td>1</td>\n",
       "      <td>1</td>\n",
       "      <td>35694674</td>\n",
       "      <td>1</td>\n",
       "    </tr>\n",
       "    <tr>\n",
       "      <th>477</th>\n",
       "      <td>20220713</td>\n",
       "      <td>39</td>\n",
       "      <td>Cell-17</td>\n",
       "      <td>9522942335541362634092199696394126659</td>\n",
       "      <td>Vip</td>\n",
       "      <td>chr1</td>\n",
       "      <td>150</td>\n",
       "      <td>1:191250765-191259922</td>\n",
       "      <td>571.806520</td>\n",
       "      <td>103.273113</td>\n",
       "      <td>60.417039</td>\n",
       "      <td>1</td>\n",
       "      <td>1</td>\n",
       "      <td>1</td>\n",
       "      <td>35691122</td>\n",
       "      <td>1</td>\n",
       "    </tr>\n",
       "    <tr>\n",
       "      <th>478</th>\n",
       "      <td>20220713</td>\n",
       "      <td>39</td>\n",
       "      <td>Cell-17</td>\n",
       "      <td>9522942335541362634092199696394126659</td>\n",
       "      <td>Vip</td>\n",
       "      <td>chr1</td>\n",
       "      <td>151</td>\n",
       "      <td>1:193105714-193114935</td>\n",
       "      <td>579.318605</td>\n",
       "      <td>98.332320</td>\n",
       "      <td>61.322402</td>\n",
       "      <td>1</td>\n",
       "      <td>1</td>\n",
       "      <td>1</td>\n",
       "      <td>35695299</td>\n",
       "      <td>1</td>\n",
       "    </tr>\n",
       "    <tr>\n",
       "      <th>481</th>\n",
       "      <td>20220713</td>\n",
       "      <td>39</td>\n",
       "      <td>Cell-17</td>\n",
       "      <td>9522942335541362634092199696394126659</td>\n",
       "      <td>Vip</td>\n",
       "      <td>chr1</td>\n",
       "      <td>152</td>\n",
       "      <td>1:193746900-193756237</td>\n",
       "      <td>586.507133</td>\n",
       "      <td>95.104610</td>\n",
       "      <td>55.455066</td>\n",
       "      <td>1</td>\n",
       "      <td>1</td>\n",
       "      <td>1</td>\n",
       "      <td>35691920</td>\n",
       "      <td>1</td>\n",
       "    </tr>\n",
       "  </tbody>\n",
       "</table>\n",
       "<p>716727 rows × 16 columns</p>\n",
       "</div>"
      ],
      "text/plain": [
       "     replicate  FOV orig_cellID                              finalcellID  \\\n",
       "23    20220713   18     Cell-10  100502394973884731031710640222794322905   \n",
       "27    20220713   18     Cell-10  100502394973884731031710640222794322905   \n",
       "34    20220713   18     Cell-10  100502394973884731031710640222794322905   \n",
       "44    20220713   18     Cell-10  100502394973884731031710640222794322905   \n",
       "51    20220713   18     Cell-10  100502394973884731031710640222794322905   \n",
       "..         ...  ...         ...                                      ...   \n",
       "467   20220713   39     Cell-17    9522942335541362634092199696394126659   \n",
       "470   20220713   39     Cell-17    9522942335541362634092199696394126659   \n",
       "477   20220713   39     Cell-17    9522942335541362634092199696394126659   \n",
       "478   20220713   39     Cell-17    9522942335541362634092199696394126659   \n",
       "481   20220713   39     Cell-17    9522942335541362634092199696394126659   \n",
       "\n",
       "    celltype   chr  hyb            region_name       x_hat       y_hat  \\\n",
       "23     Astro  chr1   12    1:21732182-21745770  259.372640  620.405783   \n",
       "27     Astro  chr1   14    1:23749258-23759965  262.756717  623.565353   \n",
       "34     Astro  chr1   16    1:24241577-24251162  261.750523  626.064167   \n",
       "44     Astro  chr1   21    1:35544821-35559274  257.991170  622.192240   \n",
       "51     Astro  chr1   25    1:38751230-38759983  254.111773  627.143457   \n",
       "..       ...   ...  ...                    ...         ...         ...   \n",
       "467      Vip  chr1  145  1:188751447-188759965  582.260823  101.583803   \n",
       "470      Vip  chr1  148  1:189510684-189521211  573.796500  101.345085   \n",
       "477      Vip  chr1  150  1:191250765-191259922  571.806520  103.273113   \n",
       "478      Vip  chr1  151  1:193105714-193114935  579.318605   98.332320   \n",
       "481      Vip  chr1  152  1:193746900-193756237  586.507133   95.104610   \n",
       "\n",
       "         z_hat  sig_x  sig_y  sig_z     rowID  fiberidx  \n",
       "23   39.411673      1      1      1  23521942         1  \n",
       "27   44.769108      1      1      1  23520207         1  \n",
       "34   42.448645      1      1      1  23522032         1  \n",
       "44   45.894748      1      1      1  23522005         1  \n",
       "51   41.999315      1      1      1  23518889         1  \n",
       "..         ...    ...    ...    ...       ...       ...  \n",
       "467  66.213708      1      1      1  35691805         1  \n",
       "470  59.822325      1      1      1  35694674         1  \n",
       "477  60.417039      1      1      1  35691122         1  \n",
       "478  61.322402      1      1      1  35695299         1  \n",
       "481  55.455066      1      1      1  35691920         1  \n",
       "\n",
       "[716727 rows x 16 columns]"
      ]
     },
     "execution_count": 8,
     "metadata": {},
     "output_type": "execute_result"
    }
   ],
   "source": [
    "output_df_dict[list(output_df_dict.keys())[0]]"
   ]
  },
  {
   "cell_type": "markdown",
   "id": "8400dad6",
   "metadata": {},
   "source": [
    "### process data"
   ]
  },
  {
   "cell_type": "code",
   "execution_count": 9,
   "id": "36276b11",
   "metadata": {},
   "outputs": [
    {
     "name": "stdout",
     "output_type": "stream",
     "text": [
      "Generating output folders\n"
     ]
    },
    {
     "name": "stderr",
     "output_type": "stream",
     "text": [
      "6695it [00:00, 6831.63it/s]\n"
     ]
    },
    {
     "name": "stdout",
     "output_type": "stream",
     "text": [
      "Start multiprocessing chromosome chr1\n",
      "Finish processing chromosome chr1\n",
      "00:04:40.50\n",
      "Finish saving chromosome chr1.\n",
      "+++++++++++++++++++++++++++++++++++++++++++++++++++++++++++++++++++++++++++\n"
     ]
    },
    {
     "name": "stderr",
     "output_type": "stream",
     "text": [
      "7237it [00:01, 6331.36it/s]\n"
     ]
    },
    {
     "name": "stdout",
     "output_type": "stream",
     "text": [
      "Start multiprocessing chromosome chr10\n",
      "Finish processing chromosome chr10\n",
      "00:02:55.64\n",
      "Finish saving chromosome chr10.\n",
      "+++++++++++++++++++++++++++++++++++++++++++++++++++++++++++++++++++++++++++\n"
     ]
    },
    {
     "name": "stderr",
     "output_type": "stream",
     "text": [
      "6813it [00:00, 8159.28it/s] \n"
     ]
    },
    {
     "name": "stdout",
     "output_type": "stream",
     "text": [
      "Start multiprocessing chromosome chr11\n",
      "Finish processing chromosome chr11\n",
      "00:02:22.59\n",
      "Finish saving chromosome chr11.\n",
      "+++++++++++++++++++++++++++++++++++++++++++++++++++++++++++++++++++++++++++\n"
     ]
    },
    {
     "name": "stderr",
     "output_type": "stream",
     "text": [
      "6779it [00:00, 6840.56it/s] \n"
     ]
    },
    {
     "name": "stdout",
     "output_type": "stream",
     "text": [
      "Start multiprocessing chromosome chr12\n",
      "Finish processing chromosome chr12\n",
      "00:01:23.52\n",
      "Finish saving chromosome chr12.\n",
      "+++++++++++++++++++++++++++++++++++++++++++++++++++++++++++++++++++++++++++\n"
     ]
    },
    {
     "name": "stderr",
     "output_type": "stream",
     "text": [
      "6894it [00:00, 8606.75it/s] \n"
     ]
    },
    {
     "name": "stdout",
     "output_type": "stream",
     "text": [
      "Start multiprocessing chromosome chr13\n",
      "Finish processing chromosome chr13\n",
      "00:01:38.98\n",
      "Finish saving chromosome chr13.\n",
      "+++++++++++++++++++++++++++++++++++++++++++++++++++++++++++++++++++++++++++\n"
     ]
    },
    {
     "name": "stderr",
     "output_type": "stream",
     "text": [
      "6581it [00:00, 8557.87it/s] \n"
     ]
    },
    {
     "name": "stdout",
     "output_type": "stream",
     "text": [
      "Start multiprocessing chromosome chr14\n",
      "Finish processing chromosome chr14\n",
      "00:01:35.50\n",
      "Finish saving chromosome chr14.\n",
      "+++++++++++++++++++++++++++++++++++++++++++++++++++++++++++++++++++++++++++\n"
     ]
    },
    {
     "name": "stderr",
     "output_type": "stream",
     "text": [
      "6767it [00:00, 9010.66it/s] \n"
     ]
    },
    {
     "name": "stdout",
     "output_type": "stream",
     "text": [
      "Start multiprocessing chromosome chr15\n",
      "Finish processing chromosome chr15\n",
      "00:01:36.18\n",
      "Finish saving chromosome chr15.\n",
      "+++++++++++++++++++++++++++++++++++++++++++++++++++++++++++++++++++++++++++\n"
     ]
    },
    {
     "name": "stderr",
     "output_type": "stream",
     "text": [
      "6553it [00:00, 6847.45it/s] \n"
     ]
    },
    {
     "name": "stdout",
     "output_type": "stream",
     "text": [
      "Start multiprocessing chromosome chr16\n",
      "Finish processing chromosome chr16\n",
      "00:01:15.59\n",
      "Finish saving chromosome chr16.\n",
      "+++++++++++++++++++++++++++++++++++++++++++++++++++++++++++++++++++++++++++\n"
     ]
    },
    {
     "name": "stderr",
     "output_type": "stream",
     "text": [
      "6587it [00:00, 7121.08it/s]\n"
     ]
    },
    {
     "name": "stdout",
     "output_type": "stream",
     "text": [
      "Start multiprocessing chromosome chr17\n",
      "Finish processing chromosome chr17\n",
      "00:01:09.37\n",
      "Finish saving chromosome chr17.\n",
      "+++++++++++++++++++++++++++++++++++++++++++++++++++++++++++++++++++++++++++\n"
     ]
    },
    {
     "name": "stderr",
     "output_type": "stream",
     "text": [
      "6816it [00:00, 9337.00it/s] \n"
     ]
    },
    {
     "name": "stdout",
     "output_type": "stream",
     "text": [
      "Start multiprocessing chromosome chr18\n",
      "Finish processing chromosome chr18\n",
      "00:01:10.39\n",
      "Finish saving chromosome chr18.\n",
      "+++++++++++++++++++++++++++++++++++++++++++++++++++++++++++++++++++++++++++\n"
     ]
    },
    {
     "name": "stderr",
     "output_type": "stream",
     "text": [
      "6553it [00:00, 7273.04it/s] \n"
     ]
    },
    {
     "name": "stdout",
     "output_type": "stream",
     "text": [
      "Start multiprocessing chromosome chr19\n",
      "Finish processing chromosome chr19\n",
      "00:01:00.11\n",
      "Finish saving chromosome chr19.\n",
      "+++++++++++++++++++++++++++++++++++++++++++++++++++++++++++++++++++++++++++\n"
     ]
    },
    {
     "name": "stderr",
     "output_type": "stream",
     "text": [
      "6514it [00:00, 7583.23it/s]\n"
     ]
    },
    {
     "name": "stdout",
     "output_type": "stream",
     "text": [
      "Start multiprocessing chromosome chr2\n",
      "Finish processing chromosome chr2\n",
      "00:04:04.50\n",
      "Finish saving chromosome chr2.\n",
      "+++++++++++++++++++++++++++++++++++++++++++++++++++++++++++++++++++++++++++\n"
     ]
    },
    {
     "name": "stderr",
     "output_type": "stream",
     "text": [
      "7195it [00:00, 8251.15it/s] \n"
     ]
    },
    {
     "name": "stdout",
     "output_type": "stream",
     "text": [
      "Start multiprocessing chromosome chr3\n",
      "Finish processing chromosome chr3\n",
      "00:02:56.14\n",
      "Finish saving chromosome chr3.\n",
      "+++++++++++++++++++++++++++++++++++++++++++++++++++++++++++++++++++++++++++\n"
     ]
    },
    {
     "name": "stderr",
     "output_type": "stream",
     "text": [
      "7287it [00:01, 6287.32it/s]\n"
     ]
    },
    {
     "name": "stdout",
     "output_type": "stream",
     "text": [
      "Start multiprocessing chromosome chr4\n",
      "Finish processing chromosome chr4\n",
      "00:04:16.08\n",
      "Finish saving chromosome chr4.\n",
      "+++++++++++++++++++++++++++++++++++++++++++++++++++++++++++++++++++++++++++\n"
     ]
    },
    {
     "name": "stderr",
     "output_type": "stream",
     "text": [
      "6932it [00:01, 6205.91it/s]\n"
     ]
    },
    {
     "name": "stdout",
     "output_type": "stream",
     "text": [
      "Start multiprocessing chromosome chr5\n",
      "Finish processing chromosome chr5\n",
      "00:03:26.03\n",
      "Finish saving chromosome chr5.\n",
      "+++++++++++++++++++++++++++++++++++++++++++++++++++++++++++++++++++++++++++\n"
     ]
    },
    {
     "name": "stderr",
     "output_type": "stream",
     "text": [
      "6703it [00:01, 6476.33it/s]\n"
     ]
    },
    {
     "name": "stdout",
     "output_type": "stream",
     "text": [
      "Start multiprocessing chromosome chr6\n",
      "Finish processing chromosome chr6\n",
      "00:02:25.51\n",
      "Finish saving chromosome chr6.\n",
      "+++++++++++++++++++++++++++++++++++++++++++++++++++++++++++++++++++++++++++\n"
     ]
    },
    {
     "name": "stderr",
     "output_type": "stream",
     "text": [
      "6522it [00:00, 6528.53it/s] \n"
     ]
    },
    {
     "name": "stdout",
     "output_type": "stream",
     "text": [
      "Start multiprocessing chromosome chr7\n",
      "Finish processing chromosome chr7\n",
      "00:01:55.53\n",
      "Finish saving chromosome chr7.\n",
      "+++++++++++++++++++++++++++++++++++++++++++++++++++++++++++++++++++++++++++\n"
     ]
    },
    {
     "name": "stderr",
     "output_type": "stream",
     "text": [
      "7000it [00:01, 6685.77it/s]\n"
     ]
    },
    {
     "name": "stdout",
     "output_type": "stream",
     "text": [
      "Start multiprocessing chromosome chr8\n",
      "Finish processing chromosome chr8\n",
      "00:02:20.64\n",
      "Finish saving chromosome chr8.\n",
      "+++++++++++++++++++++++++++++++++++++++++++++++++++++++++++++++++++++++++++\n"
     ]
    },
    {
     "name": "stderr",
     "output_type": "stream",
     "text": [
      "6371it [00:00, 6409.46it/s] \n"
     ]
    },
    {
     "name": "stdout",
     "output_type": "stream",
     "text": [
      "Start multiprocessing chromosome chr9\n",
      "Finish processing chromosome chr9\n",
      "00:01:59.19\n",
      "Finish saving chromosome chr9.\n",
      "+++++++++++++++++++++++++++++++++++++++++++++++++++++++++++++++++++++++++++\n"
     ]
    },
    {
     "name": "stderr",
     "output_type": "stream",
     "text": [
      "4178it [00:00, 9900.48it/s] \n"
     ]
    },
    {
     "name": "stdout",
     "output_type": "stream",
     "text": [
      "Start multiprocessing chromosome chrX\n",
      "Finish processing chromosome chrX\n",
      "00:00:06.20\n",
      "Finish saving chromosome chrX.\n",
      "+++++++++++++++++++++++++++++++++++++++++++++++++++++++++++++++++++++++++++\n"
     ]
    }
   ],
   "source": [
    "# define output folder\n",
    "output_folder = exp_picked_spot_folder.replace(para_subfolder, f'{para_subfolder}_sorted')\n",
    "if not os.path.exists(output_folder):\n",
    "    os.mkdir(output_folder)\n",
    "    print ('Generating output folders')\n",
    "    \n",
    "# loop through all chr h5-df    \n",
    "for fname, chr_df_all in output_df_dict.items():\n",
    "    \n",
    "    output_fname = os.path.join(output_folder, fname)\n",
    "    chosen_chrom = chr_df_all['chr'].values[0]\n",
    "    \n",
    "    chr_df_cell_list = []\n",
    "    # group by celltype, finalcellD\n",
    "    for i, (name, group) in tqdm.tqdm(enumerate(chr_df_all.groupby(by=['celltype','finalcellID']))):\n",
    "        chr_df_cell = copy.deepcopy(group)\n",
    "        chr_df_cell_list.append(chr_df_cell)\n",
    "        \n",
    "    del chr_df_all\n",
    "    print(f'Start multiprocessing chromosome {chosen_chrom}')\n",
    "    start_time = time.time()\n",
    "    with mp.Pool(num_threads) as sort_pool:\n",
    "        _res = sort_pool.starmap(aligner_SL.sort_spots_by_fiber_density, zip(chr_df_cell_list), chunksize=1)\n",
    "        sort_pool.close()\n",
    "        sort_pool.join()\n",
    "        sort_pool.terminate()\n",
    "\n",
    "    elapsed_time = time.time() - start_time\n",
    "    print(f'Finish processing chromosome {chosen_chrom}')\n",
    "    hours, rem = divmod(elapsed_time, 3600)\n",
    "    minutes, seconds = divmod(rem, 60)\n",
    "    print(\"{:0>2}:{:0>2}:{:05.2f}\".format(int(hours),int(minutes),seconds))\n",
    "    \n",
    "    sorted_chr_df_all = pd.concat(_res)\n",
    "    sorted_chr_df_all.to_hdf(output_fname, key='df', mode='w')\n",
    "    #del(sorted_chr_df_all)\n",
    "    print(f'Finish saving chromosome {chosen_chrom}.')\n",
    "    print(f'+++++++++++++++++++++++++++++++++++++++++++++++++++++++++++++++++++++++++++')\n",
    "    \n"
   ]
  },
  {
   "cell_type": "markdown",
   "id": "5929c93c",
   "metadata": {},
   "source": [
    "## Exp 0316"
   ]
  },
  {
   "cell_type": "markdown",
   "id": "e9549209",
   "metadata": {},
   "source": [
    "### load data"
   ]
  },
  {
   "cell_type": "code",
   "execution_count": 38,
   "id": "deccc985",
   "metadata": {},
   "outputs": [
    {
     "data": {
      "text/plain": [
       "'\\\\\\\\10.245.74.158\\\\Chromatin_NAS_8\\\\Exported_data\\\\jie_CW_decode\\\\20220316exp\\\\CW_v2'"
      ]
     },
     "execution_count": 38,
     "metadata": {},
     "output_type": "execute_result"
    }
   ],
   "source": [
    "dna_exp_key= '20220316'\n",
    "\n",
    "# output dict for filename, file\n",
    "output_df_dict = {}\n",
    "\n",
    "exp_picked_spot_folder = [_f for _f in picked_spot_folders if dna_exp_key in _f][0]\n",
    "\n",
    "if os.path.exists(exp_picked_spot_folder):\n",
    "    file_list = [os.path.join(exp_picked_spot_folder, _fl) for _fl in os.listdir(exp_picked_spot_folder) if '.h5' in _fl]\n",
    "    for file in file_list:\n",
    "        output_df_dict[os.path.basename(file)]=pd.read_hdf(file)\n",
    "        \n",
    "exp_picked_spot_folder"
   ]
  },
  {
   "cell_type": "code",
   "execution_count": 39,
   "id": "fcf7d881",
   "metadata": {},
   "outputs": [
    {
     "data": {
      "text/plain": [
       "dict_keys(['20220316exp_pick_chr1.h5', '20220316exp_pick_chr10.h5', '20220316exp_pick_chr11.h5', '20220316exp_pick_chr12.h5', '20220316exp_pick_chr13.h5', '20220316exp_pick_chr14.h5', '20220316exp_pick_chr15.h5', '20220316exp_pick_chr16.h5', '20220316exp_pick_chr17.h5', '20220316exp_pick_chr18.h5', '20220316exp_pick_chr19.h5', '20220316exp_pick_chr2.h5', '20220316exp_pick_chr3.h5', '20220316exp_pick_chr4.h5', '20220316exp_pick_chr5.h5', '20220316exp_pick_chr6.h5', '20220316exp_pick_chr7.h5', '20220316exp_pick_chr8.h5', '20220316exp_pick_chr9.h5', '20220316exp_pick_chrX.h5'])"
      ]
     },
     "execution_count": 39,
     "metadata": {},
     "output_type": "execute_result"
    }
   ],
   "source": [
    "output_df_dict.keys()"
   ]
  },
  {
   "cell_type": "markdown",
   "id": "2970bd61",
   "metadata": {},
   "source": [
    "### process data"
   ]
  },
  {
   "cell_type": "code",
   "execution_count": 40,
   "id": "7084f186",
   "metadata": {},
   "outputs": [
    {
     "name": "stdout",
     "output_type": "stream",
     "text": [
      "Generating output folders\n"
     ]
    },
    {
     "name": "stderr",
     "output_type": "stream",
     "text": [
      "6143it [00:01, 5610.05it/s]\n"
     ]
    },
    {
     "name": "stdout",
     "output_type": "stream",
     "text": [
      "Start multiprocessing chromosome chr1\n",
      "Finish processing chromosome chr1\n",
      "00:03:41.77\n",
      "Finish saving chromosome chr1.\n",
      "+++++++++++++++++++++++++++++++++++++++++++++++++++++++++++++++++++++++++++\n"
     ]
    },
    {
     "name": "stderr",
     "output_type": "stream",
     "text": [
      "6920it [00:00, 7828.06it/s] \n"
     ]
    },
    {
     "name": "stdout",
     "output_type": "stream",
     "text": [
      "Start multiprocessing chromosome chr10\n",
      "Finish processing chromosome chr10\n",
      "00:02:57.56\n",
      "Finish saving chromosome chr10.\n",
      "+++++++++++++++++++++++++++++++++++++++++++++++++++++++++++++++++++++++++++\n"
     ]
    },
    {
     "name": "stderr",
     "output_type": "stream",
     "text": [
      "6198it [00:01, 5665.45it/s]\n"
     ]
    },
    {
     "name": "stdout",
     "output_type": "stream",
     "text": [
      "Start multiprocessing chromosome chr11\n",
      "Finish processing chromosome chr11\n",
      "00:02:08.19\n",
      "Finish saving chromosome chr11.\n",
      "+++++++++++++++++++++++++++++++++++++++++++++++++++++++++++++++++++++++++++\n"
     ]
    },
    {
     "name": "stderr",
     "output_type": "stream",
     "text": [
      "6218it [00:00, 8985.56it/s] \n"
     ]
    },
    {
     "name": "stdout",
     "output_type": "stream",
     "text": [
      "Start multiprocessing chromosome chr12\n",
      "Finish processing chromosome chr12\n",
      "00:01:02.69\n",
      "Finish saving chromosome chr12.\n",
      "+++++++++++++++++++++++++++++++++++++++++++++++++++++++++++++++++++++++++++\n"
     ]
    },
    {
     "name": "stderr",
     "output_type": "stream",
     "text": [
      "6494it [00:00, 8601.32it/s] \n"
     ]
    },
    {
     "name": "stdout",
     "output_type": "stream",
     "text": [
      "Start multiprocessing chromosome chr13\n",
      "Finish processing chromosome chr13\n",
      "00:01:22.49\n",
      "Finish saving chromosome chr13.\n",
      "+++++++++++++++++++++++++++++++++++++++++++++++++++++++++++++++++++++++++++\n"
     ]
    },
    {
     "name": "stderr",
     "output_type": "stream",
     "text": [
      "6242it [00:01, 5716.12it/s]\n"
     ]
    },
    {
     "name": "stdout",
     "output_type": "stream",
     "text": [
      "Start multiprocessing chromosome chr14\n",
      "Finish processing chromosome chr14\n",
      "00:01:17.42\n",
      "Finish saving chromosome chr14.\n",
      "+++++++++++++++++++++++++++++++++++++++++++++++++++++++++++++++++++++++++++\n"
     ]
    },
    {
     "name": "stderr",
     "output_type": "stream",
     "text": [
      "5977it [00:00, 6001.00it/s]\n"
     ]
    },
    {
     "name": "stdout",
     "output_type": "stream",
     "text": [
      "Start multiprocessing chromosome chr15\n",
      "Finish processing chromosome chr15\n",
      "00:01:08.03\n",
      "Finish saving chromosome chr15.\n",
      "+++++++++++++++++++++++++++++++++++++++++++++++++++++++++++++++++++++++++++\n"
     ]
    },
    {
     "name": "stderr",
     "output_type": "stream",
     "text": [
      "5887it [00:00, 9070.89it/s] \n"
     ]
    },
    {
     "name": "stdout",
     "output_type": "stream",
     "text": [
      "Start multiprocessing chromosome chr16\n",
      "Finish processing chromosome chr16\n",
      "00:00:55.37\n",
      "Finish saving chromosome chr16.\n",
      "+++++++++++++++++++++++++++++++++++++++++++++++++++++++++++++++++++++++++++\n"
     ]
    },
    {
     "name": "stderr",
     "output_type": "stream",
     "text": [
      "6013it [00:00, 9265.02it/s] \n"
     ]
    },
    {
     "name": "stdout",
     "output_type": "stream",
     "text": [
      "Start multiprocessing chromosome chr17\n",
      "Finish processing chromosome chr17\n",
      "00:00:55.83\n",
      "Finish saving chromosome chr17.\n",
      "+++++++++++++++++++++++++++++++++++++++++++++++++++++++++++++++++++++++++++\n"
     ]
    },
    {
     "name": "stderr",
     "output_type": "stream",
     "text": [
      "6558it [00:00, 9236.62it/s] \n"
     ]
    },
    {
     "name": "stdout",
     "output_type": "stream",
     "text": [
      "Start multiprocessing chromosome chr18\n",
      "Finish processing chromosome chr18\n",
      "00:00:57.65\n",
      "Finish saving chromosome chr18.\n",
      "+++++++++++++++++++++++++++++++++++++++++++++++++++++++++++++++++++++++++++\n"
     ]
    },
    {
     "name": "stderr",
     "output_type": "stream",
     "text": [
      "6159it [00:00, 9548.83it/s] \n"
     ]
    },
    {
     "name": "stdout",
     "output_type": "stream",
     "text": [
      "Start multiprocessing chromosome chr19\n",
      "Finish processing chromosome chr19\n",
      "00:00:49.00\n",
      "Finish saving chromosome chr19.\n",
      "+++++++++++++++++++++++++++++++++++++++++++++++++++++++++++++++++++++++++++\n"
     ]
    },
    {
     "name": "stderr",
     "output_type": "stream",
     "text": [
      "5914it [00:00, 7562.66it/s]\n"
     ]
    },
    {
     "name": "stdout",
     "output_type": "stream",
     "text": [
      "Start multiprocessing chromosome chr2\n",
      "Finish processing chromosome chr2\n",
      "00:03:29.53\n",
      "Finish saving chromosome chr2.\n",
      "+++++++++++++++++++++++++++++++++++++++++++++++++++++++++++++++++++++++++++\n"
     ]
    },
    {
     "name": "stderr",
     "output_type": "stream",
     "text": [
      "6664it [00:01, 5866.21it/s]\n"
     ]
    },
    {
     "name": "stdout",
     "output_type": "stream",
     "text": [
      "Start multiprocessing chromosome chr3\n",
      "Finish processing chromosome chr3\n",
      "00:02:43.90\n",
      "Finish saving chromosome chr3.\n",
      "+++++++++++++++++++++++++++++++++++++++++++++++++++++++++++++++++++++++++++\n"
     ]
    },
    {
     "name": "stderr",
     "output_type": "stream",
     "text": [
      "6619it [00:01, 5385.68it/s] \n"
     ]
    },
    {
     "name": "stdout",
     "output_type": "stream",
     "text": [
      "Start multiprocessing chromosome chr4\n",
      "Finish processing chromosome chr4\n",
      "00:02:52.81\n",
      "Finish saving chromosome chr4.\n",
      "+++++++++++++++++++++++++++++++++++++++++++++++++++++++++++++++++++++++++++\n"
     ]
    },
    {
     "name": "stderr",
     "output_type": "stream",
     "text": [
      "6281it [00:00, 7950.63it/s] \n"
     ]
    },
    {
     "name": "stdout",
     "output_type": "stream",
     "text": [
      "Start multiprocessing chromosome chr5\n",
      "Finish processing chromosome chr5\n",
      "00:02:34.19\n",
      "Finish saving chromosome chr5.\n",
      "+++++++++++++++++++++++++++++++++++++++++++++++++++++++++++++++++++++++++++\n"
     ]
    },
    {
     "name": "stderr",
     "output_type": "stream",
     "text": [
      "6297it [00:01, 5652.60it/s]\n"
     ]
    },
    {
     "name": "stdout",
     "output_type": "stream",
     "text": [
      "Start multiprocessing chromosome chr6\n",
      "Finish processing chromosome chr6\n",
      "00:02:03.85\n",
      "Finish saving chromosome chr6.\n",
      "+++++++++++++++++++++++++++++++++++++++++++++++++++++++++++++++++++++++++++\n"
     ]
    },
    {
     "name": "stderr",
     "output_type": "stream",
     "text": [
      "5845it [00:00, 8422.19it/s] \n"
     ]
    },
    {
     "name": "stdout",
     "output_type": "stream",
     "text": [
      "Start multiprocessing chromosome chr7\n",
      "Finish processing chromosome chr7\n",
      "00:01:25.21\n",
      "Finish saving chromosome chr7.\n",
      "+++++++++++++++++++++++++++++++++++++++++++++++++++++++++++++++++++++++++++\n"
     ]
    },
    {
     "name": "stderr",
     "output_type": "stream",
     "text": [
      "6665it [00:01, 5672.34it/s]\n"
     ]
    },
    {
     "name": "stdout",
     "output_type": "stream",
     "text": [
      "Start multiprocessing chromosome chr8\n",
      "Finish processing chromosome chr8\n",
      "00:01:55.83\n",
      "Finish saving chromosome chr8.\n",
      "+++++++++++++++++++++++++++++++++++++++++++++++++++++++++++++++++++++++++++\n"
     ]
    },
    {
     "name": "stderr",
     "output_type": "stream",
     "text": [
      "5886it [00:00, 8384.62it/s] \n"
     ]
    },
    {
     "name": "stdout",
     "output_type": "stream",
     "text": [
      "Start multiprocessing chromosome chr9\n",
      "Finish processing chromosome chr9\n",
      "00:01:38.06\n",
      "Finish saving chromosome chr9.\n",
      "+++++++++++++++++++++++++++++++++++++++++++++++++++++++++++++++++++++++++++\n"
     ]
    },
    {
     "name": "stderr",
     "output_type": "stream",
     "text": [
      "2890it [00:00, 4459.88it/s]\n"
     ]
    },
    {
     "name": "stdout",
     "output_type": "stream",
     "text": [
      "Start multiprocessing chromosome chrX\n",
      "Finish processing chromosome chrX\n",
      "00:00:04.90\n",
      "Finish saving chromosome chrX.\n",
      "+++++++++++++++++++++++++++++++++++++++++++++++++++++++++++++++++++++++++++\n"
     ]
    }
   ],
   "source": [
    "# define output folder\n",
    "output_folder = exp_picked_spot_folder.replace(para_subfolder, f'{para_subfolder}_sorted')\n",
    "if not os.path.exists(output_folder):\n",
    "    os.mkdir(output_folder)\n",
    "    print ('Generating output folders')\n",
    "    \n",
    "# loop through all chr h5-df    \n",
    "for fname, chr_df_all in output_df_dict.items():\n",
    "    \n",
    "    output_fname = os.path.join(output_folder, fname)\n",
    "    chosen_chrom = chr_df_all['chr'].values[0]\n",
    "    \n",
    "    chr_df_cell_list = []\n",
    "    # group by celltype, finalcellD\n",
    "    for i, (name, group) in tqdm.tqdm(enumerate(chr_df_all.groupby(by=['celltype','finalcellID']))):\n",
    "        chr_df_cell = copy.deepcopy(group)\n",
    "        chr_df_cell_list.append(chr_df_cell)\n",
    "        \n",
    "    del chr_df_all\n",
    "    print(f'Start multiprocessing chromosome {chosen_chrom}')\n",
    "    start_time = time.time()\n",
    "    with mp.Pool(num_threads) as sort_pool:\n",
    "        _res = sort_pool.starmap(aligner_SL.sort_spots_by_fiber_density, zip(chr_df_cell_list), chunksize=1)\n",
    "        sort_pool.close()\n",
    "        sort_pool.join()\n",
    "        sort_pool.terminate()\n",
    "\n",
    "    elapsed_time = time.time() - start_time\n",
    "    print(f'Finish processing chromosome {chosen_chrom}')\n",
    "    hours, rem = divmod(elapsed_time, 3600)\n",
    "    minutes, seconds = divmod(rem, 60)\n",
    "    print(\"{:0>2}:{:0>2}:{:05.2f}\".format(int(hours),int(minutes),seconds))\n",
    "    \n",
    "    sorted_chr_df_all = pd.concat(_res)\n",
    "    sorted_chr_df_all.to_hdf(output_fname, key='df', mode='w')\n",
    "    #del(sorted_chr_df_all)\n",
    "    print(f'Finish saving chromosome {chosen_chrom}.')\n",
    "    print(f'+++++++++++++++++++++++++++++++++++++++++++++++++++++++++++++++++++++++++++')\n",
    "    \n"
   ]
  },
  {
   "cell_type": "markdown",
   "id": "ddc37524",
   "metadata": {},
   "source": [
    "## Exp 0402"
   ]
  },
  {
   "cell_type": "markdown",
   "id": "23bc7110",
   "metadata": {},
   "source": [
    "### load data"
   ]
  },
  {
   "cell_type": "code",
   "execution_count": 41,
   "id": "d7fe635b",
   "metadata": {},
   "outputs": [
    {
     "data": {
      "text/plain": [
       "'\\\\\\\\10.245.74.158\\\\Chromatin_NAS_8\\\\Exported_data\\\\jie_CW_decode\\\\20220402exp\\\\CW_v2'"
      ]
     },
     "execution_count": 41,
     "metadata": {},
     "output_type": "execute_result"
    }
   ],
   "source": [
    "dna_exp_key= '20220402'\n",
    "\n",
    "# output dict for filename, file\n",
    "output_df_dict = {}\n",
    "\n",
    "exp_picked_spot_folder = [_f for _f in picked_spot_folders if dna_exp_key in _f][0]\n",
    "\n",
    "if os.path.exists(exp_picked_spot_folder):\n",
    "    file_list = [os.path.join(exp_picked_spot_folder, _fl) for _fl in os.listdir(exp_picked_spot_folder) if '.h5' in _fl]\n",
    "    for file in file_list:\n",
    "        output_df_dict[os.path.basename(file)]=pd.read_hdf(file)\n",
    "        \n",
    "exp_picked_spot_folder"
   ]
  },
  {
   "cell_type": "code",
   "execution_count": 42,
   "id": "0a356e1a",
   "metadata": {},
   "outputs": [
    {
     "data": {
      "text/plain": [
       "dict_keys(['20220402exp_pick_chr1.h5', '20220402exp_pick_chr10.h5', '20220402exp_pick_chr11.h5', '20220402exp_pick_chr12.h5', '20220402exp_pick_chr13.h5', '20220402exp_pick_chr14.h5', '20220402exp_pick_chr15.h5', '20220402exp_pick_chr16.h5', '20220402exp_pick_chr17.h5', '20220402exp_pick_chr18.h5', '20220402exp_pick_chr19.h5', '20220402exp_pick_chr2.h5', '20220402exp_pick_chr3.h5', '20220402exp_pick_chr4.h5', '20220402exp_pick_chr5.h5', '20220402exp_pick_chr6.h5', '20220402exp_pick_chr7.h5', '20220402exp_pick_chr8.h5', '20220402exp_pick_chr9.h5', '20220402exp_pick_chrX.h5'])"
      ]
     },
     "execution_count": 42,
     "metadata": {},
     "output_type": "execute_result"
    }
   ],
   "source": [
    "output_df_dict.keys()"
   ]
  },
  {
   "cell_type": "markdown",
   "id": "c334f161",
   "metadata": {},
   "source": [
    "### process data"
   ]
  },
  {
   "cell_type": "code",
   "execution_count": 43,
   "id": "0152efcb",
   "metadata": {},
   "outputs": [
    {
     "name": "stdout",
     "output_type": "stream",
     "text": [
      "Generating output folders\n"
     ]
    },
    {
     "name": "stderr",
     "output_type": "stream",
     "text": [
      "5810it [00:01, 5481.13it/s]\n"
     ]
    },
    {
     "name": "stdout",
     "output_type": "stream",
     "text": [
      "Start multiprocessing chromosome chr1\n",
      "Finish processing chromosome chr1\n",
      "00:04:46.12\n",
      "Finish saving chromosome chr1.\n",
      "+++++++++++++++++++++++++++++++++++++++++++++++++++++++++++++++++++++++++++\n"
     ]
    },
    {
     "name": "stderr",
     "output_type": "stream",
     "text": [
      "6316it [00:00, 7674.36it/s] \n"
     ]
    },
    {
     "name": "stdout",
     "output_type": "stream",
     "text": [
      "Start multiprocessing chromosome chr10\n",
      "Finish processing chromosome chr10\n",
      "00:03:01.71\n",
      "Finish saving chromosome chr10.\n",
      "+++++++++++++++++++++++++++++++++++++++++++++++++++++++++++++++++++++++++++\n"
     ]
    },
    {
     "name": "stderr",
     "output_type": "stream",
     "text": [
      "5817it [00:00, 8090.41it/s]\n"
     ]
    },
    {
     "name": "stdout",
     "output_type": "stream",
     "text": [
      "Start multiprocessing chromosome chr11\n",
      "Finish processing chromosome chr11\n",
      "00:02:32.47\n",
      "Finish saving chromosome chr11.\n",
      "+++++++++++++++++++++++++++++++++++++++++++++++++++++++++++++++++++++++++++\n"
     ]
    },
    {
     "name": "stderr",
     "output_type": "stream",
     "text": [
      "5876it [00:00, 8731.05it/s] \n"
     ]
    },
    {
     "name": "stdout",
     "output_type": "stream",
     "text": [
      "Start multiprocessing chromosome chr12\n",
      "Finish processing chromosome chr12\n",
      "00:01:15.00\n",
      "Finish saving chromosome chr12.\n",
      "+++++++++++++++++++++++++++++++++++++++++++++++++++++++++++++++++++++++++++\n"
     ]
    },
    {
     "name": "stderr",
     "output_type": "stream",
     "text": [
      "5943it [00:00, 8441.76it/s]\n"
     ]
    },
    {
     "name": "stdout",
     "output_type": "stream",
     "text": [
      "Start multiprocessing chromosome chr13\n",
      "Finish processing chromosome chr13\n",
      "00:01:33.39\n",
      "Finish saving chromosome chr13.\n",
      "+++++++++++++++++++++++++++++++++++++++++++++++++++++++++++++++++++++++++++\n"
     ]
    },
    {
     "name": "stderr",
     "output_type": "stream",
     "text": [
      "5702it [00:00, 8447.41it/s] \n"
     ]
    },
    {
     "name": "stdout",
     "output_type": "stream",
     "text": [
      "Start multiprocessing chromosome chr14\n",
      "Finish processing chromosome chr14\n",
      "00:01:30.52\n",
      "Finish saving chromosome chr14.\n",
      "+++++++++++++++++++++++++++++++++++++++++++++++++++++++++++++++++++++++++++\n"
     ]
    },
    {
     "name": "stderr",
     "output_type": "stream",
     "text": [
      "5721it [00:01, 5721.00it/s]\n"
     ]
    },
    {
     "name": "stdout",
     "output_type": "stream",
     "text": [
      "Start multiprocessing chromosome chr15\n",
      "Finish processing chromosome chr15\n",
      "00:01:34.50\n",
      "Finish saving chromosome chr15.\n",
      "+++++++++++++++++++++++++++++++++++++++++++++++++++++++++++++++++++++++++++\n"
     ]
    },
    {
     "name": "stderr",
     "output_type": "stream",
     "text": [
      "5821it [00:00, 5927.70it/s]\n"
     ]
    },
    {
     "name": "stdout",
     "output_type": "stream",
     "text": [
      "Start multiprocessing chromosome chr16\n",
      "Finish processing chromosome chr16\n",
      "00:01:16.15\n",
      "Finish saving chromosome chr16.\n",
      "+++++++++++++++++++++++++++++++++++++++++++++++++++++++++++++++++++++++++++\n"
     ]
    },
    {
     "name": "stderr",
     "output_type": "stream",
     "text": [
      "5534it [00:00, 9101.97it/s] \n"
     ]
    },
    {
     "name": "stdout",
     "output_type": "stream",
     "text": [
      "Start multiprocessing chromosome chr17\n",
      "Finish processing chromosome chr17\n",
      "00:01:05.34\n",
      "Finish saving chromosome chr17.\n",
      "+++++++++++++++++++++++++++++++++++++++++++++++++++++++++++++++++++++++++++\n"
     ]
    },
    {
     "name": "stderr",
     "output_type": "stream",
     "text": [
      "6000it [00:00, 9090.90it/s] \n"
     ]
    },
    {
     "name": "stdout",
     "output_type": "stream",
     "text": [
      "Start multiprocessing chromosome chr18\n",
      "Finish processing chromosome chr18\n",
      "00:01:09.50\n",
      "Finish saving chromosome chr18.\n",
      "+++++++++++++++++++++++++++++++++++++++++++++++++++++++++++++++++++++++++++\n"
     ]
    },
    {
     "name": "stderr",
     "output_type": "stream",
     "text": [
      "5412it [00:00, 9445.02it/s] \n"
     ]
    },
    {
     "name": "stdout",
     "output_type": "stream",
     "text": [
      "Start multiprocessing chromosome chr19\n",
      "Finish processing chromosome chr19\n",
      "00:00:54.04\n",
      "Finish saving chromosome chr19.\n",
      "+++++++++++++++++++++++++++++++++++++++++++++++++++++++++++++++++++++++++++\n"
     ]
    },
    {
     "name": "stderr",
     "output_type": "stream",
     "text": [
      "5499it [00:01, 5158.54it/s]\n"
     ]
    },
    {
     "name": "stdout",
     "output_type": "stream",
     "text": [
      "Start multiprocessing chromosome chr2\n",
      "Finish processing chromosome chr2\n",
      "00:03:48.81\n",
      "Finish saving chromosome chr2.\n",
      "+++++++++++++++++++++++++++++++++++++++++++++++++++++++++++++++++++++++++++\n"
     ]
    },
    {
     "name": "stderr",
     "output_type": "stream",
     "text": [
      "6238it [00:00, 8017.99it/s]\n"
     ]
    },
    {
     "name": "stdout",
     "output_type": "stream",
     "text": [
      "Start multiprocessing chromosome chr3\n",
      "Finish processing chromosome chr3\n",
      "00:03:07.97\n",
      "Finish saving chromosome chr3.\n",
      "+++++++++++++++++++++++++++++++++++++++++++++++++++++++++++++++++++++++++++\n"
     ]
    },
    {
     "name": "stderr",
     "output_type": "stream",
     "text": [
      "6158it [00:01, 5401.75it/s]\n"
     ]
    },
    {
     "name": "stdout",
     "output_type": "stream",
     "text": [
      "Start multiprocessing chromosome chr4\n",
      "Finish processing chromosome chr4\n",
      "00:03:45.86\n",
      "Finish saving chromosome chr4.\n",
      "+++++++++++++++++++++++++++++++++++++++++++++++++++++++++++++++++++++++++++\n"
     ]
    },
    {
     "name": "stderr",
     "output_type": "stream",
     "text": [
      "5847it [00:00, 7713.72it/s]\n"
     ]
    },
    {
     "name": "stdout",
     "output_type": "stream",
     "text": [
      "Start multiprocessing chromosome chr5\n",
      "Finish processing chromosome chr5\n",
      "00:03:08.30\n",
      "Finish saving chromosome chr5.\n",
      "+++++++++++++++++++++++++++++++++++++++++++++++++++++++++++++++++++++++++++\n"
     ]
    },
    {
     "name": "stderr",
     "output_type": "stream",
     "text": [
      "5848it [00:01, 5244.84it/s]\n"
     ]
    },
    {
     "name": "stdout",
     "output_type": "stream",
     "text": [
      "Start multiprocessing chromosome chr6\n",
      "Finish processing chromosome chr6\n",
      "00:02:35.37\n",
      "Finish saving chromosome chr6.\n",
      "+++++++++++++++++++++++++++++++++++++++++++++++++++++++++++++++++++++++++++\n"
     ]
    },
    {
     "name": "stderr",
     "output_type": "stream",
     "text": [
      "5393it [00:00, 5525.63it/s]\n"
     ]
    },
    {
     "name": "stdout",
     "output_type": "stream",
     "text": [
      "Start multiprocessing chromosome chr7\n",
      "Finish processing chromosome chr7\n",
      "00:01:46.47\n",
      "Finish saving chromosome chr7.\n",
      "+++++++++++++++++++++++++++++++++++++++++++++++++++++++++++++++++++++++++++\n"
     ]
    },
    {
     "name": "stderr",
     "output_type": "stream",
     "text": [
      "6056it [00:01, 5681.06it/s]\n"
     ]
    },
    {
     "name": "stdout",
     "output_type": "stream",
     "text": [
      "Start multiprocessing chromosome chr8\n",
      "Finish processing chromosome chr8\n",
      "00:01:59.28\n",
      "Finish saving chromosome chr8.\n",
      "+++++++++++++++++++++++++++++++++++++++++++++++++++++++++++++++++++++++++++\n"
     ]
    },
    {
     "name": "stderr",
     "output_type": "stream",
     "text": [
      "5481it [00:00, 8254.52it/s]\n"
     ]
    },
    {
     "name": "stdout",
     "output_type": "stream",
     "text": [
      "Start multiprocessing chromosome chr9\n",
      "Finish processing chromosome chr9\n",
      "00:02:00.52\n",
      "Finish saving chromosome chr9.\n",
      "+++++++++++++++++++++++++++++++++++++++++++++++++++++++++++++++++++++++++++\n"
     ]
    },
    {
     "name": "stderr",
     "output_type": "stream",
     "text": [
      "4010it [00:00, 9709.44it/s] \n"
     ]
    },
    {
     "name": "stdout",
     "output_type": "stream",
     "text": [
      "Start multiprocessing chromosome chrX\n",
      "Finish processing chromosome chrX\n",
      "00:00:06.21\n",
      "Finish saving chromosome chrX.\n",
      "+++++++++++++++++++++++++++++++++++++++++++++++++++++++++++++++++++++++++++\n"
     ]
    }
   ],
   "source": [
    "# define output folder\n",
    "output_folder = exp_picked_spot_folder.replace(para_subfolder, f'{para_subfolder}_sorted')\n",
    "if not os.path.exists(output_folder):\n",
    "    os.mkdir(output_folder)\n",
    "    print ('Generating output folders')\n",
    "    \n",
    "# loop through all chr h5-df    \n",
    "for fname, chr_df_all in output_df_dict.items():\n",
    "    \n",
    "    output_fname = os.path.join(output_folder, fname)\n",
    "    chosen_chrom = chr_df_all['chr'].values[0]\n",
    "    \n",
    "    chr_df_cell_list = []\n",
    "    # group by celltype, finalcellD\n",
    "    for i, (name, group) in tqdm.tqdm(enumerate(chr_df_all.groupby(by=['celltype','finalcellID']))):\n",
    "        chr_df_cell = copy.deepcopy(group)\n",
    "        chr_df_cell_list.append(chr_df_cell)\n",
    "        \n",
    "    del chr_df_all\n",
    "    print(f'Start multiprocessing chromosome {chosen_chrom}')\n",
    "    start_time = time.time()\n",
    "    with mp.Pool(num_threads) as sort_pool:\n",
    "        _res = sort_pool.starmap(aligner_SL.sort_spots_by_fiber_density, zip(chr_df_cell_list), chunksize=1)\n",
    "        sort_pool.close()\n",
    "        sort_pool.join()\n",
    "        sort_pool.terminate()\n",
    "\n",
    "    elapsed_time = time.time() - start_time\n",
    "    print(f'Finish processing chromosome {chosen_chrom}')\n",
    "    hours, rem = divmod(elapsed_time, 3600)\n",
    "    minutes, seconds = divmod(rem, 60)\n",
    "    print(\"{:0>2}:{:0>2}:{:05.2f}\".format(int(hours),int(minutes),seconds))\n",
    "    \n",
    "    sorted_chr_df_all = pd.concat(_res)\n",
    "    sorted_chr_df_all.to_hdf(output_fname, key='df', mode='w')\n",
    "    #del(sorted_chr_df_all)\n",
    "    print(f'Finish saving chromosome {chosen_chrom}.')\n",
    "    print(f'+++++++++++++++++++++++++++++++++++++++++++++++++++++++++++++++++++++++++++')\n",
    "    \n"
   ]
  },
  {
   "cell_type": "markdown",
   "id": "6f67eee1",
   "metadata": {},
   "source": [
    "## Exp 0419"
   ]
  },
  {
   "cell_type": "markdown",
   "id": "5ecdfbd1",
   "metadata": {},
   "source": [
    "### load data"
   ]
  },
  {
   "cell_type": "code",
   "execution_count": 44,
   "id": "c7f48885",
   "metadata": {},
   "outputs": [
    {
     "data": {
      "text/plain": [
       "'\\\\\\\\10.245.74.158\\\\Chromatin_NAS_8\\\\Exported_data\\\\jie_CW_decode\\\\20220419exp\\\\CW_v2'"
      ]
     },
     "execution_count": 44,
     "metadata": {},
     "output_type": "execute_result"
    }
   ],
   "source": [
    "dna_exp_key= '20220419'\n",
    "\n",
    "# output dict for filename, file\n",
    "output_df_dict = {}\n",
    "\n",
    "exp_picked_spot_folder = [_f for _f in picked_spot_folders if dna_exp_key in _f][0]\n",
    "\n",
    "if os.path.exists(exp_picked_spot_folder):\n",
    "    file_list = [os.path.join(exp_picked_spot_folder, _fl) for _fl in os.listdir(exp_picked_spot_folder) if '.h5' in _fl]\n",
    "    for file in file_list:\n",
    "        output_df_dict[os.path.basename(file)]=pd.read_hdf(file)\n",
    "        \n",
    "exp_picked_spot_folder"
   ]
  },
  {
   "cell_type": "code",
   "execution_count": 45,
   "id": "c006bb9f",
   "metadata": {},
   "outputs": [
    {
     "data": {
      "text/plain": [
       "dict_keys(['20220419exp_pick_chr1.h5', '20220419exp_pick_chr10.h5', '20220419exp_pick_chr11.h5', '20220419exp_pick_chr12.h5', '20220419exp_pick_chr13.h5', '20220419exp_pick_chr14.h5', '20220419exp_pick_chr15.h5', '20220419exp_pick_chr16.h5', '20220419exp_pick_chr17.h5', '20220419exp_pick_chr18.h5', '20220419exp_pick_chr19.h5', '20220419exp_pick_chr2.h5', '20220419exp_pick_chr3.h5', '20220419exp_pick_chr4.h5', '20220419exp_pick_chr5.h5', '20220419exp_pick_chr6.h5', '20220419exp_pick_chr7.h5', '20220419exp_pick_chr8.h5', '20220419exp_pick_chr9.h5', '20220419exp_pick_chrX.h5'])"
      ]
     },
     "execution_count": 45,
     "metadata": {},
     "output_type": "execute_result"
    }
   ],
   "source": [
    "output_df_dict.keys()"
   ]
  },
  {
   "cell_type": "markdown",
   "id": "8d51064b",
   "metadata": {},
   "source": [
    "### process data"
   ]
  },
  {
   "cell_type": "code",
   "execution_count": 46,
   "id": "13467491",
   "metadata": {},
   "outputs": [
    {
     "name": "stdout",
     "output_type": "stream",
     "text": [
      "Generating output folders\n"
     ]
    },
    {
     "name": "stderr",
     "output_type": "stream",
     "text": [
      "6708it [00:01, 5863.63it/s]\n"
     ]
    },
    {
     "name": "stdout",
     "output_type": "stream",
     "text": [
      "Start multiprocessing chromosome chr1\n",
      "Finish processing chromosome chr1\n",
      "00:03:32.80\n",
      "Finish saving chromosome chr1.\n",
      "+++++++++++++++++++++++++++++++++++++++++++++++++++++++++++++++++++++++++++\n"
     ]
    },
    {
     "name": "stderr",
     "output_type": "stream",
     "text": [
      "7443it [00:01, 5846.82it/s]\n"
     ]
    },
    {
     "name": "stdout",
     "output_type": "stream",
     "text": [
      "Start multiprocessing chromosome chr10\n",
      "Finish processing chromosome chr10\n",
      "00:02:27.11\n",
      "Finish saving chromosome chr10.\n",
      "+++++++++++++++++++++++++++++++++++++++++++++++++++++++++++++++++++++++++++\n"
     ]
    },
    {
     "name": "stderr",
     "output_type": "stream",
     "text": [
      "7111it [00:01, 5612.47it/s] \n"
     ]
    },
    {
     "name": "stdout",
     "output_type": "stream",
     "text": [
      "Start multiprocessing chromosome chr11\n",
      "Finish processing chromosome chr11\n",
      "00:02:09.19\n",
      "Finish saving chromosome chr11.\n",
      "+++++++++++++++++++++++++++++++++++++++++++++++++++++++++++++++++++++++++++\n"
     ]
    },
    {
     "name": "stderr",
     "output_type": "stream",
     "text": [
      "6741it [00:01, 6100.45it/s]\n"
     ]
    },
    {
     "name": "stdout",
     "output_type": "stream",
     "text": [
      "Start multiprocessing chromosome chr12\n",
      "Finish processing chromosome chr12\n",
      "00:01:02.78\n",
      "Finish saving chromosome chr12.\n",
      "+++++++++++++++++++++++++++++++++++++++++++++++++++++++++++++++++++++++++++\n"
     ]
    },
    {
     "name": "stderr",
     "output_type": "stream",
     "text": [
      "7029it [00:00, 8699.26it/s] \n"
     ]
    },
    {
     "name": "stdout",
     "output_type": "stream",
     "text": [
      "Start multiprocessing chromosome chr13\n",
      "Finish processing chromosome chr13\n",
      "00:01:21.39\n",
      "Finish saving chromosome chr13.\n",
      "+++++++++++++++++++++++++++++++++++++++++++++++++++++++++++++++++++++++++++\n"
     ]
    },
    {
     "name": "stderr",
     "output_type": "stream",
     "text": [
      "6509it [00:00, 8736.92it/s] \n"
     ]
    },
    {
     "name": "stdout",
     "output_type": "stream",
     "text": [
      "Start multiprocessing chromosome chr14\n",
      "Finish processing chromosome chr14\n",
      "00:01:11.99\n",
      "Finish saving chromosome chr14.\n",
      "+++++++++++++++++++++++++++++++++++++++++++++++++++++++++++++++++++++++++++\n"
     ]
    },
    {
     "name": "stderr",
     "output_type": "stream",
     "text": [
      "6793it [00:01, 6215.00it/s]\n"
     ]
    },
    {
     "name": "stdout",
     "output_type": "stream",
     "text": [
      "Start multiprocessing chromosome chr15\n",
      "Finish processing chromosome chr15\n",
      "00:01:16.92\n",
      "Finish saving chromosome chr15.\n",
      "+++++++++++++++++++++++++++++++++++++++++++++++++++++++++++++++++++++++++++\n"
     ]
    },
    {
     "name": "stderr",
     "output_type": "stream",
     "text": [
      "6582it [00:01, 6016.45it/s]\n"
     ]
    },
    {
     "name": "stdout",
     "output_type": "stream",
     "text": [
      "Start multiprocessing chromosome chr16\n",
      "Finish processing chromosome chr16\n",
      "00:00:58.80\n",
      "Finish saving chromosome chr16.\n",
      "+++++++++++++++++++++++++++++++++++++++++++++++++++++++++++++++++++++++++++\n"
     ]
    },
    {
     "name": "stderr",
     "output_type": "stream",
     "text": [
      "6636it [00:00, 9372.89it/s] \n"
     ]
    },
    {
     "name": "stdout",
     "output_type": "stream",
     "text": [
      "Start multiprocessing chromosome chr17\n",
      "Finish processing chromosome chr17\n",
      "00:00:54.52\n",
      "Finish saving chromosome chr17.\n",
      "+++++++++++++++++++++++++++++++++++++++++++++++++++++++++++++++++++++++++++\n"
     ]
    },
    {
     "name": "stderr",
     "output_type": "stream",
     "text": [
      "6743it [00:00, 9352.32it/s] \n"
     ]
    },
    {
     "name": "stdout",
     "output_type": "stream",
     "text": [
      "Start multiprocessing chromosome chr18\n",
      "Finish processing chromosome chr18\n",
      "00:00:52.64\n",
      "Finish saving chromosome chr18.\n",
      "+++++++++++++++++++++++++++++++++++++++++++++++++++++++++++++++++++++++++++\n"
     ]
    },
    {
     "name": "stderr",
     "output_type": "stream",
     "text": [
      "6686it [00:00, 9634.01it/s] \n"
     ]
    },
    {
     "name": "stdout",
     "output_type": "stream",
     "text": [
      "Start multiprocessing chromosome chr19\n",
      "Finish processing chromosome chr19\n",
      "00:00:50.51\n",
      "Finish saving chromosome chr19.\n",
      "+++++++++++++++++++++++++++++++++++++++++++++++++++++++++++++++++++++++++++\n"
     ]
    },
    {
     "name": "stderr",
     "output_type": "stream",
     "text": [
      "6235it [00:01, 5361.13it/s]\n"
     ]
    },
    {
     "name": "stdout",
     "output_type": "stream",
     "text": [
      "Start multiprocessing chromosome chr2\n",
      "Finish processing chromosome chr2\n",
      "00:02:45.02\n",
      "Finish saving chromosome chr2.\n",
      "+++++++++++++++++++++++++++++++++++++++++++++++++++++++++++++++++++++++++++\n"
     ]
    },
    {
     "name": "stderr",
     "output_type": "stream",
     "text": [
      "7192it [00:00, 8421.57it/s] \n"
     ]
    },
    {
     "name": "stdout",
     "output_type": "stream",
     "text": [
      "Start multiprocessing chromosome chr3\n",
      "Finish processing chromosome chr3\n",
      "00:02:15.41\n",
      "Finish saving chromosome chr3.\n",
      "+++++++++++++++++++++++++++++++++++++++++++++++++++++++++++++++++++++++++++\n"
     ]
    },
    {
     "name": "stderr",
     "output_type": "stream",
     "text": [
      "7379it [00:00, 7968.68it/s] \n"
     ]
    },
    {
     "name": "stdout",
     "output_type": "stream",
     "text": [
      "Start multiprocessing chromosome chr4\n",
      "Finish processing chromosome chr4\n",
      "00:03:02.59\n",
      "Finish saving chromosome chr4.\n",
      "+++++++++++++++++++++++++++++++++++++++++++++++++++++++++++++++++++++++++++\n"
     ]
    },
    {
     "name": "stderr",
     "output_type": "stream",
     "text": [
      "6803it [00:00, 8147.31it/s] \n"
     ]
    },
    {
     "name": "stdout",
     "output_type": "stream",
     "text": [
      "Start multiprocessing chromosome chr5\n",
      "Finish processing chromosome chr5\n",
      "00:02:22.82\n",
      "Finish saving chromosome chr5.\n",
      "+++++++++++++++++++++++++++++++++++++++++++++++++++++++++++++++++++++++++++\n"
     ]
    },
    {
     "name": "stderr",
     "output_type": "stream",
     "text": [
      "6676it [00:00, 8201.48it/s] \n"
     ]
    },
    {
     "name": "stdout",
     "output_type": "stream",
     "text": [
      "Start multiprocessing chromosome chr6\n",
      "Finish processing chromosome chr6\n",
      "00:01:44.96\n",
      "Finish saving chromosome chr6.\n",
      "+++++++++++++++++++++++++++++++++++++++++++++++++++++++++++++++++++++++++++\n"
     ]
    },
    {
     "name": "stderr",
     "output_type": "stream",
     "text": [
      "6527it [00:00, 8691.11it/s] \n"
     ]
    },
    {
     "name": "stdout",
     "output_type": "stream",
     "text": [
      "Start multiprocessing chromosome chr7\n",
      "Finish processing chromosome chr7\n",
      "00:01:31.62\n",
      "Finish saving chromosome chr7.\n",
      "+++++++++++++++++++++++++++++++++++++++++++++++++++++++++++++++++++++++++++\n"
     ]
    },
    {
     "name": "stderr",
     "output_type": "stream",
     "text": [
      "7132it [00:01, 5850.70it/s]\n"
     ]
    },
    {
     "name": "stdout",
     "output_type": "stream",
     "text": [
      "Start multiprocessing chromosome chr8\n",
      "Finish processing chromosome chr8\n",
      "00:01:41.38\n",
      "Finish saving chromosome chr8.\n",
      "+++++++++++++++++++++++++++++++++++++++++++++++++++++++++++++++++++++++++++\n"
     ]
    },
    {
     "name": "stderr",
     "output_type": "stream",
     "text": [
      "6407it [00:00, 8519.95it/s] \n"
     ]
    },
    {
     "name": "stdout",
     "output_type": "stream",
     "text": [
      "Start multiprocessing chromosome chr9\n",
      "Finish processing chromosome chr9\n",
      "00:01:24.33\n",
      "Finish saving chromosome chr9.\n",
      "+++++++++++++++++++++++++++++++++++++++++++++++++++++++++++++++++++++++++++\n"
     ]
    },
    {
     "name": "stderr",
     "output_type": "stream",
     "text": [
      "3203it [00:00, 9795.12it/s] \n"
     ]
    },
    {
     "name": "stdout",
     "output_type": "stream",
     "text": [
      "Start multiprocessing chromosome chrX\n",
      "Finish processing chromosome chrX\n",
      "00:00:05.31\n",
      "Finish saving chromosome chrX.\n",
      "+++++++++++++++++++++++++++++++++++++++++++++++++++++++++++++++++++++++++++\n"
     ]
    }
   ],
   "source": [
    "# define output folder\n",
    "output_folder = exp_picked_spot_folder.replace(para_subfolder, f'{para_subfolder}_sorted')\n",
    "if not os.path.exists(output_folder):\n",
    "    os.mkdir(output_folder)\n",
    "    print ('Generating output folders')\n",
    "    \n",
    "# loop through all chr h5-df    \n",
    "for fname, chr_df_all in output_df_dict.items():\n",
    "    \n",
    "    output_fname = os.path.join(output_folder, fname)\n",
    "    chosen_chrom = chr_df_all['chr'].values[0]\n",
    "    \n",
    "    chr_df_cell_list = []\n",
    "    # group by celltype, finalcellD\n",
    "    for i, (name, group) in tqdm.tqdm(enumerate(chr_df_all.groupby(by=['celltype','finalcellID']))):\n",
    "        chr_df_cell = copy.deepcopy(group)\n",
    "        chr_df_cell_list.append(chr_df_cell)\n",
    "        \n",
    "    del chr_df_all\n",
    "    print(f'Start multiprocessing chromosome {chosen_chrom}')\n",
    "    start_time = time.time()\n",
    "    with mp.Pool(num_threads) as sort_pool:\n",
    "        _res = sort_pool.starmap(aligner_SL.sort_spots_by_fiber_density, zip(chr_df_cell_list), chunksize=1)\n",
    "        sort_pool.close()\n",
    "        sort_pool.join()\n",
    "        sort_pool.terminate()\n",
    "\n",
    "    elapsed_time = time.time() - start_time\n",
    "    print(f'Finish processing chromosome {chosen_chrom}')\n",
    "    hours, rem = divmod(elapsed_time, 3600)\n",
    "    minutes, seconds = divmod(rem, 60)\n",
    "    print(\"{:0>2}:{:0>2}:{:05.2f}\".format(int(hours),int(minutes),seconds))\n",
    "    \n",
    "    sorted_chr_df_all = pd.concat(_res)\n",
    "    sorted_chr_df_all.to_hdf(output_fname, key='df', mode='w')\n",
    "    #del(sorted_chr_df_all)\n",
    "    print(f'Finish saving chromosome {chosen_chrom}.')\n",
    "    print(f'+++++++++++++++++++++++++++++++++++++++++++++++++++++++++++++++++++++++++++')\n",
    "    \n"
   ]
  },
  {
   "cell_type": "code",
   "execution_count": null,
   "id": "bea23295",
   "metadata": {},
   "outputs": [],
   "source": []
  }
 ],
 "metadata": {
  "kernelspec": {
   "display_name": "Python 3 (ipykernel)",
   "language": "python",
   "name": "python3"
  },
  "language_info": {
   "codemirror_mode": {
    "name": "ipython",
    "version": 3
   },
   "file_extension": ".py",
   "mimetype": "text/x-python",
   "name": "python",
   "nbconvert_exporter": "python",
   "pygments_lexer": "ipython3",
   "version": "3.10.8"
  },
  "toc": {
   "base_numbering": 1,
   "nav_menu": {},
   "number_sections": false,
   "sideBar": true,
   "skip_h1_title": false,
   "title_cell": "Table of Contents",
   "title_sidebar": "Contents",
   "toc_cell": false,
   "toc_position": {},
   "toc_section_display": true,
   "toc_window_display": true
  }
 },
 "nbformat": 4,
 "nbformat_minor": 5
}
