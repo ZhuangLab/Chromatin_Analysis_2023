{
 "cells": [
  {
   "cell_type": "markdown",
   "metadata": {},
   "source": [
    "# 1. Import packages\n",
    "\n",
    "The link to get [ImageAnalysis3](https://github.com/zhengpuas47/ImageAnalysis3) \n",
    "\n",
    "or the Zhuang lab archived [source_tools](https://github.com/ZhuangLab/Chromatin_Analysis_2020_cell/tree/master/sequential_tracing/source)"
   ]
  },
  {
   "cell_type": "code",
   "execution_count": 1,
   "metadata": {},
   "outputs": [],
   "source": [
    "import os"
   ]
  },
  {
   "cell_type": "code",
   "execution_count": 2,
   "metadata": {},
   "outputs": [
    {
     "name": "stdout",
     "output_type": "stream",
     "text": [
      "23536\n"
     ]
    }
   ],
   "source": [
    "%run \"C:\\Users\\shiwei\\Documents\\ImageAnalysis3\\required_files\\Startup_py3.py\"\n",
    "sys.path.append(r\"C:\\Users\\shiwei\\Documents\")\n",
    "\n",
    "import ImageAnalysis3 as ia\n",
    "%matplotlib notebook\n",
    "\n",
    "from ImageAnalysis3 import *\n",
    "print(os.getpid())\n",
    "\n",
    "import h5py\n",
    "from ImageAnalysis3.classes import _allowed_kwds\n",
    "import ast\n",
    "\n",
    "import pandas as pd"
   ]
  },
  {
   "cell_type": "markdown",
   "metadata": {},
   "source": [
    "# 2. Load refgen df"
   ]
  },
  {
   "cell_type": "code",
   "execution_count": 3,
   "metadata": {},
   "outputs": [],
   "source": [
    "codebook_folder = r'\\\\10.245.74.158\\Chromatin_NAS_8\\Analyzed_data\\MouseBrain_PostAnalysis'\n",
    "df_refgen_savename = os.path.join(codebook_folder,'refgen_df_for_jie.csv')"
   ]
  },
  {
   "cell_type": "code",
   "execution_count": 4,
   "metadata": {},
   "outputs": [
    {
     "data": {
      "text/html": [
       "<div>\n",
       "<style scoped>\n",
       "    .dataframe tbody tr th:only-of-type {\n",
       "        vertical-align: middle;\n",
       "    }\n",
       "\n",
       "    .dataframe tbody tr th {\n",
       "        vertical-align: top;\n",
       "    }\n",
       "\n",
       "    .dataframe thead th {\n",
       "        text-align: right;\n",
       "    }\n",
       "</style>\n",
       "<table border=\"1\" class=\"dataframe\">\n",
       "  <thead>\n",
       "    <tr style=\"text-align: right;\">\n",
       "      <th></th>\n",
       "      <th>name</th>\n",
       "      <th>id</th>\n",
       "      <th>chr</th>\n",
       "      <th>chr_order</th>\n",
       "      <th>library</th>\n",
       "      <th>dtype</th>\n",
       "      <th>loci_name</th>\n",
       "      <th>start</th>\n",
       "      <th>end</th>\n",
       "      <th>hyb</th>\n",
       "      <th>delta</th>\n",
       "      <th>region_id</th>\n",
       "    </tr>\n",
       "  </thead>\n",
       "  <tbody>\n",
       "    <tr>\n",
       "      <th>0</th>\n",
       "      <td>1:3742742-3759944</td>\n",
       "      <td>1</td>\n",
       "      <td>chr1</td>\n",
       "      <td>0</td>\n",
       "      <td>CTP11</td>\n",
       "      <td>combo</td>\n",
       "      <td>chr1_3742742_3759944</td>\n",
       "      <td>3742742</td>\n",
       "      <td>3759944</td>\n",
       "      <td>0</td>\n",
       "      <td>0</td>\n",
       "      <td>1</td>\n",
       "    </tr>\n",
       "    <tr>\n",
       "      <th>1</th>\n",
       "      <td>1:6245958-6258969</td>\n",
       "      <td>2</td>\n",
       "      <td>chr1</td>\n",
       "      <td>1</td>\n",
       "      <td>CTP11</td>\n",
       "      <td>combo</td>\n",
       "      <td>chr1_6245958_6258969</td>\n",
       "      <td>6245958</td>\n",
       "      <td>6258969</td>\n",
       "      <td>1</td>\n",
       "      <td>2503216</td>\n",
       "      <td>2</td>\n",
       "    </tr>\n",
       "    <tr>\n",
       "      <th>2</th>\n",
       "      <td>1:8740008-8759916</td>\n",
       "      <td>3</td>\n",
       "      <td>chr1</td>\n",
       "      <td>2</td>\n",
       "      <td>CTP11</td>\n",
       "      <td>combo</td>\n",
       "      <td>chr1_8740008_8759916</td>\n",
       "      <td>8740008</td>\n",
       "      <td>8759916</td>\n",
       "      <td>2</td>\n",
       "      <td>4997266</td>\n",
       "      <td>3</td>\n",
       "    </tr>\n",
       "    <tr>\n",
       "      <th>3</th>\n",
       "      <td>1:9627926-9637875</td>\n",
       "      <td>1</td>\n",
       "      <td>chr1</td>\n",
       "      <td>3</td>\n",
       "      <td>CTP13</td>\n",
       "      <td>combo</td>\n",
       "      <td>chr1_9627926_9637875</td>\n",
       "      <td>9627926</td>\n",
       "      <td>9637875</td>\n",
       "      <td>3</td>\n",
       "      <td>5885184</td>\n",
       "      <td>4</td>\n",
       "    </tr>\n",
       "    <tr>\n",
       "      <th>4</th>\n",
       "      <td>1:9799472-9811359</td>\n",
       "      <td>2</td>\n",
       "      <td>chr1</td>\n",
       "      <td>4</td>\n",
       "      <td>CTP13</td>\n",
       "      <td>combo</td>\n",
       "      <td>chr1_9799472_9811359</td>\n",
       "      <td>9799472</td>\n",
       "      <td>9811359</td>\n",
       "      <td>4</td>\n",
       "      <td>6056730</td>\n",
       "      <td>5</td>\n",
       "    </tr>\n",
       "    <tr>\n",
       "      <th>...</th>\n",
       "      <td>...</td>\n",
       "      <td>...</td>\n",
       "      <td>...</td>\n",
       "      <td>...</td>\n",
       "      <td>...</td>\n",
       "      <td>...</td>\n",
       "      <td>...</td>\n",
       "      <td>...</td>\n",
       "      <td>...</td>\n",
       "      <td>...</td>\n",
       "      <td>...</td>\n",
       "      <td>...</td>\n",
       "    </tr>\n",
       "    <tr>\n",
       "      <th>1977</th>\n",
       "      <td>X:166247682-166259932</td>\n",
       "      <td>1059</td>\n",
       "      <td>chrX</td>\n",
       "      <td>60</td>\n",
       "      <td>CTP11</td>\n",
       "      <td>combo</td>\n",
       "      <td>chrX_166247682_166259932</td>\n",
       "      <td>166247682</td>\n",
       "      <td>166259932</td>\n",
       "      <td>60</td>\n",
       "      <td>159996393</td>\n",
       "      <td>1978</td>\n",
       "    </tr>\n",
       "    <tr>\n",
       "      <th>1978</th>\n",
       "      <td>X:167157164-167167452</td>\n",
       "      <td>990</td>\n",
       "      <td>chrX</td>\n",
       "      <td>61</td>\n",
       "      <td>CTP13</td>\n",
       "      <td>combo</td>\n",
       "      <td>chrX_167157164_167167452</td>\n",
       "      <td>167157164</td>\n",
       "      <td>167167452</td>\n",
       "      <td>61</td>\n",
       "      <td>160905875</td>\n",
       "      <td>1979</td>\n",
       "    </tr>\n",
       "    <tr>\n",
       "      <th>1979</th>\n",
       "      <td>X:168746045-168757590</td>\n",
       "      <td>1060</td>\n",
       "      <td>chrX</td>\n",
       "      <td>62</td>\n",
       "      <td>CTP11</td>\n",
       "      <td>combo</td>\n",
       "      <td>chrX_168746045_168757590</td>\n",
       "      <td>168746045</td>\n",
       "      <td>168757590</td>\n",
       "      <td>62</td>\n",
       "      <td>162494756</td>\n",
       "      <td>1980</td>\n",
       "    </tr>\n",
       "    <tr>\n",
       "      <th>1980</th>\n",
       "      <td>X:169963295-170005197</td>\n",
       "      <td>991</td>\n",
       "      <td>chrX</td>\n",
       "      <td>63</td>\n",
       "      <td>CTP13</td>\n",
       "      <td>combo</td>\n",
       "      <td>chrX_169963295_170005197</td>\n",
       "      <td>169963295</td>\n",
       "      <td>170005197</td>\n",
       "      <td>63</td>\n",
       "      <td>163712006</td>\n",
       "      <td>1981</td>\n",
       "    </tr>\n",
       "    <tr>\n",
       "      <th>1981</th>\n",
       "      <td>Y:1245775-1259992</td>\n",
       "      <td>1062</td>\n",
       "      <td>chrY</td>\n",
       "      <td>0</td>\n",
       "      <td>CTP11</td>\n",
       "      <td>combo</td>\n",
       "      <td>chrY_1245775_1259992</td>\n",
       "      <td>1245775</td>\n",
       "      <td>1259992</td>\n",
       "      <td>0</td>\n",
       "      <td>0</td>\n",
       "      <td>1982</td>\n",
       "    </tr>\n",
       "  </tbody>\n",
       "</table>\n",
       "<p>1982 rows × 12 columns</p>\n",
       "</div>"
      ],
      "text/plain": [
       "                       name    id   chr  chr_order library  dtype  \\\n",
       "0         1:3742742-3759944     1  chr1          0   CTP11  combo   \n",
       "1         1:6245958-6258969     2  chr1          1   CTP11  combo   \n",
       "2         1:8740008-8759916     3  chr1          2   CTP11  combo   \n",
       "3         1:9627926-9637875     1  chr1          3   CTP13  combo   \n",
       "4         1:9799472-9811359     2  chr1          4   CTP13  combo   \n",
       "...                     ...   ...   ...        ...     ...    ...   \n",
       "1977  X:166247682-166259932  1059  chrX         60   CTP11  combo   \n",
       "1978  X:167157164-167167452   990  chrX         61   CTP13  combo   \n",
       "1979  X:168746045-168757590  1060  chrX         62   CTP11  combo   \n",
       "1980  X:169963295-170005197   991  chrX         63   CTP13  combo   \n",
       "1981      Y:1245775-1259992  1062  chrY          0   CTP11  combo   \n",
       "\n",
       "                     loci_name      start        end  hyb      delta  \\\n",
       "0         chr1_3742742_3759944    3742742    3759944    0          0   \n",
       "1         chr1_6245958_6258969    6245958    6258969    1    2503216   \n",
       "2         chr1_8740008_8759916    8740008    8759916    2    4997266   \n",
       "3         chr1_9627926_9637875    9627926    9637875    3    5885184   \n",
       "4         chr1_9799472_9811359    9799472    9811359    4    6056730   \n",
       "...                        ...        ...        ...  ...        ...   \n",
       "1977  chrX_166247682_166259932  166247682  166259932   60  159996393   \n",
       "1978  chrX_167157164_167167452  167157164  167167452   61  160905875   \n",
       "1979  chrX_168746045_168757590  168746045  168757590   62  162494756   \n",
       "1980  chrX_169963295_170005197  169963295  170005197   63  163712006   \n",
       "1981      chrY_1245775_1259992    1245775    1259992    0          0   \n",
       "\n",
       "      region_id  \n",
       "0             1  \n",
       "1             2  \n",
       "2             3  \n",
       "3             4  \n",
       "4             5  \n",
       "...         ...  \n",
       "1977       1978  \n",
       "1978       1979  \n",
       "1979       1980  \n",
       "1980       1981  \n",
       "1981       1982  \n",
       "\n",
       "[1982 rows x 12 columns]"
      ]
     },
     "execution_count": 4,
     "metadata": {},
     "output_type": "execute_result"
    }
   ],
   "source": [
    "df_refgen=pd.read_csv(df_refgen_savename,index_col=0)\n",
    "df_refgen['chr'] = df_refgen['chr'].apply(lambda x: 'chr'+x)\n",
    "df_refgen"
   ]
  },
  {
   "cell_type": "code",
   "execution_count": null,
   "metadata": {},
   "outputs": [],
   "source": []
  },
  {
   "cell_type": "markdown",
   "metadata": {},
   "source": [
    "# 3. Prepare candidate spots"
   ]
  },
  {
   "cell_type": "code",
   "execution_count": 5,
   "metadata": {},
   "outputs": [],
   "source": [
    "decode_main_folder = r'\\\\10.245.74.158\\Chromatin_NAS_8\\Exported_data'\n",
    "decode_exp_folder = os.path.join(decode_main_folder,'20220402-Export_new_v2')"
   ]
  },
  {
   "cell_type": "raw",
   "metadata": {},
   "source": [
    "## Inspect one fov"
   ]
  },
  {
   "cell_type": "raw",
   "metadata": {},
   "source": [
    "fov_id = 0\n",
    "#cell_id = 0\n",
    "file_name_format = 'Decoded_Fov-' + str(fov_id) + '.hdf5'\n",
    "file_name = os.path.join(decode_exp_folder, file_name_format)\n",
    "print(file_name)\n",
    "os.path.exists(file_name)"
   ]
  },
  {
   "cell_type": "raw",
   "metadata": {},
   "source": [
    "import h5py\n",
    "with h5py.File(file_name, \"r\") as f:\n",
    "    # Print all root level object names (aka keys) \n",
    "    # these can be group or dataset names \n",
    "    print(\"Keys: %s\" % f.keys())\n",
    "    cell_key_list = list(f.keys())"
   ]
  },
  {
   "cell_type": "raw",
   "metadata": {},
   "source": [
    "coords_df = pd.read_hdf(file_name, 'Cell-108')\n",
    "coords_df"
   ]
  },
  {
   "cell_type": "raw",
   "metadata": {},
   "source": [
    "coords_df[coords_df['codebook_name']=='CTP12tss'].head()"
   ]
  },
  {
   "cell_type": "markdown",
   "metadata": {},
   "source": [
    "## Process all fov"
   ]
  },
  {
   "cell_type": "markdown",
   "metadata": {},
   "source": [
    "### shared params"
   ]
  },
  {
   "cell_type": "code",
   "execution_count": 6,
   "metadata": {},
   "outputs": [],
   "source": [
    "pixel_z, pixel_x, pixel_y = 250, 108, 108"
   ]
  },
  {
   "cell_type": "code",
   "execution_count": 7,
   "metadata": {},
   "outputs": [],
   "source": [
    "from tqdm import tqdm"
   ]
  },
  {
   "cell_type": "code",
   "execution_count": 8,
   "metadata": {},
   "outputs": [],
   "source": [
    "# map info from df_ref_gen to coords; hyb should be the same as chromosome order\n",
    "geneID_to_hyb = {name:hyb for name, hyb in zip(df_refgen['name'], df_refgen['hyb'])}    \n",
    "\n",
    "def map_to_hyb(gene_name):\n",
    "    return geneID_to_hyb[gene_name]"
   ]
  },
  {
   "cell_type": "code",
   "execution_count": 9,
   "metadata": {},
   "outputs": [
    {
     "data": {
      "text/plain": [
       "11.328784332"
      ]
     },
     "execution_count": 9,
     "metadata": {},
     "output_type": "execute_result"
    }
   ],
   "source": [
    "4240.806192/pixel_x\n",
    "123492.8160/pixel_y\n",
    "5762.010083/pixel_z\n",
    "2832.196083/pixel_z"
   ]
  },
  {
   "cell_type": "code",
   "execution_count": 10,
   "metadata": {},
   "outputs": [
    {
     "data": {
      "text/plain": [
       "['\\\\\\\\10.245.74.158\\\\Chromatin_NAS_8\\\\Exported_data\\\\20220402-Export_new_v2\\\\Decoded_Fov-0.hdf5',\n",
       " '\\\\\\\\10.245.74.158\\\\Chromatin_NAS_8\\\\Exported_data\\\\20220402-Export_new_v2\\\\Decoded_Fov-1.hdf5',\n",
       " '\\\\\\\\10.245.74.158\\\\Chromatin_NAS_8\\\\Exported_data\\\\20220402-Export_new_v2\\\\Decoded_Fov-10.hdf5']"
      ]
     },
     "execution_count": 10,
     "metadata": {},
     "output_type": "execute_result"
    }
   ],
   "source": [
    "decoded_file_list = [os.path.join(decode_exp_folder, _fl) for _fl in os.listdir(decode_exp_folder) if '.hdf5' in _fl]\n",
    "decoded_file_list[:3]"
   ]
  },
  {
   "cell_type": "markdown",
   "metadata": {},
   "source": [
    "### start process"
   ]
  },
  {
   "cell_type": "code",
   "execution_count": 11,
   "metadata": {},
   "outputs": [],
   "source": [
    "df_list = []\n",
    "# ini file counter\n",
    "file_counts = np.full((len(decoded_file_list),), False)\n",
    "original_length_list = []\n",
    "final_length_list = []\n",
    "cell_ids_list = []"
   ]
  },
  {
   "cell_type": "code",
   "execution_count": 12,
   "metadata": {},
   "outputs": [
    {
     "name": "stderr",
     "output_type": "stream",
     "text": [
      "1it [00:01,  1.09s/it]"
     ]
    },
    {
     "name": "stdout",
     "output_type": "stream",
     "text": [
      "finishing processing \\\\10.245.74.158\\Chromatin_NAS_8\\Exported_data\\20220402-Export_new_v2\\Decoded_Fov-0.hdf5\n",
      "31938 is kept out of 31938\n"
     ]
    },
    {
     "name": "stderr",
     "output_type": "stream",
     "text": [
      "\r\n",
      "2it [00:04,  2.73s/it]"
     ]
    },
    {
     "name": "stdout",
     "output_type": "stream",
     "text": [
      "finishing processing \\\\10.245.74.158\\Chromatin_NAS_8\\Exported_data\\20220402-Export_new_v2\\Decoded_Fov-1.hdf5\n",
      "382421 is kept out of 382421\n"
     ]
    },
    {
     "name": "stderr",
     "output_type": "stream",
     "text": [
      "\r\n",
      "3it [00:11,  4.38s/it]"
     ]
    },
    {
     "name": "stdout",
     "output_type": "stream",
     "text": [
      "finishing processing \\\\10.245.74.158\\Chromatin_NAS_8\\Exported_data\\20220402-Export_new_v2\\Decoded_Fov-10.hdf5\n",
      "459275 is kept out of 459275\n"
     ]
    },
    {
     "name": "stderr",
     "output_type": "stream",
     "text": [
      "\r\n",
      "4it [00:14,  3.97s/it]"
     ]
    },
    {
     "name": "stdout",
     "output_type": "stream",
     "text": [
      "finishing processing \\\\10.245.74.158\\Chromatin_NAS_8\\Exported_data\\20220402-Export_new_v2\\Decoded_Fov-100.hdf5\n",
      "272741 is kept out of 272741\n"
     ]
    },
    {
     "name": "stderr",
     "output_type": "stream",
     "text": [
      "\r\n",
      "5it [00:19,  4.14s/it]"
     ]
    },
    {
     "name": "stdout",
     "output_type": "stream",
     "text": [
      "finishing processing \\\\10.245.74.158\\Chromatin_NAS_8\\Exported_data\\20220402-Export_new_v2\\Decoded_Fov-101.hdf5\n",
      "345180 is kept out of 345180\n"
     ]
    },
    {
     "name": "stderr",
     "output_type": "stream",
     "text": [
      "\r\n",
      "6it [00:24,  4.55s/it]"
     ]
    },
    {
     "name": "stdout",
     "output_type": "stream",
     "text": [
      "finishing processing \\\\10.245.74.158\\Chromatin_NAS_8\\Exported_data\\20220402-Export_new_v2\\Decoded_Fov-102.hdf5\n",
      "369079 is kept out of 369079\n"
     ]
    },
    {
     "name": "stderr",
     "output_type": "stream",
     "text": [
      "\r\n",
      "7it [00:27,  4.18s/it]"
     ]
    },
    {
     "name": "stdout",
     "output_type": "stream",
     "text": [
      "finishing processing \\\\10.245.74.158\\Chromatin_NAS_8\\Exported_data\\20220402-Export_new_v2\\Decoded_Fov-103.hdf5\n",
      "338838 is kept out of 338838\n"
     ]
    },
    {
     "name": "stderr",
     "output_type": "stream",
     "text": [
      "\r\n",
      "8it [00:31,  4.10s/it]"
     ]
    },
    {
     "name": "stdout",
     "output_type": "stream",
     "text": [
      "finishing processing \\\\10.245.74.158\\Chromatin_NAS_8\\Exported_data\\20220402-Export_new_v2\\Decoded_Fov-104.hdf5\n",
      "330350 is kept out of 330350\n"
     ]
    },
    {
     "name": "stderr",
     "output_type": "stream",
     "text": [
      "\r\n",
      "9it [00:35,  4.03s/it]"
     ]
    },
    {
     "name": "stdout",
     "output_type": "stream",
     "text": [
      "finishing processing \\\\10.245.74.158\\Chromatin_NAS_8\\Exported_data\\20220402-Export_new_v2\\Decoded_Fov-105.hdf5\n",
      "311578 is kept out of 311578\n"
     ]
    },
    {
     "name": "stderr",
     "output_type": "stream",
     "text": [
      "\r\n",
      "10it [00:40,  4.21s/it]"
     ]
    },
    {
     "name": "stdout",
     "output_type": "stream",
     "text": [
      "finishing processing \\\\10.245.74.158\\Chromatin_NAS_8\\Exported_data\\20220402-Export_new_v2\\Decoded_Fov-106.hdf5\n",
      "389342 is kept out of 389342\n"
     ]
    },
    {
     "name": "stderr",
     "output_type": "stream",
     "text": [
      "\r\n",
      "11it [00:44,  4.15s/it]"
     ]
    },
    {
     "name": "stdout",
     "output_type": "stream",
     "text": [
      "finishing processing \\\\10.245.74.158\\Chromatin_NAS_8\\Exported_data\\20220402-Export_new_v2\\Decoded_Fov-107.hdf5\n",
      "350089 is kept out of 350089\n"
     ]
    },
    {
     "name": "stderr",
     "output_type": "stream",
     "text": [
      "\r\n",
      "12it [00:47,  3.86s/it]"
     ]
    },
    {
     "name": "stdout",
     "output_type": "stream",
     "text": [
      "finishing processing \\\\10.245.74.158\\Chromatin_NAS_8\\Exported_data\\20220402-Export_new_v2\\Decoded_Fov-108.hdf5\n",
      "314645 is kept out of 314645\n"
     ]
    },
    {
     "name": "stderr",
     "output_type": "stream",
     "text": [
      "\r\n",
      "13it [00:52,  4.14s/it]"
     ]
    },
    {
     "name": "stdout",
     "output_type": "stream",
     "text": [
      "finishing processing \\\\10.245.74.158\\Chromatin_NAS_8\\Exported_data\\20220402-Export_new_v2\\Decoded_Fov-109.hdf5\n",
      "403108 is kept out of 403108\n"
     ]
    },
    {
     "name": "stderr",
     "output_type": "stream",
     "text": [
      "\r\n",
      "14it [00:58,  4.90s/it]"
     ]
    },
    {
     "name": "stdout",
     "output_type": "stream",
     "text": [
      "finishing processing \\\\10.245.74.158\\Chromatin_NAS_8\\Exported_data\\20220402-Export_new_v2\\Decoded_Fov-11.hdf5\n",
      "448977 is kept out of 448977\n"
     ]
    },
    {
     "name": "stderr",
     "output_type": "stream",
     "text": [
      "\r\n",
      "15it [01:05,  5.42s/it]"
     ]
    },
    {
     "name": "stdout",
     "output_type": "stream",
     "text": [
      "finishing processing \\\\10.245.74.158\\Chromatin_NAS_8\\Exported_data\\20220402-Export_new_v2\\Decoded_Fov-110.hdf5\n",
      "491517 is kept out of 491517\n"
     ]
    },
    {
     "name": "stderr",
     "output_type": "stream",
     "text": [
      "\r\n",
      "16it [01:10,  5.40s/it]"
     ]
    },
    {
     "name": "stdout",
     "output_type": "stream",
     "text": [
      "finishing processing \\\\10.245.74.158\\Chromatin_NAS_8\\Exported_data\\20220402-Export_new_v2\\Decoded_Fov-111.hdf5\n",
      "471859 is kept out of 471859\n"
     ]
    },
    {
     "name": "stderr",
     "output_type": "stream",
     "text": [
      "\r\n",
      "17it [01:16,  5.34s/it]"
     ]
    },
    {
     "name": "stdout",
     "output_type": "stream",
     "text": [
      "finishing processing \\\\10.245.74.158\\Chromatin_NAS_8\\Exported_data\\20220402-Export_new_v2\\Decoded_Fov-112.hdf5\n",
      "481471 is kept out of 481471\n"
     ]
    },
    {
     "name": "stderr",
     "output_type": "stream",
     "text": [
      "\r\n",
      "18it [01:22,  5.67s/it]"
     ]
    },
    {
     "name": "stdout",
     "output_type": "stream",
     "text": [
      "finishing processing \\\\10.245.74.158\\Chromatin_NAS_8\\Exported_data\\20220402-Export_new_v2\\Decoded_Fov-113.hdf5\n",
      "495024 is kept out of 495024\n"
     ]
    },
    {
     "name": "stderr",
     "output_type": "stream",
     "text": [
      "\r\n",
      "19it [01:28,  5.80s/it]"
     ]
    },
    {
     "name": "stdout",
     "output_type": "stream",
     "text": [
      "finishing processing \\\\10.245.74.158\\Chromatin_NAS_8\\Exported_data\\20220402-Export_new_v2\\Decoded_Fov-114.hdf5\n",
      "616476 is kept out of 616476\n"
     ]
    },
    {
     "name": "stderr",
     "output_type": "stream",
     "text": [
      "\r\n",
      "20it [01:34,  5.80s/it]"
     ]
    },
    {
     "name": "stdout",
     "output_type": "stream",
     "text": [
      "finishing processing \\\\10.245.74.158\\Chromatin_NAS_8\\Exported_data\\20220402-Export_new_v2\\Decoded_Fov-115.hdf5\n",
      "513385 is kept out of 513385\n"
     ]
    },
    {
     "name": "stderr",
     "output_type": "stream",
     "text": [
      "\r\n",
      "21it [01:38,  5.41s/it]"
     ]
    },
    {
     "name": "stdout",
     "output_type": "stream",
     "text": [
      "finishing processing \\\\10.245.74.158\\Chromatin_NAS_8\\Exported_data\\20220402-Export_new_v2\\Decoded_Fov-116.hdf5\n",
      "423865 is kept out of 423865\n"
     ]
    },
    {
     "name": "stderr",
     "output_type": "stream",
     "text": [
      "\r\n",
      "22it [01:43,  5.25s/it]"
     ]
    },
    {
     "name": "stdout",
     "output_type": "stream",
     "text": [
      "finishing processing \\\\10.245.74.158\\Chromatin_NAS_8\\Exported_data\\20220402-Export_new_v2\\Decoded_Fov-117.hdf5\n",
      "453499 is kept out of 453499\n"
     ]
    },
    {
     "name": "stderr",
     "output_type": "stream",
     "text": [
      "\r\n",
      "23it [01:47,  4.92s/it]"
     ]
    },
    {
     "name": "stdout",
     "output_type": "stream",
     "text": [
      "finishing processing \\\\10.245.74.158\\Chromatin_NAS_8\\Exported_data\\20220402-Export_new_v2\\Decoded_Fov-118.hdf5\n",
      "440139 is kept out of 440139\n"
     ]
    },
    {
     "name": "stderr",
     "output_type": "stream",
     "text": [
      "\r\n",
      "24it [01:52,  4.92s/it]"
     ]
    },
    {
     "name": "stdout",
     "output_type": "stream",
     "text": [
      "finishing processing \\\\10.245.74.158\\Chromatin_NAS_8\\Exported_data\\20220402-Export_new_v2\\Decoded_Fov-119.hdf5\n",
      "580061 is kept out of 580061\n"
     ]
    },
    {
     "name": "stderr",
     "output_type": "stream",
     "text": [
      "\r\n",
      "25it [01:58,  5.14s/it]"
     ]
    },
    {
     "name": "stdout",
     "output_type": "stream",
     "text": [
      "finishing processing \\\\10.245.74.158\\Chromatin_NAS_8\\Exported_data\\20220402-Export_new_v2\\Decoded_Fov-12.hdf5\n",
      "415579 is kept out of 415579\n"
     ]
    },
    {
     "name": "stderr",
     "output_type": "stream",
     "text": [
      "\r\n",
      "26it [02:04,  5.25s/it]"
     ]
    },
    {
     "name": "stdout",
     "output_type": "stream",
     "text": [
      "finishing processing \\\\10.245.74.158\\Chromatin_NAS_8\\Exported_data\\20220402-Export_new_v2\\Decoded_Fov-120.hdf5\n",
      "623778 is kept out of 623778\n"
     ]
    },
    {
     "name": "stderr",
     "output_type": "stream",
     "text": [
      "\r\n",
      "27it [02:07,  4.58s/it]"
     ]
    },
    {
     "name": "stdout",
     "output_type": "stream",
     "text": [
      "finishing processing \\\\10.245.74.158\\Chromatin_NAS_8\\Exported_data\\20220402-Export_new_v2\\Decoded_Fov-122.hdf5\n",
      "230971 is kept out of 230971\n"
     ]
    },
    {
     "name": "stderr",
     "output_type": "stream",
     "text": [
      "\r\n",
      "28it [02:09,  3.87s/it]"
     ]
    },
    {
     "name": "stdout",
     "output_type": "stream",
     "text": [
      "finishing processing \\\\10.245.74.158\\Chromatin_NAS_8\\Exported_data\\20220402-Export_new_v2\\Decoded_Fov-123.hdf5\n",
      "181160 is kept out of 181160\n"
     ]
    },
    {
     "name": "stderr",
     "output_type": "stream",
     "text": [
      "30it [02:10,  2.07s/it]"
     ]
    },
    {
     "name": "stdout",
     "output_type": "stream",
     "text": [
      "finishing processing \\\\10.245.74.158\\Chromatin_NAS_8\\Exported_data\\20220402-Export_new_v2\\Decoded_Fov-124.hdf5\n",
      "46551 is kept out of 46551\n",
      "finishing processing \\\\10.245.74.158\\Chromatin_NAS_8\\Exported_data\\20220402-Export_new_v2\\Decoded_Fov-125.hdf5\n",
      "5943 is kept out of 5943\n"
     ]
    },
    {
     "name": "stderr",
     "output_type": "stream",
     "text": [
      "\r\n",
      "31it [02:12,  2.07s/it]"
     ]
    },
    {
     "name": "stdout",
     "output_type": "stream",
     "text": [
      "finishing processing \\\\10.245.74.158\\Chromatin_NAS_8\\Exported_data\\20220402-Export_new_v2\\Decoded_Fov-126.hdf5\n",
      "146718 is kept out of 146718\n"
     ]
    },
    {
     "name": "stderr",
     "output_type": "stream",
     "text": [
      "\r\n",
      "32it [02:15,  2.45s/it]"
     ]
    },
    {
     "name": "stdout",
     "output_type": "stream",
     "text": [
      "finishing processing \\\\10.245.74.158\\Chromatin_NAS_8\\Exported_data\\20220402-Export_new_v2\\Decoded_Fov-127.hdf5\n",
      "269688 is kept out of 269688\n"
     ]
    },
    {
     "name": "stderr",
     "output_type": "stream",
     "text": [
      "\r\n",
      "33it [02:19,  2.92s/it]"
     ]
    },
    {
     "name": "stdout",
     "output_type": "stream",
     "text": [
      "finishing processing \\\\10.245.74.158\\Chromatin_NAS_8\\Exported_data\\20220402-Export_new_v2\\Decoded_Fov-128.hdf5\n",
      "310608 is kept out of 310608\n"
     ]
    },
    {
     "name": "stderr",
     "output_type": "stream",
     "text": [
      "\r\n",
      "34it [02:25,  3.74s/it]"
     ]
    },
    {
     "name": "stdout",
     "output_type": "stream",
     "text": [
      "finishing processing \\\\10.245.74.158\\Chromatin_NAS_8\\Exported_data\\20220402-Export_new_v2\\Decoded_Fov-129.hdf5\n",
      "352913 is kept out of 352913\n"
     ]
    },
    {
     "name": "stderr",
     "output_type": "stream",
     "text": [
      "\r\n",
      "35it [02:30,  4.25s/it]"
     ]
    },
    {
     "name": "stdout",
     "output_type": "stream",
     "text": [
      "finishing processing \\\\10.245.74.158\\Chromatin_NAS_8\\Exported_data\\20220402-Export_new_v2\\Decoded_Fov-13.hdf5\n",
      "404905 is kept out of 404905\n"
     ]
    },
    {
     "name": "stderr",
     "output_type": "stream",
     "text": [
      "\r\n",
      "36it [02:33,  3.96s/it]"
     ]
    },
    {
     "name": "stdout",
     "output_type": "stream",
     "text": [
      "finishing processing \\\\10.245.74.158\\Chromatin_NAS_8\\Exported_data\\20220402-Export_new_v2\\Decoded_Fov-130.hdf5\n",
      "300628 is kept out of 300628\n"
     ]
    },
    {
     "name": "stderr",
     "output_type": "stream",
     "text": [
      "\r\n",
      "37it [02:37,  3.91s/it]"
     ]
    },
    {
     "name": "stdout",
     "output_type": "stream",
     "text": [
      "finishing processing \\\\10.245.74.158\\Chromatin_NAS_8\\Exported_data\\20220402-Export_new_v2\\Decoded_Fov-131.hdf5\n",
      "344355 is kept out of 344355\n"
     ]
    },
    {
     "name": "stderr",
     "output_type": "stream",
     "text": [
      "\r\n",
      "38it [02:40,  3.70s/it]"
     ]
    },
    {
     "name": "stdout",
     "output_type": "stream",
     "text": [
      "finishing processing \\\\10.245.74.158\\Chromatin_NAS_8\\Exported_data\\20220402-Export_new_v2\\Decoded_Fov-132.hdf5\n",
      "277204 is kept out of 277204\n"
     ]
    },
    {
     "name": "stderr",
     "output_type": "stream",
     "text": [
      "\r\n",
      "39it [02:44,  3.66s/it]"
     ]
    },
    {
     "name": "stdout",
     "output_type": "stream",
     "text": [
      "finishing processing \\\\10.245.74.158\\Chromatin_NAS_8\\Exported_data\\20220402-Export_new_v2\\Decoded_Fov-133.hdf5\n",
      "356636 is kept out of 356636\n"
     ]
    },
    {
     "name": "stderr",
     "output_type": "stream",
     "text": [
      "\r\n",
      "40it [02:48,  3.80s/it]"
     ]
    },
    {
     "name": "stdout",
     "output_type": "stream",
     "text": [
      "finishing processing \\\\10.245.74.158\\Chromatin_NAS_8\\Exported_data\\20220402-Export_new_v2\\Decoded_Fov-134.hdf5\n",
      "394577 is kept out of 394577\n"
     ]
    },
    {
     "name": "stderr",
     "output_type": "stream",
     "text": [
      "\r\n",
      "41it [02:53,  4.08s/it]"
     ]
    },
    {
     "name": "stdout",
     "output_type": "stream",
     "text": [
      "finishing processing \\\\10.245.74.158\\Chromatin_NAS_8\\Exported_data\\20220402-Export_new_v2\\Decoded_Fov-135.hdf5\n",
      "344527 is kept out of 344527\n"
     ]
    },
    {
     "name": "stderr",
     "output_type": "stream",
     "text": [
      "\r\n",
      "42it [02:55,  3.65s/it]"
     ]
    },
    {
     "name": "stdout",
     "output_type": "stream",
     "text": [
      "finishing processing \\\\10.245.74.158\\Chromatin_NAS_8\\Exported_data\\20220402-Export_new_v2\\Decoded_Fov-136.hdf5\n",
      "286858 is kept out of 286858\n"
     ]
    },
    {
     "name": "stderr",
     "output_type": "stream",
     "text": [
      "\r\n",
      "43it [02:59,  3.54s/it]"
     ]
    },
    {
     "name": "stdout",
     "output_type": "stream",
     "text": [
      "finishing processing \\\\10.245.74.158\\Chromatin_NAS_8\\Exported_data\\20220402-Export_new_v2\\Decoded_Fov-137.hdf5\n",
      "280593 is kept out of 280593\n"
     ]
    },
    {
     "name": "stderr",
     "output_type": "stream",
     "text": [
      "\r\n",
      "44it [03:03,  3.63s/it]"
     ]
    },
    {
     "name": "stdout",
     "output_type": "stream",
     "text": [
      "finishing processing \\\\10.245.74.158\\Chromatin_NAS_8\\Exported_data\\20220402-Export_new_v2\\Decoded_Fov-138.hdf5\n",
      "387062 is kept out of 387062\n"
     ]
    },
    {
     "name": "stderr",
     "output_type": "stream",
     "text": [
      "\r\n",
      "45it [03:05,  3.37s/it]"
     ]
    },
    {
     "name": "stdout",
     "output_type": "stream",
     "text": [
      "finishing processing \\\\10.245.74.158\\Chromatin_NAS_8\\Exported_data\\20220402-Export_new_v2\\Decoded_Fov-139.hdf5\n",
      "273900 is kept out of 273900\n"
     ]
    },
    {
     "name": "stderr",
     "output_type": "stream",
     "text": [
      "\r\n",
      "46it [03:10,  3.62s/it]"
     ]
    },
    {
     "name": "stdout",
     "output_type": "stream",
     "text": [
      "finishing processing \\\\10.245.74.158\\Chromatin_NAS_8\\Exported_data\\20220402-Export_new_v2\\Decoded_Fov-14.hdf5\n",
      "366916 is kept out of 366916\n"
     ]
    },
    {
     "name": "stderr",
     "output_type": "stream",
     "text": [
      "\r\n",
      "47it [03:13,  3.47s/it]"
     ]
    },
    {
     "name": "stdout",
     "output_type": "stream",
     "text": [
      "finishing processing \\\\10.245.74.158\\Chromatin_NAS_8\\Exported_data\\20220402-Export_new_v2\\Decoded_Fov-140.hdf5\n",
      "273510 is kept out of 273510\n"
     ]
    },
    {
     "name": "stderr",
     "output_type": "stream",
     "text": [
      "\r\n",
      "48it [03:15,  3.16s/it]"
     ]
    },
    {
     "name": "stdout",
     "output_type": "stream",
     "text": [
      "finishing processing \\\\10.245.74.158\\Chromatin_NAS_8\\Exported_data\\20220402-Export_new_v2\\Decoded_Fov-141.hdf5\n",
      "210140 is kept out of 210140\n"
     ]
    },
    {
     "name": "stderr",
     "output_type": "stream",
     "text": [
      "\r\n",
      "49it [03:19,  3.53s/it]"
     ]
    },
    {
     "name": "stdout",
     "output_type": "stream",
     "text": [
      "finishing processing \\\\10.245.74.158\\Chromatin_NAS_8\\Exported_data\\20220402-Export_new_v2\\Decoded_Fov-142.hdf5\n",
      "377000 is kept out of 377000\n"
     ]
    },
    {
     "name": "stderr",
     "output_type": "stream",
     "text": [
      "\r\n",
      "50it [03:23,  3.46s/it]"
     ]
    },
    {
     "name": "stdout",
     "output_type": "stream",
     "text": [
      "finishing processing \\\\10.245.74.158\\Chromatin_NAS_8\\Exported_data\\20220402-Export_new_v2\\Decoded_Fov-143.hdf5\n",
      "334160 is kept out of 334160\n"
     ]
    },
    {
     "name": "stderr",
     "output_type": "stream",
     "text": [
      "\r\n",
      "51it [03:26,  3.37s/it]"
     ]
    },
    {
     "name": "stdout",
     "output_type": "stream",
     "text": [
      "finishing processing \\\\10.245.74.158\\Chromatin_NAS_8\\Exported_data\\20220402-Export_new_v2\\Decoded_Fov-144.hdf5\n",
      "285885 is kept out of 285885\n"
     ]
    },
    {
     "name": "stderr",
     "output_type": "stream",
     "text": [
      "\r\n",
      "52it [03:29,  3.21s/it]"
     ]
    },
    {
     "name": "stdout",
     "output_type": "stream",
     "text": [
      "finishing processing \\\\10.245.74.158\\Chromatin_NAS_8\\Exported_data\\20220402-Export_new_v2\\Decoded_Fov-145.hdf5\n",
      "263320 is kept out of 263320\n"
     ]
    },
    {
     "name": "stderr",
     "output_type": "stream",
     "text": [
      "\r\n",
      "53it [03:32,  3.27s/it]"
     ]
    },
    {
     "name": "stdout",
     "output_type": "stream",
     "text": [
      "finishing processing \\\\10.245.74.158\\Chromatin_NAS_8\\Exported_data\\20220402-Export_new_v2\\Decoded_Fov-146.hdf5\n",
      "304332 is kept out of 304332\n"
     ]
    },
    {
     "name": "stderr",
     "output_type": "stream",
     "text": [
      "\r\n",
      "54it [03:37,  3.65s/it]"
     ]
    },
    {
     "name": "stdout",
     "output_type": "stream",
     "text": [
      "finishing processing \\\\10.245.74.158\\Chromatin_NAS_8\\Exported_data\\20220402-Export_new_v2\\Decoded_Fov-147.hdf5\n",
      "409452 is kept out of 409452\n"
     ]
    },
    {
     "name": "stderr",
     "output_type": "stream",
     "text": [
      "\r\n",
      "55it [03:42,  4.17s/it]"
     ]
    },
    {
     "name": "stdout",
     "output_type": "stream",
     "text": [
      "finishing processing \\\\10.245.74.158\\Chromatin_NAS_8\\Exported_data\\20220402-Export_new_v2\\Decoded_Fov-148.hdf5\n",
      "458584 is kept out of 458584\n"
     ]
    },
    {
     "name": "stderr",
     "output_type": "stream",
     "text": [
      "\r\n",
      "56it [03:46,  3.97s/it]"
     ]
    },
    {
     "name": "stdout",
     "output_type": "stream",
     "text": [
      "finishing processing \\\\10.245.74.158\\Chromatin_NAS_8\\Exported_data\\20220402-Export_new_v2\\Decoded_Fov-149.hdf5\n",
      "330320 is kept out of 330320\n"
     ]
    },
    {
     "name": "stderr",
     "output_type": "stream",
     "text": [
      "\r\n",
      "57it [03:49,  3.93s/it]"
     ]
    },
    {
     "name": "stdout",
     "output_type": "stream",
     "text": [
      "finishing processing \\\\10.245.74.158\\Chromatin_NAS_8\\Exported_data\\20220402-Export_new_v2\\Decoded_Fov-15.hdf5\n",
      "317416 is kept out of 317416\n"
     ]
    },
    {
     "name": "stderr",
     "output_type": "stream",
     "text": [
      "\r\n",
      "58it [03:53,  3.91s/it]"
     ]
    },
    {
     "name": "stdout",
     "output_type": "stream",
     "text": [
      "finishing processing \\\\10.245.74.158\\Chromatin_NAS_8\\Exported_data\\20220402-Export_new_v2\\Decoded_Fov-150.hdf5\n",
      "361423 is kept out of 361423\n"
     ]
    },
    {
     "name": "stderr",
     "output_type": "stream",
     "text": [
      "\r\n",
      "59it [03:56,  3.47s/it]"
     ]
    },
    {
     "name": "stdout",
     "output_type": "stream",
     "text": [
      "finishing processing \\\\10.245.74.158\\Chromatin_NAS_8\\Exported_data\\20220402-Export_new_v2\\Decoded_Fov-151.hdf5\n",
      "267617 is kept out of 267617\n"
     ]
    },
    {
     "name": "stderr",
     "output_type": "stream",
     "text": [
      "\r\n",
      "60it [04:00,  3.63s/it]"
     ]
    },
    {
     "name": "stdout",
     "output_type": "stream",
     "text": [
      "finishing processing \\\\10.245.74.158\\Chromatin_NAS_8\\Exported_data\\20220402-Export_new_v2\\Decoded_Fov-152.hdf5\n",
      "407795 is kept out of 407795\n"
     ]
    },
    {
     "name": "stderr",
     "output_type": "stream",
     "text": [
      "\r\n",
      "61it [04:04,  3.68s/it]"
     ]
    },
    {
     "name": "stdout",
     "output_type": "stream",
     "text": [
      "finishing processing \\\\10.245.74.158\\Chromatin_NAS_8\\Exported_data\\20220402-Export_new_v2\\Decoded_Fov-153.hdf5\n",
      "372134 is kept out of 372134\n"
     ]
    },
    {
     "name": "stderr",
     "output_type": "stream",
     "text": [
      "\r\n",
      "62it [04:08,  3.91s/it]"
     ]
    },
    {
     "name": "stdout",
     "output_type": "stream",
     "text": [
      "finishing processing \\\\10.245.74.158\\Chromatin_NAS_8\\Exported_data\\20220402-Export_new_v2\\Decoded_Fov-154.hdf5\n",
      "433141 is kept out of 433141\n"
     ]
    },
    {
     "name": "stderr",
     "output_type": "stream",
     "text": [
      "\r\n",
      "63it [04:12,  4.06s/it]"
     ]
    },
    {
     "name": "stdout",
     "output_type": "stream",
     "text": [
      "finishing processing \\\\10.245.74.158\\Chromatin_NAS_8\\Exported_data\\20220402-Export_new_v2\\Decoded_Fov-155.hdf5\n",
      "399974 is kept out of 399974\n"
     ]
    },
    {
     "name": "stderr",
     "output_type": "stream",
     "text": [
      "\r\n",
      "64it [04:17,  4.27s/it]"
     ]
    },
    {
     "name": "stdout",
     "output_type": "stream",
     "text": [
      "finishing processing \\\\10.245.74.158\\Chromatin_NAS_8\\Exported_data\\20220402-Export_new_v2\\Decoded_Fov-156.hdf5\n",
      "470311 is kept out of 470311\n"
     ]
    },
    {
     "name": "stderr",
     "output_type": "stream",
     "text": [
      "\r\n",
      "65it [04:21,  4.11s/it]"
     ]
    },
    {
     "name": "stdout",
     "output_type": "stream",
     "text": [
      "finishing processing \\\\10.245.74.158\\Chromatin_NAS_8\\Exported_data\\20220402-Export_new_v2\\Decoded_Fov-157.hdf5\n",
      "440386 is kept out of 440386\n"
     ]
    },
    {
     "name": "stderr",
     "output_type": "stream",
     "text": [
      "\r\n",
      "66it [04:25,  4.08s/it]"
     ]
    },
    {
     "name": "stdout",
     "output_type": "stream",
     "text": [
      "finishing processing \\\\10.245.74.158\\Chromatin_NAS_8\\Exported_data\\20220402-Export_new_v2\\Decoded_Fov-158.hdf5\n",
      "413797 is kept out of 413797\n"
     ]
    },
    {
     "name": "stderr",
     "output_type": "stream",
     "text": [
      "\r\n",
      "67it [04:29,  4.00s/it]"
     ]
    },
    {
     "name": "stdout",
     "output_type": "stream",
     "text": [
      "finishing processing \\\\10.245.74.158\\Chromatin_NAS_8\\Exported_data\\20220402-Export_new_v2\\Decoded_Fov-159.hdf5\n",
      "496657 is kept out of 496657\n"
     ]
    },
    {
     "name": "stderr",
     "output_type": "stream",
     "text": [
      "\r\n",
      "68it [04:35,  4.56s/it]"
     ]
    },
    {
     "name": "stdout",
     "output_type": "stream",
     "text": [
      "finishing processing \\\\10.245.74.158\\Chromatin_NAS_8\\Exported_data\\20220402-Export_new_v2\\Decoded_Fov-16.hdf5\n",
      "389187 is kept out of 389187\n"
     ]
    },
    {
     "name": "stderr",
     "output_type": "stream",
     "text": [
      "\r\n",
      "69it [04:38,  4.37s/it]"
     ]
    },
    {
     "name": "stdout",
     "output_type": "stream",
     "text": [
      "finishing processing \\\\10.245.74.158\\Chromatin_NAS_8\\Exported_data\\20220402-Export_new_v2\\Decoded_Fov-17.hdf5\n",
      "266724 is kept out of 266724\n"
     ]
    },
    {
     "name": "stderr",
     "output_type": "stream",
     "text": [
      "\r\n",
      "70it [04:43,  4.42s/it]"
     ]
    },
    {
     "name": "stdout",
     "output_type": "stream",
     "text": [
      "finishing processing \\\\10.245.74.158\\Chromatin_NAS_8\\Exported_data\\20220402-Export_new_v2\\Decoded_Fov-18.hdf5\n",
      "283581 is kept out of 283581\n"
     ]
    },
    {
     "name": "stderr",
     "output_type": "stream",
     "text": [
      "\r\n",
      "71it [04:48,  4.53s/it]"
     ]
    },
    {
     "name": "stdout",
     "output_type": "stream",
     "text": [
      "finishing processing \\\\10.245.74.158\\Chromatin_NAS_8\\Exported_data\\20220402-Export_new_v2\\Decoded_Fov-19.hdf5\n",
      "272340 is kept out of 272340\n"
     ]
    },
    {
     "name": "stderr",
     "output_type": "stream",
     "text": [
      "\r\n",
      "72it [04:52,  4.43s/it]"
     ]
    },
    {
     "name": "stdout",
     "output_type": "stream",
     "text": [
      "finishing processing \\\\10.245.74.158\\Chromatin_NAS_8\\Exported_data\\20220402-Export_new_v2\\Decoded_Fov-2.hdf5\n",
      "349684 is kept out of 349684\n"
     ]
    },
    {
     "name": "stderr",
     "output_type": "stream",
     "text": [
      "\r\n",
      "73it [04:57,  4.58s/it]"
     ]
    },
    {
     "name": "stdout",
     "output_type": "stream",
     "text": [
      "finishing processing \\\\10.245.74.158\\Chromatin_NAS_8\\Exported_data\\20220402-Export_new_v2\\Decoded_Fov-20.hdf5\n",
      "350370 is kept out of 350370\n"
     ]
    },
    {
     "name": "stderr",
     "output_type": "stream",
     "text": [
      "\r\n",
      "74it [05:01,  4.28s/it]"
     ]
    },
    {
     "name": "stdout",
     "output_type": "stream",
     "text": [
      "finishing processing \\\\10.245.74.158\\Chromatin_NAS_8\\Exported_data\\20220402-Export_new_v2\\Decoded_Fov-21.hdf5\n",
      "301502 is kept out of 301502\n"
     ]
    },
    {
     "name": "stderr",
     "output_type": "stream",
     "text": [
      "\r\n",
      "75it [05:05,  4.30s/it]"
     ]
    },
    {
     "name": "stdout",
     "output_type": "stream",
     "text": [
      "finishing processing \\\\10.245.74.158\\Chromatin_NAS_8\\Exported_data\\20220402-Export_new_v2\\Decoded_Fov-22.hdf5\n",
      "300657 is kept out of 300657\n"
     ]
    },
    {
     "name": "stderr",
     "output_type": "stream",
     "text": [
      "\r\n",
      "76it [05:10,  4.44s/it]"
     ]
    },
    {
     "name": "stdout",
     "output_type": "stream",
     "text": [
      "finishing processing \\\\10.245.74.158\\Chromatin_NAS_8\\Exported_data\\20220402-Export_new_v2\\Decoded_Fov-23.hdf5\n",
      "386042 is kept out of 386042\n"
     ]
    },
    {
     "name": "stderr",
     "output_type": "stream",
     "text": [
      "\r\n",
      "77it [05:15,  4.57s/it]"
     ]
    },
    {
     "name": "stdout",
     "output_type": "stream",
     "text": [
      "finishing processing \\\\10.245.74.158\\Chromatin_NAS_8\\Exported_data\\20220402-Export_new_v2\\Decoded_Fov-24.hdf5\n",
      "388293 is kept out of 388293\n"
     ]
    },
    {
     "name": "stderr",
     "output_type": "stream",
     "text": [
      "\r\n",
      "78it [05:18,  4.30s/it]"
     ]
    },
    {
     "name": "stdout",
     "output_type": "stream",
     "text": [
      "finishing processing \\\\10.245.74.158\\Chromatin_NAS_8\\Exported_data\\20220402-Export_new_v2\\Decoded_Fov-25.hdf5\n",
      "338756 is kept out of 338756\n"
     ]
    },
    {
     "name": "stderr",
     "output_type": "stream",
     "text": [
      "80it [05:19,  2.23s/it]"
     ]
    },
    {
     "name": "stdout",
     "output_type": "stream",
     "text": [
      "finishing processing \\\\10.245.74.158\\Chromatin_NAS_8\\Exported_data\\20220402-Export_new_v2\\Decoded_Fov-26.hdf5\n",
      "22683 is kept out of 22683\n",
      "finishing processing \\\\10.245.74.158\\Chromatin_NAS_8\\Exported_data\\20220402-Export_new_v2\\Decoded_Fov-27.hdf5\n",
      "6472 is kept out of 6472\n"
     ]
    },
    {
     "name": "stderr",
     "output_type": "stream",
     "text": [
      "\r\n",
      "81it [05:19,  1.65s/it]"
     ]
    },
    {
     "name": "stdout",
     "output_type": "stream",
     "text": [
      "finishing processing \\\\10.245.74.158\\Chromatin_NAS_8\\Exported_data\\20220402-Export_new_v2\\Decoded_Fov-28.hdf5\n",
      "31694 is kept out of 31694\n"
     ]
    },
    {
     "name": "stderr",
     "output_type": "stream",
     "text": [
      "\r\n",
      "82it [05:19,  1.24s/it]"
     ]
    },
    {
     "name": "stdout",
     "output_type": "stream",
     "text": [
      "finishing processing \\\\10.245.74.158\\Chromatin_NAS_8\\Exported_data\\20220402-Export_new_v2\\Decoded_Fov-29.hdf5\n",
      "26789 is kept out of 26789\n"
     ]
    },
    {
     "name": "stderr",
     "output_type": "stream",
     "text": [
      "\r\n",
      "83it [05:24,  2.33s/it]"
     ]
    },
    {
     "name": "stdout",
     "output_type": "stream",
     "text": [
      "finishing processing \\\\10.245.74.158\\Chromatin_NAS_8\\Exported_data\\20220402-Export_new_v2\\Decoded_Fov-3.hdf5\n",
      "472899 is kept out of 472899\n"
     ]
    },
    {
     "name": "stderr",
     "output_type": "stream",
     "text": [
      "\r\n",
      "84it [05:29,  3.18s/it]"
     ]
    },
    {
     "name": "stdout",
     "output_type": "stream",
     "text": [
      "finishing processing \\\\10.245.74.158\\Chromatin_NAS_8\\Exported_data\\20220402-Export_new_v2\\Decoded_Fov-30.hdf5\n",
      "361844 is kept out of 361844\n"
     ]
    },
    {
     "name": "stderr",
     "output_type": "stream",
     "text": [
      "\r\n",
      "85it [05:30,  2.49s/it]"
     ]
    },
    {
     "name": "stdout",
     "output_type": "stream",
     "text": [
      "finishing processing \\\\10.245.74.158\\Chromatin_NAS_8\\Exported_data\\20220402-Export_new_v2\\Decoded_Fov-31.hdf5\n",
      "97623 is kept out of 97623\n"
     ]
    },
    {
     "name": "stderr",
     "output_type": "stream",
     "text": [
      "\r\n",
      "86it [05:31,  1.88s/it]"
     ]
    },
    {
     "name": "stdout",
     "output_type": "stream",
     "text": [
      "finishing processing \\\\10.245.74.158\\Chromatin_NAS_8\\Exported_data\\20220402-Export_new_v2\\Decoded_Fov-32.hdf5\n",
      "39459 is kept out of 39459\n"
     ]
    },
    {
     "name": "stderr",
     "output_type": "stream",
     "text": [
      "\r\n",
      "87it [05:31,  1.54s/it]"
     ]
    },
    {
     "name": "stdout",
     "output_type": "stream",
     "text": [
      "finishing processing \\\\10.245.74.158\\Chromatin_NAS_8\\Exported_data\\20220402-Export_new_v2\\Decoded_Fov-33.hdf5\n",
      "28383 is kept out of 28383\n"
     ]
    },
    {
     "name": "stderr",
     "output_type": "stream",
     "text": [
      "89it [05:32,  1.07it/s]"
     ]
    },
    {
     "name": "stdout",
     "output_type": "stream",
     "text": [
      "finishing processing \\\\10.245.74.158\\Chromatin_NAS_8\\Exported_data\\20220402-Export_new_v2\\Decoded_Fov-34.hdf5\n",
      "48715 is kept out of 48715\n",
      "finishing processing \\\\10.245.74.158\\Chromatin_NAS_8\\Exported_data\\20220402-Export_new_v2\\Decoded_Fov-35.hdf5\n",
      "15857 is kept out of 15857\n"
     ]
    },
    {
     "name": "stderr",
     "output_type": "stream",
     "text": [
      "\r\n",
      "90it [05:36,  1.80s/it]"
     ]
    },
    {
     "name": "stdout",
     "output_type": "stream",
     "text": [
      "finishing processing \\\\10.245.74.158\\Chromatin_NAS_8\\Exported_data\\20220402-Export_new_v2\\Decoded_Fov-36.hdf5\n",
      "396800 is kept out of 396800\n"
     ]
    },
    {
     "name": "stderr",
     "output_type": "stream",
     "text": [
      "\r\n",
      "91it [05:41,  2.64s/it]"
     ]
    },
    {
     "name": "stdout",
     "output_type": "stream",
     "text": [
      "finishing processing \\\\10.245.74.158\\Chromatin_NAS_8\\Exported_data\\20220402-Export_new_v2\\Decoded_Fov-37.hdf5\n",
      "504253 is kept out of 504253\n"
     ]
    },
    {
     "name": "stderr",
     "output_type": "stream",
     "text": [
      "\r\n",
      "92it [05:42,  2.32s/it]"
     ]
    },
    {
     "name": "stdout",
     "output_type": "stream",
     "text": [
      "finishing processing \\\\10.245.74.158\\Chromatin_NAS_8\\Exported_data\\20220402-Export_new_v2\\Decoded_Fov-38.hdf5\n",
      "119287 is kept out of 119287\n"
     ]
    },
    {
     "name": "stderr",
     "output_type": "stream",
     "text": [
      "\r\n",
      "93it [05:48,  3.27s/it]"
     ]
    },
    {
     "name": "stdout",
     "output_type": "stream",
     "text": [
      "finishing processing \\\\10.245.74.158\\Chromatin_NAS_8\\Exported_data\\20220402-Export_new_v2\\Decoded_Fov-39.hdf5\n",
      "479051 is kept out of 479051\n"
     ]
    },
    {
     "name": "stderr",
     "output_type": "stream",
     "text": [
      "\r\n",
      "94it [05:55,  4.36s/it]"
     ]
    },
    {
     "name": "stdout",
     "output_type": "stream",
     "text": [
      "finishing processing \\\\10.245.74.158\\Chromatin_NAS_8\\Exported_data\\20220402-Export_new_v2\\Decoded_Fov-4.hdf5\n",
      "565621 is kept out of 565621\n"
     ]
    },
    {
     "name": "stderr",
     "output_type": "stream",
     "text": [
      "\r\n",
      "95it [06:00,  4.52s/it]"
     ]
    },
    {
     "name": "stdout",
     "output_type": "stream",
     "text": [
      "finishing processing \\\\10.245.74.158\\Chromatin_NAS_8\\Exported_data\\20220402-Export_new_v2\\Decoded_Fov-40.hdf5\n",
      "416820 is kept out of 416820\n"
     ]
    },
    {
     "name": "stderr",
     "output_type": "stream",
     "text": [
      "\r\n",
      "96it [06:05,  4.84s/it]"
     ]
    },
    {
     "name": "stdout",
     "output_type": "stream",
     "text": [
      "finishing processing \\\\10.245.74.158\\Chromatin_NAS_8\\Exported_data\\20220402-Export_new_v2\\Decoded_Fov-41.hdf5\n",
      "472512 is kept out of 472512\n"
     ]
    },
    {
     "name": "stderr",
     "output_type": "stream",
     "text": [
      "\r\n",
      "97it [06:11,  5.12s/it]"
     ]
    },
    {
     "name": "stdout",
     "output_type": "stream",
     "text": [
      "finishing processing \\\\10.245.74.158\\Chromatin_NAS_8\\Exported_data\\20220402-Export_new_v2\\Decoded_Fov-42.hdf5\n",
      "458011 is kept out of 458011\n"
     ]
    },
    {
     "name": "stderr",
     "output_type": "stream",
     "text": [
      "\r\n",
      "98it [06:16,  5.24s/it]"
     ]
    },
    {
     "name": "stdout",
     "output_type": "stream",
     "text": [
      "finishing processing \\\\10.245.74.158\\Chromatin_NAS_8\\Exported_data\\20220402-Export_new_v2\\Decoded_Fov-43.hdf5\n",
      "446926 is kept out of 446926\n"
     ]
    },
    {
     "name": "stderr",
     "output_type": "stream",
     "text": [
      "\r\n",
      "99it [06:20,  4.83s/it]"
     ]
    },
    {
     "name": "stdout",
     "output_type": "stream",
     "text": [
      "finishing processing \\\\10.245.74.158\\Chromatin_NAS_8\\Exported_data\\20220402-Export_new_v2\\Decoded_Fov-44.hdf5\n",
      "295059 is kept out of 295059\n"
     ]
    },
    {
     "name": "stderr",
     "output_type": "stream",
     "text": [
      "\r\n",
      "100it [06:24,  4.58s/it]"
     ]
    },
    {
     "name": "stdout",
     "output_type": "stream",
     "text": [
      "finishing processing \\\\10.245.74.158\\Chromatin_NAS_8\\Exported_data\\20220402-Export_new_v2\\Decoded_Fov-45.hdf5\n",
      "302318 is kept out of 302318\n"
     ]
    },
    {
     "name": "stderr",
     "output_type": "stream",
     "text": [
      "\r\n",
      "101it [06:30,  4.84s/it]"
     ]
    },
    {
     "name": "stdout",
     "output_type": "stream",
     "text": [
      "finishing processing \\\\10.245.74.158\\Chromatin_NAS_8\\Exported_data\\20220402-Export_new_v2\\Decoded_Fov-46.hdf5\n",
      "435943 is kept out of 435943\n"
     ]
    },
    {
     "name": "stderr",
     "output_type": "stream",
     "text": [
      "\r\n",
      "102it [06:36,  5.37s/it]"
     ]
    },
    {
     "name": "stdout",
     "output_type": "stream",
     "text": [
      "finishing processing \\\\10.245.74.158\\Chromatin_NAS_8\\Exported_data\\20220402-Export_new_v2\\Decoded_Fov-47.hdf5\n",
      "430334 is kept out of 430334\n"
     ]
    },
    {
     "name": "stderr",
     "output_type": "stream",
     "text": [
      "\r\n",
      "103it [06:43,  5.63s/it]"
     ]
    },
    {
     "name": "stdout",
     "output_type": "stream",
     "text": [
      "finishing processing \\\\10.245.74.158\\Chromatin_NAS_8\\Exported_data\\20220402-Export_new_v2\\Decoded_Fov-48.hdf5\n",
      "482442 is kept out of 482442\n"
     ]
    },
    {
     "name": "stderr",
     "output_type": "stream",
     "text": [
      "\r\n",
      "104it [06:48,  5.69s/it]"
     ]
    },
    {
     "name": "stdout",
     "output_type": "stream",
     "text": [
      "finishing processing \\\\10.245.74.158\\Chromatin_NAS_8\\Exported_data\\20220402-Export_new_v2\\Decoded_Fov-49.hdf5\n",
      "396366 is kept out of 396366\n"
     ]
    },
    {
     "name": "stderr",
     "output_type": "stream",
     "text": [
      "\r\n",
      "105it [06:57,  6.44s/it]"
     ]
    },
    {
     "name": "stdout",
     "output_type": "stream",
     "text": [
      "finishing processing \\\\10.245.74.158\\Chromatin_NAS_8\\Exported_data\\20220402-Export_new_v2\\Decoded_Fov-5.hdf5\n",
      "620640 is kept out of 620640\n"
     ]
    },
    {
     "name": "stderr",
     "output_type": "stream",
     "text": [
      "\r\n",
      "106it [07:02,  6.04s/it]"
     ]
    },
    {
     "name": "stdout",
     "output_type": "stream",
     "text": [
      "finishing processing \\\\10.245.74.158\\Chromatin_NAS_8\\Exported_data\\20220402-Export_new_v2\\Decoded_Fov-50.hdf5\n",
      "276538 is kept out of 276538\n"
     ]
    },
    {
     "name": "stderr",
     "output_type": "stream",
     "text": [
      "\r\n",
      "107it [07:06,  5.39s/it]"
     ]
    },
    {
     "name": "stdout",
     "output_type": "stream",
     "text": [
      "finishing processing \\\\10.245.74.158\\Chromatin_NAS_8\\Exported_data\\20220402-Export_new_v2\\Decoded_Fov-51.hdf5\n",
      "287705 is kept out of 287705\n"
     ]
    },
    {
     "name": "stderr",
     "output_type": "stream",
     "text": [
      "\r\n",
      "108it [07:10,  5.05s/it]"
     ]
    },
    {
     "name": "stdout",
     "output_type": "stream",
     "text": [
      "finishing processing \\\\10.245.74.158\\Chromatin_NAS_8\\Exported_data\\20220402-Export_new_v2\\Decoded_Fov-52.hdf5\n",
      "327855 is kept out of 327855\n"
     ]
    },
    {
     "name": "stderr",
     "output_type": "stream",
     "text": [
      "\r\n",
      "109it [07:15,  5.16s/it]"
     ]
    },
    {
     "name": "stdout",
     "output_type": "stream",
     "text": [
      "finishing processing \\\\10.245.74.158\\Chromatin_NAS_8\\Exported_data\\20220402-Export_new_v2\\Decoded_Fov-53.hdf5\n",
      "324607 is kept out of 324607\n"
     ]
    },
    {
     "name": "stderr",
     "output_type": "stream",
     "text": [
      "\r\n",
      "110it [07:22,  5.73s/it]"
     ]
    },
    {
     "name": "stdout",
     "output_type": "stream",
     "text": [
      "finishing processing \\\\10.245.74.158\\Chromatin_NAS_8\\Exported_data\\20220402-Export_new_v2\\Decoded_Fov-54.hdf5\n",
      "426244 is kept out of 426244\n"
     ]
    },
    {
     "name": "stderr",
     "output_type": "stream",
     "text": [
      "\r\n",
      "111it [07:27,  5.55s/it]"
     ]
    },
    {
     "name": "stdout",
     "output_type": "stream",
     "text": [
      "finishing processing \\\\10.245.74.158\\Chromatin_NAS_8\\Exported_data\\20220402-Export_new_v2\\Decoded_Fov-55.hdf5\n",
      "271033 is kept out of 271033\n"
     ]
    },
    {
     "name": "stderr",
     "output_type": "stream",
     "text": [
      "\r\n",
      "112it [07:30,  4.58s/it]"
     ]
    },
    {
     "name": "stdout",
     "output_type": "stream",
     "text": [
      "finishing processing \\\\10.245.74.158\\Chromatin_NAS_8\\Exported_data\\20220402-Export_new_v2\\Decoded_Fov-56.hdf5\n",
      "212157 is kept out of 212157\n"
     ]
    },
    {
     "name": "stderr",
     "output_type": "stream",
     "text": [
      "\r\n",
      "113it [07:30,  3.33s/it]"
     ]
    },
    {
     "name": "stdout",
     "output_type": "stream",
     "text": [
      "finishing processing \\\\10.245.74.158\\Chromatin_NAS_8\\Exported_data\\20220402-Export_new_v2\\Decoded_Fov-57.hdf5\n",
      "30492 is kept out of 30492\n"
     ]
    },
    {
     "name": "stderr",
     "output_type": "stream",
     "text": [
      "\r\n",
      "114it [07:35,  3.84s/it]"
     ]
    },
    {
     "name": "stdout",
     "output_type": "stream",
     "text": [
      "finishing processing \\\\10.245.74.158\\Chromatin_NAS_8\\Exported_data\\20220402-Export_new_v2\\Decoded_Fov-58.hdf5\n",
      "428032 is kept out of 428032\n"
     ]
    },
    {
     "name": "stderr",
     "output_type": "stream",
     "text": [
      "\r\n",
      "115it [07:41,  4.31s/it]"
     ]
    },
    {
     "name": "stdout",
     "output_type": "stream",
     "text": [
      "finishing processing \\\\10.245.74.158\\Chromatin_NAS_8\\Exported_data\\20220402-Export_new_v2\\Decoded_Fov-59.hdf5\n",
      "383411 is kept out of 383411\n"
     ]
    },
    {
     "name": "stderr",
     "output_type": "stream",
     "text": [
      "\r\n",
      "116it [07:47,  4.87s/it]"
     ]
    },
    {
     "name": "stdout",
     "output_type": "stream",
     "text": [
      "finishing processing \\\\10.245.74.158\\Chromatin_NAS_8\\Exported_data\\20220402-Export_new_v2\\Decoded_Fov-6.hdf5\n",
      "492834 is kept out of 492834\n"
     ]
    },
    {
     "name": "stderr",
     "output_type": "stream",
     "text": [
      "\r\n",
      "117it [07:52,  4.91s/it]"
     ]
    },
    {
     "name": "stdout",
     "output_type": "stream",
     "text": [
      "finishing processing \\\\10.245.74.158\\Chromatin_NAS_8\\Exported_data\\20220402-Export_new_v2\\Decoded_Fov-60.hdf5\n",
      "339093 is kept out of 339093\n"
     ]
    },
    {
     "name": "stderr",
     "output_type": "stream",
     "text": [
      "\r\n",
      "118it [07:56,  4.71s/it]"
     ]
    },
    {
     "name": "stdout",
     "output_type": "stream",
     "text": [
      "finishing processing \\\\10.245.74.158\\Chromatin_NAS_8\\Exported_data\\20220402-Export_new_v2\\Decoded_Fov-61.hdf5\n",
      "382536 is kept out of 382536\n"
     ]
    },
    {
     "name": "stderr",
     "output_type": "stream",
     "text": [
      "\r\n",
      "119it [08:01,  4.76s/it]"
     ]
    },
    {
     "name": "stdout",
     "output_type": "stream",
     "text": [
      "finishing processing \\\\10.245.74.158\\Chromatin_NAS_8\\Exported_data\\20220402-Export_new_v2\\Decoded_Fov-62.hdf5\n",
      "385744 is kept out of 385744\n"
     ]
    },
    {
     "name": "stderr",
     "output_type": "stream",
     "text": [
      "\r\n",
      "120it [08:06,  4.82s/it]"
     ]
    },
    {
     "name": "stdout",
     "output_type": "stream",
     "text": [
      "finishing processing \\\\10.245.74.158\\Chromatin_NAS_8\\Exported_data\\20220402-Export_new_v2\\Decoded_Fov-63.hdf5\n",
      "422142 is kept out of 422142\n"
     ]
    },
    {
     "name": "stderr",
     "output_type": "stream",
     "text": [
      "\r\n",
      "121it [08:12,  5.33s/it]"
     ]
    },
    {
     "name": "stdout",
     "output_type": "stream",
     "text": [
      "finishing processing \\\\10.245.74.158\\Chromatin_NAS_8\\Exported_data\\20220402-Export_new_v2\\Decoded_Fov-64.hdf5\n",
      "386117 is kept out of 386117\n"
     ]
    },
    {
     "name": "stderr",
     "output_type": "stream",
     "text": [
      "\r\n",
      "122it [08:14,  4.16s/it]"
     ]
    },
    {
     "name": "stdout",
     "output_type": "stream",
     "text": [
      "finishing processing \\\\10.245.74.158\\Chromatin_NAS_8\\Exported_data\\20220402-Export_new_v2\\Decoded_Fov-65.hdf5\n",
      "66338 is kept out of 66338\n"
     ]
    },
    {
     "name": "stderr",
     "output_type": "stream",
     "text": [
      "\r\n",
      "123it [08:14,  2.98s/it]"
     ]
    },
    {
     "name": "stdout",
     "output_type": "stream",
     "text": [
      "finishing processing \\\\10.245.74.158\\Chromatin_NAS_8\\Exported_data\\20220402-Export_new_v2\\Decoded_Fov-66.hdf5\n",
      "30412 is kept out of 30412\n"
     ]
    },
    {
     "name": "stderr",
     "output_type": "stream",
     "text": [
      "\r\n",
      "124it [08:15,  2.23s/it]"
     ]
    },
    {
     "name": "stdout",
     "output_type": "stream",
     "text": [
      "finishing processing \\\\10.245.74.158\\Chromatin_NAS_8\\Exported_data\\20220402-Export_new_v2\\Decoded_Fov-67.hdf5\n",
      "34691 is kept out of 34691\n"
     ]
    },
    {
     "name": "stderr",
     "output_type": "stream",
     "text": [
      "126it [08:16,  1.34s/it]"
     ]
    },
    {
     "name": "stdout",
     "output_type": "stream",
     "text": [
      "finishing processing \\\\10.245.74.158\\Chromatin_NAS_8\\Exported_data\\20220402-Export_new_v2\\Decoded_Fov-68.hdf5\n",
      "30263 is kept out of 30263\n",
      "finishing processing \\\\10.245.74.158\\Chromatin_NAS_8\\Exported_data\\20220402-Export_new_v2\\Decoded_Fov-69.hdf5\n",
      "22909 is kept out of 22909\n"
     ]
    },
    {
     "name": "stderr",
     "output_type": "stream",
     "text": [
      "\r\n",
      "127it [08:20,  2.40s/it]"
     ]
    },
    {
     "name": "stdout",
     "output_type": "stream",
     "text": [
      "finishing processing \\\\10.245.74.158\\Chromatin_NAS_8\\Exported_data\\20220402-Export_new_v2\\Decoded_Fov-7.hdf5\n",
      "379392 is kept out of 379392\n"
     ]
    },
    {
     "name": "stderr",
     "output_type": "stream",
     "text": [
      "\r\n",
      "128it [08:21,  1.83s/it]"
     ]
    },
    {
     "name": "stdout",
     "output_type": "stream",
     "text": [
      "finishing processing \\\\10.245.74.158\\Chromatin_NAS_8\\Exported_data\\20220402-Export_new_v2\\Decoded_Fov-70.hdf5\n",
      "30954 is kept out of 30954\n"
     ]
    },
    {
     "name": "stderr",
     "output_type": "stream",
     "text": [
      "\r\n",
      "129it [08:24,  2.11s/it]"
     ]
    },
    {
     "name": "stdout",
     "output_type": "stream",
     "text": [
      "finishing processing \\\\10.245.74.158\\Chromatin_NAS_8\\Exported_data\\20220402-Export_new_v2\\Decoded_Fov-71.hdf5\n",
      "184137 is kept out of 184137\n"
     ]
    },
    {
     "name": "stderr",
     "output_type": "stream",
     "text": [
      "131it [08:26,  1.46s/it]"
     ]
    },
    {
     "name": "stdout",
     "output_type": "stream",
     "text": [
      "finishing processing \\\\10.245.74.158\\Chromatin_NAS_8\\Exported_data\\20220402-Export_new_v2\\Decoded_Fov-72.hdf5\n",
      "132453 is kept out of 132453\n",
      "finishing processing \\\\10.245.74.158\\Chromatin_NAS_8\\Exported_data\\20220402-Export_new_v2\\Decoded_Fov-73.hdf5\n",
      "6729 is kept out of 6729\n"
     ]
    },
    {
     "name": "stderr",
     "output_type": "stream",
     "text": [
      "\r\n",
      "132it [08:26,  1.22s/it]"
     ]
    },
    {
     "name": "stdout",
     "output_type": "stream",
     "text": [
      "finishing processing \\\\10.245.74.158\\Chromatin_NAS_8\\Exported_data\\20220402-Export_new_v2\\Decoded_Fov-74.hdf5\n",
      "66606 is kept out of 66606\n"
     ]
    },
    {
     "name": "stderr",
     "output_type": "stream",
     "text": [
      "\r\n",
      "133it [08:27,  1.08it/s]"
     ]
    },
    {
     "name": "stdout",
     "output_type": "stream",
     "text": [
      "finishing processing \\\\10.245.74.158\\Chromatin_NAS_8\\Exported_data\\20220402-Export_new_v2\\Decoded_Fov-75.hdf5\n",
      "30089 is kept out of 30089\n"
     ]
    },
    {
     "name": "stderr",
     "output_type": "stream",
     "text": [
      "\r\n",
      "134it [08:27,  1.22it/s]"
     ]
    },
    {
     "name": "stdout",
     "output_type": "stream",
     "text": [
      "finishing processing \\\\10.245.74.158\\Chromatin_NAS_8\\Exported_data\\20220402-Export_new_v2\\Decoded_Fov-76.hdf5\n",
      "61831 is kept out of 61831\n"
     ]
    },
    {
     "name": "stderr",
     "output_type": "stream",
     "text": [
      "\r\n",
      "135it [08:27,  1.49it/s]"
     ]
    },
    {
     "name": "stdout",
     "output_type": "stream",
     "text": [
      "finishing processing \\\\10.245.74.158\\Chromatin_NAS_8\\Exported_data\\20220402-Export_new_v2\\Decoded_Fov-77.hdf5\n",
      "30817 is kept out of 30817\n"
     ]
    },
    {
     "name": "stderr",
     "output_type": "stream",
     "text": [
      "\r\n",
      "136it [08:29,  1.03it/s]"
     ]
    },
    {
     "name": "stdout",
     "output_type": "stream",
     "text": [
      "finishing processing \\\\10.245.74.158\\Chromatin_NAS_8\\Exported_data\\20220402-Export_new_v2\\Decoded_Fov-78.hdf5\n",
      "217688 is kept out of 217688\n"
     ]
    },
    {
     "name": "stderr",
     "output_type": "stream",
     "text": [
      "\r\n",
      "137it [08:31,  1.20s/it]"
     ]
    },
    {
     "name": "stdout",
     "output_type": "stream",
     "text": [
      "finishing processing \\\\10.245.74.158\\Chromatin_NAS_8\\Exported_data\\20220402-Export_new_v2\\Decoded_Fov-79.hdf5\n",
      "150204 is kept out of 150204\n"
     ]
    },
    {
     "name": "stderr",
     "output_type": "stream",
     "text": [
      "\r\n",
      "138it [08:37,  2.61s/it]"
     ]
    },
    {
     "name": "stdout",
     "output_type": "stream",
     "text": [
      "finishing processing \\\\10.245.74.158\\Chromatin_NAS_8\\Exported_data\\20220402-Export_new_v2\\Decoded_Fov-8.hdf5\n",
      "524373 is kept out of 524373\n"
     ]
    },
    {
     "name": "stderr",
     "output_type": "stream",
     "text": [
      "\r\n",
      "139it [08:39,  2.59s/it]"
     ]
    },
    {
     "name": "stdout",
     "output_type": "stream",
     "text": [
      "finishing processing \\\\10.245.74.158\\Chromatin_NAS_8\\Exported_data\\20220402-Export_new_v2\\Decoded_Fov-80.hdf5\n",
      "217263 is kept out of 217263\n"
     ]
    },
    {
     "name": "stderr",
     "output_type": "stream",
     "text": [
      "\r\n",
      "140it [08:42,  2.46s/it]"
     ]
    },
    {
     "name": "stdout",
     "output_type": "stream",
     "text": [
      "finishing processing \\\\10.245.74.158\\Chromatin_NAS_8\\Exported_data\\20220402-Export_new_v2\\Decoded_Fov-81.hdf5\n",
      "238965 is kept out of 238965\n"
     ]
    },
    {
     "name": "stderr",
     "output_type": "stream",
     "text": [
      "\r\n",
      "141it [08:43,  2.23s/it]"
     ]
    },
    {
     "name": "stdout",
     "output_type": "stream",
     "text": [
      "finishing processing \\\\10.245.74.158\\Chromatin_NAS_8\\Exported_data\\20220402-Export_new_v2\\Decoded_Fov-82.hdf5\n",
      "173812 is kept out of 173812\n"
     ]
    },
    {
     "name": "stderr",
     "output_type": "stream",
     "text": [
      "\r\n",
      "142it [08:47,  2.63s/it]"
     ]
    },
    {
     "name": "stdout",
     "output_type": "stream",
     "text": [
      "finishing processing \\\\10.245.74.158\\Chromatin_NAS_8\\Exported_data\\20220402-Export_new_v2\\Decoded_Fov-83.hdf5\n",
      "288061 is kept out of 288061\n"
     ]
    },
    {
     "name": "stderr",
     "output_type": "stream",
     "text": [
      "\r\n",
      "143it [08:51,  3.05s/it]"
     ]
    },
    {
     "name": "stdout",
     "output_type": "stream",
     "text": [
      "finishing processing \\\\10.245.74.158\\Chromatin_NAS_8\\Exported_data\\20220402-Export_new_v2\\Decoded_Fov-84.hdf5\n",
      "313096 is kept out of 313096\n"
     ]
    },
    {
     "name": "stderr",
     "output_type": "stream",
     "text": [
      "\r\n",
      "144it [08:55,  3.28s/it]"
     ]
    },
    {
     "name": "stdout",
     "output_type": "stream",
     "text": [
      "finishing processing \\\\10.245.74.158\\Chromatin_NAS_8\\Exported_data\\20220402-Export_new_v2\\Decoded_Fov-85.hdf5\n",
      "246421 is kept out of 246421\n"
     ]
    },
    {
     "name": "stderr",
     "output_type": "stream",
     "text": [
      "\r\n",
      "145it [08:59,  3.66s/it]"
     ]
    },
    {
     "name": "stdout",
     "output_type": "stream",
     "text": [
      "finishing processing \\\\10.245.74.158\\Chromatin_NAS_8\\Exported_data\\20220402-Export_new_v2\\Decoded_Fov-86.hdf5\n",
      "321224 is kept out of 321224\n"
     ]
    },
    {
     "name": "stderr",
     "output_type": "stream",
     "text": [
      "\r\n",
      "146it [09:03,  3.79s/it]"
     ]
    },
    {
     "name": "stdout",
     "output_type": "stream",
     "text": [
      "finishing processing \\\\10.245.74.158\\Chromatin_NAS_8\\Exported_data\\20220402-Export_new_v2\\Decoded_Fov-87.hdf5\n",
      "279190 is kept out of 279190\n"
     ]
    },
    {
     "name": "stderr",
     "output_type": "stream",
     "text": [
      "\r\n",
      "147it [09:09,  4.31s/it]"
     ]
    },
    {
     "name": "stdout",
     "output_type": "stream",
     "text": [
      "finishing processing \\\\10.245.74.158\\Chromatin_NAS_8\\Exported_data\\20220402-Export_new_v2\\Decoded_Fov-88.hdf5\n",
      "421609 is kept out of 421609\n"
     ]
    },
    {
     "name": "stderr",
     "output_type": "stream",
     "text": [
      "\r\n",
      "148it [09:12,  4.10s/it]"
     ]
    },
    {
     "name": "stdout",
     "output_type": "stream",
     "text": [
      "finishing processing \\\\10.245.74.158\\Chromatin_NAS_8\\Exported_data\\20220402-Export_new_v2\\Decoded_Fov-89.hdf5\n",
      "313652 is kept out of 313652\n"
     ]
    },
    {
     "name": "stderr",
     "output_type": "stream",
     "text": [
      "\r\n",
      "149it [09:19,  4.96s/it]"
     ]
    },
    {
     "name": "stdout",
     "output_type": "stream",
     "text": [
      "finishing processing \\\\10.245.74.158\\Chromatin_NAS_8\\Exported_data\\20220402-Export_new_v2\\Decoded_Fov-9.hdf5\n",
      "480646 is kept out of 480646\n"
     ]
    },
    {
     "name": "stderr",
     "output_type": "stream",
     "text": [
      "\r\n",
      "150it [09:23,  4.65s/it]"
     ]
    },
    {
     "name": "stdout",
     "output_type": "stream",
     "text": [
      "finishing processing \\\\10.245.74.158\\Chromatin_NAS_8\\Exported_data\\20220402-Export_new_v2\\Decoded_Fov-90.hdf5\n",
      "312069 is kept out of 312069\n"
     ]
    },
    {
     "name": "stderr",
     "output_type": "stream",
     "text": [
      "\r\n",
      "151it [09:29,  4.87s/it]"
     ]
    },
    {
     "name": "stdout",
     "output_type": "stream",
     "text": [
      "finishing processing \\\\10.245.74.158\\Chromatin_NAS_8\\Exported_data\\20220402-Export_new_v2\\Decoded_Fov-91.hdf5\n",
      "338758 is kept out of 338758\n"
     ]
    },
    {
     "name": "stderr",
     "output_type": "stream",
     "text": [
      "\r\n",
      "152it [09:35,  5.20s/it]"
     ]
    },
    {
     "name": "stdout",
     "output_type": "stream",
     "text": [
      "finishing processing \\\\10.245.74.158\\Chromatin_NAS_8\\Exported_data\\20220402-Export_new_v2\\Decoded_Fov-92.hdf5\n",
      "415673 is kept out of 415673\n"
     ]
    },
    {
     "name": "stderr",
     "output_type": "stream",
     "text": [
      "\r\n",
      "153it [09:38,  4.77s/it]"
     ]
    },
    {
     "name": "stdout",
     "output_type": "stream",
     "text": [
      "finishing processing \\\\10.245.74.158\\Chromatin_NAS_8\\Exported_data\\20220402-Export_new_v2\\Decoded_Fov-93.hdf5\n",
      "316477 is kept out of 316477\n"
     ]
    },
    {
     "name": "stderr",
     "output_type": "stream",
     "text": [
      "\r\n",
      "154it [09:42,  4.53s/it]"
     ]
    },
    {
     "name": "stdout",
     "output_type": "stream",
     "text": [
      "finishing processing \\\\10.245.74.158\\Chromatin_NAS_8\\Exported_data\\20220402-Export_new_v2\\Decoded_Fov-94.hdf5\n",
      "269416 is kept out of 269416\n"
     ]
    },
    {
     "name": "stderr",
     "output_type": "stream",
     "text": [
      "\r\n",
      "155it [09:47,  4.46s/it]"
     ]
    },
    {
     "name": "stdout",
     "output_type": "stream",
     "text": [
      "finishing processing \\\\10.245.74.158\\Chromatin_NAS_8\\Exported_data\\20220402-Export_new_v2\\Decoded_Fov-95.hdf5\n",
      "272815 is kept out of 272815\n"
     ]
    },
    {
     "name": "stderr",
     "output_type": "stream",
     "text": [
      "\r\n",
      "156it [09:50,  4.20s/it]"
     ]
    },
    {
     "name": "stdout",
     "output_type": "stream",
     "text": [
      "finishing processing \\\\10.245.74.158\\Chromatin_NAS_8\\Exported_data\\20220402-Export_new_v2\\Decoded_Fov-96.hdf5\n",
      "291276 is kept out of 291276\n"
     ]
    },
    {
     "name": "stderr",
     "output_type": "stream",
     "text": [
      "\r\n",
      "157it [09:54,  4.12s/it]"
     ]
    },
    {
     "name": "stdout",
     "output_type": "stream",
     "text": [
      "finishing processing \\\\10.245.74.158\\Chromatin_NAS_8\\Exported_data\\20220402-Export_new_v2\\Decoded_Fov-97.hdf5\n",
      "360644 is kept out of 360644\n"
     ]
    },
    {
     "name": "stderr",
     "output_type": "stream",
     "text": [
      "\r\n",
      "158it [09:57,  3.71s/it]"
     ]
    },
    {
     "name": "stdout",
     "output_type": "stream",
     "text": [
      "finishing processing \\\\10.245.74.158\\Chromatin_NAS_8\\Exported_data\\20220402-Export_new_v2\\Decoded_Fov-98.hdf5\n",
      "256070 is kept out of 256070\n"
     ]
    },
    {
     "name": "stderr",
     "output_type": "stream",
     "text": [
      "159it [10:00,  3.78s/it]"
     ]
    },
    {
     "name": "stdout",
     "output_type": "stream",
     "text": [
      "finishing processing \\\\10.245.74.158\\Chromatin_NAS_8\\Exported_data\\20220402-Export_new_v2\\Decoded_Fov-99.hdf5\n",
      "276354 is kept out of 276354\n"
     ]
    },
    {
     "name": "stderr",
     "output_type": "stream",
     "text": [
      "\n"
     ]
    }
   ],
   "source": [
    "replicate_exp = '20220402'\n",
    "for i, _file in tqdm(enumerate(decoded_file_list[:])):\n",
    "    #check whether the file has been analyzed\n",
    "    if file_counts[i]:\n",
    "        continue\n",
    "    file_counts[i] = True\n",
    "    \n",
    "    with h5py.File(_file, \"r\") as f:\n",
    "        #print(\"Keys: %s\" % f.keys())\n",
    "        # get all cell keys to access the h5df\n",
    "        cell_key_list = list(f.keys())\n",
    "    \n",
    "    # append coords of each cell from the same decoded fov\n",
    "    _coords_df_fov_list=[]\n",
    "    for _cell_key in cell_key_list:\n",
    "        _coords_df = pd.read_hdf(_file, _cell_key)                   \n",
    "        if not _coords_df.empty:\n",
    "            _coords_df['orig_cellID']=_cell_key\n",
    "            _coords_df['FOV']=_file.split('Fov-')[-1].split('.hdf5')[0]\n",
    "            _coords_df['replicate']=replicate_exp\n",
    "            _coords_df['chr'] = _coords_df['chr'].apply(lambda x: 'chr'+x)\n",
    "            _coords_df_fov_list.append(_coords_df)\n",
    "    \n",
    "    _coords_df_fov = pd.concat(_coords_df_fov_list)\n",
    "\n",
    "    _coords_df_fov.reset_index(inplace=True)\n",
    "    _coords_df_fov.rename(columns={'center_z':'z_hat', 'center_y':'y_hat', 'center_x':'x_hat', \n",
    "                                    }, inplace = True)\n",
    "    \n",
    "    # spot num each fov\n",
    "    original_length = len(_coords_df_fov)\n",
    "    original_length_list.append(original_length)\n",
    "        \n",
    "    # convert physical locations to pixle...\n",
    "    # since 1 z pixel is not equvilant to 1 x/y pixel, convert z pixel to pseudo pixel\n",
    "    #_coords_df_fov.loc[:,'z_hat'] = (np.array(_coords_df_fov.loc[:,'z_hat'].values)/pixel_z)\n",
    "    _coords_df_fov.loc[:,'z_hat'] = (np.array(_coords_df_fov.loc[:,'z_hat'].values)/pixel_z)*pixel_z/pixel_x\n",
    "    _coords_df_fov.loc[:,'y_hat'] = np.array(_coords_df_fov.loc[:,'y_hat'].values)/pixel_y\n",
    "    _coords_df_fov.loc[:,'x_hat'] = np.array(_coords_df_fov.loc[:,'x_hat'].values)/pixel_x\n",
    "\n",
    "    #sigma = np.full((len(_coords_df_fov,),), 1)\n",
    "    sigma = 1\n",
    "    _coords_df_fov['sig_x'] = sigma\n",
    "    _coords_df_fov['sig_y'] = sigma\n",
    "    _coords_df_fov['sig_z'] = sigma\n",
    "\n",
    "    # append info below if necessary (some are redundant..)\n",
    "    # record hyb\n",
    "    _coords_df_fov['hyb'] = _coords_df_fov['region_name'].apply(lambda x: map_to_hyb(x))\n",
    "    # get other attributes for the dataframe\n",
    "    _coords_df_fov['celltype'] = _coords_df_fov['subclass']\n",
    "    # drop redundant info\n",
    "    _coords_df_fov.drop(columns=['level_0','subclass'],inplace=True)\n",
    "\n",
    "    \n",
    "    # append each fov\n",
    "    df_list.append(_coords_df_fov)\n",
    "    final_length = len(_coords_df_fov)\n",
    "    final_length_list.append(final_length)\n",
    "\n",
    "    print(f'finishing processing {_file}')\n",
    "    print(f'{final_length} is kept out of {original_length}')"
   ]
  },
  {
   "cell_type": "code",
   "execution_count": 13,
   "metadata": {},
   "outputs": [
    {
     "name": "stdout",
     "output_type": "stream",
     "text": [
      "159\n",
      "159\n"
     ]
    }
   ],
   "source": [
    "# concat all decoded spots\n",
    "#coord_df_exp = pd.concat(df_list)\n",
    "#print(len(coord_df_exp))\n",
    "print(len(final_length_list))\n",
    "print(len(original_length_list))"
   ]
  },
  {
   "cell_type": "code",
   "execution_count": null,
   "metadata": {},
   "outputs": [],
   "source": []
  },
  {
   "cell_type": "markdown",
   "metadata": {},
   "source": [
    "### save df into subset chunks"
   ]
  },
  {
   "cell_type": "code",
   "execution_count": 17,
   "metadata": {},
   "outputs": [],
   "source": [
    "# slow part; only save these when testing the script; would be more practical to process each fov hdf5-generated df direcly"
   ]
  },
  {
   "cell_type": "code",
   "execution_count": 14,
   "metadata": {},
   "outputs": [
    {
     "data": {
      "text/plain": [
       "159"
      ]
     },
     "execution_count": 14,
     "metadata": {},
     "output_type": "execute_result"
    }
   ],
   "source": [
    "len(df_list)"
   ]
  },
  {
   "cell_type": "code",
   "execution_count": 15,
   "metadata": {},
   "outputs": [
    {
     "data": {
      "text/plain": [
       "[range(0, 12),\n",
       " range(12, 24),\n",
       " range(24, 36),\n",
       " range(36, 48),\n",
       " range(48, 60),\n",
       " range(60, 72),\n",
       " range(72, 84),\n",
       " range(84, 96),\n",
       " range(96, 108),\n",
       " range(108, 120),\n",
       " range(120, 132),\n",
       " range(132, 144),\n",
       " range(144, 156),\n",
       " range(156, 159)]"
      ]
     },
     "execution_count": 15,
     "metadata": {},
     "output_type": "execute_result"
    }
   ],
   "source": [
    "def chunks(lst, n):\n",
    "    \"\"\"Yield successive n-sized chunks from lst.\"\"\"\n",
    "    for i in range(0, len(lst), n):\n",
    "        yield lst[i:i + n]\n",
    "        \n",
    "chunk_ids_list = list(chunks(range(len(df_list)), 12))\n",
    "chunk_ids_list"
   ]
  },
  {
   "cell_type": "code",
   "execution_count": 20,
   "metadata": {},
   "outputs": [
    {
     "name": "stderr",
     "output_type": "stream",
     "text": [
      "14it [16:27, 70.56s/it]\n"
     ]
    }
   ],
   "source": [
    "#replicate_exp='20220402'\n",
    "merged_spot_folder=os.path.join(r'\\\\10.245.74.158\\Chromatin_NAS_8\\Exported_data\\jie_CW_decode', f'{replicate_exp}exp')\n",
    "\n",
    "for _ct, _ids in tqdm(enumerate(chunk_ids_list)):\n",
    "    coord_df_exp_subfname = os.path.join(merged_spot_folder, f'{replicate_exp}exp_cand_spots_part{_ct}.csv')\n",
    "    sub_df_list = df_list[_ids[0]:_ids[-1]]\n",
    "    #print(_ids)\n",
    "    sub_dfs = pd.concat(sub_df_list)\n",
    "    sub_dfs.to_csv(coord_df_exp_subfname, index=False)\n"
   ]
  },
  {
   "cell_type": "code",
   "execution_count": 21,
   "metadata": {},
   "outputs": [],
   "source": [
    "del df_list"
   ]
  }
 ],
 "metadata": {
  "kernelspec": {
   "display_name": "Python 3 (ipykernel)",
   "language": "python",
   "name": "python3"
  },
  "language_info": {
   "codemirror_mode": {
    "name": "ipython",
    "version": 3
   },
   "file_extension": ".py",
   "mimetype": "text/x-python",
   "name": "python",
   "nbconvert_exporter": "python",
   "pygments_lexer": "ipython3",
   "version": "3.10.8"
  },
  "toc": {
   "base_numbering": 1,
   "nav_menu": {},
   "number_sections": false,
   "sideBar": true,
   "skip_h1_title": false,
   "title_cell": "Table of Contents",
   "title_sidebar": "Contents",
   "toc_cell": false,
   "toc_position": {
    "height": "calc(100% - 180px)",
    "left": "10px",
    "top": "150px",
    "width": "203px"
   },
   "toc_section_display": true,
   "toc_window_display": true
  }
 },
 "nbformat": 4,
 "nbformat_minor": 4
}
