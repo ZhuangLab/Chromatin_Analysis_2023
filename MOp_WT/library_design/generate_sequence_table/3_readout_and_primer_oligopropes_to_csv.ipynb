{
 "cells": [
  {
   "cell_type": "markdown",
   "id": "d4d2bb2b",
   "metadata": {},
   "source": [
    "# 1. Load packages"
   ]
  },
  {
   "cell_type": "markdown",
   "metadata": {},
   "source": [
    "The link to get [ImageAnalysis3](https://github.com/zhengpuas47/ImageAnalysis3) \n",
    "\n",
    "or the Zhuang lab archived [source_tools](https://github.com/ZhuangLab/Chromatin_Analysis_2020_cell/tree/master/sequential_tracing/source)"
   ]
  },
  {
   "cell_type": "code",
   "execution_count": 1,
   "id": "e58532e3",
   "metadata": {},
   "outputs": [
    {
     "name": "stdout",
     "output_type": "stream",
     "text": [
      "36556\n",
      "Use existing analysis folder: L:\\Shiwei\\Figures\\MOp_draft_2023_v2\\Nuclear_organization_v2\\analysis.\n",
      "Use existing figure folder: L:\\Shiwei\\Figures\\MOp_draft_2023_v2\\Nuclear_organization_v2\\figures.\n"
     ]
    }
   ],
   "source": [
    "%run \"C:\\Users\\shiwei\\Documents\\ImageAnalysis3\\required_files\\Startup_py3.py\"\n",
    "sys.path.append(r\"C:\\Users\\shiwei\\Documents\")\n",
    "\n",
    "import ImageAnalysis3 as ia\n",
    "%matplotlib notebook\n",
    "\n",
    "from ImageAnalysis3 import *\n",
    "print(os.getpid())\n",
    "\n",
    "import h5py\n",
    "from ImageAnalysis3.classes import _allowed_kwds\n",
    "import ast\n",
    "\n",
    "import pandas as pd## 1.1 Define output folder\n",
    "\n",
    "output_main_folder = r'L:\\Shiwei\\Figures\\MOp_draft_2023_v2\\Nuclear_organization_v2'\n",
    "output_analysis_folder = os.path.join(output_main_folder, 'analysis')\n",
    "output_figure_folder = os.path.join(output_main_folder, 'figures')\n",
    "\n",
    "make_output_folder = True\n",
    "\n",
    "if make_output_folder and not os.path.exists(output_analysis_folder):\n",
    "    os.makedirs(output_analysis_folder)\n",
    "    print(f'Generating analysis folder: {output_analysis_folder}.')\n",
    "elif os.path.exists(output_analysis_folder):\n",
    "    print(f'Use existing analysis folder: {output_analysis_folder}.')\n",
    "    \n",
    "if make_output_folder and not os.path.exists(output_figure_folder):\n",
    "    os.makedirs(output_figure_folder)\n",
    "    print(f'Generating figure folder: {output_figure_folder}.')\n",
    "elif os.path.exists(output_figure_folder):\n",
    "    print(f'Use existing figure folder: {output_figure_folder}.')"
   ]
  },
  {
   "cell_type": "code",
   "execution_count": 2,
   "id": "c198c7ca",
   "metadata": {},
   "outputs": [],
   "source": [
    "import seaborn as sns\n",
    "import scanpy as sc\n",
    "import numpy as np"
   ]
  },
  {
   "cell_type": "markdown",
   "id": "d1ec4623",
   "metadata": {},
   "source": [
    "## 1.1 Define output folder"
   ]
  },
  {
   "cell_type": "code",
   "execution_count": 3,
   "id": "609b2e20",
   "metadata": {},
   "outputs": [
    {
     "name": "stdout",
     "output_type": "stream",
     "text": [
      "Use existing output folder: L:\\Shiwei\\Figures\\MOp_draft_2023_v2\\Supplementary_tables.\n",
      "Generating output subfolder: L:\\Shiwei\\Figures\\MOp_draft_2023_v2\\Supplementary_tables\\Readout_and_Primer.\n"
     ]
    }
   ],
   "source": [
    "output_main_folder = r'L:\\Shiwei\\Figures\\MOp_draft_2023_v2\\Supplementary_tables'\n",
    "output_sub_folder = os.path.join(output_main_folder, 'Readout_and_Primer')\n",
    "#output_figure_folder = os.path.join(output_main_folder, 'figures')\n",
    "\n",
    "make_output_folder = True\n",
    "\n",
    "if output_main_folder and not os.path.exists(output_main_folder):\n",
    "    os.makedirs(output_main_folder)\n",
    "    print(f'Generating output folder: {output_main_folder}.')\n",
    "elif os.path.exists(output_analysis_folder):\n",
    "    print(f'Use existing output folder: {output_main_folder}.')\n",
    "\n",
    "    \n",
    "if output_main_folder and not os.path.exists(output_sub_folder):\n",
    "    os.makedirs(output_sub_folder)\n",
    "    print(f'Generating output subfolder: {output_sub_folder}.')\n",
    "elif os.path.exists(output_sub_folder):\n",
    "    print(f'Use existing output subfolder: {output_sub_folder}.')"
   ]
  },
  {
   "cell_type": "code",
   "execution_count": 4,
   "id": "59eadfef",
   "metadata": {},
   "outputs": [],
   "source": [
    "library_main_folder = r'\\\\10.245.74.212\\Chromatin_NAS_2\\Chromatin_Libraries'"
   ]
  },
  {
   "cell_type": "markdown",
   "id": "463ca628",
   "metadata": {},
   "source": [
    "# 2. Convert primers for each library"
   ]
  },
  {
   "cell_type": "code",
   "execution_count": 69,
   "id": "a064c024",
   "metadata": {},
   "outputs": [],
   "source": [
    "T7_seq = r'TAATACGACTCACTATAG'"
   ]
  },
  {
   "cell_type": "markdown",
   "id": "c4ac14a5",
   "metadata": {},
   "source": [
    "### Load CTP summary"
   ]
  },
  {
   "cell_type": "code",
   "execution_count": 20,
   "id": "d0f7c221",
   "metadata": {
    "scrolled": false
   },
   "outputs": [
    {
     "data": {
      "text/html": [
       "<div>\n",
       "<style scoped>\n",
       "    .dataframe tbody tr th:only-of-type {\n",
       "        vertical-align: middle;\n",
       "    }\n",
       "\n",
       "    .dataframe tbody tr th {\n",
       "        vertical-align: top;\n",
       "    }\n",
       "\n",
       "    .dataframe thead th {\n",
       "        text-align: right;\n",
       "    }\n",
       "</style>\n",
       "<table border=\"1\" class=\"dataframe\">\n",
       "  <thead>\n",
       "    <tr style=\"text-align: right;\">\n",
       "      <th></th>\n",
       "      <th>Library</th>\n",
       "      <th>Sublibrary</th>\n",
       "      <th>Forward primer name</th>\n",
       "      <th>Reverse primer name</th>\n",
       "      <th>Forward primer seq</th>\n",
       "      <th>Reverse primer seq</th>\n",
       "    </tr>\n",
       "  </thead>\n",
       "  <tbody>\n",
       "    <tr>\n",
       "      <th>34</th>\n",
       "      <td>CTP11_mouse-genome</td>\n",
       "      <td>1000-mouse-genome_500</td>\n",
       "      <td>W1A03_primer_2</td>\n",
       "      <td>W1A10_primer_9</td>\n",
       "      <td>CCCGCAATGGCTGACAACCG</td>\n",
       "      <td>TAATACGACTCACTATAGGGATTGCCGCATGGTTTCCG</td>\n",
       "    </tr>\n",
       "    <tr>\n",
       "      <th>35</th>\n",
       "      <td>CTP11_mouse-genome</td>\n",
       "      <td>1000-mouse-genome_250_1</td>\n",
       "      <td>W1A07_primer_6</td>\n",
       "      <td>W1A12_primer_11</td>\n",
       "      <td>CGCAAACTGGTGCGGAAGGC</td>\n",
       "      <td>TAATACGACTCACTATAGGGCCATTGCCCGCGAGGTCGAG</td>\n",
       "    </tr>\n",
       "    <tr>\n",
       "      <th>36</th>\n",
       "      <td>CTP11_mouse-genome</td>\n",
       "      <td>1000-mouse-genome_250_2</td>\n",
       "      <td>W1B05_primer_16</td>\n",
       "      <td>W1B04_primer_15</td>\n",
       "      <td>CGGGTTTCGTTGCGCACACC</td>\n",
       "      <td>TAATACGACTCACTATAGGGCTTGTGCATCGCGCCAAAGA</td>\n",
       "    </tr>\n",
       "    <tr>\n",
       "      <th>41</th>\n",
       "      <td>CTP12_mouse_brain_gene</td>\n",
       "      <td>marker_gene_TSS</td>\n",
       "      <td>W1A07_primer_6</td>\n",
       "      <td>W1A12_primer_11</td>\n",
       "      <td>CGCAAACTGGTGCGGAAGGC</td>\n",
       "      <td>TAATACGACTCACTATAGGGCCATTGCCCGCGAGGTCGAG</td>\n",
       "    </tr>\n",
       "    <tr>\n",
       "      <th>44</th>\n",
       "      <td>CTP13_mouse_SE</td>\n",
       "      <td>mouse_brain_SE+sequential</td>\n",
       "      <td>W1A03_primer_2</td>\n",
       "      <td>W1A10_primer_9</td>\n",
       "      <td>CCCGCAATGGCTGACAACCG</td>\n",
       "      <td>TAATACGACTCACTATAGGGATTGCCGCATGGTTTCCG</td>\n",
       "    </tr>\n",
       "  </tbody>\n",
       "</table>\n",
       "</div>"
      ],
      "text/plain": [
       "                   Library                 Sublibrary Forward primer name  \\\n",
       "34      CTP11_mouse-genome      1000-mouse-genome_500      W1A03_primer_2   \n",
       "35      CTP11_mouse-genome    1000-mouse-genome_250_1      W1A07_primer_6   \n",
       "36      CTP11_mouse-genome    1000-mouse-genome_250_2     W1B05_primer_16   \n",
       "41  CTP12_mouse_brain_gene            marker_gene_TSS      W1A07_primer_6   \n",
       "44          CTP13_mouse_SE  mouse_brain_SE+sequential      W1A03_primer_2   \n",
       "\n",
       "   Reverse primer name    Forward primer seq  \\\n",
       "34      W1A10_primer_9  CCCGCAATGGCTGACAACCG   \n",
       "35     W1A12_primer_11  CGCAAACTGGTGCGGAAGGC   \n",
       "36     W1B04_primer_15  CGGGTTTCGTTGCGCACACC   \n",
       "41     W1A12_primer_11  CGCAAACTGGTGCGGAAGGC   \n",
       "44      W1A10_primer_9  CCCGCAATGGCTGACAACCG   \n",
       "\n",
       "                          Reverse primer seq  \n",
       "34    TAATACGACTCACTATAGGGATTGCCGCATGGTTTCCG  \n",
       "35  TAATACGACTCACTATAGGGCCATTGCCCGCGAGGTCGAG  \n",
       "36  TAATACGACTCACTATAGGGCTTGTGCATCGCGCCAAAGA  \n",
       "41  TAATACGACTCACTATAGGGCCATTGCCCGCGAGGTCGAG  \n",
       "44    TAATACGACTCACTATAGGGATTGCCGCATGGTTTCCG  "
      ]
     },
     "execution_count": 20,
     "metadata": {},
     "output_type": "execute_result"
    }
   ],
   "source": [
    "summary_folder = r'\\\\10.245.74.212\\Chromatin_NAS_2\\Chromatin_Libraries\\Probe_summary_from_PZ'\n",
    "summary_fname = os.path.join(summary_folder, 'Chromatin_Libraries.xlsx')\n",
    "\n",
    "summary_df = pd.read_excel(summary_fname)\n",
    "summary_df = summary_df.fillna(method='ffill')\n",
    "\n",
    "sel_Sublibrary_list = ['1000-mouse-genome_500', \n",
    "                       '1000-mouse-genome_250_1',\n",
    "                       '1000-mouse-genome_250_2',\n",
    "                       'marker_gene_TSS',\n",
    "                       'mouse_brain_SE+sequential']\n",
    "\n",
    "summary_df = summary_df[summary_df['Sublibrary'].isin(sel_Sublibrary_list)]\n",
    "summary_df = summary_df[summary_df.columns[:6]]\n",
    "summary_df = summary_df.drop_duplicates()\n",
    "summary_df"
   ]
  },
  {
   "cell_type": "code",
   "execution_count": 21,
   "id": "552359fb",
   "metadata": {},
   "outputs": [
    {
     "data": {
      "text/html": [
       "<div>\n",
       "<style scoped>\n",
       "    .dataframe tbody tr th:only-of-type {\n",
       "        vertical-align: middle;\n",
       "    }\n",
       "\n",
       "    .dataframe tbody tr th {\n",
       "        vertical-align: top;\n",
       "    }\n",
       "\n",
       "    .dataframe thead th {\n",
       "        text-align: right;\n",
       "    }\n",
       "</style>\n",
       "<table border=\"1\" class=\"dataframe\">\n",
       "  <thead>\n",
       "    <tr style=\"text-align: right;\">\n",
       "      <th></th>\n",
       "      <th>Library</th>\n",
       "      <th>Sublibrary</th>\n",
       "      <th>Forward primer name</th>\n",
       "      <th>Reverse primer name</th>\n",
       "      <th>Forward primer seq</th>\n",
       "      <th>Reverse primer seq</th>\n",
       "    </tr>\n",
       "  </thead>\n",
       "  <tbody>\n",
       "    <tr>\n",
       "      <th>34</th>\n",
       "      <td>Genome chromatin</td>\n",
       "      <td>Genome chromatin_set_1_and_2</td>\n",
       "      <td>W1A03_primer_2</td>\n",
       "      <td>W1A10_primer_9</td>\n",
       "      <td>CCCGCAATGGCTGACAACCG</td>\n",
       "      <td>TAATACGACTCACTATAGGGATTGCCGCATGGTTTCCG</td>\n",
       "    </tr>\n",
       "    <tr>\n",
       "      <th>35</th>\n",
       "      <td>Genome chromatin</td>\n",
       "      <td>Genome chromatin_set_3</td>\n",
       "      <td>W1A07_primer_6</td>\n",
       "      <td>W1A12_primer_11</td>\n",
       "      <td>CGCAAACTGGTGCGGAAGGC</td>\n",
       "      <td>TAATACGACTCACTATAGGGCCATTGCCCGCGAGGTCGAG</td>\n",
       "    </tr>\n",
       "    <tr>\n",
       "      <th>36</th>\n",
       "      <td>Genome chromatin</td>\n",
       "      <td>Genome chromatin_set_4</td>\n",
       "      <td>W1B05_primer_16</td>\n",
       "      <td>W1B04_primer_15</td>\n",
       "      <td>CGGGTTTCGTTGCGCACACC</td>\n",
       "      <td>TAATACGACTCACTATAGGGCTTGTGCATCGCGCCAAAGA</td>\n",
       "    </tr>\n",
       "    <tr>\n",
       "      <th>41</th>\n",
       "      <td>Marker chromatin</td>\n",
       "      <td>Marker chromatin_set_all</td>\n",
       "      <td>W1A07_primer_6</td>\n",
       "      <td>W1A12_primer_11</td>\n",
       "      <td>CGCAAACTGGTGCGGAAGGC</td>\n",
       "      <td>TAATACGACTCACTATAGGGCCATTGCCCGCGAGGTCGAG</td>\n",
       "    </tr>\n",
       "    <tr>\n",
       "      <th>44</th>\n",
       "      <td>Super-enhancer chromatin</td>\n",
       "      <td>Super-enhancer chromatin_set_all</td>\n",
       "      <td>W1A03_primer_2</td>\n",
       "      <td>W1A10_primer_9</td>\n",
       "      <td>CCCGCAATGGCTGACAACCG</td>\n",
       "      <td>TAATACGACTCACTATAGGGATTGCCGCATGGTTTCCG</td>\n",
       "    </tr>\n",
       "  </tbody>\n",
       "</table>\n",
       "</div>"
      ],
      "text/plain": [
       "                     Library                        Sublibrary  \\\n",
       "34          Genome chromatin      Genome chromatin_set_1_and_2   \n",
       "35          Genome chromatin            Genome chromatin_set_3   \n",
       "36          Genome chromatin            Genome chromatin_set_4   \n",
       "41          Marker chromatin          Marker chromatin_set_all   \n",
       "44  Super-enhancer chromatin  Super-enhancer chromatin_set_all   \n",
       "\n",
       "   Forward primer name Reverse primer name    Forward primer seq  \\\n",
       "34      W1A03_primer_2      W1A10_primer_9  CCCGCAATGGCTGACAACCG   \n",
       "35      W1A07_primer_6     W1A12_primer_11  CGCAAACTGGTGCGGAAGGC   \n",
       "36     W1B05_primer_16     W1B04_primer_15  CGGGTTTCGTTGCGCACACC   \n",
       "41      W1A07_primer_6     W1A12_primer_11  CGCAAACTGGTGCGGAAGGC   \n",
       "44      W1A03_primer_2      W1A10_primer_9  CCCGCAATGGCTGACAACCG   \n",
       "\n",
       "                          Reverse primer seq  \n",
       "34    TAATACGACTCACTATAGGGATTGCCGCATGGTTTCCG  \n",
       "35  TAATACGACTCACTATAGGGCCATTGCCCGCGAGGTCGAG  \n",
       "36  TAATACGACTCACTATAGGGCTTGTGCATCGCGCCAAAGA  \n",
       "41  TAATACGACTCACTATAGGGCCATTGCCCGCGAGGTCGAG  \n",
       "44    TAATACGACTCACTATAGGGATTGCCGCATGGTTTCCG  "
      ]
     },
     "execution_count": 21,
     "metadata": {},
     "output_type": "execute_result"
    }
   ],
   "source": [
    "descrip_rename_dict = {'CTP11_mouse-genome':'Genome chromatin', \n",
    "                       'CTP12_mouse_brain_gene':'Marker chromatin', \n",
    "                       'CTP13_mouse_SE':'Super-enhancer chromatin', \n",
    "                       '1000-mouse-genome_500':'Genome chromatin_set_1_and_2', \n",
    "                       '1000-mouse-genome_250_1':'Genome chromatin_set_3',\n",
    "                       '1000-mouse-genome_250_2':'Genome chromatin_set_4', \n",
    "                       'marker_gene_TSS':'Marker chromatin_set_all', \n",
    "                       'mouse_brain_SE+sequential':'Super-enhancer chromatin_set_all',}\n",
    "\n",
    "summary_df['Library']= summary_df['Library'].apply(lambda x: descrip_rename_dict[x])\n",
    "summary_df['Sublibrary']= summary_df['Sublibrary'].apply(lambda x: descrip_rename_dict[x])\n",
    "summary_df"
   ]
  },
  {
   "cell_type": "code",
   "execution_count": 52,
   "id": "ec0f686f",
   "metadata": {},
   "outputs": [
    {
     "data": {
      "text/plain": [
       "20"
      ]
     },
     "execution_count": 52,
     "metadata": {},
     "output_type": "execute_result"
    }
   ],
   "source": [
    "len('CCCGCAATGGCTGACAACCG')"
   ]
  },
  {
   "cell_type": "markdown",
   "id": "414eed53",
   "metadata": {},
   "source": [
    "### Inspect CTP oligprobes"
   ]
  },
  {
   "cell_type": "code",
   "execution_count": 48,
   "id": "3fe115b4",
   "metadata": {},
   "outputs": [
    {
     "data": {
      "text/plain": [
       "['CCCGCAATGGCTGACAACCGTAGATAGAGACGTTCGTGAACTCCCTATTGACCTCACTCTATGGTACATCCTCTGTTATGACGATTTATCTATGACCGGGATGACAGGACGTACCGCTTACCCGGAAACCATGCGGCAATCC',\n",
       " 'CCCGCAATGGCTGACAACCGTAGATAGAGACGTTCGTGAAAAAGCTCTGGAATTCTTTTGTTATGAGCCTCATTAGTGCTGGGATTTATCTATGACCGGGATGACAGGACGTACCGCTTACCCGGAAACCATGCGGCAATCC',\n",
       " 'CCCGCAATGGCTGACAACCGTAGATAGAGACGTTCGTGAACACAGAAAAGGGCAACGAGGGCAATGCGGAGATCATTTACTCGATTTATCTATGACCGGGATGACAGGACGTACCGCTTACCCGGAAACCATGCGGCAATCC']"
      ]
     },
     "execution_count": 48,
     "metadata": {},
     "output_type": "execute_result"
    }
   ],
   "source": [
    "primary_folder = os.path.join(output_main_folder,'Primary')\n",
    "primary_fname = os.path.join(primary_folder, 'Super-enhancer chromatin probes.csv')\n",
    "\n",
    "primary_df = pd.read_csv(primary_fname)\n",
    "primary_df['sequence'][:3].tolist()"
   ]
  },
  {
   "cell_type": "code",
   "execution_count": 54,
   "id": "54972dfb",
   "metadata": {},
   "outputs": [
    {
     "name": "stdout",
     "output_type": "stream",
     "text": [
      "142\n"
     ]
    },
    {
     "data": {
      "text/plain": [
       "'CGGAAACCATGCGGCAATCC'"
      ]
     },
     "execution_count": 54,
     "metadata": {},
     "output_type": "execute_result"
    }
   ],
   "source": [
    "print(len(primary_df['sequence'][:3].tolist()[0]))\n",
    "\n",
    "primary_df['sequence'][:3].tolist()[0][-20:]"
   ]
  },
  {
   "cell_type": "code",
   "execution_count": 56,
   "id": "639cc1b0",
   "metadata": {},
   "outputs": [
    {
     "name": "stdout",
     "output_type": "stream",
     "text": [
      "TAATACGACTCACTATAGGGATTGCCGCATGGTTTCCG\n",
      "GGATTGCCGCATGGTTTCCG\n"
     ]
    },
    {
     "data": {
      "text/plain": [
       "Seq('CGGAAACCATGCGGCAATCC')"
      ]
     },
     "execution_count": 56,
     "metadata": {},
     "output_type": "execute_result"
    }
   ],
   "source": [
    "reverse_T7 = summary_df['Reverse primer seq'].tolist()[-1]\n",
    "print(reverse_T7)\n",
    "reverse_wo_T7 = reverse_T7[len(T7_seq):]\n",
    "print(reverse_wo_T7)\n",
    "\n",
    "from Bio import SeqIO\n",
    "from Bio.Seq import Seq\n",
    "\n",
    "\n",
    "Seq(reverse_wo_T7).reverse_complement()"
   ]
  },
  {
   "cell_type": "markdown",
   "id": "e834eddc",
   "metadata": {},
   "source": [
    "### Extract from RNA merfish oligoprobes"
   ]
  },
  {
   "cell_type": "code",
   "execution_count": 59,
   "id": "0b9bb1ac",
   "metadata": {},
   "outputs": [],
   "source": [
    "primary_folder = os.path.join(output_main_folder,'Primary')\n",
    "primary_fname = os.path.join(primary_folder, 'RNA MERFISH probes.csv')"
   ]
  },
  {
   "cell_type": "code",
   "execution_count": 60,
   "id": "09d4d766",
   "metadata": {},
   "outputs": [
    {
     "data": {
      "text/plain": [
       "['CGCGGTGGTGGTACGACATGAAGAGTGAGTAGTAGTGGAGTGTTAAGAACTGGGGAGCTGGAAAATGAGTGAAGGGTGTGTTTGTAAAGGGTAGCGCAACTAGGACGGACAA',\n",
       " 'CGCGGTGGTGGTACGACATGAAGGAGGAGGGTAATGATAGAGGAGGCTTCTCTTTCTAGTACATTTCTGCAAAGAGTGAGTAGTAGTGGAGTAGCGCAACTAGGACGGACAA',\n",
       " 'CGCGGTGGTGGTACGACATGAAGAGTGAGTAGTAGTGGAGTTTTTGGAGTTCAGGCTGTGGGTACAGACCTATGGGAGGATTGAGATGAGTTAGCGCAACTAGGACGGACAA']"
      ]
     },
     "execution_count": 60,
     "metadata": {},
     "output_type": "execute_result"
    }
   ],
   "source": [
    "primary_df = pd.read_csv(primary_fname)\n",
    "primary_df = primary_df[~primary_df['name'].str.contains('_sequential')]\n",
    "primary_df['sequence'][:3].tolist()"
   ]
  },
  {
   "cell_type": "code",
   "execution_count": 66,
   "id": "d3cc8542",
   "metadata": {},
   "outputs": [
    {
     "name": "stdout",
     "output_type": "stream",
     "text": [
      "CGCGGTGGTGGTACGACATG\n",
      "22005\n",
      "22005\n"
     ]
    }
   ],
   "source": [
    "print(primary_df['sequence'][:3].tolist()[0][:20])\n",
    "forward_seq = primary_df['sequence'][:3].tolist()[0][:20]\n",
    "\n",
    "# check\n",
    "print(np.sum(np.array([n[:20] for n in primary_df['sequence'].tolist()])==forward_seq))\n",
    "print(len(primary_df))"
   ]
  },
  {
   "cell_type": "code",
   "execution_count": 68,
   "id": "4a53a9ba",
   "metadata": {},
   "outputs": [
    {
     "name": "stdout",
     "output_type": "stream",
     "text": [
      "AGCGCAACTAGGACGGACAA\n",
      "22005\n",
      "22005\n"
     ]
    }
   ],
   "source": [
    "reverse_seq_rc = primary_df['sequence'][:3].tolist()[0][-20:]\n",
    "print(reverse_seq_rc)\n",
    "\n",
    "# check\n",
    "print(np.sum(np.array([n[-20:] for n in primary_df['sequence'].tolist()])==reverse_seq_rc))\n",
    "print(len(primary_df))"
   ]
  },
  {
   "cell_type": "code",
   "execution_count": 73,
   "id": "fb86b131",
   "metadata": {},
   "outputs": [
    {
     "name": "stdout",
     "output_type": "stream",
     "text": [
      "TTGTCCGTCCTAGTTGCGCT\n",
      "True\n",
      "TAATACGACTCACTATAGTTGTCCGTCCTAGTTGCGCT\n"
     ]
    }
   ],
   "source": [
    "from Bio import SeqIO\n",
    "from Bio.Seq import Seq\n",
    "\n",
    "reverse_wo_T7 = str(Seq(reverse_seq_rc).reverse_complement())\n",
    "print(reverse_wo_T7)\n",
    "\n",
    "print(Seq(reverse_wo_T7).reverse_complement() == primary_df['sequence'][:3].tolist()[0][-20:])\n",
    "\n",
    "reverse_T7 = T7_seq + reverse_wo_T7\n",
    "print(reverse_T7)"
   ]
  },
  {
   "cell_type": "code",
   "execution_count": 83,
   "id": "91637689",
   "metadata": {},
   "outputs": [
    {
     "data": {
      "text/html": [
       "<div>\n",
       "<style scoped>\n",
       "    .dataframe tbody tr th:only-of-type {\n",
       "        vertical-align: middle;\n",
       "    }\n",
       "\n",
       "    .dataframe tbody tr th {\n",
       "        vertical-align: top;\n",
       "    }\n",
       "\n",
       "    .dataframe thead th {\n",
       "        text-align: right;\n",
       "    }\n",
       "</style>\n",
       "<table border=\"1\" class=\"dataframe\">\n",
       "  <thead>\n",
       "    <tr style=\"text-align: right;\">\n",
       "      <th></th>\n",
       "      <th>Library</th>\n",
       "      <th>Sublibrary</th>\n",
       "      <th>Forward primer name</th>\n",
       "      <th>Reverse primer name</th>\n",
       "      <th>Forward primer seq</th>\n",
       "      <th>Reverse primer seq</th>\n",
       "    </tr>\n",
       "  </thead>\n",
       "  <tbody>\n",
       "    <tr>\n",
       "      <th>0</th>\n",
       "      <td>RNA MERFISH</td>\n",
       "      <td>RNA MERFISH_set_all</td>\n",
       "      <td>MOp_primer_F</td>\n",
       "      <td>MOp_primer_R</td>\n",
       "      <td>CGCGGTGGTGGTACGACATG</td>\n",
       "      <td>TAATACGACTCACTATAGTTGTCCGTCCTAGTTGCGCT</td>\n",
       "    </tr>\n",
       "  </tbody>\n",
       "</table>\n",
       "</div>"
      ],
      "text/plain": [
       "       Library           Sublibrary Forward primer name Reverse primer name  \\\n",
       "0  RNA MERFISH  RNA MERFISH_set_all        MOp_primer_F        MOp_primer_R   \n",
       "\n",
       "     Forward primer seq                      Reverse primer seq  \n",
       "0  CGCGGTGGTGGTACGACATG  TAATACGACTCACTATAGTTGTCCGTCCTAGTTGCGCT  "
      ]
     },
     "execution_count": 83,
     "metadata": {},
     "output_type": "execute_result"
    }
   ],
   "source": [
    "merfish_primer_dict = {'Library': 'RNA MERFISH', \n",
    "                       'Sublibrary': 'RNA MERFISH_set_all', \n",
    "                       'Forward primer name': 'MOp_primer_F',\n",
    "                       'Reverse primer name': 'MOp_primer_R',\n",
    "                       'Forward primer seq': forward_seq,\n",
    "                       'Reverse primer seq': reverse_T7,}\n",
    "\n",
    "merfish_primer_df = pd.DataFrame(merfish_primer_dict, index=[0])\n",
    "merfish_primer_df"
   ]
  },
  {
   "cell_type": "markdown",
   "id": "9052db75",
   "metadata": {},
   "source": [
    "## Merge all primers"
   ]
  },
  {
   "cell_type": "code",
   "execution_count": 84,
   "id": "aba5d9cd",
   "metadata": {},
   "outputs": [
    {
     "data": {
      "text/html": [
       "<div>\n",
       "<style scoped>\n",
       "    .dataframe tbody tr th:only-of-type {\n",
       "        vertical-align: middle;\n",
       "    }\n",
       "\n",
       "    .dataframe tbody tr th {\n",
       "        vertical-align: top;\n",
       "    }\n",
       "\n",
       "    .dataframe thead th {\n",
       "        text-align: right;\n",
       "    }\n",
       "</style>\n",
       "<table border=\"1\" class=\"dataframe\">\n",
       "  <thead>\n",
       "    <tr style=\"text-align: right;\">\n",
       "      <th></th>\n",
       "      <th>Library</th>\n",
       "      <th>Sublibrary</th>\n",
       "      <th>Forward primer name</th>\n",
       "      <th>Reverse primer name</th>\n",
       "      <th>Forward primer seq</th>\n",
       "      <th>Reverse primer seq</th>\n",
       "    </tr>\n",
       "  </thead>\n",
       "  <tbody>\n",
       "    <tr>\n",
       "      <th>34</th>\n",
       "      <td>Genome chromatin</td>\n",
       "      <td>Genome chromatin_set_1_and_2</td>\n",
       "      <td>W1A03_primer_2</td>\n",
       "      <td>W1A10_primer_9</td>\n",
       "      <td>CCCGCAATGGCTGACAACCG</td>\n",
       "      <td>TAATACGACTCACTATAGGGATTGCCGCATGGTTTCCG</td>\n",
       "    </tr>\n",
       "    <tr>\n",
       "      <th>35</th>\n",
       "      <td>Genome chromatin</td>\n",
       "      <td>Genome chromatin_set_3</td>\n",
       "      <td>W1A07_primer_6</td>\n",
       "      <td>W1A12_primer_11</td>\n",
       "      <td>CGCAAACTGGTGCGGAAGGC</td>\n",
       "      <td>TAATACGACTCACTATAGGGCCATTGCCCGCGAGGTCGAG</td>\n",
       "    </tr>\n",
       "    <tr>\n",
       "      <th>36</th>\n",
       "      <td>Genome chromatin</td>\n",
       "      <td>Genome chromatin_set_4</td>\n",
       "      <td>W1B05_primer_16</td>\n",
       "      <td>W1B04_primer_15</td>\n",
       "      <td>CGGGTTTCGTTGCGCACACC</td>\n",
       "      <td>TAATACGACTCACTATAGGGCTTGTGCATCGCGCCAAAGA</td>\n",
       "    </tr>\n",
       "    <tr>\n",
       "      <th>41</th>\n",
       "      <td>Marker chromatin</td>\n",
       "      <td>Marker chromatin_set_all</td>\n",
       "      <td>W1A07_primer_6</td>\n",
       "      <td>W1A12_primer_11</td>\n",
       "      <td>CGCAAACTGGTGCGGAAGGC</td>\n",
       "      <td>TAATACGACTCACTATAGGGCCATTGCCCGCGAGGTCGAG</td>\n",
       "    </tr>\n",
       "    <tr>\n",
       "      <th>44</th>\n",
       "      <td>Super-enhancer chromatin</td>\n",
       "      <td>Super-enhancer chromatin_set_all</td>\n",
       "      <td>W1A03_primer_2</td>\n",
       "      <td>W1A10_primer_9</td>\n",
       "      <td>CCCGCAATGGCTGACAACCG</td>\n",
       "      <td>TAATACGACTCACTATAGGGATTGCCGCATGGTTTCCG</td>\n",
       "    </tr>\n",
       "    <tr>\n",
       "      <th>0</th>\n",
       "      <td>RNA MERFISH</td>\n",
       "      <td>RNA MERFISH_set_all</td>\n",
       "      <td>MOp_primer_F</td>\n",
       "      <td>MOp_primer_R</td>\n",
       "      <td>CGCGGTGGTGGTACGACATG</td>\n",
       "      <td>TAATACGACTCACTATAGTTGTCCGTCCTAGTTGCGCT</td>\n",
       "    </tr>\n",
       "  </tbody>\n",
       "</table>\n",
       "</div>"
      ],
      "text/plain": [
       "                     Library                        Sublibrary  \\\n",
       "34          Genome chromatin      Genome chromatin_set_1_and_2   \n",
       "35          Genome chromatin            Genome chromatin_set_3   \n",
       "36          Genome chromatin            Genome chromatin_set_4   \n",
       "41          Marker chromatin          Marker chromatin_set_all   \n",
       "44  Super-enhancer chromatin  Super-enhancer chromatin_set_all   \n",
       "0                RNA MERFISH               RNA MERFISH_set_all   \n",
       "\n",
       "   Forward primer name Reverse primer name    Forward primer seq  \\\n",
       "34      W1A03_primer_2      W1A10_primer_9  CCCGCAATGGCTGACAACCG   \n",
       "35      W1A07_primer_6     W1A12_primer_11  CGCAAACTGGTGCGGAAGGC   \n",
       "36     W1B05_primer_16     W1B04_primer_15  CGGGTTTCGTTGCGCACACC   \n",
       "41      W1A07_primer_6     W1A12_primer_11  CGCAAACTGGTGCGGAAGGC   \n",
       "44      W1A03_primer_2      W1A10_primer_9  CCCGCAATGGCTGACAACCG   \n",
       "0         MOp_primer_F        MOp_primer_R  CGCGGTGGTGGTACGACATG   \n",
       "\n",
       "                          Reverse primer seq  \n",
       "34    TAATACGACTCACTATAGGGATTGCCGCATGGTTTCCG  \n",
       "35  TAATACGACTCACTATAGGGCCATTGCCCGCGAGGTCGAG  \n",
       "36  TAATACGACTCACTATAGGGCTTGTGCATCGCGCCAAAGA  \n",
       "41  TAATACGACTCACTATAGGGCCATTGCCCGCGAGGTCGAG  \n",
       "44    TAATACGACTCACTATAGGGATTGCCGCATGGTTTCCG  \n",
       "0     TAATACGACTCACTATAGTTGTCCGTCCTAGTTGCGCT  "
      ]
     },
     "execution_count": 84,
     "metadata": {},
     "output_type": "execute_result"
    }
   ],
   "source": [
    "merged_summary_df = pd.concat([summary_df, merfish_primer_df])\n",
    "merged_summary_df"
   ]
  },
  {
   "cell_type": "code",
   "execution_count": 85,
   "id": "ab5d87aa",
   "metadata": {},
   "outputs": [
    {
     "name": "stdout",
     "output_type": "stream",
     "text": [
      "Save Primers\n"
     ]
    }
   ],
   "source": [
    "_name = 'Primers'\n",
    "csv_fname = os.path.join(output_sub_folder, f'{_name}.csv')\n",
    "if not os.path.exists(csv_fname):\n",
    "    print(f'Save {_name}')\n",
    "    merged_summary_df.to_csv(csv_fname, index=False)\n",
    "else:\n",
    "    print(f'Skip {_name}')"
   ]
  },
  {
   "cell_type": "markdown",
   "id": "c4cf99c9",
   "metadata": {},
   "source": [
    "# 3. Convert common readouts"
   ]
  },
  {
   "cell_type": "markdown",
   "id": "19b009a0",
   "metadata": {},
   "source": [
    "## Manual input using order quote"
   ]
  },
  {
   "cell_type": "code",
   "execution_count": 88,
   "id": "04303d6e",
   "metadata": {},
   "outputs": [
    {
     "data": {
      "text/html": [
       "<div>\n",
       "<style scoped>\n",
       "    .dataframe tbody tr th:only-of-type {\n",
       "        vertical-align: middle;\n",
       "    }\n",
       "\n",
       "    .dataframe tbody tr th {\n",
       "        vertical-align: top;\n",
       "    }\n",
       "\n",
       "    .dataframe thead th {\n",
       "        text-align: right;\n",
       "    }\n",
       "</style>\n",
       "<table border=\"1\" class=\"dataframe\">\n",
       "  <thead>\n",
       "    <tr style=\"text-align: right;\">\n",
       "      <th></th>\n",
       "      <th>name</th>\n",
       "      <th>sequence</th>\n",
       "    </tr>\n",
       "  </thead>\n",
       "  <tbody>\n",
       "    <tr>\n",
       "      <th>0</th>\n",
       "      <td>Stv82_ss_Alex750N</td>\n",
       "      <td>/5Alex750N//iThioMC6-D/G TCA AGG ACG GCA GTG C...</td>\n",
       "    </tr>\n",
       "    <tr>\n",
       "      <th>1</th>\n",
       "      <td>Stv1_ss_Alex647N</td>\n",
       "      <td>/5Alex647N//iThioMC6-D/G GGA CGG TTC CAA TCG G...</td>\n",
       "    </tr>\n",
       "    <tr>\n",
       "      <th>2</th>\n",
       "      <td>Stv79_ss_Atto565N</td>\n",
       "      <td>/5ATTO565N//iThioMC6-D/T GAA AGC CGG ACA GTT C...</td>\n",
       "    </tr>\n",
       "  </tbody>\n",
       "</table>\n",
       "</div>"
      ],
      "text/plain": [
       "                name                                           sequence\n",
       "0  Stv82_ss_Alex750N  /5Alex750N//iThioMC6-D/G TCA AGG ACG GCA GTG C...\n",
       "1   Stv1_ss_Alex647N  /5Alex647N//iThioMC6-D/G GGA CGG TTC CAA TCG G...\n",
       "2  Stv79_ss_Atto565N  /5ATTO565N//iThioMC6-D/T GAA AGC CGG ACA GTT C..."
      ]
     },
     "execution_count": 88,
     "metadata": {},
     "output_type": "execute_result"
    }
   ],
   "source": [
    "# \\\\10.245.74.212\\Chromatin_NAS_2\\Chromatin_Libraries\\Readouts\\common_readouts\n",
    "# QuoteRequest-QTE-163948.pdf\n",
    "\n",
    "readout_dict = {'name': ['Stv82_ss_Alex750N', \n",
    "                         'Stv1_ss_Alex647N', \n",
    "                         'Stv79_ss_Atto565N'], \n",
    "                \n",
    "                \n",
    "                'sequence': ['/5Alex750N//iThioMC6-D/G TCA AGG ACG GCA GTG CAA A',\n",
    "                             '/5Alex647N//iThioMC6-D/G GGA CGG TTC CAA TCG GAT C',\n",
    "                             '/5ATTO565N//iThioMC6-D/T GAA AGC CGG ACA GTT CGC A']}\n",
    "\n",
    "readout_df = pd.DataFrame(readout_dict)\n",
    "readout_df"
   ]
  },
  {
   "cell_type": "markdown",
   "id": "6cc31564",
   "metadata": {},
   "source": [
    "## Inspect by adaptors"
   ]
  },
  {
   "cell_type": "code",
   "execution_count": 95,
   "id": "d08b18b1",
   "metadata": {},
   "outputs": [
    {
     "name": "stdout",
     "output_type": "stream",
     "text": [
      "['TGACGTCGGTTTGGACGAGATTTGCACTGCCGTCCTTGACTTTGCACTGCCGTCCTTGAC', 'CGTTCGTACCGCGTACTTCGGATCCGATTGGAACCGTCCCGATCCGATTGGAACCGTCCC', 'CCCTTGTGAGCGCCCGACATTGCGAACTGTCCGGCTTTCATGCGAACTGTCCGGCTTTCA']\n"
     ]
    },
    {
     "data": {
      "text/html": [
       "<div>\n",
       "<style scoped>\n",
       "    .dataframe tbody tr th:only-of-type {\n",
       "        vertical-align: middle;\n",
       "    }\n",
       "\n",
       "    .dataframe tbody tr th {\n",
       "        vertical-align: top;\n",
       "    }\n",
       "\n",
       "    .dataframe thead th {\n",
       "        text-align: right;\n",
       "    }\n",
       "</style>\n",
       "<table border=\"1\" class=\"dataframe\">\n",
       "  <thead>\n",
       "    <tr style=\"text-align: right;\">\n",
       "      <th></th>\n",
       "      <th>name</th>\n",
       "      <th>sequence</th>\n",
       "    </tr>\n",
       "  </thead>\n",
       "  <tbody>\n",
       "    <tr>\n",
       "      <th>0</th>\n",
       "      <td>Bit-1-Stv_91_2xStv_82rc</td>\n",
       "      <td>TGACGTCGGTTTGGACGAGATTTGCACTGCCGTCCTTGACTTTGCA...</td>\n",
       "    </tr>\n",
       "    <tr>\n",
       "      <th>1</th>\n",
       "      <td>Bit-2-Stv_32_2xStv_1rc</td>\n",
       "      <td>CGTTCGTACCGCGTACTTCGGATCCGATTGGAACCGTCCCGATCCG...</td>\n",
       "    </tr>\n",
       "    <tr>\n",
       "      <th>2</th>\n",
       "      <td>Bit-3-Stv_92_2xStv_79rc</td>\n",
       "      <td>CCCTTGTGAGCGCCCGACATTGCGAACTGTCCGGCTTTCATGCGAA...</td>\n",
       "    </tr>\n",
       "  </tbody>\n",
       "</table>\n",
       "</div>"
      ],
      "text/plain": [
       "                      name                                           sequence\n",
       "0  Bit-1-Stv_91_2xStv_82rc  TGACGTCGGTTTGGACGAGATTTGCACTGCCGTCCTTGACTTTGCA...\n",
       "1   Bit-2-Stv_32_2xStv_1rc  CGTTCGTACCGCGTACTTCGGATCCGATTGGAACCGTCCCGATCCG...\n",
       "2  Bit-3-Stv_92_2xStv_79rc  CCCTTGTGAGCGCCCGACATTGCGAACTGTCCGGCTTTCATGCGAA..."
      ]
     },
     "execution_count": 95,
     "metadata": {},
     "output_type": "execute_result"
    }
   ],
   "source": [
    "adaptor_folder = os.path.join(output_main_folder,'Adaptor')\n",
    "adaptor_fname = os.path.join(adaptor_folder, 'Marker chromatin adaptors.csv')\n",
    "\n",
    "adaptor_df = pd.read_csv(adaptor_fname)\n",
    "print(adaptor_df[:3]['sequence'].tolist())\n",
    "\n",
    "adaptor_df[:3]"
   ]
  },
  {
   "cell_type": "code",
   "execution_count": 124,
   "id": "42e146ad",
   "metadata": {},
   "outputs": [
    {
     "name": "stdout",
     "output_type": "stream",
     "text": [
      "Check Stv82_ss_Alex750N\n",
      "readout on adaptor: TTTGCACTGCCGTCCTTGAC\n",
      "  \n",
      "readout from adaptor rc: GTCAAGGACGGCAGTGCAAA\n",
      "readout from quote:      GTCAAGGACGGCAGTGCAAA\n",
      "True\n",
      "Check Stv1_ss_Alex647N\n",
      "readout on adaptor: TTTGCACTGCCGTCCTTGAC\n",
      "  \n",
      "readout from adaptor rc: GTCAAGGACGGCAGTGCAAA\n",
      "readout from quote:      GTCAAGGACGGCAGTGCAAA\n",
      "True\n",
      "Check Stv79_ss_Atto565N\n",
      "readout on adaptor: TTTGCACTGCCGTCCTTGAC\n",
      "  \n",
      "readout from adaptor rc: GTCAAGGACGGCAGTGCAAA\n",
      "readout from quote:      GTCAAGGACGGCAGTGCAAA\n",
      "True\n"
     ]
    }
   ],
   "source": [
    "from Bio import SeqIO\n",
    "from Bio.Seq import Seq\n",
    "\n",
    "for sel_idx in [0,1,2]:\n",
    "    \n",
    "    _ch = readout_df['name'].tolist()[sel_idx]\n",
    "    print(f'Check {_ch}')\n",
    "    \n",
    "    sel_adaptor = adaptor_df[:3]['sequence'].tolist()[sel_idx]\n",
    "    #print(len(sel_adaptor))\n",
    "    #print(sel_adaptor)\n",
    "\n",
    "    readout_from_adaptor = adaptor_df[:3]['sequence'].tolist()[0][-20:]\n",
    "    #print(len(readout_from_adaptor))\n",
    "    print('readout on adaptor:', readout_from_adaptor)\n",
    "    print('  ')\n",
    "    #readout_seq = str(Seq(readout_from_adaptor).reverse_complement())\n",
    "    #readout_seq\n",
    "\n",
    "    readout_seq = str(Seq(readout_from_adaptor).reverse_complement())\n",
    "    print('readout from adaptor rc:', readout_seq)\n",
    "\n",
    "\n",
    "    readout_seq_quote = readout_df['sequence'].tolist()[0]\n",
    "    readout_seq_quote = readout_seq_quote.split('/')[-1].replace(' ', '')\n",
    "    print('readout from quote:     ', readout_seq_quote)\n",
    "    \n",
    "    \n",
    "    print(readout_seq == readout_seq_quote)\n",
    "    "
   ]
  },
  {
   "cell_type": "code",
   "execution_count": 125,
   "id": "f5fe27be",
   "metadata": {},
   "outputs": [
    {
     "name": "stdout",
     "output_type": "stream",
     "text": [
      "Save Common readouts\n"
     ]
    }
   ],
   "source": [
    "_name = 'Common readouts'\n",
    "csv_fname = os.path.join(output_sub_folder, f'{_name}.csv')\n",
    "if not os.path.exists(csv_fname):\n",
    "    print(f'Save {_name}')\n",
    "    readout_df.to_csv(csv_fname, index=False)\n",
    "else:\n",
    "    print(f'Skip {_name}')"
   ]
  },
  {
   "cell_type": "markdown",
   "id": "ac3eaa8c",
   "metadata": {},
   "source": [
    "# 4. Save all probes as seperate excel sheet"
   ]
  },
  {
   "cell_type": "code",
   "execution_count": 126,
   "id": "01a774e2",
   "metadata": {},
   "outputs": [
    {
     "name": "stdout",
     "output_type": "stream",
     "text": [
      "Save L:\\Shiwei\\Figures\\MOp_draft_2023_v2\\Supplementary_tables\\Table_3_MOp_primer_and_readout_oligopropes.xlsx\n"
     ]
    }
   ],
   "source": [
    "excel_fname = os.path.join(output_main_folder, f'Table_S3_MOp_primer_and_readout_oligopropes.xlsx')\n",
    "\n",
    "if not os.path.exists(excel_fname):\n",
    "    print(f'Save {excel_fname}')\n",
    "    with pd.ExcelWriter(excel_fname) as writer:  \n",
    "        for _name_csv in os.listdir(output_sub_folder):\n",
    "            _df = pd.read_csv(os.path.join(output_sub_folder,_name_csv))\n",
    "            _name = _name_csv.split('.csv')[0]\n",
    "            _df.to_excel(writer, sheet_name=_name, index=False)\n",
    "        \n",
    "else:\n",
    "    print(f'Skip {excel_fname}')\n",
    "        "
   ]
  }
 ],
 "metadata": {
  "kernelspec": {
   "display_name": "Python 3 (ipykernel)",
   "language": "python",
   "name": "python3"
  },
  "language_info": {
   "codemirror_mode": {
    "name": "ipython",
    "version": 3
   },
   "file_extension": ".py",
   "mimetype": "text/x-python",
   "name": "python",
   "nbconvert_exporter": "python",
   "pygments_lexer": "ipython3",
   "version": "3.10.8"
  },
  "toc": {
   "base_numbering": 1,
   "nav_menu": {},
   "number_sections": false,
   "sideBar": true,
   "skip_h1_title": false,
   "title_cell": "Table of Contents",
   "title_sidebar": "Contents",
   "toc_cell": false,
   "toc_position": {
    "height": "calc(100% - 180px)",
    "left": "10px",
    "top": "150px",
    "width": "426.667px"
   },
   "toc_section_display": true,
   "toc_window_display": true
  }
 },
 "nbformat": 4,
 "nbformat_minor": 5
}
