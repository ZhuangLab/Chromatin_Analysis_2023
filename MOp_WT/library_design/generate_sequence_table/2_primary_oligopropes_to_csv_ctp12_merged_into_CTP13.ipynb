{
 "cells": [
  {
   "cell_type": "markdown",
   "id": "04309776",
   "metadata": {},
   "source": [
    "# 1. Load packages"
   ]
  },
  {
   "cell_type": "markdown",
   "metadata": {},
   "source": [
    "The link to get [ImageAnalysis3](https://github.com/zhengpuas47/ImageAnalysis3) \n",
    "\n",
    "or the Zhuang lab archived [source_tools](https://github.com/ZhuangLab/Chromatin_Analysis_2020_cell/tree/master/sequential_tracing/source)"
   ]
  },
  {
   "cell_type": "code",
   "execution_count": 4,
   "id": "c9cb0a4e",
   "metadata": {},
   "outputs": [
    {
     "name": "stdout",
     "output_type": "stream",
     "text": [
      "40476\n",
      "Use existing analysis folder: L:\\Shiwei\\Figures\\MOp_draft_2023_v2\\Nuclear_organization_v2\\analysis.\n",
      "Use existing figure folder: L:\\Shiwei\\Figures\\MOp_draft_2023_v2\\Nuclear_organization_v2\\figures.\n"
     ]
    }
   ],
   "source": [
    "%run \"C:\\Users\\shiwei\\Documents\\ImageAnalysis3\\required_files\\Startup_py3.py\"\n",
    "sys.path.append(r\"C:\\Users\\shiwei\\Documents\")\n",
    "\n",
    "import ImageAnalysis3 as ia\n",
    "%matplotlib notebook\n",
    "\n",
    "from ImageAnalysis3 import *\n",
    "print(os.getpid())\n",
    "\n",
    "import h5py\n",
    "from ImageAnalysis3.classes import _allowed_kwds\n",
    "import ast\n",
    "\n",
    "import pandas as pd## 1.1 Define output folder\n",
    "\n",
    "output_main_folder = r'L:\\Shiwei\\Figures\\MOp_draft_2023_v2\\Nuclear_organization_v2'\n",
    "output_analysis_folder = os.path.join(output_main_folder, 'analysis')\n",
    "output_figure_folder = os.path.join(output_main_folder, 'figures')\n",
    "\n",
    "make_output_folder = True\n",
    "\n",
    "if make_output_folder and not os.path.exists(output_analysis_folder):\n",
    "    os.makedirs(output_analysis_folder)\n",
    "    print(f'Generating analysis folder: {output_analysis_folder}.')\n",
    "elif os.path.exists(output_analysis_folder):\n",
    "    print(f'Use existing analysis folder: {output_analysis_folder}.')\n",
    "    \n",
    "if make_output_folder and not os.path.exists(output_figure_folder):\n",
    "    os.makedirs(output_figure_folder)\n",
    "    print(f'Generating figure folder: {output_figure_folder}.')\n",
    "elif os.path.exists(output_figure_folder):\n",
    "    print(f'Use existing figure folder: {output_figure_folder}.')"
   ]
  },
  {
   "cell_type": "code",
   "execution_count": 5,
   "id": "64ed1b78",
   "metadata": {},
   "outputs": [],
   "source": [
    "import seaborn as sns\n",
    "import scanpy as sc\n",
    "import numpy as np"
   ]
  },
  {
   "cell_type": "markdown",
   "id": "d1ec4623",
   "metadata": {},
   "source": [
    "## 1.1 Define output folder"
   ]
  },
  {
   "cell_type": "code",
   "execution_count": 6,
   "id": "609b2e20",
   "metadata": {},
   "outputs": [
    {
     "name": "stdout",
     "output_type": "stream",
     "text": [
      "Use existing output folder: L:\\Shiwei\\Figures\\MOp_draft_2023_v2\\Supplementary_tables.\n",
      "Use existing output subfolder: L:\\Shiwei\\Figures\\MOp_draft_2023_v2\\Supplementary_tables\\Primary.\n"
     ]
    }
   ],
   "source": [
    "output_main_folder = r'L:\\Shiwei\\Figures\\MOp_draft_2023_v2\\Supplementary_tables'\n",
    "output_sub_folder = os.path.join(output_main_folder, 'Primary')\n",
    "#output_figure_folder = os.path.join(output_main_folder, 'figures')\n",
    "\n",
    "make_output_folder = True\n",
    "\n",
    "if output_main_folder and not os.path.exists(output_main_folder):\n",
    "    os.makedirs(output_main_folder)\n",
    "    print(f'Generating output folder: {output_main_folder}.')\n",
    "elif os.path.exists(output_analysis_folder):\n",
    "    print(f'Use existing output folder: {output_main_folder}.')\n",
    "\n",
    "    \n",
    "if output_main_folder and not os.path.exists(output_sub_folder):\n",
    "    os.makedirs(output_sub_folder)\n",
    "    print(f'Generating output subfolder: {output_sub_folder}.')\n",
    "elif os.path.exists(output_sub_folder):\n",
    "    print(f'Use existing output subfolder: {output_sub_folder}.')"
   ]
  },
  {
   "cell_type": "markdown",
   "id": "77d389bb",
   "metadata": {},
   "source": [
    "# 2. Load library folder"
   ]
  },
  {
   "cell_type": "code",
   "execution_count": 11,
   "id": "6c708cba",
   "metadata": {},
   "outputs": [],
   "source": [
    "library_main_folder = r'\\\\10.245.74.212\\Chromatin_NAS_2\\Chromatin_Libraries'\n",
    "\n",
    "ctp14_folder = os.path.join(library_main_folder, 'CTP-14_human_brain', 'mouse_TSS_integrate_CTP13')\n"
   ]
  },
  {
   "cell_type": "code",
   "execution_count": 12,
   "id": "352b728e",
   "metadata": {},
   "outputs": [],
   "source": [
    "\n",
    "ctp14_fname = os.path.join(ctp14_folder, 'blast_full_probes.fasta')\n"
   ]
  },
  {
   "cell_type": "markdown",
   "id": "662c7321",
   "metadata": {},
   "source": [
    "## convert each library"
   ]
  },
  {
   "cell_type": "code",
   "execution_count": 13,
   "id": "15187968",
   "metadata": {},
   "outputs": [
    {
     "name": "stdout",
     "output_type": "stream",
     "text": [
      "Process Marker chromatin probes by MERFISH\n",
      "Kept 3360 probes for Marker chromatin probes by MERFISH\n",
      "=================\n"
     ]
    }
   ],
   "source": [
    "from Bio import SeqIO\n",
    "\n",
    "probes_df_dict = {}\n",
    "df_savename_list = [#'RNA MERFISH probes', \n",
    "                    #'Genome chromatin probes', \n",
    "                    'Marker chromatin probes by MERFISH', \n",
    "                    #'Super-enhancer chromatin probes'\n",
    "                    ]\n",
    "\n",
    "for final_pb_filename, df_savename in zip([ctp14_fname],df_savename_list):\n",
    "    print(f'Process {df_savename}')\n",
    "    # export fasta info\n",
    "    probes_dict = {'name':[],'sequence':[]}\n",
    "    with open(final_pb_filename, 'r') as handle:\n",
    "        for record in SeqIO.parse(handle, \"fasta\"):\n",
    "            probes_dict['name'].append(record.description)\n",
    "            probes_dict['sequence'].append(str(record.seq))\n",
    "            \n",
    "    # convert df \n",
    "    probes_df = pd.DataFrame(probes_dict)\n",
    "    \n",
    "    probes_df_dict[df_savename] = probes_df\n",
    "    print(f'Kept {len(probes_df)} probes for {df_savename}')\n",
    "    print(f'=================')\n",
    "    "
   ]
  },
  {
   "cell_type": "code",
   "execution_count": 15,
   "id": "f8c0ea65",
   "metadata": {},
   "outputs": [
    {
     "data": {
      "text/html": [
       "<div>\n",
       "<style scoped>\n",
       "    .dataframe tbody tr th:only-of-type {\n",
       "        vertical-align: middle;\n",
       "    }\n",
       "\n",
       "    .dataframe tbody tr th {\n",
       "        vertical-align: top;\n",
       "    }\n",
       "\n",
       "    .dataframe thead th {\n",
       "        text-align: right;\n",
       "    }\n",
       "</style>\n",
       "<table border=\"1\" class=\"dataframe\">\n",
       "  <thead>\n",
       "    <tr style=\"text-align: right;\">\n",
       "      <th></th>\n",
       "      <th>name</th>\n",
       "      <th>sequence</th>\n",
       "    </tr>\n",
       "  </thead>\n",
       "  <tbody>\n",
       "    <tr>\n",
       "      <th>0</th>\n",
       "      <td>loc_18:15400982-15420982_gene_Aqp4_pb_73_pos_5...</td>\n",
       "      <td>CACGTGGCCTCTCGCACATCCCACACACGATGACGTGCATCCACAC...</td>\n",
       "    </tr>\n",
       "    <tr>\n",
       "      <th>1</th>\n",
       "      <td>loc_18:15400982-15420982_gene_Aqp4_pb_74_pos_5...</td>\n",
       "      <td>CACGTGGCCTCTCGCACATCTTGTAAATACCGCCTCACGATTGTAA...</td>\n",
       "    </tr>\n",
       "    <tr>\n",
       "      <th>2</th>\n",
       "      <td>loc_18:15400982-15420982_gene_Aqp4_pb_75_pos_5...</td>\n",
       "      <td>CACGTGGCCTCTCGCACATCTATGCGCAAGCTATCGGACATATGCG...</td>\n",
       "    </tr>\n",
       "    <tr>\n",
       "      <th>3</th>\n",
       "      <td>loc_18:15400982-15420982_gene_Aqp4_pb_76_pos_5...</td>\n",
       "      <td>CACGTGGCCTCTCGCACATCCCACACACGATGACGTGCATCCACAC...</td>\n",
       "    </tr>\n",
       "    <tr>\n",
       "      <th>4</th>\n",
       "      <td>loc_18:15400982-15420982_gene_Aqp4_pb_77_pos_5...</td>\n",
       "      <td>CACGTGGCCTCTCGCACATCTTGTAAATACCGCCTCACGATTGTAA...</td>\n",
       "    </tr>\n",
       "    <tr>\n",
       "      <th>...</th>\n",
       "      <td>...</td>\n",
       "      <td>...</td>\n",
       "    </tr>\n",
       "    <tr>\n",
       "      <th>3355</th>\n",
       "      <td>loc_11:78489091-78509091_gene_Vtn_pb_187_pos_1...</td>\n",
       "      <td>CACGTGGCCTCTCGCACATCTACGGATCCTACGAATACGATACGGA...</td>\n",
       "    </tr>\n",
       "    <tr>\n",
       "      <th>3356</th>\n",
       "      <td>loc_11:78489091-78509091_gene_Vtn_pb_188_pos_1...</td>\n",
       "      <td>CACGTGGCCTCTCGCACATCCCATTTCGTGCGAAGCGATACCATTT...</td>\n",
       "    </tr>\n",
       "    <tr>\n",
       "      <th>3357</th>\n",
       "      <td>loc_11:78489091-78509091_gene_Vtn_pb_189_pos_1...</td>\n",
       "      <td>CACGTGGCCTCTCGCACATCATAACGACTTGCGGATGCCAATAACG...</td>\n",
       "    </tr>\n",
       "    <tr>\n",
       "      <th>3358</th>\n",
       "      <td>loc_11:78489091-78509091_gene_Vtn_pb_190_pos_1...</td>\n",
       "      <td>CACGTGGCCTCTCGCACATCTACGGATCCTACGAATACGATACGGA...</td>\n",
       "    </tr>\n",
       "    <tr>\n",
       "      <th>3359</th>\n",
       "      <td>loc_11:78489091-78509091_gene_Vtn_pb_191_pos_1...</td>\n",
       "      <td>CACGTGGCCTCTCGCACATCCCATTTCGTGCGAAGCGATACCATTT...</td>\n",
       "    </tr>\n",
       "  </tbody>\n",
       "</table>\n",
       "<p>3360 rows × 2 columns</p>\n",
       "</div>"
      ],
      "text/plain": [
       "                                                   name  \\\n",
       "0     loc_18:15400982-15420982_gene_Aqp4_pb_73_pos_5...   \n",
       "1     loc_18:15400982-15420982_gene_Aqp4_pb_74_pos_5...   \n",
       "2     loc_18:15400982-15420982_gene_Aqp4_pb_75_pos_5...   \n",
       "3     loc_18:15400982-15420982_gene_Aqp4_pb_76_pos_5...   \n",
       "4     loc_18:15400982-15420982_gene_Aqp4_pb_77_pos_5...   \n",
       "...                                                 ...   \n",
       "3355  loc_11:78489091-78509091_gene_Vtn_pb_187_pos_1...   \n",
       "3356  loc_11:78489091-78509091_gene_Vtn_pb_188_pos_1...   \n",
       "3357  loc_11:78489091-78509091_gene_Vtn_pb_189_pos_1...   \n",
       "3358  loc_11:78489091-78509091_gene_Vtn_pb_190_pos_1...   \n",
       "3359  loc_11:78489091-78509091_gene_Vtn_pb_191_pos_1...   \n",
       "\n",
       "                                               sequence  \n",
       "0     CACGTGGCCTCTCGCACATCCCACACACGATGACGTGCATCCACAC...  \n",
       "1     CACGTGGCCTCTCGCACATCTTGTAAATACCGCCTCACGATTGTAA...  \n",
       "2     CACGTGGCCTCTCGCACATCTATGCGCAAGCTATCGGACATATGCG...  \n",
       "3     CACGTGGCCTCTCGCACATCCCACACACGATGACGTGCATCCACAC...  \n",
       "4     CACGTGGCCTCTCGCACATCTTGTAAATACCGCCTCACGATTGTAA...  \n",
       "...                                                 ...  \n",
       "3355  CACGTGGCCTCTCGCACATCTACGGATCCTACGAATACGATACGGA...  \n",
       "3356  CACGTGGCCTCTCGCACATCCCATTTCGTGCGAAGCGATACCATTT...  \n",
       "3357  CACGTGGCCTCTCGCACATCATAACGACTTGCGGATGCCAATAACG...  \n",
       "3358  CACGTGGCCTCTCGCACATCTACGGATCCTACGAATACGATACGGA...  \n",
       "3359  CACGTGGCCTCTCGCACATCCCATTTCGTGCGAAGCGATACCATTT...  \n",
       "\n",
       "[3360 rows x 2 columns]"
      ]
     },
     "execution_count": 15,
     "metadata": {},
     "output_type": "execute_result"
    }
   ],
   "source": [
    "probes_df_dict['Marker chromatin probes by MERFISH']"
   ]
  },
  {
   "cell_type": "markdown",
   "id": "d1a21321",
   "metadata": {},
   "source": [
    "# save each library"
   ]
  },
  {
   "cell_type": "code",
   "execution_count": 16,
   "id": "c8b254f3",
   "metadata": {},
   "outputs": [
    {
     "name": "stdout",
     "output_type": "stream",
     "text": [
      "Save Marker chromatin probes by MERFISH\n"
     ]
    }
   ],
   "source": [
    "for _name, _df in probes_df_dict.items():\n",
    "    csv_fname = os.path.join(output_sub_folder, f'{_name}.csv')\n",
    "    if not os.path.exists(csv_fname):\n",
    "        print(f'Save {_name}')\n",
    "        _df.to_csv(csv_fname, index=False)\n",
    "    else:\n",
    "        print(f'Skip {_name}')"
   ]
  },
  {
   "cell_type": "markdown",
   "id": "c060462a",
   "metadata": {},
   "source": [
    "## merge with other excel sheet manually"
   ]
  },
  {
   "cell_type": "raw",
   "id": "29d2bee2",
   "metadata": {},
   "source": [
    "excel_fname = os.path.join(output_main_folder, f'Table_S1_MOp_primary_oligopropes.xlsx')\n",
    "\n",
    "if not os.path.exists(excel_fname):\n",
    "    print(f'Save {excel_fname}')\n",
    "    with pd.ExcelWriter(excel_fname) as writer:  \n",
    "        for _name, _df in probes_df_dict.items():\n",
    "            _df.to_excel(writer, sheet_name=_name, index=False)\n",
    "        \n",
    "else:\n",
    "    print(f'Skip {excel_fname}')\n",
    "        "
   ]
  }
 ],
 "metadata": {
  "kernelspec": {
   "display_name": "Python 3 (ipykernel)",
   "language": "python",
   "name": "python3"
  },
  "language_info": {
   "codemirror_mode": {
    "name": "ipython",
    "version": 3
   },
   "file_extension": ".py",
   "mimetype": "text/x-python",
   "name": "python",
   "nbconvert_exporter": "python",
   "pygments_lexer": "ipython3",
   "version": "3.10.8"
  },
  "toc": {
   "base_numbering": 1,
   "nav_menu": {},
   "number_sections": false,
   "sideBar": true,
   "skip_h1_title": false,
   "title_cell": "Table of Contents",
   "title_sidebar": "Contents",
   "toc_cell": false,
   "toc_position": {
    "height": "calc(100% - 180px)",
    "left": "10px",
    "top": "150px",
    "width": "426.667px"
   },
   "toc_section_display": true,
   "toc_window_display": true
  }
 },
 "nbformat": 4,
 "nbformat_minor": 5
}
