{
 "cells": [
  {
   "cell_type": "markdown",
   "id": "d4d2bb2b",
   "metadata": {},
   "source": [
    "# 1. Load packages"
   ]
  },
  {
   "cell_type": "markdown",
   "metadata": {},
   "source": [
    "The link to get [ImageAnalysis3](https://github.com/zhengpuas47/ImageAnalysis3) \n",
    "\n",
    "or the Zhuang lab archived [source_tools](https://github.com/ZhuangLab/Chromatin_Analysis_2020_cell/tree/master/sequential_tracing/source)"
   ]
  },
  {
   "cell_type": "code",
   "execution_count": 1,
   "id": "e58532e3",
   "metadata": {},
   "outputs": [
    {
     "name": "stdout",
     "output_type": "stream",
     "text": [
      "36172\n",
      "Use existing analysis folder: L:\\Shiwei\\Figures\\MOp_draft_2023_v2\\Nuclear_organization_v2\\analysis.\n",
      "Use existing figure folder: L:\\Shiwei\\Figures\\MOp_draft_2023_v2\\Nuclear_organization_v2\\figures.\n"
     ]
    }
   ],
   "source": [
    "%run \"C:\\Users\\shiwei\\Documents\\ImageAnalysis3\\required_files\\Startup_py3.py\"\n",
    "sys.path.append(r\"C:\\Users\\shiwei\\Documents\")\n",
    "\n",
    "import ImageAnalysis3 as ia\n",
    "%matplotlib notebook\n",
    "\n",
    "from ImageAnalysis3 import *\n",
    "print(os.getpid())\n",
    "\n",
    "import h5py\n",
    "from ImageAnalysis3.classes import _allowed_kwds\n",
    "import ast\n",
    "\n",
    "import pandas as pd## 1.1 Define output folder\n",
    "\n",
    "output_main_folder = r'L:\\Shiwei\\Figures\\MOp_draft_2023_v2\\Nuclear_organization_v2'\n",
    "output_analysis_folder = os.path.join(output_main_folder, 'analysis')\n",
    "output_figure_folder = os.path.join(output_main_folder, 'figures')\n",
    "\n",
    "make_output_folder = True\n",
    "\n",
    "if make_output_folder and not os.path.exists(output_analysis_folder):\n",
    "    os.makedirs(output_analysis_folder)\n",
    "    print(f'Generating analysis folder: {output_analysis_folder}.')\n",
    "elif os.path.exists(output_analysis_folder):\n",
    "    print(f'Use existing analysis folder: {output_analysis_folder}.')\n",
    "    \n",
    "if make_output_folder and not os.path.exists(output_figure_folder):\n",
    "    os.makedirs(output_figure_folder)\n",
    "    print(f'Generating figure folder: {output_figure_folder}.')\n",
    "elif os.path.exists(output_figure_folder):\n",
    "    print(f'Use existing figure folder: {output_figure_folder}.')"
   ]
  },
  {
   "cell_type": "code",
   "execution_count": 2,
   "id": "c198c7ca",
   "metadata": {},
   "outputs": [],
   "source": [
    "import seaborn as sns\n",
    "import scanpy as sc\n",
    "import numpy as np"
   ]
  },
  {
   "cell_type": "markdown",
   "id": "d1ec4623",
   "metadata": {},
   "source": [
    "## 1.1 Define output folder"
   ]
  },
  {
   "cell_type": "code",
   "execution_count": 3,
   "id": "609b2e20",
   "metadata": {},
   "outputs": [],
   "source": [
    "output_main_folder = r'L:\\Shiwei\\Figures\\MOp_draft_2023_v2\\Supplementary_tables'"
   ]
  },
  {
   "cell_type": "markdown",
   "id": "463ca628",
   "metadata": {},
   "source": [
    "# 2. Load primary probes and primers"
   ]
  },
  {
   "cell_type": "code",
   "execution_count": 6,
   "id": "a9ba8cb1",
   "metadata": {},
   "outputs": [],
   "source": [
    "#probe_folder = os.path.join(output_main_folder, 'Primary')\n",
    "probe_folder = output_main_folder\n",
    "probe_fname = os.path.join(probe_folder, r'Table_S1_MOp_primary_oligopropes.xlsx')\n",
    "\n",
    "probe_df_dict = {'RNA MERFISH probes':None,\n",
    "                 'Genome chromatin probes':None, \n",
    "                 'Marker chromatin probes':None, \n",
    "                 'Super-enhancer chromatin probes':None, \n",
    "                 }\n",
    "for sheet_name in probe_df_dict.keys():\n",
    "    probe_df = pd.read_excel(probe_fname, sheet_name = sheet_name)\n",
    "    probe_df_dict[sheet_name] = probe_df"
   ]
  },
  {
   "cell_type": "code",
   "execution_count": 67,
   "id": "0edb5c17",
   "metadata": {},
   "outputs": [
    {
     "data": {
      "text/html": [
       "<div>\n",
       "<style scoped>\n",
       "    .dataframe tbody tr th:only-of-type {\n",
       "        vertical-align: middle;\n",
       "    }\n",
       "\n",
       "    .dataframe tbody tr th {\n",
       "        vertical-align: top;\n",
       "    }\n",
       "\n",
       "    .dataframe thead th {\n",
       "        text-align: right;\n",
       "    }\n",
       "</style>\n",
       "<table border=\"1\" class=\"dataframe\">\n",
       "  <thead>\n",
       "    <tr style=\"text-align: right;\">\n",
       "      <th></th>\n",
       "      <th>Library</th>\n",
       "      <th>Sublibrary</th>\n",
       "      <th>Forward primer name</th>\n",
       "      <th>Reverse primer name</th>\n",
       "      <th>Forward primer seq</th>\n",
       "      <th>Reverse primer seq</th>\n",
       "    </tr>\n",
       "  </thead>\n",
       "  <tbody>\n",
       "    <tr>\n",
       "      <th>0</th>\n",
       "      <td>Genome chromatin</td>\n",
       "      <td>Genome chromatin_set_1_and_2</td>\n",
       "      <td>W1A03_primer_2</td>\n",
       "      <td>W1A10_primer_9</td>\n",
       "      <td>CCCGCAATGGCTGACAACCG</td>\n",
       "      <td>TAATACGACTCACTATAGGGATTGCCGCATGGTTTCCG</td>\n",
       "    </tr>\n",
       "    <tr>\n",
       "      <th>1</th>\n",
       "      <td>Genome chromatin</td>\n",
       "      <td>Genome chromatin_set_3</td>\n",
       "      <td>W1A07_primer_6</td>\n",
       "      <td>W1A12_primer_11</td>\n",
       "      <td>CGCAAACTGGTGCGGAAGGC</td>\n",
       "      <td>TAATACGACTCACTATAGGGCCATTGCCCGCGAGGTCGAG</td>\n",
       "    </tr>\n",
       "    <tr>\n",
       "      <th>2</th>\n",
       "      <td>Genome chromatin</td>\n",
       "      <td>Genome chromatin_set_4</td>\n",
       "      <td>W1B05_primer_16</td>\n",
       "      <td>W1B04_primer_15</td>\n",
       "      <td>CGGGTTTCGTTGCGCACACC</td>\n",
       "      <td>TAATACGACTCACTATAGGGCTTGTGCATCGCGCCAAAGA</td>\n",
       "    </tr>\n",
       "    <tr>\n",
       "      <th>3</th>\n",
       "      <td>Marker chromatin</td>\n",
       "      <td>Marker chromatin_set_all</td>\n",
       "      <td>W1A07_primer_6</td>\n",
       "      <td>W1A12_primer_11</td>\n",
       "      <td>CGCAAACTGGTGCGGAAGGC</td>\n",
       "      <td>TAATACGACTCACTATAGGGCCATTGCCCGCGAGGTCGAG</td>\n",
       "    </tr>\n",
       "    <tr>\n",
       "      <th>4</th>\n",
       "      <td>Super-enhancer chromatin</td>\n",
       "      <td>Super-enhancer chromatin_set_all</td>\n",
       "      <td>W1A03_primer_2</td>\n",
       "      <td>W1A10_primer_9</td>\n",
       "      <td>CCCGCAATGGCTGACAACCG</td>\n",
       "      <td>TAATACGACTCACTATAGGGATTGCCGCATGGTTTCCG</td>\n",
       "    </tr>\n",
       "    <tr>\n",
       "      <th>5</th>\n",
       "      <td>RNA MERFISH</td>\n",
       "      <td>RNA MERFISH_set_all</td>\n",
       "      <td>MOp_primer_F</td>\n",
       "      <td>MOp_primer_R</td>\n",
       "      <td>CGCGGTGGTGGTACGACATG</td>\n",
       "      <td>TAATACGACTCACTATAGTTGTCCGTCCTAGTTGCGCT</td>\n",
       "    </tr>\n",
       "  </tbody>\n",
       "</table>\n",
       "</div>"
      ],
      "text/plain": [
       "                    Library                        Sublibrary  \\\n",
       "0          Genome chromatin      Genome chromatin_set_1_and_2   \n",
       "1          Genome chromatin            Genome chromatin_set_3   \n",
       "2          Genome chromatin            Genome chromatin_set_4   \n",
       "3          Marker chromatin          Marker chromatin_set_all   \n",
       "4  Super-enhancer chromatin  Super-enhancer chromatin_set_all   \n",
       "5               RNA MERFISH               RNA MERFISH_set_all   \n",
       "\n",
       "  Forward primer name Reverse primer name    Forward primer seq  \\\n",
       "0      W1A03_primer_2      W1A10_primer_9  CCCGCAATGGCTGACAACCG   \n",
       "1      W1A07_primer_6     W1A12_primer_11  CGCAAACTGGTGCGGAAGGC   \n",
       "2     W1B05_primer_16     W1B04_primer_15  CGGGTTTCGTTGCGCACACC   \n",
       "3      W1A07_primer_6     W1A12_primer_11  CGCAAACTGGTGCGGAAGGC   \n",
       "4      W1A03_primer_2      W1A10_primer_9  CCCGCAATGGCTGACAACCG   \n",
       "5        MOp_primer_F        MOp_primer_R  CGCGGTGGTGGTACGACATG   \n",
       "\n",
       "                         Reverse primer seq  \n",
       "0    TAATACGACTCACTATAGGGATTGCCGCATGGTTTCCG  \n",
       "1  TAATACGACTCACTATAGGGCCATTGCCCGCGAGGTCGAG  \n",
       "2  TAATACGACTCACTATAGGGCTTGTGCATCGCGCCAAAGA  \n",
       "3  TAATACGACTCACTATAGGGCCATTGCCCGCGAGGTCGAG  \n",
       "4    TAATACGACTCACTATAGGGATTGCCGCATGGTTTCCG  \n",
       "5    TAATACGACTCACTATAGTTGTCCGTCCTAGTTGCGCT  "
      ]
     },
     "execution_count": 67,
     "metadata": {},
     "output_type": "execute_result"
    }
   ],
   "source": [
    "primer_fname =  os.path.join(probe_folder, r'Table_S3_MOp_primer_and_readout_oligopropes.xlsx')\n",
    "primer_df = pd.read_excel(primer_fname, sheet_name = 'Primers')\n",
    "primer_df"
   ]
  },
  {
   "cell_type": "code",
   "execution_count": 96,
   "id": "ef8c373b",
   "metadata": {},
   "outputs": [],
   "source": [
    "T7_seq = r'TAATACGACTCACTATAG'"
   ]
  },
  {
   "cell_type": "markdown",
   "id": "a0d3bafe",
   "metadata": {},
   "source": [
    "## RNA MERFISH"
   ]
  },
  {
   "cell_type": "code",
   "execution_count": 76,
   "id": "6707b785",
   "metadata": {},
   "outputs": [
    {
     "name": "stdout",
     "output_type": "stream",
     "text": [
      "(array([112], dtype=int64), array([22005], dtype=int64))\n",
      "22005\n"
     ]
    }
   ],
   "source": [
    "sheet_name = 'RNA MERFISH probes'\n",
    "probe_df = probe_df_dict[sheet_name]\n",
    "probe_df['length'] = probe_df['sequence'].apply(lambda x:len(x))\n",
    "probe_df\n",
    "print(np.unique(probe_df['length'], return_counts=True))\n",
    "print(len(probe_df['length']))"
   ]
  },
  {
   "cell_type": "code",
   "execution_count": 97,
   "id": "6b3a292a",
   "metadata": {},
   "outputs": [
    {
     "name": "stdout",
     "output_type": "stream",
     "text": [
      "20\n",
      "20\n"
     ]
    }
   ],
   "source": [
    "print(len(primer_df[primer_df['Library'] == sheet_name.split(' probes')[0]]['Forward primer seq'].values[0]))\n",
    "print(len(primer_df[primer_df['Library'] == sheet_name.split(' probes')[0]]['Reverse primer seq'].values[0])-len(T7_seq))"
   ]
  },
  {
   "cell_type": "code",
   "execution_count": 98,
   "id": "4c82611c",
   "metadata": {},
   "outputs": [
    {
     "data": {
      "text/plain": [
       "['CGCGGTGGTGGTACGACATGAAGAGTGAGTAGTAGTGGAGTGTTAAGAACTGGGGAGCTGGAAAATGAGTGAAGGGTGTGTTTGTAAAGGGTAGCGCAACTAGGACGGACAA',\n",
       " 'CGCGGTGGTGGTACGACATGAAGGAGGAGGGTAATGATAGAGGAGGCTTCTCTTTCTAGTACATTTCTGCAAAGAGTGAGTAGTAGTGGAGTAGCGCAACTAGGACGGACAA',\n",
       " 'CGCGGTGGTGGTACGACATGAAGAGTGAGTAGTAGTGGAGTTTTTGGAGTTCAGGCTGTGGGTACAGACCTATGGGAGGATTGAGATGAGTTAGCGCAACTAGGACGGACAA']"
      ]
     },
     "execution_count": 98,
     "metadata": {},
     "output_type": "execute_result"
    }
   ],
   "source": [
    "probe_seq_list = probe_df['sequence'].tolist()\n",
    "probe_seq_list[:3]"
   ]
  },
  {
   "cell_type": "code",
   "execution_count": 99,
   "id": "f4f62e90",
   "metadata": {},
   "outputs": [
    {
     "data": {
      "text/plain": [
       "['CGCGGTGGTGGTACGACATGAATAGGAAATGGTGGTAGTGTTTCTTCCTTCATAAGGTCTGCATCATTGCTAAGGAGGAGGGTAATGATAGAAGCGCAACTAGGACGGACAA',\n",
       " 'CGCGGTGGTGGTACGACATGATGGGAGGATTGAGATGAGTTGCAGCACTGGTTGGATTAAAGGATTCAAGTAATAGGAAATGGTGGTAGTGTAGCGCAACTAGGACGGACAA',\n",
       " 'CGCGGTGGTGGTACGACATGAATAGGAAATGGTGGTAGTGTTCAAGTGTACTGCCATATTTAAAGCCTCCTAGAGATTAGAGATGAGTTGGAAGCGCAACTAGGACGGACAA']"
      ]
     },
     "execution_count": 99,
     "metadata": {},
     "output_type": "execute_result"
    }
   ],
   "source": [
    "probe_seq_list[-3:]"
   ]
  },
  {
   "cell_type": "code",
   "execution_count": 100,
   "id": "a064c024",
   "metadata": {},
   "outputs": [],
   "source": [
    "T7_seq = r'TAATACGACTCACTATAG'\n",
    "forward_primer = probe_seq_list[0][:20]\n",
    "reverse_primer_rc = probe_seq_list[0][-20:]\n",
    "readout_seq_1 = probe_seq_list[0][21:41]\n",
    "readout_seq_2 = probe_seq_list[0][72:-20]\n",
    "target_seq = probe_seq_list[0][41:71]\n",
    "linker = 'A'"
   ]
  },
  {
   "cell_type": "code",
   "execution_count": 101,
   "id": "a91ede57",
   "metadata": {},
   "outputs": [
    {
     "name": "stdout",
     "output_type": "stream",
     "text": [
      "AGAGTGAGTAGTAGTGGAGT\n",
      "AGGGTGTGTTTGTAAAGGGT\n"
     ]
    }
   ],
   "source": [
    "print(readout_seq_1)\n",
    "print(readout_seq_2)"
   ]
  },
  {
   "cell_type": "code",
   "execution_count": 102,
   "id": "888ed251",
   "metadata": {},
   "outputs": [
    {
     "data": {
      "text/plain": [
       "'CGCGGTGGTGGTACGACATGAAGAGTGAGTAGTAGTGGAGTGTTAAGAACTGGGGAGCTGGAAAATGAGTGAAGGGTGTGTTTGTAAAGGGTAGCGCAACTAGGACGGACAA'"
      ]
     },
     "execution_count": 102,
     "metadata": {},
     "output_type": "execute_result"
    }
   ],
   "source": [
    "forward_primer + linker + readout_seq_1 + target_seq + linker + readout_seq_2 + reverse_primer_rc"
   ]
  },
  {
   "cell_type": "markdown",
   "id": "5ef5006d",
   "metadata": {},
   "source": [
    "## Genome chromatin"
   ]
  },
  {
   "cell_type": "code",
   "execution_count": 103,
   "id": "7f9df757",
   "metadata": {},
   "outputs": [
    {
     "name": "stdout",
     "output_type": "stream",
     "text": [
      "(array([142], dtype=int64), array([173891], dtype=int64))\n",
      "173891\n"
     ]
    }
   ],
   "source": [
    "sheet_name = 'Genome chromatin probes'\n",
    "probe_df = probe_df_dict[sheet_name]\n",
    "probe_df['length'] = probe_df['sequence'].apply(lambda x:len(x))\n",
    "probe_df\n",
    "print(np.unique(probe_df['length'], return_counts=True))\n",
    "print(len(probe_df['length']))"
   ]
  },
  {
   "cell_type": "code",
   "execution_count": 120,
   "id": "b7aec6c8",
   "metadata": {},
   "outputs": [
    {
     "name": "stdout",
     "output_type": "stream",
     "text": [
      "20\n",
      "20\n",
      "20\n",
      "TAATACGACTCACTATAG GGATTGCCGCATGGTTTCCG 20\n",
      "TAATACGACTCACTATAG GGCCATTGCCCGCGAGGTCGAG 22\n",
      "TAATACGACTCACTATAG GGCTTGTGCATCGCGCCAAAGA 22\n"
     ]
    }
   ],
   "source": [
    "sel_primer_df = primer_df[primer_df['Library'] == sheet_name.split(' probes')[0]]\n",
    "for _seq in sel_primer_df['Forward primer seq'].tolist():\n",
    "    print (len(_seq))\n",
    "                    \n",
    "for _seq in sel_primer_df['Reverse primer seq'].tolist():\n",
    "    print (T7_seq, _seq[len(T7_seq):], len(_seq)-len(T7_seq))"
   ]
  },
  {
   "cell_type": "code",
   "execution_count": 118,
   "id": "11326263",
   "metadata": {},
   "outputs": [
    {
     "data": {
      "text/html": [
       "<div>\n",
       "<style scoped>\n",
       "    .dataframe tbody tr th:only-of-type {\n",
       "        vertical-align: middle;\n",
       "    }\n",
       "\n",
       "    .dataframe tbody tr th {\n",
       "        vertical-align: top;\n",
       "    }\n",
       "\n",
       "    .dataframe thead th {\n",
       "        text-align: right;\n",
       "    }\n",
       "</style>\n",
       "<table border=\"1\" class=\"dataframe\">\n",
       "  <thead>\n",
       "    <tr style=\"text-align: right;\">\n",
       "      <th></th>\n",
       "      <th>name</th>\n",
       "      <th>sequence</th>\n",
       "      <th>length</th>\n",
       "    </tr>\n",
       "  </thead>\n",
       "  <tbody>\n",
       "    <tr>\n",
       "      <th>0</th>\n",
       "      <td>loc_1:3740000-3760000_gene_1_pb_23_pos_2742_st...</td>\n",
       "      <td>CCCGCAATGGCTGACAACCGTATACATTAGGATTGCGAGCTGTCAT...</td>\n",
       "      <td>142</td>\n",
       "    </tr>\n",
       "    <tr>\n",
       "      <th>1</th>\n",
       "      <td>loc_1:3740000-3760000_gene_1_pb_24_pos_2784_st...</td>\n",
       "      <td>CCCGCAATGGCTGACAACCGTATACATTAGGATTGCGAGCAATAGA...</td>\n",
       "      <td>142</td>\n",
       "    </tr>\n",
       "    <tr>\n",
       "      <th>2</th>\n",
       "      <td>loc_1:3740000-3760000_gene_1_pb_25_pos_2905_st...</td>\n",
       "      <td>CCCGCAATGGCTGACAACCGTATACATTAGGATTGCGAGCATATAA...</td>\n",
       "      <td>142</td>\n",
       "    </tr>\n",
       "    <tr>\n",
       "      <th>3</th>\n",
       "      <td>loc_1:3740000-3760000_gene_1_pb_26_pos_2980_st...</td>\n",
       "      <td>CCCGCAATGGCTGACAACCGTATACATTAGGATTGCGAGCACTCAC...</td>\n",
       "      <td>142</td>\n",
       "    </tr>\n",
       "    <tr>\n",
       "      <th>4</th>\n",
       "      <td>loc_1:3740000-3760000_gene_1_pb_27_pos_3017_st...</td>\n",
       "      <td>CCCGCAATGGCTGACAACCGTATACATTAGGATTGCGAGCTTCAAA...</td>\n",
       "      <td>142</td>\n",
       "    </tr>\n",
       "    <tr>\n",
       "      <th>...</th>\n",
       "      <td>...</td>\n",
       "      <td>...</td>\n",
       "      <td>...</td>\n",
       "    </tr>\n",
       "    <tr>\n",
       "      <th>57931</th>\n",
       "      <td>loc_Y:1240000-1260000_gene_1062_pb_163_pos_196...</td>\n",
       "      <td>CCCGCAATGGCTGACAACCGTACCGCGGCTTAGTAGTTGAGTGCAA...</td>\n",
       "      <td>142</td>\n",
       "    </tr>\n",
       "    <tr>\n",
       "      <th>57932</th>\n",
       "      <td>loc_Y:1240000-1260000_gene_1062_pb_164_pos_197...</td>\n",
       "      <td>CCCGCAATGGCTGACAACCGTACCGCGGCTTAGTAGTTGATATAGA...</td>\n",
       "      <td>142</td>\n",
       "    </tr>\n",
       "    <tr>\n",
       "      <th>57933</th>\n",
       "      <td>loc_Y:1240000-1260000_gene_1062_pb_165_pos_197...</td>\n",
       "      <td>CCCGCAATGGCTGACAACCGTACCGCGGCTTAGTAGTTGATAAAAT...</td>\n",
       "      <td>142</td>\n",
       "    </tr>\n",
       "    <tr>\n",
       "      <th>57934</th>\n",
       "      <td>loc_Y:1240000-1260000_gene_1062_pb_166_pos_198...</td>\n",
       "      <td>CCCGCAATGGCTGACAACCGTACCGCGGCTTAGTAGTTGATGAGGT...</td>\n",
       "      <td>142</td>\n",
       "    </tr>\n",
       "    <tr>\n",
       "      <th>57935</th>\n",
       "      <td>loc_Y:1240000-1260000_gene_1062_pb_167_pos_199...</td>\n",
       "      <td>CCCGCAATGGCTGACAACCGTACCGCGGCTTAGTAGTTGAGAAATG...</td>\n",
       "      <td>142</td>\n",
       "    </tr>\n",
       "  </tbody>\n",
       "</table>\n",
       "<p>57936 rows × 3 columns</p>\n",
       "</div>"
      ],
      "text/plain": [
       "                                                    name  \\\n",
       "0      loc_1:3740000-3760000_gene_1_pb_23_pos_2742_st...   \n",
       "1      loc_1:3740000-3760000_gene_1_pb_24_pos_2784_st...   \n",
       "2      loc_1:3740000-3760000_gene_1_pb_25_pos_2905_st...   \n",
       "3      loc_1:3740000-3760000_gene_1_pb_26_pos_2980_st...   \n",
       "4      loc_1:3740000-3760000_gene_1_pb_27_pos_3017_st...   \n",
       "...                                                  ...   \n",
       "57931  loc_Y:1240000-1260000_gene_1062_pb_163_pos_196...   \n",
       "57932  loc_Y:1240000-1260000_gene_1062_pb_164_pos_197...   \n",
       "57933  loc_Y:1240000-1260000_gene_1062_pb_165_pos_197...   \n",
       "57934  loc_Y:1240000-1260000_gene_1062_pb_166_pos_198...   \n",
       "57935  loc_Y:1240000-1260000_gene_1062_pb_167_pos_199...   \n",
       "\n",
       "                                                sequence  length  \n",
       "0      CCCGCAATGGCTGACAACCGTATACATTAGGATTGCGAGCTGTCAT...     142  \n",
       "1      CCCGCAATGGCTGACAACCGTATACATTAGGATTGCGAGCAATAGA...     142  \n",
       "2      CCCGCAATGGCTGACAACCGTATACATTAGGATTGCGAGCATATAA...     142  \n",
       "3      CCCGCAATGGCTGACAACCGTATACATTAGGATTGCGAGCACTCAC...     142  \n",
       "4      CCCGCAATGGCTGACAACCGTATACATTAGGATTGCGAGCTTCAAA...     142  \n",
       "...                                                  ...     ...  \n",
       "57931  CCCGCAATGGCTGACAACCGTACCGCGGCTTAGTAGTTGAGTGCAA...     142  \n",
       "57932  CCCGCAATGGCTGACAACCGTACCGCGGCTTAGTAGTTGATATAGA...     142  \n",
       "57933  CCCGCAATGGCTGACAACCGTACCGCGGCTTAGTAGTTGATAAAAT...     142  \n",
       "57934  CCCGCAATGGCTGACAACCGTACCGCGGCTTAGTAGTTGATGAGGT...     142  \n",
       "57935  CCCGCAATGGCTGACAACCGTACCGCGGCTTAGTAGTTGAGAAATG...     142  \n",
       "\n",
       "[57936 rows x 3 columns]"
      ]
     },
     "execution_count": 118,
     "metadata": {},
     "output_type": "execute_result"
    }
   ],
   "source": [
    "from Bio.Seq import Seq\n",
    "reverse_primer_rc = str(Seq('GGATTGCCGCATGGTTTCCG').reverse_complement())\n",
    "probe_df[probe_df['sequence'].str.contains(reverse_primer_rc)]"
   ]
  },
  {
   "cell_type": "code",
   "execution_count": 122,
   "id": "2a77f040",
   "metadata": {},
   "outputs": [
    {
     "data": {
      "text/html": [
       "<div>\n",
       "<style scoped>\n",
       "    .dataframe tbody tr th:only-of-type {\n",
       "        vertical-align: middle;\n",
       "    }\n",
       "\n",
       "    .dataframe tbody tr th {\n",
       "        vertical-align: top;\n",
       "    }\n",
       "\n",
       "    .dataframe thead th {\n",
       "        text-align: right;\n",
       "    }\n",
       "</style>\n",
       "<table border=\"1\" class=\"dataframe\">\n",
       "  <thead>\n",
       "    <tr style=\"text-align: right;\">\n",
       "      <th></th>\n",
       "      <th>name</th>\n",
       "      <th>sequence</th>\n",
       "      <th>length</th>\n",
       "    </tr>\n",
       "  </thead>\n",
       "  <tbody>\n",
       "    <tr>\n",
       "      <th>57936</th>\n",
       "      <td>loc_1:6240000-6260000_gene_2_pb_58_pos_5958_st...</td>\n",
       "      <td>CGCAAACTGGTGCGGAAGGCCTTAGTCTCGCGCGCCGGATTTTCCC...</td>\n",
       "      <td>142</td>\n",
       "    </tr>\n",
       "    <tr>\n",
       "      <th>57937</th>\n",
       "      <td>loc_1:6240000-6260000_gene_2_pb_59_pos_6065_st...</td>\n",
       "      <td>CGCAAACTGGTGCGGAAGGCCTTAGTCTCGCGCGCCGGATCTTTCC...</td>\n",
       "      <td>142</td>\n",
       "    </tr>\n",
       "    <tr>\n",
       "      <th>57938</th>\n",
       "      <td>loc_1:6240000-6260000_gene_2_pb_60_pos_6208_st...</td>\n",
       "      <td>CGCAAACTGGTGCGGAAGGCCTTAGTCTCGCGCGCCGGATAGTGTT...</td>\n",
       "      <td>142</td>\n",
       "    </tr>\n",
       "    <tr>\n",
       "      <th>57939</th>\n",
       "      <td>loc_1:6240000-6260000_gene_2_pb_61_pos_6245_st...</td>\n",
       "      <td>CGCAAACTGGTGCGGAAGGCCTTAGTCTCGCGCGCCGGATGATGTA...</td>\n",
       "      <td>142</td>\n",
       "    </tr>\n",
       "    <tr>\n",
       "      <th>57940</th>\n",
       "      <td>loc_1:6240000-6260000_gene_2_pb_62_pos_6335_st...</td>\n",
       "      <td>CGCAAACTGGTGCGGAAGGCCTTAGTCTCGCGCGCCGGATGTGGAG...</td>\n",
       "      <td>142</td>\n",
       "    </tr>\n",
       "    <tr>\n",
       "      <th>...</th>\n",
       "      <td>...</td>\n",
       "      <td>...</td>\n",
       "      <td>...</td>\n",
       "    </tr>\n",
       "    <tr>\n",
       "      <th>86968</th>\n",
       "      <td>loc_X:163740000-163760000_gene_1058_pb_252_pos...</td>\n",
       "      <td>CGCAAACTGGTGCGGAAGGCACGCGCTTATTGCCGAACATCTGTAT...</td>\n",
       "      <td>142</td>\n",
       "    </tr>\n",
       "    <tr>\n",
       "      <th>86969</th>\n",
       "      <td>loc_X:163740000-163760000_gene_1058_pb_253_pos...</td>\n",
       "      <td>CGCAAACTGGTGCGGAAGGCACGCGCTTATTGCCGAACATGAGAGT...</td>\n",
       "      <td>142</td>\n",
       "    </tr>\n",
       "    <tr>\n",
       "      <th>86970</th>\n",
       "      <td>loc_X:163740000-163760000_gene_1058_pb_254_pos...</td>\n",
       "      <td>CGCAAACTGGTGCGGAAGGCACGCGCTTATTGCCGAACATGTAATT...</td>\n",
       "      <td>142</td>\n",
       "    </tr>\n",
       "    <tr>\n",
       "      <th>86971</th>\n",
       "      <td>loc_X:163740000-163760000_gene_1058_pb_255_pos...</td>\n",
       "      <td>CGCAAACTGGTGCGGAAGGCACGCGCTTATTGCCGAACATGGTTTG...</td>\n",
       "      <td>142</td>\n",
       "    </tr>\n",
       "    <tr>\n",
       "      <th>86972</th>\n",
       "      <td>loc_X:163740000-163760000_gene_1058_pb_256_pos...</td>\n",
       "      <td>CGCAAACTGGTGCGGAAGGCACGCGCTTATTGCCGAACATTTTAGA...</td>\n",
       "      <td>142</td>\n",
       "    </tr>\n",
       "  </tbody>\n",
       "</table>\n",
       "<p>29037 rows × 3 columns</p>\n",
       "</div>"
      ],
      "text/plain": [
       "                                                    name  \\\n",
       "57936  loc_1:6240000-6260000_gene_2_pb_58_pos_5958_st...   \n",
       "57937  loc_1:6240000-6260000_gene_2_pb_59_pos_6065_st...   \n",
       "57938  loc_1:6240000-6260000_gene_2_pb_60_pos_6208_st...   \n",
       "57939  loc_1:6240000-6260000_gene_2_pb_61_pos_6245_st...   \n",
       "57940  loc_1:6240000-6260000_gene_2_pb_62_pos_6335_st...   \n",
       "...                                                  ...   \n",
       "86968  loc_X:163740000-163760000_gene_1058_pb_252_pos...   \n",
       "86969  loc_X:163740000-163760000_gene_1058_pb_253_pos...   \n",
       "86970  loc_X:163740000-163760000_gene_1058_pb_254_pos...   \n",
       "86971  loc_X:163740000-163760000_gene_1058_pb_255_pos...   \n",
       "86972  loc_X:163740000-163760000_gene_1058_pb_256_pos...   \n",
       "\n",
       "                                                sequence  length  \n",
       "57936  CGCAAACTGGTGCGGAAGGCCTTAGTCTCGCGCGCCGGATTTTCCC...     142  \n",
       "57937  CGCAAACTGGTGCGGAAGGCCTTAGTCTCGCGCGCCGGATCTTTCC...     142  \n",
       "57938  CGCAAACTGGTGCGGAAGGCCTTAGTCTCGCGCGCCGGATAGTGTT...     142  \n",
       "57939  CGCAAACTGGTGCGGAAGGCCTTAGTCTCGCGCGCCGGATGATGTA...     142  \n",
       "57940  CGCAAACTGGTGCGGAAGGCCTTAGTCTCGCGCGCCGGATGTGGAG...     142  \n",
       "...                                                  ...     ...  \n",
       "86968  CGCAAACTGGTGCGGAAGGCACGCGCTTATTGCCGAACATCTGTAT...     142  \n",
       "86969  CGCAAACTGGTGCGGAAGGCACGCGCTTATTGCCGAACATGAGAGT...     142  \n",
       "86970  CGCAAACTGGTGCGGAAGGCACGCGCTTATTGCCGAACATGTAATT...     142  \n",
       "86971  CGCAAACTGGTGCGGAAGGCACGCGCTTATTGCCGAACATGGTTTG...     142  \n",
       "86972  CGCAAACTGGTGCGGAAGGCACGCGCTTATTGCCGAACATTTTAGA...     142  \n",
       "\n",
       "[29037 rows x 3 columns]"
      ]
     },
     "execution_count": 122,
     "metadata": {},
     "output_type": "execute_result"
    }
   ],
   "source": [
    "from Bio.Seq import Seq\n",
    "reverse_primer_rc = str(Seq('CCATTGCCCGCGAGGTCGAG').reverse_complement())\n",
    "probe_df[probe_df['sequence'].str.contains(reverse_primer_rc)]\n",
    "\n",
    "# therefore two additional N were added in between T7 and reverse_primer_rc for the primers that were 22 nts.\n",
    "# this will not affect the primary probe composition"
   ]
  },
  {
   "cell_type": "code",
   "execution_count": 37,
   "id": "537a97b0",
   "metadata": {},
   "outputs": [
    {
     "data": {
      "text/plain": [
       "['CGGCTCGCAGCGTGTAAACGACGGGTGGATTGCAGCTTACGAGATTAGAGACTTTAAAGGCTACTGCAGTCCAAGAGCATGTTAACAGGTAATAAGGCGAGCGATACACCCTGGACGCAAATCCGCCGGTGATCCTGAAATG',\n",
       " 'CGGCTCGCAGCGTGTAAACGACGGGTGGATTGCAGCTTACGGAATCATCTGCCAAGGTCTGCACCTCTGGGAAAAATTGAGATAACAGGTAATAAGGCGAGCGATACACCCTGGACGCAAATCCGCCGGTGATCCTGAAATG',\n",
       " 'CGGCTCGCAGCGTGTAAACGACGGGTGGATTGCAGCTTACGAAGGGAGGGAAGGTATTCTCTGATGGTGAAAGGTGAATGGATAACAGGTAATAAGGCGAGCGATACACCCTGGACGCAAATCCGCCGGTGATCCTGAAATG']"
      ]
     },
     "execution_count": 37,
     "metadata": {},
     "output_type": "execute_result"
    }
   ],
   "source": [
    "probe_seq_list[-3:]"
   ]
  },
  {
   "cell_type": "code",
   "execution_count": 41,
   "id": "25d7728f",
   "metadata": {},
   "outputs": [],
   "source": [
    "T7_seq = r'TAATACGACTCACTATAG'\n",
    "forward_primer = probe_seq_list[0][:20]\n",
    "reverse_primer_rc = probe_seq_list[0][-20:]\n",
    "readout_seq_1 = probe_seq_list[0][20:40]\n",
    "readout_seq_2 = probe_seq_list[0][82:102]\n",
    "readout_seq_3 = probe_seq_list[0][102:122]\n",
    "target_seq = probe_seq_list[0][40:82]\n",
    "linker = 'A'"
   ]
  },
  {
   "cell_type": "code",
   "execution_count": 43,
   "id": "804ddb2b",
   "metadata": {},
   "outputs": [
    {
     "name": "stdout",
     "output_type": "stream",
     "text": [
      "CCCGCAATGGCTGACAACCG\n",
      "CGGAAACCATGCGGCAATCC\n"
     ]
    }
   ],
   "source": [
    "print(forward_primer)\n",
    "print(reverse_primer_rc)"
   ]
  },
  {
   "cell_type": "code",
   "execution_count": 42,
   "id": "1473d66e",
   "metadata": {},
   "outputs": [
    {
     "name": "stdout",
     "output_type": "stream",
     "text": [
      "TATACATTAGGATTGCGAGC\n",
      "TACTTATTGCCGGCCACGAT\n",
      "TCGCATCCACGAACCAGGTC\n"
     ]
    }
   ],
   "source": [
    "print(readout_seq_1)\n",
    "print(readout_seq_2)\n",
    "print(readout_seq_3)"
   ]
  },
  {
   "cell_type": "code",
   "execution_count": 44,
   "id": "e6153375",
   "metadata": {},
   "outputs": [
    {
     "data": {
      "text/plain": [
       "'CCCGCAATGGCTGACAACCGTATACATTAGGATTGCGAGCTGTCATAACTGTGTGAGGACCTCTCCCTTAACTCATTCCACTTACTTATTGCCGGCCACGATTCGCATCCACGAACCAGGTCCGGAAACCATGCGGCAATCC'"
      ]
     },
     "execution_count": 44,
     "metadata": {},
     "output_type": "execute_result"
    }
   ],
   "source": [
    "forward_primer + readout_seq_1 + target_seq + readout_seq_2 + readout_seq_3 + reverse_primer_rc"
   ]
  },
  {
   "cell_type": "markdown",
   "id": "6b3230f4",
   "metadata": {},
   "source": [
    "## Super-enhancer chromatin"
   ]
  },
  {
   "cell_type": "code",
   "execution_count": 123,
   "id": "90432fa2",
   "metadata": {},
   "outputs": [
    {
     "name": "stdout",
     "output_type": "stream",
     "text": [
      "(array([142], dtype=int64), array([115776], dtype=int64))\n",
      "115776\n"
     ]
    }
   ],
   "source": [
    "sheet_name = 'Super-enhancer chromatin probes'\n",
    "probe_df = probe_df_dict[sheet_name]\n",
    "probe_df['length'] = probe_df['sequence'].apply(lambda x:len(x))\n",
    "probe_df\n",
    "print(np.unique(probe_df['length'], return_counts=True))\n",
    "print(len(probe_df['length']))"
   ]
  },
  {
   "cell_type": "code",
   "execution_count": 124,
   "id": "6040192d",
   "metadata": {},
   "outputs": [
    {
     "name": "stdout",
     "output_type": "stream",
     "text": [
      "20\n",
      "TAATACGACTCACTATAG GGATTGCCGCATGGTTTCCG 20\n"
     ]
    }
   ],
   "source": [
    "sel_primer_df = primer_df[primer_df['Library'] == sheet_name.split(' probes')[0]]\n",
    "for _seq in sel_primer_df['Forward primer seq'].tolist():\n",
    "    print (len(_seq))\n",
    "                    \n",
    "for _seq in sel_primer_df['Reverse primer seq'].tolist():\n",
    "    print (T7_seq, _seq[len(T7_seq):], len(_seq)-len(T7_seq))"
   ]
  },
  {
   "cell_type": "code",
   "execution_count": 47,
   "id": "c54bbc65",
   "metadata": {},
   "outputs": [
    {
     "data": {
      "text/plain": [
       "['CCCGCAATGGCTGACAACCGTGTACCAGTACGCAGCCGACCGGACATGGAGGACGCGCTTCCAGACACCGGGGGACGGACTCGGGTACTTACGCCGCGGTATCGGGTACACCGTCATCACACCGGAAACCATGCGGCAATCC',\n",
       " 'CCCGCAATGGCTGACAACCGTGTACCAGTACGCAGCCGACTCCCGGAGACGGTGGCGGCACGCAGCGGCCACTCACAGTCATGGGTACTTACGCCGCGGTATCGGGTACACCGTCATCACACCGGAAACCATGCGGCAATCC',\n",
       " 'CCCGCAATGGCTGACAACCGTGTACCAGTACGCAGCCGACCCCCGCCTCACACAGTTCCGAGTTTGGGGGTGTTTGGCTTTGGGGTACTTACGCCGCGGTATCGGGTACACCGTCATCACACCGGAAACCATGCGGCAATCC']"
      ]
     },
     "execution_count": 47,
     "metadata": {},
     "output_type": "execute_result"
    }
   ],
   "source": [
    "probe_seq_list[-3:]"
   ]
  },
  {
   "cell_type": "code",
   "execution_count": 48,
   "id": "7b21f47b",
   "metadata": {},
   "outputs": [],
   "source": [
    "T7_seq = r'TAATACGACTCACTATAG'\n",
    "forward_primer = probe_seq_list[0][:20]\n",
    "reverse_primer_rc = probe_seq_list[0][-20:]\n",
    "readout_seq_1 = probe_seq_list[0][20:40]\n",
    "readout_seq_2 = probe_seq_list[0][82:102]\n",
    "readout_seq_3 = probe_seq_list[0][102:122]\n",
    "target_seq = probe_seq_list[0][40:82]\n",
    "linker = 'A'"
   ]
  },
  {
   "cell_type": "code",
   "execution_count": 49,
   "id": "47052b7a",
   "metadata": {},
   "outputs": [
    {
     "name": "stdout",
     "output_type": "stream",
     "text": [
      "CCCGCAATGGCTGACAACCG\n",
      "CGGAAACCATGCGGCAATCC\n"
     ]
    }
   ],
   "source": [
    "print(forward_primer)\n",
    "print(reverse_primer_rc)"
   ]
  },
  {
   "cell_type": "code",
   "execution_count": 50,
   "id": "015720dd",
   "metadata": {},
   "outputs": [
    {
     "name": "stdout",
     "output_type": "stream",
     "text": [
      "TAGATAGAGACGTTCGTGAA\n",
      "GATTTATCTATGACCGGGAT\n",
      "GACAGGACGTACCGCTTACC\n"
     ]
    }
   ],
   "source": [
    "print(readout_seq_1)\n",
    "print(readout_seq_2)\n",
    "print(readout_seq_3)"
   ]
  },
  {
   "cell_type": "code",
   "execution_count": 51,
   "id": "e2d64f73",
   "metadata": {},
   "outputs": [
    {
     "data": {
      "text/plain": [
       "'CCCGCAATGGCTGACAACCGTAGATAGAGACGTTCGTGAACTCCCTATTGACCTCACTCTATGGTACATCCTCTGTTATGACGATTTATCTATGACCGGGATGACAGGACGTACCGCTTACCCGGAAACCATGCGGCAATCC'"
      ]
     },
     "execution_count": 51,
     "metadata": {},
     "output_type": "execute_result"
    }
   ],
   "source": [
    "forward_primer + readout_seq_1 + target_seq + readout_seq_2 + readout_seq_3 + reverse_primer_rc"
   ]
  },
  {
   "cell_type": "markdown",
   "id": "354894a4",
   "metadata": {},
   "source": [
    "## Marker chromatin"
   ]
  },
  {
   "cell_type": "code",
   "execution_count": 125,
   "id": "4a2c1df3",
   "metadata": {},
   "outputs": [
    {
     "name": "stdout",
     "output_type": "stream",
     "text": [
      "(array([120], dtype=int64), array([3360], dtype=int64))\n",
      "3360\n"
     ]
    }
   ],
   "source": [
    "sheet_name = 'Marker chromatin probes'\n",
    "probe_df = probe_df_dict[sheet_name]\n",
    "probe_df['length'] = probe_df['sequence'].apply(lambda x:len(x))\n",
    "probe_df\n",
    "print(np.unique(probe_df['length'], return_counts=True))\n",
    "print(len(probe_df['length']))"
   ]
  },
  {
   "cell_type": "code",
   "execution_count": 126,
   "id": "0da30317",
   "metadata": {},
   "outputs": [
    {
     "name": "stdout",
     "output_type": "stream",
     "text": [
      "20\n",
      "TAATACGACTCACTATAG GGCCATTGCCCGCGAGGTCGAG 22\n"
     ]
    }
   ],
   "source": [
    "sel_primer_df = primer_df[primer_df['Library'] == sheet_name.split(' probes')[0]]\n",
    "for _seq in sel_primer_df['Forward primer seq'].tolist():\n",
    "    print (len(_seq))\n",
    "                    \n",
    "for _seq in sel_primer_df['Reverse primer seq'].tolist():\n",
    "    print (T7_seq, _seq[len(T7_seq):], len(_seq)-len(T7_seq))"
   ]
  },
  {
   "cell_type": "code",
   "execution_count": 55,
   "id": "490dda78",
   "metadata": {},
   "outputs": [
    {
     "data": {
      "text/plain": [
       "120"
      ]
     },
     "execution_count": 55,
     "metadata": {},
     "output_type": "execute_result"
    }
   ],
   "source": [
    "len(probe_seq_list[:3][0])"
   ]
  },
  {
   "cell_type": "code",
   "execution_count": 137,
   "id": "1bf297d8",
   "metadata": {},
   "outputs": [
    {
     "data": {
      "text/plain": [
       "['CGCAAACTGGTGCGGAAGGCTGCCGTTCGTCTGCGCTTGGTTCCATTCATAGGGCTCTAGCGTCAACTGCTCTTGGGGCTTGCCGTTCGTCTGCGCTTGGCTCGACCTCGCGGGCAATGG',\n",
       " 'CGCAAACTGGTGCGGAAGGCTGCCGTTCGTCTGCGCTTGGCAGCCTCGGCAGAAGCTGTGCTTGCGTCTGAAGTGAAGAGTGCCGTTCGTCTGCGCTTGGCTCGACCTCGCGGGCAATGG',\n",
       " 'CGCAAACTGGTGCGGAAGGCTGCCGTTCGTCTGCGCTTGGACATCTTCCTGCAGAATGGAGGATACTTTGTGATTTCCATTGCCGTTCGTCTGCGCTTGGCTCGACCTCGCGGGCAATGG']"
      ]
     },
     "execution_count": 137,
     "metadata": {},
     "output_type": "execute_result"
    }
   ],
   "source": [
    "probe_seq_list = probe_df['sequence'].tolist()\n",
    "probe_seq_list[:3]"
   ]
  },
  {
   "cell_type": "code",
   "execution_count": 138,
   "id": "c3289bca",
   "metadata": {},
   "outputs": [
    {
     "data": {
      "text/plain": [
       "['CGCAAACTGGTGCGGAAGGCAAGTCCGCGCAGGAACGTGAGAGAGATGGGAGGGCATGAATAGAAAGAACATGATGCCGGAAGTCCGCGCAGGAACGTGACTCGACCTCGCGGGCAATGG',\n",
       " 'CGCAAACTGGTGCGGAAGGCAAGTCCGCGCAGGAACGTGAAGCAGAAAAGAACATGACATTTAACTCCTCCCTCACAGTAAAGTCCGCGCAGGAACGTGACTCGACCTCGCGGGCAATGG',\n",
       " 'CGCAAACTGGTGCGGAAGGCAAGTCCGCGCAGGAACGTGAAGCAGCTCACAGAAGTTGATGCTGTAAATGCAAATGTCTTAAGTCCGCGCAGGAACGTGACTCGACCTCGCGGGCAATGG']"
      ]
     },
     "execution_count": 138,
     "metadata": {},
     "output_type": "execute_result"
    }
   ],
   "source": [
    "probe_seq_list[-3:]"
   ]
  },
  {
   "cell_type": "code",
   "execution_count": 139,
   "id": "190490cc",
   "metadata": {},
   "outputs": [],
   "source": [
    "T7_seq = r'TAATACGACTCACTATAG'\n",
    "forward_primer = probe_seq_list[0][:20]\n",
    "reverse_primer_rc = probe_seq_list[0][-20:]\n",
    "readout_seq_1 = probe_seq_list[0][20:40]\n",
    "readout_seq_2 = probe_seq_list[0][80:100]\n",
    "\n",
    "target_seq = probe_seq_list[0][40:80]\n",
    "linker = 'A'"
   ]
  },
  {
   "cell_type": "code",
   "execution_count": 140,
   "id": "d66d587a",
   "metadata": {},
   "outputs": [
    {
     "name": "stdout",
     "output_type": "stream",
     "text": [
      "CGCAAACTGGTGCGGAAGGC\n",
      "CTCGACCTCGCGGGCAATGG\n"
     ]
    }
   ],
   "source": [
    "print(forward_primer)\n",
    "print(reverse_primer_rc)"
   ]
  },
  {
   "cell_type": "code",
   "execution_count": 141,
   "id": "10e32529",
   "metadata": {},
   "outputs": [
    {
     "name": "stdout",
     "output_type": "stream",
     "text": [
      "TGCCGTTCGTCTGCGCTTGG\n",
      "TGCCGTTCGTCTGCGCTTGG\n"
     ]
    }
   ],
   "source": [
    "print(readout_seq_1)\n",
    "print(readout_seq_2)"
   ]
  },
  {
   "cell_type": "code",
   "execution_count": 142,
   "id": "e6387927",
   "metadata": {},
   "outputs": [
    {
     "data": {
      "text/plain": [
       "'CGCAAACTGGTGCGGAAGGCTGCCGTTCGTCTGCGCTTGGTTCCATTCATAGGGCTCTAGCGTCAACTGCTCTTGGGGCTTGCCGTTCGTCTGCGCTTGGCTCGACCTCGCGGGCAATGG'"
      ]
     },
     "execution_count": 142,
     "metadata": {},
     "output_type": "execute_result"
    }
   ],
   "source": [
    "forward_primer + readout_seq_1 + target_seq + readout_seq_2 + reverse_primer_rc"
   ]
  },
  {
   "cell_type": "code",
   "execution_count": null,
   "id": "9a7680f4",
   "metadata": {},
   "outputs": [],
   "source": []
  }
 ],
 "metadata": {
  "kernelspec": {
   "display_name": "Python 3 (ipykernel)",
   "language": "python",
   "name": "python3"
  },
  "language_info": {
   "codemirror_mode": {
    "name": "ipython",
    "version": 3
   },
   "file_extension": ".py",
   "mimetype": "text/x-python",
   "name": "python",
   "nbconvert_exporter": "python",
   "pygments_lexer": "ipython3",
   "version": "3.10.8"
  },
  "toc": {
   "base_numbering": 1,
   "nav_menu": {},
   "number_sections": false,
   "sideBar": true,
   "skip_h1_title": false,
   "title_cell": "Table of Contents",
   "title_sidebar": "Contents",
   "toc_cell": false,
   "toc_position": {
    "height": "calc(100% - 180px)",
    "left": "10px",
    "top": "150px",
    "width": "426.667px"
   },
   "toc_section_display": true,
   "toc_window_display": true
  }
 },
 "nbformat": 4,
 "nbformat_minor": 5
}
