{
 "cells": [
  {
   "cell_type": "markdown",
   "id": "04309776",
   "metadata": {},
   "source": [
    "# 1. Load packages"
   ]
  },
  {
   "cell_type": "markdown",
   "metadata": {},
   "source": [
    "The link to get [ImageAnalysis3](https://github.com/zhengpuas47/ImageAnalysis3) \n",
    "\n",
    "or the Zhuang lab archived [source_tools](https://github.com/ZhuangLab/Chromatin_Analysis_2020_cell/tree/master/sequential_tracing/source)"
   ]
  },
  {
   "cell_type": "code",
   "execution_count": 14,
   "id": "c9cb0a4e",
   "metadata": {},
   "outputs": [
    {
     "name": "stdout",
     "output_type": "stream",
     "text": [
      "1972\n",
      "Use existing analysis folder: L:\\Shiwei\\Figures\\MOp_draft_2023_v2\\Nuclear_organization_v2\\analysis.\n",
      "Use existing figure folder: L:\\Shiwei\\Figures\\MOp_draft_2023_v2\\Nuclear_organization_v2\\figures.\n"
     ]
    }
   ],
   "source": [
    "%run \"C:\\Users\\shiwei\\Documents\\ImageAnalysis3\\required_files\\Startup_py3.py\"\n",
    "sys.path.append(r\"C:\\Users\\shiwei\\Documents\")\n",
    "\n",
    "import ImageAnalysis3 as ia\n",
    "%matplotlib notebook\n",
    "\n",
    "from ImageAnalysis3 import *\n",
    "print(os.getpid())\n",
    "\n",
    "import h5py\n",
    "from ImageAnalysis3.classes import _allowed_kwds\n",
    "import ast\n",
    "\n",
    "import pandas as pd## 1.1 Define output folder\n",
    "\n",
    "output_main_folder = r'L:\\Shiwei\\Figures\\MOp_draft_2023_v2\\Nuclear_organization_v2'\n",
    "output_analysis_folder = os.path.join(output_main_folder, 'analysis')\n",
    "output_figure_folder = os.path.join(output_main_folder, 'figures')\n",
    "\n",
    "make_output_folder = True\n",
    "\n",
    "if make_output_folder and not os.path.exists(output_analysis_folder):\n",
    "    os.makedirs(output_analysis_folder)\n",
    "    print(f'Generating analysis folder: {output_analysis_folder}.')\n",
    "elif os.path.exists(output_analysis_folder):\n",
    "    print(f'Use existing analysis folder: {output_analysis_folder}.')\n",
    "    \n",
    "if make_output_folder and not os.path.exists(output_figure_folder):\n",
    "    os.makedirs(output_figure_folder)\n",
    "    print(f'Generating figure folder: {output_figure_folder}.')\n",
    "elif os.path.exists(output_figure_folder):\n",
    "    print(f'Use existing figure folder: {output_figure_folder}.')"
   ]
  },
  {
   "cell_type": "code",
   "execution_count": 15,
   "id": "64ed1b78",
   "metadata": {},
   "outputs": [],
   "source": [
    "import seaborn as sns\n",
    "import scanpy as sc\n",
    "import numpy as np"
   ]
  },
  {
   "cell_type": "markdown",
   "id": "d1ec4623",
   "metadata": {},
   "source": [
    "## 1.1 Define output folder"
   ]
  },
  {
   "cell_type": "code",
   "execution_count": 16,
   "id": "609b2e20",
   "metadata": {},
   "outputs": [
    {
     "name": "stdout",
     "output_type": "stream",
     "text": [
      "Use existing output folder: L:\\Shiwei\\Figures\\MOp_draft_2023_v2\\Supplementary_tables.\n",
      "Use existing output subfolder: L:\\Shiwei\\Figures\\MOp_draft_2023_v2\\Supplementary_tables\\Primary.\n"
     ]
    }
   ],
   "source": [
    "output_main_folder = r'L:\\Shiwei\\Figures\\MOp_draft_2023_v2\\Supplementary_tables'\n",
    "output_sub_folder = os.path.join(output_main_folder, 'Primary')\n",
    "#output_figure_folder = os.path.join(output_main_folder, 'figures')\n",
    "\n",
    "make_output_folder = True\n",
    "\n",
    "if output_main_folder and not os.path.exists(output_main_folder):\n",
    "    os.makedirs(output_main_folder)\n",
    "    print(f'Generating output folder: {output_main_folder}.')\n",
    "elif os.path.exists(output_analysis_folder):\n",
    "    print(f'Use existing output folder: {output_main_folder}.')\n",
    "\n",
    "    \n",
    "if output_main_folder and not os.path.exists(output_sub_folder):\n",
    "    os.makedirs(output_sub_folder)\n",
    "    print(f'Generating output subfolder: {output_sub_folder}.')\n",
    "elif os.path.exists(output_sub_folder):\n",
    "    print(f'Use existing output subfolder: {output_sub_folder}.')"
   ]
  },
  {
   "cell_type": "markdown",
   "id": "77d389bb",
   "metadata": {},
   "source": [
    "# 2. Load library folder"
   ]
  },
  {
   "cell_type": "code",
   "execution_count": 17,
   "id": "6c708cba",
   "metadata": {},
   "outputs": [],
   "source": [
    "library_main_folder = r'\\\\10.245.74.212\\Chromatin_NAS_2\\Chromatin_Libraries'\n",
    "\n",
    "merfish_folder = os.path.join(library_main_folder,'Existing_MERFISH')\n",
    "\n",
    "ctp11_folder = os.path.join(library_main_folder, 'CTP-11_brain')\n",
    "ctp12_folder = os.path.join(library_main_folder, 'CTP-12_mop_markers')\n",
    "ctp13_folder = os.path.join(library_main_folder, 'CTP-13_brain-super-enhancers')\n"
   ]
  },
  {
   "cell_type": "code",
   "execution_count": 18,
   "id": "352b728e",
   "metadata": {},
   "outputs": [],
   "source": [
    "merfish_fname = os.path.join(merfish_folder, 'M1_meng.fasta')\n",
    "ctp11_fname = os.path.join(ctp11_folder, 'final_pool_probes.fasta')\n",
    "ctp12_fname = os.path.join(ctp12_folder, 'merged_CTP12.fasta')\n",
    "ctp13_fname = os.path.join(ctp13_folder, 'final_pool_probes_combinatory.fasta')\n"
   ]
  },
  {
   "cell_type": "markdown",
   "id": "662c7321",
   "metadata": {},
   "source": [
    "## convert each library"
   ]
  },
  {
   "cell_type": "code",
   "execution_count": 27,
   "id": "15187968",
   "metadata": {},
   "outputs": [
    {
     "name": "stdout",
     "output_type": "stream",
     "text": [
      "Process RNA MERFISH probes\n",
      "Removed 22734 probes for RNA MERFISH probes\n",
      "Kept 22005 probes for RNA MERFISH probes\n",
      "=================\n",
      "Process Genome chromatin probes\n",
      "Kept 173891 probes for Genome chromatin probes\n",
      "=================\n",
      "Process Marker chromatin probes\n",
      "Removed 5620 probes for Marker chromatin probes\n",
      "Kept 3360 probes for Marker chromatin probes\n",
      "=================\n",
      "Process Super-enhancer chromatin probes\n",
      "Kept 115776 probes for Super-enhancer chromatin probes\n",
      "=================\n"
     ]
    }
   ],
   "source": [
    "from Bio import SeqIO\n",
    "\n",
    "probes_df_dict = {}\n",
    "df_savename_list = ['RNA MERFISH probes', \n",
    "                    'Genome chromatin probes', \n",
    "                    'Marker chromatin probes', \n",
    "                    'Super-enhancer chromatin probes']\n",
    "\n",
    "for final_pb_filename, df_savename in zip([merfish_fname, ctp11_fname, ctp12_fname, ctp13_fname],df_savename_list):\n",
    "    print(f'Process {df_savename}')\n",
    "    # export fasta info\n",
    "    probes_dict = {'name':[],'sequence':[]}\n",
    "    with open(final_pb_filename, 'r') as handle:\n",
    "        for record in SeqIO.parse(handle, \"fasta\"):\n",
    "            probes_dict['name'].append(record.description)\n",
    "            probes_dict['sequence'].append(str(record.seq))\n",
    "            \n",
    "    # convert df \n",
    "    probes_df = pd.DataFrame(probes_dict)\n",
    "    if df_savename == 'RNA MERFISH probes': # remove sequenctial from MERFISH\n",
    "        num_remove = len(probes_df['name'].str.contains('_sequential'))\n",
    "        probes_df = probes_df[~probes_df['name'].str.contains('_sequential')]\n",
    "        print(f'Removed {num_remove} probes for {df_savename}')\n",
    "        \n",
    "    if df_savename == 'Marker chromatin probes': # remove CTP11 purchase from CTP12\n",
    "        num_remove = len(probes_df['name'].str.contains('CTP11_MO'))\n",
    "        probes_df = probes_df[~probes_df['name'].str.contains('CTP11_MO')]\n",
    "        print(f'Removed {num_remove} probes for {df_savename}')\n",
    "    \n",
    "    probes_df_dict[df_savename] = probes_df\n",
    "    print(f'Kept {len(probes_df)} probes for {df_savename}')\n",
    "    print(f'=================')\n",
    "    "
   ]
  },
  {
   "cell_type": "code",
   "execution_count": 28,
   "id": "f8c0ea65",
   "metadata": {},
   "outputs": [
    {
     "data": {
      "text/html": [
       "<div>\n",
       "<style scoped>\n",
       "    .dataframe tbody tr th:only-of-type {\n",
       "        vertical-align: middle;\n",
       "    }\n",
       "\n",
       "    .dataframe tbody tr th {\n",
       "        vertical-align: top;\n",
       "    }\n",
       "\n",
       "    .dataframe thead th {\n",
       "        text-align: right;\n",
       "    }\n",
       "</style>\n",
       "<table border=\"1\" class=\"dataframe\">\n",
       "  <thead>\n",
       "    <tr style=\"text-align: right;\">\n",
       "      <th></th>\n",
       "      <th>name</th>\n",
       "      <th>sequence</th>\n",
       "    </tr>\n",
       "  </thead>\n",
       "  <tbody>\n",
       "    <tr>\n",
       "      <th>2260</th>\n",
       "      <td>loc_18:15400982-15420982_gene_Aqp4_pb_73_pos_5...</td>\n",
       "      <td>CGCAAACTGGTGCGGAAGGCTGCCGTTCGTCTGCGCTTGGTTCCAT...</td>\n",
       "    </tr>\n",
       "    <tr>\n",
       "      <th>2261</th>\n",
       "      <td>loc_18:15400982-15420982_gene_Aqp4_pb_74_pos_5...</td>\n",
       "      <td>CGCAAACTGGTGCGGAAGGCTGCCGTTCGTCTGCGCTTGGCAGCCT...</td>\n",
       "    </tr>\n",
       "    <tr>\n",
       "      <th>2262</th>\n",
       "      <td>loc_18:15400982-15420982_gene_Aqp4_pb_75_pos_5...</td>\n",
       "      <td>CGCAAACTGGTGCGGAAGGCTGCCGTTCGTCTGCGCTTGGACATCT...</td>\n",
       "    </tr>\n",
       "    <tr>\n",
       "      <th>2263</th>\n",
       "      <td>loc_18:15400982-15420982_gene_Aqp4_pb_76_pos_5...</td>\n",
       "      <td>CGCAAACTGGTGCGGAAGGCTGCCGTTCGTCTGCGCTTGGGGCCCA...</td>\n",
       "    </tr>\n",
       "    <tr>\n",
       "      <th>2264</th>\n",
       "      <td>loc_18:15400982-15420982_gene_Aqp4_pb_77_pos_5...</td>\n",
       "      <td>CGCAAACTGGTGCGGAAGGCTGCCGTTCGTCTGCGCTTGGTTCACC...</td>\n",
       "    </tr>\n",
       "    <tr>\n",
       "      <th>...</th>\n",
       "      <td>...</td>\n",
       "      <td>...</td>\n",
       "    </tr>\n",
       "    <tr>\n",
       "      <th>5615</th>\n",
       "      <td>loc_11:78489091-78509091_gene_Vtn_pb_187_pos_1...</td>\n",
       "      <td>CGCAAACTGGTGCGGAAGGCAAGTCCGCGCAGGAACGTGAAACTCA...</td>\n",
       "    </tr>\n",
       "    <tr>\n",
       "      <th>5616</th>\n",
       "      <td>loc_11:78489091-78509091_gene_Vtn_pb_188_pos_1...</td>\n",
       "      <td>CGCAAACTGGTGCGGAAGGCAAGTCCGCGCAGGAACGTGAAACAGA...</td>\n",
       "    </tr>\n",
       "    <tr>\n",
       "      <th>5617</th>\n",
       "      <td>loc_11:78489091-78509091_gene_Vtn_pb_189_pos_1...</td>\n",
       "      <td>CGCAAACTGGTGCGGAAGGCAAGTCCGCGCAGGAACGTGAGAGAGA...</td>\n",
       "    </tr>\n",
       "    <tr>\n",
       "      <th>5618</th>\n",
       "      <td>loc_11:78489091-78509091_gene_Vtn_pb_190_pos_1...</td>\n",
       "      <td>CGCAAACTGGTGCGGAAGGCAAGTCCGCGCAGGAACGTGAAGCAGA...</td>\n",
       "    </tr>\n",
       "    <tr>\n",
       "      <th>5619</th>\n",
       "      <td>loc_11:78489091-78509091_gene_Vtn_pb_191_pos_1...</td>\n",
       "      <td>CGCAAACTGGTGCGGAAGGCAAGTCCGCGCAGGAACGTGAAGCAGC...</td>\n",
       "    </tr>\n",
       "  </tbody>\n",
       "</table>\n",
       "<p>3360 rows × 2 columns</p>\n",
       "</div>"
      ],
      "text/plain": [
       "                                                   name  \\\n",
       "2260  loc_18:15400982-15420982_gene_Aqp4_pb_73_pos_5...   \n",
       "2261  loc_18:15400982-15420982_gene_Aqp4_pb_74_pos_5...   \n",
       "2262  loc_18:15400982-15420982_gene_Aqp4_pb_75_pos_5...   \n",
       "2263  loc_18:15400982-15420982_gene_Aqp4_pb_76_pos_5...   \n",
       "2264  loc_18:15400982-15420982_gene_Aqp4_pb_77_pos_5...   \n",
       "...                                                 ...   \n",
       "5615  loc_11:78489091-78509091_gene_Vtn_pb_187_pos_1...   \n",
       "5616  loc_11:78489091-78509091_gene_Vtn_pb_188_pos_1...   \n",
       "5617  loc_11:78489091-78509091_gene_Vtn_pb_189_pos_1...   \n",
       "5618  loc_11:78489091-78509091_gene_Vtn_pb_190_pos_1...   \n",
       "5619  loc_11:78489091-78509091_gene_Vtn_pb_191_pos_1...   \n",
       "\n",
       "                                               sequence  \n",
       "2260  CGCAAACTGGTGCGGAAGGCTGCCGTTCGTCTGCGCTTGGTTCCAT...  \n",
       "2261  CGCAAACTGGTGCGGAAGGCTGCCGTTCGTCTGCGCTTGGCAGCCT...  \n",
       "2262  CGCAAACTGGTGCGGAAGGCTGCCGTTCGTCTGCGCTTGGACATCT...  \n",
       "2263  CGCAAACTGGTGCGGAAGGCTGCCGTTCGTCTGCGCTTGGGGCCCA...  \n",
       "2264  CGCAAACTGGTGCGGAAGGCTGCCGTTCGTCTGCGCTTGGTTCACC...  \n",
       "...                                                 ...  \n",
       "5615  CGCAAACTGGTGCGGAAGGCAAGTCCGCGCAGGAACGTGAAACTCA...  \n",
       "5616  CGCAAACTGGTGCGGAAGGCAAGTCCGCGCAGGAACGTGAAACAGA...  \n",
       "5617  CGCAAACTGGTGCGGAAGGCAAGTCCGCGCAGGAACGTGAGAGAGA...  \n",
       "5618  CGCAAACTGGTGCGGAAGGCAAGTCCGCGCAGGAACGTGAAGCAGA...  \n",
       "5619  CGCAAACTGGTGCGGAAGGCAAGTCCGCGCAGGAACGTGAAGCAGC...  \n",
       "\n",
       "[3360 rows x 2 columns]"
      ]
     },
     "execution_count": 28,
     "metadata": {},
     "output_type": "execute_result"
    }
   ],
   "source": [
    "probes_df_dict['Marker chromatin probes']"
   ]
  },
  {
   "cell_type": "markdown",
   "id": "d1a21321",
   "metadata": {},
   "source": [
    "# save each library"
   ]
  },
  {
   "cell_type": "code",
   "execution_count": 29,
   "id": "c8b254f3",
   "metadata": {},
   "outputs": [
    {
     "name": "stdout",
     "output_type": "stream",
     "text": [
      "Save RNA MERFISH probes\n",
      "Save Genome chromatin probes\n",
      "Save Marker chromatin probes\n",
      "Save Super-enhancer chromatin probes\n"
     ]
    }
   ],
   "source": [
    "for _name, _df in probes_df_dict.items():\n",
    "    csv_fname = os.path.join(output_sub_folder, f'{_name}.csv')\n",
    "    if not os.path.exists(csv_fname):\n",
    "        print(f'Save {_name}')\n",
    "        _df.to_csv(csv_fname, index=False)\n",
    "    else:\n",
    "        print(f'Skip {_name}')"
   ]
  },
  {
   "cell_type": "markdown",
   "id": "c060462a",
   "metadata": {},
   "source": [
    "## save as seperate excel sheet"
   ]
  },
  {
   "cell_type": "code",
   "execution_count": 30,
   "id": "6288f754",
   "metadata": {},
   "outputs": [
    {
     "name": "stdout",
     "output_type": "stream",
     "text": [
      "Save L:\\Shiwei\\Figures\\MOp_draft_2023_v2\\Supplementary_tables\\Table_1_MOp_primary_oligopropes.xlsx\n"
     ]
    }
   ],
   "source": [
    "excel_fname = os.path.join(output_main_folder, f'Table_S1_MOp_primary_oligopropes.xlsx')\n",
    "\n",
    "if not os.path.exists(excel_fname):\n",
    "    print(f'Save {excel_fname}')\n",
    "    with pd.ExcelWriter(excel_fname) as writer:  \n",
    "        for _name, _df in probes_df_dict.items():\n",
    "            _df.to_excel(writer, sheet_name=_name, index=False)\n",
    "        \n",
    "else:\n",
    "    print(f'Skip {excel_fname}')\n",
    "        "
   ]
  }
 ],
 "metadata": {
  "kernelspec": {
   "display_name": "Python 3 (ipykernel)",
   "language": "python",
   "name": "python3"
  },
  "language_info": {
   "codemirror_mode": {
    "name": "ipython",
    "version": 3
   },
   "file_extension": ".py",
   "mimetype": "text/x-python",
   "name": "python",
   "nbconvert_exporter": "python",
   "pygments_lexer": "ipython3",
   "version": "3.10.8"
  },
  "toc": {
   "base_numbering": 1,
   "nav_menu": {},
   "number_sections": false,
   "sideBar": true,
   "skip_h1_title": false,
   "title_cell": "Table of Contents",
   "title_sidebar": "Contents",
   "toc_cell": false,
   "toc_position": {
    "height": "calc(100% - 180px)",
    "left": "10px",
    "top": "150px",
    "width": "426.667px"
   },
   "toc_section_display": true,
   "toc_window_display": true
  }
 },
 "nbformat": 4,
 "nbformat_minor": 5
}
