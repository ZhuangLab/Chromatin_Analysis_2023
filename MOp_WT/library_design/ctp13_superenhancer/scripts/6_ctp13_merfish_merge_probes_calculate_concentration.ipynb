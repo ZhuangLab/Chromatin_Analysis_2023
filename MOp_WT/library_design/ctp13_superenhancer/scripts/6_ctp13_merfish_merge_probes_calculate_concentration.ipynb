{
 "cells": [
  {
   "cell_type": "markdown",
   "metadata": {},
   "source": [
    "# Calculate probes concentration for M4('M1') MERFISH\n",
    "\n",
    "MERFISH_library from Meng\n",
    "\n",
    "https://www.nature.com/articles/s41586-021-03705-x"
   ]
  },
  {
   "cell_type": "code",
   "execution_count": 1,
   "metadata": {
    "ExecuteTime": {
     "end_time": "2019-07-04T01:25:30.670956Z",
     "start_time": "2019-07-04T01:25:27.238400Z"
    }
   },
   "outputs": [
    {
     "name": "stdout",
     "output_type": "stream",
     "text": [
      "56160\n"
     ]
    }
   ],
   "source": [
    "%run \"C:\\Users\\shiwei\\Documents\\ImageAnalysis3\\required_files\\Startup_py3.py\"\n",
    "sys.path.append(r\"C:\\Users\\shiwei\\Documents\")\n",
    "\n",
    "import ImageAnalysis3\n",
    "from ImageAnalysis3 import get_img_info, visual_tools, corrections, library_tools\n",
    "\n",
    "from ImageAnalysis3.library_tools import LibraryDesigner as ld\n",
    "from ImageAnalysis3.library_tools import LibraryTools\n",
    "\n",
    "%matplotlib notebook\n",
    "print(os.getpid())\n",
    "\n",
    "# biopython for SeqRecord\n",
    "from Bio import SeqIO\n",
    "from Bio.Seq import Seq\n",
    "from Bio.SeqRecord import SeqRecord\n",
    "\n",
    "# blast\n",
    "from Bio.Blast.Applications import NcbiblastnCommandline\n",
    "from Bio.Blast import NCBIXML \n",
    "import ImageAnalysis3.library_tools.quality_check as qc"
   ]
  },
  {
   "cell_type": "code",
   "execution_count": 2,
   "metadata": {
    "ExecuteTime": {
     "end_time": "2019-07-04T01:31:26.837387Z",
     "start_time": "2019-07-04T01:31:26.523156Z"
    }
   },
   "outputs": [],
   "source": [
    "# Library directories\n",
    "pool_folder = r'\\\\10.245.74.212\\Chromatin_NAS_2\\Chromatin_Libraries\\CTP-13_brain-super-enhancers'\n",
    "#sub_fds = [os.path.join(pool_folder, _fd) for _fd in os.listdir(pool_folder) if os.path.isdir(os.path.join(pool_folder, _fd))]\n",
    "\n",
    "library_file = os.path.join(pool_folder, 'final_pool_probes_com_plus_seq.fasta')"
   ]
  },
  {
   "cell_type": "code",
   "execution_count": 4,
   "metadata": {},
   "outputs": [
    {
     "name": "stdout",
     "output_type": "stream",
     "text": [
      "There are 116856 different oligo species.\n",
      "The oligo probe length is 142.\n",
      "ID: loc_5:30381241-30452747_gene_285_pb_243_pos_51788_strand_+_readouts_[NDB_593_u,NDB_593_u,NDB_593_u]_primers_[W1A03_primer_2,W1A10_primer_9]\n",
      "Name: loc_5:30381241-30452747_gene_285_pb_243_pos_51788_strand_+_readouts_[NDB_593_u,NDB_593_u,NDB_593_u]_primers_[W1A03_primer_2,W1A10_primer_9]\n",
      "Description: loc_5:30381241-30452747_gene_285_pb_243_pos_51788_strand_+_readouts_[NDB_593_u,NDB_593_u,NDB_593_u]_primers_[W1A03_primer_2,W1A10_primer_9]\n",
      "Number of features: 0\n",
      "Seq('CCCGCAATGGCTGACAACCGCTCAATGAGGTAGTCTAGCGAAGCATGACTCTGC...TCC')\n"
     ]
    }
   ],
   "source": [
    "# Load probes\n",
    "#target_len = 114\n",
    "library_2_pbs = {}\n",
    "_records = []\n",
    "with open(library_file, 'r') as _handle:\n",
    "    for _record in SeqIO.parse(_handle, \"fasta\"):\n",
    "        # add all probes with excluding the sequential one\n",
    "        #if 'sequential' not in _record.name:\n",
    "        _records.append(_record)\n",
    "        \n",
    "print(f'There are {len(_records)} different oligo species.')\n",
    "print(f'The oligo probe length is {len(_records[-1].seq)}.')\n",
    "print(_records[-1])"
   ]
  },
  {
   "cell_type": "markdown",
   "metadata": {},
   "source": [
    "# Calculate concentration"
   ]
  },
  {
   "cell_type": "code",
   "execution_count": 6,
   "metadata": {},
   "outputs": [
    {
     "name": "stdout",
     "output_type": "stream",
     "text": [
      "0.00646385\n",
      "5.5314660779078525e-08\n",
      "1.2803015613937128e-12\n",
      "final in ul: 128.0301561393713\n"
     ]
    }
   ],
   "source": [
    "# CTP13 comb   batch#1\n",
    "vol_1 = 16.5 * 1e3 # ul         ----# from ml to ul\n",
    "vol_2 = 28 * 1e3 # ul         ----# from ml to ul\n",
    "\n",
    "conc_1 = (155.7)/1 * 1e-9 # g/ul    -----# from ng/ul to g/ul\n",
    "conc_2 = (139.1)/1 * 1e-9 # g/ul    -----# from ng/ul to g/ul\n",
    "\n",
    "\n",
    "num_pb = 116856\n",
    "pb_len = 142\n",
    "final_conc = 10 # nM\n",
    "pb_mw = (pb_len * 303.7 + 79) # g/mol\n",
    "\n",
    "#mass_total = vol * conc\n",
    "mass_total = vol_1 * conc_1 + vol_2 * conc_2\n",
    "\n",
    "mass_per_pb = mass_total / num_pb\n",
    "mol_per_pb = mass_per_pb / pb_mw\n",
    "print(mass_total)\n",
    "print(mass_per_pb)\n",
    "print(mol_per_pb)\n",
    "target_conc = final_conc * 1e-9 * 1e-6 # mol/ul\n",
    "final_vol = mol_per_pb / target_conc\n",
    "print(\"final in ul:\", final_vol)"
   ]
  },
  {
   "cell_type": "code",
   "execution_count": 20,
   "metadata": {},
   "outputs": [
    {
     "name": "stdout",
     "output_type": "stream",
     "text": [
      "0.00076356\n",
      "3.469938650306749e-08\n",
      "1.017774305380733e-12\n",
      "final in ul: 101.7774305380733\n"
     ]
    }
   ],
   "source": [
    "# MERFISH comb   batch#2\n",
    "vol = 11.2 * 1e3 # ul         ----# from ml to ul\n",
    "conc = (64+71+63.2+74.5)/4 * 1e-9 # g/ul    -----# from ng/ul to g/ul\n",
    "num_pb = 22005\n",
    "pb_len = 112\n",
    "final_conc = 10 # nM\n",
    "pb_mw = (pb_len * 303.7 + 79) # g/mol\n",
    "\n",
    "mass_total = vol * conc\n",
    "mass_per_pb = mass_total / num_pb\n",
    "mol_per_pb = mass_per_pb / pb_mw\n",
    "print(mass_total)\n",
    "print(mass_per_pb)\n",
    "print(mol_per_pb)\n",
    "target_conc = final_conc * 1e-9 * 1e-6 # mol/ul\n",
    "final_vol = mol_per_pb / target_conc\n",
    "print(\"final in ul:\", final_vol)"
   ]
  },
  {
   "cell_type": "code",
   "execution_count": 8,
   "metadata": {},
   "outputs": [
    {
     "name": "stdout",
     "output_type": "stream",
     "text": [
      "0.0015948000000000002\n",
      "4.746428571428572e-07\n",
      "1.1906643315669575e-11\n",
      "final in ul: 1190.6643315669576\n"
     ]
    }
   ],
   "source": [
    "# marker-gene DNA TSS\n",
    "vol = 9 * 1e3 # ul\n",
    "conc = (165.8+191.3+174.5)/3 * 1e-9 # g/ul\n",
    "num_pb = 3360\n",
    "pb_len = 142-11\n",
    "final_conc = 10 # nM\n",
    "pb_mw = (pb_len * 303.7 + 79) # g/mol\n",
    "\n",
    "mass_total = vol * conc\n",
    "mass_per_pb = mass_total / num_pb\n",
    "mol_per_pb = mass_per_pb / pb_mw\n",
    "print(mass_total)\n",
    "print(mass_per_pb)\n",
    "print(mol_per_pb)\n",
    "target_conc = final_conc * 1e-9 * 1e-6 # mol/ul\n",
    "final_vol = mol_per_pb / target_conc\n",
    "print(\"final in ul:\", final_vol)"
   ]
  }
 ],
 "metadata": {
  "kernelspec": {
   "display_name": "Python 3",
   "language": "python",
   "name": "python3"
  },
  "language_info": {
   "codemirror_mode": {
    "name": "ipython",
    "version": 3
   },
   "file_extension": ".py",
   "mimetype": "text/x-python",
   "name": "python",
   "nbconvert_exporter": "python",
   "pygments_lexer": "ipython3",
   "version": "3.7.6"
  },
  "toc": {
   "base_numbering": 1,
   "nav_menu": {},
   "number_sections": true,
   "sideBar": true,
   "skip_h1_title": false,
   "title_cell": "Table of Contents",
   "title_sidebar": "Contents",
   "toc_cell": false,
   "toc_position": {},
   "toc_section_display": true,
   "toc_window_display": false
  },
  "varInspector": {
   "cols": {
    "lenName": 16,
    "lenType": 16,
    "lenVar": 40
   },
   "kernels_config": {
    "python": {
     "delete_cmd_postfix": "",
     "delete_cmd_prefix": "del ",
     "library": "var_list.py",
     "varRefreshCmd": "print(var_dic_list())"
    },
    "r": {
     "delete_cmd_postfix": ") ",
     "delete_cmd_prefix": "rm(",
     "library": "var_list.r",
     "varRefreshCmd": "cat(var_dic_list()) "
    }
   },
   "types_to_exclude": [
    "module",
    "function",
    "builtin_function_or_method",
    "instance",
    "_Feature"
   ],
   "window_display": false
  }
 },
 "nbformat": 4,
 "nbformat_minor": 2
}
