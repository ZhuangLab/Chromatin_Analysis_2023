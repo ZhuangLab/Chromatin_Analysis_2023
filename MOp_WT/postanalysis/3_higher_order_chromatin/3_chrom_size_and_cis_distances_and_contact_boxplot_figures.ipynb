{
 "cells": [
  {
   "cell_type": "markdown",
   "id": "f9c79c84",
   "metadata": {},
   "source": [
    "# 1. Load packages"
   ]
  },
  {
   "cell_type": "markdown",
   "metadata": {},
   "source": [
    "The link to get [ImageAnalysis3](https://github.com/zhengpuas47/ImageAnalysis3) \n",
    "\n",
    "or the Zhuang lab archived [source_tools](https://github.com/ZhuangLab/Chromatin_Analysis_2020_cell/tree/master/sequential_tracing/source)"
   ]
  },
  {
   "cell_type": "code",
   "execution_count": 1,
   "id": "13edafbd",
   "metadata": {},
   "outputs": [
    {
     "name": "stdout",
     "output_type": "stream",
     "text": [
      "39748\n"
     ]
    }
   ],
   "source": [
    "%run \"C:\\Users\\shiwei\\Documents\\ImageAnalysis3\\required_files\\Startup_py3.py\"\n",
    "sys.path.append(r\"C:\\Users\\shiwei\\Documents\")\n",
    "\n",
    "import ImageAnalysis3 as ia\n",
    "%matplotlib notebook\n",
    "\n",
    "from ImageAnalysis3 import *\n",
    "print(os.getpid())\n",
    "\n",
    "import h5py\n",
    "from ImageAnalysis3.classes import _allowed_kwds\n",
    "import ast\n",
    "\n",
    "import pandas as pd"
   ]
  },
  {
   "cell_type": "markdown",
   "metadata": {},
   "source": [
    "See **functions** in the repository for [AnalysisTool_Chromatin](../../functions/README.md)"
   ]
  },
  {
   "cell_type": "code",
   "execution_count": 2,
   "id": "379e8b31",
   "metadata": {},
   "outputs": [
    {
     "data": {
      "text/plain": [
       "<module 'atac_to_loci' from 'C:\\\\Users\\\\shiwei\\\\Documents\\\\AnalysisTool_Chromatin\\\\atac_to_loci.py'>"
      ]
     },
     "execution_count": 2,
     "metadata": {},
     "output_type": "execute_result"
    }
   ],
   "source": [
    "# Chromatin_analysis_tools (ATC)\n",
    "# Get path for the py containing functions\n",
    "import os\n",
    "import sys\n",
    "import importlib\n",
    "module_path =r'C:\\Users\\shiwei\\Documents\\AnalysisTool_Chromatin'\n",
    "if module_path not in sys.path:\n",
    "    sys.path.append(module_path)\n",
    "    \n",
    "# import relevant modules\n",
    "import gene_selection \n",
    "importlib.reload(gene_selection)\n",
    "import gene_to_loci\n",
    "importlib.reload(gene_to_loci)\n",
    "import gene_activity\n",
    "importlib.reload(gene_activity)\n",
    "import loci_1d_features\n",
    "importlib.reload(loci_1d_features)  \n",
    "\n",
    "import atac_to_loci\n",
    "importlib.reload(atac_to_loci)"
   ]
  },
  {
   "cell_type": "code",
   "execution_count": 3,
   "id": "98684b79",
   "metadata": {},
   "outputs": [],
   "source": [
    "import seaborn as sns\n",
    "import scanpy as sc"
   ]
  },
  {
   "cell_type": "markdown",
   "id": "22b002fe",
   "metadata": {},
   "source": [
    "## 1.1 Define output folder"
   ]
  },
  {
   "cell_type": "code",
   "execution_count": 4,
   "id": "587b42f3",
   "metadata": {},
   "outputs": [
    {
     "name": "stdout",
     "output_type": "stream",
     "text": [
      "Use existing analysis folder: L:\\Shiwei\\Figures\\MOp_draft_2023_v2\\Cis_chromosome\\analysis.\n",
      "Use existing figure folder: L:\\Shiwei\\Figures\\MOp_draft_2023_v2\\Cis_chromosome\\figures.\n"
     ]
    }
   ],
   "source": [
    "output_main_folder = r'L:\\Shiwei\\Figures\\MOp_draft_2023_v2\\Cis_chromosome'\n",
    "output_analysis_folder = os.path.join(output_main_folder, 'analysis')\n",
    "output_figure_folder = os.path.join(output_main_folder, 'figures')\n",
    "\n",
    "make_output_folder = True\n",
    "\n",
    "if make_output_folder and not os.path.exists(output_analysis_folder):\n",
    "    os.makedirs(output_analysis_folder)\n",
    "    print(f'Generating analysis folder: {output_analysis_folder}.')\n",
    "elif os.path.exists(output_analysis_folder):\n",
    "    print(f'Use existing analysis folder: {output_analysis_folder}.')\n",
    "    \n",
    "if make_output_folder and not os.path.exists(output_figure_folder):\n",
    "    os.makedirs(output_figure_folder)\n",
    "    print(f'Generating figure folder: {output_figure_folder}.')\n",
    "elif os.path.exists(output_figure_folder):\n",
    "    print(f'Use existing figure folder: {output_figure_folder}.')\n"
   ]
  },
  {
   "cell_type": "markdown",
   "id": "8bb15553",
   "metadata": {},
   "source": [
    "## 1.2 setting up plotting parameters"
   ]
  },
  {
   "cell_type": "code",
   "execution_count": 5,
   "id": "f477ccb0",
   "metadata": {},
   "outputs": [],
   "source": [
    "from matplotlib import rcParams\n",
    "rcParams['font.family'] = 'sans-serif'\n",
    "rcParams['font.sans-serif'] = ['Arial']\n",
    "\n",
    "import matplotlib\n",
    "%matplotlib inline\n",
    "matplotlib.rcParams['pdf.fonttype'] = 42\n",
    "\n",
    "plt.rc('font', family='serif')\n",
    "plt.rc('font', serif='Arial')\n",
    "\n",
    "\n",
    "# Other required plotting parameters\n",
    "_dpi = 300\n",
    "_font_size = 7.5\n",
    "_page_width = 5.5\n",
    "import seaborn as sns\n",
    "sns.set_context(\"paper\", rc={\"font.size\":_font_size,\"axes.titlesize\":_font_size+1,\"axes.labelsize\":_font_size})  "
   ]
  },
  {
   "cell_type": "code",
   "execution_count": 6,
   "id": "c33943dd",
   "metadata": {},
   "outputs": [],
   "source": [
    "# cell labels from RNA-MERFISH and celltype prediction\n",
    "selected_cell_labels = ['L2/3 IT','L4/5 IT','L5 IT','L6 IT','L5 ET','L5/6 NP','L6 CT','L6b',\n",
    "                           'Sst','Pvalb','Lamp5','Sncg','Vip',\n",
    "                           'Astro','Oligo','OPC','Micro','Endo','VLMC','SMC','Peri', \n",
    "                           #'other',\n",
    "                          ]\n",
    "# cell palette from RNA-MERFISH UMAP and stats\n",
    "celltype_palette = {'Astro':'lightcoral', \n",
    "                    'Endo':'skyblue', \n",
    "                    'L2/3 IT':'gold', \n",
    "                    'L4/5 IT':'darkorange', \n",
    "                    'L5 ET':'mediumseagreen', \n",
    "                    'L5 IT':'aqua',\n",
    "                    'L5/6 NP':'darkgreen',\n",
    "                    'L6 CT':'brown',\n",
    "                    'L6 IT':'magenta',\n",
    "                    'L6b':'blue', \n",
    "                    'Lamp5':'orange', \n",
    "                    'Micro':'peachpuff',\n",
    "                    'OPC':'thistle', \n",
    "                    'Oligo':'darkviolet',\n",
    "                    'Peri':'sandybrown',\n",
    "                    'Pvalb':'springgreen',\n",
    "                    'SMC':'rosybrown',\n",
    "                    'Sncg':'darkkhaki',\n",
    "                    'Sst':'steelblue', \n",
    "                    'VLMC':'saddlebrown', \n",
    "                    'Vip':'red',\n",
    "                    'other':'slategray'}\n"
   ]
  },
  {
   "cell_type": "code",
   "execution_count": 7,
   "id": "caad6887",
   "metadata": {},
   "outputs": [],
   "source": [
    "# this is the plotting order noted based on the snRNA transcriptional acitivty;\n",
    "# we'd use this for all the graphs in this notebook\n",
    "# use the snRNA data below (# section 3.1.1) if needs to re-calculate\n",
    "sorted_cellplot_order = ['Micro', 'Oligo', 'Endo', 'OPC', 'Astro', 'Vip', 'Lamp5',\n",
    "                  'L5/6 NP', 'Sst', 'Sncg', 'Pvalb', 'L4/5 IT', 'L6 CT',\n",
    "                  'L6 IT', 'L6b', 'L2/3 IT', 'L5 IT', 'L5 ET']"
   ]
  },
  {
   "cell_type": "markdown",
   "id": "2c442748",
   "metadata": {},
   "source": [
    "# 2. Load codebook and chromosome size"
   ]
  },
  {
   "cell_type": "markdown",
   "metadata": {},
   "source": [
    "## Codebook\n",
    "\n",
    "**Codebook** example from [codebook_link](../0_locus_annotation/resources/MERFISH_loci_adjacent_genes_tss_more_res.csv)"
   ]
  },
  {
   "cell_type": "code",
   "execution_count": 8,
   "id": "b888017d",
   "metadata": {},
   "outputs": [
    {
     "data": {
      "text/html": [
       "<div>\n",
       "<style scoped>\n",
       "    .dataframe tbody tr th:only-of-type {\n",
       "        vertical-align: middle;\n",
       "    }\n",
       "\n",
       "    .dataframe tbody tr th {\n",
       "        vertical-align: top;\n",
       "    }\n",
       "\n",
       "    .dataframe thead th {\n",
       "        text-align: right;\n",
       "    }\n",
       "</style>\n",
       "<table border=\"1\" class=\"dataframe\">\n",
       "  <thead>\n",
       "    <tr style=\"text-align: right;\">\n",
       "      <th></th>\n",
       "      <th>name</th>\n",
       "      <th>id</th>\n",
       "      <th>chr</th>\n",
       "      <th>chr_order</th>\n",
       "      <th>library</th>\n",
       "      <th>dtype</th>\n",
       "      <th>adjacent_genes_0kb_tss</th>\n",
       "      <th>adjacent_genes_10kb_tss</th>\n",
       "      <th>adjacent_genes_50kb_tss</th>\n",
       "      <th>adjacent_genes_100kb_tss</th>\n",
       "      <th>adjacent_genes_200kb_tss</th>\n",
       "      <th>adjacent_genes_500kb_tss</th>\n",
       "      <th>adjacent_genes_1000kb_tss</th>\n",
       "      <th>adjacent_genes_1500kb_tss</th>\n",
       "      <th>adjacent_genes_2000kb_tss</th>\n",
       "    </tr>\n",
       "    <tr>\n",
       "      <th>loci_name</th>\n",
       "      <th></th>\n",
       "      <th></th>\n",
       "      <th></th>\n",
       "      <th></th>\n",
       "      <th></th>\n",
       "      <th></th>\n",
       "      <th></th>\n",
       "      <th></th>\n",
       "      <th></th>\n",
       "      <th></th>\n",
       "      <th></th>\n",
       "      <th></th>\n",
       "      <th></th>\n",
       "      <th></th>\n",
       "      <th></th>\n",
       "    </tr>\n",
       "  </thead>\n",
       "  <tbody>\n",
       "    <tr>\n",
       "      <th>chr1_3742742_3759944</th>\n",
       "      <td>1:3742742-3759944</td>\n",
       "      <td>1</td>\n",
       "      <td>1</td>\n",
       "      <td>0</td>\n",
       "      <td>CTP11</td>\n",
       "      <td>combo</td>\n",
       "      <td>intergenic</td>\n",
       "      <td>intergenic</td>\n",
       "      <td>intergenic</td>\n",
       "      <td>Xkr4</td>\n",
       "      <td>Xkr4</td>\n",
       "      <td>Gm18956; Gm7341; Xkr4</td>\n",
       "      <td>Gm18956; Gm2053; Gm6085; Gm6101; Gm6119; Gm734...</td>\n",
       "      <td>Atp6v1h; Gm16041; Gm17101; Gm18956; Gm2053; Gm...</td>\n",
       "      <td>Atp6v1h; Gm16041; Gm17101; Gm18956; Gm2053; Gm...</td>\n",
       "    </tr>\n",
       "    <tr>\n",
       "      <th>chr1_6245958_6258969</th>\n",
       "      <td>1:6245958-6258969</td>\n",
       "      <td>2</td>\n",
       "      <td>1</td>\n",
       "      <td>1</td>\n",
       "      <td>CTP11</td>\n",
       "      <td>combo</td>\n",
       "      <td>intergenic</td>\n",
       "      <td>intergenic</td>\n",
       "      <td>4732440D04Rik; Rb1cc1</td>\n",
       "      <td>4732440D04Rik; Rb1cc1</td>\n",
       "      <td>4732440D04Rik; Gm19026; Gm2147; Rb1cc1</td>\n",
       "      <td>4732440D04Rik; Gm19026; Gm2147; Npbwr1; Rb1cc1...</td>\n",
       "      <td>4732440D04Rik; Gm19026; Gm2147; Gm5694; Gm7182...</td>\n",
       "      <td>4732440D04Rik; Atp6v1h; Gm16041; Gm17101; Gm19...</td>\n",
       "      <td>4732440D04Rik; Atp6v1h; Gm16041; Gm17101; Gm19...</td>\n",
       "    </tr>\n",
       "    <tr>\n",
       "      <th>chr1_8740008_8759916</th>\n",
       "      <td>1:8740008-8759916</td>\n",
       "      <td>3</td>\n",
       "      <td>1</td>\n",
       "      <td>2</td>\n",
       "      <td>CTP11</td>\n",
       "      <td>combo</td>\n",
       "      <td>intergenic</td>\n",
       "      <td>intergenic</td>\n",
       "      <td>Gm15452</td>\n",
       "      <td>Gm15452</td>\n",
       "      <td>Gm15452</td>\n",
       "      <td>Gm15452</td>\n",
       "      <td>1700034P13Rik; 2610203C22Rik; Adhfe1; Gm15452;...</td>\n",
       "      <td>1700034P13Rik; 2610203C22Rik; Adhfe1; Arfgef1;...</td>\n",
       "      <td>1700034P13Rik; 2610203C22Rik; Adhfe1; Arfgef1;...</td>\n",
       "    </tr>\n",
       "    <tr>\n",
       "      <th>chr1_9627926_9637875</th>\n",
       "      <td>1:9627926-9637875</td>\n",
       "      <td>1</td>\n",
       "      <td>1</td>\n",
       "      <td>3</td>\n",
       "      <td>CTP13</td>\n",
       "      <td>combo</td>\n",
       "      <td>2610203C22Rik</td>\n",
       "      <td>2610203C22Rik</td>\n",
       "      <td>2610203C22Rik</td>\n",
       "      <td>2610203C22Rik; Adhfe1; Gm6161; Mybl1; Rrs1</td>\n",
       "      <td>1700034P13Rik; 2610203C22Rik; Adhfe1; Gm18300;...</td>\n",
       "      <td>1700034P13Rik; 2610203C22Rik; Adhfe1; Cops5; C...</td>\n",
       "      <td>1700034P13Rik; 2610203C22Rik; Adhfe1; Arfgef1;...</td>\n",
       "      <td>1700034P13Rik; 2610203C22Rik; Adhfe1; Arfgef1;...</td>\n",
       "      <td>1700034P13Rik; 2610203C22Rik; A830018L16Rik; A...</td>\n",
       "    </tr>\n",
       "    <tr>\n",
       "      <th>chr1_9799472_9811359</th>\n",
       "      <td>1:9799472-9811359</td>\n",
       "      <td>2</td>\n",
       "      <td>1</td>\n",
       "      <td>4</td>\n",
       "      <td>CTP13</td>\n",
       "      <td>combo</td>\n",
       "      <td>Gm6195</td>\n",
       "      <td>Gm6195; Sgk3</td>\n",
       "      <td>Gm6195; Sgk3</td>\n",
       "      <td>1700034P13Rik; Gm6195; Mcmdc2; Mybl1; Sgk3; Vc...</td>\n",
       "      <td>1700034P13Rik; 2610203C22Rik; Gm6195; Mcmdc2; ...</td>\n",
       "      <td>1700034P13Rik; 2610203C22Rik; Adhfe1; Arfgef1;...</td>\n",
       "      <td>1700034P13Rik; 2610203C22Rik; Adhfe1; Arfgef1;...</td>\n",
       "      <td>1700034P13Rik; 2610203C22Rik; Adhfe1; Arfgef1;...</td>\n",
       "      <td>1700034P13Rik; 2610203C22Rik; A830018L16Rik; A...</td>\n",
       "    </tr>\n",
       "  </tbody>\n",
       "</table>\n",
       "</div>"
      ],
      "text/plain": [
       "                                   name id chr  chr_order library  dtype  \\\n",
       "loci_name                                                                  \n",
       "chr1_3742742_3759944  1:3742742-3759944  1   1          0   CTP11  combo   \n",
       "chr1_6245958_6258969  1:6245958-6258969  2   1          1   CTP11  combo   \n",
       "chr1_8740008_8759916  1:8740008-8759916  3   1          2   CTP11  combo   \n",
       "chr1_9627926_9637875  1:9627926-9637875  1   1          3   CTP13  combo   \n",
       "chr1_9799472_9811359  1:9799472-9811359  2   1          4   CTP13  combo   \n",
       "\n",
       "                     adjacent_genes_0kb_tss adjacent_genes_10kb_tss  \\\n",
       "loci_name                                                             \n",
       "chr1_3742742_3759944             intergenic              intergenic   \n",
       "chr1_6245958_6258969             intergenic              intergenic   \n",
       "chr1_8740008_8759916             intergenic              intergenic   \n",
       "chr1_9627926_9637875          2610203C22Rik           2610203C22Rik   \n",
       "chr1_9799472_9811359                 Gm6195            Gm6195; Sgk3   \n",
       "\n",
       "                     adjacent_genes_50kb_tss  \\\n",
       "loci_name                                      \n",
       "chr1_3742742_3759944              intergenic   \n",
       "chr1_6245958_6258969   4732440D04Rik; Rb1cc1   \n",
       "chr1_8740008_8759916                 Gm15452   \n",
       "chr1_9627926_9637875           2610203C22Rik   \n",
       "chr1_9799472_9811359            Gm6195; Sgk3   \n",
       "\n",
       "                                               adjacent_genes_100kb_tss  \\\n",
       "loci_name                                                                 \n",
       "chr1_3742742_3759944                                               Xkr4   \n",
       "chr1_6245958_6258969                              4732440D04Rik; Rb1cc1   \n",
       "chr1_8740008_8759916                                            Gm15452   \n",
       "chr1_9627926_9637875         2610203C22Rik; Adhfe1; Gm6161; Mybl1; Rrs1   \n",
       "chr1_9799472_9811359  1700034P13Rik; Gm6195; Mcmdc2; Mybl1; Sgk3; Vc...   \n",
       "\n",
       "                                               adjacent_genes_200kb_tss  \\\n",
       "loci_name                                                                 \n",
       "chr1_3742742_3759944                                               Xkr4   \n",
       "chr1_6245958_6258969             4732440D04Rik; Gm19026; Gm2147; Rb1cc1   \n",
       "chr1_8740008_8759916                                            Gm15452   \n",
       "chr1_9627926_9637875  1700034P13Rik; 2610203C22Rik; Adhfe1; Gm18300;...   \n",
       "chr1_9799472_9811359  1700034P13Rik; 2610203C22Rik; Gm6195; Mcmdc2; ...   \n",
       "\n",
       "                                               adjacent_genes_500kb_tss  \\\n",
       "loci_name                                                                 \n",
       "chr1_3742742_3759944                              Gm18956; Gm7341; Xkr4   \n",
       "chr1_6245958_6258969  4732440D04Rik; Gm19026; Gm2147; Npbwr1; Rb1cc1...   \n",
       "chr1_8740008_8759916                                            Gm15452   \n",
       "chr1_9627926_9637875  1700034P13Rik; 2610203C22Rik; Adhfe1; Cops5; C...   \n",
       "chr1_9799472_9811359  1700034P13Rik; 2610203C22Rik; Adhfe1; Arfgef1;...   \n",
       "\n",
       "                                              adjacent_genes_1000kb_tss  \\\n",
       "loci_name                                                                 \n",
       "chr1_3742742_3759944  Gm18956; Gm2053; Gm6085; Gm6101; Gm6119; Gm734...   \n",
       "chr1_6245958_6258969  4732440D04Rik; Gm19026; Gm2147; Gm5694; Gm7182...   \n",
       "chr1_8740008_8759916  1700034P13Rik; 2610203C22Rik; Adhfe1; Gm15452;...   \n",
       "chr1_9627926_9637875  1700034P13Rik; 2610203C22Rik; Adhfe1; Arfgef1;...   \n",
       "chr1_9799472_9811359  1700034P13Rik; 2610203C22Rik; Adhfe1; Arfgef1;...   \n",
       "\n",
       "                                              adjacent_genes_1500kb_tss  \\\n",
       "loci_name                                                                 \n",
       "chr1_3742742_3759944  Atp6v1h; Gm16041; Gm17101; Gm18956; Gm2053; Gm...   \n",
       "chr1_6245958_6258969  4732440D04Rik; Atp6v1h; Gm16041; Gm17101; Gm19...   \n",
       "chr1_8740008_8759916  1700034P13Rik; 2610203C22Rik; Adhfe1; Arfgef1;...   \n",
       "chr1_9627926_9637875  1700034P13Rik; 2610203C22Rik; Adhfe1; Arfgef1;...   \n",
       "chr1_9799472_9811359  1700034P13Rik; 2610203C22Rik; Adhfe1; Arfgef1;...   \n",
       "\n",
       "                                              adjacent_genes_2000kb_tss  \n",
       "loci_name                                                                \n",
       "chr1_3742742_3759944  Atp6v1h; Gm16041; Gm17101; Gm18956; Gm2053; Gm...  \n",
       "chr1_6245958_6258969  4732440D04Rik; Atp6v1h; Gm16041; Gm17101; Gm19...  \n",
       "chr1_8740008_8759916  1700034P13Rik; 2610203C22Rik; Adhfe1; Arfgef1;...  \n",
       "chr1_9627926_9637875  1700034P13Rik; 2610203C22Rik; A830018L16Rik; A...  \n",
       "chr1_9799472_9811359  1700034P13Rik; 2610203C22Rik; A830018L16Rik; A...  "
      ]
     },
     "execution_count": 8,
     "metadata": {},
     "output_type": "execute_result"
    }
   ],
   "source": [
    "# load codebook\n",
    "# L drive is Crick Pu_SSD_0\n",
    "codebook_save_folder=r'C:\\Users\\shiwei\\Documents\\AnalysisTool_Chromatin\\resources'\n",
    "\n",
    "# Load sorted codebook (allows direct matrix slicing) with cell type info\n",
    "# Load codebook (then sort to allow direct matrix slicing) with cell type info\n",
    "\n",
    "codebook_fname = os.path.join(codebook_save_folder,'MERFISH_loci_adjacent_genes_tss_more_res.csv')\n",
    "codebook_df = pd.read_csv (codebook_fname, index_col=0)\n",
    "\n",
    "# sort df temporailiy so matrix can be sliced by df order directly\n",
    "codebook_df = loci_1d_features.sort_loci_df_by_chr_order (codebook_df)\n",
    "\n",
    "codebook_df.head()"
   ]
  },
  {
   "cell_type": "markdown",
   "id": "f0ffc15e",
   "metadata": {},
   "source": [
    "## Chromosome size by radius gyration\n",
    "\n",
    "Data below can be generated using notebook as \n",
    "\n",
    "[2_nuclear_chrom_size/5_calculate_chromatin_Rg](../2_nuclear_chrom_size/5_calculate_chromatin_Rg.ipynb)"
   ]
  },
  {
   "cell_type": "code",
   "execution_count": 9,
   "id": "32bc6538",
   "metadata": {},
   "outputs": [
    {
     "data": {
      "text/html": [
       "<div>\n",
       "<style scoped>\n",
       "    .dataframe tbody tr th:only-of-type {\n",
       "        vertical-align: middle;\n",
       "    }\n",
       "\n",
       "    .dataframe tbody tr th {\n",
       "        vertical-align: top;\n",
       "    }\n",
       "\n",
       "    .dataframe thead th {\n",
       "        text-align: right;\n",
       "    }\n",
       "</style>\n",
       "<table border=\"1\" class=\"dataframe\">\n",
       "  <thead>\n",
       "    <tr style=\"text-align: right;\">\n",
       "      <th></th>\n",
       "      <th>rg</th>\n",
       "      <th>uid</th>\n",
       "      <th>majorType</th>\n",
       "      <th>subclass</th>\n",
       "      <th>chr</th>\n",
       "      <th>fiberidx</th>\n",
       "    </tr>\n",
       "  </thead>\n",
       "  <tbody>\n",
       "    <tr>\n",
       "      <th>0</th>\n",
       "      <td>1.241714</td>\n",
       "      <td>100002611273212566104762860093574587628</td>\n",
       "      <td>Gluta</td>\n",
       "      <td>L4/5 IT</td>\n",
       "      <td>chr1</td>\n",
       "      <td>1</td>\n",
       "    </tr>\n",
       "    <tr>\n",
       "      <th>1</th>\n",
       "      <td>1.163226</td>\n",
       "      <td>100002611273212566104762860093574587628</td>\n",
       "      <td>Gluta</td>\n",
       "      <td>L4/5 IT</td>\n",
       "      <td>chr10</td>\n",
       "      <td>1</td>\n",
       "    </tr>\n",
       "    <tr>\n",
       "      <th>2</th>\n",
       "      <td>1.888276</td>\n",
       "      <td>100002611273212566104762860093574587628</td>\n",
       "      <td>Gluta</td>\n",
       "      <td>L4/5 IT</td>\n",
       "      <td>chr11</td>\n",
       "      <td>1</td>\n",
       "    </tr>\n",
       "    <tr>\n",
       "      <th>3</th>\n",
       "      <td>1.759560</td>\n",
       "      <td>100002611273212566104762860093574587628</td>\n",
       "      <td>Gluta</td>\n",
       "      <td>L4/5 IT</td>\n",
       "      <td>chr12</td>\n",
       "      <td>1</td>\n",
       "    </tr>\n",
       "    <tr>\n",
       "      <th>4</th>\n",
       "      <td>1.404082</td>\n",
       "      <td>100002611273212566104762860093574587628</td>\n",
       "      <td>Gluta</td>\n",
       "      <td>L4/5 IT</td>\n",
       "      <td>chr13</td>\n",
       "      <td>1</td>\n",
       "    </tr>\n",
       "  </tbody>\n",
       "</table>\n",
       "</div>"
      ],
      "text/plain": [
       "         rg                                      uid majorType subclass  \\\n",
       "0  1.241714  100002611273212566104762860093574587628     Gluta  L4/5 IT   \n",
       "1  1.163226  100002611273212566104762860093574587628     Gluta  L4/5 IT   \n",
       "2  1.888276  100002611273212566104762860093574587628     Gluta  L4/5 IT   \n",
       "3  1.759560  100002611273212566104762860093574587628     Gluta  L4/5 IT   \n",
       "4  1.404082  100002611273212566104762860093574587628     Gluta  L4/5 IT   \n",
       "\n",
       "     chr  fiberidx  \n",
       "0   chr1         1  \n",
       "1  chr10         1  \n",
       "2  chr11         1  \n",
       "3  chr12         1  \n",
       "4  chr13         1  "
      ]
     },
     "execution_count": 9,
     "metadata": {},
     "output_type": "execute_result"
    }
   ],
   "source": [
    "chrom_folder = r'\\\\10.245.74.158\\Chromatin_NAS_8\\Analyzed_data\\MouseBrain_PostAnalysis_0312\\chromatin_property'\n",
    "chromosome_size_df = pd.read_csv(os.path.join(chrom_folder, 'WT_MOp_Rg.csv'), index_col=0)\n",
    "\n",
    "chromosome_size_df.head()"
   ]
  },
  {
   "cell_type": "code",
   "execution_count": 10,
   "id": "fc16f6aa",
   "metadata": {},
   "outputs": [
    {
     "data": {
      "image/png": "[encoded data removed]",
      "text/plain": [
       "<Figure size 500x300 with 1 Axes>"
      ]
     },
     "metadata": {},
     "output_type": "display_data"
    }
   ],
   "source": [
    "%matplotlib inline\n",
    "\n",
    "import seaborn as sns\n",
    "import scanpy as sc\n",
    "\n",
    "# plot\n",
    "fig, ax = plt.subplots(figsize=(5,3),dpi=100)\n",
    "\n",
    "sns.boxplot(data=chromosome_size_df, x='subclass', y='rg', \n",
    "            #order = sub_sorted_cellplot_order, \n",
    "            ax=ax, \n",
    "            fliersize=0,\n",
    "            #palette=celltype_palette,\n",
    "           )\n",
    "\n",
    "#ax.set_xticklabels(sorted_types, rotation=70, fontsize=12)\n",
    "plt.tick_params(axis='y', labelsize=11) \n",
    "plt.tick_params(axis='x', rotation=75, labelsize=10) \n",
    "\n",
    "ax.set_xlabel(\"Cell subclasses\", fontsize=15, labelpad=5)\n",
    "ax.set_ylabel(\"Chromosome size\", fontsize=15, labelpad=5)\n",
    "\n",
    "\n",
    "ax.set_ylim([0.5,3])\n",
    "ax.grid(False)"
   ]
  },
  {
   "cell_type": "markdown",
   "id": "20bf3387",
   "metadata": {},
   "source": [
    "# 3. Chromosome size and median distances"
   ]
  },
  {
   "cell_type": "markdown",
   "id": "29f2c578",
   "metadata": {},
   "source": [
    "## load median map"
   ]
  },
  {
   "cell_type": "markdown",
   "metadata": {},
   "source": [
    "\n",
    "Data below can be generated from the notebook as:\n",
    "\n",
    "[preprocess/2_dna_merfish/scripts/2_spot_pick/4_summarize_jie_to_dict](../../preprocess/2_dna_merfish/scripts/2_spot_pick/4_summarize_jie_to_dict.ipynb)"
   ]
  },
  {
   "cell_type": "code",
   "execution_count": 11,
   "id": "8f88d19a",
   "metadata": {},
   "outputs": [
    {
     "name": "stdout",
     "output_type": "stream",
     "text": [
      "Loading median\n"
     ]
    }
   ],
   "source": [
    "# load main folder\n",
    "postanalysis_folder = r'\\\\10.245.74.158\\Chromatin_NAS_8\\Exported_data\\jie_CW_decode\\postanalysis_v2CW_sorted'\n",
    "\n",
    "# subclass to median distance dict\n",
    "class_2_median_filename = os.path.join(postanalysis_folder, 'subclass_2_medianDict.pkl')\n",
    "if os.path.exists(class_2_median_filename):\n",
    "    print(\"Loading median\")\n",
    "    class_2_medianDict = pickle.load(open(class_2_median_filename, 'rb'))"
   ]
  },
  {
   "cell_type": "markdown",
   "id": "08a735c7",
   "metadata": {},
   "source": [
    "## load median summary\n",
    "\n",
    "Data summary below can be generated by the notebook\n",
    "\n",
    "[1_cis_distance_summary_across_celltypes](1_cis_distance_summary_across_celltypes.ipynb)"
   ]
  },
  {
   "cell_type": "code",
   "execution_count": 12,
   "id": "03c39b2d",
   "metadata": {},
   "outputs": [
    {
     "name": "stderr",
     "output_type": "stream",
     "text": [
      "100%|██████████████████████████████████████████████████████████████████████████████████| 21/21 [00:03<00:00,  5.60it/s]\n"
     ]
    }
   ],
   "source": [
    "import tqdm\n",
    "\n",
    "distmap_summary_df_list = []\n",
    "for _class in tqdm.tqdm(class_2_medianDict.keys()):\n",
    "    _class_distmap_summary_df = pd.read_csv(os.path.join(output_analysis_folder,'Cis_dismap_summary',\n",
    "                                                  f'raw_cis_distmap_subclass_{_class.replace(\"/\",\"_\").replace(\" \",\"_\")}_summary.csv'),\n",
    "                                           index_col=0)\n",
    "    distmap_summary_df_list.append(_class_distmap_summary_df)\n",
    "    \n",
    "distmap_summary_df = pd.concat(distmap_summary_df_list)"
   ]
  },
  {
   "cell_type": "code",
   "execution_count": 18,
   "id": "e85f6264",
   "metadata": {},
   "outputs": [
    {
     "data": {
      "text/html": [
       "<div>\n",
       "<style scoped>\n",
       "    .dataframe tbody tr th:only-of-type {\n",
       "        vertical-align: middle;\n",
       "    }\n",
       "\n",
       "    .dataframe tbody tr th {\n",
       "        vertical-align: top;\n",
       "    }\n",
       "\n",
       "    .dataframe thead th {\n",
       "        text-align: right;\n",
       "    }\n",
       "</style>\n",
       "<table border=\"1\" class=\"dataframe\">\n",
       "  <thead>\n",
       "    <tr style=\"text-align: right;\">\n",
       "      <th></th>\n",
       "      <th>loc_1</th>\n",
       "      <th>loc_2</th>\n",
       "      <th>pairwise_distance</th>\n",
       "      <th>subclass</th>\n",
       "      <th>chr</th>\n",
       "      <th>genomic_distance</th>\n",
       "    </tr>\n",
       "    <tr>\n",
       "      <th>loci_pairs</th>\n",
       "      <th></th>\n",
       "      <th></th>\n",
       "      <th></th>\n",
       "      <th></th>\n",
       "      <th></th>\n",
       "      <th></th>\n",
       "    </tr>\n",
       "  </thead>\n",
       "  <tbody>\n",
       "    <tr>\n",
       "      <th>0</th>\n",
       "      <td>chr1_3742742_3759944</td>\n",
       "      <td>chr1_3742742_3759944</td>\n",
       "      <td>0.000000</td>\n",
       "      <td>Oligo</td>\n",
       "      <td>1</td>\n",
       "      <td>0</td>\n",
       "    </tr>\n",
       "    <tr>\n",
       "      <th>1</th>\n",
       "      <td>chr1_3742742_3759944</td>\n",
       "      <td>chr1_6245958_6258969</td>\n",
       "      <td>0.922651</td>\n",
       "      <td>Oligo</td>\n",
       "      <td>1</td>\n",
       "      <td>2503216</td>\n",
       "    </tr>\n",
       "    <tr>\n",
       "      <th>2</th>\n",
       "      <td>chr1_3742742_3759944</td>\n",
       "      <td>chr1_8740008_8759916</td>\n",
       "      <td>1.070654</td>\n",
       "      <td>Oligo</td>\n",
       "      <td>1</td>\n",
       "      <td>4997266</td>\n",
       "    </tr>\n",
       "    <tr>\n",
       "      <th>3</th>\n",
       "      <td>chr1_3742742_3759944</td>\n",
       "      <td>chr1_9627926_9637875</td>\n",
       "      <td>1.060591</td>\n",
       "      <td>Oligo</td>\n",
       "      <td>1</td>\n",
       "      <td>5885184</td>\n",
       "    </tr>\n",
       "    <tr>\n",
       "      <th>4</th>\n",
       "      <td>chr1_3742742_3759944</td>\n",
       "      <td>chr1_9799472_9811359</td>\n",
       "      <td>1.093519</td>\n",
       "      <td>Oligo</td>\n",
       "      <td>1</td>\n",
       "      <td>6056730</td>\n",
       "    </tr>\n",
       "  </tbody>\n",
       "</table>\n",
       "</div>"
      ],
      "text/plain": [
       "                           loc_1                 loc_2  pairwise_distance  \\\n",
       "loci_pairs                                                                  \n",
       "0           chr1_3742742_3759944  chr1_3742742_3759944           0.000000   \n",
       "1           chr1_3742742_3759944  chr1_6245958_6258969           0.922651   \n",
       "2           chr1_3742742_3759944  chr1_8740008_8759916           1.070654   \n",
       "3           chr1_3742742_3759944  chr1_9627926_9637875           1.060591   \n",
       "4           chr1_3742742_3759944  chr1_9799472_9811359           1.093519   \n",
       "\n",
       "           subclass chr  genomic_distance  \n",
       "loci_pairs                                 \n",
       "0             Oligo   1                 0  \n",
       "1             Oligo   1           2503216  \n",
       "2             Oligo   1           4997266  \n",
       "3             Oligo   1           5885184  \n",
       "4             Oligo   1           6056730  "
      ]
     },
     "execution_count": 18,
     "metadata": {},
     "output_type": "execute_result"
    }
   ],
   "source": [
    "distmap_summary_df.head()"
   ]
  },
  {
   "cell_type": "markdown",
   "id": "cd8c65c0",
   "metadata": {},
   "source": [
    "## plot"
   ]
  },
  {
   "cell_type": "code",
   "execution_count": 13,
   "id": "ffd2f2cf",
   "metadata": {},
   "outputs": [],
   "source": [
    "chrom_list = [c for c in np.unique(codebook_df['chr']) if c!= 'Y']\n",
    "chrom_list = [c for c in chrom_list  if c!='X']\n",
    "chrom_list.sort(key = int)\n",
    "chrom_list.append('X')"
   ]
  },
  {
   "cell_type": "code",
   "execution_count": 14,
   "id": "089c1723",
   "metadata": {},
   "outputs": [
    {
     "data": {
      "text/plain": [
       "Index(['Micro', 'SMC', 'Peri', 'Oligo', 'Endo', 'VLMC', 'Astro', 'L6 CT',\n",
       "       'L4/5 IT', 'OPC', 'L6 IT', 'L6b', 'L5/6 NP', 'Lamp5', 'L2/3 IT', 'Sst',\n",
       "       'L5 IT', 'Vip', 'Sncg', 'Pvalb', 'L5 ET'],\n",
       "      dtype='object', name='subclass')"
      ]
     },
     "execution_count": 14,
     "metadata": {},
     "output_type": "execute_result"
    }
   ],
   "source": [
    "sorted_cellplot_idx_order = np.argsort(chromosome_size_df.groupby(by='subclass')['rg'].median())\n",
    "sorted_cellplot_order = chromosome_size_df.groupby(by='subclass')['rg'].median().index[sorted_cellplot_idx_order]\n",
    "sorted_cellplot_order"
   ]
  },
  {
   "cell_type": "code",
   "execution_count": 15,
   "id": "e8550da1",
   "metadata": {},
   "outputs": [
    {
     "data": {
      "image/png": "[encoded data removed]",
      "text/plain": [
       "<Figure size 500x300 with 1 Axes>"
      ]
     },
     "metadata": {},
     "output_type": "display_data"
    }
   ],
   "source": [
    "%matplotlib inline\n",
    "\n",
    "import seaborn as sns\n",
    "import scanpy as sc\n",
    "\n",
    "# plot\n",
    "fig, ax = plt.subplots(figsize=(5,3),dpi=100)\n",
    "\n",
    "sns.boxplot(data=distmap_summary_df, x='subclass', y='pairwise_distance', \n",
    "            order = sorted_cellplot_order, \n",
    "            ax=ax, \n",
    "            fliersize=0,\n",
    "            #palette=celltype_palette,\n",
    "           )\n",
    "\n",
    "#ax.set_xticklabels(sorted_types, rotation=70, fontsize=12)\n",
    "plt.tick_params(axis='y', labelsize=11) \n",
    "plt.tick_params(axis='x', rotation=75, labelsize=10) \n",
    "\n",
    "ax.set_xlabel(\"Cell subclasses\", fontsize=15, labelpad=5)\n",
    "ax.set_ylabel(\"Cis pairwise distance\", fontsize=15, labelpad=5)\n",
    "\n",
    "\n",
    "ax.set_ylim([0,3.5])\n",
    "ax.grid(False)\n",
    "\n",
    "#plt.savefig(os.path.join(output_figure_folder, f'Trans_chrom_pairwise_distance_summary.pdf'), \n",
    "            #transparent=True, dpi=300, bbox_inches='tight')\n",
    "\n",
    "plt.show()\n"
   ]
  },
  {
   "cell_type": "markdown",
   "id": "7317df55",
   "metadata": {},
   "source": [
    "## plot with all genomic distances included"
   ]
  },
  {
   "cell_type": "code",
   "execution_count": 16,
   "id": "948522bc",
   "metadata": {},
   "outputs": [
    {
     "data": {
      "text/plain": [
       "Index(['Micro', 'SMC', 'Peri', 'Oligo', 'Endo', 'VLMC', 'Astro', 'L6 CT',\n",
       "       'L4/5 IT', 'OPC', 'L6 IT', 'L6b', 'L5/6 NP', 'Lamp5', 'L2/3 IT', 'Sst',\n",
       "       'L5 IT', 'Vip', 'Sncg', 'Pvalb', 'L5 ET'],\n",
       "      dtype='object', name='subclass')"
      ]
     },
     "execution_count": 16,
     "metadata": {},
     "output_type": "execute_result"
    }
   ],
   "source": [
    "sorted_cellplot_order"
   ]
  },
  {
   "cell_type": "code",
   "execution_count": 24,
   "id": "000aee12",
   "metadata": {},
   "outputs": [
    {
     "name": "stderr",
     "output_type": "stream",
     "text": [
      "meta NOT subset; don't know how to subset; dropped\n"
     ]
    },
    {
     "data": {
      "image/png": "[encoded data removed]",
      "text/plain": [
       "<Figure size 300x300 with 2 Axes>"
      ]
     },
     "metadata": {},
     "output_type": "display_data"
    }
   ],
   "source": [
    "%matplotlib inline\n",
    "from matplotlib import rcParams\n",
    "rcParams['font.family'] = 'sans-serif'\n",
    "rcParams['font.sans-serif'] = ['Arial']\n",
    "plt.rcParams['figure.dpi'] = 300\n",
    "\n",
    "#plt.style.use('dark_background')\n",
    "\n",
    "# gd for all, long, median, short distances\n",
    "#sel_sorted_bin_keys = [(0., np.inf),(100000000, np.inf),(10000000, np.inf),(0, 2000000)]\n",
    "#ylabel_list = ['chrom \\n size', 'all \\n distances','>50Mb','>10Mb','<2Mb']\n",
    "#ylim_list = [[0.2,3],[0.3,3.5],[0.3,3.5],[0.3,3.5],[0,1.55],]\n",
    "\n",
    "\n",
    "sel_sorted_bin_keys = [(0., np.inf),(10000000, np.inf),(0, 2000000)][:1]\n",
    "ylabel_list = ['Chromosome size \\n (Rg, \\u03bcm) \\n per chromosome', \n",
    "               'all median \\n cis-pairwise \\n distances (\\u03bcm) \\n all chromosomes','>10Mb','<2Mb'][:2]\n",
    "ylim_list = [[0.65,2.8],[0.75,3],[0.3,3.5],[0,1.55],][:2]\n",
    "\n",
    "fig, axes = plt.subplots(len(sel_sorted_bin_keys)+1,1, \n",
    "                         figsize=(_page_width/2.75,_page_width/2.75*1), \n",
    "                         sharex=True, sharey=False, dpi=150)\n",
    "\n",
    "# plot chromosome size\n",
    "sns.boxplot(data=chromosome_size_df, x='subclass', y='rg', \n",
    "            order = sorted_cellplot_order, \n",
    "            ax=axes[0], \n",
    "            fliersize=0,\n",
    "            palette=celltype_palette,\n",
    "            whis=[5, 95],\n",
    "            width=0.7,\n",
    "           )\n",
    "\n",
    "# plot cis distance by \n",
    "for _idx,_bin_key in enumerate(sel_sorted_bin_keys):\n",
    "    _ax_idx = _idx+1\n",
    "    \n",
    "    short_gd_th = _bin_key[0]\n",
    "    long_gd_th = _bin_key[1]\n",
    "\n",
    "    sel_distmap_summary_df = distmap_summary_df[(distmap_summary_df['genomic_distance']<=long_gd_th)&\n",
    "                                            (distmap_summary_df['genomic_distance']>short_gd_th)]\n",
    "    \n",
    "    sns.boxplot(data=sel_distmap_summary_df, x='subclass', y='pairwise_distance', \n",
    "            order = sorted_cellplot_order, \n",
    "            ax=axes[_ax_idx], \n",
    "            fliersize=0,\n",
    "                whis=[5, 95],\n",
    "            palette=celltype_palette,\n",
    "                width=0.7,\n",
    "           )\n",
    "\n",
    "for _ax_idx, _ax in enumerate(axes):\n",
    "    _ax.set_ylabel(ylabel_list[_ax_idx], rotation=90, fontsize=_font_size,labelpad=1)\n",
    "    plt.tick_params(axis='y', labelsize=_font_size-0.5) \n",
    "    if _ax_idx!=len(axes)-1:\n",
    "        _ax.tick_params(labelbottom=False)\n",
    "        _ax.set_xlabel(\"\", rotation=0, fontsize=_font_size)\n",
    "        _ax.tick_params(axis='x', rotation=90, labelsize=_font_size-0.5,length=0) \n",
    "    else:\n",
    "        _ax.set_xlabel(\"Cell types\", rotation=0, fontsize=_font_size)\n",
    "        _ax.tick_params(axis='x', rotation=90, labelsize=_font_size-0.5) \n",
    "    if len(ylim_list[_ax_idx])==2:\n",
    "        _ax.set_ylim(ylim_list[_ax_idx])\n",
    "    _ax.grid(False)\n",
    "\n",
    "fig.subplots_adjust(wspace=0.0, hspace=0.0, left=0.05, right=0.95, top=0.98, bottom=0.12)\n",
    "plt.savefig(os.path.join(output_figure_folder, f'Cis_chrom_pairwise_distance_and_chr_size_summary.pdf'), \n",
    "            transparent=True, dpi=300, bbox_inches='tight')\n",
    "\n",
    "plt.show()"
   ]
  },
  {
   "cell_type": "markdown",
   "id": "bdd9b430",
   "metadata": {},
   "source": [
    "# 4. Contact by genomic distance"
   ]
  },
  {
   "cell_type": "markdown",
   "metadata": {},
   "source": [
    "\n",
    "Data below can be generated from the notebook as:\n",
    "\n",
    "[preprocess/2_dna_merfish/scripts/2_spot_pick/5_summarize_jie_to_dict_contact750](../../preprocess/2_dna_merfish/scripts/2_spot_pick/5_summarize_jie_to_dict_contact750.ipynb)"
   ]
  },
  {
   "cell_type": "code",
   "execution_count": 41,
   "id": "8456a918",
   "metadata": {},
   "outputs": [
    {
     "name": "stdout",
     "output_type": "stream",
     "text": [
      "\\\\10.245.74.158\\Chromatin_NAS_8\\Analyzed_data\\MouseBrain_PostAnalysis_0312\\subclass_2_contactDict_750.pkl\n",
      "Loading contact\n"
     ]
    }
   ],
   "source": [
    "# load main folder\n",
    "postanalysis_folder = r'\\\\10.245.74.158\\Chromatin_NAS_8\\Exported_data\\jie_CW_decode\\postanalysis_v2CW_sorted'\n",
    "postanalysis_folder_CW = r'\\\\10.245.74.158\\Chromatin_NAS_8\\Analyzed_data\\MouseBrain_PostAnalysis_0312'\n",
    "\n",
    "class_2_contact_filename = os.path.join(postanalysis_folder_CW, 'subclass_2_contactDict_750.pkl')\n",
    "print(class_2_contact_filename)\n",
    "if os.path.exists(class_2_contact_filename):\n",
    "    print(\"Loading contact\")\n",
    "    class_2_contactDict = np.load(class_2_contact_filename, allow_pickle=True)"
   ]
  },
  {
   "cell_type": "markdown",
   "id": "507098e3",
   "metadata": {},
   "source": [
    "# 5. Contact frequency from single cell (aka ratio over total number of contacts in singel cell )"
   ]
  },
  {
   "cell_type": "markdown",
   "id": "0e1c3141",
   "metadata": {},
   "source": [
    "## load singlecell contact frequncy summary\n",
    "\n",
    "Data can be generated by notebook as\n",
    "\n",
    "[2_cis_contact_by_genomic_dsitance_from_singlecell_zxy](2_cis_contact_by_genomic_dsitance_from_singlecell_zxy.ipynb)"
   ]
  },
  {
   "cell_type": "code",
   "execution_count": 44,
   "id": "e0063d3a",
   "metadata": {},
   "outputs": [],
   "source": [
    "import pickle\n",
    "contact_summary_dict = pickle.load(open(os.path.join(output_analysis_folder,'cis_contact_singlecell_frequency_subclass.pkl'),'rb'))"
   ]
  },
  {
   "cell_type": "markdown",
   "id": "82089166",
   "metadata": {},
   "source": [
    "## summarize to plot dataframe"
   ]
  },
  {
   "cell_type": "code",
   "execution_count": 45,
   "id": "f27ff907",
   "metadata": {},
   "outputs": [
    {
     "name": "stderr",
     "output_type": "stream",
     "text": [
      "100%|██████████████████████████████████████████████████████████████████████████████████████████| 21/21 [00:00<?, ?it/s]\n",
      "100%|██████████████████████████████████████████████████████████████████████████████████| 21/21 [00:01<00:00, 10.76it/s]\n"
     ]
    }
   ],
   "source": [
    "import tqdm\n",
    "gene_dist_bins = [(0,2000000), \n",
    "                  (2000000,5000000), \n",
    "                  (5000000, 10000000),\n",
    "                  (10000000,20000000),\n",
    "                  (20000000,50000000),\n",
    "                  (50000000,200000000)]\n",
    "\n",
    "res_dict = {k:{} for k in gene_dist_bins}\n",
    "\n",
    "\n",
    "contact_num_th = 1000\n",
    "\n",
    "for _class, _summary_list in tqdm.tqdm(contact_summary_dict.items()):\n",
    "    \n",
    "    for _k, _v in res_dict.items():\n",
    "        _v[_class] = []\n",
    "\n",
    "for _class, _summary_list in tqdm.tqdm(contact_summary_dict.items()):\n",
    "    for _bin_query in res_dict.keys():\n",
    "        for _contact_summary in _summary_list:\n",
    "            contact_query = 0\n",
    "            contact_total = 0\n",
    "            for _chr, _contact_bybin in _contact_summary.items():\n",
    "                contact_query += _contact_bybin[_bin_query]\n",
    "                contact_total += _contact_bybin['total']\n",
    "                \n",
    "            contact_query_ratio = contact_query/contact_total\n",
    "            # set a th for clean cell\n",
    "            if contact_total >= contact_num_th:\n",
    "                res_dict[_bin_query][_class].append(contact_query_ratio)"
   ]
  },
  {
   "cell_type": "code",
   "execution_count": 46,
   "id": "5c1c0e4a",
   "metadata": {},
   "outputs": [],
   "source": [
    "# summarize to dataframe\n",
    "_contact_result_df_list = []\n",
    "_contact_result_df_dict = {}\n",
    "for _bin_query, _contact_result in res_dict.items():\n",
    "    _contact_result_df = pd.DataFrame.from_dict(res_dict[_bin_query], orient='index').transpose()\n",
    "    _contact_result_df_list.append(_contact_result_df)\n",
    "    _contact_result_df_dict[_bin_query] = _contact_result_df\n",
    "    \n",
    "    \n",
    "sel_sorted_bin_keys = [(20000000,50000000),(10000000, 20000000),(2000000,5000000), (0, 2000000)]\n",
    "# cell labels as above\n",
    "sorted_cell_labels = ['Micro', 'SMC', 'Peri', 'Oligo', 'Endo', 'VLMC', 'Astro', 'L6 CT',\n",
    "       'L4/5 IT', 'OPC', 'L6 IT', 'L6b', 'L5/6 NP', 'Lamp5', 'L2/3 IT', 'Sst',\n",
    "       'L5 IT', 'Vip', 'Sncg', 'Pvalb', 'L5 ET']\n",
    "\n",
    "\n",
    "res_dict_df_list= []\n",
    "for _bin_key in sel_sorted_bin_keys:\n",
    "    res_dict_df_list.append(_contact_result_df_dict[_bin_key])\n",
    "\n",
    "res_dict_df=pd.concat(res_dict_df_list)\n",
    "cell_type_medians = np.nanmedian(res_dict_df, axis=0)\n",
    "#sorted_cell_labesl = res_dict_df.columns[np.argsort(cell_type_medians)]\n",
    "res_dict_df = res_dict_df[sorted_cell_labels[::-1]]\n",
    "res_dict_df = res_dict_df*100"
   ]
  },
  {
   "cell_type": "markdown",
   "id": "ad3b4b90",
   "metadata": {},
   "source": [
    "## plot"
   ]
  },
  {
   "cell_type": "code",
   "execution_count": 48,
   "id": "d678ae47",
   "metadata": {},
   "outputs": [
    {
     "name": "stderr",
     "output_type": "stream",
     "text": [
      "meta NOT subset; don't know how to subset; dropped\n"
     ]
    },
    {
     "data": {
      "image/png": "[encoded data removed]",
      "text/plain": [
       "<Figure size 300x600 with 4 Axes>"
      ]
     },
     "metadata": {},
     "output_type": "display_data"
    }
   ],
   "source": [
    "%matplotlib inline\n",
    "\n",
    "fig, axes = plt.subplots(len(sel_sorted_bin_keys),1, \n",
    "                         figsize=(_page_width/2.75,_page_width/2.75*2), \n",
    "                         sharex=True, sharey=False, dpi=150)\n",
    "\n",
    "\n",
    "\n",
    "ylabel_list = ['20-50Mb', '10-20Mb','2-5Mb','<2Mb']\n",
    "#ylim_list = [[0.2,3],[0.3,3.5],[0.3,3.5],[0,1.55],]\n",
    "ylim_list = [[],[],[],[],]\n",
    "#cell_type_medians = np.nanmedian(res_dict_df, axis=0)\n",
    "#sorted_cell_labels = res_dict_df.columns[np.argsort(cell_type_medians)]\n",
    "\n",
    "\n",
    "for _idx,_bin_key in enumerate(sel_sorted_bin_keys):\n",
    "    res_dict_df = _contact_result_df_dict[_bin_key]\n",
    "    cell_type_medians = np.nanmedian(res_dict_df, axis=0)\n",
    "    \n",
    "    # get label order from the first bin\n",
    "    #if _idx == 0:\n",
    "        #sorted_cell_labesl = res_dict_df.columns[np.argsort(cell_type_medians)]\n",
    "        \n",
    "    res_dict_df = res_dict_df[sorted_cell_labels[::-1]]\n",
    "    res_dict_df = res_dict_df*100\n",
    "    sns.boxplot(res_dict_df, showfliers=False, \n",
    "                whis=[5, 95],\n",
    "                ax=axes[_idx],palette=celltype_palette,width=0.7)\n",
    "    axes[_idx].tick_params(labelleft=False)\n",
    "\n",
    "        \n",
    "for _ax_idx, _ax in enumerate(axes):\n",
    "    _ax.set_ylabel(ylabel_list[_ax_idx], rotation=90, fontsize=_font_size,labelpad=1)\n",
    "    _ax.tick_params(axis='y', labelsize=_font_size,pad=1,labelleft=True)\n",
    "    if _ax_idx!=len(axes)-1:\n",
    "        _ax.tick_params(labelbottom=False)\n",
    "        _ax.set_xlabel(\"\", rotation=0, fontsize=_font_size-0.5)\n",
    "        _ax.tick_params(axis='x', rotation=90, pad=1,labelsize=0,length=0) \n",
    "    else:\n",
    "        _ax.set_xlabel(\"Cell subclasses\", rotation=0, fontsize=_font_size)\n",
    "        _ax.tick_params(axis='x', rotation=90, pad=1,labelsize=_font_size-0.5) \n",
    "    if len(ylim_list[_ax_idx])==2:\n",
    "        _ax.set_ylim(ylim_list[_ax_idx])\n",
    "    _ax.grid(False)\n",
    "\n",
    "fig.subplots_adjust(wspace=0.0, hspace=0.0, left=0.05, right=0.95, top=0.98, bottom=0.12)\n",
    "plt.savefig(os.path.join(output_figure_folder, f'Cis_chrom_pairwise_contact_frequency_singlecell.pdf'), \n",
    "            transparent=True, dpi=300, bbox_inches='tight')\n",
    "\n",
    "plt.show()"
   ]
  }
 ],
 "metadata": {
  "kernelspec": {
   "display_name": "Python 3 (ipykernel)",
   "language": "python",
   "name": "python3"
  },
  "language_info": {
   "codemirror_mode": {
    "name": "ipython",
    "version": 3
   },
   "file_extension": ".py",
   "mimetype": "text/x-python",
   "name": "python",
   "nbconvert_exporter": "python",
   "pygments_lexer": "ipython3",
   "version": "3.10.8"
  },
  "toc": {
   "base_numbering": 1,
   "nav_menu": {},
   "number_sections": false,
   "sideBar": true,
   "skip_h1_title": false,
   "title_cell": "Table of Contents",
   "title_sidebar": "Contents",
   "toc_cell": false,
   "toc_position": {},
   "toc_section_display": true,
   "toc_window_display": true
  }
 },
 "nbformat": 4,
 "nbformat_minor": 5
}
