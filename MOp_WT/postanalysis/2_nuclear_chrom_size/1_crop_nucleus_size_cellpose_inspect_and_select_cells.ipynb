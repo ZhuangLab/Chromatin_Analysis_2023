{
 "cells": [
  {
   "cell_type": "markdown",
   "metadata": {},
   "source": [
    "# Analysis of DNA-MERFISH for CTP11-12-13 spots \n"
   ]
  },
  {
   "cell_type": "markdown",
   "metadata": {},
   "source": [
    "The link to get [ImageAnalysis3](https://github.com/zhengpuas47/ImageAnalysis3) \n",
    "\n",
    "or the Zhuang lab archived [source_tools](https://github.com/ZhuangLab/Chromatin_Analysis_2020_cell/tree/master/sequential_tracing/source)"
   ]
  },
  {
   "cell_type": "code",
   "execution_count": 1,
   "metadata": {},
   "outputs": [
    {
     "name": "stdout",
     "output_type": "stream",
     "text": [
      "12728\n"
     ]
    }
   ],
   "source": [
    "%run \"C:\\Users\\shiwei\\Documents\\ImageAnalysis3\\required_files\\Startup_py3.py\"\n",
    "sys.path.append(r\"C:\\Users\\shiwei\\Documents\")\n",
    "\n",
    "import ImageAnalysis3 as ia\n",
    "%matplotlib notebook\n",
    "\n",
    "from ImageAnalysis3 import *\n",
    "print(os.getpid())\n",
    "\n",
    "import h5py\n",
    "from ImageAnalysis3.classes import _allowed_kwds\n",
    "import ast\n",
    "\n",
    "import pandas as pd"
   ]
  },
  {
   "cell_type": "markdown",
   "metadata": {},
   "source": [
    "See **functions** in the repository for [AnalysisTool_Chromatin](../../functions/README.md)"
   ]
  },
  {
   "cell_type": "code",
   "execution_count": 2,
   "metadata": {},
   "outputs": [
    {
     "data": {
      "text/plain": [
       "<module 'atac_to_loci' from 'C:\\\\Users\\\\shiwei\\\\Documents\\\\AnalysisTool_Chromatin\\\\atac_to_loci.py'>"
      ]
     },
     "execution_count": 2,
     "metadata": {},
     "output_type": "execute_result"
    }
   ],
   "source": [
    "# Chromatin_analysis_tools (ATC)\n",
    "# Get path for the py containing functions\n",
    "import os\n",
    "import sys\n",
    "import importlib\n",
    "module_path =r'C:\\Users\\shiwei\\Documents\\AnalysisTool_Chromatin'\n",
    "if module_path not in sys.path:\n",
    "    sys.path.append(module_path)\n",
    "    \n",
    "# import relevant modules\n",
    "import gene_selection \n",
    "importlib.reload(gene_selection)\n",
    "import gene_to_loci\n",
    "importlib.reload(gene_to_loci)\n",
    "import gene_activity\n",
    "importlib.reload(gene_activity)\n",
    "import loci_1d_features\n",
    "importlib.reload(loci_1d_features)  \n",
    "\n",
    "import atac_to_loci\n",
    "importlib.reload(atac_to_loci)"
   ]
  },
  {
   "cell_type": "code",
   "execution_count": 3,
   "metadata": {},
   "outputs": [],
   "source": [
    "import tqdm"
   ]
  },
  {
   "cell_type": "code",
   "execution_count": 60,
   "metadata": {},
   "outputs": [],
   "source": [
    "import matplotlib\n",
    "import matplotlib.pyplot as plt\n",
    "plt.rc('font', family='serif')\n",
    "plt.rc('font', serif='Arial')\n",
    "plt.style.use('dark_background')\n",
    "\n",
    "matplotlib.rcParams['pdf.fonttype'] = 42"
   ]
  },
  {
   "cell_type": "markdown",
   "id": "66542e3e",
   "metadata": {},
   "source": [
    "#  0. Define output folder"
   ]
  },
  {
   "cell_type": "code",
   "execution_count": 69,
   "metadata": {},
   "outputs": [
    {
     "name": "stdout",
     "output_type": "stream",
     "text": [
      "Use existing analysis folder: L:\\Shiwei\\Figures\\MOp_draft_2023_v1\\Scheme_and_RNA_MERFISH\\analysis.\n",
      "Use existing figure folder: L:\\Shiwei\\Figures\\MOp_draft_2023_v1\\Scheme_and_RNA_MERFISH\\figures.\n"
     ]
    }
   ],
   "source": [
    "output_main_folder = r'L:\\Shiwei\\Figures\\MOp_draft_2023_v1\\Scheme_and_RNA_MERFISH'\n",
    "output_analysis_folder = os.path.join(output_main_folder, 'analysis')\n",
    "output_figure_folder = os.path.join(output_main_folder, 'figures')\n",
    "\n",
    "make_output_folder = True\n",
    "\n",
    "if make_output_folder and not os.path.exists(output_analysis_folder):\n",
    "    os.makedirs(output_analysis_folder)\n",
    "    print(f'Generating analysis folder: {output_analysis_folder}.')\n",
    "elif os.path.exists(output_analysis_folder):\n",
    "    print(f'Use existing analysis folder: {output_analysis_folder}.')\n",
    "    \n",
    "if make_output_folder and not os.path.exists(output_figure_folder):\n",
    "    os.makedirs(output_figure_folder)\n",
    "    print(f'Generating figure folder: {output_figure_folder}.')\n",
    "elif os.path.exists(output_figure_folder):\n",
    "    print(f'Use existing figure folder: {output_figure_folder}.')\n"
   ]
  },
  {
   "cell_type": "markdown",
   "metadata": {},
   "source": [
    "# 1. Load all DAPI volume and library info"
   ]
  },
  {
   "cell_type": "markdown",
   "metadata": {},
   "source": [
    "## Load sorted codebook with cell type info"
   ]
  },
  {
   "cell_type": "code",
   "execution_count": 4,
   "metadata": {},
   "outputs": [
    {
     "data": {
      "text/html": [
       "<div>\n",
       "<style scoped>\n",
       "    .dataframe tbody tr th:only-of-type {\n",
       "        vertical-align: middle;\n",
       "    }\n",
       "\n",
       "    .dataframe tbody tr th {\n",
       "        vertical-align: top;\n",
       "    }\n",
       "\n",
       "    .dataframe thead th {\n",
       "        text-align: right;\n",
       "    }\n",
       "</style>\n",
       "<table border=\"1\" class=\"dataframe\">\n",
       "  <thead>\n",
       "    <tr style=\"text-align: right;\">\n",
       "      <th></th>\n",
       "      <th>name</th>\n",
       "      <th>chr</th>\n",
       "      <th>chr_order</th>\n",
       "    </tr>\n",
       "  </thead>\n",
       "  <tbody>\n",
       "    <tr>\n",
       "      <th>0</th>\n",
       "      <td>1:3742742-3759944</td>\n",
       "      <td>1</td>\n",
       "      <td>0.0</td>\n",
       "    </tr>\n",
       "    <tr>\n",
       "      <th>1</th>\n",
       "      <td>1:6245958-6258969</td>\n",
       "      <td>1</td>\n",
       "      <td>1.0</td>\n",
       "    </tr>\n",
       "    <tr>\n",
       "      <th>2</th>\n",
       "      <td>1:8740008-8759916</td>\n",
       "      <td>1</td>\n",
       "      <td>2.0</td>\n",
       "    </tr>\n",
       "    <tr>\n",
       "      <th>1016</th>\n",
       "      <td>1:9627926-9637875</td>\n",
       "      <td>1</td>\n",
       "      <td>3.0</td>\n",
       "    </tr>\n",
       "    <tr>\n",
       "      <th>1017</th>\n",
       "      <td>1:9799472-9811359</td>\n",
       "      <td>1</td>\n",
       "      <td>4.0</td>\n",
       "    </tr>\n",
       "  </tbody>\n",
       "</table>\n",
       "</div>"
      ],
      "text/plain": [
       "                   name chr  chr_order\n",
       "0     1:3742742-3759944   1        0.0\n",
       "1     1:6245958-6258969   1        1.0\n",
       "2     1:8740008-8759916   1        2.0\n",
       "1016  1:9627926-9637875   1        3.0\n",
       "1017  1:9799472-9811359   1        4.0"
      ]
     },
     "execution_count": 4,
     "metadata": {},
     "output_type": "execute_result"
    }
   ],
   "source": [
    "# load codebook\n",
    "# L drive is Crick Pu_SSD_0\n",
    "analysis_save_folder=r'\\\\10.245.74.158\\Chromatin_NAS_8\\Analyzed_data\\MouseBrain_PostAnalysis_20230201'\n",
    "\n",
    "# Load sorted codebook (allows direct matrix slicing) with cell type info\n",
    "# Load codebook (then sort to allow direct matrix slicing) with cell type info\n",
    "\n",
    "celltype_codebook_fname = os.path.join(analysis_save_folder,'merged_codebook.csv')\n",
    "celltype_codebook_df = pd.read_csv (celltype_codebook_fname, index_col=0)\n",
    "\n",
    "# sort df temporailiy so matrix can be sliced by df order directly\n",
    "celltype_codebook_df = loci_1d_features.sort_loci_df_by_chr_order (celltype_codebook_df)\n",
    "\n",
    "celltype_codebook_df[['name','chr','chr_order']].head()"
   ]
  },
  {
   "cell_type": "markdown",
   "metadata": {},
   "source": [
    "## Load DAPI volume"
   ]
  },
  {
   "cell_type": "code",
   "execution_count": 5,
   "metadata": {},
   "outputs": [
    {
     "data": {
      "text/plain": [
       "['\\\\\\\\10.245.74.158\\\\Chromatin_NAS_8\\\\Analyzed_data\\\\MOp_dapi_segmentations\\\\exp0316_from_0304_v2\\\\csv',\n",
       " '\\\\\\\\10.245.74.158\\\\Chromatin_NAS_8\\\\Analyzed_data\\\\MOp_dapi_segmentations\\\\exp0402_from_0329_v2\\\\csv',\n",
       " '\\\\\\\\10.245.74.158\\\\Chromatin_NAS_8\\\\Analyzed_data\\\\MOp_dapi_segmentations\\\\exp0419_from_0415_v2\\\\csv',\n",
       " '\\\\\\\\10.245.74.158\\\\Chromatin_NAS_8\\\\Analyzed_data\\\\MOp_dapi_segmentations\\\\exp0713_from_0418_v2\\\\csv']"
      ]
     },
     "execution_count": 5,
     "metadata": {},
     "output_type": "execute_result"
    }
   ],
   "source": [
    "# trans\n",
    "# the calculated AB desnity ratio for single-cell\n",
    "exp_main_folder = r'\\\\10.245.74.158\\Chromatin_NAS_8\\Analyzed_data\\MOp_dapi_segmentations'\n",
    "\n",
    "#exp_folders = [os.path.join(exp_main_folder,f, 'csv') for f in os.listdir(exp_main_folder) if 'exp' in f]\n",
    "exp_folders = [os.path.join(exp_main_folder,f, 'csv') for f in os.listdir(exp_main_folder) if 'exp' in f and 'v2' in f]\n",
    "\n",
    "exp_folders \n",
    "#os.path.exists(exp_folders[0])"
   ]
  },
  {
   "cell_type": "code",
   "execution_count": 6,
   "metadata": {},
   "outputs": [],
   "source": [
    "#exp_df_list =[]\n",
    "_df_file_list = []\n",
    "for _folder in exp_folders:\n",
    "    if os.path.exists(_folder):\n",
    "        _df_file_list.extend([os.path.join(_folder, f) for f in os.listdir(_folder) if '.csv' in f])\n"
   ]
  },
  {
   "cell_type": "code",
   "execution_count": 7,
   "metadata": {},
   "outputs": [
    {
     "name": "stdout",
     "output_type": "stream",
     "text": [
      "327\n"
     ]
    }
   ],
   "source": [
    "exp_df_list = [ ]\n",
    "\n",
    "for _f in _df_file_list:\n",
    "    exp_df_list.append(pd.read_csv(_f))\n",
    "    \n",
    "print(len(exp_df_list))"
   ]
  },
  {
   "cell_type": "code",
   "execution_count": 8,
   "metadata": {},
   "outputs": [
    {
     "data": {
      "text/html": [
       "<div>\n",
       "<style scoped>\n",
       "    .dataframe tbody tr th:only-of-type {\n",
       "        vertical-align: middle;\n",
       "    }\n",
       "\n",
       "    .dataframe tbody tr th {\n",
       "        vertical-align: top;\n",
       "    }\n",
       "\n",
       "    .dataframe thead th {\n",
       "        text-align: right;\n",
       "    }\n",
       "</style>\n",
       "<table border=\"1\" class=\"dataframe\">\n",
       "  <thead>\n",
       "    <tr style=\"text-align: right;\">\n",
       "      <th></th>\n",
       "      <th>fov_id</th>\n",
       "      <th>orig_cellID</th>\n",
       "      <th>feature_volume</th>\n",
       "      <th>nucleus_volume_DAPI</th>\n",
       "      <th>confidence_score</th>\n",
       "      <th>fov_edge</th>\n",
       "    </tr>\n",
       "    <tr>\n",
       "      <th>uid</th>\n",
       "      <th></th>\n",
       "      <th></th>\n",
       "      <th></th>\n",
       "      <th></th>\n",
       "      <th></th>\n",
       "      <th></th>\n",
       "    </tr>\n",
       "  </thead>\n",
       "  <tbody>\n",
       "    <tr>\n",
       "      <th>276583549005001281310253810318041068047</th>\n",
       "      <td>0</td>\n",
       "      <td>1</td>\n",
       "      <td>5.286679e+05</td>\n",
       "      <td>279241.527778</td>\n",
       "      <td>0.5</td>\n",
       "      <td>1</td>\n",
       "    </tr>\n",
       "    <tr>\n",
       "      <th>103420171094780316930229829293672994552</th>\n",
       "      <td>0</td>\n",
       "      <td>2</td>\n",
       "      <td>3.382644e+05</td>\n",
       "      <td>195024.791667</td>\n",
       "      <td>0.5</td>\n",
       "      <td>1</td>\n",
       "    </tr>\n",
       "    <tr>\n",
       "      <th>314844972520915742869654555830989384599</th>\n",
       "      <td>0</td>\n",
       "      <td>3</td>\n",
       "      <td>2.419376e+05</td>\n",
       "      <td>57840.023148</td>\n",
       "      <td>0.5</td>\n",
       "      <td>1</td>\n",
       "    </tr>\n",
       "    <tr>\n",
       "      <th>109560860268592786158662035265255130891</th>\n",
       "      <td>0</td>\n",
       "      <td>4</td>\n",
       "      <td>2.025881e+06</td>\n",
       "      <td>64409.861111</td>\n",
       "      <td>0.5</td>\n",
       "      <td>0</td>\n",
       "    </tr>\n",
       "    <tr>\n",
       "      <th>270350000043071906183619565260086304156</th>\n",
       "      <td>0</td>\n",
       "      <td>5</td>\n",
       "      <td>6.215574e+05</td>\n",
       "      <td>290495.000000</td>\n",
       "      <td>0.5</td>\n",
       "      <td>0</td>\n",
       "    </tr>\n",
       "    <tr>\n",
       "      <th>...</th>\n",
       "      <td>...</td>\n",
       "      <td>...</td>\n",
       "      <td>...</td>\n",
       "      <td>...</td>\n",
       "      <td>...</td>\n",
       "      <td>...</td>\n",
       "    </tr>\n",
       "    <tr>\n",
       "      <th>64854774451287321962209816693938330264</th>\n",
       "      <td>99</td>\n",
       "      <td>151</td>\n",
       "      <td>1.549149e+05</td>\n",
       "      <td>NaN</td>\n",
       "      <td>0.0</td>\n",
       "      <td>0</td>\n",
       "    </tr>\n",
       "    <tr>\n",
       "      <th>41884351258426342777940164067907564064</th>\n",
       "      <td>99</td>\n",
       "      <td>152</td>\n",
       "      <td>1.680081e+04</td>\n",
       "      <td>NaN</td>\n",
       "      <td>0.0</td>\n",
       "      <td>0</td>\n",
       "    </tr>\n",
       "    <tr>\n",
       "      <th>10385920982210596646107185956261998480</th>\n",
       "      <td>99</td>\n",
       "      <td>153</td>\n",
       "      <td>2.865559e+04</td>\n",
       "      <td>NaN</td>\n",
       "      <td>0.0</td>\n",
       "      <td>0</td>\n",
       "    </tr>\n",
       "    <tr>\n",
       "      <th>217987427530123484115758408189837054067</th>\n",
       "      <td>99</td>\n",
       "      <td>154</td>\n",
       "      <td>8.042465e+03</td>\n",
       "      <td>179057.141204</td>\n",
       "      <td>1.0</td>\n",
       "      <td>0</td>\n",
       "    </tr>\n",
       "    <tr>\n",
       "      <th>243649323456672676388057433166324445902</th>\n",
       "      <td>99</td>\n",
       "      <td>155</td>\n",
       "      <td>1.055218e+05</td>\n",
       "      <td>24657.106481</td>\n",
       "      <td>1.0</td>\n",
       "      <td>0</td>\n",
       "    </tr>\n",
       "  </tbody>\n",
       "</table>\n",
       "<p>41939 rows × 6 columns</p>\n",
       "</div>"
      ],
      "text/plain": [
       "                                         fov_id  orig_cellID  feature_volume  \\\n",
       "uid                                                                            \n",
       "276583549005001281310253810318041068047       0            1    5.286679e+05   \n",
       "103420171094780316930229829293672994552       0            2    3.382644e+05   \n",
       "314844972520915742869654555830989384599       0            3    2.419376e+05   \n",
       "109560860268592786158662035265255130891       0            4    2.025881e+06   \n",
       "270350000043071906183619565260086304156       0            5    6.215574e+05   \n",
       "...                                         ...          ...             ...   \n",
       "64854774451287321962209816693938330264       99          151    1.549149e+05   \n",
       "41884351258426342777940164067907564064       99          152    1.680081e+04   \n",
       "10385920982210596646107185956261998480       99          153    2.865559e+04   \n",
       "217987427530123484115758408189837054067      99          154    8.042465e+03   \n",
       "243649323456672676388057433166324445902      99          155    1.055218e+05   \n",
       "\n",
       "                                         nucleus_volume_DAPI  \\\n",
       "uid                                                            \n",
       "276583549005001281310253810318041068047        279241.527778   \n",
       "103420171094780316930229829293672994552        195024.791667   \n",
       "314844972520915742869654555830989384599         57840.023148   \n",
       "109560860268592786158662035265255130891         64409.861111   \n",
       "270350000043071906183619565260086304156        290495.000000   \n",
       "...                                                      ...   \n",
       "64854774451287321962209816693938330264                   NaN   \n",
       "41884351258426342777940164067907564064                   NaN   \n",
       "10385920982210596646107185956261998480                   NaN   \n",
       "217987427530123484115758408189837054067        179057.141204   \n",
       "243649323456672676388057433166324445902         24657.106481   \n",
       "\n",
       "                                         confidence_score  fov_edge  \n",
       "uid                                                                  \n",
       "276583549005001281310253810318041068047               0.5         1  \n",
       "103420171094780316930229829293672994552               0.5         1  \n",
       "314844972520915742869654555830989384599               0.5         1  \n",
       "109560860268592786158662035265255130891               0.5         0  \n",
       "270350000043071906183619565260086304156               0.5         0  \n",
       "...                                                   ...       ...  \n",
       "64854774451287321962209816693938330264                0.0         0  \n",
       "41884351258426342777940164067907564064                0.0         0  \n",
       "10385920982210596646107185956261998480                0.0         0  \n",
       "217987427530123484115758408189837054067               1.0         0  \n",
       "243649323456672676388057433166324445902               1.0         0  \n",
       "\n",
       "[41939 rows x 6 columns]"
      ]
     },
     "execution_count": 8,
     "metadata": {},
     "output_type": "execute_result"
    }
   ],
   "source": [
    "merged_cell_volume_df = pd.concat(exp_df_list)\n",
    "merged_cell_volume_df.set_index('uid', drop=True,inplace=True)\n",
    "merged_cell_volume_df"
   ]
  },
  {
   "cell_type": "markdown",
   "metadata": {},
   "source": [
    "# 3. Select a fov with cell type to insepct DPAI segmentation"
   ]
  },
  {
   "cell_type": "code",
   "execution_count": 18,
   "metadata": {},
   "outputs": [
    {
     "name": "stdout",
     "output_type": "stream",
     "text": [
      "\\\\10.245.74.158\\Chromatin_NAS_8\\Analyzed_data\\MOp_dapi_segmentations\\exp0316_from_0304_v2\\FOV-1\n"
     ]
    },
    {
     "data": {
      "text/plain": [
       "['\\\\\\\\10.245.74.158\\\\Chromatin_NAS_8\\\\Analyzed_data\\\\MOp_dapi_segmentations\\\\exp0316_from_0304_v2\\\\FOV-1\\\\Nucleus_fov-1_cell-1.npy',\n",
       " '\\\\\\\\10.245.74.158\\\\Chromatin_NAS_8\\\\Analyzed_data\\\\MOp_dapi_segmentations\\\\exp0316_from_0304_v2\\\\FOV-1\\\\Nucleus_fov-1_cell-10.npy',\n",
       " '\\\\\\\\10.245.74.158\\\\Chromatin_NAS_8\\\\Analyzed_data\\\\MOp_dapi_segmentations\\\\exp0316_from_0304_v2\\\\FOV-1\\\\Nucleus_fov-1_cell-100.npy']"
      ]
     },
     "execution_count": 18,
     "metadata": {},
     "output_type": "execute_result"
    }
   ],
   "source": [
    "sel_experiment = '20220304'\n",
    "sel_fov_id = 1\n",
    "\n",
    "sel_df = adata_full.obs[adata_full.obs['experiment']==sel_experiment]\n",
    "#sel_df = sel_df[sel_df['fov_id']==sel_fov_id]\n",
    "sel_df = sel_df[sel_df['fov']==sel_fov_id]\n",
    "\n",
    "sel_exp_folder = [folder for folder in exp_folders if sel_experiment[4:] in folder][0]\n",
    "nuc_seg_folder = sel_exp_folder.replace('csv',f'FOV-{sel_fov_id}')\n",
    "print(nuc_seg_folder)\n",
    "\n",
    "if os.path.exists(nuc_seg_folder):\n",
    "    nuc_seg_fname_list = [os.path.join(nuc_seg_folder, _fl) for _fl in os.listdir(nuc_seg_folder) if '.npy' in _fl]\n",
    "\n",
    "nuc_seg_fname_list[:3]"
   ]
  },
  {
   "cell_type": "markdown",
   "metadata": {},
   "source": [
    "# 4. Select celltype to plot"
   ]
  },
  {
   "cell_type": "code",
   "execution_count": null,
   "metadata": {},
   "outputs": [],
   "source": [
    "celltype = \"L5 ET\""
   ]
  },
  {
   "cell_type": "code",
   "execution_count": 30,
   "metadata": {},
   "outputs": [],
   "source": [
    "## dict to save the good cell after visual inspection\n",
    "selected_cell_fname_dict = {}"
   ]
  },
  {
   "cell_type": "markdown",
   "metadata": {},
   "source": [
    "## add selected cells in order"
   ]
  },
  {
   "cell_type": "code",
   "execution_count": 34,
   "metadata": {},
   "outputs": [
    {
     "name": "stdout",
     "output_type": "stream",
     "text": [
      "L5 ET\n"
     ]
    }
   ],
   "source": [
    "selected_cell_fname_dict[celltype] = r'\\\\10.245.74.158\\Chromatin_NAS_8\\Analyzed_data\\MOp_dapi_segmentations\\exp0713_from_0418_v2\\FOV-118\\Nucleus_fov-118_cell-29.npy'\n",
    "print(celltype)"
   ]
  },
  {
   "cell_type": "code",
   "execution_count": 37,
   "metadata": {},
   "outputs": [
    {
     "name": "stdout",
     "output_type": "stream",
     "text": [
      "L5 IT\n"
     ]
    }
   ],
   "source": [
    "selected_cell_fname_dict[celltype] = r'\\\\10.245.74.158\\Chromatin_NAS_8\\Analyzed_data\\MOp_dapi_segmentations\\exp0713_from_0418_v2\\FOV-177\\Nucleus_fov-177_cell-51.npy'\n",
    "print(celltype)"
   ]
  },
  {
   "cell_type": "code",
   "execution_count": 40,
   "metadata": {},
   "outputs": [
    {
     "name": "stdout",
     "output_type": "stream",
     "text": [
      "L4/5 IT\n"
     ]
    }
   ],
   "source": [
    "selected_cell_fname_dict[celltype] = r'\\\\10.245.74.158\\Chromatin_NAS_8\\Analyzed_data\\MOp_dapi_segmentations\\exp0713_from_0418_v2\\FOV-15\\Nucleus_fov-15_cell-48.npy'\n",
    "print(celltype)"
   ]
  },
  {
   "cell_type": "code",
   "execution_count": 43,
   "metadata": {},
   "outputs": [
    {
     "name": "stdout",
     "output_type": "stream",
     "text": [
      "L2/3 IT\n"
     ]
    }
   ],
   "source": [
    "selected_cell_fname_dict[celltype] = r'\\\\10.245.74.158\\Chromatin_NAS_8\\Analyzed_data\\MOp_dapi_segmentations\\exp0402_from_0329_v2\\FOV-86\\Nucleus_fov-86_cell-71.npy'\n",
    "print(celltype)"
   ]
  },
  {
   "cell_type": "code",
   "execution_count": 46,
   "metadata": {},
   "outputs": [
    {
     "name": "stdout",
     "output_type": "stream",
     "text": [
      "Pvalb\n"
     ]
    }
   ],
   "source": [
    "selected_cell_fname_dict[celltype] = r'\\\\10.245.74.158\\Chromatin_NAS_8\\Analyzed_data\\MOp_dapi_segmentations\\exp0713_from_0418_v2\\FOV-112\\Nucleus_fov-112_cell-69.npy'\n",
    "print(celltype)"
   ]
  },
  {
   "cell_type": "code",
   "execution_count": 51,
   "metadata": {},
   "outputs": [
    {
     "name": "stdout",
     "output_type": "stream",
     "text": [
      "Astro\n"
     ]
    }
   ],
   "source": [
    "selected_cell_fname_dict[celltype] = r'\\\\10.245.74.158\\Chromatin_NAS_8\\Analyzed_data\\MOp_dapi_segmentations\\exp0713_from_0418_v2\\FOV-9\\Nucleus_fov-9_cell-30.npy'\n",
    "print(celltype)"
   ]
  },
  {
   "cell_type": "code",
   "execution_count": 55,
   "metadata": {},
   "outputs": [
    {
     "name": "stdout",
     "output_type": "stream",
     "text": [
      "Oligo\n"
     ]
    }
   ],
   "source": [
    "selected_cell_fname_dict[celltype] = r'\\\\10.245.74.158\\Chromatin_NAS_8\\Analyzed_data\\MOp_dapi_segmentations\\exp0713_from_0418_v2\\FOV-99\\Nucleus_fov-99_cell-32.npy'\n",
    "print(celltype)"
   ]
  },
  {
   "cell_type": "code",
   "execution_count": 58,
   "metadata": {},
   "outputs": [
    {
     "name": "stdout",
     "output_type": "stream",
     "text": [
      "Endo\n"
     ]
    }
   ],
   "source": [
    "selected_cell_fname_dict[celltype] =r'\\\\10.245.74.158\\Chromatin_NAS_8\\Analyzed_data\\MOp_dapi_segmentations\\exp0713_from_0418_v2\\FOV-155\\Nucleus_fov-155_cell-24.npy'\n",
    "print(celltype)"
   ]
  },
  {
   "cell_type": "markdown",
   "metadata": {},
   "source": [
    "## check the updated dict"
   ]
  },
  {
   "cell_type": "code",
   "execution_count": 66,
   "metadata": {},
   "outputs": [
    {
     "data": {
      "text/plain": [
       "{'L5 ET': '\\\\\\\\10.245.74.158\\\\Chromatin_NAS_8\\\\Analyzed_data\\\\MOp_dapi_segmentations\\\\exp0713_from_0418_v2\\\\FOV-118\\\\Nucleus_fov-118_cell-29.npy',\n",
       " 'L5 IT': '\\\\\\\\10.245.74.158\\\\Chromatin_NAS_8\\\\Analyzed_data\\\\MOp_dapi_segmentations\\\\exp0713_from_0418_v2\\\\FOV-177\\\\Nucleus_fov-177_cell-51.npy',\n",
       " 'L4/5 IT': '\\\\\\\\10.245.74.158\\\\Chromatin_NAS_8\\\\Analyzed_data\\\\MOp_dapi_segmentations\\\\exp0713_from_0418_v2\\\\FOV-15\\\\Nucleus_fov-15_cell-48.npy',\n",
       " 'L2/3 IT': '\\\\\\\\10.245.74.158\\\\Chromatin_NAS_8\\\\Analyzed_data\\\\MOp_dapi_segmentations\\\\exp0402_from_0329_v2\\\\FOV-86\\\\Nucleus_fov-86_cell-71.npy',\n",
       " 'Pvalb': '\\\\\\\\10.245.74.158\\\\Chromatin_NAS_8\\\\Analyzed_data\\\\MOp_dapi_segmentations\\\\exp0713_from_0418_v2\\\\FOV-112\\\\Nucleus_fov-112_cell-69.npy',\n",
       " 'Astro': '\\\\\\\\10.245.74.158\\\\Chromatin_NAS_8\\\\Analyzed_data\\\\MOp_dapi_segmentations\\\\exp0713_from_0418_v2\\\\FOV-9\\\\Nucleus_fov-9_cell-30.npy',\n",
       " 'Oligo': '\\\\\\\\10.245.74.158\\\\Chromatin_NAS_8\\\\Analyzed_data\\\\MOp_dapi_segmentations\\\\exp0713_from_0418_v2\\\\FOV-99\\\\Nucleus_fov-99_cell-32.npy',\n",
       " 'Endo': '\\\\\\\\10.245.74.158\\\\Chromatin_NAS_8\\\\Analyzed_data\\\\MOp_dapi_segmentations\\\\exp0713_from_0418_v2\\\\FOV-155\\\\Nucleus_fov-155_cell-24.npy'}"
      ]
     },
     "execution_count": 66,
     "metadata": {},
     "output_type": "execute_result"
    }
   ],
   "source": [
    "selected_cell_fname_dict"
   ]
  },
  {
   "cell_type": "markdown",
   "metadata": {},
   "source": [
    "## save the cell image dict"
   ]
  },
  {
   "cell_type": "code",
   "execution_count": 67,
   "metadata": {},
   "outputs": [],
   "source": [
    "import pickle"
   ]
  },
  {
   "cell_type": "code",
   "execution_count": 68,
   "metadata": {},
   "outputs": [],
   "source": [
    "cellsave_dictfname = os.path.join(output_analysis_folder,'selected_dapi_image_fnames.pkl')\n",
    "\n",
    "pickle.dump(selected_cell_fname_dict, open(cellsave_dictfname,'wb'))"
   ]
  }
 ],
 "metadata": {
  "kernelspec": {
   "display_name": "Python 3 (ipykernel)",
   "language": "python",
   "name": "python3"
  },
  "language_info": {
   "codemirror_mode": {
    "name": "ipython",
    "version": 3
   },
   "file_extension": ".py",
   "mimetype": "text/x-python",
   "name": "python",
   "nbconvert_exporter": "python",
   "pygments_lexer": "ipython3",
   "version": "3.10.8"
  },
  "toc": {
   "base_numbering": 1,
   "nav_menu": {},
   "number_sections": false,
   "sideBar": true,
   "skip_h1_title": false,
   "title_cell": "Table of Contents",
   "title_sidebar": "Contents",
   "toc_cell": false,
   "toc_position": {
    "height": "calc(100% - 180px)",
    "left": "10px",
    "top": "150px",
    "width": "426.66px"
   },
   "toc_section_display": true,
   "toc_window_display": true
  },
  "varInspector": {
   "cols": {
    "lenName": 16,
    "lenType": 16,
    "lenVar": 40
   },
   "kernels_config": {
    "python": {
     "delete_cmd_postfix": "",
     "delete_cmd_prefix": "del ",
     "library": "var_list.py",
     "varRefreshCmd": "print(var_dic_list())"
    },
    "r": {
     "delete_cmd_postfix": ") ",
     "delete_cmd_prefix": "rm(",
     "library": "var_list.r",
     "varRefreshCmd": "cat(var_dic_list()) "
    }
   },
   "types_to_exclude": [
    "module",
    "function",
    "builtin_function_or_method",
    "instance",
    "_Feature"
   ],
   "window_display": false
  }
 },
 "nbformat": 4,
 "nbformat_minor": 4
}
