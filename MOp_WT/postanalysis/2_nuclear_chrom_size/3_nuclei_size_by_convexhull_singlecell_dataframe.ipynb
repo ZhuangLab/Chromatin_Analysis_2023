{
 "cells": [
  {
   "cell_type": "markdown",
   "id": "7ba9d112",
   "metadata": {},
   "source": [
    "# 1. Load packages"
   ]
  },
  {
   "cell_type": "markdown",
   "metadata": {},
   "source": [
    "The link to get [ImageAnalysis3](https://github.com/zhengpuas47/ImageAnalysis3) \n",
    "\n",
    "or the Zhuang lab archived [source_tools](https://github.com/ZhuangLab/Chromatin_Analysis_2020_cell/tree/master/sequential_tracing/source)"
   ]
  },
  {
   "cell_type": "code",
   "execution_count": 1,
   "id": "d3ca453e",
   "metadata": {},
   "outputs": [
    {
     "name": "stdout",
     "output_type": "stream",
     "text": [
      "42452\n"
     ]
    }
   ],
   "source": [
    "%run \"C:\\Users\\shiwei\\Documents\\ImageAnalysis3\\required_files\\Startup_py3.py\"\n",
    "sys.path.append(r\"C:\\Users\\shiwei\\Documents\")\n",
    "\n",
    "import ImageAnalysis3 as ia\n",
    "%matplotlib notebook\n",
    "\n",
    "from ImageAnalysis3 import *\n",
    "print(os.getpid())\n",
    "\n",
    "import h5py\n",
    "from ImageAnalysis3.classes import _allowed_kwds\n",
    "import ast\n",
    "\n",
    "import pandas as pd"
   ]
  },
  {
   "cell_type": "markdown",
   "metadata": {},
   "source": [
    "See **functions** in the repository for [AnalysisTool_Chromatin](../../../functions/README.md)"
   ]
  },
  {
   "cell_type": "code",
   "execution_count": 2,
   "id": "d90d02e0",
   "metadata": {},
   "outputs": [
    {
     "data": {
      "text/plain": [
       "<module 'atac_to_loci' from 'C:\\\\Users\\\\shiwei\\\\Documents\\\\AnalysisTool_Chromatin\\\\atac_to_loci.py'>"
      ]
     },
     "execution_count": 2,
     "metadata": {},
     "output_type": "execute_result"
    }
   ],
   "source": [
    "# Chromatin_analysis_tools (ATC)\n",
    "# Get path for the py containing functions\n",
    "import os\n",
    "import sys\n",
    "import importlib\n",
    "module_path =r'C:\\Users\\shiwei\\Documents\\AnalysisTool_Chromatin'\n",
    "if module_path not in sys.path:\n",
    "    sys.path.append(module_path)\n",
    "    \n",
    "# import relevant modules\n",
    "import gene_selection \n",
    "importlib.reload(gene_selection)\n",
    "import gene_to_loci\n",
    "importlib.reload(gene_to_loci)\n",
    "import gene_activity\n",
    "importlib.reload(gene_activity)\n",
    "import loci_1d_features\n",
    "importlib.reload(loci_1d_features)  \n",
    "\n",
    "import atac_to_loci\n",
    "importlib.reload(atac_to_loci)"
   ]
  },
  {
   "cell_type": "code",
   "execution_count": 24,
   "id": "60e3e187",
   "metadata": {},
   "outputs": [],
   "source": [
    "import seaborn as sns\n",
    "import scanpy as sc"
   ]
  },
  {
   "cell_type": "markdown",
   "id": "d1ec4623",
   "metadata": {},
   "source": [
    "## 1.1 Define output folder"
   ]
  },
  {
   "cell_type": "code",
   "execution_count": 3,
   "id": "df68132b",
   "metadata": {},
   "outputs": [
    {
     "name": "stdout",
     "output_type": "stream",
     "text": [
      "Use existing analysis folder: L:\\Shiwei\\Figures\\MOp_draft_2023_v0\\Nuclear_organization\\analysis.\n",
      "Use existing figure folder: L:\\Shiwei\\Figures\\MOp_draft_2023_v0\\Nuclear_organization\\figures.\n"
     ]
    }
   ],
   "source": [
    "output_main_folder = r'L:\\Shiwei\\Figures\\MOp_draft_2023_v0\\Nuclear_organization'\n",
    "output_analysis_folder = os.path.join(output_main_folder, 'analysis')\n",
    "output_figure_folder = os.path.join(output_main_folder, 'figures')\n",
    "\n",
    "make_output_folder = True\n",
    "\n",
    "if make_output_folder and not os.path.exists(output_analysis_folder):\n",
    "    os.makedirs(output_analysis_folder)\n",
    "    print(f'Generating analysis folder: {output_analysis_folder}.')\n",
    "elif os.path.exists(output_analysis_folder):\n",
    "    print(f'Use existing analysis folder: {output_analysis_folder}.')\n",
    "    \n",
    "if make_output_folder and not os.path.exists(output_figure_folder):\n",
    "    os.makedirs(output_figure_folder)\n",
    "    print(f'Generating figure folder: {output_figure_folder}.')\n",
    "elif os.path.exists(output_figure_folder):\n",
    "    print(f'Use existing figure folder: {output_figure_folder}.')\n"
   ]
  },
  {
   "cell_type": "markdown",
   "id": "38807be4",
   "metadata": {},
   "source": [
    "## 1.2 setting up plotting parameters"
   ]
  },
  {
   "cell_type": "code",
   "execution_count": 25,
   "id": "7fe2ec4d",
   "metadata": {},
   "outputs": [],
   "source": [
    "sc.settings.n_jobs = 24\n",
    "sc.settings.set_figure_params(dpi=150, dpi_save=300, frameon=False, \n",
    "                              figsize=(4, 4), fontsize=8, facecolor='white', transparent=True)\n",
    "sc.settings.figdir = output_figure_folder\n",
    "\n",
    "from matplotlib import rcParams\n",
    "rcParams['font.family'] = 'sans-serif'\n",
    "rcParams['font.sans-serif'] = ['Arial']"
   ]
  },
  {
   "cell_type": "markdown",
   "id": "4de179e9",
   "metadata": {},
   "source": [
    "# 2. Load codebook and chr2Zxys"
   ]
  },
  {
   "cell_type": "markdown",
   "metadata": {},
   "source": [
    "## Codebook\n",
    "\n",
    "See **codebook** example from [codebook](../../0_locus_annotation/resources/MERFISH_loci_adjacent_genes_tss_more_res.csv)"
   ]
  },
  {
   "cell_type": "code",
   "execution_count": 5,
   "id": "b888017d",
   "metadata": {},
   "outputs": [
    {
     "data": {
      "text/html": [
       "<div>\n",
       "<style scoped>\n",
       "    .dataframe tbody tr th:only-of-type {\n",
       "        vertical-align: middle;\n",
       "    }\n",
       "\n",
       "    .dataframe tbody tr th {\n",
       "        vertical-align: top;\n",
       "    }\n",
       "\n",
       "    .dataframe thead th {\n",
       "        text-align: right;\n",
       "    }\n",
       "</style>\n",
       "<table border=\"1\" class=\"dataframe\">\n",
       "  <thead>\n",
       "    <tr style=\"text-align: right;\">\n",
       "      <th></th>\n",
       "      <th>name</th>\n",
       "      <th>id</th>\n",
       "      <th>chr</th>\n",
       "      <th>chr_order</th>\n",
       "      <th>library</th>\n",
       "      <th>dtype</th>\n",
       "      <th>adjacent_genes_0kb_tss</th>\n",
       "      <th>adjacent_genes_10kb_tss</th>\n",
       "      <th>adjacent_genes_50kb_tss</th>\n",
       "      <th>adjacent_genes_100kb_tss</th>\n",
       "      <th>adjacent_genes_200kb_tss</th>\n",
       "      <th>adjacent_genes_500kb_tss</th>\n",
       "      <th>adjacent_genes_1000kb_tss</th>\n",
       "      <th>adjacent_genes_1500kb_tss</th>\n",
       "      <th>adjacent_genes_2000kb_tss</th>\n",
       "    </tr>\n",
       "    <tr>\n",
       "      <th>loci_name</th>\n",
       "      <th></th>\n",
       "      <th></th>\n",
       "      <th></th>\n",
       "      <th></th>\n",
       "      <th></th>\n",
       "      <th></th>\n",
       "      <th></th>\n",
       "      <th></th>\n",
       "      <th></th>\n",
       "      <th></th>\n",
       "      <th></th>\n",
       "      <th></th>\n",
       "      <th></th>\n",
       "      <th></th>\n",
       "      <th></th>\n",
       "    </tr>\n",
       "  </thead>\n",
       "  <tbody>\n",
       "    <tr>\n",
       "      <th>chr1_3742742_3759944</th>\n",
       "      <td>1:3742742-3759944</td>\n",
       "      <td>1</td>\n",
       "      <td>1</td>\n",
       "      <td>0</td>\n",
       "      <td>CTP11</td>\n",
       "      <td>combo</td>\n",
       "      <td>intergenic</td>\n",
       "      <td>intergenic</td>\n",
       "      <td>intergenic</td>\n",
       "      <td>Xkr4</td>\n",
       "      <td>Xkr4</td>\n",
       "      <td>Gm18956; Gm7341; Xkr4</td>\n",
       "      <td>Gm18956; Gm2053; Gm6085; Gm6101; Gm6119; Gm734...</td>\n",
       "      <td>Atp6v1h; Gm16041; Gm17101; Gm18956; Gm2053; Gm...</td>\n",
       "      <td>Atp6v1h; Gm16041; Gm17101; Gm18956; Gm2053; Gm...</td>\n",
       "    </tr>\n",
       "    <tr>\n",
       "      <th>chr1_6245958_6258969</th>\n",
       "      <td>1:6245958-6258969</td>\n",
       "      <td>2</td>\n",
       "      <td>1</td>\n",
       "      <td>1</td>\n",
       "      <td>CTP11</td>\n",
       "      <td>combo</td>\n",
       "      <td>intergenic</td>\n",
       "      <td>intergenic</td>\n",
       "      <td>4732440D04Rik; Rb1cc1</td>\n",
       "      <td>4732440D04Rik; Rb1cc1</td>\n",
       "      <td>4732440D04Rik; Gm19026; Gm2147; Rb1cc1</td>\n",
       "      <td>4732440D04Rik; Gm19026; Gm2147; Npbwr1; Rb1cc1...</td>\n",
       "      <td>4732440D04Rik; Gm19026; Gm2147; Gm5694; Gm7182...</td>\n",
       "      <td>4732440D04Rik; Atp6v1h; Gm16041; Gm17101; Gm19...</td>\n",
       "      <td>4732440D04Rik; Atp6v1h; Gm16041; Gm17101; Gm19...</td>\n",
       "    </tr>\n",
       "    <tr>\n",
       "      <th>chr1_8740008_8759916</th>\n",
       "      <td>1:8740008-8759916</td>\n",
       "      <td>3</td>\n",
       "      <td>1</td>\n",
       "      <td>2</td>\n",
       "      <td>CTP11</td>\n",
       "      <td>combo</td>\n",
       "      <td>intergenic</td>\n",
       "      <td>intergenic</td>\n",
       "      <td>Gm15452</td>\n",
       "      <td>Gm15452</td>\n",
       "      <td>Gm15452</td>\n",
       "      <td>Gm15452</td>\n",
       "      <td>1700034P13Rik; 2610203C22Rik; Adhfe1; Gm15452;...</td>\n",
       "      <td>1700034P13Rik; 2610203C22Rik; Adhfe1; Arfgef1;...</td>\n",
       "      <td>1700034P13Rik; 2610203C22Rik; Adhfe1; Arfgef1;...</td>\n",
       "    </tr>\n",
       "    <tr>\n",
       "      <th>chr1_9627926_9637875</th>\n",
       "      <td>1:9627926-9637875</td>\n",
       "      <td>1</td>\n",
       "      <td>1</td>\n",
       "      <td>3</td>\n",
       "      <td>CTP13</td>\n",
       "      <td>combo</td>\n",
       "      <td>2610203C22Rik</td>\n",
       "      <td>2610203C22Rik</td>\n",
       "      <td>2610203C22Rik</td>\n",
       "      <td>2610203C22Rik; Adhfe1; Gm6161; Mybl1; Rrs1</td>\n",
       "      <td>1700034P13Rik; 2610203C22Rik; Adhfe1; Gm18300;...</td>\n",
       "      <td>1700034P13Rik; 2610203C22Rik; Adhfe1; Cops5; C...</td>\n",
       "      <td>1700034P13Rik; 2610203C22Rik; Adhfe1; Arfgef1;...</td>\n",
       "      <td>1700034P13Rik; 2610203C22Rik; Adhfe1; Arfgef1;...</td>\n",
       "      <td>1700034P13Rik; 2610203C22Rik; A830018L16Rik; A...</td>\n",
       "    </tr>\n",
       "    <tr>\n",
       "      <th>chr1_9799472_9811359</th>\n",
       "      <td>1:9799472-9811359</td>\n",
       "      <td>2</td>\n",
       "      <td>1</td>\n",
       "      <td>4</td>\n",
       "      <td>CTP13</td>\n",
       "      <td>combo</td>\n",
       "      <td>Gm6195</td>\n",
       "      <td>Gm6195; Sgk3</td>\n",
       "      <td>Gm6195; Sgk3</td>\n",
       "      <td>1700034P13Rik; Gm6195; Mcmdc2; Mybl1; Sgk3; Vc...</td>\n",
       "      <td>1700034P13Rik; 2610203C22Rik; Gm6195; Mcmdc2; ...</td>\n",
       "      <td>1700034P13Rik; 2610203C22Rik; Adhfe1; Arfgef1;...</td>\n",
       "      <td>1700034P13Rik; 2610203C22Rik; Adhfe1; Arfgef1;...</td>\n",
       "      <td>1700034P13Rik; 2610203C22Rik; Adhfe1; Arfgef1;...</td>\n",
       "      <td>1700034P13Rik; 2610203C22Rik; A830018L16Rik; A...</td>\n",
       "    </tr>\n",
       "  </tbody>\n",
       "</table>\n",
       "</div>"
      ],
      "text/plain": [
       "                                   name id chr  chr_order library  dtype  \\\n",
       "loci_name                                                                  \n",
       "chr1_3742742_3759944  1:3742742-3759944  1   1          0   CTP11  combo   \n",
       "chr1_6245958_6258969  1:6245958-6258969  2   1          1   CTP11  combo   \n",
       "chr1_8740008_8759916  1:8740008-8759916  3   1          2   CTP11  combo   \n",
       "chr1_9627926_9637875  1:9627926-9637875  1   1          3   CTP13  combo   \n",
       "chr1_9799472_9811359  1:9799472-9811359  2   1          4   CTP13  combo   \n",
       "\n",
       "                     adjacent_genes_0kb_tss adjacent_genes_10kb_tss  \\\n",
       "loci_name                                                             \n",
       "chr1_3742742_3759944             intergenic              intergenic   \n",
       "chr1_6245958_6258969             intergenic              intergenic   \n",
       "chr1_8740008_8759916             intergenic              intergenic   \n",
       "chr1_9627926_9637875          2610203C22Rik           2610203C22Rik   \n",
       "chr1_9799472_9811359                 Gm6195            Gm6195; Sgk3   \n",
       "\n",
       "                     adjacent_genes_50kb_tss  \\\n",
       "loci_name                                      \n",
       "chr1_3742742_3759944              intergenic   \n",
       "chr1_6245958_6258969   4732440D04Rik; Rb1cc1   \n",
       "chr1_8740008_8759916                 Gm15452   \n",
       "chr1_9627926_9637875           2610203C22Rik   \n",
       "chr1_9799472_9811359            Gm6195; Sgk3   \n",
       "\n",
       "                                               adjacent_genes_100kb_tss  \\\n",
       "loci_name                                                                 \n",
       "chr1_3742742_3759944                                               Xkr4   \n",
       "chr1_6245958_6258969                              4732440D04Rik; Rb1cc1   \n",
       "chr1_8740008_8759916                                            Gm15452   \n",
       "chr1_9627926_9637875         2610203C22Rik; Adhfe1; Gm6161; Mybl1; Rrs1   \n",
       "chr1_9799472_9811359  1700034P13Rik; Gm6195; Mcmdc2; Mybl1; Sgk3; Vc...   \n",
       "\n",
       "                                               adjacent_genes_200kb_tss  \\\n",
       "loci_name                                                                 \n",
       "chr1_3742742_3759944                                               Xkr4   \n",
       "chr1_6245958_6258969             4732440D04Rik; Gm19026; Gm2147; Rb1cc1   \n",
       "chr1_8740008_8759916                                            Gm15452   \n",
       "chr1_9627926_9637875  1700034P13Rik; 2610203C22Rik; Adhfe1; Gm18300;...   \n",
       "chr1_9799472_9811359  1700034P13Rik; 2610203C22Rik; Gm6195; Mcmdc2; ...   \n",
       "\n",
       "                                               adjacent_genes_500kb_tss  \\\n",
       "loci_name                                                                 \n",
       "chr1_3742742_3759944                              Gm18956; Gm7341; Xkr4   \n",
       "chr1_6245958_6258969  4732440D04Rik; Gm19026; Gm2147; Npbwr1; Rb1cc1...   \n",
       "chr1_8740008_8759916                                            Gm15452   \n",
       "chr1_9627926_9637875  1700034P13Rik; 2610203C22Rik; Adhfe1; Cops5; C...   \n",
       "chr1_9799472_9811359  1700034P13Rik; 2610203C22Rik; Adhfe1; Arfgef1;...   \n",
       "\n",
       "                                              adjacent_genes_1000kb_tss  \\\n",
       "loci_name                                                                 \n",
       "chr1_3742742_3759944  Gm18956; Gm2053; Gm6085; Gm6101; Gm6119; Gm734...   \n",
       "chr1_6245958_6258969  4732440D04Rik; Gm19026; Gm2147; Gm5694; Gm7182...   \n",
       "chr1_8740008_8759916  1700034P13Rik; 2610203C22Rik; Adhfe1; Gm15452;...   \n",
       "chr1_9627926_9637875  1700034P13Rik; 2610203C22Rik; Adhfe1; Arfgef1;...   \n",
       "chr1_9799472_9811359  1700034P13Rik; 2610203C22Rik; Adhfe1; Arfgef1;...   \n",
       "\n",
       "                                              adjacent_genes_1500kb_tss  \\\n",
       "loci_name                                                                 \n",
       "chr1_3742742_3759944  Atp6v1h; Gm16041; Gm17101; Gm18956; Gm2053; Gm...   \n",
       "chr1_6245958_6258969  4732440D04Rik; Atp6v1h; Gm16041; Gm17101; Gm19...   \n",
       "chr1_8740008_8759916  1700034P13Rik; 2610203C22Rik; Adhfe1; Arfgef1;...   \n",
       "chr1_9627926_9637875  1700034P13Rik; 2610203C22Rik; Adhfe1; Arfgef1;...   \n",
       "chr1_9799472_9811359  1700034P13Rik; 2610203C22Rik; Adhfe1; Arfgef1;...   \n",
       "\n",
       "                                              adjacent_genes_2000kb_tss  \n",
       "loci_name                                                                \n",
       "chr1_3742742_3759944  Atp6v1h; Gm16041; Gm17101; Gm18956; Gm2053; Gm...  \n",
       "chr1_6245958_6258969  4732440D04Rik; Atp6v1h; Gm16041; Gm17101; Gm19...  \n",
       "chr1_8740008_8759916  1700034P13Rik; 2610203C22Rik; Adhfe1; Arfgef1;...  \n",
       "chr1_9627926_9637875  1700034P13Rik; 2610203C22Rik; A830018L16Rik; A...  \n",
       "chr1_9799472_9811359  1700034P13Rik; 2610203C22Rik; A830018L16Rik; A...  "
      ]
     },
     "execution_count": 5,
     "metadata": {},
     "output_type": "execute_result"
    }
   ],
   "source": [
    "# load codebook\n",
    "# L drive is Crick Pu_SSD_0\n",
    "codebook_save_folder=r'C:\\Users\\shiwei\\Documents\\AnalysisTool_Chromatin\\resources'\n",
    "\n",
    "# Load sorted codebook (allows direct matrix slicing) with cell type info\n",
    "# Load codebook (then sort to allow direct matrix slicing) with cell type info\n",
    "\n",
    "codebook_fname = os.path.join(codebook_save_folder,'MERFISH_loci_adjacent_genes_tss_more_res.csv')\n",
    "codebook_df = pd.read_csv (codebook_fname, index_col=0)\n",
    "\n",
    "# sort df temporailiy so matrix can be sliced by df order directly\n",
    "codebook_df = loci_1d_features.sort_loci_df_by_chr_order (codebook_df)\n",
    "\n",
    "codebook_df.head()"
   ]
  },
  {
   "cell_type": "markdown",
   "id": "11fd9023",
   "metadata": {},
   "source": [
    "## Chr2Zxys dict and medianDict\n",
    "\n",
    "The below can be generated using jupyter notebook as below:\n",
    "\n",
    "[preprocess/2_dna_merfish/scripts/2_spot_pick/4_summarize_jie_to_dict](../../../preprocess/2_dna_merfish/scripts/2_spot_pick/4_summarize_jie_to_dict.ipynb)"
   ]
  },
  {
   "cell_type": "code",
   "execution_count": 6,
   "id": "01ecd226",
   "metadata": {},
   "outputs": [],
   "source": [
    "postanalysis_folder = r'\\\\10.245.74.158\\Chromatin_NAS_8\\Analyzed_data\\MouseBrain_PostAnalysis_20230201\\MOp_WT_postanalysis\\postanalysis_vCW2_sorted'\n",
    "subclass_2_chr2Zxys_filename = os.path.join(postanalysis_folder, 'subclass_2_chr2Zxys.pkl')\n",
    "subclass_2_chr2ZxysList = pickle.load(open(subclass_2_chr2Zxys_filename, 'rb'))"
   ]
  },
  {
   "cell_type": "code",
   "execution_count": 7,
   "id": "23a74676",
   "metadata": {},
   "outputs": [
    {
     "data": {
      "text/plain": [
       "dict_keys(['Oligo', 'L5 IT', 'Micro', 'Peri', 'Endo', 'Astro', 'OPC', 'L6 CT', 'L5 ET', 'L5/6 NP', 'Pvalb', 'L6 IT', 'Lamp5', 'L6b', 'Sst', 'SMC', 'L4/5 IT', 'L2/3 IT', 'Vip', 'Sncg', 'VLMC'])"
      ]
     },
     "execution_count": 7,
     "metadata": {},
     "output_type": "execute_result"
    }
   ],
   "source": [
    "subclass_2_chr2ZxysList.keys()"
   ]
  },
  {
   "cell_type": "code",
   "execution_count": 8,
   "id": "485aa140",
   "metadata": {},
   "outputs": [],
   "source": [
    "# subclass info\n",
    "subclass_2_cellInfoList_filename = os.path.join(postanalysis_folder, 'subclass_2_cellInfo.pkl')\n",
    "subclass_2_cellInfoList = pickle.load(open(subclass_2_cellInfoList_filename, 'rb'))"
   ]
  },
  {
   "cell_type": "markdown",
   "id": "0be5877c",
   "metadata": {},
   "source": [
    "# 3. Calculate convex hull for cell (dataframe version)"
   ]
  },
  {
   "cell_type": "markdown",
   "id": "d91ff95e",
   "metadata": {},
   "source": [
    "## Define functions"
   ]
  },
  {
   "cell_type": "code",
   "execution_count": 9,
   "id": "ca2d74b3",
   "metadata": {},
   "outputs": [],
   "source": [
    "from scipy.spatial.distance import euclidean, cdist, pdist\n",
    "from scipy.spatial import ConvexHull"
   ]
  },
  {
   "cell_type": "code",
   "execution_count": 10,
   "id": "a4a6b12c",
   "metadata": {},
   "outputs": [],
   "source": [
    "# quick get cell pts as zxy arr\n",
    "def chrZXY_to_cell_pts_arr (chrZxysList_cell:dict):\n",
    "    cell_pts = []\n",
    "    for _chrom, _chr_zxys in chrZxysList_cell.items():\n",
    "        for _fiberidx, _ichr_zxys in enumerate(_chr_zxys):\n",
    "            cell_pts.extend(_ichr_zxys)\n",
    "    return cell_pts\n",
    "    \n",
    "# generate cell pts df with region names\n",
    "from AnalysisTool_Chromatin import loci_1d_features\n",
    "importlib.reload(loci_1d_features)  \n",
    "\n",
    "def chrZXY_to_cell_pts_dataframe (chrZxysList_cell:dict, \n",
    "                                  codebook_df:pd.core.frame.DataFrame, \n",
    "                                  cellgroup = 'None'):\n",
    "    \n",
    "    output_df_list = []\n",
    "    for _chrom, _chr_zxys in chrZxysList_cell.items():\n",
    "        for _fiberidx, _ichr_zxys in enumerate(_chr_zxys):\n",
    "            _fiber_df = pd.DataFrame(_ichr_zxys,columns = ['z','x','y'],dtype=np.float64)\n",
    "            _fiber_df['chr']=_chrom\n",
    "            _fiber_df['fiberidx']=_fiberidx+1\n",
    "            # get other info from codebook\n",
    "            _info_df = codebook_df[codebook_df['chr']==_chrom].copy(deep=True)\n",
    "            _info_df = loci_1d_features.sort_loci_df_by_chr_order(_info_df)\n",
    "            _info_df['chr_order'] = _info_df['chr_order'].map(lambda x: int(x))\n",
    "            _info_df.reset_index(inplace=True) # rest index to match so cols can be assigned\n",
    "            if len(_info_df) == len(_fiber_df):\n",
    "                _fiber_df[['name','chr_order']]=_info_df[['name','chr_order']]\n",
    "            else:\n",
    "                print ('Number of loci does NOT match between input dict and codebook.')\n",
    "                #return None\n",
    "            output_df_list.append(_fiber_df)\n",
    "    \n",
    "    output_df = pd.concat(output_df_list)\n",
    "    output_df['celltype']=cellgroup\n",
    "    return output_df"
   ]
  },
  {
   "cell_type": "code",
   "execution_count": 11,
   "id": "163db40e",
   "metadata": {},
   "outputs": [],
   "source": [
    "def cell_volume_by_chrZxys_dataframe (chr_2_zxys_list, cell_infoList_class,\n",
    "                                 verbose=False):\n",
    "    \n",
    "    from scipy.spatial import ConvexHull\n",
    "    \n",
    "    # init dict and list to store results\n",
    "    _out_cell_dict = {'uid': {},\n",
    "               'subclass': {},      \n",
    "           'nucleus_volume': {},\n",
    "           'total_spots': {},\n",
    "                     }\n",
    "    \n",
    "    # loop through cells\n",
    "    for _cell_idx, _cell_chr_2_zxys_dict in enumerate(chr_2_zxys_list):\n",
    "        \n",
    "        _out_cell_dict['uid'][_cell_idx] = cell_infoList_class[_cell_idx]['uid']\n",
    "        _out_cell_dict['subclass'][_cell_idx] = cell_infoList_class[_cell_idx]['subclass']\n",
    "        # init list to combine all chrZxy\n",
    "        combined_cell_chrZxy_list=[]\n",
    "        # loop through chr\n",
    "        for _chr_key, _chr_zxys in _cell_chr_2_zxys_dict.items():\n",
    "            # loop through haploid\n",
    "            for _ichr_zxys in _chr_zxys:\n",
    "                # add each zxy\n",
    "                for _zxys in _ichr_zxys:\n",
    "                    combined_cell_chrZxy_list.append(_zxys)\n",
    "        # use all non-nan points to calculate convex hull            \n",
    "        nonnan_index =np.where(np.sum(~np.isnan(combined_cell_chrZxy_list)>0,axis=1))\n",
    "        total_spots_num = len(nonnan_index[0])\n",
    "        _out_cell_dict['total_spots'][_cell_idx] = total_spots_num\n",
    "        # convex hull\n",
    "        points=np.array(combined_cell_chrZxy_list)[nonnan_index]\n",
    "        hull = ConvexHull(points)  \n",
    "        _out_cell_dict['nucleus_volume'][_cell_idx]=hull.volume\n",
    "\n",
    "    _out_cell_df = pd.DataFrame(_out_cell_dict)\n",
    "    _out_cell_df.set_index('uid', drop=True,inplace=True)\n",
    "\n",
    "    return _out_cell_df"
   ]
  },
  {
   "cell_type": "markdown",
   "id": "19bcf496",
   "metadata": {},
   "source": [
    "## Process"
   ]
  },
  {
   "cell_type": "code",
   "execution_count": 13,
   "id": "3dfdd649",
   "metadata": {
    "scrolled": true
   },
   "outputs": [
    {
     "name": "stderr",
     "output_type": "stream",
     "text": [
      "\r\n",
      "  0%|                                                                                           | 0/21 [00:00<?, ?it/s]"
     ]
    },
    {
     "name": "stdout",
     "output_type": "stream",
     "text": [
      "Analyze cell hull volume for Oligo "
     ]
    },
    {
     "name": "stderr",
     "output_type": "stream",
     "text": [
      "\r\n",
      "  5%|███▉                                                                               | 1/21 [00:20<06:56, 20.84s/it]"
     ]
    },
    {
     "name": "stdout",
     "output_type": "stream",
     "text": [
      "in 20.840s.\n",
      "Analyze cell hull volume for L5 IT "
     ]
    },
    {
     "name": "stderr",
     "output_type": "stream",
     "text": [
      "\r\n",
      " 10%|███████▉                                                                           | 2/21 [00:29<04:22, 13.81s/it]"
     ]
    },
    {
     "name": "stdout",
     "output_type": "stream",
     "text": [
      "in 8.893s.\n",
      "Analyze cell hull volume for Micro "
     ]
    },
    {
     "name": "stderr",
     "output_type": "stream",
     "text": [
      "\r\n",
      " 14%|███████████▊                                                                       | 3/21 [00:35<02:58,  9.94s/it]"
     ]
    },
    {
     "name": "stdout",
     "output_type": "stream",
     "text": [
      "in 5.321s.\n",
      "Analyze cell hull volume for Peri "
     ]
    },
    {
     "name": "stderr",
     "output_type": "stream",
     "text": [
      "\r\n",
      " 19%|███████████████▊                                                                   | 4/21 [00:37<02:01,  7.15s/it]"
     ]
    },
    {
     "name": "stdout",
     "output_type": "stream",
     "text": [
      "in 2.877s.\n",
      "Analyze cell hull volume for Endo "
     ]
    },
    {
     "name": "stderr",
     "output_type": "stream",
     "text": [
      "\r\n",
      " 24%|███████████████████▊                                                               | 5/21 [00:46<02:04,  7.79s/it]"
     ]
    },
    {
     "name": "stdout",
     "output_type": "stream",
     "text": [
      "in 8.920s.\n",
      "Analyze cell hull volume for Astro "
     ]
    },
    {
     "name": "stderr",
     "output_type": "stream",
     "text": [
      "\r\n",
      " 29%|███████████████████████▋                                                           | 6/21 [00:58<02:14,  8.96s/it]"
     ]
    },
    {
     "name": "stdout",
     "output_type": "stream",
     "text": [
      "in 11.233s.\n",
      "Analyze cell hull volume for OPC "
     ]
    },
    {
     "name": "stderr",
     "output_type": "stream",
     "text": [
      "\r\n",
      " 33%|███████████████████████████▋                                                       | 7/21 [01:02<01:42,  7.33s/it]"
     ]
    },
    {
     "name": "stdout",
     "output_type": "stream",
     "text": [
      "in 3.970s.\n",
      "Analyze cell hull volume for L6 CT "
     ]
    },
    {
     "name": "stderr",
     "output_type": "stream",
     "text": [
      "\r\n",
      " 38%|███████████████████████████████▌                                                   | 8/21 [01:19<02:16, 10.50s/it]"
     ]
    },
    {
     "name": "stdout",
     "output_type": "stream",
     "text": [
      "in 17.286s.\n",
      "Analyze cell hull volume for L5 ET "
     ]
    },
    {
     "name": "stderr",
     "output_type": "stream",
     "text": [
      "\r\n",
      " 43%|███████████████████████████████████▌                                               | 9/21 [01:23<01:41,  8.43s/it]"
     ]
    },
    {
     "name": "stdout",
     "output_type": "stream",
     "text": [
      "in 3.879s.\n",
      "Analyze cell hull volume for L5/6 NP "
     ]
    },
    {
     "name": "stderr",
     "output_type": "stream",
     "text": [
      "\r\n",
      " 48%|███████████████████████████████████████                                           | 10/21 [01:25<01:12,  6.55s/it]"
     ]
    },
    {
     "name": "stdout",
     "output_type": "stream",
     "text": [
      "in 2.329s.\n",
      "Analyze cell hull volume for Pvalb "
     ]
    },
    {
     "name": "stderr",
     "output_type": "stream",
     "text": [
      "\r\n",
      " 52%|██████████████████████████████████████████▉                                       | 11/21 [01:29<00:57,  5.73s/it]"
     ]
    },
    {
     "name": "stdout",
     "output_type": "stream",
     "text": [
      "in 3.869s.\n",
      "Analyze cell hull volume for L6 IT "
     ]
    },
    {
     "name": "stderr",
     "output_type": "stream",
     "text": [
      "\r\n",
      " 57%|██████████████████████████████████████████████▊                                   | 12/21 [01:36<00:55,  6.18s/it]"
     ]
    },
    {
     "name": "stdout",
     "output_type": "stream",
     "text": [
      "in 7.198s.\n",
      "Analyze cell hull volume for Lamp5 "
     ]
    },
    {
     "name": "stderr",
     "output_type": "stream",
     "text": [
      "\r\n",
      " 62%|██████████████████████████████████████████████████▊                               | 13/21 [01:38<00:38,  4.76s/it]"
     ]
    },
    {
     "name": "stdout",
     "output_type": "stream",
     "text": [
      "in 1.491s.\n",
      "Analyze cell hull volume for L6b "
     ]
    },
    {
     "name": "stderr",
     "output_type": "stream",
     "text": [
      "\r\n",
      " 67%|██████████████████████████████████████████████████████▋                           | 14/21 [01:41<00:29,  4.24s/it]"
     ]
    },
    {
     "name": "stdout",
     "output_type": "stream",
     "text": [
      "in 3.052s.\n",
      "Analyze cell hull volume for Sst "
     ]
    },
    {
     "name": "stderr",
     "output_type": "stream",
     "text": [
      "\r\n",
      " 71%|██████████████████████████████████████████████████████████▌                       | 15/21 [01:44<00:23,  3.84s/it]"
     ]
    },
    {
     "name": "stdout",
     "output_type": "stream",
     "text": [
      "in 2.901s.\n",
      "Analyze cell hull volume for SMC "
     ]
    },
    {
     "name": "stderr",
     "output_type": "stream",
     "text": [
      "\r\n",
      " 76%|██████████████████████████████████████████████████████████████▍                   | 16/21 [01:45<00:15,  3.14s/it]"
     ]
    },
    {
     "name": "stdout",
     "output_type": "stream",
     "text": [
      "in 1.527s.\n",
      "Analyze cell hull volume for L4/5 IT "
     ]
    },
    {
     "name": "stderr",
     "output_type": "stream",
     "text": [
      "\r\n",
      " 81%|██████████████████████████████████████████████████████████████████▍               | 17/21 [01:55<00:20,  5.16s/it]"
     ]
    },
    {
     "name": "stdout",
     "output_type": "stream",
     "text": [
      "in 9.834s.\n",
      "Analyze cell hull volume for L2/3 IT "
     ]
    },
    {
     "name": "stderr",
     "output_type": "stream",
     "text": [
      "\r\n",
      " 86%|██████████████████████████████████████████████████████████████████████▎           | 18/21 [02:05<00:20,  6.71s/it]"
     ]
    },
    {
     "name": "stdout",
     "output_type": "stream",
     "text": [
      "in 10.332s.\n",
      "Analyze cell hull volume for Vip "
     ]
    },
    {
     "name": "stderr",
     "output_type": "stream",
     "text": [
      "\r\n",
      " 90%|██████████████████████████████████████████████████████████████████████████▏       | 19/21 [02:06<00:10,  5.05s/it]"
     ]
    },
    {
     "name": "stdout",
     "output_type": "stream",
     "text": [
      "in 1.172s.\n",
      "Analyze cell hull volume for Sncg "
     ]
    },
    {
     "name": "stderr",
     "output_type": "stream",
     "text": [
      "\r\n",
      " 95%|██████████████████████████████████████████████████████████████████████████████    | 20/21 [02:07<00:03,  3.67s/it]"
     ]
    },
    {
     "name": "stdout",
     "output_type": "stream",
     "text": [
      "in 0.443s.\n",
      "Analyze cell hull volume for VLMC "
     ]
    },
    {
     "name": "stderr",
     "output_type": "stream",
     "text": [
      "100%|██████████████████████████████████████████████████████████████████████████████████| 21/21 [02:08<00:00,  6.12s/it]"
     ]
    },
    {
     "name": "stdout",
     "output_type": "stream",
     "text": [
      "in 1.050s.\n"
     ]
    },
    {
     "name": "stderr",
     "output_type": "stream",
     "text": [
      "\n"
     ]
    },
    {
     "data": {
      "text/html": [
       "<div>\n",
       "<style scoped>\n",
       "    .dataframe tbody tr th:only-of-type {\n",
       "        vertical-align: middle;\n",
       "    }\n",
       "\n",
       "    .dataframe tbody tr th {\n",
       "        vertical-align: top;\n",
       "    }\n",
       "\n",
       "    .dataframe thead th {\n",
       "        text-align: right;\n",
       "    }\n",
       "</style>\n",
       "<table border=\"1\" class=\"dataframe\">\n",
       "  <thead>\n",
       "    <tr style=\"text-align: right;\">\n",
       "      <th></th>\n",
       "      <th>subclass</th>\n",
       "      <th>nucleus_volume</th>\n",
       "      <th>total_spots</th>\n",
       "    </tr>\n",
       "    <tr>\n",
       "      <th>uid</th>\n",
       "      <th></th>\n",
       "      <th></th>\n",
       "      <th></th>\n",
       "    </tr>\n",
       "  </thead>\n",
       "  <tbody>\n",
       "    <tr>\n",
       "      <th>259202492748634617304623818845147108919</th>\n",
       "      <td>Oligo</td>\n",
       "      <td>255.043678</td>\n",
       "      <td>863</td>\n",
       "    </tr>\n",
       "    <tr>\n",
       "      <th>336074706103419484501535095917410831417</th>\n",
       "      <td>Oligo</td>\n",
       "      <td>298.589934</td>\n",
       "      <td>1426</td>\n",
       "    </tr>\n",
       "    <tr>\n",
       "      <th>179117357717369278884189379535888871018</th>\n",
       "      <td>Oligo</td>\n",
       "      <td>305.797609</td>\n",
       "      <td>1601</td>\n",
       "    </tr>\n",
       "    <tr>\n",
       "      <th>36321914521561890358202806077673807953</th>\n",
       "      <td>Oligo</td>\n",
       "      <td>76.777445</td>\n",
       "      <td>210</td>\n",
       "    </tr>\n",
       "    <tr>\n",
       "      <th>92271180002801802991585284299263797402</th>\n",
       "      <td>Oligo</td>\n",
       "      <td>376.983590</td>\n",
       "      <td>2034</td>\n",
       "    </tr>\n",
       "    <tr>\n",
       "      <th>...</th>\n",
       "      <td>...</td>\n",
       "      <td>...</td>\n",
       "      <td>...</td>\n",
       "    </tr>\n",
       "    <tr>\n",
       "      <th>89559371323596133331060964655277765256</th>\n",
       "      <td>VLMC</td>\n",
       "      <td>183.802964</td>\n",
       "      <td>584</td>\n",
       "    </tr>\n",
       "    <tr>\n",
       "      <th>144314319466287448491677682735506973</th>\n",
       "      <td>VLMC</td>\n",
       "      <td>92.940088</td>\n",
       "      <td>387</td>\n",
       "    </tr>\n",
       "    <tr>\n",
       "      <th>71119619609696733523981100580894538756</th>\n",
       "      <td>VLMC</td>\n",
       "      <td>237.601248</td>\n",
       "      <td>734</td>\n",
       "    </tr>\n",
       "    <tr>\n",
       "      <th>29724298272863708674304529591452401156</th>\n",
       "      <td>VLMC</td>\n",
       "      <td>210.980658</td>\n",
       "      <td>1018</td>\n",
       "    </tr>\n",
       "    <tr>\n",
       "      <th>33275521405001179248720139503657082517</th>\n",
       "      <td>VLMC</td>\n",
       "      <td>135.812502</td>\n",
       "      <td>1019</td>\n",
       "    </tr>\n",
       "  </tbody>\n",
       "</table>\n",
       "<p>46340 rows × 3 columns</p>\n",
       "</div>"
      ],
      "text/plain": [
       "                                        subclass  nucleus_volume  total_spots\n",
       "uid                                                                          \n",
       "259202492748634617304623818845147108919    Oligo      255.043678          863\n",
       "336074706103419484501535095917410831417    Oligo      298.589934         1426\n",
       "179117357717369278884189379535888871018    Oligo      305.797609         1601\n",
       "36321914521561890358202806077673807953     Oligo       76.777445          210\n",
       "92271180002801802991585284299263797402     Oligo      376.983590         2034\n",
       "...                                          ...             ...          ...\n",
       "89559371323596133331060964655277765256      VLMC      183.802964          584\n",
       "144314319466287448491677682735506973        VLMC       92.940088          387\n",
       "71119619609696733523981100580894538756      VLMC      237.601248          734\n",
       "29724298272863708674304529591452401156      VLMC      210.980658         1018\n",
       "33275521405001179248720139503657082517      VLMC      135.812502         1019\n",
       "\n",
       "[46340 rows x 3 columns]"
      ]
     },
     "execution_count": 13,
     "metadata": {},
     "output_type": "execute_result"
    }
   ],
   "source": [
    "import tqdm\n",
    "_out_cell_df_list = []\n",
    "\n",
    "for _class, chr_2_zxys_list in tqdm.tqdm(subclass_2_chr2ZxysList.items()):\n",
    "    \n",
    "    print (f'Analyze cell hull volume for {_class}', end=' ')\n",
    "    cell_infoList_class = subclass_2_cellInfoList[_class]\n",
    "    \n",
    "    _start_time = time.time()\n",
    "    _out_cell_df = cell_volume_by_chrZxys_dataframe (chr_2_zxys_list, cell_infoList_class)\n",
    "    _out_cell_df_list.append(_out_cell_df)\n",
    "    print(f\"in {time.time()-_start_time:.3f}s.\")\n",
    "    \n",
    "merged_cell_volume_df = pd.concat(_out_cell_df_list)\n",
    "merged_cell_volume_df"
   ]
  },
  {
   "cell_type": "markdown",
   "id": "e4896f7e",
   "metadata": {},
   "source": [
    "## Save"
   ]
  },
  {
   "cell_type": "code",
   "execution_count": 14,
   "id": "b2443231",
   "metadata": {},
   "outputs": [],
   "source": [
    "output_fname = os.path.join(output_analysis_folder, f'nucleus_volume_convexhull_bysubclass.csv')\n",
    "\n",
    "merged_cell_volume_df.to_csv(output_fname)"
   ]
  },
  {
   "cell_type": "markdown",
   "id": "e2f32250",
   "metadata": {},
   "source": [
    "## Load"
   ]
  },
  {
   "cell_type": "code",
   "execution_count": 15,
   "id": "ee57f7d9",
   "metadata": {},
   "outputs": [
    {
     "data": {
      "text/html": [
       "<div>\n",
       "<style scoped>\n",
       "    .dataframe tbody tr th:only-of-type {\n",
       "        vertical-align: middle;\n",
       "    }\n",
       "\n",
       "    .dataframe tbody tr th {\n",
       "        vertical-align: top;\n",
       "    }\n",
       "\n",
       "    .dataframe thead th {\n",
       "        text-align: right;\n",
       "    }\n",
       "</style>\n",
       "<table border=\"1\" class=\"dataframe\">\n",
       "  <thead>\n",
       "    <tr style=\"text-align: right;\">\n",
       "      <th></th>\n",
       "      <th>subclass</th>\n",
       "      <th>nucleus_volume</th>\n",
       "      <th>total_spots</th>\n",
       "    </tr>\n",
       "    <tr>\n",
       "      <th>uid</th>\n",
       "      <th></th>\n",
       "      <th></th>\n",
       "      <th></th>\n",
       "    </tr>\n",
       "  </thead>\n",
       "  <tbody>\n",
       "    <tr>\n",
       "      <th>259202492748634617304623818845147108919</th>\n",
       "      <td>Oligo</td>\n",
       "      <td>255.043678</td>\n",
       "      <td>863</td>\n",
       "    </tr>\n",
       "    <tr>\n",
       "      <th>336074706103419484501535095917410831417</th>\n",
       "      <td>Oligo</td>\n",
       "      <td>298.589934</td>\n",
       "      <td>1426</td>\n",
       "    </tr>\n",
       "    <tr>\n",
       "      <th>179117357717369278884189379535888871018</th>\n",
       "      <td>Oligo</td>\n",
       "      <td>305.797609</td>\n",
       "      <td>1601</td>\n",
       "    </tr>\n",
       "    <tr>\n",
       "      <th>36321914521561890358202806077673807953</th>\n",
       "      <td>Oligo</td>\n",
       "      <td>76.777445</td>\n",
       "      <td>210</td>\n",
       "    </tr>\n",
       "    <tr>\n",
       "      <th>92271180002801802991585284299263797402</th>\n",
       "      <td>Oligo</td>\n",
       "      <td>376.983590</td>\n",
       "      <td>2034</td>\n",
       "    </tr>\n",
       "    <tr>\n",
       "      <th>...</th>\n",
       "      <td>...</td>\n",
       "      <td>...</td>\n",
       "      <td>...</td>\n",
       "    </tr>\n",
       "    <tr>\n",
       "      <th>89559371323596133331060964655277765256</th>\n",
       "      <td>VLMC</td>\n",
       "      <td>183.802964</td>\n",
       "      <td>584</td>\n",
       "    </tr>\n",
       "    <tr>\n",
       "      <th>144314319466287448491677682735506973</th>\n",
       "      <td>VLMC</td>\n",
       "      <td>92.940088</td>\n",
       "      <td>387</td>\n",
       "    </tr>\n",
       "    <tr>\n",
       "      <th>71119619609696733523981100580894538756</th>\n",
       "      <td>VLMC</td>\n",
       "      <td>237.601248</td>\n",
       "      <td>734</td>\n",
       "    </tr>\n",
       "    <tr>\n",
       "      <th>29724298272863708674304529591452401156</th>\n",
       "      <td>VLMC</td>\n",
       "      <td>210.980658</td>\n",
       "      <td>1018</td>\n",
       "    </tr>\n",
       "    <tr>\n",
       "      <th>33275521405001179248720139503657082517</th>\n",
       "      <td>VLMC</td>\n",
       "      <td>135.812502</td>\n",
       "      <td>1019</td>\n",
       "    </tr>\n",
       "  </tbody>\n",
       "</table>\n",
       "<p>46340 rows × 3 columns</p>\n",
       "</div>"
      ],
      "text/plain": [
       "                                        subclass  nucleus_volume  total_spots\n",
       "uid                                                                          \n",
       "259202492748634617304623818845147108919    Oligo      255.043678          863\n",
       "336074706103419484501535095917410831417    Oligo      298.589934         1426\n",
       "179117357717369278884189379535888871018    Oligo      305.797609         1601\n",
       "36321914521561890358202806077673807953     Oligo       76.777445          210\n",
       "92271180002801802991585284299263797402     Oligo      376.983590         2034\n",
       "...                                          ...             ...          ...\n",
       "89559371323596133331060964655277765256      VLMC      183.802964          584\n",
       "144314319466287448491677682735506973        VLMC       92.940088          387\n",
       "71119619609696733523981100580894538756      VLMC      237.601248          734\n",
       "29724298272863708674304529591452401156      VLMC      210.980658         1018\n",
       "33275521405001179248720139503657082517      VLMC      135.812502         1019\n",
       "\n",
       "[46340 rows x 3 columns]"
      ]
     },
     "execution_count": 15,
     "metadata": {},
     "output_type": "execute_result"
    }
   ],
   "source": [
    "output_fname = os.path.join(output_analysis_folder, f'nucleus_volume_convexhull_bysubclass.csv')\n",
    "\n",
    "merged_cell_volume_df = pd.read_csv(output_fname, index_col=0)\n",
    "merged_cell_volume_df"
   ]
  },
  {
   "cell_type": "markdown",
   "id": "b081b50a",
   "metadata": {},
   "source": [
    "## Plot"
   ]
  },
  {
   "cell_type": "code",
   "execution_count": 17,
   "id": "8d53136c",
   "metadata": {},
   "outputs": [
    {
     "data": {
      "text/plain": [
       "array(['Astro', 'Endo', 'L2/3 IT', 'L4/5 IT', 'L5 ET', 'L5 IT', 'L5/6 NP',\n",
       "       'L6 CT', 'L6 IT', 'L6b', 'Lamp5', 'Micro', 'OPC', 'Oligo', 'Peri',\n",
       "       'Pvalb', 'SMC', 'Sncg', 'Sst', 'VLMC', 'Vip'], dtype=object)"
      ]
     },
     "execution_count": 17,
     "metadata": {},
     "output_type": "execute_result"
    }
   ],
   "source": [
    "np.unique(merged_cell_volume_df['subclass'])"
   ]
  },
  {
   "cell_type": "code",
   "execution_count": 46,
   "id": "0a05983e",
   "metadata": {},
   "outputs": [],
   "source": [
    "selected_cell_labels = ['L2/3 IT','L4/5 IT','L5 IT','L6 IT','L5 ET','L5/6 NP','L6 CT','L6b',\n",
    "                           'Sst','Pvalb','Lamp5',\n",
    "                           'Astro','Oligo','OPC','Micro','Endo','Peri', \n",
    "                           \n",
    "                          ]\n",
    "\n",
    "celltype_palette = {'Astro':'lightcoral', \n",
    "                    'Endo':'skyblue', \n",
    "                    'L2/3 IT':'gold', \n",
    "                    'L4/5 IT':'darkorange', \n",
    "                    'L5 ET':'mediumseagreen', \n",
    "                    'L5 IT':'aqua',\n",
    "                    'L5/6 NP':'darkgreen',\n",
    "                    'L6 CT':'brown',\n",
    "                    'L6 IT':'magenta',\n",
    "                    'L6b':'blue', \n",
    "                    'Lamp5':'orange', \n",
    "                    'Micro':'peachpuff',\n",
    "                    'OPC':'thistle', \n",
    "                    'Oligo':'darkviolet',\n",
    "                    'Peri':'sandybrown',\n",
    "                    'Pvalb':'springgreen',\n",
    "                    'SMC':'rosybrown',\n",
    "                    'Sncg':'darkkhaki',\n",
    "                    'Sst':'steelblue', \n",
    "                    'VLMC':'saddlebrown', \n",
    "                    'Vip':'red',\n",
    "                    'other':'slategray'}\n",
    "\n",
    "\n",
    "sel_merged_cell_volume_df = merged_cell_volume_df[merged_cell_volume_df['subclass'].isin(selected_cell_labels)]"
   ]
  },
  {
   "cell_type": "code",
   "execution_count": 96,
   "id": "53fcd452",
   "metadata": {},
   "outputs": [
    {
     "data": {
      "image/png": "[encoded data removed]",
      "text/plain": [
       "<Figure size 400x400 with 1 Axes>"
      ]
     },
     "metadata": {
      "image/png": {
       "height": 418,
       "width": 401
      }
     },
     "output_type": "display_data"
    }
   ],
   "source": [
    "%matplotlib inline\n",
    "\n",
    "import seaborn as sns\n",
    "import scanpy as sc\n",
    "min_pts_th =1250\n",
    "\n",
    "\n",
    "# sort plotting order by meadian of groups\n",
    "df_plot = sel_merged_cell_volume_df[sel_merged_cell_volume_df['total_spots']>=min_pts_th]\n",
    "df_plot_median = pd.DataFrame(df_plot.groupby(by='subclass')['nucleus_volume'].median())\n",
    "df_plot_median = df_plot_median.sort_values(by='nucleus_volume')\n",
    "sorted_cellplot_order = df_plot_median.index\n",
    "\n",
    "# plot\n",
    "fig, ax = plt.subplots(dpi=100)\n",
    "\n",
    "sns.boxplot(data=df_plot, x='subclass', y='nucleus_volume', \n",
    "            order = sorted_cellplot_order, \n",
    "            ax=ax, \n",
    "            fliersize=0,\n",
    "            palette=celltype_palette)\n",
    "\n",
    "ax.tick_params(axis='x', rotation=70)\n",
    "\n",
    "ax.set_title(f\"Nuclei size by imaged loci\", fontsize=13, y=1)\n",
    "ax.set_xlabel(\"Cell subclasses\", fontsize=12, labelpad=5)\n",
    "ax.set_ylabel(\"Nuclei volume \\n (ConvexHull, \\u03bcm\\u00b3)\", fontsize=12, labelpad=1)\n",
    "\n",
    "\n",
    "\n",
    "ax.set_ylim([0,1000])\n",
    "ax.grid(False)\n",
    "\n",
    "plt.show()"
   ]
  }
 ],
 "metadata": {
  "kernelspec": {
   "display_name": "Python 3 (ipykernel)",
   "language": "python",
   "name": "python3"
  },
  "language_info": {
   "codemirror_mode": {
    "name": "ipython",
    "version": 3
   },
   "file_extension": ".py",
   "mimetype": "text/x-python",
   "name": "python",
   "nbconvert_exporter": "python",
   "pygments_lexer": "ipython3",
   "version": "3.10.8"
  },
  "toc": {
   "base_numbering": 1,
   "nav_menu": {},
   "number_sections": false,
   "sideBar": true,
   "skip_h1_title": false,
   "title_cell": "Table of Contents",
   "title_sidebar": "Contents",
   "toc_cell": false,
   "toc_position": {},
   "toc_section_display": true,
   "toc_window_display": true
  }
 },
 "nbformat": 4,
 "nbformat_minor": 5
}
