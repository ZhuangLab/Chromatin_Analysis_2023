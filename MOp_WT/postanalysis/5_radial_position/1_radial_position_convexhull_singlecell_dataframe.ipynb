{
 "cells": [
  {
   "cell_type": "markdown",
   "id": "7ba9d112",
   "metadata": {},
   "source": [
    "# 1. Load packages"
   ]
  },
  {
   "cell_type": "markdown",
   "metadata": {},
   "source": [
    "The link to get [ImageAnalysis3](https://github.com/zhengpuas47/ImageAnalysis3) \n",
    "\n",
    "or the Zhuang lab archived [source_tools](https://github.com/ZhuangLab/Chromatin_Analysis_2020_cell/tree/master/sequential_tracing/source)"
   ]
  },
  {
   "cell_type": "code",
   "execution_count": 1,
   "id": "d3ca453e",
   "metadata": {},
   "outputs": [
    {
     "name": "stdout",
     "output_type": "stream",
     "text": [
      "41452\n"
     ]
    }
   ],
   "source": [
    "%run \"C:\\Users\\shiwei\\Documents\\ImageAnalysis3\\required_files\\Startup_py3.py\"\n",
    "sys.path.append(r\"C:\\Users\\shiwei\\Documents\")\n",
    "\n",
    "import ImageAnalysis3 as ia\n",
    "%matplotlib notebook\n",
    "\n",
    "from ImageAnalysis3 import *\n",
    "print(os.getpid())\n",
    "\n",
    "import h5py\n",
    "from ImageAnalysis3.classes import _allowed_kwds\n",
    "import ast\n",
    "\n",
    "import pandas as pd"
   ]
  },
  {
   "cell_type": "markdown",
   "metadata": {},
   "source": [
    "See **functions** in the repository for [AnalysisTool_Chromatin](../../functions/README.md)"
   ]
  },
  {
   "cell_type": "code",
   "execution_count": 2,
   "id": "d90d02e0",
   "metadata": {},
   "outputs": [
    {
     "data": {
      "text/plain": [
       "<module 'atac_to_loci' from 'C:\\\\Users\\\\shiwei\\\\Documents\\\\AnalysisTool_Chromatin\\\\atac_to_loci.py'>"
      ]
     },
     "execution_count": 2,
     "metadata": {},
     "output_type": "execute_result"
    }
   ],
   "source": [
    "# Chromatin_analysis_tools (ATC)\n",
    "# Get path for the py containing functions\n",
    "import os\n",
    "import sys\n",
    "import importlib\n",
    "module_path =r'C:\\Users\\shiwei\\Documents\\AnalysisTool_Chromatin'\n",
    "if module_path not in sys.path:\n",
    "    sys.path.append(module_path)\n",
    "    \n",
    "# import relevant modules\n",
    "import gene_selection \n",
    "importlib.reload(gene_selection)\n",
    "import gene_to_loci\n",
    "importlib.reload(gene_to_loci)\n",
    "import gene_activity\n",
    "importlib.reload(gene_activity)\n",
    "import loci_1d_features\n",
    "importlib.reload(loci_1d_features)  \n",
    "\n",
    "import atac_to_loci\n",
    "importlib.reload(atac_to_loci)"
   ]
  },
  {
   "cell_type": "code",
   "execution_count": 3,
   "id": "60e3e187",
   "metadata": {},
   "outputs": [],
   "source": [
    "import seaborn as sns\n",
    "import scanpy as sc\n",
    "import numpy as np"
   ]
  },
  {
   "cell_type": "markdown",
   "id": "d1ec4623",
   "metadata": {},
   "source": [
    "## 1.1 Define output folder"
   ]
  },
  {
   "cell_type": "code",
   "execution_count": 4,
   "id": "df68132b",
   "metadata": {},
   "outputs": [
    {
     "name": "stdout",
     "output_type": "stream",
     "text": [
      "Use existing analysis folder: L:\\Shiwei\\Figures\\MOp_draft_2023_v2\\Nuclear_organization_v2\\analysis.\n",
      "Use existing figure folder: L:\\Shiwei\\Figures\\MOp_draft_2023_v2\\Nuclear_organization_v2\\figures.\n"
     ]
    }
   ],
   "source": [
    "output_main_folder = r'L:\\Shiwei\\Figures\\MOp_draft_2023_v2\\Nuclear_organization_v2'\n",
    "output_analysis_folder = os.path.join(output_main_folder, 'analysis')\n",
    "output_figure_folder = os.path.join(output_main_folder, 'figures')\n",
    "\n",
    "make_output_folder = True\n",
    "\n",
    "if make_output_folder and not os.path.exists(output_analysis_folder):\n",
    "    os.makedirs(output_analysis_folder)\n",
    "    print(f'Generating analysis folder: {output_analysis_folder}.')\n",
    "elif os.path.exists(output_analysis_folder):\n",
    "    print(f'Use existing analysis folder: {output_analysis_folder}.')\n",
    "    \n",
    "if make_output_folder and not os.path.exists(output_figure_folder):\n",
    "    os.makedirs(output_figure_folder)\n",
    "    print(f'Generating figure folder: {output_figure_folder}.')\n",
    "elif os.path.exists(output_figure_folder):\n",
    "    print(f'Use existing figure folder: {output_figure_folder}.')\n"
   ]
  },
  {
   "cell_type": "markdown",
   "id": "38807be4",
   "metadata": {},
   "source": [
    "## 1.2 setting up plotting parameters"
   ]
  },
  {
   "cell_type": "code",
   "execution_count": 5,
   "id": "7fe2ec4d",
   "metadata": {},
   "outputs": [],
   "source": [
    "sc.settings.n_jobs = 24\n",
    "sc.settings.set_figure_params(dpi=150, dpi_save=300, frameon=False, \n",
    "                              figsize=(4, 4), fontsize=8, facecolor='white', transparent=True)\n",
    "sc.settings.figdir = output_figure_folder\n",
    "\n",
    "from matplotlib import rcParams\n",
    "rcParams['font.family'] = 'sans-serif'\n",
    "rcParams['font.sans-serif'] = ['Arial']"
   ]
  },
  {
   "cell_type": "markdown",
   "id": "4de179e9",
   "metadata": {},
   "source": [
    "# 2. Load codebook and chr2Zxys"
   ]
  },
  {
   "cell_type": "markdown",
   "metadata": {},
   "source": [
    "## Codebook\n",
    "\n",
    "Example of [codebook](../../postanalysis/0_locus_annotation/resources/MERFISH_loci_adjacent_genes_tss_more_res.csv)"
   ]
  },
  {
   "cell_type": "code",
   "execution_count": 14,
   "id": "b888017d",
   "metadata": {},
   "outputs": [
    {
     "data": {
      "text/html": [
       "<div>\n",
       "<style scoped>\n",
       "    .dataframe tbody tr th:only-of-type {\n",
       "        vertical-align: middle;\n",
       "    }\n",
       "\n",
       "    .dataframe tbody tr th {\n",
       "        vertical-align: top;\n",
       "    }\n",
       "\n",
       "    .dataframe thead th {\n",
       "        text-align: right;\n",
       "    }\n",
       "</style>\n",
       "<table border=\"1\" class=\"dataframe\">\n",
       "  <thead>\n",
       "    <tr style=\"text-align: right;\">\n",
       "      <th></th>\n",
       "      <th>name</th>\n",
       "      <th>id</th>\n",
       "      <th>chr</th>\n",
       "      <th>chr_order</th>\n",
       "      <th>library</th>\n",
       "      <th>dtype</th>\n",
       "      <th>adjacent_genes_0kb_tss</th>\n",
       "      <th>adjacent_genes_10kb_tss</th>\n",
       "      <th>adjacent_genes_50kb_tss</th>\n",
       "      <th>adjacent_genes_100kb_tss</th>\n",
       "      <th>adjacent_genes_200kb_tss</th>\n",
       "      <th>adjacent_genes_500kb_tss</th>\n",
       "      <th>adjacent_genes_1000kb_tss</th>\n",
       "      <th>adjacent_genes_1500kb_tss</th>\n",
       "      <th>adjacent_genes_2000kb_tss</th>\n",
       "    </tr>\n",
       "    <tr>\n",
       "      <th>loci_name</th>\n",
       "      <th></th>\n",
       "      <th></th>\n",
       "      <th></th>\n",
       "      <th></th>\n",
       "      <th></th>\n",
       "      <th></th>\n",
       "      <th></th>\n",
       "      <th></th>\n",
       "      <th></th>\n",
       "      <th></th>\n",
       "      <th></th>\n",
       "      <th></th>\n",
       "      <th></th>\n",
       "      <th></th>\n",
       "      <th></th>\n",
       "    </tr>\n",
       "  </thead>\n",
       "  <tbody>\n",
       "    <tr>\n",
       "      <th>chr1_3742742_3759944</th>\n",
       "      <td>1:3742742-3759944</td>\n",
       "      <td>1</td>\n",
       "      <td>1</td>\n",
       "      <td>0</td>\n",
       "      <td>CTP11</td>\n",
       "      <td>combo</td>\n",
       "      <td>intergenic</td>\n",
       "      <td>intergenic</td>\n",
       "      <td>intergenic</td>\n",
       "      <td>Xkr4</td>\n",
       "      <td>Xkr4</td>\n",
       "      <td>Gm18956; Gm7341; Xkr4</td>\n",
       "      <td>Gm18956; Gm2053; Gm6085; Gm6101; Gm6119; Gm734...</td>\n",
       "      <td>Atp6v1h; Gm16041; Gm17101; Gm18956; Gm2053; Gm...</td>\n",
       "      <td>Atp6v1h; Gm16041; Gm17101; Gm18956; Gm2053; Gm...</td>\n",
       "    </tr>\n",
       "    <tr>\n",
       "      <th>chr1_6245958_6258969</th>\n",
       "      <td>1:6245958-6258969</td>\n",
       "      <td>2</td>\n",
       "      <td>1</td>\n",
       "      <td>1</td>\n",
       "      <td>CTP11</td>\n",
       "      <td>combo</td>\n",
       "      <td>intergenic</td>\n",
       "      <td>intergenic</td>\n",
       "      <td>4732440D04Rik; Rb1cc1</td>\n",
       "      <td>4732440D04Rik; Rb1cc1</td>\n",
       "      <td>4732440D04Rik; Gm19026; Gm2147; Rb1cc1</td>\n",
       "      <td>4732440D04Rik; Gm19026; Gm2147; Npbwr1; Rb1cc1...</td>\n",
       "      <td>4732440D04Rik; Gm19026; Gm2147; Gm5694; Gm7182...</td>\n",
       "      <td>4732440D04Rik; Atp6v1h; Gm16041; Gm17101; Gm19...</td>\n",
       "      <td>4732440D04Rik; Atp6v1h; Gm16041; Gm17101; Gm19...</td>\n",
       "    </tr>\n",
       "    <tr>\n",
       "      <th>chr1_8740008_8759916</th>\n",
       "      <td>1:8740008-8759916</td>\n",
       "      <td>3</td>\n",
       "      <td>1</td>\n",
       "      <td>2</td>\n",
       "      <td>CTP11</td>\n",
       "      <td>combo</td>\n",
       "      <td>intergenic</td>\n",
       "      <td>intergenic</td>\n",
       "      <td>Gm15452</td>\n",
       "      <td>Gm15452</td>\n",
       "      <td>Gm15452</td>\n",
       "      <td>Gm15452</td>\n",
       "      <td>1700034P13Rik; 2610203C22Rik; Adhfe1; Gm15452;...</td>\n",
       "      <td>1700034P13Rik; 2610203C22Rik; Adhfe1; Arfgef1;...</td>\n",
       "      <td>1700034P13Rik; 2610203C22Rik; Adhfe1; Arfgef1;...</td>\n",
       "    </tr>\n",
       "    <tr>\n",
       "      <th>chr1_9627926_9637875</th>\n",
       "      <td>1:9627926-9637875</td>\n",
       "      <td>1</td>\n",
       "      <td>1</td>\n",
       "      <td>3</td>\n",
       "      <td>CTP13</td>\n",
       "      <td>combo</td>\n",
       "      <td>2610203C22Rik</td>\n",
       "      <td>2610203C22Rik</td>\n",
       "      <td>2610203C22Rik</td>\n",
       "      <td>2610203C22Rik; Adhfe1; Gm6161; Mybl1; Rrs1</td>\n",
       "      <td>1700034P13Rik; 2610203C22Rik; Adhfe1; Gm18300;...</td>\n",
       "      <td>1700034P13Rik; 2610203C22Rik; Adhfe1; Cops5; C...</td>\n",
       "      <td>1700034P13Rik; 2610203C22Rik; Adhfe1; Arfgef1;...</td>\n",
       "      <td>1700034P13Rik; 2610203C22Rik; Adhfe1; Arfgef1;...</td>\n",
       "      <td>1700034P13Rik; 2610203C22Rik; A830018L16Rik; A...</td>\n",
       "    </tr>\n",
       "    <tr>\n",
       "      <th>chr1_9799472_9811359</th>\n",
       "      <td>1:9799472-9811359</td>\n",
       "      <td>2</td>\n",
       "      <td>1</td>\n",
       "      <td>4</td>\n",
       "      <td>CTP13</td>\n",
       "      <td>combo</td>\n",
       "      <td>Gm6195</td>\n",
       "      <td>Gm6195; Sgk3</td>\n",
       "      <td>Gm6195; Sgk3</td>\n",
       "      <td>1700034P13Rik; Gm6195; Mcmdc2; Mybl1; Sgk3; Vc...</td>\n",
       "      <td>1700034P13Rik; 2610203C22Rik; Gm6195; Mcmdc2; ...</td>\n",
       "      <td>1700034P13Rik; 2610203C22Rik; Adhfe1; Arfgef1;...</td>\n",
       "      <td>1700034P13Rik; 2610203C22Rik; Adhfe1; Arfgef1;...</td>\n",
       "      <td>1700034P13Rik; 2610203C22Rik; Adhfe1; Arfgef1;...</td>\n",
       "      <td>1700034P13Rik; 2610203C22Rik; A830018L16Rik; A...</td>\n",
       "    </tr>\n",
       "  </tbody>\n",
       "</table>\n",
       "</div>"
      ],
      "text/plain": [
       "                                   name id chr  chr_order library  dtype  \\\n",
       "loci_name                                                                  \n",
       "chr1_3742742_3759944  1:3742742-3759944  1   1          0   CTP11  combo   \n",
       "chr1_6245958_6258969  1:6245958-6258969  2   1          1   CTP11  combo   \n",
       "chr1_8740008_8759916  1:8740008-8759916  3   1          2   CTP11  combo   \n",
       "chr1_9627926_9637875  1:9627926-9637875  1   1          3   CTP13  combo   \n",
       "chr1_9799472_9811359  1:9799472-9811359  2   1          4   CTP13  combo   \n",
       "\n",
       "                     adjacent_genes_0kb_tss adjacent_genes_10kb_tss  \\\n",
       "loci_name                                                             \n",
       "chr1_3742742_3759944             intergenic              intergenic   \n",
       "chr1_6245958_6258969             intergenic              intergenic   \n",
       "chr1_8740008_8759916             intergenic              intergenic   \n",
       "chr1_9627926_9637875          2610203C22Rik           2610203C22Rik   \n",
       "chr1_9799472_9811359                 Gm6195            Gm6195; Sgk3   \n",
       "\n",
       "                     adjacent_genes_50kb_tss  \\\n",
       "loci_name                                      \n",
       "chr1_3742742_3759944              intergenic   \n",
       "chr1_6245958_6258969   4732440D04Rik; Rb1cc1   \n",
       "chr1_8740008_8759916                 Gm15452   \n",
       "chr1_9627926_9637875           2610203C22Rik   \n",
       "chr1_9799472_9811359            Gm6195; Sgk3   \n",
       "\n",
       "                                               adjacent_genes_100kb_tss  \\\n",
       "loci_name                                                                 \n",
       "chr1_3742742_3759944                                               Xkr4   \n",
       "chr1_6245958_6258969                              4732440D04Rik; Rb1cc1   \n",
       "chr1_8740008_8759916                                            Gm15452   \n",
       "chr1_9627926_9637875         2610203C22Rik; Adhfe1; Gm6161; Mybl1; Rrs1   \n",
       "chr1_9799472_9811359  1700034P13Rik; Gm6195; Mcmdc2; Mybl1; Sgk3; Vc...   \n",
       "\n",
       "                                               adjacent_genes_200kb_tss  \\\n",
       "loci_name                                                                 \n",
       "chr1_3742742_3759944                                               Xkr4   \n",
       "chr1_6245958_6258969             4732440D04Rik; Gm19026; Gm2147; Rb1cc1   \n",
       "chr1_8740008_8759916                                            Gm15452   \n",
       "chr1_9627926_9637875  1700034P13Rik; 2610203C22Rik; Adhfe1; Gm18300;...   \n",
       "chr1_9799472_9811359  1700034P13Rik; 2610203C22Rik; Gm6195; Mcmdc2; ...   \n",
       "\n",
       "                                               adjacent_genes_500kb_tss  \\\n",
       "loci_name                                                                 \n",
       "chr1_3742742_3759944                              Gm18956; Gm7341; Xkr4   \n",
       "chr1_6245958_6258969  4732440D04Rik; Gm19026; Gm2147; Npbwr1; Rb1cc1...   \n",
       "chr1_8740008_8759916                                            Gm15452   \n",
       "chr1_9627926_9637875  1700034P13Rik; 2610203C22Rik; Adhfe1; Cops5; C...   \n",
       "chr1_9799472_9811359  1700034P13Rik; 2610203C22Rik; Adhfe1; Arfgef1;...   \n",
       "\n",
       "                                              adjacent_genes_1000kb_tss  \\\n",
       "loci_name                                                                 \n",
       "chr1_3742742_3759944  Gm18956; Gm2053; Gm6085; Gm6101; Gm6119; Gm734...   \n",
       "chr1_6245958_6258969  4732440D04Rik; Gm19026; Gm2147; Gm5694; Gm7182...   \n",
       "chr1_8740008_8759916  1700034P13Rik; 2610203C22Rik; Adhfe1; Gm15452;...   \n",
       "chr1_9627926_9637875  1700034P13Rik; 2610203C22Rik; Adhfe1; Arfgef1;...   \n",
       "chr1_9799472_9811359  1700034P13Rik; 2610203C22Rik; Adhfe1; Arfgef1;...   \n",
       "\n",
       "                                              adjacent_genes_1500kb_tss  \\\n",
       "loci_name                                                                 \n",
       "chr1_3742742_3759944  Atp6v1h; Gm16041; Gm17101; Gm18956; Gm2053; Gm...   \n",
       "chr1_6245958_6258969  4732440D04Rik; Atp6v1h; Gm16041; Gm17101; Gm19...   \n",
       "chr1_8740008_8759916  1700034P13Rik; 2610203C22Rik; Adhfe1; Arfgef1;...   \n",
       "chr1_9627926_9637875  1700034P13Rik; 2610203C22Rik; Adhfe1; Arfgef1;...   \n",
       "chr1_9799472_9811359  1700034P13Rik; 2610203C22Rik; Adhfe1; Arfgef1;...   \n",
       "\n",
       "                                              adjacent_genes_2000kb_tss  \n",
       "loci_name                                                                \n",
       "chr1_3742742_3759944  Atp6v1h; Gm16041; Gm17101; Gm18956; Gm2053; Gm...  \n",
       "chr1_6245958_6258969  4732440D04Rik; Atp6v1h; Gm16041; Gm17101; Gm19...  \n",
       "chr1_8740008_8759916  1700034P13Rik; 2610203C22Rik; Adhfe1; Arfgef1;...  \n",
       "chr1_9627926_9637875  1700034P13Rik; 2610203C22Rik; A830018L16Rik; A...  \n",
       "chr1_9799472_9811359  1700034P13Rik; 2610203C22Rik; A830018L16Rik; A...  "
      ]
     },
     "execution_count": 14,
     "metadata": {},
     "output_type": "execute_result"
    }
   ],
   "source": [
    "# load codebook\n",
    "# L drive is Crick Pu_SSD_0\n",
    "codebook_save_folder=r'C:\\Users\\shiwei\\Documents\\AnalysisTool_Chromatin\\resources'\n",
    "\n",
    "# Load sorted codebook (allows direct matrix slicing) with cell type info\n",
    "# Load codebook (then sort to allow direct matrix slicing) with cell type info\n",
    "\n",
    "codebook_fname = os.path.join(codebook_save_folder,'MERFISH_loci_adjacent_genes_tss_more_res.csv')\n",
    "codebook_df = pd.read_csv (codebook_fname, index_col=0)\n",
    "\n",
    "# sort df temporailiy so matrix can be sliced by df order directly\n",
    "codebook_df = loci_1d_features.sort_loci_df_by_chr_order (codebook_df)\n",
    "\n",
    "codebook_df.head()"
   ]
  },
  {
   "cell_type": "markdown",
   "id": "11fd9023",
   "metadata": {},
   "source": [
    "## Chr2Zxys dict and medianDict\n",
    "\n",
    "Data can be generated from notebook\n",
    "\n",
    "[preprocess/2_dna_merfish/scripts/2_spot_pick/4_summarize_jie_to_dict](../../preprocess/2_dna_merfish/scripts/2_spot_pick/4_summarize_jie_to_dict.ipynb)"
   ]
  },
  {
   "cell_type": "code",
   "execution_count": 7,
   "id": "01ecd226",
   "metadata": {},
   "outputs": [],
   "source": [
    "postanalysis_folder = r'\\\\10.245.74.158\\Chromatin_NAS_8\\Analyzed_data\\MouseBrain_PostAnalysis_20230201\\MOp_WT_postanalysis\\postanalysis_vCW2_sorted'\n",
    "subclass_2_chr2Zxys_filename = os.path.join(postanalysis_folder, 'subclass_2_chr2Zxys.pkl')\n",
    "subclass_2_chr2ZxysList = pickle.load(open(subclass_2_chr2Zxys_filename, 'rb'))"
   ]
  },
  {
   "cell_type": "code",
   "execution_count": 8,
   "id": "23a74676",
   "metadata": {},
   "outputs": [
    {
     "data": {
      "text/plain": [
       "dict_keys(['Oligo', 'L5 IT', 'Micro', 'Peri', 'Endo', 'Astro', 'OPC', 'L6 CT', 'L5 ET', 'L5/6 NP', 'Pvalb', 'L6 IT', 'Lamp5', 'L6b', 'Sst', 'SMC', 'L4/5 IT', 'L2/3 IT', 'Vip', 'Sncg', 'VLMC'])"
      ]
     },
     "execution_count": 8,
     "metadata": {},
     "output_type": "execute_result"
    }
   ],
   "source": [
    "subclass_2_chr2ZxysList.keys()"
   ]
  },
  {
   "cell_type": "code",
   "execution_count": 9,
   "id": "485aa140",
   "metadata": {},
   "outputs": [],
   "source": [
    "# subclass info\n",
    "subclass_2_cellInfoList_filename = os.path.join(postanalysis_folder, 'subclass_2_cellInfo.pkl')\n",
    "subclass_2_cellInfoList = pickle.load(open(subclass_2_cellInfoList_filename, 'rb'))"
   ]
  },
  {
   "cell_type": "markdown",
   "id": "0be5877c",
   "metadata": {},
   "source": [
    "# 3. Calculate radial position for cell (dataframe version)"
   ]
  },
  {
   "cell_type": "markdown",
   "id": "d91ff95e",
   "metadata": {},
   "source": [
    "## Define functions"
   ]
  },
  {
   "cell_type": "code",
   "execution_count": 10,
   "id": "ca2d74b3",
   "metadata": {},
   "outputs": [],
   "source": [
    "from scipy.spatial.distance import euclidean, cdist, pdist\n",
    "from scipy.spatial import ConvexHull"
   ]
  },
  {
   "cell_type": "code",
   "execution_count": 11,
   "id": "db960b3d",
   "metadata": {},
   "outputs": [],
   "source": [
    "# quick get cell pts as zxy arr\n",
    "def chrZXY_to_cell_pts_arr (chrZxysList_cell:dict):\n",
    "    cell_pts = []\n",
    "    for _chrom, _chr_zxys in chrZxysList_cell.items():\n",
    "        for _fiberidx, _ichr_zxys in enumerate(_chr_zxys):\n",
    "            cell_pts.extend(_ichr_zxys)\n",
    "    return cell_pts\n",
    "    \n",
    "# generate cell pts df with region names\n",
    "from AnalysisTool_Chromatin import loci_1d_features\n",
    "importlib.reload(loci_1d_features)  \n",
    "\n",
    "def chrZXY_to_cell_pts_dataframe (chrZxysList_cell:dict, \n",
    "                                  codebook_df:pd.core.frame.DataFrame, \n",
    "                                  cellgroup = 'None'):\n",
    "    \n",
    "    output_df_list = []\n",
    "    for _chrom, _chr_zxys in chrZxysList_cell.items():\n",
    "        for _fiberidx, _ichr_zxys in enumerate(_chr_zxys):\n",
    "            _fiber_df = pd.DataFrame(_ichr_zxys,columns = ['z','x','y'],dtype=np.float64)\n",
    "            _fiber_df['chr']=_chrom\n",
    "            _fiber_df['fiberidx']=_fiberidx+1\n",
    "            # get other info from codebook\n",
    "            _info_df = codebook_df[codebook_df['chr']==_chrom].copy(deep=True)\n",
    "            _info_df = loci_1d_features.sort_loci_df_by_chr_order(_info_df)\n",
    "            _info_df['chr_order'] = _info_df['chr_order'].map(lambda x: int(x))\n",
    "            _info_df.reset_index(inplace=True) # rest index to match so cols can be assigned\n",
    "            if len(_info_df) == len(_fiber_df):\n",
    "                _fiber_df[['name','chr_order']]=_info_df[['name','chr_order']]\n",
    "            else:\n",
    "                print ('Number of loci does NOT match between input dict and codebook.')\n",
    "                #return None\n",
    "            output_df_list.append(_fiber_df)\n",
    "    \n",
    "    output_df = pd.concat(output_df_list)\n",
    "    output_df['celltype']=cellgroup\n",
    "    return output_df\n",
    "                "
   ]
  },
  {
   "cell_type": "code",
   "execution_count": 12,
   "id": "22616cdb",
   "metadata": {},
   "outputs": [
    {
     "data": {
      "text/plain": [
       "array(['1', '10', '11', '12', '13', '14', '15', '16', '17', '18', '19',\n",
       "       '2', '3', '4', '5', '6', '7', '8', '9', 'X', 'Y'], dtype=object)"
      ]
     },
     "execution_count": 12,
     "metadata": {},
     "output_type": "execute_result"
    }
   ],
   "source": [
    "np.unique(codebook_df['chr'])"
   ]
  },
  {
   "cell_type": "code",
   "execution_count": 13,
   "id": "72694330",
   "metadata": {},
   "outputs": [],
   "source": [
    "# method to get interection radius for normalization\n",
    "# convert hull center to 0,0,0 first\n",
    "def get_intersection(U,hull):\n",
    "    eq=hull.equations.T\n",
    "    V,b=eq[:-1],eq[-1]\n",
    "    alpha=-b/np.dot(U,V)\n",
    "    return U*np.full(np.array(U).shape, np.min(alpha[alpha>0]))"
   ]
  },
  {
   "cell_type": "code",
   "execution_count": 14,
   "id": "9a124b8f",
   "metadata": {},
   "outputs": [],
   "source": [
    "def Radial_position_dataframe (chr_2_zxys_list,\n",
    "                                  cell_infoList_class,\n",
    "                                 codebook_df,\n",
    "                                 #function='nanmedian', axis=0, \n",
    "                                #data_num_th=100,  # nonnan data num th for nanmedian along axis\n",
    "                                #Zxys_num_th=500,  # total nonnan data Zxys for using convex hull \n",
    "                                #summarize_result=True,\n",
    "                                 verbose=False):\n",
    "    \n",
    "    from scipy.spatial.distance import euclidean, cdist, pdist\n",
    "    from scipy.spatial import ConvexHull\n",
    "    import math\n",
    "    \n",
    "    # 1. prepare dict to store loci-2-center dist results\n",
    "    _out_cell_dict = {'uid': {},\n",
    "                      'subclass': {},      \n",
    "                      'total_spots': {},\n",
    "                      'radial_position':{}\n",
    "                     }\n",
    "    # make sure is sorted to match the order and has the loci name as index\n",
    "    codebook_df = loci_1d_features.sort_loci_df_by_chr_order (codebook_df)\n",
    "    # loop through cells\n",
    "    for _cell_idx, _cell_chr_2_zxys_dict in enumerate(chr_2_zxys_list):\n",
    "        \n",
    "        _out_cell_dict['uid'][_cell_idx] = cell_infoList_class[_cell_idx]['uid']\n",
    "        _out_cell_dict['subclass'][_cell_idx] = cell_infoList_class[_cell_idx]['subclass']\n",
    "        # 1.1. get nuclei centroid and radius\n",
    "        # 1.1. get nuclei centroid and radius\n",
    "        combined_cell_chrZxy_list = chrZXY_to_cell_pts_arr(_cell_chr_2_zxys_dict)\n",
    "        # use all non-nan points to calculate convex hull            \n",
    "        nonnan_index =np.where(np.sum(~np.isnan(combined_cell_chrZxy_list)>0,axis=1))\n",
    "        total_spots_num = len(nonnan_index[0])\n",
    "        _out_cell_dict['total_spots'][_cell_idx] = total_spots_num\n",
    "        # convex hull\n",
    "        points=np.array(combined_cell_chrZxy_list)[nonnan_index]\n",
    "        hull = ConvexHull(points)  \n",
    "        # get hull centroid\n",
    "        cz = np.mean(hull.points[hull.vertices,0])\n",
    "        cx = np.mean(hull.points[hull.vertices,1])\n",
    "        cy = np.mean(hull.points[hull.vertices,2])\n",
    "        # attention: zxy in correct order!!\n",
    "        _hull_ct_zxy = np.array([cz,cx,cy])\n",
    "        \n",
    "        # update point and hull\n",
    "        points = points - _hull_ct_zxy\n",
    "        hull = ConvexHull(points)\n",
    "\n",
    "        # 1.2. caluclate normalized dist to nuclei centroid for radial positioning if applicable\n",
    "        _cell_radial_position_dict = {#'chr': [],\n",
    "                                      #'chr_order': [],\n",
    "                                      'loci_name': [], # edit to use chr/chr_order or loci_name depending on the codebook format\n",
    "                                      'fiber_id': [],\n",
    "                                      'norm_radial_position': [],}\n",
    "        # loop through chr\n",
    "        for _chr_key in np.unique(codebook_df['chr']):\n",
    "            codebook_df_chr = codebook_df[codebook_df['chr']==_chr_key]\n",
    "            # it's possible this way, some loci will not exist in the final output, use the codebook to assign nan for these loci if so\n",
    "            # otherwise, add empty result for each chr\n",
    "            if _chr_key in _cell_chr_2_zxys_dict.keys(): \n",
    "                _chr_zxys = _cell_chr_2_zxys_dict[_chr_key]\n",
    "                ###########################################\n",
    "                # calculate normalized radial pos for each fiber\n",
    "                for _ichr_idx, _ichr_zxys in enumerate(_chr_zxys):\n",
    "                    ichr_zxys = _ichr_zxys - _hull_ct_zxy \n",
    "                    # define output\n",
    "                    _loci_2_center_list = []\n",
    "                    _loci_radius_list = []\n",
    "                    #loop through every point\n",
    "                    for _zxys in ichr_zxys:\n",
    "                        if len(np.where(np.isnan(_zxys))[0])>0:\n",
    "                            _loci_2_center_list.append(np.nan)\n",
    "                            _loci_radius_list.append(np.nan)\n",
    "                        else:\n",
    "                            _loci_2_center_list.append(euclidean(_zxys, [0,0,0]))\n",
    "                            edge_pt = get_intersection(_zxys, hull)\n",
    "                            _loci_radius_list.append(euclidean(edge_pt, [0,0,0]))\n",
    "                    # normalize each loci on the fiber\n",
    "                    _loci_2_center_list = np.array(_loci_2_center_list)/np.array(_loci_radius_list)\n",
    "                    # add result\n",
    "                    _cell_radial_position_dict['loci_name'].extend(codebook_df_chr.index)\n",
    "                    _cell_radial_position_dict['fiber_id'].extend([_ichr_idx+1]*len(codebook_df_chr))\n",
    "                    _cell_radial_position_dict['norm_radial_position'].extend(_loci_2_center_list)\n",
    "                 ##############################################\n",
    "        _out_cell_dict['radial_position'][_cell_idx] = pd.DataFrame(_cell_radial_position_dict)\n",
    "        \n",
    "    _out_cell_df = pd.DataFrame(_out_cell_dict)\n",
    "    _out_cell_df.set_index('uid', drop=True,inplace=True)\n",
    "    return _out_cell_df\n"
   ]
  },
  {
   "cell_type": "markdown",
   "id": "3fdb0cdb",
   "metadata": {},
   "source": [
    "## Process"
   ]
  },
  {
   "cell_type": "code",
   "execution_count": 45,
   "id": "8b76a62b",
   "metadata": {},
   "outputs": [
    {
     "data": {
      "text/html": [
       "<div>\n",
       "<style scoped>\n",
       "    .dataframe tbody tr th:only-of-type {\n",
       "        vertical-align: middle;\n",
       "    }\n",
       "\n",
       "    .dataframe tbody tr th {\n",
       "        vertical-align: top;\n",
       "    }\n",
       "\n",
       "    .dataframe thead th {\n",
       "        text-align: right;\n",
       "    }\n",
       "</style>\n",
       "<table border=\"1\" class=\"dataframe\">\n",
       "  <thead>\n",
       "    <tr style=\"text-align: right;\">\n",
       "      <th></th>\n",
       "      <th>subclass</th>\n",
       "      <th>total_spots</th>\n",
       "      <th>radial_position</th>\n",
       "    </tr>\n",
       "    <tr>\n",
       "      <th>uid</th>\n",
       "      <th></th>\n",
       "      <th></th>\n",
       "      <th></th>\n",
       "    </tr>\n",
       "  </thead>\n",
       "  <tbody>\n",
       "    <tr>\n",
       "      <th>146535126853720688714614085779839345592</th>\n",
       "      <td>Peri</td>\n",
       "      <td>1423</td>\n",
       "      <td>loci_name  fiber_id  norm...</td>\n",
       "    </tr>\n",
       "    <tr>\n",
       "      <th>125550627244524118102850004242680097855</th>\n",
       "      <td>Peri</td>\n",
       "      <td>172</td>\n",
       "      <td>loci_name  fiber_id  norm_...</td>\n",
       "    </tr>\n",
       "    <tr>\n",
       "      <th>36351220340074970867983016910520020206</th>\n",
       "      <td>Peri</td>\n",
       "      <td>1184</td>\n",
       "      <td>loci_name  fiber_id  norm...</td>\n",
       "    </tr>\n",
       "    <tr>\n",
       "      <th>189925718821537239617372360226094268394</th>\n",
       "      <td>Peri</td>\n",
       "      <td>1348</td>\n",
       "      <td>loci_name  fiber_id  norm...</td>\n",
       "    </tr>\n",
       "    <tr>\n",
       "      <th>336701155824180762964569319502078897172</th>\n",
       "      <td>Peri</td>\n",
       "      <td>1067</td>\n",
       "      <td>loci_name  fiber_id  norm...</td>\n",
       "    </tr>\n",
       "    <tr>\n",
       "      <th>44941500310719804279057173322640311048</th>\n",
       "      <td>Peri</td>\n",
       "      <td>185</td>\n",
       "      <td>loci_name  fiber_id  norm_...</td>\n",
       "    </tr>\n",
       "    <tr>\n",
       "      <th>35537425374731960985039793938329920228</th>\n",
       "      <td>Peri</td>\n",
       "      <td>2971</td>\n",
       "      <td>loci_name  fiber_id  norm...</td>\n",
       "    </tr>\n",
       "    <tr>\n",
       "      <th>286444965641588660267952743112952433756</th>\n",
       "      <td>Peri</td>\n",
       "      <td>866</td>\n",
       "      <td>loci_name  fiber_id  norm...</td>\n",
       "    </tr>\n",
       "    <tr>\n",
       "      <th>134687006417940118526153657302531923221</th>\n",
       "      <td>Peri</td>\n",
       "      <td>922</td>\n",
       "      <td>loci_name  fiber_id  norm...</td>\n",
       "    </tr>\n",
       "    <tr>\n",
       "      <th>46968825163419385509418192356447830937</th>\n",
       "      <td>Peri</td>\n",
       "      <td>450</td>\n",
       "      <td>loci_name  fiber_id  norm_...</td>\n",
       "    </tr>\n",
       "  </tbody>\n",
       "</table>\n",
       "</div>"
      ],
      "text/plain": [
       "                                        subclass  total_spots  \\\n",
       "uid                                                             \n",
       "146535126853720688714614085779839345592     Peri         1423   \n",
       "125550627244524118102850004242680097855     Peri          172   \n",
       "36351220340074970867983016910520020206      Peri         1184   \n",
       "189925718821537239617372360226094268394     Peri         1348   \n",
       "336701155824180762964569319502078897172     Peri         1067   \n",
       "44941500310719804279057173322640311048      Peri          185   \n",
       "35537425374731960985039793938329920228      Peri         2971   \n",
       "286444965641588660267952743112952433756     Peri          866   \n",
       "134687006417940118526153657302531923221     Peri          922   \n",
       "46968825163419385509418192356447830937      Peri          450   \n",
       "\n",
       "                                                                           radial_position  \n",
       "uid                                                                                         \n",
       "146535126853720688714614085779839345592                       loci_name  fiber_id  norm...  \n",
       "125550627244524118102850004242680097855                      loci_name  fiber_id  norm_...  \n",
       "36351220340074970867983016910520020206                        loci_name  fiber_id  norm...  \n",
       "189925718821537239617372360226094268394                       loci_name  fiber_id  norm...  \n",
       "336701155824180762964569319502078897172                       loci_name  fiber_id  norm...  \n",
       "44941500310719804279057173322640311048                       loci_name  fiber_id  norm_...  \n",
       "35537425374731960985039793938329920228                        loci_name  fiber_id  norm...  \n",
       "286444965641588660267952743112952433756                       loci_name  fiber_id  norm...  \n",
       "134687006417940118526153657302531923221                       loci_name  fiber_id  norm...  \n",
       "46968825163419385509418192356447830937                       loci_name  fiber_id  norm_...  "
      ]
     },
     "execution_count": 45,
     "metadata": {},
     "output_type": "execute_result"
    }
   ],
   "source": [
    "_class = 'Peri'\n",
    "_out_cell_df = Radial_position_dataframe (subclass_2_chr2ZxysList[_class][:10],\n",
    "                                              subclass_2_cellInfoList[_class][:10],\n",
    "                                              codebook_df)\n",
    "\n",
    "_out_cell_df"
   ]
  },
  {
   "cell_type": "code",
   "execution_count": 46,
   "id": "19155f8e",
   "metadata": {},
   "outputs": [
    {
     "data": {
      "text/html": [
       "<div>\n",
       "<style scoped>\n",
       "    .dataframe tbody tr th:only-of-type {\n",
       "        vertical-align: middle;\n",
       "    }\n",
       "\n",
       "    .dataframe tbody tr th {\n",
       "        vertical-align: top;\n",
       "    }\n",
       "\n",
       "    .dataframe thead th {\n",
       "        text-align: right;\n",
       "    }\n",
       "</style>\n",
       "<table border=\"1\" class=\"dataframe\">\n",
       "  <thead>\n",
       "    <tr style=\"text-align: right;\">\n",
       "      <th></th>\n",
       "      <th>loci_name</th>\n",
       "      <th>fiber_id</th>\n",
       "      <th>norm_radial_position</th>\n",
       "    </tr>\n",
       "  </thead>\n",
       "  <tbody>\n",
       "    <tr>\n",
       "      <th>0</th>\n",
       "      <td>chr1_3742742_3759944</td>\n",
       "      <td>1</td>\n",
       "      <td>NaN</td>\n",
       "    </tr>\n",
       "    <tr>\n",
       "      <th>1</th>\n",
       "      <td>chr1_6245958_6258969</td>\n",
       "      <td>1</td>\n",
       "      <td>NaN</td>\n",
       "    </tr>\n",
       "    <tr>\n",
       "      <th>2</th>\n",
       "      <td>chr1_8740008_8759916</td>\n",
       "      <td>1</td>\n",
       "      <td>NaN</td>\n",
       "    </tr>\n",
       "    <tr>\n",
       "      <th>3</th>\n",
       "      <td>chr1_9627926_9637875</td>\n",
       "      <td>1</td>\n",
       "      <td>0.908119</td>\n",
       "    </tr>\n",
       "    <tr>\n",
       "      <th>4</th>\n",
       "      <td>chr1_9799472_9811359</td>\n",
       "      <td>1</td>\n",
       "      <td>NaN</td>\n",
       "    </tr>\n",
       "    <tr>\n",
       "      <th>...</th>\n",
       "      <td>...</td>\n",
       "      <td>...</td>\n",
       "      <td>...</td>\n",
       "    </tr>\n",
       "    <tr>\n",
       "      <th>2902</th>\n",
       "      <td>chrX_163750534_163758706</td>\n",
       "      <td>1</td>\n",
       "      <td>0.934195</td>\n",
       "    </tr>\n",
       "    <tr>\n",
       "      <th>2903</th>\n",
       "      <td>chrX_166247682_166259932</td>\n",
       "      <td>1</td>\n",
       "      <td>NaN</td>\n",
       "    </tr>\n",
       "    <tr>\n",
       "      <th>2904</th>\n",
       "      <td>chrX_167157164_167167452</td>\n",
       "      <td>1</td>\n",
       "      <td>0.710625</td>\n",
       "    </tr>\n",
       "    <tr>\n",
       "      <th>2905</th>\n",
       "      <td>chrX_168746045_168757590</td>\n",
       "      <td>1</td>\n",
       "      <td>NaN</td>\n",
       "    </tr>\n",
       "    <tr>\n",
       "      <th>2906</th>\n",
       "      <td>chrX_169963295_170005197</td>\n",
       "      <td>1</td>\n",
       "      <td>0.782472</td>\n",
       "    </tr>\n",
       "  </tbody>\n",
       "</table>\n",
       "<p>2907 rows × 3 columns</p>\n",
       "</div>"
      ],
      "text/plain": [
       "                     loci_name  fiber_id  norm_radial_position\n",
       "0         chr1_3742742_3759944         1                   NaN\n",
       "1         chr1_6245958_6258969         1                   NaN\n",
       "2         chr1_8740008_8759916         1                   NaN\n",
       "3         chr1_9627926_9637875         1              0.908119\n",
       "4         chr1_9799472_9811359         1                   NaN\n",
       "...                        ...       ...                   ...\n",
       "2902  chrX_163750534_163758706         1              0.934195\n",
       "2903  chrX_166247682_166259932         1                   NaN\n",
       "2904  chrX_167157164_167167452         1              0.710625\n",
       "2905  chrX_168746045_168757590         1                   NaN\n",
       "2906  chrX_169963295_170005197         1              0.782472\n",
       "\n",
       "[2907 rows x 3 columns]"
      ]
     },
     "execution_count": 46,
     "metadata": {},
     "output_type": "execute_result"
    }
   ],
   "source": [
    "_out_cell_df.iloc[0]['radial_position']"
   ]
  },
  {
   "cell_type": "code",
   "execution_count": 47,
   "id": "2fb96bd8",
   "metadata": {},
   "outputs": [
    {
     "name": "stderr",
     "output_type": "stream",
     "text": [
      "\r\n",
      "  0%|                                                                                           | 0/21 [00:00<?, ?it/s]"
     ]
    },
    {
     "name": "stdout",
     "output_type": "stream",
     "text": [
      "Analyze cell hull volume for Oligo "
     ]
    },
    {
     "name": "stderr",
     "output_type": "stream",
     "text": [
      "\r\n",
      "  5%|███▊                                                                            | 1/21 [09:05<3:01:54, 545.73s/it]"
     ]
    },
    {
     "name": "stdout",
     "output_type": "stream",
     "text": [
      "in 545.729s.\n",
      "Analyze cell hull volume for L5 IT "
     ]
    },
    {
     "name": "stderr",
     "output_type": "stream",
     "text": [
      "\r\n",
      " 10%|███████▌                                                                        | 2/21 [12:55<1:54:01, 360.09s/it]"
     ]
    },
    {
     "name": "stdout",
     "output_type": "stream",
     "text": [
      "in 230.135s.\n",
      "Analyze cell hull volume for Micro "
     ]
    },
    {
     "name": "stderr",
     "output_type": "stream",
     "text": [
      "\r\n",
      " 14%|███████████▍                                                                    | 3/21 [15:12<1:17:23, 257.96s/it]"
     ]
    },
    {
     "name": "stdout",
     "output_type": "stream",
     "text": [
      "in 136.426s.\n",
      "Analyze cell hull volume for Peri "
     ]
    },
    {
     "name": "stderr",
     "output_type": "stream",
     "text": [
      "\r\n",
      " 19%|███████████████▌                                                                  | 4/21 [16:25<52:27, 185.16s/it]"
     ]
    },
    {
     "name": "stdout",
     "output_type": "stream",
     "text": [
      "in 73.563s.\n",
      "Analyze cell hull volume for Endo "
     ]
    },
    {
     "name": "stderr",
     "output_type": "stream",
     "text": [
      "\r\n",
      " 24%|███████████████████▌                                                              | 5/21 [20:04<52:34, 197.18s/it]"
     ]
    },
    {
     "name": "stdout",
     "output_type": "stream",
     "text": [
      "in 218.479s.\n",
      "Analyze cell hull volume for Astro "
     ]
    },
    {
     "name": "stderr",
     "output_type": "stream",
     "text": [
      "\r\n",
      " 29%|███████████████████████▍                                                          | 6/21 [24:39<55:54, 223.62s/it]"
     ]
    },
    {
     "name": "stdout",
     "output_type": "stream",
     "text": [
      "in 274.956s.\n",
      "Analyze cell hull volume for OPC "
     ]
    },
    {
     "name": "stderr",
     "output_type": "stream",
     "text": [
      "\r\n",
      " 33%|███████████████████████████▎                                                      | 7/21 [26:21<42:53, 183.80s/it]"
     ]
    },
    {
     "name": "stdout",
     "output_type": "stream",
     "text": [
      "in 101.800s.\n",
      "Analyze cell hull volume for L6 CT "
     ]
    },
    {
     "name": "stderr",
     "output_type": "stream",
     "text": [
      "\r\n",
      " 38%|███████████████████████████████▏                                                  | 8/21 [34:00<58:51, 271.69s/it]"
     ]
    },
    {
     "name": "stdout",
     "output_type": "stream",
     "text": [
      "in 459.871s.\n",
      "Analyze cell hull volume for L5 ET "
     ]
    },
    {
     "name": "stderr",
     "output_type": "stream",
     "text": [
      "\r\n",
      " 43%|███████████████████████████████████▏                                              | 9/21 [35:37<43:21, 216.80s/it]"
     ]
    },
    {
     "name": "stdout",
     "output_type": "stream",
     "text": [
      "in 96.108s.\n",
      "Analyze cell hull volume for L5/6 NP "
     ]
    },
    {
     "name": "stderr",
     "output_type": "stream",
     "text": [
      "\r\n",
      " 48%|██████████████████████████████████████▌                                          | 10/21 [36:37<30:54, 168.62s/it]"
     ]
    },
    {
     "name": "stdout",
     "output_type": "stream",
     "text": [
      "in 60.728s.\n",
      "Analyze cell hull volume for Pvalb "
     ]
    },
    {
     "name": "stderr",
     "output_type": "stream",
     "text": [
      "\r\n",
      " 52%|██████████████████████████████████████████▍                                      | 11/21 [38:17<24:36, 147.66s/it]"
     ]
    },
    {
     "name": "stdout",
     "output_type": "stream",
     "text": [
      "in 100.146s.\n",
      "Analyze cell hull volume for L6 IT "
     ]
    },
    {
     "name": "stderr",
     "output_type": "stream",
     "text": [
      "\r\n",
      " 57%|██████████████████████████████████████████████▎                                  | 12/21 [41:28<24:07, 160.86s/it]"
     ]
    },
    {
     "name": "stdout",
     "output_type": "stream",
     "text": [
      "in 191.044s.\n",
      "Analyze cell hull volume for Lamp5 "
     ]
    },
    {
     "name": "stderr",
     "output_type": "stream",
     "text": [
      "\r\n",
      " 62%|██████████████████████████████████████████████████▏                              | 13/21 [42:07<16:29, 123.72s/it]"
     ]
    },
    {
     "name": "stdout",
     "output_type": "stream",
     "text": [
      "in 38.260s.\n",
      "Analyze cell hull volume for L6b "
     ]
    },
    {
     "name": "stderr",
     "output_type": "stream",
     "text": [
      "\r\n",
      " 67%|██████████████████████████████████████████████████████                           | 14/21 [43:27<12:53, 110.48s/it]"
     ]
    },
    {
     "name": "stdout",
     "output_type": "stream",
     "text": [
      "in 79.878s.\n",
      "Analyze cell hull volume for Sst "
     ]
    },
    {
     "name": "stderr",
     "output_type": "stream",
     "text": [
      "\r\n",
      " 71%|██████████████████████████████████████████████████████████▌                       | 15/21 [44:41<09:57, 99.61s/it]"
     ]
    },
    {
     "name": "stdout",
     "output_type": "stream",
     "text": [
      "in 74.433s.\n",
      "Analyze cell hull volume for SMC "
     ]
    },
    {
     "name": "stderr",
     "output_type": "stream",
     "text": [
      "\r\n",
      " 76%|██████████████████████████████████████████████████████████████▍                   | 16/21 [45:18<06:44, 80.88s/it]"
     ]
    },
    {
     "name": "stdout",
     "output_type": "stream",
     "text": [
      "in 37.388s.\n",
      "Analyze cell hull volume for L4/5 IT "
     ]
    },
    {
     "name": "stderr",
     "output_type": "stream",
     "text": [
      "\r\n",
      " 81%|█████████████████████████████████████████████████████████████████▌               | 17/21 [49:36<08:56, 134.13s/it]"
     ]
    },
    {
     "name": "stdout",
     "output_type": "stream",
     "text": [
      "in 257.966s.\n",
      "Analyze cell hull volume for L2/3 IT "
     ]
    },
    {
     "name": "stderr",
     "output_type": "stream",
     "text": [
      "\r\n",
      " 86%|█████████████████████████████████████████████████████████████████████▍           | 18/21 [54:02<08:40, 173.63s/it]"
     ]
    },
    {
     "name": "stdout",
     "output_type": "stream",
     "text": [
      "in 265.576s.\n",
      "Analyze cell hull volume for Vip "
     ]
    },
    {
     "name": "stderr",
     "output_type": "stream",
     "text": [
      "\r\n",
      " 90%|█████████████████████████████████████████████████████████████████████████▎       | 19/21 [54:32<04:20, 130.48s/it]"
     ]
    },
    {
     "name": "stdout",
     "output_type": "stream",
     "text": [
      "in 29.969s.\n",
      "Analyze cell hull volume for Sncg "
     ]
    },
    {
     "name": "stderr",
     "output_type": "stream",
     "text": [
      "\r\n",
      " 95%|██████████████████████████████████████████████████████████████████████████████    | 20/21 [54:43<01:34, 94.59s/it]"
     ]
    },
    {
     "name": "stdout",
     "output_type": "stream",
     "text": [
      "in 10.933s.\n",
      "Analyze cell hull volume for VLMC "
     ]
    },
    {
     "name": "stderr",
     "output_type": "stream",
     "text": [
      "100%|█████████████████████████████████████████████████████████████████████████████████| 21/21 [55:08<00:00, 157.54s/it]"
     ]
    },
    {
     "name": "stdout",
     "output_type": "stream",
     "text": [
      "in 24.858s.\n"
     ]
    },
    {
     "name": "stderr",
     "output_type": "stream",
     "text": [
      "\n"
     ]
    },
    {
     "data": {
      "text/html": [
       "<div>\n",
       "<style scoped>\n",
       "    .dataframe tbody tr th:only-of-type {\n",
       "        vertical-align: middle;\n",
       "    }\n",
       "\n",
       "    .dataframe tbody tr th {\n",
       "        vertical-align: top;\n",
       "    }\n",
       "\n",
       "    .dataframe thead th {\n",
       "        text-align: right;\n",
       "    }\n",
       "</style>\n",
       "<table border=\"1\" class=\"dataframe\">\n",
       "  <thead>\n",
       "    <tr style=\"text-align: right;\">\n",
       "      <th></th>\n",
       "      <th>subclass</th>\n",
       "      <th>total_spots</th>\n",
       "      <th>radial_position</th>\n",
       "    </tr>\n",
       "    <tr>\n",
       "      <th>uid</th>\n",
       "      <th></th>\n",
       "      <th></th>\n",
       "      <th></th>\n",
       "    </tr>\n",
       "  </thead>\n",
       "  <tbody>\n",
       "    <tr>\n",
       "      <th>259202492748634617304623818845147108919</th>\n",
       "      <td>Oligo</td>\n",
       "      <td>863</td>\n",
       "      <td>loci_name  fiber_id  norm...</td>\n",
       "    </tr>\n",
       "    <tr>\n",
       "      <th>336074706103419484501535095917410831417</th>\n",
       "      <td>Oligo</td>\n",
       "      <td>1426</td>\n",
       "      <td>loci_name  fiber_id  norm...</td>\n",
       "    </tr>\n",
       "    <tr>\n",
       "      <th>179117357717369278884189379535888871018</th>\n",
       "      <td>Oligo</td>\n",
       "      <td>1601</td>\n",
       "      <td>loci_name  fiber_id  norm...</td>\n",
       "    </tr>\n",
       "    <tr>\n",
       "      <th>36321914521561890358202806077673807953</th>\n",
       "      <td>Oligo</td>\n",
       "      <td>210</td>\n",
       "      <td>loci_name  fiber_id  norm_...</td>\n",
       "    </tr>\n",
       "    <tr>\n",
       "      <th>92271180002801802991585284299263797402</th>\n",
       "      <td>Oligo</td>\n",
       "      <td>2034</td>\n",
       "      <td>loci_name  fiber_id  norm...</td>\n",
       "    </tr>\n",
       "    <tr>\n",
       "      <th>...</th>\n",
       "      <td>...</td>\n",
       "      <td>...</td>\n",
       "      <td>...</td>\n",
       "    </tr>\n",
       "    <tr>\n",
       "      <th>89559371323596133331060964655277765256</th>\n",
       "      <td>VLMC</td>\n",
       "      <td>584</td>\n",
       "      <td>loci_name  fiber_id  norm...</td>\n",
       "    </tr>\n",
       "    <tr>\n",
       "      <th>144314319466287448491677682735506973</th>\n",
       "      <td>VLMC</td>\n",
       "      <td>387</td>\n",
       "      <td>loci_name  fiber_id  norm_...</td>\n",
       "    </tr>\n",
       "    <tr>\n",
       "      <th>71119619609696733523981100580894538756</th>\n",
       "      <td>VLMC</td>\n",
       "      <td>734</td>\n",
       "      <td>loci_name  fiber_id  norm...</td>\n",
       "    </tr>\n",
       "    <tr>\n",
       "      <th>29724298272863708674304529591452401156</th>\n",
       "      <td>VLMC</td>\n",
       "      <td>1018</td>\n",
       "      <td>loci_name  fiber_id  norm...</td>\n",
       "    </tr>\n",
       "    <tr>\n",
       "      <th>33275521405001179248720139503657082517</th>\n",
       "      <td>VLMC</td>\n",
       "      <td>1019</td>\n",
       "      <td>loci_name  fiber_id  norm...</td>\n",
       "    </tr>\n",
       "  </tbody>\n",
       "</table>\n",
       "<p>46340 rows × 3 columns</p>\n",
       "</div>"
      ],
      "text/plain": [
       "                                        subclass  total_spots  \\\n",
       "uid                                                             \n",
       "259202492748634617304623818845147108919    Oligo          863   \n",
       "336074706103419484501535095917410831417    Oligo         1426   \n",
       "179117357717369278884189379535888871018    Oligo         1601   \n",
       "36321914521561890358202806077673807953     Oligo          210   \n",
       "92271180002801802991585284299263797402     Oligo         2034   \n",
       "...                                          ...          ...   \n",
       "89559371323596133331060964655277765256      VLMC          584   \n",
       "144314319466287448491677682735506973        VLMC          387   \n",
       "71119619609696733523981100580894538756      VLMC          734   \n",
       "29724298272863708674304529591452401156      VLMC         1018   \n",
       "33275521405001179248720139503657082517      VLMC         1019   \n",
       "\n",
       "                                                                           radial_position  \n",
       "uid                                                                                         \n",
       "259202492748634617304623818845147108919                       loci_name  fiber_id  norm...  \n",
       "336074706103419484501535095917410831417                       loci_name  fiber_id  norm...  \n",
       "179117357717369278884189379535888871018                       loci_name  fiber_id  norm...  \n",
       "36321914521561890358202806077673807953                       loci_name  fiber_id  norm_...  \n",
       "92271180002801802991585284299263797402                        loci_name  fiber_id  norm...  \n",
       "...                                                                                    ...  \n",
       "89559371323596133331060964655277765256                        loci_name  fiber_id  norm...  \n",
       "144314319466287448491677682735506973                         loci_name  fiber_id  norm_...  \n",
       "71119619609696733523981100580894538756                        loci_name  fiber_id  norm...  \n",
       "29724298272863708674304529591452401156                        loci_name  fiber_id  norm...  \n",
       "33275521405001179248720139503657082517                        loci_name  fiber_id  norm...  \n",
       "\n",
       "[46340 rows x 3 columns]"
      ]
     },
     "execution_count": 47,
     "metadata": {},
     "output_type": "execute_result"
    }
   ],
   "source": [
    "import tqdm\n",
    "_out_cell_df_list = []\n",
    "\n",
    "for _class, chr_2_zxys_list in tqdm.tqdm(subclass_2_chr2ZxysList.items()):\n",
    "    \n",
    "    print (f'Analyze cell hull volume for {_class}', end=' ')\n",
    "    cell_infoList_class = subclass_2_cellInfoList[_class]\n",
    "    \n",
    "    _start_time = time.time()\n",
    "    _out_cell_df = Radial_position_dataframe (chr_2_zxys_list,\n",
    "                                              cell_infoList_class,\n",
    "                                              codebook_df)\n",
    "    _out_cell_df_list.append(_out_cell_df)\n",
    "    print(f\"in {time.time()-_start_time:.3f}s.\")\n",
    "\n",
    "merged_radial_pos_df = pd.concat(_out_cell_df_list)\n",
    "merged_radial_pos_df"
   ]
  },
  {
   "cell_type": "code",
   "execution_count": 48,
   "id": "a8564edd",
   "metadata": {},
   "outputs": [
    {
     "data": {
      "text/html": [
       "<div>\n",
       "<style scoped>\n",
       "    .dataframe tbody tr th:only-of-type {\n",
       "        vertical-align: middle;\n",
       "    }\n",
       "\n",
       "    .dataframe tbody tr th {\n",
       "        vertical-align: top;\n",
       "    }\n",
       "\n",
       "    .dataframe thead th {\n",
       "        text-align: right;\n",
       "    }\n",
       "</style>\n",
       "<table border=\"1\" class=\"dataframe\">\n",
       "  <thead>\n",
       "    <tr style=\"text-align: right;\">\n",
       "      <th></th>\n",
       "      <th>loci_name</th>\n",
       "      <th>fiber_id</th>\n",
       "      <th>norm_radial_position</th>\n",
       "    </tr>\n",
       "  </thead>\n",
       "  <tbody>\n",
       "    <tr>\n",
       "      <th>0</th>\n",
       "      <td>chr1_3742742_3759944</td>\n",
       "      <td>1</td>\n",
       "      <td>0.663333</td>\n",
       "    </tr>\n",
       "    <tr>\n",
       "      <th>1</th>\n",
       "      <td>chr1_6245958_6258969</td>\n",
       "      <td>1</td>\n",
       "      <td>NaN</td>\n",
       "    </tr>\n",
       "    <tr>\n",
       "      <th>2</th>\n",
       "      <td>chr1_8740008_8759916</td>\n",
       "      <td>1</td>\n",
       "      <td>NaN</td>\n",
       "    </tr>\n",
       "    <tr>\n",
       "      <th>3</th>\n",
       "      <td>chr1_9627926_9637875</td>\n",
       "      <td>1</td>\n",
       "      <td>NaN</td>\n",
       "    </tr>\n",
       "    <tr>\n",
       "      <th>4</th>\n",
       "      <td>chr1_9799472_9811359</td>\n",
       "      <td>1</td>\n",
       "      <td>0.389658</td>\n",
       "    </tr>\n",
       "    <tr>\n",
       "      <th>...</th>\n",
       "      <td>...</td>\n",
       "      <td>...</td>\n",
       "      <td>...</td>\n",
       "    </tr>\n",
       "    <tr>\n",
       "      <th>1803</th>\n",
       "      <td>chr9_118751319_118759956</td>\n",
       "      <td>1</td>\n",
       "      <td>NaN</td>\n",
       "    </tr>\n",
       "    <tr>\n",
       "      <th>1804</th>\n",
       "      <td>chr9_119425689_119434008</td>\n",
       "      <td>1</td>\n",
       "      <td>0.545641</td>\n",
       "    </tr>\n",
       "    <tr>\n",
       "      <th>1805</th>\n",
       "      <td>chr9_121252615_121259973</td>\n",
       "      <td>1</td>\n",
       "      <td>NaN</td>\n",
       "    </tr>\n",
       "    <tr>\n",
       "      <th>1806</th>\n",
       "      <td>chr9_123457587_123467505</td>\n",
       "      <td>1</td>\n",
       "      <td>NaN</td>\n",
       "    </tr>\n",
       "    <tr>\n",
       "      <th>1807</th>\n",
       "      <td>chr9_123741973_123759929</td>\n",
       "      <td>1</td>\n",
       "      <td>NaN</td>\n",
       "    </tr>\n",
       "  </tbody>\n",
       "</table>\n",
       "<p>1808 rows × 3 columns</p>\n",
       "</div>"
      ],
      "text/plain": [
       "                     loci_name  fiber_id  norm_radial_position\n",
       "0         chr1_3742742_3759944         1              0.663333\n",
       "1         chr1_6245958_6258969         1                   NaN\n",
       "2         chr1_8740008_8759916         1                   NaN\n",
       "3         chr1_9627926_9637875         1                   NaN\n",
       "4         chr1_9799472_9811359         1              0.389658\n",
       "...                        ...       ...                   ...\n",
       "1803  chr9_118751319_118759956         1                   NaN\n",
       "1804  chr9_119425689_119434008         1              0.545641\n",
       "1805  chr9_121252615_121259973         1                   NaN\n",
       "1806  chr9_123457587_123467505         1                   NaN\n",
       "1807  chr9_123741973_123759929         1                   NaN\n",
       "\n",
       "[1808 rows x 3 columns]"
      ]
     },
     "execution_count": 48,
     "metadata": {},
     "output_type": "execute_result"
    }
   ],
   "source": [
    "merged_radial_pos_df.iloc[0]['radial_position']"
   ]
  },
  {
   "cell_type": "markdown",
   "id": "410145ae",
   "metadata": {},
   "source": [
    "## Save"
   ]
  },
  {
   "cell_type": "code",
   "execution_count": 49,
   "id": "da011dcf",
   "metadata": {},
   "outputs": [
    {
     "name": "stderr",
     "output_type": "stream",
     "text": [
      "C:\\Users\\shiwei\\AppData\\Local\\Temp\\2\\ipykernel_31136\\3413044594.py:5: PerformanceWarning: \n",
      "your performance may suffer as PyTables will pickle object types that it cannot\n",
      "map directly to c-types [inferred_type->mixed,key->block1_values] [items->Index(['subclass', 'radial_position'], dtype='object')]\n",
      "\n",
      "  merged_radial_pos_df.to_hdf(output_fname, key='df', mode='w')\n"
     ]
    }
   ],
   "source": [
    "# below will compress the radial position df to str; do hdf5 save instead\n",
    "#output_fname = os.path.join(output_analysis_folder, f'radial_pos_convexhull_bysubclass.csv')\n",
    "#merged_radial_pos_df.to_csv(output_fname)\n",
    "output_fname = os.path.join(output_analysis_folder, f'radial_pos_convexhull_bysubclass_v2.h5')\n",
    "merged_radial_pos_df.to_hdf(output_fname, key='df', mode='w')"
   ]
  },
  {
   "cell_type": "markdown",
   "id": "e2f32250",
   "metadata": {},
   "source": [
    "## Load"
   ]
  },
  {
   "cell_type": "code",
   "execution_count": 6,
   "id": "ee57f7d9",
   "metadata": {},
   "outputs": [
    {
     "data": {
      "text/html": [
       "<div>\n",
       "<style scoped>\n",
       "    .dataframe tbody tr th:only-of-type {\n",
       "        vertical-align: middle;\n",
       "    }\n",
       "\n",
       "    .dataframe tbody tr th {\n",
       "        vertical-align: top;\n",
       "    }\n",
       "\n",
       "    .dataframe thead th {\n",
       "        text-align: right;\n",
       "    }\n",
       "</style>\n",
       "<table border=\"1\" class=\"dataframe\">\n",
       "  <thead>\n",
       "    <tr style=\"text-align: right;\">\n",
       "      <th></th>\n",
       "      <th>subclass</th>\n",
       "      <th>total_spots</th>\n",
       "      <th>radial_position</th>\n",
       "    </tr>\n",
       "    <tr>\n",
       "      <th>uid</th>\n",
       "      <th></th>\n",
       "      <th></th>\n",
       "      <th></th>\n",
       "    </tr>\n",
       "  </thead>\n",
       "  <tbody>\n",
       "    <tr>\n",
       "      <th>259202492748634617304623818845147108919</th>\n",
       "      <td>Oligo</td>\n",
       "      <td>863</td>\n",
       "      <td>loci_name  fiber_id  norm...</td>\n",
       "    </tr>\n",
       "    <tr>\n",
       "      <th>336074706103419484501535095917410831417</th>\n",
       "      <td>Oligo</td>\n",
       "      <td>1426</td>\n",
       "      <td>loci_name  fiber_id  norm...</td>\n",
       "    </tr>\n",
       "    <tr>\n",
       "      <th>179117357717369278884189379535888871018</th>\n",
       "      <td>Oligo</td>\n",
       "      <td>1601</td>\n",
       "      <td>loci_name  fiber_id  norm...</td>\n",
       "    </tr>\n",
       "    <tr>\n",
       "      <th>36321914521561890358202806077673807953</th>\n",
       "      <td>Oligo</td>\n",
       "      <td>210</td>\n",
       "      <td>loci_name  fiber_id  norm_...</td>\n",
       "    </tr>\n",
       "    <tr>\n",
       "      <th>92271180002801802991585284299263797402</th>\n",
       "      <td>Oligo</td>\n",
       "      <td>2034</td>\n",
       "      <td>loci_name  fiber_id  norm...</td>\n",
       "    </tr>\n",
       "  </tbody>\n",
       "</table>\n",
       "</div>"
      ],
      "text/plain": [
       "                                        subclass  total_spots  \\\n",
       "uid                                                             \n",
       "259202492748634617304623818845147108919    Oligo          863   \n",
       "336074706103419484501535095917410831417    Oligo         1426   \n",
       "179117357717369278884189379535888871018    Oligo         1601   \n",
       "36321914521561890358202806077673807953     Oligo          210   \n",
       "92271180002801802991585284299263797402     Oligo         2034   \n",
       "\n",
       "                                                                           radial_position  \n",
       "uid                                                                                         \n",
       "259202492748634617304623818845147108919                       loci_name  fiber_id  norm...  \n",
       "336074706103419484501535095917410831417                       loci_name  fiber_id  norm...  \n",
       "179117357717369278884189379535888871018                       loci_name  fiber_id  norm...  \n",
       "36321914521561890358202806077673807953                       loci_name  fiber_id  norm_...  \n",
       "92271180002801802991585284299263797402                        loci_name  fiber_id  norm...  "
      ]
     },
     "execution_count": 6,
     "metadata": {},
     "output_type": "execute_result"
    }
   ],
   "source": [
    "output_fname = os.path.join(output_analysis_folder, f'radial_pos_convexhull_bysubclass_v2.h5')\n",
    "\n",
    "merged_radial_pos_df = pd.read_hdf(output_fname)\n",
    "merged_radial_pos_df.head()"
   ]
  },
  {
   "cell_type": "code",
   "execution_count": 7,
   "id": "b2d53c1b",
   "metadata": {},
   "outputs": [
    {
     "data": {
      "text/html": [
       "<div>\n",
       "<style scoped>\n",
       "    .dataframe tbody tr th:only-of-type {\n",
       "        vertical-align: middle;\n",
       "    }\n",
       "\n",
       "    .dataframe tbody tr th {\n",
       "        vertical-align: top;\n",
       "    }\n",
       "\n",
       "    .dataframe thead th {\n",
       "        text-align: right;\n",
       "    }\n",
       "</style>\n",
       "<table border=\"1\" class=\"dataframe\">\n",
       "  <thead>\n",
       "    <tr style=\"text-align: right;\">\n",
       "      <th></th>\n",
       "      <th>loci_name</th>\n",
       "      <th>fiber_id</th>\n",
       "      <th>norm_radial_position</th>\n",
       "    </tr>\n",
       "  </thead>\n",
       "  <tbody>\n",
       "    <tr>\n",
       "      <th>0</th>\n",
       "      <td>chr1_3742742_3759944</td>\n",
       "      <td>1</td>\n",
       "      <td>0.663333</td>\n",
       "    </tr>\n",
       "    <tr>\n",
       "      <th>1</th>\n",
       "      <td>chr1_6245958_6258969</td>\n",
       "      <td>1</td>\n",
       "      <td>NaN</td>\n",
       "    </tr>\n",
       "    <tr>\n",
       "      <th>2</th>\n",
       "      <td>chr1_8740008_8759916</td>\n",
       "      <td>1</td>\n",
       "      <td>NaN</td>\n",
       "    </tr>\n",
       "    <tr>\n",
       "      <th>3</th>\n",
       "      <td>chr1_9627926_9637875</td>\n",
       "      <td>1</td>\n",
       "      <td>NaN</td>\n",
       "    </tr>\n",
       "    <tr>\n",
       "      <th>4</th>\n",
       "      <td>chr1_9799472_9811359</td>\n",
       "      <td>1</td>\n",
       "      <td>0.389658</td>\n",
       "    </tr>\n",
       "    <tr>\n",
       "      <th>...</th>\n",
       "      <td>...</td>\n",
       "      <td>...</td>\n",
       "      <td>...</td>\n",
       "    </tr>\n",
       "    <tr>\n",
       "      <th>1803</th>\n",
       "      <td>chr9_118751319_118759956</td>\n",
       "      <td>1</td>\n",
       "      <td>NaN</td>\n",
       "    </tr>\n",
       "    <tr>\n",
       "      <th>1804</th>\n",
       "      <td>chr9_119425689_119434008</td>\n",
       "      <td>1</td>\n",
       "      <td>0.545641</td>\n",
       "    </tr>\n",
       "    <tr>\n",
       "      <th>1805</th>\n",
       "      <td>chr9_121252615_121259973</td>\n",
       "      <td>1</td>\n",
       "      <td>NaN</td>\n",
       "    </tr>\n",
       "    <tr>\n",
       "      <th>1806</th>\n",
       "      <td>chr9_123457587_123467505</td>\n",
       "      <td>1</td>\n",
       "      <td>NaN</td>\n",
       "    </tr>\n",
       "    <tr>\n",
       "      <th>1807</th>\n",
       "      <td>chr9_123741973_123759929</td>\n",
       "      <td>1</td>\n",
       "      <td>NaN</td>\n",
       "    </tr>\n",
       "  </tbody>\n",
       "</table>\n",
       "<p>1808 rows × 3 columns</p>\n",
       "</div>"
      ],
      "text/plain": [
       "                     loci_name  fiber_id  norm_radial_position\n",
       "0         chr1_3742742_3759944         1              0.663333\n",
       "1         chr1_6245958_6258969         1                   NaN\n",
       "2         chr1_8740008_8759916         1                   NaN\n",
       "3         chr1_9627926_9637875         1                   NaN\n",
       "4         chr1_9799472_9811359         1              0.389658\n",
       "...                        ...       ...                   ...\n",
       "1803  chr9_118751319_118759956         1                   NaN\n",
       "1804  chr9_119425689_119434008         1              0.545641\n",
       "1805  chr9_121252615_121259973         1                   NaN\n",
       "1806  chr9_123457587_123467505         1                   NaN\n",
       "1807  chr9_123741973_123759929         1                   NaN\n",
       "\n",
       "[1808 rows x 3 columns]"
      ]
     },
     "execution_count": 7,
     "metadata": {},
     "output_type": "execute_result"
    }
   ],
   "source": [
    "merged_radial_pos_df.iloc[0]['radial_position']"
   ]
  },
  {
   "cell_type": "markdown",
   "id": "b081b50a",
   "metadata": {},
   "source": [
    "# 4. Summarize for median of average and Plot"
   ]
  },
  {
   "cell_type": "code",
   "execution_count": 10,
   "id": "8d53136c",
   "metadata": {},
   "outputs": [
    {
     "data": {
      "text/plain": [
       "array(['Astro', 'Endo', 'L2/3 IT', 'L4/5 IT', 'L5 ET', 'L5 IT', 'L5/6 NP',\n",
       "       'L6 CT', 'L6 IT', 'L6b', 'Lamp5', 'Micro', 'OPC', 'Oligo', 'Peri',\n",
       "       'Pvalb', 'SMC', 'Sncg', 'Sst', 'VLMC', 'Vip'], dtype=object)"
      ]
     },
     "execution_count": 10,
     "metadata": {},
     "output_type": "execute_result"
    }
   ],
   "source": [
    "np.unique(merged_radial_pos_df['subclass'])"
   ]
  },
  {
   "cell_type": "code",
   "execution_count": 8,
   "id": "9813cbb1",
   "metadata": {},
   "outputs": [],
   "source": [
    "# extract radial pos from the summary df\n",
    "def average_radial_pos_from_summary_df (celltype_radial_pos_df):\n",
    "    _cell_radial_pos_list=[]\n",
    "    for _cell_idx in range(len(celltype_radial_pos_df)):\n",
    "        _cell_radial_pos = celltype_radial_pos_df.iloc[_cell_idx]['radial_position']\n",
    "        _cell_radial_pos_summary = pd.DataFrame(_cell_radial_pos.groupby(by='loci_name')['norm_radial_position'].mean())\n",
    "        _cell_radial_pos_summary['uid'] = celltype_radial_pos_df.iloc[_cell_idx].name\n",
    "        _cell_radial_pos_list.append(_cell_radial_pos_summary)\n",
    "\n",
    "    celltype_radial_pos_summary=pd.concat(_cell_radial_pos_list)\n",
    "    return celltype_radial_pos_summary"
   ]
  },
  {
   "cell_type": "code",
   "execution_count": 12,
   "id": "0a05983e",
   "metadata": {},
   "outputs": [
    {
     "data": {
      "text/html": [
       "<div>\n",
       "<style scoped>\n",
       "    .dataframe tbody tr th:only-of-type {\n",
       "        vertical-align: middle;\n",
       "    }\n",
       "\n",
       "    .dataframe tbody tr th {\n",
       "        vertical-align: top;\n",
       "    }\n",
       "\n",
       "    .dataframe thead th {\n",
       "        text-align: right;\n",
       "    }\n",
       "</style>\n",
       "<table border=\"1\" class=\"dataframe\">\n",
       "  <thead>\n",
       "    <tr style=\"text-align: right;\">\n",
       "      <th></th>\n",
       "      <th>subclass</th>\n",
       "      <th>total_spots</th>\n",
       "      <th>radial_position</th>\n",
       "    </tr>\n",
       "    <tr>\n",
       "      <th>uid</th>\n",
       "      <th></th>\n",
       "      <th></th>\n",
       "      <th></th>\n",
       "    </tr>\n",
       "  </thead>\n",
       "  <tbody>\n",
       "    <tr>\n",
       "      <th>259202492748634617304623818845147108919</th>\n",
       "      <td>Oligo</td>\n",
       "      <td>863</td>\n",
       "      <td>loci_name  fiber_id  norm...</td>\n",
       "    </tr>\n",
       "    <tr>\n",
       "      <th>336074706103419484501535095917410831417</th>\n",
       "      <td>Oligo</td>\n",
       "      <td>1426</td>\n",
       "      <td>loci_name  fiber_id  norm...</td>\n",
       "    </tr>\n",
       "    <tr>\n",
       "      <th>179117357717369278884189379535888871018</th>\n",
       "      <td>Oligo</td>\n",
       "      <td>1601</td>\n",
       "      <td>loci_name  fiber_id  norm...</td>\n",
       "    </tr>\n",
       "    <tr>\n",
       "      <th>92271180002801802991585284299263797402</th>\n",
       "      <td>Oligo</td>\n",
       "      <td>2034</td>\n",
       "      <td>loci_name  fiber_id  norm...</td>\n",
       "    </tr>\n",
       "    <tr>\n",
       "      <th>237111112842863990529297306931448726772</th>\n",
       "      <td>Oligo</td>\n",
       "      <td>942</td>\n",
       "      <td>loci_name  fiber_id  norm...</td>\n",
       "    </tr>\n",
       "    <tr>\n",
       "      <th>...</th>\n",
       "      <td>...</td>\n",
       "      <td>...</td>\n",
       "      <td>...</td>\n",
       "    </tr>\n",
       "    <tr>\n",
       "      <th>245342798166567655308810294286385442992</th>\n",
       "      <td>VLMC</td>\n",
       "      <td>1613</td>\n",
       "      <td>loci_name  fiber_id  norm...</td>\n",
       "    </tr>\n",
       "    <tr>\n",
       "      <th>121463809145385827894569077562457697797</th>\n",
       "      <td>VLMC</td>\n",
       "      <td>913</td>\n",
       "      <td>loci_name  fiber_id  norm...</td>\n",
       "    </tr>\n",
       "    <tr>\n",
       "      <th>71119619609696733523981100580894538756</th>\n",
       "      <td>VLMC</td>\n",
       "      <td>734</td>\n",
       "      <td>loci_name  fiber_id  norm...</td>\n",
       "    </tr>\n",
       "    <tr>\n",
       "      <th>29724298272863708674304529591452401156</th>\n",
       "      <td>VLMC</td>\n",
       "      <td>1018</td>\n",
       "      <td>loci_name  fiber_id  norm...</td>\n",
       "    </tr>\n",
       "    <tr>\n",
       "      <th>33275521405001179248720139503657082517</th>\n",
       "      <td>VLMC</td>\n",
       "      <td>1019</td>\n",
       "      <td>loci_name  fiber_id  norm...</td>\n",
       "    </tr>\n",
       "  </tbody>\n",
       "</table>\n",
       "<p>23698 rows × 3 columns</p>\n",
       "</div>"
      ],
      "text/plain": [
       "                                        subclass  total_spots  \\\n",
       "uid                                                             \n",
       "259202492748634617304623818845147108919    Oligo          863   \n",
       "336074706103419484501535095917410831417    Oligo         1426   \n",
       "179117357717369278884189379535888871018    Oligo         1601   \n",
       "92271180002801802991585284299263797402     Oligo         2034   \n",
       "237111112842863990529297306931448726772    Oligo          942   \n",
       "...                                          ...          ...   \n",
       "245342798166567655308810294286385442992     VLMC         1613   \n",
       "121463809145385827894569077562457697797     VLMC          913   \n",
       "71119619609696733523981100580894538756      VLMC          734   \n",
       "29724298272863708674304529591452401156      VLMC         1018   \n",
       "33275521405001179248720139503657082517      VLMC         1019   \n",
       "\n",
       "                                                                           radial_position  \n",
       "uid                                                                                         \n",
       "259202492748634617304623818845147108919                       loci_name  fiber_id  norm...  \n",
       "336074706103419484501535095917410831417                       loci_name  fiber_id  norm...  \n",
       "179117357717369278884189379535888871018                       loci_name  fiber_id  norm...  \n",
       "92271180002801802991585284299263797402                        loci_name  fiber_id  norm...  \n",
       "237111112842863990529297306931448726772                       loci_name  fiber_id  norm...  \n",
       "...                                                                                    ...  \n",
       "245342798166567655308810294286385442992                       loci_name  fiber_id  norm...  \n",
       "121463809145385827894569077562457697797                       loci_name  fiber_id  norm...  \n",
       "71119619609696733523981100580894538756                        loci_name  fiber_id  norm...  \n",
       "29724298272863708674304529591452401156                        loci_name  fiber_id  norm...  \n",
       "33275521405001179248720139503657082517                        loci_name  fiber_id  norm...  \n",
       "\n",
       "[23698 rows x 3 columns]"
      ]
     },
     "execution_count": 12,
     "metadata": {},
     "output_type": "execute_result"
    }
   ],
   "source": [
    "selected_cell_labels = ['L2/3 IT','L4/5 IT','L5 IT','L6 IT','L5 ET','L5/6 NP','L6 CT','L6b',\n",
    "                           'Sst','Pvalb','Lamp5','Sncg','Vip',\n",
    "                           'Astro','Oligo','OPC','Micro','Endo','VLMC','SMC','Peri', \n",
    "                           #'other',\n",
    "                          ]\n",
    "\n",
    "celltype_palette = {'Astro':'lightcoral', \n",
    "                    'Endo':'skyblue', \n",
    "                    'L2/3 IT':'gold', \n",
    "                    'L4/5 IT':'darkorange', \n",
    "                    'L5 ET':'mediumseagreen', \n",
    "                    'L5 IT':'aqua',\n",
    "                    'L5/6 NP':'darkgreen',\n",
    "                    'L6 CT':'brown',\n",
    "                    'L6 IT':'magenta',\n",
    "                    'L6b':'blue', \n",
    "                    'Lamp5':'orange', \n",
    "                    'Micro':'peachpuff',\n",
    "                    'OPC':'thistle', \n",
    "                    'Oligo':'darkviolet',\n",
    "                    'Peri':'sandybrown',\n",
    "                    'Pvalb':'springgreen',\n",
    "                    'SMC':'rosybrown',\n",
    "                    'Sncg':'darkkhaki',\n",
    "                    'Sst':'steelblue', \n",
    "                    'VLMC':'saddlebrown', \n",
    "                    'Vip':'red',\n",
    "                    'other':'slategray'}\n",
    "\n",
    "\n",
    "sel_merged_radial_pos_df = merged_radial_pos_df[merged_radial_pos_df['subclass'].isin(selected_cell_labels)]\n",
    "\n",
    "#min_pts_th =1200\n",
    "min_pts_th = 600\n",
    "max_pts_th =3900\n",
    "# sort plotting order by meadian of groups\n",
    "df_plot = sel_merged_radial_pos_df[(sel_merged_radial_pos_df['total_spots']>=min_pts_th)&(sel_merged_radial_pos_df['total_spots']<max_pts_th)]\n",
    "df_plot"
   ]
  },
  {
   "cell_type": "markdown",
   "id": "e301f621",
   "metadata": {},
   "source": [
    "## Summarize"
   ]
  },
  {
   "cell_type": "code",
   "execution_count": 15,
   "id": "10f5bef8",
   "metadata": {},
   "outputs": [
    {
     "name": "stderr",
     "output_type": "stream",
     "text": [
      "21it [03:50, 10.97s/it]\n"
     ]
    },
    {
     "data": {
      "text/html": [
       "<div>\n",
       "<style scoped>\n",
       "    .dataframe tbody tr th:only-of-type {\n",
       "        vertical-align: middle;\n",
       "    }\n",
       "\n",
       "    .dataframe tbody tr th {\n",
       "        vertical-align: top;\n",
       "    }\n",
       "\n",
       "    .dataframe thead th {\n",
       "        text-align: right;\n",
       "    }\n",
       "</style>\n",
       "<table border=\"1\" class=\"dataframe\">\n",
       "  <thead>\n",
       "    <tr style=\"text-align: right;\">\n",
       "      <th></th>\n",
       "      <th>chr</th>\n",
       "      <th>chr_order</th>\n",
       "      <th>norm_radial_position</th>\n",
       "      <th>total_cell</th>\n",
       "      <th>subclass</th>\n",
       "    </tr>\n",
       "    <tr>\n",
       "      <th>loci_name</th>\n",
       "      <th></th>\n",
       "      <th></th>\n",
       "      <th></th>\n",
       "      <th></th>\n",
       "      <th></th>\n",
       "    </tr>\n",
       "  </thead>\n",
       "  <tbody>\n",
       "    <tr>\n",
       "      <th>chr1_3742742_3759944</th>\n",
       "      <td>1</td>\n",
       "      <td>0</td>\n",
       "      <td>0.860136</td>\n",
       "      <td>1022.0</td>\n",
       "      <td>L2/3 IT</td>\n",
       "    </tr>\n",
       "    <tr>\n",
       "      <th>chr1_6245958_6258969</th>\n",
       "      <td>1</td>\n",
       "      <td>1</td>\n",
       "      <td>0.855358</td>\n",
       "      <td>969.0</td>\n",
       "      <td>L2/3 IT</td>\n",
       "    </tr>\n",
       "    <tr>\n",
       "      <th>chr1_8740008_8759916</th>\n",
       "      <td>1</td>\n",
       "      <td>2</td>\n",
       "      <td>0.850017</td>\n",
       "      <td>628.0</td>\n",
       "      <td>L2/3 IT</td>\n",
       "    </tr>\n",
       "    <tr>\n",
       "      <th>chr1_9627926_9637875</th>\n",
       "      <td>1</td>\n",
       "      <td>3</td>\n",
       "      <td>0.839728</td>\n",
       "      <td>960.0</td>\n",
       "      <td>L2/3 IT</td>\n",
       "    </tr>\n",
       "    <tr>\n",
       "      <th>chr1_9799472_9811359</th>\n",
       "      <td>1</td>\n",
       "      <td>4</td>\n",
       "      <td>0.826204</td>\n",
       "      <td>900.0</td>\n",
       "      <td>L2/3 IT</td>\n",
       "    </tr>\n",
       "    <tr>\n",
       "      <th>...</th>\n",
       "      <td>...</td>\n",
       "      <td>...</td>\n",
       "      <td>...</td>\n",
       "      <td>...</td>\n",
       "      <td>...</td>\n",
       "    </tr>\n",
       "    <tr>\n",
       "      <th>chrX_166247682_166259932</th>\n",
       "      <td>X</td>\n",
       "      <td>60</td>\n",
       "      <td>0.812004</td>\n",
       "      <td>137.0</td>\n",
       "      <td>Peri</td>\n",
       "    </tr>\n",
       "    <tr>\n",
       "      <th>chrX_167157164_167167452</th>\n",
       "      <td>X</td>\n",
       "      <td>61</td>\n",
       "      <td>0.734733</td>\n",
       "      <td>145.0</td>\n",
       "      <td>Peri</td>\n",
       "    </tr>\n",
       "    <tr>\n",
       "      <th>chrX_168746045_168757590</th>\n",
       "      <td>X</td>\n",
       "      <td>62</td>\n",
       "      <td>0.765202</td>\n",
       "      <td>134.0</td>\n",
       "      <td>Peri</td>\n",
       "    </tr>\n",
       "    <tr>\n",
       "      <th>chrX_169963295_170005197</th>\n",
       "      <td>X</td>\n",
       "      <td>63</td>\n",
       "      <td>0.739534</td>\n",
       "      <td>196.0</td>\n",
       "      <td>Peri</td>\n",
       "    </tr>\n",
       "    <tr>\n",
       "      <th>chrY_1245775_1259992</th>\n",
       "      <td>Y</td>\n",
       "      <td>0</td>\n",
       "      <td>NaN</td>\n",
       "      <td>NaN</td>\n",
       "      <td>Peri</td>\n",
       "    </tr>\n",
       "  </tbody>\n",
       "</table>\n",
       "<p>41622 rows × 5 columns</p>\n",
       "</div>"
      ],
      "text/plain": [
       "                         chr  chr_order  norm_radial_position  total_cell  \\\n",
       "loci_name                                                                   \n",
       "chr1_3742742_3759944       1          0              0.860136      1022.0   \n",
       "chr1_6245958_6258969       1          1              0.855358       969.0   \n",
       "chr1_8740008_8759916       1          2              0.850017       628.0   \n",
       "chr1_9627926_9637875       1          3              0.839728       960.0   \n",
       "chr1_9799472_9811359       1          4              0.826204       900.0   \n",
       "...                       ..        ...                   ...         ...   \n",
       "chrX_166247682_166259932   X         60              0.812004       137.0   \n",
       "chrX_167157164_167167452   X         61              0.734733       145.0   \n",
       "chrX_168746045_168757590   X         62              0.765202       134.0   \n",
       "chrX_169963295_170005197   X         63              0.739534       196.0   \n",
       "chrY_1245775_1259992       Y          0                   NaN         NaN   \n",
       "\n",
       "                         subclass  \n",
       "loci_name                          \n",
       "chr1_3742742_3759944      L2/3 IT  \n",
       "chr1_6245958_6258969      L2/3 IT  \n",
       "chr1_8740008_8759916      L2/3 IT  \n",
       "chr1_9627926_9637875      L2/3 IT  \n",
       "chr1_9799472_9811359      L2/3 IT  \n",
       "...                           ...  \n",
       "chrX_166247682_166259932     Peri  \n",
       "chrX_167157164_167167452     Peri  \n",
       "chrX_168746045_168757590     Peri  \n",
       "chrX_169963295_170005197     Peri  \n",
       "chrY_1245775_1259992         Peri  \n",
       "\n",
       "[41622 rows x 5 columns]"
      ]
     },
     "execution_count": 15,
     "metadata": {},
     "output_type": "execute_result"
    }
   ],
   "source": [
    "import tqdm\n",
    "sorted_median_radial_pos_list = []\n",
    "for _class_ind, _class in tqdm.tqdm(enumerate(selected_cell_labels)):\n",
    "    #fig, ax = plt.subplots(figsize=(_single_col_width*3, _single_col_width), dpi=200)\n",
    "    celltype_radial_pos_df = df_plot[df_plot['subclass']==_class]\n",
    "    celltype_radial_pos_summary = average_radial_pos_from_summary_df (celltype_radial_pos_df)\n",
    "    median_radial_pos = pd.DataFrame(celltype_radial_pos_summary.groupby(by='loci_name')['norm_radial_position'].median())\n",
    "    sorted_median_radial_pos = codebook_df[['chr','chr_order']].copy(deep=True)\n",
    "    sorted_median_radial_pos['norm_radial_position'] = median_radial_pos['norm_radial_position']\n",
    "    sorted_median_radial_pos['total_cell'] = celltype_radial_pos_summary.groupby(by='loci_name')['norm_radial_position'].count()\n",
    "    sorted_median_radial_pos['subclass'] = _class\n",
    "    sorted_median_radial_pos_list.append(sorted_median_radial_pos)\n",
    "    \n",
    "sorted_median_radial_pos_all = pd.concat(sorted_median_radial_pos_list)\n",
    "sorted_median_radial_pos_all"
   ]
  },
  {
   "cell_type": "markdown",
   "id": "cf3dca2b",
   "metadata": {},
   "source": [
    "## Save"
   ]
  },
  {
   "cell_type": "code",
   "execution_count": 16,
   "id": "813c2137",
   "metadata": {},
   "outputs": [],
   "source": [
    "output_fname = os.path.join(output_analysis_folder, f'radial_pos_convexhull_median_summary_{min_pts_th}pts_bysubclass_v2.csv')\n",
    "sorted_median_radial_pos_all.to_csv(output_fname)"
   ]
  }
 ],
 "metadata": {
  "kernelspec": {
   "display_name": "Python 3 (ipykernel)",
   "language": "python",
   "name": "python3"
  },
  "language_info": {
   "codemirror_mode": {
    "name": "ipython",
    "version": 3
   },
   "file_extension": ".py",
   "mimetype": "text/x-python",
   "name": "python",
   "nbconvert_exporter": "python",
   "pygments_lexer": "ipython3",
   "version": "3.10.8"
  },
  "toc": {
   "base_numbering": 1,
   "nav_menu": {},
   "number_sections": false,
   "sideBar": true,
   "skip_h1_title": false,
   "title_cell": "Table of Contents",
   "title_sidebar": "Contents",
   "toc_cell": false,
   "toc_position": {},
   "toc_section_display": true,
   "toc_window_display": true
  }
 },
 "nbformat": 4,
 "nbformat_minor": 5
}
