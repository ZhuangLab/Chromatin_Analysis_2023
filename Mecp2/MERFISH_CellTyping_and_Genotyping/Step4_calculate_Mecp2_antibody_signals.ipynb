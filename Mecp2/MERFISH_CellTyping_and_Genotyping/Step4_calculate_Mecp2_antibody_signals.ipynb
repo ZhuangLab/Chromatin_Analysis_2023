{
 "cells": [
  {
   "cell_type": "code",
   "execution_count": 1,
   "id": "56bacac1",
   "metadata": {},
   "outputs": [
    {
     "name": "stdout",
     "output_type": "stream",
     "text": [
      "PID number is 10880\n"
     ]
    }
   ],
   "source": [
    "import os\n",
    "import numpy as np\n",
    "import pandas as pd\n",
    "import matplotlib.pyplot as plt\n",
    "import pickle\n",
    "from tqdm import tqdm\n",
    "import scanpy as sc\n",
    "import h5py\n",
    "\n",
    "import sys\n",
    "\n",
    "print(f'PID number is {os.getpid()}')"
   ]
  },
  {
   "cell_type": "markdown",
   "id": "f297216a",
   "metadata": {},
   "source": [
    "# Define MeCP2 image file path"
   ]
  },
  {
   "cell_type": "code",
   "execution_count": 2,
   "id": "51750dd6",
   "metadata": {},
   "outputs": [],
   "source": [
    "### experiment ids are the date MERFISH experiments are started\n",
    "experiment_ids = ['0722', '0724', '0808', '0809', '1027', '1029', '1101', '1103', '1105', '1107']"
   ]
  },
  {
   "cell_type": "code",
   "execution_count": 3,
   "id": "765d0dd8",
   "metadata": {},
   "outputs": [],
   "source": [
    "# First define that for Mecp2 0722 because it is stored in a different location\n",
    "prefix_path = {}\n",
    "add_fill = {} # whether using str(fov).zfill(3) or str(fov)\n",
    "postfix_path = {}\n",
    "\n",
    "# adjust the p\n",
    "prefix_path['0722'] = r'R:\\Cosmos\\MeCP2\\20220722_RNA_MERFISH_Mecp2_0722\\Epi-750-647-561-488-405-s50_'\n",
    "add_fill['0722'] = False\n",
    "postfix_path['0722'] = '_13.dax'"
   ]
  },
  {
   "cell_type": "code",
   "execution_count": 4,
   "id": "edaf40f7",
   "metadata": {},
   "outputs": [
    {
     "name": "stdout",
     "output_type": "stream",
     "text": [
      "\\\\KOLMOGOROV\\Chromatin_NAS_6\\20220724_MOp_Mecp2 is used for MeCP2_0724.\n",
      "\\\\KOLMOGOROV\\Chromatin_NAS_6\\20220724_MOp_Mecp2\\H13P1 is used for MeCP2_0724.\n",
      "\n",
      "\\\\KOLMOGOROV\\Chromatin_NAS_6\\20220808_MOp_Mecp2_M2B is used for MeCP2_0808.\n",
      "\\\\KOLMOGOROV\\Chromatin_NAS_6\\20220808_MOp_Mecp2_M2B\\H13P1 is used for MeCP2_0808.\n",
      "\n",
      "\\\\KOLMOGOROV\\Chromatin_NAS_6\\20220809_MOp_Mecp2_M2B is used for MeCP2_0809.\n",
      "\\\\KOLMOGOROV\\Chromatin_NAS_6\\20220809_MOp_Mecp2_M2B\\H13P1 is used for MeCP2_0809.\n",
      "\n",
      "\\\\KOLMOGOROV\\Chromatin_NAS_6\\20221027_Ma_withDMG is used for MeCP2_1027.\n",
      "\\\\KOLMOGOROV\\Chromatin_NAS_6\\20221027_Ma_withDMG\\H20P1 is used for MeCP2_1027.\n",
      "\n",
      "\\\\KOLMOGOROV\\Chromatin_NAS_6\\20221029_Ma_withDMG is used for MeCP2_1029.\n",
      "\\\\KOLMOGOROV\\Chromatin_NAS_6\\20221029_Ma_withDMG\\H20P1 is used for MeCP2_1029.\n",
      "\n",
      "\\\\KOLMOGOROV\\Chromatin_NAS_6\\20221101_Mb_withDMG is used for MeCP2_1101.\n",
      "\\\\KOLMOGOROV\\Chromatin_NAS_6\\20221101_Mb_withDMG\\H20P1 is used for MeCP2_1101.\n",
      "\n",
      "\\\\KOLMOGOROV\\Chromatin_NAS_6\\20221103_Mb_withDMG is used for MeCP2_1103.\n",
      "\\\\KOLMOGOROV\\Chromatin_NAS_6\\20221103_Mb_withDMG\\H20P1 is used for MeCP2_1103.\n",
      "\n",
      "\\\\KOLMOGOROV\\Chromatin_NAS_6\\20221105_Mc_withDMG is used for MeCP2_1105.\n",
      "\\\\KOLMOGOROV\\Chromatin_NAS_6\\20221105_Mc_withDMG\\H20P1 is used for MeCP2_1105.\n",
      "\n",
      "\\\\KOLMOGOROV\\Chromatin_NAS_6\\20221107_Mc_withDMG is used for MeCP2_1107.\n",
      "\\\\KOLMOGOROV\\Chromatin_NAS_6\\20221107_Mc_withDMG\\H20P1 is used for MeCP2_1107.\n",
      "\n"
     ]
    }
   ],
   "source": [
    "dax_file_prefix = 'Conv_zscan_'\n",
    "parent_data_folder = r'\\\\KOLMOGOROV\\Chromatin_NAS_6'\n",
    "all_folders = os.listdir(parent_data_folder)\n",
    "\n",
    "for exp in experiment_ids:\n",
    "    if exp!='0722':\n",
    "        add_fill[exp] = True\n",
    "        postfix_path[exp] = '.dax'\n",
    "        for fd in all_folders:\n",
    "            if (exp in fd) and ('DNA' not in fd):\n",
    "                exp_fd = os.path.join(parent_data_folder, fd)\n",
    "                print(f'{exp_fd} is used for MeCP2_{exp}.')\n",
    "        for round_fd in os.listdir(exp_fd):\n",
    "            if ('P1' in round_fd) and ('old' not in round_fd):\n",
    "                mecp2_fd = os.path.join(exp_fd, round_fd)\n",
    "                print(f'{mecp2_fd} is used for MeCP2_{exp}.\\n')\n",
    "        prefix_path[exp] = os.path.join(mecp2_fd, dax_file_prefix)"
   ]
  },
  {
   "cell_type": "markdown",
   "id": "714bf215",
   "metadata": {},
   "source": [
    "# Define feature file"
   ]
  },
  {
   "cell_type": "code",
   "execution_count": 5,
   "id": "5939ce5c",
   "metadata": {},
   "outputs": [],
   "source": [
    "analysis_parent_folder = r'MERFISH_analysis'\n",
    "\n",
    "# feature data contains the cell id for each segment\n",
    "feature_prefix = {} # + str(fov) + '.hdf5'\n",
    "for exp in experiment_ids:\n",
    "    fd = os.path.join(analysis_parent_folder, 'Mecp2_' + exp)\n",
    "    if not os.path.exists(fd):\n",
    "        fd = os.path.join(analysis_parent_folder, 'Mecp2_' + exp + '_p1')\n",
    "    feature_fd = os.path.join(fd, 'CellPoseSegment_full_z_DAPI', 'features', 'feature_data_')\n",
    "    feature_prefix[exp] = feature_fd"
   ]
  },
  {
   "cell_type": "markdown",
   "id": "dc9e6bdf",
   "metadata": {},
   "source": [
    "# Define offset file"
   ]
  },
  {
   "cell_type": "code",
   "execution_count": 6,
   "id": "688182e0",
   "metadata": {},
   "outputs": [],
   "source": [
    "# offset files are the Fiducial alignment output files generated by MERlin\n",
    "offset_prefix = {} # + str(fov) + '.npy'\n",
    "for exp in experiment_ids:\n",
    "    fd = os.path.join(analysis_parent_folder, 'Mecp2_' + exp)\n",
    "    if not os.path.exists(fd):\n",
    "        fd = os.path.join(analysis_parent_folder, 'Mecp2_' + exp + '_p1')\n",
    "    offset_fd = os.path.join(fd, 'FiducialCorrelationWarp', 'transformations', 'offsets_')\n",
    "    offset_prefix[exp] = offset_fd"
   ]
  },
  {
   "cell_type": "markdown",
   "id": "07c078d6",
   "metadata": {},
   "source": [
    "# Load adata and parameters"
   ]
  },
  {
   "cell_type": "code",
   "execution_count": 7,
   "id": "b0b91731",
   "metadata": {},
   "outputs": [],
   "source": [
    "adata = sc.read_h5ad(r\"MeCP2_clustered_adata_labeled.h5ad\")"
   ]
  },
  {
   "cell_type": "code",
   "execution_count": 8,
   "id": "2350a626",
   "metadata": {},
   "outputs": [],
   "source": [
    "uid_to_subcls = {uid:subcls for (uid,subcls) in zip(adata.obs.index.values, adata.obs['subclass'].values)}"
   ]
  },
  {
   "cell_type": "code",
   "execution_count": 9,
   "id": "27f8c417",
   "metadata": {},
   "outputs": [
    {
     "data": {
      "text/plain": [
       "('1027',\n",
       " '\\\\\\\\KOLMOGOROV\\\\Chromatin_NAS_6\\\\20221027_Ma_withDMG\\\\H20P1\\\\Conv_zscan_108.dax',\n",
       " 'E:\\\\MERFISH\\\\MERFISH_analysis_full_z\\\\Mecp2_1027_p1\\\\CellPoseSegment_full_z_DAPI\\\\features\\\\feature_data_108.hdf5',\n",
       " 'E:\\\\MERFISH\\\\MERFISH_analysis_full_z\\\\Mecp2_1027_p1\\\\FiducialCorrelationWarp\\\\transformations\\\\offsets_108.npy')"
      ]
     },
     "execution_count": 9,
     "metadata": {},
     "output_type": "execute_result"
    }
   ],
   "source": [
    "################# Define the three parameters that is required for the computation ###############\n",
    "experiments = []\n",
    "dax_files = []\n",
    "feature_files = []\n",
    "offset_files = []\n",
    "kept_uids = []\n",
    "\n",
    "for (exp, fov), df in adata.obs.groupby(['experiment', 'fov']):\n",
    "    \n",
    "    experiments.append(exp)\n",
    "    \n",
    "    ### dax file\n",
    "    if add_fill[exp]:\n",
    "        dax_str_fov = str(fov).zfill(3)\n",
    "    else:\n",
    "        dax_str_fov = str(fov)\n",
    "    _dax_file = prefix_path[exp] + dax_str_fov + postfix_path[exp]\n",
    "    dax_files.append(_dax_file)\n",
    "    \n",
    "    ### feature file\n",
    "    feature_files.append(feature_prefix[exp]+str(fov)+'.hdf5')\n",
    "    \n",
    "    ### offset file\n",
    "    offset_files.append(offset_prefix[exp]+str(fov)+'.npy')\n",
    "    \n",
    "    ### kept uids\n",
    "    kept_uids.append(df.index.values)\n",
    "\n",
    "experiments = np.array(experiments)\n",
    "dax_files = np.array(dax_files)\n",
    "feature_files = np.array(feature_files)\n",
    "offset_files = np.array(offset_files)\n",
    "\n",
    "kept_uid_array = np.empty(len(experiments), dtype=object)\n",
    "for i, uids in enumerate(kept_uids):\n",
    "    kept_uid_array[i] = uids\n",
    "\n",
    "_random_num = 888\n",
    "experiments[_random_num], dax_files[_random_num], feature_files[_random_num], offset_files[_random_num]"
   ]
  },
  {
   "cell_type": "markdown",
   "id": "c1d6c56e",
   "metadata": {},
   "source": [
    "# Run on all experiments"
   ]
  },
  {
   "cell_type": "code",
   "execution_count": 10,
   "id": "c8f8ed1f",
   "metadata": {},
   "outputs": [],
   "source": [
    "import multiprocessing as mp\n",
    "from utilities import antibody\n",
    "import time"
   ]
  },
  {
   "cell_type": "code",
   "execution_count": 11,
   "id": "64e0118a",
   "metadata": {},
   "outputs": [
    {
     "name": "stdout",
     "output_type": "stream",
     "text": [
      "Finishe calculating for experiment MeCP2_1027 in 10567.42s\n",
      "Finishe calculating for experiment MeCP2_1029 in 11462.55s\n",
      "Finishe calculating for experiment MeCP2_1101 in 9282.50s\n",
      "Finishe calculating for experiment MeCP2_1103 in 9353.41s\n",
      "Finishe calculating for experiment MeCP2_1105 in 8788.79s\n",
      "Finishe calculating for experiment MeCP2_1107 in 8910.17s\n"
     ]
    }
   ],
   "source": [
    "output_folder = r'output_folder'\n",
    "\n",
    "for exp in experiment_ids:\n",
    "    \n",
    "    output_name = os.path.join(output_folder, 'MeCP2_' + exp + '_antibody.csv')\n",
    "    \n",
    "    if os.path.exists(output_name):\n",
    "        continue\n",
    "    \n",
    "    start_time = time.time()\n",
    "    \n",
    "    exp_indices = np.where(experiments==exp)[0]\n",
    "    \n",
    "    with mp.Pool(20) as pool:\n",
    "        results = pool.starmap(antibody.calculate_mecp2_signal, \n",
    "                           zip(dax_files[exp_indices], feature_files[exp_indices], offset_files[exp_indices], \n",
    "                                         kept_uid_array[exp_indices]), \n",
    "                                         chunksize=1)\n",
    "    \n",
    "    df_output = pd.concat(results, ignore_index=True)\n",
    "    df_output.to_csv(output_name)\n",
    "    \n",
    "    duration = time.time()-start_time\n",
    "    print(f'Finishe calculating for experiment MeCP2_{exp} in {duration:.2f}s')"
   ]
  },
  {
   "cell_type": "code",
   "execution_count": null,
   "id": "670ced47",
   "metadata": {},
   "outputs": [],
   "source": []
  }
 ],
 "metadata": {
  "kernelspec": {
   "display_name": "merlin_postanalysis",
   "language": "python",
   "name": "merlin_postanalysis"
  },
  "language_info": {
   "codemirror_mode": {
    "name": "ipython",
    "version": 3
   },
   "file_extension": ".py",
   "mimetype": "text/x-python",
   "name": "python",
   "nbconvert_exporter": "python",
   "pygments_lexer": "ipython3",
   "version": "3.9.12"
  }
 },
 "nbformat": 4,
 "nbformat_minor": 5
}
