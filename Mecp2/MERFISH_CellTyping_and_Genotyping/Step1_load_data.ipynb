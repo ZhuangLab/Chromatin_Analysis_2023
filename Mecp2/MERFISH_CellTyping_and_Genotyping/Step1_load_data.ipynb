{
 "cells": [
  {
   "cell_type": "markdown",
   "id": "57c69a9b",
   "metadata": {},
   "source": [
    "# Import libraries"
   ]
  },
  {
   "cell_type": "code",
   "execution_count": 1,
   "id": "69a7fed2",
   "metadata": {},
   "outputs": [],
   "source": [
    "import pandas as pd\n",
    "import anndata\n",
    "import os"
   ]
  },
  {
   "cell_type": "markdown",
   "id": "e44e946e",
   "metadata": {},
   "source": [
    "# Define output"
   ]
  },
  {
   "cell_type": "code",
   "execution_count": 2,
   "id": "ea492fbb",
   "metadata": {},
   "outputs": [],
   "source": [
    "overwrite = True\n",
    "\n",
    "output_folder = r'output_folder'\n",
    "\n",
    "output_name = 'MeCP2_raw_adata.h5ad'"
   ]
  },
  {
   "cell_type": "markdown",
   "id": "4546c9ff",
   "metadata": {},
   "source": [
    "# Define experiment ID and bad fovs"
   ]
  },
  {
   "cell_type": "markdown",
   "id": "2756d060",
   "metadata": {},
   "source": [
    "Bad fovs are defined by manually checking the fiducial wraps of every experiment. The ones with poor alignment (usually resulting from improper focus lock) are defined as bad fovs."
   ]
  },
  {
   "cell_type": "code",
   "execution_count": 3,
   "id": "6f0fa381",
   "metadata": {},
   "outputs": [],
   "source": [
    "### experiment ids are the date MERFISH experiments are started\n",
    "experiment_ids = ['0722', '0724', '0808', '0809', '1027', '1029', '1101', '1103', '1105', '1107']\n",
    "\n",
    "### mouse ids for each experiment\n",
    "mouse_id = {'M1':['0722', '0724'], 'M2':['0808', '0809'],\n",
    "           'Ma':['1027', '1029'], 'Mb':['1101', '1103'], 'Mc':['1105', '1107']}\n",
    "mouse_age = {'M1':'2.5_month', 'M2':'2.5_month', 'Ma':'6_month', 'Mb':'6_month', 'Mc':'6_month'}\n",
    "\n",
    "### experiment to mouse\n",
    "exp_to_mouse = {}\n",
    "for mouse, exps in mouse_id.items():\n",
    "    for exp in exps:\n",
    "        exp_to_mouse[exp] = mouse"
   ]
  },
  {
   "cell_type": "code",
   "execution_count": 4,
   "id": "ebf50687",
   "metadata": {},
   "outputs": [],
   "source": [
    "### Define bad fovs\n",
    "bad_fovs = {'0722':[],\n",
    "           '0724':[0,1,2,5,6],\n",
    "           '0808':[],\n",
    "           '0809':[],\n",
    "           '1027':[0, 1, 55, 157, 158],\n",
    "           '1029':[0, 123, 54, 55, 56, 57, 172, 224, 78],\n",
    "           '1101':[57, 73, 172, 0],\n",
    "           '1103':[0,49,103,158],\n",
    "           '1105':[68, 133],\n",
    "           '1107':[63,107,110,130,186,195,203,205,247,253]}"
   ]
  },
  {
   "cell_type": "markdown",
   "id": "674a540a",
   "metadata": {},
   "source": [
    "# Define files for cell meta and gene expression data"
   ]
  },
  {
   "cell_type": "code",
   "execution_count": 5,
   "id": "7389f72b",
   "metadata": {},
   "outputs": [],
   "source": [
    "# each folder contains the MERlin output\n",
    "analysis_parent_folder = r'MERFISH_analysis'\n",
    "\n",
    "analysis_folder = {}\n",
    "for exp in experiment_ids:\n",
    "    _fd = os.path.join(analysis_parent_folder, 'Mecp2_'+exp)\n",
    "    # adjust folder suffix for certain replicates\n",
    "    if not os.path.exists(_fd):\n",
    "        _fd = os.path.join(analysis_parent_folder, 'Mecp2_'+exp+'_p1')\n",
    "    analysis_folder[exp] = _fd"
   ]
  },
  {
   "cell_type": "code",
   "execution_count": 6,
   "id": "dc945659",
   "metadata": {},
   "outputs": [],
   "source": [
    "cell_metadata_csv = {}\n",
    "barcode_csv = {}\n",
    "for exp, fd in analysis_folder.items():\n",
    "    cell_metadata_csv[exp] = os.path.join(fd, 'ExportCellMetadata', 'feature_metadata.csv')\n",
    "    barcode_csv[exp] = os.path.join(fd, 'ExportPartitionedBarcodes', 'barcodes_per_feature.csv')"
   ]
  },
  {
   "cell_type": "markdown",
   "id": "f419fe46",
   "metadata": {},
   "source": [
    "# Load data"
   ]
  },
  {
   "cell_type": "code",
   "execution_count": 10,
   "id": "a12f053b",
   "metadata": {},
   "outputs": [
    {
     "name": "stdout",
     "output_type": "stream",
     "text": [
      "MeCP2_0722 has 8359 cells.\n",
      "MeCP2_0724 has 9036 cells.\n",
      "MeCP2_0808 has 10419 cells.\n",
      "MeCP2_0809 has 12224 cells.\n",
      "MeCP2_1027 has 10825 cells.\n",
      "MeCP2_1029 has 12065 cells.\n",
      "MeCP2_1101 has 10547 cells.\n",
      "MeCP2_1103 has 9804 cells.\n",
      "MeCP2_1105 has 10081 cells.\n",
      "MeCP2_1107 has 9966 cells.\n"
     ]
    },
    {
     "data": {
      "text/html": [
       "<div>\n",
       "<style scoped>\n",
       "    .dataframe tbody tr th:only-of-type {\n",
       "        vertical-align: middle;\n",
       "    }\n",
       "\n",
       "    .dataframe tbody tr th {\n",
       "        vertical-align: top;\n",
       "    }\n",
       "\n",
       "    .dataframe thead th {\n",
       "        text-align: right;\n",
       "    }\n",
       "</style>\n",
       "<table border=\"1\" class=\"dataframe\">\n",
       "  <thead>\n",
       "    <tr style=\"text-align: right;\">\n",
       "      <th></th>\n",
       "      <th>fov</th>\n",
       "      <th>volume</th>\n",
       "      <th>center_x</th>\n",
       "      <th>center_y</th>\n",
       "      <th>min_x</th>\n",
       "      <th>max_x</th>\n",
       "      <th>min_y</th>\n",
       "      <th>max_y</th>\n",
       "      <th>experiment</th>\n",
       "      <th>mouse</th>\n",
       "      <th>age</th>\n",
       "    </tr>\n",
       "    <tr>\n",
       "      <th>uid</th>\n",
       "      <th></th>\n",
       "      <th></th>\n",
       "      <th></th>\n",
       "      <th></th>\n",
       "      <th></th>\n",
       "      <th></th>\n",
       "      <th></th>\n",
       "      <th></th>\n",
       "      <th></th>\n",
       "      <th></th>\n",
       "      <th></th>\n",
       "    </tr>\n",
       "  </thead>\n",
       "  <tbody>\n",
       "    <tr>\n",
       "      <th>101667997425461984138916033203233536307</th>\n",
       "      <td>0</td>\n",
       "      <td>472.728414</td>\n",
       "      <td>-246.106008</td>\n",
       "      <td>-68.714001</td>\n",
       "      <td>-284.402809</td>\n",
       "      <td>-207.809207</td>\n",
       "      <td>-88.758802</td>\n",
       "      <td>-48.669201</td>\n",
       "      <td>0722</td>\n",
       "      <td>M1</td>\n",
       "      <td>2.5_month</td>\n",
       "    </tr>\n",
       "    <tr>\n",
       "      <th>106449295704141667843638205429707704856</th>\n",
       "      <td>0</td>\n",
       "      <td>474.689483</td>\n",
       "      <td>-255.070008</td>\n",
       "      <td>61.210002</td>\n",
       "      <td>-279.866809</td>\n",
       "      <td>-230.273207</td>\n",
       "      <td>54.233202</td>\n",
       "      <td>68.186802</td>\n",
       "      <td>0722</td>\n",
       "      <td>M1</td>\n",
       "      <td>2.5_month</td>\n",
       "    </tr>\n",
       "    <tr>\n",
       "      <th>132212124482257977606837917069895160679</th>\n",
       "      <td>0</td>\n",
       "      <td>483.730716</td>\n",
       "      <td>-256.798008</td>\n",
       "      <td>-79.946002</td>\n",
       "      <td>-293.690809</td>\n",
       "      <td>-219.905207</td>\n",
       "      <td>-124.398803</td>\n",
       "      <td>-35.493201</td>\n",
       "      <td>0722</td>\n",
       "      <td>M1</td>\n",
       "      <td>2.5_month</td>\n",
       "    </tr>\n",
       "    <tr>\n",
       "      <th>132758886733787380228930901777346454633</th>\n",
       "      <td>0</td>\n",
       "      <td>300.552602</td>\n",
       "      <td>-231.526007</td>\n",
       "      <td>-36.854001</td>\n",
       "      <td>-256.754808</td>\n",
       "      <td>-206.297207</td>\n",
       "      <td>-48.366801</td>\n",
       "      <td>-25.341200</td>\n",
       "      <td>0722</td>\n",
       "      <td>M1</td>\n",
       "      <td>2.5_month</td>\n",
       "    </tr>\n",
       "    <tr>\n",
       "      <th>165347171870155874748097163141548009156</th>\n",
       "      <td>0</td>\n",
       "      <td>105.266556</td>\n",
       "      <td>-312.850009</td>\n",
       "      <td>-16.010000</td>\n",
       "      <td>-416.378812</td>\n",
       "      <td>-209.321207</td>\n",
       "      <td>-97.614802</td>\n",
       "      <td>65.594802</td>\n",
       "      <td>0722</td>\n",
       "      <td>M1</td>\n",
       "      <td>2.5_month</td>\n",
       "    </tr>\n",
       "  </tbody>\n",
       "</table>\n",
       "</div>"
      ],
      "text/plain": [
       "                                         fov      volume    center_x  \\\n",
       "uid                                                                    \n",
       "101667997425461984138916033203233536307    0  472.728414 -246.106008   \n",
       "106449295704141667843638205429707704856    0  474.689483 -255.070008   \n",
       "132212124482257977606837917069895160679    0  483.730716 -256.798008   \n",
       "132758886733787380228930901777346454633    0  300.552602 -231.526007   \n",
       "165347171870155874748097163141548009156    0  105.266556 -312.850009   \n",
       "\n",
       "                                          center_y       min_x       max_x  \\\n",
       "uid                                                                          \n",
       "101667997425461984138916033203233536307 -68.714001 -284.402809 -207.809207   \n",
       "106449295704141667843638205429707704856  61.210002 -279.866809 -230.273207   \n",
       "132212124482257977606837917069895160679 -79.946002 -293.690809 -219.905207   \n",
       "132758886733787380228930901777346454633 -36.854001 -256.754808 -206.297207   \n",
       "165347171870155874748097163141548009156 -16.010000 -416.378812 -209.321207   \n",
       "\n",
       "                                              min_y      max_y experiment  \\\n",
       "uid                                                                         \n",
       "101667997425461984138916033203233536307  -88.758802 -48.669201       0722   \n",
       "106449295704141667843638205429707704856   54.233202  68.186802       0722   \n",
       "132212124482257977606837917069895160679 -124.398803 -35.493201       0722   \n",
       "132758886733787380228930901777346454633  -48.366801 -25.341200       0722   \n",
       "165347171870155874748097163141548009156  -97.614802  65.594802       0722   \n",
       "\n",
       "                                        mouse        age  \n",
       "uid                                                       \n",
       "101667997425461984138916033203233536307    M1  2.5_month  \n",
       "106449295704141667843638205429707704856    M1  2.5_month  \n",
       "132212124482257977606837917069895160679    M1  2.5_month  \n",
       "132758886733787380228930901777346454633    M1  2.5_month  \n",
       "165347171870155874748097163141548009156    M1  2.5_month  "
      ]
     },
     "execution_count": 10,
     "metadata": {},
     "output_type": "execute_result"
    }
   ],
   "source": [
    "df_cell_list = []\n",
    "for exp, cell_file in cell_metadata_csv.items():\n",
    "    if os.path.exists(cell_file):\n",
    "        _df = pd.read_csv(cell_file).rename(columns={'Unnamed: 0':'uid'}).set_index('uid')\n",
    "        _df = _df[~_df.fov.isin(bad_fovs[exp])].copy()\n",
    "        _df['experiment'] = exp\n",
    "        _df['mouse'] = exp_to_mouse[exp]\n",
    "        _df['age'] = mouse_age[exp_to_mouse[exp]]\n",
    "        df_cell_list.append(_df.copy())\n",
    "        \n",
    "        num_cells = len(_df)\n",
    "        print(f'MeCP2_{exp} has {num_cells} cells.')\n",
    "    else:\n",
    "        print(f'Data for {exp} is NOT available!')\n",
    "\n",
    "df_cell = pd.concat(df_cell_list)\n",
    "\n",
    "# free memory\n",
    "del df_cell_list\n",
    "\n",
    "df_cell.head()"
   ]
  },
  {
   "cell_type": "code",
   "execution_count": null,
   "id": "5a3c3a10",
   "metadata": {},
   "outputs": [],
   "source": [
    "### see how many cells are kept\n",
    "kept_uids = df_cell.index.values\n",
    "len(kept_uids)"
   ]
  },
  {
   "cell_type": "code",
   "execution_count": null,
   "id": "1300776b",
   "metadata": {},
   "outputs": [],
   "source": [
    "df_barcode_list = []\n",
    "for exp, barcode_file in barcode_csv.items():\n",
    "    if os.path.exists(barcode_file):\n",
    "        _df = pd.read_csv(barcode_file).rename(columns={'Unnamed: 0':'uid'})\n",
    "        df_barcode_list.append(_df.copy())\n",
    "df_barcode = pd.concat(df_barcode_list, ignore_index=True)\n",
    "df_barcode = df_barcode[df_barcode['uid'].isin(kept_uids)].copy()\n",
    "\n",
    "# free memory\n",
    "del df_barcode_list\n",
    "\n",
    "# drop blank columns\n",
    "for _c in df_barcode.columns:\n",
    "    if 'Blank-' in _c:\n",
    "        df_barcode = df_barcode.drop(columns=_c)\n",
    "        \n",
    "df_barcode.set_index('uid', drop=True, inplace=True)\n",
    "df_barcode.head()"
   ]
  },
  {
   "cell_type": "code",
   "execution_count": null,
   "id": "8c087407",
   "metadata": {},
   "outputs": [],
   "source": [
    "adata = anndata.AnnData(df_barcode)\n",
    "adata.obs = adata.obs.merge(df_cell, left_index=True, right_index=True)\n",
    "adata.obs.head()"
   ]
  },
  {
   "cell_type": "markdown",
   "id": "094547a2",
   "metadata": {},
   "source": [
    "# Save adata"
   ]
  },
  {
   "cell_type": "code",
   "execution_count": null,
   "id": "92f708b0",
   "metadata": {},
   "outputs": [],
   "source": [
    "if overwrite:\n",
    "    save_name = os.path.join(output_folder, output_name)\n",
    "    adata.write_h5ad(save_name)\n",
    "    print(f'Saving adata file into {save_name}')"
   ]
  },
  {
   "cell_type": "code",
   "execution_count": null,
   "id": "9666d9eb",
   "metadata": {},
   "outputs": [],
   "source": []
  }
 ],
 "metadata": {
  "kernelspec": {
   "display_name": "merlin_postanalysis",
   "language": "python",
   "name": "merlin_postanalysis"
  },
  "language_info": {
   "codemirror_mode": {
    "name": "ipython",
    "version": 3
   },
   "file_extension": ".py",
   "mimetype": "text/x-python",
   "name": "python",
   "nbconvert_exporter": "python",
   "pygments_lexer": "ipython3",
   "version": "3.9.12"
  }
 },
 "nbformat": 4,
 "nbformat_minor": 5
}
