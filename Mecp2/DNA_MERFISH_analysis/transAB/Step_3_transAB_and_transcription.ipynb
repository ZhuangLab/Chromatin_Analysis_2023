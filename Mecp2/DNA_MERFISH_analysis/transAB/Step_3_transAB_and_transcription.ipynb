{
 "cells": [
  {
   "cell_type": "markdown",
   "id": "6d78a36a",
   "metadata": {},
   "source": [
    "This script generates Fig. 6F on the correlation between transcription and trans AB density changes by Mecp2 deletion"
   ]
  },
  {
   "cell_type": "code",
   "execution_count": 25,
   "id": "a819a444",
   "metadata": {},
   "outputs": [
    {
     "name": "stdout",
     "output_type": "stream",
     "text": [
      "PID number is 12276\n"
     ]
    }
   ],
   "source": [
    "import os\n",
    "import numpy as np\n",
    "import pandas as pd\n",
    "import pickle\n",
    "from tqdm import tqdm\n",
    "\n",
    "import matplotlib as mpl\n",
    "import matplotlib.pyplot as plt\n",
    "\n",
    "import seaborn as sns\n",
    "\n",
    "import sys\n",
    "\n",
    "print(f'PID number is {os.getpid()}')\n",
    "    \n",
    "figure_folder = r'C:\\Users\\cosmosyw\\Documents\\Research\\Mecp2_v2\\analysis\\figures\\scRNA\\figures'\n",
    "\n",
    "mpl.rc('figure', dpi=300)\n",
    "mpl.rc('figure', titlesize=10.) \n",
    "mpl.rc('figure.constrained_layout', use=True)\n",
    "\n",
    "mpl.rc('axes', labelsize=8.)\n",
    "mpl.rc('axes', titlesize=9.)\n",
    "mpl.rc('axes', linewidth=0.5)\n",
    "\n",
    "mpl.rc('font', family='Arial')\n",
    "\n",
    "mpl.rc('savefig', dpi=300)\n",
    "mpl.rc('savefig', format='pdf')\n",
    "\n",
    "mpl.rc('xtick', labelsize=7.)\n",
    "mpl.rc('xtick.major', size=3)\n",
    "mpl.rc('xtick.major', width=0.5)\n",
    "\n",
    "mpl.rc('ytick', labelsize=7.)\n",
    "mpl.rc('ytick.major', size=3)\n",
    "mpl.rc('ytick.major', width=0.5)\n",
    "\n",
    "mpl.rcParams['pdf.fonttype'] = 42"
   ]
  },
  {
   "cell_type": "markdown",
   "id": "7d112fa1",
   "metadata": {},
   "source": [
    "# Load DEG"
   ]
  },
  {
   "cell_type": "code",
   "execution_count": 26,
   "id": "09cbe82e",
   "metadata": {},
   "outputs": [
    {
     "name": "stdout",
     "output_type": "stream",
     "text": [
      "105129\n"
     ]
    },
    {
     "data": {
      "text/html": [
       "<div>\n",
       "<style scoped>\n",
       "    .dataframe tbody tr th:only-of-type {\n",
       "        vertical-align: middle;\n",
       "    }\n",
       "\n",
       "    .dataframe tbody tr th {\n",
       "        vertical-align: top;\n",
       "    }\n",
       "\n",
       "    .dataframe thead th {\n",
       "        text-align: right;\n",
       "    }\n",
       "</style>\n",
       "<table border=\"1\" class=\"dataframe\">\n",
       "  <thead>\n",
       "    <tr style=\"text-align: right;\">\n",
       "      <th></th>\n",
       "      <th>gene</th>\n",
       "      <th>scores</th>\n",
       "      <th>logfoldchanges</th>\n",
       "      <th>pvals</th>\n",
       "      <th>pvals_adj</th>\n",
       "      <th>majortype</th>\n",
       "    </tr>\n",
       "  </thead>\n",
       "  <tbody>\n",
       "    <tr>\n",
       "      <th>1</th>\n",
       "      <td>Ctxn1</td>\n",
       "      <td>-13.814858</td>\n",
       "      <td>-0.598430</td>\n",
       "      <td>2.073612e-43</td>\n",
       "      <td>2.383617e-40</td>\n",
       "      <td>Gluta</td>\n",
       "    </tr>\n",
       "    <tr>\n",
       "      <th>2</th>\n",
       "      <td>Eef1a2</td>\n",
       "      <td>-13.691930</td>\n",
       "      <td>-0.457822</td>\n",
       "      <td>1.134548e-42</td>\n",
       "      <td>1.247460e-39</td>\n",
       "      <td>Gluta</td>\n",
       "    </tr>\n",
       "    <tr>\n",
       "      <th>3</th>\n",
       "      <td>Dynll1</td>\n",
       "      <td>-12.686783</td>\n",
       "      <td>-0.553000</td>\n",
       "      <td>7.000236e-37</td>\n",
       "      <td>5.532155e-34</td>\n",
       "      <td>Gluta</td>\n",
       "    </tr>\n",
       "    <tr>\n",
       "      <th>4</th>\n",
       "      <td>Junb</td>\n",
       "      <td>-12.331744</td>\n",
       "      <td>-1.387881</td>\n",
       "      <td>6.110939e-35</td>\n",
       "      <td>4.545280e-32</td>\n",
       "      <td>Gluta</td>\n",
       "    </tr>\n",
       "    <tr>\n",
       "      <th>5</th>\n",
       "      <td>Sept5</td>\n",
       "      <td>-12.321713</td>\n",
       "      <td>-0.458796</td>\n",
       "      <td>6.920805e-35</td>\n",
       "      <td>5.000578e-32</td>\n",
       "      <td>Gluta</td>\n",
       "    </tr>\n",
       "  </tbody>\n",
       "</table>\n",
       "</div>"
      ],
      "text/plain": [
       "     gene     scores  logfoldchanges         pvals     pvals_adj majortype\n",
       "1   Ctxn1 -13.814858       -0.598430  2.073612e-43  2.383617e-40     Gluta\n",
       "2  Eef1a2 -13.691930       -0.457822  1.134548e-42  1.247460e-39     Gluta\n",
       "3  Dynll1 -12.686783       -0.553000  7.000236e-37  5.532155e-34     Gluta\n",
       "4    Junb -12.331744       -1.387881  6.110939e-35  4.545280e-32     Gluta\n",
       "5   Sept5 -12.321713       -0.458796  6.920805e-35  5.000578e-32     Gluta"
      ]
     },
     "execution_count": 26,
     "metadata": {},
     "output_type": "execute_result"
    }
   ],
   "source": [
    "df_deg = pd.read_csv('Greenberg_scRNA_male_Mecp2_DEG_majortype.csv', index_col=0)\n",
    "\n",
    "### clean up\n",
    "df_deg = df_deg[df_deg['names']!='Mecp2'].copy() # remove Mecp2\n",
    "\n",
    "df_deg.rename({'names':'gene', 'cell_type':'majortype'}, axis=1, inplace=True)\n",
    "\n",
    "print(len(df_deg))\n",
    "\n",
    "df_deg.head()"
   ]
  },
  {
   "cell_type": "code",
   "execution_count": 27,
   "id": "2c8aa850",
   "metadata": {},
   "outputs": [],
   "source": [
    "### add Mecp2 effect\n",
    "\n",
    "def get_Mecp2_effect(pval, log2fc, pval_thresh = 0.01):\n",
    "    if pval>pval_thresh:\n",
    "        return 'NE'\n",
    "    elif log2fc>0:\n",
    "        return 'Up-regulated'\n",
    "    elif log2fc<0:\n",
    "        return 'Down-regulated'\n",
    "    else:\n",
    "        return 'NE'\n",
    "\n",
    "df_deg['Mecp2_effect'] = df_deg.apply(lambda x: get_Mecp2_effect(x['pvals_adj'], x['logfoldchanges']), axis=1)"
   ]
  },
  {
   "cell_type": "markdown",
   "id": "012cfdb8",
   "metadata": {},
   "source": [
    "# Load transAB change"
   ]
  },
  {
   "cell_type": "code",
   "execution_count": 28,
   "id": "cc2597eb",
   "metadata": {},
   "outputs": [
    {
     "data": {
      "text/html": [
       "<div>\n",
       "<style scoped>\n",
       "    .dataframe tbody tr th:only-of-type {\n",
       "        vertical-align: middle;\n",
       "    }\n",
       "\n",
       "    .dataframe tbody tr th {\n",
       "        vertical-align: top;\n",
       "    }\n",
       "\n",
       "    .dataframe thead th {\n",
       "        text-align: right;\n",
       "    }\n",
       "</style>\n",
       "<table border=\"1\" class=\"dataframe\">\n",
       "  <thead>\n",
       "    <tr style=\"text-align: right;\">\n",
       "      <th></th>\n",
       "      <th>gene</th>\n",
       "      <th>chr</th>\n",
       "      <th>start</th>\n",
       "      <th>end</th>\n",
       "      <th>position</th>\n",
       "      <th>transAB_change</th>\n",
       "      <th>majortype</th>\n",
       "    </tr>\n",
       "  </thead>\n",
       "  <tbody>\n",
       "    <tr>\n",
       "      <th>0</th>\n",
       "      <td>0610006L08Rik</td>\n",
       "      <td>chr7</td>\n",
       "      <td>74818817</td>\n",
       "      <td>74853813</td>\n",
       "      <td>74836315.0</td>\n",
       "      <td>-0.085658</td>\n",
       "      <td>Gluta</td>\n",
       "    </tr>\n",
       "    <tr>\n",
       "      <th>1</th>\n",
       "      <td>0610007P14Rik</td>\n",
       "      <td>chr12</td>\n",
       "      <td>85815447</td>\n",
       "      <td>85824550</td>\n",
       "      <td>85819998.5</td>\n",
       "      <td>-0.058197</td>\n",
       "      <td>Gluta</td>\n",
       "    </tr>\n",
       "    <tr>\n",
       "      <th>2</th>\n",
       "      <td>0610009B22Rik</td>\n",
       "      <td>chr11</td>\n",
       "      <td>51685385</td>\n",
       "      <td>51688874</td>\n",
       "      <td>51687129.5</td>\n",
       "      <td>-0.012675</td>\n",
       "      <td>Gluta</td>\n",
       "    </tr>\n",
       "    <tr>\n",
       "      <th>3</th>\n",
       "      <td>0610009E02Rik</td>\n",
       "      <td>chr2</td>\n",
       "      <td>26445695</td>\n",
       "      <td>26459390</td>\n",
       "      <td>26452542.5</td>\n",
       "      <td>-0.063708</td>\n",
       "      <td>Gluta</td>\n",
       "    </tr>\n",
       "    <tr>\n",
       "      <th>4</th>\n",
       "      <td>0610009L18Rik</td>\n",
       "      <td>chr11</td>\n",
       "      <td>120348677</td>\n",
       "      <td>120351190</td>\n",
       "      <td>120349933.5</td>\n",
       "      <td>-0.079699</td>\n",
       "      <td>Gluta</td>\n",
       "    </tr>\n",
       "  </tbody>\n",
       "</table>\n",
       "</div>"
      ],
      "text/plain": [
       "            gene    chr      start        end     position  transAB_change  \\\n",
       "0  0610006L08Rik   chr7   74818817   74853813   74836315.0       -0.085658   \n",
       "1  0610007P14Rik  chr12   85815447   85824550   85819998.5       -0.058197   \n",
       "2  0610009B22Rik  chr11   51685385   51688874   51687129.5       -0.012675   \n",
       "3  0610009E02Rik   chr2   26445695   26459390   26452542.5       -0.063708   \n",
       "4  0610009L18Rik  chr11  120348677  120351190  120349933.5       -0.079699   \n",
       "\n",
       "  majortype  \n",
       "0     Gluta  \n",
       "1     Gluta  \n",
       "2     Gluta  \n",
       "3     Gluta  \n",
       "4     Gluta  "
      ]
     },
     "execution_count": 28,
     "metadata": {},
     "output_type": "execute_result"
    }
   ],
   "source": [
    "# the trans AB density ratio changes by major type is calculated similar as the script in Step 0 in this folder\n",
    "# the only difference is that it utilizes all cells from a majortype, for example excitatory neurons (Gluta)\n",
    "df_transAB = pd.read_csv(r\"C:\\Users\\cosmosyw\\Documents\\Research\\Mecp2_v2\\analysis\\figures\\scRNA\\resources\\gene_transAB_by_majortype.csv\", index_col=0)\n",
    "df_transAB = df_transAB[df_transAB['transAB_change']!=-100].copy()\n",
    "df_transAB.head()"
   ]
  },
  {
   "cell_type": "code",
   "execution_count": 29,
   "id": "066c0f5a",
   "metadata": {},
   "outputs": [
    {
     "name": "stdout",
     "output_type": "stream",
     "text": [
      "59349\n"
     ]
    },
    {
     "data": {
      "text/html": [
       "<div>\n",
       "<style scoped>\n",
       "    .dataframe tbody tr th:only-of-type {\n",
       "        vertical-align: middle;\n",
       "    }\n",
       "\n",
       "    .dataframe tbody tr th {\n",
       "        vertical-align: top;\n",
       "    }\n",
       "\n",
       "    .dataframe thead th {\n",
       "        text-align: right;\n",
       "    }\n",
       "</style>\n",
       "<table border=\"1\" class=\"dataframe\">\n",
       "  <thead>\n",
       "    <tr style=\"text-align: right;\">\n",
       "      <th></th>\n",
       "      <th>gene</th>\n",
       "      <th>scores</th>\n",
       "      <th>logfoldchanges</th>\n",
       "      <th>pvals</th>\n",
       "      <th>pvals_adj</th>\n",
       "      <th>majortype</th>\n",
       "      <th>Mecp2_effect</th>\n",
       "      <th>transAB_change</th>\n",
       "    </tr>\n",
       "  </thead>\n",
       "  <tbody>\n",
       "    <tr>\n",
       "      <th>0</th>\n",
       "      <td>Ctxn1</td>\n",
       "      <td>-13.814858</td>\n",
       "      <td>-0.598430</td>\n",
       "      <td>2.073612e-43</td>\n",
       "      <td>2.383617e-40</td>\n",
       "      <td>Gluta</td>\n",
       "      <td>Down-regulated</td>\n",
       "      <td>-0.055666</td>\n",
       "    </tr>\n",
       "    <tr>\n",
       "      <th>1</th>\n",
       "      <td>Eef1a2</td>\n",
       "      <td>-13.691930</td>\n",
       "      <td>-0.457822</td>\n",
       "      <td>1.134548e-42</td>\n",
       "      <td>1.247460e-39</td>\n",
       "      <td>Gluta</td>\n",
       "      <td>Down-regulated</td>\n",
       "      <td>-0.092771</td>\n",
       "    </tr>\n",
       "    <tr>\n",
       "      <th>2</th>\n",
       "      <td>Dynll1</td>\n",
       "      <td>-12.686783</td>\n",
       "      <td>-0.553000</td>\n",
       "      <td>7.000236e-37</td>\n",
       "      <td>5.532155e-34</td>\n",
       "      <td>Gluta</td>\n",
       "      <td>Down-regulated</td>\n",
       "      <td>-0.103303</td>\n",
       "    </tr>\n",
       "    <tr>\n",
       "      <th>3</th>\n",
       "      <td>Junb</td>\n",
       "      <td>-12.331744</td>\n",
       "      <td>-1.387881</td>\n",
       "      <td>6.110939e-35</td>\n",
       "      <td>4.545280e-32</td>\n",
       "      <td>Gluta</td>\n",
       "      <td>Down-regulated</td>\n",
       "      <td>-0.041345</td>\n",
       "    </tr>\n",
       "    <tr>\n",
       "      <th>4</th>\n",
       "      <td>Sept5</td>\n",
       "      <td>-12.321713</td>\n",
       "      <td>-0.458796</td>\n",
       "      <td>6.920805e-35</td>\n",
       "      <td>5.000578e-32</td>\n",
       "      <td>Gluta</td>\n",
       "      <td>Down-regulated</td>\n",
       "      <td>-0.025340</td>\n",
       "    </tr>\n",
       "  </tbody>\n",
       "</table>\n",
       "</div>"
      ],
      "text/plain": [
       "     gene     scores  logfoldchanges         pvals     pvals_adj majortype  \\\n",
       "0   Ctxn1 -13.814858       -0.598430  2.073612e-43  2.383617e-40     Gluta   \n",
       "1  Eef1a2 -13.691930       -0.457822  1.134548e-42  1.247460e-39     Gluta   \n",
       "2  Dynll1 -12.686783       -0.553000  7.000236e-37  5.532155e-34     Gluta   \n",
       "3    Junb -12.331744       -1.387881  6.110939e-35  4.545280e-32     Gluta   \n",
       "4   Sept5 -12.321713       -0.458796  6.920805e-35  5.000578e-32     Gluta   \n",
       "\n",
       "     Mecp2_effect  transAB_change  \n",
       "0  Down-regulated       -0.055666  \n",
       "1  Down-regulated       -0.092771  \n",
       "2  Down-regulated       -0.103303  \n",
       "3  Down-regulated       -0.041345  \n",
       "4  Down-regulated       -0.025340  "
      ]
     },
     "execution_count": 29,
     "metadata": {},
     "output_type": "execute_result"
    }
   ],
   "source": [
    "df_deg_with_transABchange = df_deg.merge(df_transAB.loc[:,['gene','majortype','transAB_change']], left_on=['gene','majortype'],\n",
    "                             right_on=['gene', 'majortype'])\n",
    "\n",
    "print(len(df_deg_with_transABchange))\n",
    "\n",
    "df_deg_with_transABchange.head()"
   ]
  },
  {
   "cell_type": "markdown",
   "id": "0caef8e0",
   "metadata": {},
   "source": [
    "# Plot DEG radial position by majortypes"
   ]
  },
  {
   "cell_type": "code",
   "execution_count": 71,
   "id": "9f745899",
   "metadata": {},
   "outputs": [],
   "source": [
    "### define function and interval for line plot\n",
    "df_plot = df_deg_with_transABchange[df_deg_with_transABchange.majortype=='Gluta'].copy()\n",
    "\n",
    "import math\n",
    "\n",
    "def get_interval(transab):\n",
    "    linspace = np.linspace(-0.1,0.1,11)\n",
    "    interval = np.argmax(linspace>=transab)\n",
    "    # group all loci with trans AB density change >0.1 into one group\n",
    "    # similarly, all loci with trans AB density change <-0.1 will be grouped together in this function.\n",
    "    if transab>0.1:\n",
    "        return 0.12\n",
    "    else:\n",
    "        return linspace[interval]\n",
    "\n",
    "df_plot['transAB_change_interval'] = df_plot['transAB_change'].apply(lambda x: get_interval(x))"
   ]
  },
  {
   "cell_type": "code",
   "execution_count": 77,
   "id": "08861f9b-fd04-4d28-b58c-8b514ff13659",
   "metadata": {},
   "outputs": [
    {
     "data": {
      "text/plain": [
       "array([-0.1 , -0.08, -0.06, -0.04, -0.02,  0.  ,  0.02,  0.04,  0.06,\n",
       "        0.08,  0.1 ])"
      ]
     },
     "execution_count": 77,
     "metadata": {},
     "output_type": "execute_result"
    }
   ],
   "source": [
    "linspace = np.linspace(-0.1,0.1,11)\n",
    "linspace"
   ]
  },
  {
   "cell_type": "code",
   "execution_count": 72,
   "id": "c02ba69e-9b56-4598-927d-e9ba13e50d5f",
   "metadata": {},
   "outputs": [],
   "source": [
    "df_plot['transAB_change_interval'] = df_plot['transAB_change_interval'] - 0.01"
   ]
  },
  {
   "cell_type": "code",
   "execution_count": 74,
   "id": "0dbf38e9-d6d6-485d-814a-234385d9a2ca",
   "metadata": {},
   "outputs": [
    {
     "data": {
      "text/plain": [
       "array([-0.11, -0.09, -0.07, -0.05, -0.03, -0.01,  0.01,  0.03,  0.05,\n",
       "        0.07,  0.09,  0.11])"
      ]
     },
     "execution_count": 74,
     "metadata": {},
     "output_type": "execute_result"
    }
   ],
   "source": [
    "np.unique(df_plot['transAB_change_interval'].values)"
   ]
  },
  {
   "cell_type": "code",
   "execution_count": 82,
   "id": "4b1ea980",
   "metadata": {},
   "outputs": [
    {
     "name": "stderr",
     "output_type": "stream",
     "text": [
      "meta NOT subset; don't know how to subset; dropped\n"
     ]
    },
    {
     "data": {
      "image/png": "[encoded data removed]",
      "text/plain": [
       "<Figure size 900x510 with 1 Axes>"
      ]
     },
     "metadata": {
      "needs_background": "light"
     },
     "output_type": "display_data"
    }
   ],
   "source": [
    "fig = plt.figure(figsize=(3.0,1.7), dpi=300)\n",
    "\n",
    "ax = fig.add_subplot(111)\n",
    "\n",
    "sns.lineplot(data=df_plot, x='transAB_change_interval', y='scores', ax=ax)\n",
    "\n",
    "ax.plot([-0.11,0.11], [0,0], linewidth=0.5, color='gray', linestyle='--')\n",
    "\n",
    "ax.set_ylabel('RNA differential expression\\nmean z-scores (KO/WT)')\n",
    "ax.set_xlabel('Trans AB density change (KO-WT)')\n",
    "\n",
    "ax.set_xticks([-0.1,-0.08,-0.06,-0.04,-0.02,0,0.02,0.04,0.06,0.08,0.1])\n",
    "ax.tick_params(axis='x', rotation=30)\n",
    "\n",
    "figure_name = 'scRNA_Mecp2_score_by_transAB_ratio.pdf'\n",
    "plt.savefig(figure_name)\n",
    "\n",
    "plt.show()"
   ]
  },
  {
   "cell_type": "code",
   "execution_count": null,
   "id": "7f6fd315-5704-4819-9107-a18e46132672",
   "metadata": {},
   "outputs": [],
   "source": []
  }
 ],
 "metadata": {
  "kernelspec": {
   "display_name": "merlin_postanalysis",
   "language": "python",
   "name": "merlin_postanalysis"
  },
  "language_info": {
   "codemirror_mode": {
    "name": "ipython",
    "version": 3
   },
   "file_extension": ".py",
   "mimetype": "text/x-python",
   "name": "python",
   "nbconvert_exporter": "python",
   "pygments_lexer": "ipython3",
   "version": "3.9.12"
  }
 },
 "nbformat": 4,
 "nbformat_minor": 5
}
