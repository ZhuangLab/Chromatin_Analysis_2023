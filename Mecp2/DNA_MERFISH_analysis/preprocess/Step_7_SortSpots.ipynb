{
 "cells": [
  {
   "cell_type": "code",
   "execution_count": 1,
   "id": "00e0e1f8",
   "metadata": {},
   "outputs": [
    {
     "name": "stdout",
     "output_type": "stream",
     "text": [
      "19560\n"
     ]
    }
   ],
   "source": [
    "import sys\n",
    "sys.path.append(r'C:\\Users\\cosmosyw\\Documents\\Softwares')\n",
    "\n",
    "import os\n",
    "import ImageAnalysis3 as ia\n",
    "%matplotlib notebook\n",
    "\n",
    "from ImageAnalysis3 import *\n",
    "print(os.getpid())\n",
    "\n",
    "import h5py\n",
    "from ImageAnalysis3.classes import _allowed_kwds\n",
    "import ast\n",
    "\n",
    "import pandas as pd\n",
    "import numpy as np\n",
    "import copy\n",
    "import time\n",
    "\n",
    "import matplotlib.pyplot as plt"
   ]
  },
  {
   "cell_type": "markdown",
   "id": "0ad9a196",
   "metadata": {},
   "source": [
    "# 1. Load Data"
   ]
  },
  {
   "cell_type": "markdown",
   "id": "e3335815",
   "metadata": {},
   "source": [
    "## Load the spot df folder"
   ]
  },
  {
   "cell_type": "code",
   "execution_count": 2,
   "id": "7f57adca",
   "metadata": {},
   "outputs": [
    {
     "data": {
      "text/plain": [
       "['E:\\\\DNA_analysis\\\\20220729_Mecp2_0724_DNA\\\\Analysis_0507\\\\Picked\\\\CW_v3',\n",
       " 'E:\\\\DNA_analysis\\\\20220819_Mecp2_DNA_from_0809\\\\Analysis_0508\\\\Picked\\\\CW_v3',\n",
       " 'E:\\\\DNA_analysis\\\\20230119_Ma_1027_DNA\\\\Analysis_0505\\\\Picked\\\\CW_v3',\n",
       " 'E:\\\\DNA_analysis\\\\20230316_Mb_1103_DNA\\\\Analysis_0506\\\\Picked\\\\CW_v3']"
      ]
     },
     "execution_count": 2,
     "metadata": {},
     "output_type": "execute_result"
    }
   ],
   "source": [
    "para_subfolder =r'CW_v3'\n",
    "\n",
    "main_folder = r'E:\\DNA_analysis'\n",
    "exp_folder_names = ['20220729_Mecp2_0724_DNA', '20220819_Mecp2_DNA_from_0809', '20230119_Ma_1027_DNA', '20230316_Mb_1103_DNA']\n",
    "exp_folders = [os.path.join(main_folder, _fl) for _fl in exp_folder_names]\n",
    "picked_spot_folders = []\n",
    "for fd in exp_folders:\n",
    "    for _analysis_fd in os.listdir(fd):\n",
    "        if 'Analysis_' in _analysis_fd:\n",
    "            picked_spot_folders.append(os.path.join(fd, _analysis_fd))\n",
    "picked_spot_folders = [os.path.join(_fl,'Picked', para_subfolder) for _fl in picked_spot_folders]\n",
    "picked_spot_folders"
   ]
  },
  {
   "cell_type": "markdown",
   "id": "8ce40573",
   "metadata": {},
   "source": [
    "# 2. Import functions"
   ]
  },
  {
   "cell_type": "code",
   "execution_count": 3,
   "id": "91346a57",
   "metadata": {},
   "outputs": [],
   "source": [
    "import jie\n",
    "from jie.jie import aligner\n",
    "\n",
    "from jie.jie import plot"
   ]
  },
  {
   "cell_type": "code",
   "execution_count": 4,
   "id": "65b23373",
   "metadata": {},
   "outputs": [],
   "source": [
    "import multiprocessing as mp\n",
    "import tqdm\n",
    "\n",
    "num_threads = 16"
   ]
  },
  {
   "cell_type": "markdown",
   "id": "b3288490",
   "metadata": {},
   "source": [
    "# 3. Sort the picked spots for each exp replicate"
   ]
  },
  {
   "cell_type": "markdown",
   "id": "6d2132f5",
   "metadata": {},
   "source": [
    "## Exp 0729"
   ]
  },
  {
   "cell_type": "markdown",
   "id": "f5c2189f",
   "metadata": {},
   "source": [
    "### load data"
   ]
  },
  {
   "cell_type": "code",
   "execution_count": 5,
   "id": "57c6f570",
   "metadata": {},
   "outputs": [
    {
     "data": {
      "text/plain": [
       "'E:\\\\DNA_analysis\\\\20220729_Mecp2_0724_DNA\\\\Analysis_0507\\\\Picked\\\\CW_v3'"
      ]
     },
     "execution_count": 5,
     "metadata": {},
     "output_type": "execute_result"
    }
   ],
   "source": [
    "dna_exp_key= '20220729'\n",
    "\n",
    "# output dict for filename, file\n",
    "output_df_dict = {}\n",
    "\n",
    "exp_picked_spot_folder = [_f for _f in picked_spot_folders if dna_exp_key in _f][0]\n",
    "\n",
    "if os.path.exists(exp_picked_spot_folder):\n",
    "    file_list = [os.path.join(exp_picked_spot_folder, _fl) for _fl in os.listdir(exp_picked_spot_folder) if '.h5' in _fl]\n",
    "    for file in file_list:\n",
    "        output_df_dict[os.path.basename(file)]=pd.read_hdf(file)\n",
    "        \n",
    "exp_picked_spot_folder"
   ]
  },
  {
   "cell_type": "code",
   "execution_count": 6,
   "id": "58a41171",
   "metadata": {},
   "outputs": [
    {
     "data": {
      "text/plain": [
       "dict_keys(['20220729exp_pick_chr1.h5', '20220729exp_pick_chr10.h5', '20220729exp_pick_chr11.h5', '20220729exp_pick_chr12.h5', '20220729exp_pick_chr13.h5', '20220729exp_pick_chr14.h5', '20220729exp_pick_chr15.h5', '20220729exp_pick_chr16.h5', '20220729exp_pick_chr17.h5', '20220729exp_pick_chr18.h5', '20220729exp_pick_chr19.h5', '20220729exp_pick_chr2.h5', '20220729exp_pick_chr3.h5', '20220729exp_pick_chr4.h5', '20220729exp_pick_chr5.h5', '20220729exp_pick_chr6.h5', '20220729exp_pick_chr7.h5', '20220729exp_pick_chr8.h5', '20220729exp_pick_chr9.h5', '20220729exp_pick_chrX.h5'])"
      ]
     },
     "execution_count": 6,
     "metadata": {},
     "output_type": "execute_result"
    }
   ],
   "source": [
    "output_df_dict.keys()"
   ]
  },
  {
   "cell_type": "code",
   "execution_count": 7,
   "id": "0aca3d00",
   "metadata": {},
   "outputs": [
    {
     "data": {
      "text/html": [
       "<div>\n",
       "<style scoped>\n",
       "    .dataframe tbody tr th:only-of-type {\n",
       "        vertical-align: middle;\n",
       "    }\n",
       "\n",
       "    .dataframe tbody tr th {\n",
       "        vertical-align: top;\n",
       "    }\n",
       "\n",
       "    .dataframe thead th {\n",
       "        text-align: right;\n",
       "    }\n",
       "</style>\n",
       "<table border=\"1\" class=\"dataframe\">\n",
       "  <thead>\n",
       "    <tr style=\"text-align: right;\">\n",
       "      <th></th>\n",
       "      <th>replicate</th>\n",
       "      <th>FOV</th>\n",
       "      <th>orig_cellID</th>\n",
       "      <th>finalcellID</th>\n",
       "      <th>celltype</th>\n",
       "      <th>chr</th>\n",
       "      <th>hyb</th>\n",
       "      <th>region_name</th>\n",
       "      <th>x_hat</th>\n",
       "      <th>y_hat</th>\n",
       "      <th>z_hat</th>\n",
       "      <th>sig_x</th>\n",
       "      <th>sig_y</th>\n",
       "      <th>sig_z</th>\n",
       "      <th>rowID</th>\n",
       "      <th>MeCP2_genotype</th>\n",
       "      <th>fiberidx</th>\n",
       "    </tr>\n",
       "  </thead>\n",
       "  <tbody>\n",
       "    <tr>\n",
       "      <th>0</th>\n",
       "      <td>20220729</td>\n",
       "      <td>160</td>\n",
       "      <td>Cell-19</td>\n",
       "      <td>100072942413897134904184107996429957963</td>\n",
       "      <td>Astro</td>\n",
       "      <td>chr1</td>\n",
       "      <td>0</td>\n",
       "      <td>1:3742742-3759944</td>\n",
       "      <td>1545.767100</td>\n",
       "      <td>759.435970</td>\n",
       "      <td>28.892279</td>\n",
       "      <td>1</td>\n",
       "      <td>1</td>\n",
       "      <td>1</td>\n",
       "      <td>16755862</td>\n",
       "      <td>WT</td>\n",
       "      <td>1</td>\n",
       "    </tr>\n",
       "    <tr>\n",
       "      <th>8</th>\n",
       "      <td>20220729</td>\n",
       "      <td>160</td>\n",
       "      <td>Cell-19</td>\n",
       "      <td>100072942413897134904184107996429957963</td>\n",
       "      <td>Astro</td>\n",
       "      <td>chr1</td>\n",
       "      <td>3</td>\n",
       "      <td>1:9627926-9637875</td>\n",
       "      <td>1551.079633</td>\n",
       "      <td>760.952200</td>\n",
       "      <td>22.569937</td>\n",
       "      <td>1</td>\n",
       "      <td>1</td>\n",
       "      <td>1</td>\n",
       "      <td>16758307</td>\n",
       "      <td>WT</td>\n",
       "      <td>1</td>\n",
       "    </tr>\n",
       "    <tr>\n",
       "      <th>25</th>\n",
       "      <td>20220729</td>\n",
       "      <td>160</td>\n",
       "      <td>Cell-19</td>\n",
       "      <td>100072942413897134904184107996429957963</td>\n",
       "      <td>Astro</td>\n",
       "      <td>chr1</td>\n",
       "      <td>9</td>\n",
       "      <td>1:20920666-20929358</td>\n",
       "      <td>1563.958600</td>\n",
       "      <td>762.849700</td>\n",
       "      <td>25.900356</td>\n",
       "      <td>1</td>\n",
       "      <td>1</td>\n",
       "      <td>1</td>\n",
       "      <td>16759627</td>\n",
       "      <td>WT</td>\n",
       "      <td>1</td>\n",
       "    </tr>\n",
       "    <tr>\n",
       "      <th>34</th>\n",
       "      <td>20220729</td>\n",
       "      <td>160</td>\n",
       "      <td>Cell-19</td>\n",
       "      <td>100072942413897134904184107996429957963</td>\n",
       "      <td>Astro</td>\n",
       "      <td>chr1</td>\n",
       "      <td>11</td>\n",
       "      <td>1:21522568-21534512</td>\n",
       "      <td>1570.275800</td>\n",
       "      <td>762.627197</td>\n",
       "      <td>21.983661</td>\n",
       "      <td>1</td>\n",
       "      <td>1</td>\n",
       "      <td>1</td>\n",
       "      <td>16757879</td>\n",
       "      <td>WT</td>\n",
       "      <td>1</td>\n",
       "    </tr>\n",
       "    <tr>\n",
       "      <th>37</th>\n",
       "      <td>20220729</td>\n",
       "      <td>160</td>\n",
       "      <td>Cell-19</td>\n",
       "      <td>100072942413897134904184107996429957963</td>\n",
       "      <td>Astro</td>\n",
       "      <td>chr1</td>\n",
       "      <td>12</td>\n",
       "      <td>1:21732182-21745770</td>\n",
       "      <td>1563.924833</td>\n",
       "      <td>762.916710</td>\n",
       "      <td>25.909013</td>\n",
       "      <td>1</td>\n",
       "      <td>1</td>\n",
       "      <td>1</td>\n",
       "      <td>16757458</td>\n",
       "      <td>WT</td>\n",
       "      <td>1</td>\n",
       "    </tr>\n",
       "    <tr>\n",
       "      <th>...</th>\n",
       "      <td>...</td>\n",
       "      <td>...</td>\n",
       "      <td>...</td>\n",
       "      <td>...</td>\n",
       "      <td>...</td>\n",
       "      <td>...</td>\n",
       "      <td>...</td>\n",
       "      <td>...</td>\n",
       "      <td>...</td>\n",
       "      <td>...</td>\n",
       "      <td>...</td>\n",
       "      <td>...</td>\n",
       "      <td>...</td>\n",
       "      <td>...</td>\n",
       "      <td>...</td>\n",
       "      <td>...</td>\n",
       "      <td>...</td>\n",
       "    </tr>\n",
       "    <tr>\n",
       "      <th>515</th>\n",
       "      <td>20220729</td>\n",
       "      <td>59</td>\n",
       "      <td>Cell-54</td>\n",
       "      <td>94240242758590968427651986201582734953</td>\n",
       "      <td>Vip</td>\n",
       "      <td>chr1</td>\n",
       "      <td>145</td>\n",
       "      <td>1:188751447-188759965</td>\n",
       "      <td>1011.516920</td>\n",
       "      <td>1803.282200</td>\n",
       "      <td>25.717475</td>\n",
       "      <td>1</td>\n",
       "      <td>1</td>\n",
       "      <td>1</td>\n",
       "      <td>27916412</td>\n",
       "      <td>WT</td>\n",
       "      <td>2</td>\n",
       "    </tr>\n",
       "    <tr>\n",
       "      <th>521</th>\n",
       "      <td>20220729</td>\n",
       "      <td>59</td>\n",
       "      <td>Cell-54</td>\n",
       "      <td>94240242758590968427651986201582734953</td>\n",
       "      <td>Vip</td>\n",
       "      <td>chr1</td>\n",
       "      <td>146</td>\n",
       "      <td>1:189040928-189050246</td>\n",
       "      <td>1019.154845</td>\n",
       "      <td>1810.248500</td>\n",
       "      <td>25.141552</td>\n",
       "      <td>1</td>\n",
       "      <td>1</td>\n",
       "      <td>1</td>\n",
       "      <td>27921899</td>\n",
       "      <td>WT</td>\n",
       "      <td>2</td>\n",
       "    </tr>\n",
       "    <tr>\n",
       "      <th>533</th>\n",
       "      <td>20220729</td>\n",
       "      <td>59</td>\n",
       "      <td>Cell-54</td>\n",
       "      <td>94240242758590968427651986201582734953</td>\n",
       "      <td>Vip</td>\n",
       "      <td>chr1</td>\n",
       "      <td>148</td>\n",
       "      <td>1:189510684-189521211</td>\n",
       "      <td>1026.831900</td>\n",
       "      <td>1807.450800</td>\n",
       "      <td>31.602654</td>\n",
       "      <td>1</td>\n",
       "      <td>1</td>\n",
       "      <td>1</td>\n",
       "      <td>27921191</td>\n",
       "      <td>WT</td>\n",
       "      <td>2</td>\n",
       "    </tr>\n",
       "    <tr>\n",
       "      <th>540</th>\n",
       "      <td>20220729</td>\n",
       "      <td>59</td>\n",
       "      <td>Cell-54</td>\n",
       "      <td>94240242758590968427651986201582734953</td>\n",
       "      <td>Vip</td>\n",
       "      <td>chr1</td>\n",
       "      <td>150</td>\n",
       "      <td>1:191250765-191259922</td>\n",
       "      <td>1025.402500</td>\n",
       "      <td>1812.484500</td>\n",
       "      <td>28.427424</td>\n",
       "      <td>1</td>\n",
       "      <td>1</td>\n",
       "      <td>1</td>\n",
       "      <td>27917064</td>\n",
       "      <td>WT</td>\n",
       "      <td>2</td>\n",
       "    </tr>\n",
       "    <tr>\n",
       "      <th>541</th>\n",
       "      <td>20220729</td>\n",
       "      <td>59</td>\n",
       "      <td>Cell-54</td>\n",
       "      <td>94240242758590968427651986201582734953</td>\n",
       "      <td>Vip</td>\n",
       "      <td>chr1</td>\n",
       "      <td>151</td>\n",
       "      <td>1:193105714-193114935</td>\n",
       "      <td>1030.126400</td>\n",
       "      <td>1814.036633</td>\n",
       "      <td>31.987329</td>\n",
       "      <td>1</td>\n",
       "      <td>1</td>\n",
       "      <td>1</td>\n",
       "      <td>27919874</td>\n",
       "      <td>WT</td>\n",
       "      <td>2</td>\n",
       "    </tr>\n",
       "  </tbody>\n",
       "</table>\n",
       "<p>561520 rows × 17 columns</p>\n",
       "</div>"
      ],
      "text/plain": [
       "     replicate  FOV orig_cellID                              finalcellID  \\\n",
       "0     20220729  160     Cell-19  100072942413897134904184107996429957963   \n",
       "8     20220729  160     Cell-19  100072942413897134904184107996429957963   \n",
       "25    20220729  160     Cell-19  100072942413897134904184107996429957963   \n",
       "34    20220729  160     Cell-19  100072942413897134904184107996429957963   \n",
       "37    20220729  160     Cell-19  100072942413897134904184107996429957963   \n",
       "..         ...  ...         ...                                      ...   \n",
       "515   20220729   59     Cell-54   94240242758590968427651986201582734953   \n",
       "521   20220729   59     Cell-54   94240242758590968427651986201582734953   \n",
       "533   20220729   59     Cell-54   94240242758590968427651986201582734953   \n",
       "540   20220729   59     Cell-54   94240242758590968427651986201582734953   \n",
       "541   20220729   59     Cell-54   94240242758590968427651986201582734953   \n",
       "\n",
       "    celltype   chr  hyb            region_name        x_hat        y_hat  \\\n",
       "0      Astro  chr1    0      1:3742742-3759944  1545.767100   759.435970   \n",
       "8      Astro  chr1    3      1:9627926-9637875  1551.079633   760.952200   \n",
       "25     Astro  chr1    9    1:20920666-20929358  1563.958600   762.849700   \n",
       "34     Astro  chr1   11    1:21522568-21534512  1570.275800   762.627197   \n",
       "37     Astro  chr1   12    1:21732182-21745770  1563.924833   762.916710   \n",
       "..       ...   ...  ...                    ...          ...          ...   \n",
       "515      Vip  chr1  145  1:188751447-188759965  1011.516920  1803.282200   \n",
       "521      Vip  chr1  146  1:189040928-189050246  1019.154845  1810.248500   \n",
       "533      Vip  chr1  148  1:189510684-189521211  1026.831900  1807.450800   \n",
       "540      Vip  chr1  150  1:191250765-191259922  1025.402500  1812.484500   \n",
       "541      Vip  chr1  151  1:193105714-193114935  1030.126400  1814.036633   \n",
       "\n",
       "         z_hat  sig_x  sig_y  sig_z     rowID MeCP2_genotype  fiberidx  \n",
       "0    28.892279      1      1      1  16755862             WT         1  \n",
       "8    22.569937      1      1      1  16758307             WT         1  \n",
       "25   25.900356      1      1      1  16759627             WT         1  \n",
       "34   21.983661      1      1      1  16757879             WT         1  \n",
       "37   25.909013      1      1      1  16757458             WT         1  \n",
       "..         ...    ...    ...    ...       ...            ...       ...  \n",
       "515  25.717475      1      1      1  27916412             WT         2  \n",
       "521  25.141552      1      1      1  27921899             WT         2  \n",
       "533  31.602654      1      1      1  27921191             WT         2  \n",
       "540  28.427424      1      1      1  27917064             WT         2  \n",
       "541  31.987329      1      1      1  27919874             WT         2  \n",
       "\n",
       "[561520 rows x 17 columns]"
      ]
     },
     "execution_count": 7,
     "metadata": {},
     "output_type": "execute_result"
    }
   ],
   "source": [
    "output_df_dict[list(output_df_dict.keys())[0]]"
   ]
  },
  {
   "cell_type": "markdown",
   "id": "115af789",
   "metadata": {},
   "source": [
    "### process data"
   ]
  },
  {
   "cell_type": "code",
   "execution_count": 8,
   "id": "ef51fdb8",
   "metadata": {},
   "outputs": [
    {
     "name": "stdout",
     "output_type": "stream",
     "text": [
      "Generating output folders\n"
     ]
    },
    {
     "name": "stderr",
     "output_type": "stream",
     "text": [
      "4805it [00:00, 12743.44it/s]\n"
     ]
    },
    {
     "name": "stdout",
     "output_type": "stream",
     "text": [
      "Start multiprocessing chromosome chr1.\n",
      "Finish processing chromosome chr1.\n",
      "00:02:36.38\n",
      "Finish saving chromosome chr1.\n",
      "+++++++++++++++++++++++++++++++++++++++++++++++++++++++++++++++++++++++++++\n"
     ]
    },
    {
     "name": "stderr",
     "output_type": "stream",
     "text": [
      "5007it [00:00, 10954.83it/s]\n"
     ]
    },
    {
     "name": "stdout",
     "output_type": "stream",
     "text": [
      "Start multiprocessing chromosome chr10.\n",
      "Finish processing chromosome chr10.\n",
      "00:01:43.16\n",
      "Finish saving chromosome chr10.\n",
      "+++++++++++++++++++++++++++++++++++++++++++++++++++++++++++++++++++++++++++\n"
     ]
    },
    {
     "name": "stderr",
     "output_type": "stream",
     "text": [
      "4686it [00:00, 17615.73it/s]\n"
     ]
    },
    {
     "name": "stdout",
     "output_type": "stream",
     "text": [
      "Start multiprocessing chromosome chr11.\n",
      "Finish processing chromosome chr11.\n",
      "00:01:22.63\n",
      "Finish saving chromosome chr11.\n",
      "+++++++++++++++++++++++++++++++++++++++++++++++++++++++++++++++++++++++++++\n"
     ]
    },
    {
     "name": "stderr",
     "output_type": "stream",
     "text": [
      "4664it [00:00, 11697.24it/s]\n"
     ]
    },
    {
     "name": "stdout",
     "output_type": "stream",
     "text": [
      "Start multiprocessing chromosome chr12.\n",
      "Finish processing chromosome chr12.\n",
      "00:00:44.70\n",
      "Finish saving chromosome chr12.\n",
      "+++++++++++++++++++++++++++++++++++++++++++++++++++++++++++++++++++++++++++\n"
     ]
    },
    {
     "name": "stderr",
     "output_type": "stream",
     "text": [
      "4796it [00:00, 17703.12it/s]\n"
     ]
    },
    {
     "name": "stdout",
     "output_type": "stream",
     "text": [
      "Start multiprocessing chromosome chr13.\n",
      "Finish processing chromosome chr13.\n",
      "00:00:56.01\n",
      "Finish saving chromosome chr13.\n",
      "+++++++++++++++++++++++++++++++++++++++++++++++++++++++++++++++++++++++++++\n"
     ]
    },
    {
     "name": "stderr",
     "output_type": "stream",
     "text": [
      "4698it [00:00, 12113.58it/s]\n"
     ]
    },
    {
     "name": "stdout",
     "output_type": "stream",
     "text": [
      "Start multiprocessing chromosome chr14.\n",
      "Finish processing chromosome chr14.\n",
      "00:00:55.98\n",
      "Finish saving chromosome chr14.\n",
      "+++++++++++++++++++++++++++++++++++++++++++++++++++++++++++++++++++++++++++\n"
     ]
    },
    {
     "name": "stderr",
     "output_type": "stream",
     "text": [
      "4666it [00:00, 19697.32it/s]\n"
     ]
    },
    {
     "name": "stdout",
     "output_type": "stream",
     "text": [
      "Start multiprocessing chromosome chr15.\n",
      "Finish processing chromosome chr15.\n",
      "00:00:52.47\n",
      "Finish saving chromosome chr15.\n",
      "+++++++++++++++++++++++++++++++++++++++++++++++++++++++++++++++++++++++++++\n"
     ]
    },
    {
     "name": "stderr",
     "output_type": "stream",
     "text": [
      "4627it [00:00, 12404.85it/s]\n"
     ]
    },
    {
     "name": "stdout",
     "output_type": "stream",
     "text": [
      "Start multiprocessing chromosome chr16.\n",
      "Finish processing chromosome chr16.\n",
      "00:00:45.00\n",
      "Finish saving chromosome chr16.\n",
      "+++++++++++++++++++++++++++++++++++++++++++++++++++++++++++++++++++++++++++\n"
     ]
    },
    {
     "name": "stderr",
     "output_type": "stream",
     "text": [
      "4506it [00:00, 11265.01it/s]\n"
     ]
    },
    {
     "name": "stdout",
     "output_type": "stream",
     "text": [
      "Start multiprocessing chromosome chr17.\n",
      "Finish processing chromosome chr17.\n",
      "00:00:42.75\n",
      "Finish saving chromosome chr17.\n",
      "+++++++++++++++++++++++++++++++++++++++++++++++++++++++++++++++++++++++++++\n"
     ]
    },
    {
     "name": "stderr",
     "output_type": "stream",
     "text": [
      "4754it [00:00, 21960.12it/s]\n"
     ]
    },
    {
     "name": "stdout",
     "output_type": "stream",
     "text": [
      "Start multiprocessing chromosome chr18.\n",
      "Finish processing chromosome chr18.\n",
      "00:00:38.90\n",
      "Finish saving chromosome chr18.\n",
      "+++++++++++++++++++++++++++++++++++++++++++++++++++++++++++++++++++++++++++\n"
     ]
    },
    {
     "name": "stderr",
     "output_type": "stream",
     "text": [
      "4473it [00:00, 12435.67it/s]\n"
     ]
    },
    {
     "name": "stdout",
     "output_type": "stream",
     "text": [
      "Start multiprocessing chromosome chr19.\n",
      "Finish processing chromosome chr19.\n",
      "00:00:33.68\n",
      "Finish saving chromosome chr19.\n",
      "+++++++++++++++++++++++++++++++++++++++++++++++++++++++++++++++++++++++++++\n"
     ]
    },
    {
     "name": "stderr",
     "output_type": "stream",
     "text": [
      "4530it [00:00, 9987.62it/s] \n"
     ]
    },
    {
     "name": "stdout",
     "output_type": "stream",
     "text": [
      "Start multiprocessing chromosome chr2.\n",
      "Finish processing chromosome chr2.\n",
      "00:02:21.57\n",
      "Finish saving chromosome chr2.\n",
      "+++++++++++++++++++++++++++++++++++++++++++++++++++++++++++++++++++++++++++\n"
     ]
    },
    {
     "name": "stderr",
     "output_type": "stream",
     "text": [
      "4996it [00:00, 15910.83it/s]\n"
     ]
    },
    {
     "name": "stdout",
     "output_type": "stream",
     "text": [
      "Start multiprocessing chromosome chr3.\n",
      "Finish processing chromosome chr3.\n",
      "00:01:39.40\n",
      "Finish saving chromosome chr3.\n",
      "+++++++++++++++++++++++++++++++++++++++++++++++++++++++++++++++++++++++++++\n"
     ]
    },
    {
     "name": "stderr",
     "output_type": "stream",
     "text": [
      "4914it [00:00, 16058.17it/s]\n"
     ]
    },
    {
     "name": "stdout",
     "output_type": "stream",
     "text": [
      "Start multiprocessing chromosome chr4.\n",
      "Finish processing chromosome chr4.\n",
      "00:02:03.49\n",
      "Finish saving chromosome chr4.\n",
      "+++++++++++++++++++++++++++++++++++++++++++++++++++++++++++++++++++++++++++\n"
     ]
    },
    {
     "name": "stderr",
     "output_type": "stream",
     "text": [
      "4794it [00:00, 16999.29it/s]\n"
     ]
    },
    {
     "name": "stdout",
     "output_type": "stream",
     "text": [
      "Start multiprocessing chromosome chr5.\n",
      "Finish processing chromosome chr5.\n",
      "00:01:46.97\n",
      "Finish saving chromosome chr5.\n",
      "+++++++++++++++++++++++++++++++++++++++++++++++++++++++++++++++++++++++++++\n"
     ]
    },
    {
     "name": "stderr",
     "output_type": "stream",
     "text": [
      "4704it [00:00, 17552.29it/s]\n"
     ]
    },
    {
     "name": "stdout",
     "output_type": "stream",
     "text": [
      "Start multiprocessing chromosome chr6.\n",
      "Finish processing chromosome chr6.\n",
      "00:01:22.12\n",
      "Finish saving chromosome chr6.\n",
      "+++++++++++++++++++++++++++++++++++++++++++++++++++++++++++++++++++++++++++\n"
     ]
    },
    {
     "name": "stderr",
     "output_type": "stream",
     "text": [
      "4390it [00:00, 18215.83it/s]\n"
     ]
    },
    {
     "name": "stdout",
     "output_type": "stream",
     "text": [
      "Start multiprocessing chromosome chr7.\n",
      "Finish processing chromosome chr7.\n",
      "00:00:56.94\n",
      "Finish saving chromosome chr7.\n",
      "+++++++++++++++++++++++++++++++++++++++++++++++++++++++++++++++++++++++++++\n"
     ]
    },
    {
     "name": "stderr",
     "output_type": "stream",
     "text": [
      "4782it [00:00, 18607.04it/s]\n"
     ]
    },
    {
     "name": "stdout",
     "output_type": "stream",
     "text": [
      "Start multiprocessing chromosome chr8.\n",
      "Finish processing chromosome chr8.\n",
      "00:01:11.67\n",
      "Finish saving chromosome chr8.\n",
      "+++++++++++++++++++++++++++++++++++++++++++++++++++++++++++++++++++++++++++\n"
     ]
    },
    {
     "name": "stderr",
     "output_type": "stream",
     "text": [
      "4530it [00:00, 11705.45it/s]\n"
     ]
    },
    {
     "name": "stdout",
     "output_type": "stream",
     "text": [
      "Start multiprocessing chromosome chr9.\n",
      "Finish processing chromosome chr9.\n",
      "00:01:03.22\n",
      "Finish saving chromosome chr9.\n",
      "+++++++++++++++++++++++++++++++++++++++++++++++++++++++++++++++++++++++++++\n"
     ]
    },
    {
     "name": "stderr",
     "output_type": "stream",
     "text": [
      "4560it [00:00, 21408.49it/s]\n"
     ]
    },
    {
     "name": "stdout",
     "output_type": "stream",
     "text": [
      "Start multiprocessing chromosome chrX.\n",
      "Finish processing chromosome chrX.\n",
      "00:00:31.89\n",
      "Finish saving chromosome chrX.\n",
      "+++++++++++++++++++++++++++++++++++++++++++++++++++++++++++++++++++++++++++\n"
     ]
    }
   ],
   "source": [
    "# define output folder\n",
    "output_folder = exp_picked_spot_folder.replace(para_subfolder, f'{para_subfolder}_sorted')\n",
    "if not os.path.exists(output_folder):\n",
    "    os.mkdir(output_folder)\n",
    "    print ('Generating output folders')\n",
    "    \n",
    "# loop through all chr h5-df    \n",
    "for fname, chr_df_all in output_df_dict.items():\n",
    "    \n",
    "    output_fname = os.path.join(output_folder, fname)\n",
    "    chosen_chrom = chr_df_all['chr'].values[0]\n",
    "    \n",
    "    chr_df_cell_list = []\n",
    "    # group by celltype, finalcellD\n",
    "    for i, (name, group) in tqdm.tqdm(enumerate(chr_df_all.groupby(by=['celltype','finalcellID']))):\n",
    "        chr_df_cell = copy.deepcopy(group)\n",
    "        chr_df_cell_list.append(chr_df_cell)\n",
    "        \n",
    "    del chr_df_all\n",
    "    print(f'Start multiprocessing chromosome {chosen_chrom}.')\n",
    "    start_time = time.time()\n",
    "    with mp.Pool(num_threads) as sort_pool:\n",
    "        _res = sort_pool.starmap(aligner.sort_spots_by_fiber_density, zip(chr_df_cell_list), chunksize=1)\n",
    "        sort_pool.close()\n",
    "        sort_pool.join()\n",
    "        sort_pool.terminate()\n",
    "\n",
    "    elapsed_time = time.time() - start_time\n",
    "    print(f'Finish processing chromosome {chosen_chrom}.')\n",
    "    hours, rem = divmod(elapsed_time, 3600)\n",
    "    minutes, seconds = divmod(rem, 60)\n",
    "    print(\"{:0>2}:{:0>2}:{:05.2f}\".format(int(hours),int(minutes),seconds))\n",
    "    \n",
    "    sorted_chr_df_all = pd.concat(_res)\n",
    "    sorted_chr_df_all.to_hdf(output_fname, key='df', mode='w')\n",
    "    #del(sorted_chr_df_all)\n",
    "    print(f'Finish saving chromosome {chosen_chrom}.')\n",
    "    print(f'+++++++++++++++++++++++++++++++++++++++++++++++++++++++++++++++++++++++++++')\n",
    "    \n"
   ]
  },
  {
   "cell_type": "markdown",
   "id": "804e3810",
   "metadata": {},
   "source": [
    "## Exp 0819"
   ]
  },
  {
   "cell_type": "markdown",
   "id": "50a6e1cd",
   "metadata": {},
   "source": [
    "### load data"
   ]
  },
  {
   "cell_type": "code",
   "execution_count": 9,
   "id": "720e8574",
   "metadata": {},
   "outputs": [
    {
     "data": {
      "text/plain": [
       "'E:\\\\DNA_analysis\\\\20220819_Mecp2_DNA_from_0809\\\\Analysis_0508\\\\Picked\\\\CW_v3'"
      ]
     },
     "execution_count": 9,
     "metadata": {},
     "output_type": "execute_result"
    }
   ],
   "source": [
    "dna_exp_key= '20220819'\n",
    "\n",
    "# output dict for filename, file\n",
    "output_df_dict = {}\n",
    "\n",
    "exp_picked_spot_folder = [_f for _f in picked_spot_folders if dna_exp_key in _f][0]\n",
    "\n",
    "if os.path.exists(exp_picked_spot_folder):\n",
    "    file_list = [os.path.join(exp_picked_spot_folder, _fl) for _fl in os.listdir(exp_picked_spot_folder) if '.h5' in _fl]\n",
    "    for file in file_list:\n",
    "        output_df_dict[os.path.basename(file)]=pd.read_hdf(file)\n",
    "        \n",
    "exp_picked_spot_folder"
   ]
  },
  {
   "cell_type": "markdown",
   "id": "9072d1ee",
   "metadata": {},
   "source": [
    "### process data"
   ]
  },
  {
   "cell_type": "code",
   "execution_count": 10,
   "id": "8e253e0c",
   "metadata": {},
   "outputs": [
    {
     "name": "stdout",
     "output_type": "stream",
     "text": [
      "Generating output folders\n"
     ]
    },
    {
     "name": "stderr",
     "output_type": "stream",
     "text": [
      "9176it [00:00, 12316.79it/s]\n"
     ]
    },
    {
     "name": "stdout",
     "output_type": "stream",
     "text": [
      "Start multiprocessing chromosome chr1.\n",
      "Finish processing chromosome chr1.\n",
      "00:03:59.30\n",
      "Finish saving chromosome chr1.\n",
      "+++++++++++++++++++++++++++++++++++++++++++++++++++++++++++++++++++++++++++\n"
     ]
    },
    {
     "name": "stderr",
     "output_type": "stream",
     "text": [
      "9831it [00:00, 15629.57it/s]\n"
     ]
    },
    {
     "name": "stdout",
     "output_type": "stream",
     "text": [
      "Start multiprocessing chromosome chr10.\n",
      "Finish processing chromosome chr10.\n",
      "00:02:55.85\n",
      "Finish saving chromosome chr10.\n",
      "+++++++++++++++++++++++++++++++++++++++++++++++++++++++++++++++++++++++++++\n"
     ]
    },
    {
     "name": "stderr",
     "output_type": "stream",
     "text": [
      "9131it [00:00, 18045.34it/s]\n"
     ]
    },
    {
     "name": "stdout",
     "output_type": "stream",
     "text": [
      "Start multiprocessing chromosome chr11.\n",
      "Finish processing chromosome chr11.\n",
      "00:02:22.12\n",
      "Finish saving chromosome chr11.\n",
      "+++++++++++++++++++++++++++++++++++++++++++++++++++++++++++++++++++++++++++\n"
     ]
    },
    {
     "name": "stderr",
     "output_type": "stream",
     "text": [
      "9214it [00:00, 12519.02it/s]\n"
     ]
    },
    {
     "name": "stdout",
     "output_type": "stream",
     "text": [
      "Start multiprocessing chromosome chr12.\n",
      "Finish processing chromosome chr12.\n",
      "00:01:26.58\n",
      "Finish saving chromosome chr12.\n",
      "+++++++++++++++++++++++++++++++++++++++++++++++++++++++++++++++++++++++++++\n"
     ]
    },
    {
     "name": "stderr",
     "output_type": "stream",
     "text": [
      "9077it [00:00, 18793.03it/s]\n"
     ]
    },
    {
     "name": "stdout",
     "output_type": "stream",
     "text": [
      "Start multiprocessing chromosome chr13.\n",
      "Finish processing chromosome chr13.\n",
      "00:01:30.67\n",
      "Finish saving chromosome chr13.\n",
      "+++++++++++++++++++++++++++++++++++++++++++++++++++++++++++++++++++++++++++\n"
     ]
    },
    {
     "name": "stderr",
     "output_type": "stream",
     "text": [
      "9136it [00:00, 13279.10it/s]\n"
     ]
    },
    {
     "name": "stdout",
     "output_type": "stream",
     "text": [
      "Start multiprocessing chromosome chr14.\n",
      "Finish processing chromosome chr14.\n",
      "00:01:38.26\n",
      "Finish saving chromosome chr14.\n",
      "+++++++++++++++++++++++++++++++++++++++++++++++++++++++++++++++++++++++++++\n"
     ]
    },
    {
     "name": "stderr",
     "output_type": "stream",
     "text": [
      "8930it [00:00, 13348.29it/s]\n"
     ]
    },
    {
     "name": "stdout",
     "output_type": "stream",
     "text": [
      "Start multiprocessing chromosome chr15.\n",
      "Finish processing chromosome chr15.\n",
      "00:01:30.25\n",
      "Finish saving chromosome chr15.\n",
      "+++++++++++++++++++++++++++++++++++++++++++++++++++++++++++++++++++++++++++\n"
     ]
    },
    {
     "name": "stderr",
     "output_type": "stream",
     "text": [
      "8967it [00:00, 13186.77it/s]\n"
     ]
    },
    {
     "name": "stdout",
     "output_type": "stream",
     "text": [
      "Start multiprocessing chromosome chr16.\n",
      "Finish processing chromosome chr16.\n",
      "00:01:19.43\n",
      "Finish saving chromosome chr16.\n",
      "+++++++++++++++++++++++++++++++++++++++++++++++++++++++++++++++++++++++++++\n"
     ]
    },
    {
     "name": "stderr",
     "output_type": "stream",
     "text": [
      "8565it [00:00, 13552.23it/s]\n"
     ]
    },
    {
     "name": "stdout",
     "output_type": "stream",
     "text": [
      "Start multiprocessing chromosome chr17.\n",
      "Finish processing chromosome chr17.\n",
      "00:01:07.13\n",
      "Finish saving chromosome chr17.\n",
      "+++++++++++++++++++++++++++++++++++++++++++++++++++++++++++++++++++++++++++\n"
     ]
    },
    {
     "name": "stderr",
     "output_type": "stream",
     "text": [
      "9458it [00:00, 14243.98it/s]\n"
     ]
    },
    {
     "name": "stdout",
     "output_type": "stream",
     "text": [
      "Start multiprocessing chromosome chr18.\n",
      "Finish processing chromosome chr18.\n",
      "00:01:12.88\n",
      "Finish saving chromosome chr18.\n",
      "+++++++++++++++++++++++++++++++++++++++++++++++++++++++++++++++++++++++++++\n"
     ]
    },
    {
     "name": "stderr",
     "output_type": "stream",
     "text": [
      "8405it [00:00, 22413.43it/s]\n"
     ]
    },
    {
     "name": "stdout",
     "output_type": "stream",
     "text": [
      "Start multiprocessing chromosome chr19.\n",
      "Finish processing chromosome chr19.\n",
      "00:00:55.42\n",
      "Finish saving chromosome chr19.\n",
      "+++++++++++++++++++++++++++++++++++++++++++++++++++++++++++++++++++++++++++\n"
     ]
    },
    {
     "name": "stderr",
     "output_type": "stream",
     "text": [
      "8718it [00:00, 16204.46it/s]\n"
     ]
    },
    {
     "name": "stdout",
     "output_type": "stream",
     "text": [
      "Start multiprocessing chromosome chr2.\n",
      "Finish processing chromosome chr2.\n",
      "00:03:33.26\n",
      "Finish saving chromosome chr2.\n",
      "+++++++++++++++++++++++++++++++++++++++++++++++++++++++++++++++++++++++++++\n"
     ]
    },
    {
     "name": "stderr",
     "output_type": "stream",
     "text": [
      "9775it [00:00, 12612.91it/s]\n"
     ]
    },
    {
     "name": "stdout",
     "output_type": "stream",
     "text": [
      "Start multiprocessing chromosome chr3.\n",
      "Finish processing chromosome chr3.\n",
      "00:02:49.05\n",
      "Finish saving chromosome chr3.\n",
      "+++++++++++++++++++++++++++++++++++++++++++++++++++++++++++++++++++++++++++\n"
     ]
    },
    {
     "name": "stderr",
     "output_type": "stream",
     "text": [
      "9568it [00:01, 9298.35it/s] \n"
     ]
    },
    {
     "name": "stdout",
     "output_type": "stream",
     "text": [
      "Start multiprocessing chromosome chr4.\n",
      "Finish processing chromosome chr4.\n",
      "00:03:16.19\n",
      "Finish saving chromosome chr4.\n",
      "+++++++++++++++++++++++++++++++++++++++++++++++++++++++++++++++++++++++++++\n"
     ]
    },
    {
     "name": "stderr",
     "output_type": "stream",
     "text": [
      "9289it [00:00, 17427.78it/s]\n"
     ]
    },
    {
     "name": "stdout",
     "output_type": "stream",
     "text": [
      "Start multiprocessing chromosome chr5.\n",
      "Finish processing chromosome chr5.\n",
      "00:02:45.62\n",
      "Finish saving chromosome chr5.\n",
      "+++++++++++++++++++++++++++++++++++++++++++++++++++++++++++++++++++++++++++\n"
     ]
    },
    {
     "name": "stderr",
     "output_type": "stream",
     "text": [
      "9356it [00:00, 12575.28it/s]\n"
     ]
    },
    {
     "name": "stdout",
     "output_type": "stream",
     "text": [
      "Start multiprocessing chromosome chr6.\n",
      "Finish processing chromosome chr6.\n",
      "00:02:18.75\n",
      "Finish saving chromosome chr6.\n",
      "+++++++++++++++++++++++++++++++++++++++++++++++++++++++++++++++++++++++++++\n"
     ]
    },
    {
     "name": "stderr",
     "output_type": "stream",
     "text": [
      "8540it [00:00, 13158.71it/s]\n"
     ]
    },
    {
     "name": "stdout",
     "output_type": "stream",
     "text": [
      "Start multiprocessing chromosome chr7.\n",
      "Finish processing chromosome chr7.\n",
      "00:01:42.61\n",
      "Finish saving chromosome chr7.\n",
      "+++++++++++++++++++++++++++++++++++++++++++++++++++++++++++++++++++++++++++\n"
     ]
    },
    {
     "name": "stderr",
     "output_type": "stream",
     "text": [
      "9132it [00:00, 12934.86it/s]\n"
     ]
    },
    {
     "name": "stdout",
     "output_type": "stream",
     "text": [
      "Start multiprocessing chromosome chr8.\n",
      "Finish processing chromosome chr8.\n",
      "00:01:59.38\n",
      "Finish saving chromosome chr8.\n",
      "+++++++++++++++++++++++++++++++++++++++++++++++++++++++++++++++++++++++++++\n"
     ]
    },
    {
     "name": "stderr",
     "output_type": "stream",
     "text": [
      "8875it [00:00, 18374.72it/s]\n"
     ]
    },
    {
     "name": "stdout",
     "output_type": "stream",
     "text": [
      "Start multiprocessing chromosome chr9.\n",
      "Finish processing chromosome chr9.\n",
      "00:01:55.40\n",
      "Finish saving chromosome chr9.\n",
      "+++++++++++++++++++++++++++++++++++++++++++++++++++++++++++++++++++++++++++\n"
     ]
    },
    {
     "name": "stderr",
     "output_type": "stream",
     "text": [
      "9209it [00:00, 14081.05it/s]\n"
     ]
    },
    {
     "name": "stdout",
     "output_type": "stream",
     "text": [
      "Start multiprocessing chromosome chrX.\n",
      "Finish processing chromosome chrX.\n",
      "00:01:03.56\n",
      "Finish saving chromosome chrX.\n",
      "+++++++++++++++++++++++++++++++++++++++++++++++++++++++++++++++++++++++++++\n"
     ]
    }
   ],
   "source": [
    "# define output folder\n",
    "output_folder = exp_picked_spot_folder.replace(para_subfolder, f'{para_subfolder}_sorted')\n",
    "if not os.path.exists(output_folder):\n",
    "    os.mkdir(output_folder)\n",
    "    print ('Generating output folders')\n",
    "    \n",
    "# loop through all chr h5-df    \n",
    "for fname, chr_df_all in output_df_dict.items():\n",
    "    \n",
    "    output_fname = os.path.join(output_folder, fname)\n",
    "    chosen_chrom = chr_df_all['chr'].values[0]\n",
    "    \n",
    "    chr_df_cell_list = []\n",
    "    # group by celltype, finalcellD\n",
    "    for i, (name, group) in tqdm.tqdm(enumerate(chr_df_all.groupby(by=['celltype','finalcellID']))):\n",
    "        chr_df_cell = copy.deepcopy(group)\n",
    "        chr_df_cell_list.append(chr_df_cell)\n",
    "        \n",
    "    del chr_df_all\n",
    "    print(f'Start multiprocessing chromosome {chosen_chrom}.')\n",
    "    start_time = time.time()\n",
    "    with mp.Pool(num_threads) as sort_pool:\n",
    "        _res = sort_pool.starmap(aligner.sort_spots_by_fiber_density, zip(chr_df_cell_list), chunksize=1)\n",
    "        sort_pool.close()\n",
    "        sort_pool.join()\n",
    "        sort_pool.terminate()\n",
    "\n",
    "    elapsed_time = time.time() - start_time\n",
    "    print(f'Finish processing chromosome {chosen_chrom}.')\n",
    "    hours, rem = divmod(elapsed_time, 3600)\n",
    "    minutes, seconds = divmod(rem, 60)\n",
    "    print(\"{:0>2}:{:0>2}:{:05.2f}\".format(int(hours),int(minutes),seconds))\n",
    "    \n",
    "    sorted_chr_df_all = pd.concat(_res)\n",
    "    sorted_chr_df_all.to_hdf(output_fname, key='df', mode='w')\n",
    "    #del(sorted_chr_df_all)\n",
    "    print(f'Finish saving chromosome {chosen_chrom}.')\n",
    "    print(f'+++++++++++++++++++++++++++++++++++++++++++++++++++++++++++++++++++++++++++')\n",
    "    \n"
   ]
  },
  {
   "cell_type": "markdown",
   "id": "15e3aaf7",
   "metadata": {},
   "source": [
    "# Exp 1027"
   ]
  },
  {
   "cell_type": "code",
   "execution_count": 11,
   "id": "064d5ef4",
   "metadata": {},
   "outputs": [
    {
     "name": "stdout",
     "output_type": "stream",
     "text": [
      "Generating output folders\n"
     ]
    },
    {
     "name": "stderr",
     "output_type": "stream",
     "text": [
      "6463it [00:00, 11438.94it/s]\n"
     ]
    },
    {
     "name": "stdout",
     "output_type": "stream",
     "text": [
      "Start multiprocessing chromosome chr1.\n",
      "Finish processing chromosome chr1.\n",
      "00:01:32.59\n",
      "Finish saving chromosome chr1.\n",
      "+++++++++++++++++++++++++++++++++++++++++++++++++++++++++++++++++++++++++++\n"
     ]
    },
    {
     "name": "stderr",
     "output_type": "stream",
     "text": [
      "7418it [00:00, 18498.79it/s]\n"
     ]
    },
    {
     "name": "stdout",
     "output_type": "stream",
     "text": [
      "Start multiprocessing chromosome chr10.\n",
      "Finish processing chromosome chr10.\n",
      "00:01:07.44\n",
      "Finish saving chromosome chr10.\n",
      "+++++++++++++++++++++++++++++++++++++++++++++++++++++++++++++++++++++++++++\n"
     ]
    },
    {
     "name": "stderr",
     "output_type": "stream",
     "text": [
      "7503it [00:00, 12738.52it/s]\n"
     ]
    },
    {
     "name": "stdout",
     "output_type": "stream",
     "text": [
      "Start multiprocessing chromosome chr11.\n",
      "Finish processing chromosome chr11.\n",
      "00:00:57.13\n",
      "Finish saving chromosome chr11.\n",
      "+++++++++++++++++++++++++++++++++++++++++++++++++++++++++++++++++++++++++++\n"
     ]
    },
    {
     "name": "stderr",
     "output_type": "stream",
     "text": [
      "7441it [00:00, 13407.26it/s]\n"
     ]
    },
    {
     "name": "stdout",
     "output_type": "stream",
     "text": [
      "Start multiprocessing chromosome chr12.\n",
      "Finish processing chromosome chr12.\n",
      "00:00:41.05\n",
      "Finish saving chromosome chr12.\n",
      "+++++++++++++++++++++++++++++++++++++++++++++++++++++++++++++++++++++++++++\n"
     ]
    },
    {
     "name": "stderr",
     "output_type": "stream",
     "text": [
      "6909it [00:00, 13654.16it/s]\n"
     ]
    },
    {
     "name": "stdout",
     "output_type": "stream",
     "text": [
      "Start multiprocessing chromosome chr13.\n",
      "Finish processing chromosome chr13.\n",
      "00:00:38.99\n",
      "Finish saving chromosome chr13.\n",
      "+++++++++++++++++++++++++++++++++++++++++++++++++++++++++++++++++++++++++++\n"
     ]
    },
    {
     "name": "stderr",
     "output_type": "stream",
     "text": [
      "6616it [00:00, 13365.67it/s]\n"
     ]
    },
    {
     "name": "stdout",
     "output_type": "stream",
     "text": [
      "Start multiprocessing chromosome chr14.\n",
      "Finish processing chromosome chr14.\n",
      "00:00:42.68\n",
      "Finish saving chromosome chr14.\n",
      "+++++++++++++++++++++++++++++++++++++++++++++++++++++++++++++++++++++++++++\n"
     ]
    },
    {
     "name": "stderr",
     "output_type": "stream",
     "text": [
      "7209it [00:00, 14107.64it/s]\n"
     ]
    },
    {
     "name": "stdout",
     "output_type": "stream",
     "text": [
      "Start multiprocessing chromosome chr15.\n",
      "Finish processing chromosome chr15.\n",
      "00:00:39.92\n",
      "Finish saving chromosome chr15.\n",
      "+++++++++++++++++++++++++++++++++++++++++++++++++++++++++++++++++++++++++++\n"
     ]
    },
    {
     "name": "stderr",
     "output_type": "stream",
     "text": [
      "6845it [00:00, 21939.15it/s]\n"
     ]
    },
    {
     "name": "stdout",
     "output_type": "stream",
     "text": [
      "Start multiprocessing chromosome chr16.\n",
      "Finish processing chromosome chr16.\n",
      "00:00:33.49\n",
      "Finish saving chromosome chr16.\n",
      "+++++++++++++++++++++++++++++++++++++++++++++++++++++++++++++++++++++++++++\n"
     ]
    },
    {
     "name": "stderr",
     "output_type": "stream",
     "text": [
      "6842it [00:00, 22142.41it/s]\n"
     ]
    },
    {
     "name": "stdout",
     "output_type": "stream",
     "text": [
      "Start multiprocessing chromosome chr17.\n",
      "Finish processing chromosome chr17.\n",
      "00:00:29.37\n",
      "Finish saving chromosome chr17.\n",
      "+++++++++++++++++++++++++++++++++++++++++++++++++++++++++++++++++++++++++++\n"
     ]
    },
    {
     "name": "stderr",
     "output_type": "stream",
     "text": [
      "7274it [00:00, 21909.68it/s]\n"
     ]
    },
    {
     "name": "stdout",
     "output_type": "stream",
     "text": [
      "Start multiprocessing chromosome chr18.\n",
      "Finish processing chromosome chr18.\n",
      "00:00:33.90\n",
      "Finish saving chromosome chr18.\n",
      "+++++++++++++++++++++++++++++++++++++++++++++++++++++++++++++++++++++++++++\n"
     ]
    },
    {
     "name": "stderr",
     "output_type": "stream",
     "text": [
      "7346it [00:00, 23320.65it/s]\n"
     ]
    },
    {
     "name": "stdout",
     "output_type": "stream",
     "text": [
      "Start multiprocessing chromosome chr19.\n",
      "Finish processing chromosome chr19.\n",
      "00:00:26.94\n",
      "Finish saving chromosome chr19.\n",
      "+++++++++++++++++++++++++++++++++++++++++++++++++++++++++++++++++++++++++++\n"
     ]
    },
    {
     "name": "stderr",
     "output_type": "stream",
     "text": [
      "6619it [00:00, 17418.46it/s]\n"
     ]
    },
    {
     "name": "stdout",
     "output_type": "stream",
     "text": [
      "Start multiprocessing chromosome chr2.\n",
      "Finish processing chromosome chr2.\n",
      "00:01:21.50\n",
      "Finish saving chromosome chr2.\n",
      "+++++++++++++++++++++++++++++++++++++++++++++++++++++++++++++++++++++++++++\n"
     ]
    },
    {
     "name": "stderr",
     "output_type": "stream",
     "text": [
      "7007it [00:00, 13024.16it/s]\n"
     ]
    },
    {
     "name": "stdout",
     "output_type": "stream",
     "text": [
      "Start multiprocessing chromosome chr3.\n",
      "Finish processing chromosome chr3.\n",
      "00:01:00.69\n",
      "Finish saving chromosome chr3.\n",
      "+++++++++++++++++++++++++++++++++++++++++++++++++++++++++++++++++++++++++++\n"
     ]
    },
    {
     "name": "stderr",
     "output_type": "stream",
     "text": [
      "7902it [00:00, 18419.71it/s]\n"
     ]
    },
    {
     "name": "stdout",
     "output_type": "stream",
     "text": [
      "Start multiprocessing chromosome chr4.\n",
      "Finish processing chromosome chr4.\n",
      "00:01:32.70\n",
      "Finish saving chromosome chr4.\n",
      "+++++++++++++++++++++++++++++++++++++++++++++++++++++++++++++++++++++++++++\n"
     ]
    },
    {
     "name": "stderr",
     "output_type": "stream",
     "text": [
      "7354it [00:00, 11766.41it/s]\n"
     ]
    },
    {
     "name": "stdout",
     "output_type": "stream",
     "text": [
      "Start multiprocessing chromosome chr5.\n",
      "Finish processing chromosome chr5.\n",
      "00:01:14.11\n",
      "Finish saving chromosome chr5.\n",
      "+++++++++++++++++++++++++++++++++++++++++++++++++++++++++++++++++++++++++++\n"
     ]
    },
    {
     "name": "stderr",
     "output_type": "stream",
     "text": [
      "6862it [00:00, 18201.60it/s]\n"
     ]
    },
    {
     "name": "stdout",
     "output_type": "stream",
     "text": [
      "Start multiprocessing chromosome chr6.\n",
      "Finish processing chromosome chr6.\n",
      "00:00:54.70\n",
      "Finish saving chromosome chr6.\n",
      "+++++++++++++++++++++++++++++++++++++++++++++++++++++++++++++++++++++++++++\n"
     ]
    },
    {
     "name": "stderr",
     "output_type": "stream",
     "text": [
      "7138it [00:00, 13194.41it/s]\n"
     ]
    },
    {
     "name": "stdout",
     "output_type": "stream",
     "text": [
      "Start multiprocessing chromosome chr7.\n",
      "Finish processing chromosome chr7.\n",
      "00:00:47.37\n",
      "Finish saving chromosome chr7.\n",
      "+++++++++++++++++++++++++++++++++++++++++++++++++++++++++++++++++++++++++++\n"
     ]
    },
    {
     "name": "stderr",
     "output_type": "stream",
     "text": [
      "7145it [00:00, 12535.10it/s]\n"
     ]
    },
    {
     "name": "stdout",
     "output_type": "stream",
     "text": [
      "Start multiprocessing chromosome chr8.\n",
      "Finish processing chromosome chr8.\n",
      "00:00:50.38\n",
      "Finish saving chromosome chr8.\n",
      "+++++++++++++++++++++++++++++++++++++++++++++++++++++++++++++++++++++++++++\n"
     ]
    },
    {
     "name": "stderr",
     "output_type": "stream",
     "text": [
      "6909it [00:00, 12607.67it/s]\n"
     ]
    },
    {
     "name": "stdout",
     "output_type": "stream",
     "text": [
      "Start multiprocessing chromosome chr9.\n",
      "Finish processing chromosome chr9.\n",
      "00:00:47.77\n",
      "Finish saving chromosome chr9.\n",
      "+++++++++++++++++++++++++++++++++++++++++++++++++++++++++++++++++++++++++++\n"
     ]
    },
    {
     "name": "stderr",
     "output_type": "stream",
     "text": [
      "6528it [00:00, 13295.36it/s]\n"
     ]
    },
    {
     "name": "stdout",
     "output_type": "stream",
     "text": [
      "Start multiprocessing chromosome chrX.\n",
      "Finish processing chromosome chrX.\n",
      "00:00:23.45\n",
      "Finish saving chromosome chrX.\n",
      "+++++++++++++++++++++++++++++++++++++++++++++++++++++++++++++++++++++++++++\n"
     ]
    }
   ],
   "source": [
    "dna_exp_key= '20230119'\n",
    "\n",
    "# output dict for filename, file\n",
    "output_df_dict = {}\n",
    "\n",
    "exp_picked_spot_folder = [_f for _f in picked_spot_folders if dna_exp_key in _f][0]\n",
    "\n",
    "if os.path.exists(exp_picked_spot_folder):\n",
    "    file_list = [os.path.join(exp_picked_spot_folder, _fl) for _fl in os.listdir(exp_picked_spot_folder) if '.h5' in _fl]\n",
    "    for file in file_list:\n",
    "        output_df_dict[os.path.basename(file)]=pd.read_hdf(file)\n",
    "        \n",
    "# define output folder\n",
    "output_folder = exp_picked_spot_folder.replace(para_subfolder, f'{para_subfolder}_sorted')\n",
    "if not os.path.exists(output_folder):\n",
    "    os.mkdir(output_folder)\n",
    "    print ('Generating output folders')\n",
    "    \n",
    "# loop through all chr h5-df    \n",
    "for fname, chr_df_all in output_df_dict.items():\n",
    "    \n",
    "    output_fname = os.path.join(output_folder, fname)\n",
    "    chosen_chrom = chr_df_all['chr'].values[0]\n",
    "    \n",
    "    chr_df_cell_list = []\n",
    "    # group by celltype, finalcellD\n",
    "    for i, (name, group) in tqdm.tqdm(enumerate(chr_df_all.groupby(by=['celltype','finalcellID']))):\n",
    "        chr_df_cell = copy.deepcopy(group)\n",
    "        chr_df_cell_list.append(chr_df_cell)\n",
    "        \n",
    "    del chr_df_all\n",
    "    print(f'Start multiprocessing chromosome {chosen_chrom}.')\n",
    "    start_time = time.time()\n",
    "    with mp.Pool(num_threads) as sort_pool:\n",
    "        _res = sort_pool.starmap(aligner.sort_spots_by_fiber_density, zip(chr_df_cell_list), chunksize=1)\n",
    "        sort_pool.close()\n",
    "        sort_pool.join()\n",
    "        sort_pool.terminate()\n",
    "\n",
    "    elapsed_time = time.time() - start_time\n",
    "    print(f'Finish processing chromosome {chosen_chrom}.')\n",
    "    hours, rem = divmod(elapsed_time, 3600)\n",
    "    minutes, seconds = divmod(rem, 60)\n",
    "    print(\"{:0>2}:{:0>2}:{:05.2f}\".format(int(hours),int(minutes),seconds))\n",
    "    \n",
    "    sorted_chr_df_all = pd.concat(_res)\n",
    "    sorted_chr_df_all.to_hdf(output_fname, key='df', mode='w')\n",
    "    #del(sorted_chr_df_all)\n",
    "    print(f'Finish saving chromosome {chosen_chrom}.')\n",
    "    print(f'+++++++++++++++++++++++++++++++++++++++++++++++++++++++++++++++++++++++++++')\n",
    "    \n"
   ]
  },
  {
   "cell_type": "markdown",
   "id": "24b55d7d",
   "metadata": {},
   "source": [
    "# Exp 1103"
   ]
  },
  {
   "cell_type": "code",
   "execution_count": 12,
   "id": "92316a20",
   "metadata": {},
   "outputs": [
    {
     "name": "stdout",
     "output_type": "stream",
     "text": [
      "Generating output folders\n"
     ]
    },
    {
     "name": "stderr",
     "output_type": "stream",
     "text": [
      "7621it [00:00, 17974.11it/s]\n"
     ]
    },
    {
     "name": "stdout",
     "output_type": "stream",
     "text": [
      "Start multiprocessing chromosome chr1.\n",
      "Finish processing chromosome chr1.\n",
      "00:03:04.26\n",
      "Finish saving chromosome chr1.\n",
      "+++++++++++++++++++++++++++++++++++++++++++++++++++++++++++++++++++++++++++\n"
     ]
    },
    {
     "name": "stderr",
     "output_type": "stream",
     "text": [
      "7895it [00:00, 11854.38it/s]\n"
     ]
    },
    {
     "name": "stdout",
     "output_type": "stream",
     "text": [
      "Start multiprocessing chromosome chr10.\n",
      "Finish processing chromosome chr10.\n",
      "00:01:52.64\n",
      "Finish saving chromosome chr10.\n",
      "+++++++++++++++++++++++++++++++++++++++++++++++++++++++++++++++++++++++++++\n"
     ]
    },
    {
     "name": "stderr",
     "output_type": "stream",
     "text": [
      "7557it [00:00, 12207.71it/s]\n"
     ]
    },
    {
     "name": "stdout",
     "output_type": "stream",
     "text": [
      "Start multiprocessing chromosome chr11.\n",
      "Finish processing chromosome chr11.\n",
      "00:01:29.54\n",
      "Finish saving chromosome chr11.\n",
      "+++++++++++++++++++++++++++++++++++++++++++++++++++++++++++++++++++++++++++\n"
     ]
    },
    {
     "name": "stderr",
     "output_type": "stream",
     "text": [
      "7808it [00:00, 12200.01it/s]\n"
     ]
    },
    {
     "name": "stdout",
     "output_type": "stream",
     "text": [
      "Start multiprocessing chromosome chr12.\n",
      "Finish processing chromosome chr12.\n",
      "00:01:00.93\n",
      "Finish saving chromosome chr12.\n",
      "+++++++++++++++++++++++++++++++++++++++++++++++++++++++++++++++++++++++++++\n"
     ]
    },
    {
     "name": "stderr",
     "output_type": "stream",
     "text": [
      "7634it [00:00, 12433.22it/s]\n"
     ]
    },
    {
     "name": "stdout",
     "output_type": "stream",
     "text": [
      "Start multiprocessing chromosome chr13.\n",
      "Finish processing chromosome chr13.\n",
      "00:01:07.37\n",
      "Finish saving chromosome chr13.\n",
      "+++++++++++++++++++++++++++++++++++++++++++++++++++++++++++++++++++++++++++\n"
     ]
    },
    {
     "name": "stderr",
     "output_type": "stream",
     "text": [
      "7472it [00:00, 12927.34it/s]\n"
     ]
    },
    {
     "name": "stdout",
     "output_type": "stream",
     "text": [
      "Start multiprocessing chromosome chr14.\n",
      "Finish processing chromosome chr14.\n",
      "00:01:05.57\n",
      "Finish saving chromosome chr14.\n",
      "+++++++++++++++++++++++++++++++++++++++++++++++++++++++++++++++++++++++++++\n"
     ]
    },
    {
     "name": "stderr",
     "output_type": "stream",
     "text": [
      "7625it [00:00, 19908.57it/s]\n"
     ]
    },
    {
     "name": "stdout",
     "output_type": "stream",
     "text": [
      "Start multiprocessing chromosome chr15.\n",
      "Finish processing chromosome chr15.\n",
      "00:01:01.82\n",
      "Finish saving chromosome chr15.\n",
      "+++++++++++++++++++++++++++++++++++++++++++++++++++++++++++++++++++++++++++\n"
     ]
    },
    {
     "name": "stderr",
     "output_type": "stream",
     "text": [
      "7441it [00:00, 12548.04it/s]\n"
     ]
    },
    {
     "name": "stdout",
     "output_type": "stream",
     "text": [
      "Start multiprocessing chromosome chr16.\n",
      "Finish processing chromosome chr16.\n",
      "00:00:55.10\n",
      "Finish saving chromosome chr16.\n",
      "+++++++++++++++++++++++++++++++++++++++++++++++++++++++++++++++++++++++++++\n"
     ]
    },
    {
     "name": "stderr",
     "output_type": "stream",
     "text": [
      "7223it [00:00, 21887.93it/s]\n"
     ]
    },
    {
     "name": "stdout",
     "output_type": "stream",
     "text": [
      "Start multiprocessing chromosome chr17.\n",
      "Finish processing chromosome chr17.\n",
      "00:00:42.44\n",
      "Finish saving chromosome chr17.\n",
      "+++++++++++++++++++++++++++++++++++++++++++++++++++++++++++++++++++++++++++\n"
     ]
    },
    {
     "name": "stderr",
     "output_type": "stream",
     "text": [
      "7728it [00:00, 21114.68it/s]\n"
     ]
    },
    {
     "name": "stdout",
     "output_type": "stream",
     "text": [
      "Start multiprocessing chromosome chr18.\n",
      "Finish processing chromosome chr18.\n",
      "00:00:48.74\n",
      "Finish saving chromosome chr18.\n",
      "+++++++++++++++++++++++++++++++++++++++++++++++++++++++++++++++++++++++++++\n"
     ]
    },
    {
     "name": "stderr",
     "output_type": "stream",
     "text": [
      "7470it [00:00, 13105.24it/s]\n"
     ]
    },
    {
     "name": "stdout",
     "output_type": "stream",
     "text": [
      "Start multiprocessing chromosome chr19.\n",
      "Finish processing chromosome chr19.\n",
      "00:00:41.23\n",
      "Finish saving chromosome chr19.\n",
      "+++++++++++++++++++++++++++++++++++++++++++++++++++++++++++++++++++++++++++\n"
     ]
    },
    {
     "name": "stderr",
     "output_type": "stream",
     "text": [
      "7444it [00:00, 11631.24it/s]\n"
     ]
    },
    {
     "name": "stdout",
     "output_type": "stream",
     "text": [
      "Start multiprocessing chromosome chr2.\n",
      "Finish processing chromosome chr2.\n",
      "00:02:41.18\n",
      "Finish saving chromosome chr2.\n",
      "+++++++++++++++++++++++++++++++++++++++++++++++++++++++++++++++++++++++++++\n"
     ]
    },
    {
     "name": "stderr",
     "output_type": "stream",
     "text": [
      "7853it [00:00, 18348.12it/s]\n"
     ]
    },
    {
     "name": "stdout",
     "output_type": "stream",
     "text": [
      "Start multiprocessing chromosome chr3.\n",
      "Finish processing chromosome chr3.\n",
      "00:01:43.77\n",
      "Finish saving chromosome chr3.\n",
      "+++++++++++++++++++++++++++++++++++++++++++++++++++++++++++++++++++++++++++\n"
     ]
    },
    {
     "name": "stderr",
     "output_type": "stream",
     "text": [
      "8197it [00:00, 16493.00it/s]\n"
     ]
    },
    {
     "name": "stdout",
     "output_type": "stream",
     "text": [
      "Start multiprocessing chromosome chr4.\n",
      "Finish processing chromosome chr4.\n",
      "00:02:31.97\n",
      "Finish saving chromosome chr4.\n",
      "+++++++++++++++++++++++++++++++++++++++++++++++++++++++++++++++++++++++++++\n"
     ]
    },
    {
     "name": "stderr",
     "output_type": "stream",
     "text": [
      "7768it [00:00, 8787.32it/s] \n"
     ]
    },
    {
     "name": "stdout",
     "output_type": "stream",
     "text": [
      "Start multiprocessing chromosome chr5.\n",
      "Finish processing chromosome chr5.\n",
      "00:01:58.86\n",
      "Finish saving chromosome chr5.\n",
      "+++++++++++++++++++++++++++++++++++++++++++++++++++++++++++++++++++++++++++\n"
     ]
    },
    {
     "name": "stderr",
     "output_type": "stream",
     "text": [
      "7701it [00:00, 17662.85it/s]\n"
     ]
    },
    {
     "name": "stdout",
     "output_type": "stream",
     "text": [
      "Start multiprocessing chromosome chr6.\n",
      "Finish processing chromosome chr6.\n",
      "00:01:39.98\n",
      "Finish saving chromosome chr6.\n",
      "+++++++++++++++++++++++++++++++++++++++++++++++++++++++++++++++++++++++++++\n"
     ]
    },
    {
     "name": "stderr",
     "output_type": "stream",
     "text": [
      "7483it [00:00, 11252.63it/s]\n"
     ]
    },
    {
     "name": "stdout",
     "output_type": "stream",
     "text": [
      "Start multiprocessing chromosome chr7.\n",
      "Finish processing chromosome chr7.\n",
      "00:01:13.96\n",
      "Finish saving chromosome chr7.\n",
      "+++++++++++++++++++++++++++++++++++++++++++++++++++++++++++++++++++++++++++\n"
     ]
    },
    {
     "name": "stderr",
     "output_type": "stream",
     "text": [
      "7686it [00:00, 18700.84it/s]\n"
     ]
    },
    {
     "name": "stdout",
     "output_type": "stream",
     "text": [
      "Start multiprocessing chromosome chr8.\n",
      "Finish processing chromosome chr8.\n",
      "00:01:22.89\n",
      "Finish saving chromosome chr8.\n",
      "+++++++++++++++++++++++++++++++++++++++++++++++++++++++++++++++++++++++++++\n"
     ]
    },
    {
     "name": "stderr",
     "output_type": "stream",
     "text": [
      "7293it [00:00, 12839.78it/s]\n"
     ]
    },
    {
     "name": "stdout",
     "output_type": "stream",
     "text": [
      "Start multiprocessing chromosome chr9.\n",
      "Finish processing chromosome chr9.\n",
      "00:01:15.84\n",
      "Finish saving chromosome chr9.\n",
      "+++++++++++++++++++++++++++++++++++++++++++++++++++++++++++++++++++++++++++\n"
     ]
    },
    {
     "name": "stderr",
     "output_type": "stream",
     "text": [
      "7482it [00:00, 22267.81it/s]\n"
     ]
    },
    {
     "name": "stdout",
     "output_type": "stream",
     "text": [
      "Start multiprocessing chromosome chrX.\n",
      "Finish processing chromosome chrX.\n",
      "00:00:41.30\n",
      "Finish saving chromosome chrX.\n",
      "+++++++++++++++++++++++++++++++++++++++++++++++++++++++++++++++++++++++++++\n"
     ]
    }
   ],
   "source": [
    "dna_exp_key= '20230316'\n",
    "\n",
    "# output dict for filename, file\n",
    "output_df_dict = {}\n",
    "\n",
    "exp_picked_spot_folder = [_f for _f in picked_spot_folders if dna_exp_key in _f][0]\n",
    "\n",
    "if os.path.exists(exp_picked_spot_folder):\n",
    "    file_list = [os.path.join(exp_picked_spot_folder, _fl) for _fl in os.listdir(exp_picked_spot_folder) if '.h5' in _fl]\n",
    "    for file in file_list:\n",
    "        output_df_dict[os.path.basename(file)]=pd.read_hdf(file)\n",
    "        \n",
    "# define output folder\n",
    "output_folder = exp_picked_spot_folder.replace(para_subfolder, f'{para_subfolder}_sorted')\n",
    "if not os.path.exists(output_folder):\n",
    "    os.mkdir(output_folder)\n",
    "    print ('Generating output folders')\n",
    "    \n",
    "# loop through all chr h5-df    \n",
    "for fname, chr_df_all in output_df_dict.items():\n",
    "    \n",
    "    output_fname = os.path.join(output_folder, fname)\n",
    "    chosen_chrom = chr_df_all['chr'].values[0]\n",
    "    \n",
    "    chr_df_cell_list = []\n",
    "    # group by celltype, finalcellD\n",
    "    for i, (name, group) in tqdm.tqdm(enumerate(chr_df_all.groupby(by=['celltype','finalcellID']))):\n",
    "        chr_df_cell = copy.deepcopy(group)\n",
    "        chr_df_cell_list.append(chr_df_cell)\n",
    "        \n",
    "    del chr_df_all\n",
    "    print(f'Start multiprocessing chromosome {chosen_chrom}.')\n",
    "    start_time = time.time()\n",
    "    with mp.Pool(num_threads) as sort_pool:\n",
    "        _res = sort_pool.starmap(aligner.sort_spots_by_fiber_density, zip(chr_df_cell_list), chunksize=1)\n",
    "        sort_pool.close()\n",
    "        sort_pool.join()\n",
    "        sort_pool.terminate()\n",
    "\n",
    "    elapsed_time = time.time() - start_time\n",
    "    print(f'Finish processing chromosome {chosen_chrom}.')\n",
    "    hours, rem = divmod(elapsed_time, 3600)\n",
    "    minutes, seconds = divmod(rem, 60)\n",
    "    print(\"{:0>2}:{:0>2}:{:05.2f}\".format(int(hours),int(minutes),seconds))\n",
    "    \n",
    "    sorted_chr_df_all = pd.concat(_res)\n",
    "    sorted_chr_df_all.to_hdf(output_fname, key='df', mode='w')\n",
    "    #del(sorted_chr_df_all)\n",
    "    print(f'Finish saving chromosome {chosen_chrom}.')\n",
    "    print(f'+++++++++++++++++++++++++++++++++++++++++++++++++++++++++++++++++++++++++++')\n",
    "    \n"
   ]
  },
  {
   "cell_type": "code",
   "execution_count": null,
   "id": "0184407a",
   "metadata": {},
   "outputs": [],
   "source": []
  }
 ],
 "metadata": {
  "kernelspec": {
   "display_name": "Python 3 (ipykernel)",
   "language": "python",
   "name": "python3"
  },
  "language_info": {
   "codemirror_mode": {
    "name": "ipython",
    "version": 3
   },
   "file_extension": ".py",
   "mimetype": "text/x-python",
   "name": "python",
   "nbconvert_exporter": "python",
   "pygments_lexer": "ipython3",
   "version": "3.9.12"
  },
  "toc": {
   "base_numbering": 1,
   "nav_menu": {},
   "number_sections": false,
   "sideBar": true,
   "skip_h1_title": false,
   "title_cell": "Table of Contents",
   "title_sidebar": "Contents",
   "toc_cell": false,
   "toc_position": {},
   "toc_section_display": true,
   "toc_window_display": true
  }
 },
 "nbformat": 4,
 "nbformat_minor": 5
}
