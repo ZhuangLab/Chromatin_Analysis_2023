{
 "cells": [
  {
   "cell_type": "code",
   "execution_count": 1,
   "id": "2a57fbfa",
   "metadata": {},
   "outputs": [
    {
     "name": "stdout",
     "output_type": "stream",
     "text": [
      "2052\n"
     ]
    }
   ],
   "source": [
    "# Need to install ImageAnalysis3 and run the appropriate Startup_py3.py\n",
    "%run \"C:\\Users\\cosmosyw\\Documents\\Softwares\\ImageAnalysis3\\required_files\\Startup_py3.py\"\n",
    "# append path to import ImageAnalysis3\n",
    "sys.path.append(r\"C:\\Users\\cosmosyw\\Documents\\Softwares\")\n",
    "\n",
    "import ImageAnalysis3 as ia\n",
    "%matplotlib notebook\n",
    "\n",
    "from ImageAnalysis3 import *\n",
    "print(os.getpid())\n",
    "\n",
    "import h5py\n",
    "from ImageAnalysis3.classes import _allowed_kwds\n",
    "import ast\n",
    "\n",
    "import pandas as pd"
   ]
  },
  {
   "cell_type": "markdown",
   "id": "48b10320",
   "metadata": {},
   "source": [
    "# Define basic parameters"
   ]
  },
  {
   "cell_type": "code",
   "execution_count": 3,
   "id": "bcf208f0",
   "metadata": {},
   "outputs": [
    {
     "data": {
      "text/plain": [
       "'E:\\\\DNA_analysis\\\\Postanalysis_MeCP2'"
      ]
     },
     "execution_count": 3,
     "metadata": {},
     "output_type": "execute_result"
    }
   ],
   "source": [
    "postanalysis_folder = r'E:\\DNA_analysis\\Postanalysis_MeCP2'\n",
    "if not os.path.exists(postanalysis_folder):\n",
    "    os.mkdir(postanalysis_folder)\n",
    "postanalysis_folder"
   ]
  },
  {
   "cell_type": "code",
   "execution_count": 4,
   "id": "4fa9398e",
   "metadata": {},
   "outputs": [],
   "source": [
    "# Required plotting setting\n",
    "import matplotlib\n",
    "matplotlib.rcParams['pdf.fonttype'] = 42\n",
    "import matplotlib.pyplot as plt\n",
    "plt.rc('font', family='serif')\n",
    "plt.rc('font', serif='Arial')\n",
    "\n",
    "from ImageAnalysis3.figure_tools import _double_col_width, _single_col_width, _font_size, _ticklabel_size,_ticklabel_width\n",
    "\n",
    "import seaborn as sns\n",
    "sns.set_context(\"paper\", rc={\"font.size\":_font_size,\"axes.titlesize\":_font_size+1,\"axes.labelsize\":_font_size})   "
   ]
  },
  {
   "cell_type": "markdown",
   "id": "8f0fea04",
   "metadata": {},
   "source": [
    "# Load data"
   ]
  },
  {
   "cell_type": "code",
   "execution_count": 5,
   "id": "1862e5df",
   "metadata": {},
   "outputs": [],
   "source": [
    "####################################### Input folders ##################################\n",
    "picked_spot_folders = [r'E:\\DNA_analysis\\20220729_Mecp2_0724_DNA\\Analysis_0507\\Picked\\CW_v3_sorted',\n",
    "                      r'E:\\DNA_analysis\\20220819_Mecp2_DNA_from_0809\\Analysis_0508\\Picked\\CW_v3_sorted',\n",
    "                      r'E:\\DNA_analysis\\20230119_Ma_1027_DNA\\Analysis_0505\\Picked\\CW_v3_sorted',\n",
    "                      r'E:\\DNA_analysis\\20230316_Mb_1103_DNA\\Analysis_0506\\Picked\\CW_v3_sorted']"
   ]
  },
  {
   "cell_type": "code",
   "execution_count": 6,
   "id": "ecab225e",
   "metadata": {},
   "outputs": [],
   "source": [
    "import pandas as pd\n",
    "output_df_list = []\n",
    "\n",
    "for picked_spot_folder in picked_spot_folders:\n",
    "    if os.path.exists(picked_spot_folder):\n",
    "        file_list = [os.path.join(picked_spot_folder, _fl) for _fl in os.listdir(picked_spot_folder) if '.h5' in _fl]\n",
    "        df_exp_list = []\n",
    "        for file in file_list:\n",
    "            df_exp_list.append(pd.read_hdf(file))\n",
    "        if len(df_exp_list)>0:\n",
    "            df_exp = pd.concat(df_exp_list)\n",
    "            del(df_exp_list)\n",
    "        else:\n",
    "            df_exp = None\n",
    "    else:\n",
    "        df_exp = None\n",
    "\n",
    "    output_df_list.append(df_exp)"
   ]
  },
  {
   "cell_type": "code",
   "execution_count": 7,
   "id": "202bdfa9",
   "metadata": {},
   "outputs": [
    {
     "name": "stdout",
     "output_type": "stream",
     "text": [
      "6533\n",
      "13585\n",
      "12226\n",
      "11401\n"
     ]
    }
   ],
   "source": [
    "for df_exp in output_df_list:\n",
    "    if not isinstance(df_exp, type(None)):\n",
    "        print(len(np.unique(df_exp['finalcellID'])))\n",
    "    else:\n",
    "        print(0)"
   ]
  },
  {
   "cell_type": "markdown",
   "id": "16dfb1c0",
   "metadata": {},
   "source": [
    "## Load positions"
   ]
  },
  {
   "cell_type": "code",
   "execution_count": 8,
   "id": "2f0b0c9f",
   "metadata": {},
   "outputs": [],
   "source": [
    "# positions\n",
    "# modify with global coordinates\n",
    "position_filenames = [\n",
    "    r\"\\\\KOLMOGOROV\\Chromatin_NAS_8\\20220729_Mecp2_0724_DNA\\Alignment\\adjusted_translated_positions_all.txt\",\n",
    "    r\"\\\\KOLMOGOROV\\Chromatin_NAS_7\\20220819_Mecp2_DNA_from_0809\\Alignment\\adjusted_translated_positions_all.txt\",\n",
    "    r\"V:\\20230119_Ma_1027_DNA\\Alignment\\adjusted_translated_positions_all.txt\",\n",
    "    r\"U:\\20230316_Mb_1103_DNA\\Alignment\\adjusted_translated_positions_all.txt\"\n",
    "]\n",
    "positions_list = [np.loadtxt(_fl, delimiter=',') for _fl in position_filenames]"
   ]
  },
  {
   "cell_type": "markdown",
   "id": "e34337d3",
   "metadata": {},
   "source": [
    "## Load MERFISH"
   ]
  },
  {
   "cell_type": "code",
   "execution_count": 9,
   "id": "d6b591b5",
   "metadata": {},
   "outputs": [
    {
     "name": "stdout",
     "output_type": "stream",
     "text": [
      "['0722' '0724' '0808' '0809' '1027' '1029' '1101' '1103' '1105' '1107']\n"
     ]
    },
    {
     "data": {
      "text/plain": [
       "AnnData object with n_obs × n_vars = 152286 × 242\n",
       "    obs: 'fov', 'volume', 'center_x', 'center_y', 'min_x', 'max_x', 'min_y', 'max_y', 'experiment', 'mouse', 'age', 'n_genes_by_counts', 'total_counts', 'subclass'\n",
       "    var: 'n_cells_by_counts', 'mean_counts', 'pct_dropout_by_counts', 'total_counts'"
      ]
     },
     "execution_count": 9,
     "metadata": {},
     "output_type": "execute_result"
    }
   ],
   "source": [
    "import seaborn as sns\n",
    "import anndata\n",
    "import scanpy as sc\n",
    "\n",
    "adata_ori = sc.read(r\"C:\\Users\\cosmosyw\\Documents\\Research\\Mecp2_v2\\results\\adata\\MeCP2_preprocessed_adata_labeled.h5ad\")\n",
    "\n",
    "print(np.unique(adata_ori.obs['experiment']))\n",
    "\n",
    "adata_ori"
   ]
  },
  {
   "cell_type": "markdown",
   "id": "feeac401",
   "metadata": {},
   "source": [
    "## load codebook and RNA experiments"
   ]
  },
  {
   "cell_type": "code",
   "execution_count": 11,
   "id": "281ee7a2",
   "metadata": {},
   "outputs": [],
   "source": [
    "rna_exp_names = ['20220724', '20220809', '20221027', '20221103']\n",
    "\n",
    "codebook = pd.read_csv(r'\\\\10.245.74.158\\Chromatin_NAS_8\\Exported_data\\20220713-Export\\merged_codebook.csv')"
   ]
  },
  {
   "cell_type": "markdown",
   "id": "be9d8f92",
   "metadata": {},
   "source": [
    "# Process"
   ]
  },
  {
   "cell_type": "code",
   "execution_count": 12,
   "id": "e3cdd385",
   "metadata": {},
   "outputs": [],
   "source": [
    "def find_num_fiber(chrom, dict_numFiber):\n",
    "    return dict_numFiber[chrom]"
   ]
  },
  {
   "cell_type": "code",
   "execution_count": 13,
   "id": "60882fb4",
   "metadata": {},
   "outputs": [
    {
     "data": {
      "text/html": [
       "<div>\n",
       "<style scoped>\n",
       "    .dataframe tbody tr th:only-of-type {\n",
       "        vertical-align: middle;\n",
       "    }\n",
       "\n",
       "    .dataframe tbody tr th {\n",
       "        vertical-align: top;\n",
       "    }\n",
       "\n",
       "    .dataframe thead th {\n",
       "        text-align: right;\n",
       "    }\n",
       "</style>\n",
       "<table border=\"1\" class=\"dataframe\">\n",
       "  <thead>\n",
       "    <tr style=\"text-align: right;\">\n",
       "      <th></th>\n",
       "      <th>replicate</th>\n",
       "      <th>FOV</th>\n",
       "      <th>orig_cellID</th>\n",
       "      <th>finalcellID</th>\n",
       "      <th>celltype</th>\n",
       "      <th>chr</th>\n",
       "      <th>hyb</th>\n",
       "      <th>region_name</th>\n",
       "      <th>x_hat</th>\n",
       "      <th>y_hat</th>\n",
       "      <th>z_hat</th>\n",
       "      <th>sig_x</th>\n",
       "      <th>sig_y</th>\n",
       "      <th>sig_z</th>\n",
       "      <th>rowID</th>\n",
       "      <th>MeCP2_genotype</th>\n",
       "      <th>fiberidx</th>\n",
       "      <th>fiberidx_jie</th>\n",
       "    </tr>\n",
       "  </thead>\n",
       "  <tbody>\n",
       "    <tr>\n",
       "      <th>0</th>\n",
       "      <td>20230316</td>\n",
       "      <td>79</td>\n",
       "      <td>Cell-52</td>\n",
       "      <td>101633580033275824559292502096896637772</td>\n",
       "      <td>Astro</td>\n",
       "      <td>chr1</td>\n",
       "      <td>0</td>\n",
       "      <td>1:3742742-3759944</td>\n",
       "      <td>1867.133900</td>\n",
       "      <td>1823.953967</td>\n",
       "      <td>43.565996</td>\n",
       "      <td>1</td>\n",
       "      <td>1</td>\n",
       "      <td>1</td>\n",
       "      <td>37129023</td>\n",
       "      <td>KO</td>\n",
       "      <td>1</td>\n",
       "      <td>1</td>\n",
       "    </tr>\n",
       "    <tr>\n",
       "      <th>5</th>\n",
       "      <td>20230316</td>\n",
       "      <td>79</td>\n",
       "      <td>Cell-52</td>\n",
       "      <td>101633580033275824559292502096896637772</td>\n",
       "      <td>Astro</td>\n",
       "      <td>chr1</td>\n",
       "      <td>3</td>\n",
       "      <td>1:9627926-9637875</td>\n",
       "      <td>1868.439100</td>\n",
       "      <td>1817.994000</td>\n",
       "      <td>41.672197</td>\n",
       "      <td>1</td>\n",
       "      <td>1</td>\n",
       "      <td>1</td>\n",
       "      <td>37130859</td>\n",
       "      <td>KO</td>\n",
       "      <td>1</td>\n",
       "      <td>1</td>\n",
       "    </tr>\n",
       "    <tr>\n",
       "      <th>9</th>\n",
       "      <td>20230316</td>\n",
       "      <td>79</td>\n",
       "      <td>Cell-52</td>\n",
       "      <td>101633580033275824559292502096896637772</td>\n",
       "      <td>Astro</td>\n",
       "      <td>chr1</td>\n",
       "      <td>7</td>\n",
       "      <td>1:16251322-16259969</td>\n",
       "      <td>1874.925550</td>\n",
       "      <td>1814.860950</td>\n",
       "      <td>37.123715</td>\n",
       "      <td>1</td>\n",
       "      <td>1</td>\n",
       "      <td>1</td>\n",
       "      <td>37129597</td>\n",
       "      <td>KO</td>\n",
       "      <td>1</td>\n",
       "      <td>1</td>\n",
       "    </tr>\n",
       "    <tr>\n",
       "      <th>12</th>\n",
       "      <td>20230316</td>\n",
       "      <td>79</td>\n",
       "      <td>Cell-52</td>\n",
       "      <td>101633580033275824559292502096896637772</td>\n",
       "      <td>Astro</td>\n",
       "      <td>chr1</td>\n",
       "      <td>8</td>\n",
       "      <td>1:18749330-18759924</td>\n",
       "      <td>1872.577050</td>\n",
       "      <td>1812.007600</td>\n",
       "      <td>46.780062</td>\n",
       "      <td>1</td>\n",
       "      <td>1</td>\n",
       "      <td>1</td>\n",
       "      <td>37130183</td>\n",
       "      <td>KO</td>\n",
       "      <td>1</td>\n",
       "      <td>1</td>\n",
       "    </tr>\n",
       "    <tr>\n",
       "      <th>17</th>\n",
       "      <td>20230316</td>\n",
       "      <td>79</td>\n",
       "      <td>Cell-52</td>\n",
       "      <td>101633580033275824559292502096896637772</td>\n",
       "      <td>Astro</td>\n",
       "      <td>chr1</td>\n",
       "      <td>12</td>\n",
       "      <td>1:21732182-21745770</td>\n",
       "      <td>1870.705967</td>\n",
       "      <td>1817.273333</td>\n",
       "      <td>41.468809</td>\n",
       "      <td>1</td>\n",
       "      <td>1</td>\n",
       "      <td>1</td>\n",
       "      <td>37130756</td>\n",
       "      <td>KO</td>\n",
       "      <td>1</td>\n",
       "      <td>1</td>\n",
       "    </tr>\n",
       "  </tbody>\n",
       "</table>\n",
       "</div>"
      ],
      "text/plain": [
       "    replicate  FOV orig_cellID                              finalcellID  \\\n",
       "0    20230316   79     Cell-52  101633580033275824559292502096896637772   \n",
       "5    20230316   79     Cell-52  101633580033275824559292502096896637772   \n",
       "9    20230316   79     Cell-52  101633580033275824559292502096896637772   \n",
       "12   20230316   79     Cell-52  101633580033275824559292502096896637772   \n",
       "17   20230316   79     Cell-52  101633580033275824559292502096896637772   \n",
       "\n",
       "   celltype   chr  hyb          region_name        x_hat        y_hat  \\\n",
       "0     Astro  chr1    0    1:3742742-3759944  1867.133900  1823.953967   \n",
       "5     Astro  chr1    3    1:9627926-9637875  1868.439100  1817.994000   \n",
       "9     Astro  chr1    7  1:16251322-16259969  1874.925550  1814.860950   \n",
       "12    Astro  chr1    8  1:18749330-18759924  1872.577050  1812.007600   \n",
       "17    Astro  chr1   12  1:21732182-21745770  1870.705967  1817.273333   \n",
       "\n",
       "        z_hat  sig_x  sig_y  sig_z     rowID MeCP2_genotype  fiberidx  \\\n",
       "0   43.565996      1      1      1  37129023             KO         1   \n",
       "5   41.672197      1      1      1  37130859             KO         1   \n",
       "9   37.123715      1      1      1  37129597             KO         1   \n",
       "12  46.780062      1      1      1  37130183             KO         1   \n",
       "17  41.468809      1      1      1  37130756             KO         1   \n",
       "\n",
       "    fiberidx_jie  \n",
       "0              1  \n",
       "5              1  \n",
       "9              1  \n",
       "12             1  \n",
       "17             1  "
      ]
     },
     "execution_count": 13,
     "metadata": {},
     "output_type": "execute_result"
    }
   ],
   "source": [
    "df_exp.head()"
   ]
  },
  {
   "cell_type": "code",
   "execution_count": 14,
   "id": "3821c6c4",
   "metadata": {},
   "outputs": [
    {
     "name": "stderr",
     "output_type": "stream",
     "text": [
      "100%|████████████████████████████████████████████████████████████████████████████████| 146/146 [01:04<00:00,  2.25it/s]\n",
      "100%|████████████████████████████████████████████████████████████████████████████████| 241/241 [03:24<00:00,  1.18it/s]\n",
      "100%|████████████████████████████████████████████████████████████████████████████████| 196/196 [01:22<00:00,  2.37it/s]\n",
      "100%|████████████████████████████████████████████████████████████████████████████████| 200/200 [01:35<00:00,  2.10it/s]\n"
     ]
    },
    {
     "name": "stdout",
     "output_type": "stream",
     "text": [
      "Saving: E:\\DNA_analysis\\Postanalysis_MeCP2\\CellDfList_test.pkl\n",
      "43745\n"
     ]
    }
   ],
   "source": [
    "# save \n",
    "from tqdm import tqdm\n",
    "cellDf_filename = os.path.join(postanalysis_folder, 'CellDfList_test.pkl')\n",
    "\n",
    "pixel_size = 108\n",
    "cellType_labelName = 'subclass_label_new'\n",
    "#cellType_labelName ='subclass_manual_label'\n",
    "\n",
    "if os.path.exists(cellDf_filename):\n",
    "    print(f\"Directly load cell_dfs\")\n",
    "    cell_dfs = pickle.load(open(cellDf_filename, 'rb'))\n",
    "else:\n",
    "    missed_cell = []\n",
    "    cell_dfs = []\n",
    "    for _exp_ind, (_exp, _positions, _df) in enumerate(zip(rna_exp_names,positions_list, output_df_list)):\n",
    "        \n",
    "        if not isinstance(_df, type(None)):\n",
    "            \n",
    "            _fovs = np.unique(_df['FOV'])\n",
    "            for _fov in tqdm(_fovs):\n",
    "                _fov_df = _df[_df['FOV']==_fov].copy()\n",
    "                # convert to micron\n",
    "                _fov_df[['z_um','x_um','y_um']] = _fov_df[['z_hat','x_hat','y_hat']] * pixel_size / 1000\n",
    "                # convert to global\n",
    "                _fov_df[['x_um','y_um']] = _fov_df[['x_um','y_um']] + np.flipud(_positions[int(_fov)])\n",
    "                # loop through cells to re-assign cell type\n",
    "                _fov_df['rna_experiment'] = _exp\n",
    "               \n",
    "                # load cell\n",
    "                for _cell_name in np.unique(_fov_df['orig_cellID']):\n",
    "\n",
    "                    _cell_df = _fov_df[_fov_df['orig_cellID']==_cell_name].copy()\n",
    "                    _cell = _cell_name.split('Cell-')[1]\n",
    "                    _cell_df['cell_id'] = _cell\n",
    "                    \n",
    "\n",
    "                    _cell_df.rename({'finalcellID':'uid',\n",
    "                                     'FOV':'fov_id', \n",
    "                                     #'orig_cellID':'cell_id', \n",
    "                                     'celltype':'subclass'}, inplace=True, axis=1)\n",
    "\n",
    "                    dict_chrFiber_num = {}\n",
    "                    for chrom, df_fiber in _cell_df.groupby('chr'):\n",
    "                        dict_chrFiber_num [chrom] = np.max(df_fiber.fiberidx.values)\n",
    "                    _cell_df['numfiber'] = _cell_df.apply(lambda x:find_num_fiber(x['chr'], dict_chrFiber_num), axis=1)\n",
    "\n",
    "                    cell_dfs.append(_cell_df)\n",
    "                    \n",
    "    # save\n",
    "    print(f\"Saving: {cellDf_filename}\")\n",
    "    pickle.dump(cell_dfs, open(cellDf_filename, 'wb'))\n",
    "    \n",
    "print(len(cell_dfs))"
   ]
  },
  {
   "cell_type": "code",
   "execution_count": 15,
   "id": "85e34140",
   "metadata": {},
   "outputs": [],
   "source": [
    "sel_cols = ['rna_experiment', 'uid', 'fov_id', 'cell_id', 'subclass',\n",
    "            'chr', 'hyb', 'fiberidx', 'numfiber', 'MeCP2_genotype',\n",
    "            'z_um', 'x_um', 'y_um']\n",
    "sel_merged_df = pd.concat([_df[sel_cols] for _df in cell_dfs])"
   ]
  },
  {
   "cell_type": "code",
   "execution_count": 16,
   "id": "0bcc39db",
   "metadata": {},
   "outputs": [],
   "source": [
    "sel_merged_filename = os.path.join(postanalysis_folder, 'selected_all_cells.csv')\n",
    "if not os.path.exists(sel_merged_filename):\n",
    "    sel_merged_df.to_csv(sel_merged_filename, index=False)"
   ]
  },
  {
   "cell_type": "markdown",
   "id": "9d6a1428",
   "metadata": {},
   "source": [
    "# convert into chr_2_zxys_list "
   ]
  },
  {
   "cell_type": "code",
   "execution_count": 17,
   "id": "e5343fbe",
   "metadata": {},
   "outputs": [],
   "source": [
    "chr2Zxys_filename = os.path.join(postanalysis_folder, 'all_chr2Zxys.pkl')\n",
    "\n",
    "cellInfo_filename = os.path.join(postanalysis_folder, 'all_cellInfo.pkl')\n",
    "\n",
    "if os.path.exists(chr2Zxys_filename):\n",
    "    print(f\"Loading: {chr2Zxys_filename}\")\n",
    "    chr2ZxysList = pickle.load(open(chr2Zxys_filename, 'rb'))\n",
    "if os.path.exists(cellInfo_filename):\n",
    "    print(f\"Loading: {cellInfo_filename}\")\n",
    "    cellInfoList = pickle.load(open(cellInfo_filename, 'rb'))"
   ]
  },
  {
   "cell_type": "code",
   "execution_count": 18,
   "id": "64cd653e",
   "metadata": {},
   "outputs": [
    {
     "name": "stdout",
     "output_type": "stream",
     "text": [
      "43745\n"
     ]
    }
   ],
   "source": [
    "import multiprocessing as mp\n",
    "from ImageAnalysis3.io_tools.aligner import spAligner_2_chr2homologList\n",
    "print(len(cell_dfs))\n",
    "parallel = True"
   ]
  },
  {
   "cell_type": "code",
   "execution_count": 19,
   "id": "6f6fd446",
   "metadata": {},
   "outputs": [
    {
     "name": "stdout",
     "output_type": "stream",
     "text": [
      "Saving: E:\\DNA_analysis\\Postanalysis_MeCP2\\all_chr2Zxys.pkl\n",
      "Saving: E:\\DNA_analysis\\Postanalysis_MeCP2\\all_cellInfo.pkl\n"
     ]
    }
   ],
   "source": [
    "if parallel:\n",
    "    num_threads = 16\n",
    "    with mp.Pool(num_threads) as aligner_pool:\n",
    "        align_results = aligner_pool.starmap(spAligner_2_chr2homologList, [(_cell_df, codebook) for _cell_df in cell_dfs])\n",
    "        aligner_pool.close()\n",
    "        aligner_pool.join()\n",
    "        aligner_pool.terminate()\n",
    "    len(align_results)\n",
    "    chr2ZxysList = [_r[0] for _r in align_results]\n",
    "    cellInfoList = [_r[1] for _r in align_results]\n",
    "else:\n",
    "    # sequential version\n",
    "    chr2ZxysList = []\n",
    "    cellInfoList = []\n",
    "\n",
    "    for _cell_df in tqdm(cell_dfs):\n",
    "        _sel_cell_df = _cell_df[sel_cols]\n",
    "        chr_2_zxys, info_dict = spAligner_2_chr2homologList(_sel_cell_df, codebook)\n",
    "        chr2ZxysList.append(chr_2_zxys)\n",
    "        cellInfoList.append(info_dict)\n",
    "\n",
    "if not os.path.exists(chr2Zxys_filename):\n",
    "    print(f\"Saving: {chr2Zxys_filename}\")\n",
    "    pickle.dump(chr2ZxysList, open(chr2Zxys_filename, 'wb'))\n",
    "\n",
    "if not os.path.exists(cellInfo_filename):\n",
    "    print(f\"Saving: {cellInfo_filename}\")\n",
    "    pickle.dump(cellInfoList, open(cellInfo_filename, 'wb'))"
   ]
  },
  {
   "cell_type": "code",
   "execution_count": 20,
   "id": "4ef7ac7e",
   "metadata": {},
   "outputs": [
    {
     "data": {
      "text/plain": [
       "{'rna_experiment': '20220724',\n",
       " 'fov_id': 3,\n",
       " 'cell_id': '100',\n",
       " 'subclass': 'Oligo',\n",
       " 'uid': '315504059834584005882116425750755973090',\n",
       " 'MeCP2_genotype': 'WT'}"
      ]
     },
     "execution_count": 20,
     "metadata": {},
     "output_type": "execute_result"
    }
   ],
   "source": [
    "cellInfoList[0]"
   ]
  },
  {
   "cell_type": "code",
   "execution_count": null,
   "id": "6fde8194",
   "metadata": {},
   "outputs": [],
   "source": []
  }
 ],
 "metadata": {
  "kernelspec": {
   "display_name": "merlin_postanalysis",
   "language": "python",
   "name": "merlin_postanalysis"
  },
  "language_info": {
   "codemirror_mode": {
    "name": "ipython",
    "version": 3
   },
   "file_extension": ".py",
   "mimetype": "text/x-python",
   "name": "python",
   "nbconvert_exporter": "python",
   "pygments_lexer": "ipython3",
   "version": "3.9.12"
  }
 },
 "nbformat": 4,
 "nbformat_minor": 5
}
